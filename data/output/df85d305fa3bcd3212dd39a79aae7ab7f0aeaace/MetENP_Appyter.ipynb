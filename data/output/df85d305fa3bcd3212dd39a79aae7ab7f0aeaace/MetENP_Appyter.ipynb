{
 "cells": [
  {
   "cell_type": "code",
   "execution_count": 1,
   "id": "liquid-timber",
   "metadata": {
    "execution": {
     "iopub.execute_input": "2021-02-11T23:29:41.572444Z",
     "iopub.status.busy": "2021-02-11T23:29:41.570159Z",
     "iopub.status.idle": "2021-02-11T23:29:45.653968Z",
     "shell.execute_reply": "2021-02-11T23:29:45.655261Z"
    }
   },
   "outputs": [
    {
     "name": "stdout",
     "output_type": "stream",
     "text": [
      "3.4.2\n"
     ]
    },
    {
     "data": {
      "text/html": [
       "\n",
       "        <span>StrVector with 9 elements.</span>\n",
       "        <table>\n",
       "        <tbody>\n",
       "          <tr>\n",
       "          \n",
       "            <td>\n",
       "            'MetENP'\n",
       "            </td>\n",
       "          \n",
       "            <td>\n",
       "            'tools'\n",
       "            </td>\n",
       "          \n",
       "            <td>\n",
       "            'stats'\n",
       "            </td>\n",
       "          \n",
       "            <td>\n",
       "            ...\n",
       "            </td>\n",
       "          \n",
       "            <td>\n",
       "            'datasets'\n",
       "            </td>\n",
       "          \n",
       "            <td>\n",
       "            'methods'\n",
       "            </td>\n",
       "          \n",
       "            <td>\n",
       "            'base'\n",
       "            </td>\n",
       "          \n",
       "          </tr>\n",
       "        </tbody>\n",
       "        </table>\n",
       "        "
      ],
      "text/plain": [
       "<rpy2.robjects.vectors.StrVector object at 0x7fc5139cff80> [RTYPES.STRSXP]\n",
       "R classes: ('character',)\n",
       "['MetENP', 'tools', 'stats', 'graphics', ..., 'utils', 'datasets', 'methods', 'base']"
      ]
     },
     "execution_count": 1,
     "metadata": {},
     "output_type": "execute_result"
    }
   ],
   "source": [
    "import rpy2\n",
    "print(rpy2.__version__)\n",
    "\n",
    "import rpy2.robjects as robjects\n",
    "\n",
    "import rpy2.robjects.packages as rpackages\n",
    "\n",
    "pi = robjects.r['pi']\n",
    "pi[0]\n",
    "\n",
    "robjects.r('''\n",
    "\n",
    "library(MetENP)''')"
   ]
  },
  {
   "cell_type": "code",
   "execution_count": null,
   "id": "posted-distributor",
   "metadata": {},
   "outputs": [],
   "source": []
  },
  {
   "cell_type": "code",
   "execution_count": null,
   "id": "angry-executive",
   "metadata": {},
   "outputs": [],
   "source": []
  },
  {
   "cell_type": "code",
   "execution_count": null,
   "id": "favorite-rabbit",
   "metadata": {},
   "outputs": [],
   "source": []
  },
  {
   "cell_type": "code",
   "execution_count": null,
   "id": "proof-crash",
   "metadata": {},
   "outputs": [],
   "source": []
  },
  {
   "cell_type": "code",
   "execution_count": 6,
   "id": "unexpected-effectiveness",
   "metadata": {
    "execution": {
     "iopub.execute_input": "2021-02-11T23:29:45.666514Z",
     "iopub.status.busy": "2021-02-11T23:29:45.663784Z",
     "iopub.status.idle": "2021-02-11T23:29:45.769821Z",
     "shell.execute_reply": "2021-02-11T23:29:45.770605Z"
    }
   },
   "outputs": [
    {
     "data": {
      "text/html": [
       "\n",
       "        <span>StrMatrix with 6 elements.</span>\n",
       "        <table>\n",
       "        <tbody>\n",
       "          <tr>\n",
       "          \n",
       "            <td>\n",
       "            'func...\n",
       "            </td>\n",
       "          \n",
       "            <td>\n",
       "            '    ...\n",
       "            </td>\n",
       "          \n",
       "            <td>\n",
       "            '{'\n",
       "            </td>\n",
       "          \n",
       "            <td>\n",
       "            '    ...\n",
       "            </td>\n",
       "          \n",
       "            <td>\n",
       "            '    ...\n",
       "            </td>\n",
       "          \n",
       "            <td>\n",
       "            '    ...\n",
       "            </td>\n",
       "          \n",
       "          </tr>\n",
       "        </tbody>\n",
       "        </table>\n",
       "        "
      ],
      "text/plain": [
       "<rpy2.robjects.vectors.StrMatrix object at 0x7fc51160b380> [RTYPES.STRSXP]\n",
       "R classes: ('noquote',)\n",
       "['func..., '    ..., '{', '    ..., '    ..., '    ...]"
      ]
     },
     "execution_count": 2,
     "metadata": {},
     "output_type": "execute_result"
    }
   ],
   "source": [
    "data = robjects.r['getmwstudies']('ST000915', \n",
    "    \"factors\"\n",
    ")\n",
    "robjects.r('''head(data)''')"
   ]
  },
  {
   "cell_type": "code",
   "execution_count": 7,
   "id": "generic-disco",
   "metadata": {
    "execution": {
     "iopub.execute_input": "2021-02-11T23:29:45.780133Z",
     "iopub.status.busy": "2021-02-11T23:29:45.776915Z",
     "iopub.status.idle": "2021-02-11T23:29:45.788091Z",
     "shell.execute_reply": "2021-02-11T23:29:45.784564Z"
    }
   },
   "outputs": [
    {
     "data": {
      "text/plain": [
       "['50percent']"
      ]
     },
     "execution_count": 3,
     "metadata": {},
     "output_type": "execute_result"
    }
   ],
   "source": [
    "normtype = ['50percent']\n",
    "normtype"
   ]
  },
  {
   "cell_type": "code",
   "execution_count": 8,
   "id": "mexican-shannon",
   "metadata": {
    "execution": {
     "iopub.execute_input": "2021-02-11T23:29:45.804201Z",
     "iopub.status.busy": "2021-02-11T23:29:45.800892Z",
     "iopub.status.idle": "2021-02-11T23:29:45.811428Z",
     "shell.execute_reply": "2021-02-11T23:29:45.805480Z"
    }
   },
   "outputs": [
    {
     "data": {
      "text/plain": [
       "0.05"
      ]
     },
     "execution_count": 4,
     "metadata": {},
     "output_type": "execute_result"
    }
   ],
   "source": [
    "pthres = '0.05'\n",
    "pthres = float(pthres)\n",
    "pthres"
   ]
  },
  {
   "cell_type": "code",
   "execution_count": 9,
   "id": "rough-origin",
   "metadata": {
    "execution": {
     "iopub.execute_input": "2021-02-11T23:29:45.830103Z",
     "iopub.status.busy": "2021-02-11T23:29:45.824831Z",
     "iopub.status.idle": "2021-02-11T23:29:45.838715Z",
     "shell.execute_reply": "2021-02-11T23:29:45.833300Z"
    }
   },
   "outputs": [
    {
     "data": {
      "text/plain": [
       "0.5"
      ]
     },
     "execution_count": 5,
     "metadata": {},
     "output_type": "execute_result"
    }
   ],
   "source": [
    "thres_log2foldchange = '0.5'\n",
    "thres_log2foldchange = float(thres_log2foldchange)\n",
    "thres_log2foldchange"
   ]
  },
  {
   "cell_type": "code",
   "execution_count": null,
   "id": "closing-swift",
   "metadata": {},
   "outputs": [],
   "source": []
  },
  {
   "cell_type": "code",
   "execution_count": 11,
   "id": "beautiful-gather",
   "metadata": {
    "execution": {
     "iopub.execute_input": "2021-02-11T23:29:45.980817Z",
     "iopub.status.busy": "2021-02-11T23:29:45.977406Z",
     "iopub.status.idle": "2021-02-11T23:29:45.988345Z",
     "shell.execute_reply": "2021-02-11T23:29:45.982124Z"
    }
   },
   "outputs": [
    {
     "data": {
      "text/plain": [
       "0.5"
      ]
     },
     "execution_count": 6,
     "metadata": {},
     "output_type": "execute_result"
    }
   ],
   "source": [
    "thres_log2foldchange_countclass = '0.5'\n",
    "thres_log2foldchange_countclass = float(thres_log2foldchange_countclass)\n",
    "thres_log2foldchange_countclass"
   ]
  },
  {
   "cell_type": "code",
   "execution_count": null,
   "id": "imposed-ranking",
   "metadata": {},
   "outputs": [],
   "source": []
  },
  {
   "cell_type": "code",
   "execution_count": 13,
   "id": "united-tourist",
   "metadata": {
    "execution": {
     "iopub.execute_input": "2021-02-11T23:29:46.009459Z",
     "iopub.status.busy": "2021-02-11T23:29:46.005902Z",
     "iopub.status.idle": "2021-02-11T23:29:46.018567Z",
     "shell.execute_reply": "2021-02-11T23:29:46.011506Z"
    }
   },
   "outputs": [
    {
     "data": {
      "text/plain": [
       "3"
      ]
     },
     "execution_count": 7,
     "metadata": {},
     "output_type": "execute_result"
    }
   ],
   "source": [
    "sigmets = 3\n",
    "sigmets"
   ]
  },
  {
   "cell_type": "code",
   "execution_count": 14,
   "id": "clinical-entrepreneur",
   "metadata": {
    "execution": {
     "iopub.execute_input": "2021-02-11T23:29:46.034390Z",
     "iopub.status.busy": "2021-02-11T23:29:46.030806Z",
     "iopub.status.idle": "2021-02-11T23:29:46.041186Z",
     "shell.execute_reply": "2021-02-11T23:29:46.035773Z"
    }
   },
   "outputs": [
    {
     "data": {
      "text/plain": [
       "8"
      ]
     },
     "execution_count": 8,
     "metadata": {},
     "output_type": "execute_result"
    }
   ],
   "source": [
    "x_size_heat = 8\n",
    "x_size_heat"
   ]
  },
  {
   "cell_type": "code",
   "execution_count": 15,
   "id": "cross-cocktail",
   "metadata": {
    "execution": {
     "iopub.execute_input": "2021-02-11T23:29:46.057053Z",
     "iopub.status.busy": "2021-02-11T23:29:46.053609Z",
     "iopub.status.idle": "2021-02-11T23:29:46.064122Z",
     "shell.execute_reply": "2021-02-11T23:29:46.058364Z"
    }
   },
   "outputs": [
    {
     "data": {
      "text/plain": [
       "6"
      ]
     },
     "execution_count": 9,
     "metadata": {},
     "output_type": "execute_result"
    }
   ],
   "source": [
    "y_size_heat = 6\n",
    "y_size_heat"
   ]
  },
  {
   "cell_type": "code",
   "execution_count": 16,
   "id": "excessive-jurisdiction",
   "metadata": {
    "execution": {
     "iopub.execute_input": "2021-02-11T23:29:46.082584Z",
     "iopub.status.busy": "2021-02-11T23:29:46.076882Z",
     "iopub.status.idle": "2021-02-11T23:29:46.089612Z",
     "shell.execute_reply": "2021-02-11T23:29:46.084629Z"
    }
   },
   "outputs": [
    {
     "data": {
      "text/plain": [
       "8"
      ]
     },
     "execution_count": 10,
     "metadata": {},
     "output_type": "execute_result"
    }
   ],
   "source": [
    "x_size_dot = 8\n",
    "x_size_dot"
   ]
  },
  {
   "cell_type": "code",
   "execution_count": 17,
   "id": "romance-crack",
   "metadata": {
    "execution": {
     "iopub.execute_input": "2021-02-11T23:29:46.107019Z",
     "iopub.status.busy": "2021-02-11T23:29:46.102468Z",
     "iopub.status.idle": "2021-02-11T23:29:46.114402Z",
     "shell.execute_reply": "2021-02-11T23:29:46.109089Z"
    }
   },
   "outputs": [
    {
     "data": {
      "text/plain": [
       "6"
      ]
     },
     "execution_count": 11,
     "metadata": {},
     "output_type": "execute_result"
    }
   ],
   "source": [
    "y_size_dot = 6\n",
    "y_size_dot"
   ]
  }
 ],
 "metadata": {
  "appyter": {
   "nbconstruct": {
    "filename": "vignettes/MetENP_Appyter.ipynb",
    "files": {},
    "version": "0.12.0"
   },
   "nbexecute": {
    "completed": "2021-02-11T15:29:47.605843+00:00",
    "files": {},
    "started": "2021-02-11T15:29:40.535621+00:00",
    "version": "0.12.0"
   }
  },
  "kernelspec": {
   "display_name": "my-first-appyter",
   "language": "python",
   "name": "my-first-appyter"
  },
  "language_info": {
   "codemirror_mode": {
    "name": "ipython",
    "version": 3
   },
   "file_extension": ".py",
   "mimetype": "text/x-python",
   "name": "python",
   "nbconvert_exporter": "python",
   "pygments_lexer": "ipython3",
   "version": "3.8.5"
  }
 },
 "nbformat": 4,
 "nbformat_minor": 5
}
