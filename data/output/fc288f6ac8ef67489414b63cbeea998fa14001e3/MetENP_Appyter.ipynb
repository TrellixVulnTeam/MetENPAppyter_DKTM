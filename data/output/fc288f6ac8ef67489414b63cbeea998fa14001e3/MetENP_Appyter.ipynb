{
 "cells": [
  {
   "cell_type": "code",
   "execution_count": 1,
   "id": "exceptional-impossible",
   "metadata": {
    "execution": {
     "iopub.execute_input": "2021-02-04T09:57:07.760143Z",
     "iopub.status.busy": "2021-02-04T09:57:07.758530Z",
     "iopub.status.idle": "2021-02-04T09:57:07.765592Z",
     "shell.execute_reply": "2021-02-04T09:57:07.764333Z"
    }
   },
   "outputs": [
    {
     "data": {
      "text/plain": [
       "['factors']"
      ]
     },
     "execution_count": 1,
     "metadata": {},
     "output_type": "execute_result"
    }
   ],
   "source": [
    "typedata = ['factors']\n",
    "typedata"
   ]
  },
  {
   "cell_type": "code",
   "execution_count": 2,
   "id": "selective-norway",
   "metadata": {
    "execution": {
     "iopub.execute_input": "2021-02-04T09:57:07.780275Z",
     "iopub.status.busy": "2021-02-04T09:57:07.776368Z",
     "iopub.status.idle": "2021-02-04T09:57:07.784113Z",
     "shell.execute_reply": "2021-02-04T09:57:07.781680Z"
    }
   },
   "outputs": [],
   "source": [
    "studyID = 'ST001304'"
   ]
  },
  {
   "cell_type": "code",
   "execution_count": null,
   "id": "rapid-stylus",
   "metadata": {},
   "outputs": [],
   "source": []
  }
 ],
 "metadata": {
  "appyter": {
   "nbconstruct": {
    "filename": "vignettes/MetENP_Appyter.ipynb",
    "files": {},
    "version": "0.12.0"
   },
   "nbexecute": {
    "completed": "2021-02-04T01:57:08.000305+00:00",
    "files": {},
    "started": "2021-02-04T01:57:06.028277+00:00",
    "version": "0.12.0"
   }
  },
  "kernelspec": {
   "display_name": "my-first-appyter",
   "language": "python",
   "name": "my-first-appyter"
  },
  "language_info": {
   "codemirror_mode": {
    "name": "ipython",
    "version": 3
   },
   "file_extension": ".py",
   "mimetype": "text/x-python",
   "name": "python",
   "nbconvert_exporter": "python",
   "pygments_lexer": "ipython3",
   "version": "3.8.5"
  }
 },
 "nbformat": 4,
 "nbformat_minor": 5
}
