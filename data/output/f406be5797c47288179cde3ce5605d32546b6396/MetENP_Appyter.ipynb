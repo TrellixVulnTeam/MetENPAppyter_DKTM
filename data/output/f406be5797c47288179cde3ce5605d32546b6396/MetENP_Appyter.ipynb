{
 "cells": [
  {
   "cell_type": "code",
   "execution_count": 1,
   "id": "bearing-clone",
   "metadata": {
    "execution": {
     "iopub.execute_input": "2021-02-04T11:10:40.152923Z",
     "iopub.status.busy": "2021-02-04T11:10:40.150003Z",
     "iopub.status.idle": "2021-02-04T11:10:40.155405Z",
     "shell.execute_reply": "2021-02-04T11:10:40.156761Z"
    }
   },
   "outputs": [],
   "source": [
    "# Notebook display util functions\n",
    "\n",
    "def download_button(content, label, filename):\n",
    "    # Add download button\n",
    "    outname = filename.split('.')[0]\n",
    "    display(HTML('<textarea id=\"textbox_{outname}\" style=\"display: none;\">{content}</textarea> <button style=\"margin:10px 0;\" id=\"create_{outname}\">{label}</button> <a download=\"{filename}\" id=\"downloadlink_{outname}\" style=\"display: none\">Download</a>'.format(**locals())))\n",
    "    display(HTML('<script type=\"text/javascript\">!function(){{var e=null,t=document.getElementById(\"create_{outname}\"),n=document.getElementById(\"textbox_{outname}\");t.addEventListener(\"click\",function(){{var t,l,c=document.getElementById(\"downloadlink_{outname}\");c.href=(t=n.value,l=new Blob([t],{{type:\"text/plain\"}}),null!==e&&window.URL.revokeObjectURL(e),e=window.URL.createObjectURL(l)),c.click()}},!1)}}();</script>'.format(**locals())))\n",
    "\n",
    "def make_clickable(link):\n",
    "    return f'<a target=\"_blank\" href=\"{link}\">{link}</a>'\n",
    "\n",
    "def figure_header(label,title):\n",
    "    display(HTML(f\"<div style='font-size:2rem; padding:1rem 0;'><b>{label}</b>: {title}</div>\"))\n",
    "    \n",
    "def figure_legend(label,title,content=\"\"):\n",
    "    display(HTML(f\"<div><b>{label}</b>: <i>{title}</i>. {content} </div>\"))"
   ]
  },
  {
   "cell_type": "code",
   "execution_count": 2,
   "id": "comparable-consultation",
   "metadata": {
    "execution": {
     "iopub.execute_input": "2021-02-04T11:10:40.184999Z",
     "iopub.status.busy": "2021-02-04T11:10:40.181939Z",
     "iopub.status.idle": "2021-02-04T11:10:40.192540Z",
     "shell.execute_reply": "2021-02-04T11:10:40.190741Z"
    }
   },
   "outputs": [
    {
     "data": {
      "text/plain": [
       "['data']"
      ]
     },
     "execution_count": 2,
     "metadata": {},
     "output_type": "execute_result"
    }
   ],
   "source": [
    "typedata = ['data']\n",
    "typedata"
   ]
  },
  {
   "cell_type": "code",
   "execution_count": 3,
   "id": "wanted-beads",
   "metadata": {
    "execution": {
     "iopub.execute_input": "2021-02-04T11:10:40.214235Z",
     "iopub.status.busy": "2021-02-04T11:10:40.208038Z",
     "iopub.status.idle": "2021-02-04T11:10:40.224968Z",
     "shell.execute_reply": "2021-02-04T11:10:40.216996Z"
    }
   },
   "outputs": [
    {
     "data": {
      "text/plain": [
       "'ST001304'"
      ]
     },
     "execution_count": 3,
     "metadata": {},
     "output_type": "execute_result"
    }
   ],
   "source": [
    "studyID = 'ST001304'\n",
    "studyID"
   ]
  },
  {
   "cell_type": "code",
   "execution_count": 4,
   "id": "incomplete-beijing",
   "metadata": {
    "execution": {
     "iopub.execute_input": "2021-02-04T11:10:40.242060Z",
     "iopub.status.busy": "2021-02-04T11:10:40.237957Z",
     "iopub.status.idle": "2021-02-04T11:10:40.248363Z",
     "shell.execute_reply": "2021-02-04T11:10:40.243838Z"
    }
   },
   "outputs": [],
   "source": [
    "typedata = ['factors']"
   ]
  },
  {
   "cell_type": "code",
   "execution_count": 5,
   "id": "toxic-consciousness",
   "metadata": {
    "execution": {
     "iopub.execute_input": "2021-02-04T11:10:40.265650Z",
     "iopub.status.busy": "2021-02-04T11:10:40.260954Z",
     "iopub.status.idle": "2021-02-04T11:10:41.845771Z",
     "shell.execute_reply": "2021-02-04T11:10:41.848058Z"
    }
   },
   "outputs": [
    {
     "name": "stdout",
     "output_type": "stream",
     "text": [
      "Requirement already satisfied: rpy2 in /Users/Callie/Documents/199/MetENP/venv/lib/python3.8/site-packages (3.4.2)\r\n"
     ]
    },
    {
     "name": "stdout",
     "output_type": "stream",
     "text": [
      "Requirement already satisfied: tzlocal in /Users/Callie/Documents/199/MetENP/venv/lib/python3.8/site-packages (from rpy2) (2.1)\r\n",
      "Requirement already satisfied: pytz in /Users/Callie/Documents/199/MetENP/venv/lib/python3.8/site-packages (from rpy2) (2021.1)\r\n",
      "Requirement already satisfied: jinja2 in /Users/Callie/Documents/199/MetENP/venv/lib/python3.8/site-packages (from rpy2) (2.11.2)\r\n",
      "Requirement already satisfied: cffi>=1.10.0 in /Users/Callie/Documents/199/MetENP/venv/lib/python3.8/site-packages (from rpy2) (1.14.4)\r\n",
      "Requirement already satisfied: MarkupSafe>=0.23 in /Users/Callie/Documents/199/MetENP/venv/lib/python3.8/site-packages (from jinja2->rpy2) (1.1.1)\r\n",
      "Requirement already satisfied: pycparser in /Users/Callie/Documents/199/MetENP/venv/lib/python3.8/site-packages (from cffi>=1.10.0->rpy2) (2.20)\r\n"
     ]
    },
    {
     "name": "stdout",
     "output_type": "stream",
     "text": [
      "\u001b[33mWARNING: You are using pip version 20.1.1; however, version 21.0.1 is available.\r\n",
      "You should consider upgrading via the '/Users/Callie/Documents/199/MetENP/venv/bin/python3 -m pip install --upgrade pip' command.\u001b[0m\r\n"
     ]
    },
    {
     "name": "stdout",
     "output_type": "stream",
     "text": [
      "Note: you may need to restart the kernel to use updated packages.\n"
     ]
    }
   ],
   "source": [
    "pip install rpy2"
   ]
  },
  {
   "cell_type": "code",
   "execution_count": 6,
   "id": "common-rally",
   "metadata": {
    "execution": {
     "iopub.execute_input": "2021-02-04T11:10:41.862336Z",
     "iopub.status.busy": "2021-02-04T11:10:41.857792Z",
     "iopub.status.idle": "2021-02-04T11:10:41.867152Z",
     "shell.execute_reply": "2021-02-04T11:10:41.868594Z"
    }
   },
   "outputs": [],
   "source": [
    "import rpy2 as rp"
   ]
  },
  {
   "cell_type": "code",
   "execution_count": 7,
   "id": "civil-wyoming",
   "metadata": {
    "execution": {
     "iopub.execute_input": "2021-02-04T11:10:41.885862Z",
     "iopub.status.busy": "2021-02-04T11:10:41.880199Z",
     "iopub.status.idle": "2021-02-04T11:10:42.061995Z",
     "shell.execute_reply": "2021-02-04T11:10:42.061328Z"
    }
   },
   "outputs": [
    {
     "ename": "AttributeError",
     "evalue": "module 'rpy2' has no attribute 'r'",
     "output_type": "error",
     "traceback": [
      "\u001b[0;31m---------------------------------------------------------------------------\u001b[0m",
      "\u001b[0;31mAttributeError\u001b[0m                            Traceback (most recent call last)",
      "\u001b[0;32m<ipython-input-7-0d3aa4c52c63>\u001b[0m in \u001b[0;36m<module>\u001b[0;34m\u001b[0m\n\u001b[0;32m----> 1\u001b[0;31m \u001b[0mpi\u001b[0m \u001b[0;34m=\u001b[0m \u001b[0mrp\u001b[0m\u001b[0;34m.\u001b[0m\u001b[0mr\u001b[0m\u001b[0;34m(\u001b[0m\u001b[0;34m'pi'\u001b[0m\u001b[0;34m)\u001b[0m\u001b[0;34m\u001b[0m\u001b[0;34m\u001b[0m\u001b[0m\n\u001b[0m\u001b[1;32m      2\u001b[0m \u001b[0mpi\u001b[0m\u001b[0;34m[\u001b[0m\u001b[0;36m0\u001b[0m\u001b[0;34m]\u001b[0m\u001b[0;34m\u001b[0m\u001b[0;34m\u001b[0m\u001b[0m\n",
      "\u001b[0;31mAttributeError\u001b[0m: module 'rpy2' has no attribute 'r'"
     ]
    }
   ],
   "source": [
    "pi = rp.r('pi')\n",
    "pi[0]"
   ]
  },
  {
   "cell_type": "code",
   "execution_count": null,
   "id": "noted-float",
   "metadata": {},
   "outputs": [],
   "source": [
    "data = getmwstudies(studyID, str(typedata[0]))\n",
    "head(data)"
   ]
  },
  {
   "cell_type": "code",
   "execution_count": null,
   "id": "crazy-thriller",
   "metadata": {},
   "outputs": [],
   "source": []
  }
 ],
 "metadata": {
  "appyter": {
   "nbconstruct": {
    "filename": "vignettes/MetENP_Appyter.ipynb",
    "files": {},
    "version": "0.12.0"
   },
   "nbexecute": {
    "completed": "2021-02-04T03:10:42.376396+00:00",
    "files": {},
    "started": "2021-02-04T03:10:38.390416+00:00",
    "version": "0.12.0"
   }
  },
  "kernelspec": {
   "display_name": "my-first-appyter",
   "language": "python",
   "name": "my-first-appyter"
  },
  "language_info": {
   "codemirror_mode": {
    "name": "ipython",
    "version": 3
   },
   "file_extension": ".py",
   "mimetype": "text/x-python",
   "name": "python",
   "nbconvert_exporter": "python",
   "pygments_lexer": "ipython3",
   "version": "3.8.5"
  }
 },
 "nbformat": 4,
 "nbformat_minor": 5
}
