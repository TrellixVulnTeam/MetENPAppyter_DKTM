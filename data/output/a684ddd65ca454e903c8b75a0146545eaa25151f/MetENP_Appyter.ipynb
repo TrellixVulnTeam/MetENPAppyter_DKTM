{
 "cells": [
  {
   "cell_type": "code",
   "execution_count": 1,
   "id": "liquid-timber",
   "metadata": {
    "execution": {
     "iopub.execute_input": "2021-02-12T17:30:49.498583Z",
     "iopub.status.busy": "2021-02-12T17:30:49.491535Z",
     "iopub.status.idle": "2021-02-12T17:30:57.628279Z",
     "shell.execute_reply": "2021-02-12T17:30:57.630584Z"
    }
   },
   "outputs": [
    {
     "name": "stdout",
     "output_type": "stream",
     "text": [
      "3.4.2\n"
     ]
    },
    {
     "data": {
      "text/html": [
       "\n",
       "        <span>StrVector with 9 elements.</span>\n",
       "        <table>\n",
       "        <tbody>\n",
       "          <tr>\n",
       "          \n",
       "            <td>\n",
       "            'MetENP'\n",
       "            </td>\n",
       "          \n",
       "            <td>\n",
       "            'tools'\n",
       "            </td>\n",
       "          \n",
       "            <td>\n",
       "            'stats'\n",
       "            </td>\n",
       "          \n",
       "            <td>\n",
       "            ...\n",
       "            </td>\n",
       "          \n",
       "            <td>\n",
       "            'datasets'\n",
       "            </td>\n",
       "          \n",
       "            <td>\n",
       "            'methods'\n",
       "            </td>\n",
       "          \n",
       "            <td>\n",
       "            'base'\n",
       "            </td>\n",
       "          \n",
       "          </tr>\n",
       "        </tbody>\n",
       "        </table>\n",
       "        "
      ],
      "text/plain": [
       "<rpy2.robjects.vectors.StrVector object at 0x7f96f01b0440> [RTYPES.STRSXP]\n",
       "R classes: ('character',)\n",
       "['MetENP', 'tools', 'stats', 'graphics', ..., 'utils', 'datasets', 'methods', 'base']"
      ]
     },
     "execution_count": 1,
     "metadata": {},
     "output_type": "execute_result"
    }
   ],
   "source": [
    "import rpy2\n",
    "import rpy2.robjects as robjects\n",
    "import rpy2.robjects.packages as rpackages\n",
    "\n",
    "from rpy2.robjects import numpy2ri, pandas2ri\n",
    "#numpy2ri.activate()\n",
    "#pandas2ri.activate()\n",
    "\n",
    "print(rpy2.__version__)\n",
    "\n",
    "robjects.r('''\n",
    "\n",
    "library(MetENP)\n",
    "\n",
    "''')"
   ]
  },
  {
   "cell_type": "code",
   "execution_count": 2,
   "id": "overall-occupation",
   "metadata": {
    "execution": {
     "iopub.execute_input": "2021-02-12T17:30:57.718187Z",
     "iopub.status.busy": "2021-02-12T17:30:57.698147Z",
     "iopub.status.idle": "2021-02-12T17:30:57.726419Z",
     "shell.execute_reply": "2021-02-12T17:30:57.699418Z"
    }
   },
   "outputs": [
    {
     "data": {
      "text/plain": [
       "'%%appyter code_hide \\n\\n{% set studyOrg = StringField(name=\\'studyOrg\\', label=\\'KEGG Organism Code\\', description = \"hsa for human, mmu for mouse, eco for E. coli. See https://www.genome.jp/kegg/catalog/org_list.html for all organisms\", default=\\'hsa\\', section=\\'INPUT\\') %}\\nstudyOrg'"
      ]
     },
     "execution_count": 2,
     "metadata": {},
     "output_type": "execute_result"
    }
   ],
   "source": [
    "'''%%appyter code_hide \n",
    "\n",
    "{% set studyOrg = StringField(name='studyOrg', label='KEGG Organism Code', description = \"hsa for human, mmu for mouse, eco for E. coli. See https://www.genome.jp/kegg/catalog/org_list.html for all organisms\", default='hsa', section='INPUT') %}\n",
    "studyOrg'''"
   ]
  },
  {
   "cell_type": "code",
   "execution_count": 3,
   "id": "quantitative-sudan",
   "metadata": {
    "execution": {
     "iopub.execute_input": "2021-02-12T17:30:57.754107Z",
     "iopub.status.busy": "2021-02-12T17:30:57.744971Z",
     "iopub.status.idle": "2021-02-12T17:30:57.762911Z",
     "shell.execute_reply": "2021-02-12T17:30:57.757142Z"
    }
   },
   "outputs": [],
   "source": [
    "#numpy2ri.deactivate()\n",
    "#pandas2ri.deactivate()"
   ]
  },
  {
   "cell_type": "code",
   "execution_count": 4,
   "id": "crucial-rebel",
   "metadata": {
    "execution": {
     "iopub.execute_input": "2021-02-12T17:30:57.798273Z",
     "iopub.status.busy": "2021-02-12T17:30:57.789172Z",
     "iopub.status.idle": "2021-02-12T17:31:14.202001Z",
     "shell.execute_reply": "2021-02-12T17:31:14.202872Z"
    }
   },
   "outputs": [],
   "source": [
    "data_1 = robjects.r['getmwstudies']('ST000915', \n",
    "    'data'\n",
    ")"
   ]
  },
  {
   "cell_type": "code",
   "execution_count": 5,
   "id": "robust-criticism",
   "metadata": {
    "execution": {
     "iopub.execute_input": "2021-02-12T17:31:14.214031Z",
     "iopub.status.busy": "2021-02-12T17:31:14.211117Z",
     "iopub.status.idle": "2021-02-12T17:31:14.233750Z",
     "shell.execute_reply": "2021-02-12T17:31:14.237463Z"
    }
   },
   "outputs": [
    {
     "data": {
      "text/html": [
       "\n",
       "        <span>R/rpy2 DataFrame (6 x 93)</span>\n",
       "        <table>\n",
       "          <thead>\n",
       "            <tr>\n",
       "              \n",
       "              <th>analysis_id</th>\n",
       "              \n",
       "              <th>analysis_summary</th>\n",
       "              \n",
       "              <th>metabolite_name</th>\n",
       "              \n",
       "              <th>...</th>\n",
       "              \n",
       "              <th>NASH069</th>\n",
       "              \n",
       "              <th>NASH070</th>\n",
       "              \n",
       "              <th>NASH074</th>\n",
       "              \n",
       "            </tr>\n",
       "          </thead>\n",
       "          <tbody>\n",
       "          \n",
       "          <tr>\n",
       "            \n",
       "            <td>\n",
       "              StrSe...\n",
       "            </td>\n",
       "            \n",
       "            <td>\n",
       "              StrSe...\n",
       "            </td>\n",
       "            \n",
       "            <td>\n",
       "              StrSe...\n",
       "            </td>\n",
       "            \n",
       "            <td>\n",
       "              ...\n",
       "            </td>\n",
       "            \n",
       "            <td>\n",
       "              NA_character_\n",
       "            </td>\n",
       "            \n",
       "            <td>\n",
       "              NA_character_\n",
       "            </td>\n",
       "            \n",
       "            <td>\n",
       "              NA_character_\n",
       "            </td>\n",
       "            \n",
       "          </tr>\n",
       "          \n",
       "          <tr>\n",
       "            \n",
       "            <td>\n",
       "              StrSe...\n",
       "            </td>\n",
       "            \n",
       "            <td>\n",
       "              StrSe...\n",
       "            </td>\n",
       "            \n",
       "            <td>\n",
       "              StrSe...\n",
       "            </td>\n",
       "            \n",
       "            <td>\n",
       "              \n",
       "            </td>\n",
       "            \n",
       "            <td>\n",
       "              '0.25...\n",
       "            </td>\n",
       "            \n",
       "            <td>\n",
       "              '0.03...\n",
       "            </td>\n",
       "            \n",
       "            <td>\n",
       "              '0.05...\n",
       "            </td>\n",
       "            \n",
       "          </tr>\n",
       "          \n",
       "          <tr>\n",
       "            \n",
       "            <td>\n",
       "              StrSe...\n",
       "            </td>\n",
       "            \n",
       "            <td>\n",
       "              StrSe...\n",
       "            </td>\n",
       "            \n",
       "            <td>\n",
       "              StrSe...\n",
       "            </td>\n",
       "            \n",
       "            <td>\n",
       "              \n",
       "            </td>\n",
       "            \n",
       "            <td>\n",
       "              '0.05...\n",
       "            </td>\n",
       "            \n",
       "            <td>\n",
       "              '0.08...\n",
       "            </td>\n",
       "            \n",
       "            <td>\n",
       "              '0.10...\n",
       "            </td>\n",
       "            \n",
       "          </tr>\n",
       "          \n",
       "          <tr>\n",
       "            \n",
       "            <td>\n",
       "              StrSe...\n",
       "            </td>\n",
       "            \n",
       "            <td>\n",
       "              StrSe...\n",
       "            </td>\n",
       "            \n",
       "            <td>\n",
       "              StrSe...\n",
       "            </td>\n",
       "            \n",
       "            <td>\n",
       "              \n",
       "            </td>\n",
       "            \n",
       "            <td>\n",
       "              '0.00...\n",
       "            </td>\n",
       "            \n",
       "            <td>\n",
       "              NA_character_\n",
       "            </td>\n",
       "            \n",
       "            <td>\n",
       "              NA_character_\n",
       "            </td>\n",
       "            \n",
       "          </tr>\n",
       "          \n",
       "          <tr>\n",
       "            \n",
       "            <td>\n",
       "              StrSe...\n",
       "            </td>\n",
       "            \n",
       "            <td>\n",
       "              StrSe...\n",
       "            </td>\n",
       "            \n",
       "            <td>\n",
       "              StrSe...\n",
       "            </td>\n",
       "            \n",
       "            <td>\n",
       "              \n",
       "            </td>\n",
       "            \n",
       "            <td>\n",
       "              '0.01...\n",
       "            </td>\n",
       "            \n",
       "            <td>\n",
       "              '0.00...\n",
       "            </td>\n",
       "            \n",
       "            <td>\n",
       "              '0.01...\n",
       "            </td>\n",
       "            \n",
       "          </tr>\n",
       "          \n",
       "          <tr>\n",
       "            \n",
       "            <td>\n",
       "              StrSe...\n",
       "            </td>\n",
       "            \n",
       "            <td>\n",
       "              StrSe...\n",
       "            </td>\n",
       "            \n",
       "            <td>\n",
       "              StrSe...\n",
       "            </td>\n",
       "            \n",
       "            <td>\n",
       "              \n",
       "            </td>\n",
       "            \n",
       "            <td>\n",
       "              '0.00...\n",
       "            </td>\n",
       "            \n",
       "            <td>\n",
       "              '0.00...\n",
       "            </td>\n",
       "            \n",
       "            <td>\n",
       "              '0.01...\n",
       "            </td>\n",
       "            \n",
       "          </tr>\n",
       "          \n",
       "          </tbody>\n",
       "        </table>\n",
       "    "
      ],
      "text/plain": [
       "<rpy2.robjects.vectors.DataFrame object at 0x7f96f01c9940> [RTYPES.VECSXP]\n",
       "R classes: ('tbl_df', 'tbl', 'data.frame')\n",
       "[ListSexpV..., ListSexpV..., ListSexpV..., ListSexpV..., ..., StrSexpVe..., StrSexpVe..., StrSexpVe..., StrSexpVe...]\n",
       "<rpy2.robjects.vectors.DataFrame object at 0x7f96f01c9940> [RTYPES.VECSXP]\n",
       "R classes: ('tbl_df', 'tbl', 'data.frame')\n",
       "[ListSexpV..., ListSexpV..., ListSexpV..., ListSexpV..., ..., StrSexpVe..., StrSexpVe..., StrSexpVe..., StrSexpVe...]\n",
       "<rpy2.robjects.vectors.DataFrame object at 0x7f96f01c9940> [RTYPES.VECSXP]\n",
       "R classes: ('tbl_df', 'tbl', 'data.frame')\n",
       "[ListSexpV..., ListSexpV..., ListSexpV..., ListSexpV..., ..., StrSexpVe..., StrSexpVe..., StrSexpVe..., StrSexpVe...]\n",
       "<rpy2.robjects.vectors.DataFrame object at 0x7f96f01c9940> [RTYPES.VECSXP]\n",
       "R classes: ('tbl_df', 'tbl', 'data.frame')\n",
       "[ListSexpV..., ListSexpV..., ListSexpV..., ListSexpV..., ..., StrSexpVe..., StrSexpVe..., StrSexpVe..., StrSexpVe...]\n",
       "<rpy2.robjects.vectors.DataFrame object at 0x7f96f01c9940> [RTYPES.VECSXP]\n",
       "R classes: ('tbl_df', 'tbl', 'data.frame')\n",
       "[ListSexpV..., ListSexpV..., ListSexpV..., ListSexpV..., ..., StrSexpVe..., StrSexpVe..., StrSexpVe..., StrSexpVe...]\n",
       "...\n",
       "  NASH001: <class 'rpy2.robjects.vectors.StrVector'>\n",
       "  <rpy2.robjects.vectors.StrVector object at 0x7f96f01cfbc0> [RTYPES.STRSXP]\n",
       "R classes: ('character',)\n",
       "[NA_character_, '0.24..., '0.10..., NA_character_, '0.01..., '0.03...]\n",
       "  NASH002: <class 'rpy2.robjects.vectors.StrVector'>\n",
       "  <rpy2.robjects.vectors.StrVector object at 0x7f96f01cfa80> [RTYPES.STRSXP]\n",
       "R classes: ('character',)\n",
       "[NA_character_, '0.25..., '0.05..., '0.00..., '0.01..., '0.00...]\n",
       "  NASH003: <class 'rpy2.robjects.vectors.StrVector'>\n",
       "  <rpy2.robjects.vectors.StrVector object at 0x7f96f01cfcc0> [RTYPES.STRSXP]\n",
       "R classes: ('character',)\n",
       "[NA_character_, '0.03..., '0.08..., NA_character_, '0.00..., '0.00...]\n",
       "  NASH004: <class 'rpy2.robjects.vectors.StrVector'>\n",
       "  <rpy2.robjects.vectors.StrVector object at 0x7f96ece2a680> [RTYPES.STRSXP]\n",
       "R classes: ('character',)\n",
       "[NA_character_, '0.05..., '0.10..., NA_character_, '0.01..., '0.01...]"
      ]
     },
     "execution_count": 5,
     "metadata": {},
     "output_type": "execute_result"
    }
   ],
   "source": [
    "robjects.r['head'](data_1)\n",
    "#TODO: outputs are not the same type as the original vignette"
   ]
  },
  {
   "cell_type": "code",
   "execution_count": 6,
   "id": "appointed-speaker",
   "metadata": {
    "execution": {
     "iopub.execute_input": "2021-02-12T17:31:14.256934Z",
     "iopub.status.busy": "2021-02-12T17:31:14.252117Z",
     "iopub.status.idle": "2021-02-12T17:31:14.271757Z",
     "shell.execute_reply": "2021-02-12T17:31:14.260046Z"
    }
   },
   "outputs": [
    {
     "data": {
      "text/html": [
       "\n",
       "        <span>BoolVector with 1 elements.</span>\n",
       "        <table>\n",
       "        <tbody>\n",
       "          <tr>\n",
       "          \n",
       "            <td>\n",
       "                   1\n",
       "            </td>\n",
       "          \n",
       "          </tr>\n",
       "        </tbody>\n",
       "        </table>\n",
       "        "
      ],
      "text/plain": [
       "<rpy2.robjects.vectors.BoolVector object at 0x7f96f01b0380> [RTYPES.LGLSXP]\n",
       "R classes: ('logical',)\n",
       "[       1]"
      ]
     },
     "execution_count": 6,
     "metadata": {},
     "output_type": "execute_result"
    }
   ],
   "source": [
    "robjects.r['is.data.frame'](data_1)"
   ]
  },
  {
   "cell_type": "code",
   "execution_count": 7,
   "id": "european-cricket",
   "metadata": {
    "execution": {
     "iopub.execute_input": "2021-02-12T17:31:14.293968Z",
     "iopub.status.busy": "2021-02-12T17:31:14.288298Z",
     "iopub.status.idle": "2021-02-12T17:31:14.302894Z",
     "shell.execute_reply": "2021-02-12T17:31:14.297063Z"
    }
   },
   "outputs": [],
   "source": [
    "#numpy2ri.rpy2py(data_1)"
   ]
  },
  {
   "cell_type": "code",
   "execution_count": 8,
   "id": "further-vault",
   "metadata": {
    "execution": {
     "iopub.execute_input": "2021-02-12T17:31:14.334157Z",
     "iopub.status.busy": "2021-02-12T17:31:14.325269Z",
     "iopub.status.idle": "2021-02-12T17:31:14.348833Z",
     "shell.execute_reply": "2021-02-12T17:31:14.337860Z"
    }
   },
   "outputs": [
    {
     "name": "stdout",
     "output_type": "stream",
     "text": [
      "<class 'rpy2.robjects.vectors.DataFrame'>\n"
     ]
    }
   ],
   "source": [
    "print(type(data_1))"
   ]
  },
  {
   "cell_type": "code",
   "execution_count": 9,
   "id": "verified-disposition",
   "metadata": {
    "execution": {
     "iopub.execute_input": "2021-02-12T17:31:14.386596Z",
     "iopub.status.busy": "2021-02-12T17:31:14.379265Z",
     "iopub.status.idle": "2021-02-12T17:31:14.464237Z",
     "shell.execute_reply": "2021-02-12T17:31:14.465183Z"
    }
   },
   "outputs": [
    {
     "name": "stdout",
     "output_type": "stream",
     "text": [
      "<class 'rpy2.robjects.vectors.DataFrame'>\n"
     ]
    },
    {
     "data": {
      "text/html": [
       "\n",
       "        <span>R/rpy2 DataFrame (6 x 5)</span>\n",
       "        <table>\n",
       "          <thead>\n",
       "            <tr>\n",
       "              \n",
       "              <th>study_id</th>\n",
       "              \n",
       "              <th>local_sample_id</th>\n",
       "              \n",
       "              <th>subject_type</th>\n",
       "              \n",
       "              <th>factors</th>\n",
       "              \n",
       "              <th>Diagnosis</th>\n",
       "              \n",
       "            </tr>\n",
       "          </thead>\n",
       "          <tbody>\n",
       "          \n",
       "          <tr>\n",
       "            \n",
       "            <td>\n",
       "              ...\n",
       "            </td>\n",
       "            \n",
       "            <td>\n",
       "              ...\n",
       "            </td>\n",
       "            \n",
       "            <td>\n",
       "              ...\n",
       "            </td>\n",
       "            \n",
       "            <td>\n",
       "              ...\n",
       "            </td>\n",
       "            \n",
       "            <td>\n",
       "              ...\n",
       "            </td>\n",
       "            \n",
       "          </tr>\n",
       "          \n",
       "          </tbody>\n",
       "        </table>\n",
       "    "
      ],
      "text/plain": [
       "<rpy2.robjects.vectors.DataFrame object at 0x7f96eeddb880> [RTYPES.VECSXP]\n",
       "R classes: ('data.frame',)\n",
       "[ListSex..., ListSex..., ListSex..., ListSex..., StrSexp...]\n",
       "  study_id: <class 'rpy2.rinterface.ListSexpVector'>\n",
       "  <rpy2.rinterface.ListSexpVector object at 0x7f96d6fcf8c0> [RTYPES.VECSXP]\n",
       "  local_sample_id: <class 'rpy2.rinterface.ListSexpVector'>\n",
       "  <rpy2.rinterface.ListSexpVector object at 0x7f96d6fcf980> [RTYPES.VECSXP]\n",
       "  subject_type: <class 'rpy2.rinterface.ListSexpVector'>\n",
       "  <rpy2.rinterface.ListSexpVector object at 0x7f96d6fcfe00> [RTYPES.VECSXP]\n",
       "  factors: <class 'rpy2.rinterface.ListSexpVector'>\n",
       "  <rpy2.rinterface.ListSexpVector object at 0x7f96d6fcff80> [RTYPES.VECSXP]\n",
       "  Diagnosis: <class 'rpy2.rinterface_lib.sexp.StrSexpVector'>\n",
       "  <rpy2.rinterface_lib.sexp.StrSexpVector object at 0x7f96d6fcfcc0> [RTYPES.STRSXP]"
      ]
     },
     "execution_count": 9,
     "metadata": {},
     "output_type": "execute_result"
    }
   ],
   "source": [
    "metadata = robjects.r['getmwstudies']('ST000915',\n",
    "    'factors'\n",
    ")\n",
    "print(type(metadata))\n",
    "#print(metadata)\n",
    "metadata.head()"
   ]
  },
  {
   "cell_type": "code",
   "execution_count": 10,
   "id": "exterior-fraud",
   "metadata": {
    "execution": {
     "iopub.execute_input": "2021-02-12T17:31:14.483626Z",
     "iopub.status.busy": "2021-02-12T17:31:14.477104Z",
     "iopub.status.idle": "2021-02-12T17:31:14.494459Z",
     "shell.execute_reply": "2021-02-12T17:31:14.485652Z"
    }
   },
   "outputs": [
    {
     "data": {
      "text/plain": [
       "'hsa'"
      ]
     },
     "execution_count": 10,
     "metadata": {},
     "output_type": "execute_result"
    }
   ],
   "source": [
    "studyOrg = 'hsa'\n",
    "studyOrg"
   ]
  },
  {
   "cell_type": "markdown",
   "id": "alone-consultancy",
   "metadata": {},
   "source": [
    "Find the factors you would want to compare\n",
    "Multiple factors (independent variables) are formatted in multiple columns but you can get information on all the factors by \"factors\" column, such as 'TreatmentGroup:Prednisolone', this indicates column name 'TreatmentGroup' with factor Prednisolone. For t-test use the factors in the same column. For comparing multipe independent variables use anova by anova_ana function."
   ]
  },
  {
   "cell_type": "markdown",
   "id": "tired-sydney",
   "metadata": {},
   "source": [
    "### Associate metabolomics data to the refmet class"
   ]
  },
  {
   "cell_type": "code",
   "execution_count": 11,
   "id": "global-vocabulary",
   "metadata": {
    "execution": {
     "iopub.execute_input": "2021-02-12T17:31:14.514011Z",
     "iopub.status.busy": "2021-02-12T17:31:14.508828Z",
     "iopub.status.idle": "2021-02-12T17:31:14.819246Z",
     "shell.execute_reply": "2021-02-12T17:31:14.820154Z"
    }
   },
   "outputs": [
    {
     "ename": "NameError",
     "evalue": "name 'convert_refmet' is not defined",
     "output_type": "error",
     "traceback": [
      "\u001b[0;31m---------------------------------------------------------------------------\u001b[0m",
      "\u001b[0;31mNameError\u001b[0m                                 Traceback (most recent call last)",
      "\u001b[0;32m<ipython-input-11-3875d7f6bd06>\u001b[0m in \u001b[0;36m<module>\u001b[0;34m\u001b[0m\n\u001b[0;32m----> 1\u001b[0;31m \u001b[0mrefmet_class\u001b[0m \u001b[0;34m=\u001b[0m \u001b[0mconvert_refmet\u001b[0m\u001b[0;34m(\u001b[0m\u001b[0mdata_1\u001b[0m\u001b[0;34m)\u001b[0m\u001b[0;34m\u001b[0m\u001b[0;34m\u001b[0m\u001b[0m\n\u001b[0m\u001b[1;32m      2\u001b[0m \u001b[0;34m\u001b[0m\u001b[0m\n",
      "\u001b[0;31mNameError\u001b[0m: name 'convert_refmet' is not defined"
     ]
    }
   ],
   "source": [
    "refmet_class = convert_refmet(data_1)\n",
    "\n"
   ]
  },
  {
   "cell_type": "code",
   "execution_count": null,
   "id": "grand-celebrity",
   "metadata": {},
   "outputs": [],
   "source": [
    "normtype = ['50percent']\n",
    "normtype"
   ]
  },
  {
   "cell_type": "code",
   "execution_count": null,
   "id": "hindu-foundation",
   "metadata": {},
   "outputs": [],
   "source": [
    "pthres = '0.05'\n",
    "pthres = float(pthres)\n",
    "pthres"
   ]
  },
  {
   "cell_type": "code",
   "execution_count": null,
   "id": "thermal-scott",
   "metadata": {},
   "outputs": [],
   "source": [
    "thres_log2foldchange = '0.5'\n",
    "thres_log2foldchange = float(thres_log2foldchange)\n",
    "thres_log2foldchange"
   ]
  },
  {
   "cell_type": "code",
   "execution_count": null,
   "id": "closing-swift",
   "metadata": {},
   "outputs": [],
   "source": []
  },
  {
   "cell_type": "code",
   "execution_count": null,
   "id": "civic-command",
   "metadata": {},
   "outputs": [],
   "source": [
    "thres_log2foldchange_countclass = '0.5'\n",
    "thres_log2foldchange_countclass = float(thres_log2foldchange_countclass)\n",
    "thres_log2foldchange_countclass"
   ]
  },
  {
   "cell_type": "code",
   "execution_count": null,
   "id": "imposed-ranking",
   "metadata": {},
   "outputs": [],
   "source": []
  },
  {
   "cell_type": "code",
   "execution_count": null,
   "id": "focused-wrong",
   "metadata": {},
   "outputs": [],
   "source": [
    "sigmets = 3\n",
    "sigmets"
   ]
  },
  {
   "cell_type": "code",
   "execution_count": null,
   "id": "realistic-product",
   "metadata": {},
   "outputs": [],
   "source": [
    "x_size_heat = 8\n",
    "x_size_heat"
   ]
  },
  {
   "cell_type": "code",
   "execution_count": null,
   "id": "standard-sweden",
   "metadata": {},
   "outputs": [],
   "source": [
    "y_size_heat = 6\n",
    "y_size_heat"
   ]
  },
  {
   "cell_type": "code",
   "execution_count": null,
   "id": "alternative-remove",
   "metadata": {},
   "outputs": [],
   "source": [
    "x_size_dot = 8\n",
    "x_size_dot"
   ]
  },
  {
   "cell_type": "code",
   "execution_count": null,
   "id": "capital-trouble",
   "metadata": {},
   "outputs": [],
   "source": [
    "y_size_dot = 6\n",
    "y_size_dot"
   ]
  }
 ],
 "metadata": {
  "appyter": {
   "nbconstruct": {
    "filename": "vignettes/MetENP_Appyter.ipynb",
    "files": {},
    "version": "0.12.0"
   },
   "nbexecute": {
    "completed": "2021-02-12T09:31:15.777054+00:00",
    "files": {},
    "started": "2021-02-12T09:30:47.447264+00:00",
    "version": "0.12.0"
   }
  },
  "kernelspec": {
   "display_name": "my-first-appyter",
   "language": "python",
   "name": "my-first-appyter"
  },
  "language_info": {
   "codemirror_mode": {
    "name": "ipython",
    "version": 3
   },
   "file_extension": ".py",
   "mimetype": "text/x-python",
   "name": "python",
   "nbconvert_exporter": "python",
   "pygments_lexer": "ipython3",
   "version": "3.8.5"
  }
 },
 "nbformat": 4,
 "nbformat_minor": 5
}
