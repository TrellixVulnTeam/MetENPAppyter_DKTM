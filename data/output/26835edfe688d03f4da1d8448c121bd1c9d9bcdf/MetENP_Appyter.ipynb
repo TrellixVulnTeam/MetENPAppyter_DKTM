{
 "cells": [
  {
   "cell_type": "code",
   "execution_count": 1,
   "id": "liquid-timber",
   "metadata": {
    "execution": {
     "iopub.execute_input": "2021-02-18T23:58:40.764973Z",
     "iopub.status.busy": "2021-02-18T23:58:40.763230Z",
     "iopub.status.idle": "2021-02-18T23:58:46.420330Z",
     "shell.execute_reply": "2021-02-18T23:58:46.421207Z"
    }
   },
   "outputs": [
    {
     "name": "stdout",
     "output_type": "stream",
     "text": [
      "3.4.2\n"
     ]
    },
    {
     "data": {
      "text/html": [
       "\n",
       "        <span>StrVector with 9 elements.</span>\n",
       "        <table>\n",
       "        <tbody>\n",
       "          <tr>\n",
       "          \n",
       "            <td>\n",
       "            'MetENP'\n",
       "            </td>\n",
       "          \n",
       "            <td>\n",
       "            'tools'\n",
       "            </td>\n",
       "          \n",
       "            <td>\n",
       "            'stats'\n",
       "            </td>\n",
       "          \n",
       "            <td>\n",
       "            ...\n",
       "            </td>\n",
       "          \n",
       "            <td>\n",
       "            'datasets'\n",
       "            </td>\n",
       "          \n",
       "            <td>\n",
       "            'methods'\n",
       "            </td>\n",
       "          \n",
       "            <td>\n",
       "            'base'\n",
       "            </td>\n",
       "          \n",
       "          </tr>\n",
       "        </tbody>\n",
       "        </table>\n",
       "        "
      ],
      "text/plain": [
       "<rpy2.robjects.vectors.StrVector object at 0x7f8345a97e80> [RTYPES.STRSXP]\n",
       "R classes: ('character',)\n",
       "['MetENP', 'tools', 'stats', 'graphics', ..., 'utils', 'datasets', 'methods', 'base']"
      ]
     },
     "execution_count": 1,
     "metadata": {},
     "output_type": "execute_result"
    }
   ],
   "source": [
    "import rpy2\n",
    "import rpy2.robjects as robjects\n",
    "import rpy2.robjects.packages as rpackages\n",
    "\n",
    "from rpy2.robjects import numpy2ri, pandas2ri\n",
    "#numpy2ri.activate()\n",
    "#pandas2ri.activate()\n",
    "\n",
    "#numpy2ri.deactivate()\n",
    "#pandas2ri.deactivate()\n",
    "\n",
    "print(rpy2.__version__)\n",
    "\n",
    "robjects.r('''\n",
    "\n",
    "library(MetENP)\n",
    "\n",
    "''')\n",
    "\n",
    "#bring this variable into R\n",
    "#r['study_id'] = {{ study_id }}\n",
    "#r('head(study_id)')"
   ]
  },
  {
   "cell_type": "code",
   "execution_count": 2,
   "id": "institutional-slide",
   "metadata": {
    "execution": {
     "iopub.execute_input": "2021-02-18T23:58:46.432445Z",
     "iopub.status.busy": "2021-02-18T23:58:46.429357Z",
     "iopub.status.idle": "2021-02-18T23:59:02.451352Z",
     "shell.execute_reply": "2021-02-18T23:59:02.450558Z"
    }
   },
   "outputs": [],
   "source": [
    "data_1 = robjects.r['getmwstudies']('ST000915', \n",
    "    'data'\n",
    ")"
   ]
  },
  {
   "cell_type": "code",
   "execution_count": 3,
   "id": "roman-documentation",
   "metadata": {
    "execution": {
     "iopub.execute_input": "2021-02-18T23:59:02.462129Z",
     "iopub.status.busy": "2021-02-18T23:59:02.459133Z",
     "iopub.status.idle": "2021-02-18T23:59:02.477240Z",
     "shell.execute_reply": "2021-02-18T23:59:02.478441Z"
    }
   },
   "outputs": [
    {
     "data": {
      "text/html": [
       "\n",
       "        <span>R/rpy2 DataFrame (6 x 93)</span>\n",
       "        <table>\n",
       "          <thead>\n",
       "            <tr>\n",
       "              \n",
       "              <th>analysis_id</th>\n",
       "              \n",
       "              <th>analysis_summary</th>\n",
       "              \n",
       "              <th>metabolite_name</th>\n",
       "              \n",
       "              <th>...</th>\n",
       "              \n",
       "              <th>NASH069</th>\n",
       "              \n",
       "              <th>NASH070</th>\n",
       "              \n",
       "              <th>NASH074</th>\n",
       "              \n",
       "            </tr>\n",
       "          </thead>\n",
       "          <tbody>\n",
       "          \n",
       "          <tr>\n",
       "            \n",
       "            <td>\n",
       "              StrSe...\n",
       "            </td>\n",
       "            \n",
       "            <td>\n",
       "              StrSe...\n",
       "            </td>\n",
       "            \n",
       "            <td>\n",
       "              StrSe...\n",
       "            </td>\n",
       "            \n",
       "            <td>\n",
       "              ...\n",
       "            </td>\n",
       "            \n",
       "            <td>\n",
       "              NA_character_\n",
       "            </td>\n",
       "            \n",
       "            <td>\n",
       "              NA_character_\n",
       "            </td>\n",
       "            \n",
       "            <td>\n",
       "              NA_character_\n",
       "            </td>\n",
       "            \n",
       "          </tr>\n",
       "          \n",
       "          <tr>\n",
       "            \n",
       "            <td>\n",
       "              StrSe...\n",
       "            </td>\n",
       "            \n",
       "            <td>\n",
       "              StrSe...\n",
       "            </td>\n",
       "            \n",
       "            <td>\n",
       "              StrSe...\n",
       "            </td>\n",
       "            \n",
       "            <td>\n",
       "              \n",
       "            </td>\n",
       "            \n",
       "            <td>\n",
       "              '0.25...\n",
       "            </td>\n",
       "            \n",
       "            <td>\n",
       "              '0.03...\n",
       "            </td>\n",
       "            \n",
       "            <td>\n",
       "              '0.05...\n",
       "            </td>\n",
       "            \n",
       "          </tr>\n",
       "          \n",
       "          <tr>\n",
       "            \n",
       "            <td>\n",
       "              StrSe...\n",
       "            </td>\n",
       "            \n",
       "            <td>\n",
       "              StrSe...\n",
       "            </td>\n",
       "            \n",
       "            <td>\n",
       "              StrSe...\n",
       "            </td>\n",
       "            \n",
       "            <td>\n",
       "              \n",
       "            </td>\n",
       "            \n",
       "            <td>\n",
       "              '0.05...\n",
       "            </td>\n",
       "            \n",
       "            <td>\n",
       "              '0.08...\n",
       "            </td>\n",
       "            \n",
       "            <td>\n",
       "              '0.10...\n",
       "            </td>\n",
       "            \n",
       "          </tr>\n",
       "          \n",
       "          <tr>\n",
       "            \n",
       "            <td>\n",
       "              StrSe...\n",
       "            </td>\n",
       "            \n",
       "            <td>\n",
       "              StrSe...\n",
       "            </td>\n",
       "            \n",
       "            <td>\n",
       "              StrSe...\n",
       "            </td>\n",
       "            \n",
       "            <td>\n",
       "              \n",
       "            </td>\n",
       "            \n",
       "            <td>\n",
       "              '0.00...\n",
       "            </td>\n",
       "            \n",
       "            <td>\n",
       "              NA_character_\n",
       "            </td>\n",
       "            \n",
       "            <td>\n",
       "              NA_character_\n",
       "            </td>\n",
       "            \n",
       "          </tr>\n",
       "          \n",
       "          <tr>\n",
       "            \n",
       "            <td>\n",
       "              StrSe...\n",
       "            </td>\n",
       "            \n",
       "            <td>\n",
       "              StrSe...\n",
       "            </td>\n",
       "            \n",
       "            <td>\n",
       "              StrSe...\n",
       "            </td>\n",
       "            \n",
       "            <td>\n",
       "              \n",
       "            </td>\n",
       "            \n",
       "            <td>\n",
       "              '0.01...\n",
       "            </td>\n",
       "            \n",
       "            <td>\n",
       "              '0.00...\n",
       "            </td>\n",
       "            \n",
       "            <td>\n",
       "              '0.01...\n",
       "            </td>\n",
       "            \n",
       "          </tr>\n",
       "          \n",
       "          <tr>\n",
       "            \n",
       "            <td>\n",
       "              StrSe...\n",
       "            </td>\n",
       "            \n",
       "            <td>\n",
       "              StrSe...\n",
       "            </td>\n",
       "            \n",
       "            <td>\n",
       "              StrSe...\n",
       "            </td>\n",
       "            \n",
       "            <td>\n",
       "              \n",
       "            </td>\n",
       "            \n",
       "            <td>\n",
       "              '0.00...\n",
       "            </td>\n",
       "            \n",
       "            <td>\n",
       "              '0.00...\n",
       "            </td>\n",
       "            \n",
       "            <td>\n",
       "              '0.01...\n",
       "            </td>\n",
       "            \n",
       "          </tr>\n",
       "          \n",
       "          </tbody>\n",
       "        </table>\n",
       "    "
      ],
      "text/plain": [
       "<rpy2.robjects.vectors.DataFrame object at 0x7f8341f33840> [RTYPES.VECSXP]\n",
       "R classes: ('tbl_df', 'tbl', 'data.frame')\n",
       "[ListSexpV..., ListSexpV..., ListSexpV..., ListSexpV..., ..., StrSexpVe..., StrSexpVe..., StrSexpVe..., StrSexpVe...]\n",
       "<rpy2.robjects.vectors.DataFrame object at 0x7f8341f33840> [RTYPES.VECSXP]\n",
       "R classes: ('tbl_df', 'tbl', 'data.frame')\n",
       "[ListSexpV..., ListSexpV..., ListSexpV..., ListSexpV..., ..., StrSexpVe..., StrSexpVe..., StrSexpVe..., StrSexpVe...]\n",
       "<rpy2.robjects.vectors.DataFrame object at 0x7f8341f33840> [RTYPES.VECSXP]\n",
       "R classes: ('tbl_df', 'tbl', 'data.frame')\n",
       "[ListSexpV..., ListSexpV..., ListSexpV..., ListSexpV..., ..., StrSexpVe..., StrSexpVe..., StrSexpVe..., StrSexpVe...]\n",
       "<rpy2.robjects.vectors.DataFrame object at 0x7f8341f33840> [RTYPES.VECSXP]\n",
       "R classes: ('tbl_df', 'tbl', 'data.frame')\n",
       "[ListSexpV..., ListSexpV..., ListSexpV..., ListSexpV..., ..., StrSexpVe..., StrSexpVe..., StrSexpVe..., StrSexpVe...]\n",
       "<rpy2.robjects.vectors.DataFrame object at 0x7f8341f33840> [RTYPES.VECSXP]\n",
       "R classes: ('tbl_df', 'tbl', 'data.frame')\n",
       "[ListSexpV..., ListSexpV..., ListSexpV..., ListSexpV..., ..., StrSexpVe..., StrSexpVe..., StrSexpVe..., StrSexpVe...]\n",
       "...\n",
       "  NASH001: <class 'rpy2.robjects.vectors.StrVector'>\n",
       "  <rpy2.robjects.vectors.StrVector object at 0x7f8345acfac0> [RTYPES.STRSXP]\n",
       "R classes: ('character',)\n",
       "[NA_character_, '0.24..., '0.10..., NA_character_, '0.01..., '0.03...]\n",
       "  NASH002: <class 'rpy2.robjects.vectors.StrVector'>\n",
       "  <rpy2.robjects.vectors.StrVector object at 0x7f832ea00a00> [RTYPES.STRSXP]\n",
       "R classes: ('character',)\n",
       "[NA_character_, '0.25..., '0.05..., '0.00..., '0.01..., '0.00...]\n",
       "  NASH003: <class 'rpy2.robjects.vectors.StrVector'>\n",
       "  <rpy2.robjects.vectors.StrVector object at 0x7f832ea003c0> [RTYPES.STRSXP]\n",
       "R classes: ('character',)\n",
       "[NA_character_, '0.03..., '0.08..., NA_character_, '0.00..., '0.00...]\n",
       "  NASH004: <class 'rpy2.robjects.vectors.StrVector'>\n",
       "  <rpy2.robjects.vectors.StrVector object at 0x7f832ea04180> [RTYPES.STRSXP]\n",
       "R classes: ('character',)\n",
       "[NA_character_, '0.05..., '0.10..., NA_character_, '0.01..., '0.01...]"
      ]
     },
     "execution_count": 3,
     "metadata": {},
     "output_type": "execute_result"
    }
   ],
   "source": [
    "#TODO: outputs are not the same type as the original vignette\n",
    "robjects.r['head'](data_1)"
   ]
  },
  {
   "cell_type": "code",
   "execution_count": 4,
   "id": "cutting-fiction",
   "metadata": {
    "execution": {
     "iopub.execute_input": "2021-02-18T23:59:02.504358Z",
     "iopub.status.busy": "2021-02-18T23:59:02.498374Z",
     "iopub.status.idle": "2021-02-18T23:59:02.514177Z",
     "shell.execute_reply": "2021-02-18T23:59:02.511550Z"
    }
   },
   "outputs": [
    {
     "data": {
      "text/html": [
       "\n",
       "        <span>BoolVector with 1 elements.</span>\n",
       "        <table>\n",
       "        <tbody>\n",
       "          <tr>\n",
       "          \n",
       "            <td>\n",
       "                   1\n",
       "            </td>\n",
       "          \n",
       "          </tr>\n",
       "        </tbody>\n",
       "        </table>\n",
       "        "
      ],
      "text/plain": [
       "<rpy2.robjects.vectors.BoolVector object at 0x7f832ea05ac0> [RTYPES.LGLSXP]\n",
       "R classes: ('logical',)\n",
       "[       1]"
      ]
     },
     "execution_count": 4,
     "metadata": {},
     "output_type": "execute_result"
    }
   ],
   "source": [
    "robjects.r['is.data.frame'](data_1)\n",
    "#print(type(data_1))"
   ]
  },
  {
   "cell_type": "code",
   "execution_count": 5,
   "id": "intense-reference",
   "metadata": {
    "execution": {
     "iopub.execute_input": "2021-02-18T23:59:02.535870Z",
     "iopub.status.busy": "2021-02-18T23:59:02.529867Z",
     "iopub.status.idle": "2021-02-18T23:59:02.540868Z",
     "shell.execute_reply": "2021-02-18T23:59:02.537948Z"
    }
   },
   "outputs": [],
   "source": [
    "data_1_as = data_1.rx2(\"analysis_summary\")"
   ]
  },
  {
   "cell_type": "code",
   "execution_count": 6,
   "id": "superb-decision",
   "metadata": {
    "execution": {
     "iopub.execute_input": "2021-02-18T23:59:02.561799Z",
     "iopub.status.busy": "2021-02-18T23:59:02.557178Z",
     "iopub.status.idle": "2021-02-18T23:59:02.566400Z",
     "shell.execute_reply": "2021-02-18T23:59:02.563822Z"
    }
   },
   "outputs": [],
   "source": [
    "unique_data_1_as = robjects.r[\"unique\"](data_1_as)"
   ]
  },
  {
   "cell_type": "code",
   "execution_count": 7,
   "id": "instructional-money",
   "metadata": {
    "execution": {
     "iopub.execute_input": "2021-02-18T23:59:02.586507Z",
     "iopub.status.busy": "2021-02-18T23:59:02.581552Z",
     "iopub.status.idle": "2021-02-18T23:59:02.596160Z",
     "shell.execute_reply": "2021-02-18T23:59:02.593008Z"
    }
   },
   "outputs": [
    {
     "name": "stdout",
     "output_type": "stream",
     "text": [
      "[[1]]\n",
      "[1] \"Core G Fatty acids/Eicosanoids\"\n",
      "\n",
      "[[2]]\n",
      "[1] \"Core J Sterols\"\n",
      "\n",
      "[[3]]\n",
      "[1] \"Core K Prenols/Cardiolipins\"\n",
      "\n",
      "[[4]]\n",
      "[1] \"Core E Neutral Lipids\"\n",
      "\n",
      "[[5]]\n",
      "[1] \"Core I Sphingolipids\"\n",
      "\n",
      "[[6]]\n",
      "[1] \"Core H Phospholipids\"\n",
      "\n",
      "\n"
     ]
    }
   ],
   "source": [
    "print(unique_data_1_as)\n",
    "#should be able to select any number of these for analysis with significant_met"
   ]
  },
  {
   "cell_type": "code",
   "execution_count": 8,
   "id": "medium-overall",
   "metadata": {
    "execution": {
     "iopub.execute_input": "2021-02-18T23:59:02.614198Z",
     "iopub.status.busy": "2021-02-18T23:59:02.609361Z",
     "iopub.status.idle": "2021-02-18T23:59:02.683818Z",
     "shell.execute_reply": "2021-02-18T23:59:02.684593Z"
    }
   },
   "outputs": [],
   "source": [
    "metadata = robjects.r['getmwstudies']('ST000915', \n",
    "    'factors'\n",
    ")"
   ]
  },
  {
   "cell_type": "code",
   "execution_count": 9,
   "id": "sharing-marina",
   "metadata": {
    "execution": {
     "iopub.execute_input": "2021-02-18T23:59:02.698206Z",
     "iopub.status.busy": "2021-02-18T23:59:02.694063Z",
     "iopub.status.idle": "2021-02-18T23:59:02.703465Z",
     "shell.execute_reply": "2021-02-18T23:59:02.704441Z"
    }
   },
   "outputs": [
    {
     "data": {
      "text/html": [
       "\n",
       "        <span>R/rpy2 DataFrame (6 x 5)</span>\n",
       "        <table>\n",
       "          <thead>\n",
       "            <tr>\n",
       "              \n",
       "              <th>study_id</th>\n",
       "              \n",
       "              <th>local_sample_id</th>\n",
       "              \n",
       "              <th>subject_type</th>\n",
       "              \n",
       "              <th>factors</th>\n",
       "              \n",
       "              <th>Diagnosis</th>\n",
       "              \n",
       "            </tr>\n",
       "          </thead>\n",
       "          <tbody>\n",
       "          \n",
       "          <tr>\n",
       "            \n",
       "            <td>\n",
       "              ...\n",
       "            </td>\n",
       "            \n",
       "            <td>\n",
       "              ...\n",
       "            </td>\n",
       "            \n",
       "            <td>\n",
       "              ...\n",
       "            </td>\n",
       "            \n",
       "            <td>\n",
       "              ...\n",
       "            </td>\n",
       "            \n",
       "            <td>\n",
       "              ...\n",
       "            </td>\n",
       "            \n",
       "          </tr>\n",
       "          \n",
       "          </tbody>\n",
       "        </table>\n",
       "    "
      ],
      "text/plain": [
       "<rpy2.robjects.vectors.DataFrame object at 0x7f832ea10f00> [RTYPES.VECSXP]\n",
       "R classes: ('data.frame',)\n",
       "[ListSex..., ListSex..., ListSex..., ListSex..., StrSexp...]\n",
       "  study_id: <class 'rpy2.rinterface.ListSexpVector'>\n",
       "  <rpy2.rinterface.ListSexpVector object at 0x7f832ea10f40> [RTYPES.VECSXP]\n",
       "  local_sample_id: <class 'rpy2.rinterface.ListSexpVector'>\n",
       "  <rpy2.rinterface.ListSexpVector object at 0x7f832ea16240> [RTYPES.VECSXP]\n",
       "  subject_type: <class 'rpy2.rinterface.ListSexpVector'>\n",
       "  <rpy2.rinterface.ListSexpVector object at 0x7f832ea16440> [RTYPES.VECSXP]\n",
       "  factors: <class 'rpy2.rinterface.ListSexpVector'>\n",
       "  <rpy2.rinterface.ListSexpVector object at 0x7f832ea16580> [RTYPES.VECSXP]\n",
       "  Diagnosis: <class 'rpy2.rinterface_lib.sexp.StrSexpVector'>\n",
       "  <rpy2.rinterface_lib.sexp.StrSexpVector object at 0x7f832ea16700> [RTYPES.STRSXP]"
      ]
     },
     "execution_count": 9,
     "metadata": {},
     "output_type": "execute_result"
    }
   ],
   "source": [
    "robjects.r['head'](metadata)"
   ]
  },
  {
   "cell_type": "markdown",
   "id": "alone-consultancy",
   "metadata": {},
   "source": [
    "Find the factors you would want to compare\n",
    "Multiple factors (independent variables) are formatted in multiple columns but you can get information on all the factors by \"factors\" column, such as 'TreatmentGroup:Prednisolone', this indicates column name 'TreatmentGroup' with factor Prednisolone. For t-test use the factors in the same column. For comparing multipe independent variables use anova by anova_ana function."
   ]
  },
  {
   "cell_type": "markdown",
   "id": "tired-sydney",
   "metadata": {},
   "source": [
    "### Associate metabolomics data to the refmet class"
   ]
  },
  {
   "cell_type": "code",
   "execution_count": 10,
   "id": "global-vocabulary",
   "metadata": {
    "execution": {
     "iopub.execute_input": "2021-02-18T23:59:02.722217Z",
     "iopub.status.busy": "2021-02-18T23:59:02.717218Z",
     "iopub.status.idle": "2021-02-18T23:59:12.468406Z",
     "shell.execute_reply": "2021-02-18T23:59:12.469283Z"
    }
   },
   "outputs": [],
   "source": [
    "refmet_class = robjects.r['convert_refmet'](data_1)"
   ]
  },
  {
   "cell_type": "code",
   "execution_count": 11,
   "id": "personalized-height",
   "metadata": {
    "execution": {
     "iopub.execute_input": "2021-02-18T23:59:12.478423Z",
     "iopub.status.busy": "2021-02-18T23:59:12.475791Z",
     "iopub.status.idle": "2021-02-18T23:59:12.494920Z",
     "shell.execute_reply": "2021-02-18T23:59:12.493398Z"
    }
   },
   "outputs": [
    {
     "data": {
      "text/html": [
       "\n",
       "        <span>R/rpy2 DataFrame (6 x 97)</span>\n",
       "        <table>\n",
       "          <thead>\n",
       "            <tr>\n",
       "              \n",
       "              <th>metabolite_name</th>\n",
       "              \n",
       "              <th>analysis_id</th>\n",
       "              \n",
       "              <th>analysis_summary</th>\n",
       "              \n",
       "              <th>...</th>\n",
       "              \n",
       "              <th>super_class</th>\n",
       "              \n",
       "              <th>main_class</th>\n",
       "              \n",
       "              <th>sub_class</th>\n",
       "              \n",
       "            </tr>\n",
       "          </thead>\n",
       "          <tbody>\n",
       "          \n",
       "          <tr>\n",
       "            \n",
       "            <td>\n",
       "              '1,2-...\n",
       "            </td>\n",
       "            \n",
       "            <td>\n",
       "              StrSe...\n",
       "            </td>\n",
       "            \n",
       "            <td>\n",
       "              StrSe...\n",
       "            </td>\n",
       "            \n",
       "            <td>\n",
       "              ...\n",
       "            </td>\n",
       "            \n",
       "            <td>\n",
       "              'Glyc...\n",
       "            </td>\n",
       "            \n",
       "            <td>\n",
       "              'Dira...\n",
       "            </td>\n",
       "            \n",
       "            <td>\n",
       "              'DAG'\n",
       "            </td>\n",
       "            \n",
       "          </tr>\n",
       "          \n",
       "          <tr>\n",
       "            \n",
       "            <td>\n",
       "              '1,2-...\n",
       "            </td>\n",
       "            \n",
       "            <td>\n",
       "              StrSe...\n",
       "            </td>\n",
       "            \n",
       "            <td>\n",
       "              StrSe...\n",
       "            </td>\n",
       "            \n",
       "            <td>\n",
       "              \n",
       "            </td>\n",
       "            \n",
       "            <td>\n",
       "              'Glyc...\n",
       "            </td>\n",
       "            \n",
       "            <td>\n",
       "              'Dira...\n",
       "            </td>\n",
       "            \n",
       "            <td>\n",
       "              'DAG'\n",
       "            </td>\n",
       "            \n",
       "          </tr>\n",
       "          \n",
       "          <tr>\n",
       "            \n",
       "            <td>\n",
       "              '1,2-...\n",
       "            </td>\n",
       "            \n",
       "            <td>\n",
       "              StrSe...\n",
       "            </td>\n",
       "            \n",
       "            <td>\n",
       "              StrSe...\n",
       "            </td>\n",
       "            \n",
       "            <td>\n",
       "              \n",
       "            </td>\n",
       "            \n",
       "            <td>\n",
       "              'Glyc...\n",
       "            </td>\n",
       "            \n",
       "            <td>\n",
       "              'Dira...\n",
       "            </td>\n",
       "            \n",
       "            <td>\n",
       "              'DAG'\n",
       "            </td>\n",
       "            \n",
       "          </tr>\n",
       "          \n",
       "          <tr>\n",
       "            \n",
       "            <td>\n",
       "              '1,2-...\n",
       "            </td>\n",
       "            \n",
       "            <td>\n",
       "              StrSe...\n",
       "            </td>\n",
       "            \n",
       "            <td>\n",
       "              StrSe...\n",
       "            </td>\n",
       "            \n",
       "            <td>\n",
       "              \n",
       "            </td>\n",
       "            \n",
       "            <td>\n",
       "              'Glyc...\n",
       "            </td>\n",
       "            \n",
       "            <td>\n",
       "              'Dira...\n",
       "            </td>\n",
       "            \n",
       "            <td>\n",
       "              'DAG'\n",
       "            </td>\n",
       "            \n",
       "          </tr>\n",
       "          \n",
       "          <tr>\n",
       "            \n",
       "            <td>\n",
       "              '1,2-...\n",
       "            </td>\n",
       "            \n",
       "            <td>\n",
       "              StrSe...\n",
       "            </td>\n",
       "            \n",
       "            <td>\n",
       "              StrSe...\n",
       "            </td>\n",
       "            \n",
       "            <td>\n",
       "              \n",
       "            </td>\n",
       "            \n",
       "            <td>\n",
       "              'Glyc...\n",
       "            </td>\n",
       "            \n",
       "            <td>\n",
       "              'Dira...\n",
       "            </td>\n",
       "            \n",
       "            <td>\n",
       "              'DAG'\n",
       "            </td>\n",
       "            \n",
       "          </tr>\n",
       "          \n",
       "          <tr>\n",
       "            \n",
       "            <td>\n",
       "              '1,2-...\n",
       "            </td>\n",
       "            \n",
       "            <td>\n",
       "              StrSe...\n",
       "            </td>\n",
       "            \n",
       "            <td>\n",
       "              StrSe...\n",
       "            </td>\n",
       "            \n",
       "            <td>\n",
       "              \n",
       "            </td>\n",
       "            \n",
       "            <td>\n",
       "              'Glyc...\n",
       "            </td>\n",
       "            \n",
       "            <td>\n",
       "              'Dira...\n",
       "            </td>\n",
       "            \n",
       "            <td>\n",
       "              'DAG'\n",
       "            </td>\n",
       "            \n",
       "          </tr>\n",
       "          \n",
       "          </tbody>\n",
       "        </table>\n",
       "    "
      ],
      "text/plain": [
       "<rpy2.robjects.vectors.DataFrame object at 0x7f832ea17e80> [RTYPES.VECSXP]\n",
       "R classes: ('data.frame',)\n",
       "[StrSexpVe..., ListSexpV..., ListSexpV..., ListSexpV..., ..., StrSexpVe..., StrSexpVe..., StrSexpVe..., StrSexpVe...]\n",
       "  metabolite_name: <class 'rpy2.robjects.vectors.StrVector'>\n",
       "  <rpy2.robjects.vectors.StrVector object at 0x7f832ea17f40> [RTYPES.STRSXP]\n",
       "R classes: ('character',)\n",
       "['1,2-..., '1,2-..., '1,2-..., '1,2-..., '1,2-..., '1,2-...]\n",
       "<rpy2.robjects.vectors.DataFrame object at 0x7f832ea17e80> [RTYPES.VECSXP]\n",
       "R classes: ('data.frame',)\n",
       "[StrSexpVe..., ListSexpV..., ListSexpV..., ListSexpV..., ..., StrSexpVe..., StrSexpVe..., StrSexpVe..., StrSexpVe...]\n",
       "<rpy2.robjects.vectors.DataFrame object at 0x7f832ea17e80> [RTYPES.VECSXP]\n",
       "R classes: ('data.frame',)\n",
       "[StrSexpVe..., ListSexpV..., ListSexpV..., ListSexpV..., ..., StrSexpVe..., StrSexpVe..., StrSexpVe..., StrSexpVe...]\n",
       "<rpy2.robjects.vectors.DataFrame object at 0x7f832ea17e80> [RTYPES.VECSXP]\n",
       "R classes: ('data.frame',)\n",
       "[StrSexpVe..., ListSexpV..., ListSexpV..., ListSexpV..., ..., StrSexpVe..., StrSexpVe..., StrSexpVe..., StrSexpVe...]\n",
       "...\n",
       "  NASH001: <class 'rpy2.robjects.vectors.StrVector'>\n",
       "  <rpy2.robjects.vectors.StrVector object at 0x7f832ea19980> [RTYPES.STRSXP]\n",
       "R classes: ('character',)\n",
       "['C33H..., 'C33H..., 'C35H..., 'C35H..., 'C35H..., 'C35H...]\n",
       "  NASH002: <class 'rpy2.robjects.vectors.StrVector'>\n",
       "  <rpy2.robjects.vectors.StrVector object at 0x7f832ea17fc0> [RTYPES.STRSXP]\n",
       "R classes: ('character',)\n",
       "['Glyc..., 'Glyc..., 'Glyc..., 'Glyc..., 'Glyc..., 'Glyc...]\n",
       "  NASH003: <class 'rpy2.robjects.vectors.StrVector'>\n",
       "  <rpy2.robjects.vectors.StrVector object at 0x7f832ea17c00> [RTYPES.STRSXP]\n",
       "R classes: ('character',)\n",
       "['Dira..., 'Dira..., 'Dira..., 'Dira..., 'Dira..., 'Dira...]\n",
       "  NASH004: <class 'rpy2.robjects.vectors.StrVector'>\n",
       "  <rpy2.robjects.vectors.StrVector object at 0x7f832ea174c0> [RTYPES.STRSXP]\n",
       "R classes: ('character',)\n",
       "['DAG', 'DAG', 'DAG', 'DAG', 'DAG', 'DAG']"
      ]
     },
     "execution_count": 11,
     "metadata": {},
     "output_type": "execute_result"
    }
   ],
   "source": [
    "robjects.r['head'](refmet_class)"
   ]
  },
  {
   "cell_type": "markdown",
   "id": "naked-walker",
   "metadata": {},
   "source": [
    "### Find significant metabolites, run significance of all the analysis summary together. The analysis summary/modes you got in the previous section"
   ]
  },
  {
   "cell_type": "markdown",
   "id": "stupid-relation",
   "metadata": {},
   "source": [
    "There is a normalization step which takes into account missing values, and this can be achieved via three methods:\n",
    "\n",
    "1) half_of_min: where the NAs are replaced by half of min values in the data\n",
    "\n",
    "2) remove_NAs: where Cols with NAs values are removed\n",
    "\n",
    "3) 50percent: where cols with more than 50% NAs values are removed\n",
    "\n",
    "half_of_min is ideal when you wish to see which metabolites were present in either group. Very high fold change would mean it was present in either group."
   ]
  },
  {
   "cell_type": "code",
   "execution_count": 12,
   "id": "detected-bernard",
   "metadata": {
    "execution": {
     "iopub.execute_input": "2021-02-18T23:59:12.521768Z",
     "iopub.status.busy": "2021-02-18T23:59:12.516868Z",
     "iopub.status.idle": "2021-02-18T23:59:12.543255Z",
     "shell.execute_reply": "2021-02-18T23:59:12.529215Z"
    }
   },
   "outputs": [
    {
     "name": "stdout",
     "output_type": "stream",
     "text": [
      "[1]"
     ]
    },
    {
     "name": "stdout",
     "output_type": "stream",
     "text": [
      " \"0.05\""
     ]
    },
    {
     "name": "stdout",
     "output_type": "stream",
     "text": [
      "\n"
     ]
    },
    {
     "data": {
      "text/html": [
       "\n",
       "        <span>StrVector with 1 elements.</span>\n",
       "        <table>\n",
       "        <tbody>\n",
       "          <tr>\n",
       "          \n",
       "            <td>\n",
       "            '0.05'\n",
       "            </td>\n",
       "          \n",
       "          </tr>\n",
       "        </tbody>\n",
       "        </table>\n",
       "        "
      ],
      "text/plain": [
       "<rpy2.robjects.vectors.StrVector object at 0x7f832ea10180> [RTYPES.STRSXP]\n",
       "R classes: ('character',)\n",
       "['0.05']"
      ]
     },
     "execution_count": 12,
     "metadata": {},
     "output_type": "execute_result"
    }
   ],
   "source": [
    "#need to change to float\n",
    "robjects.r['print']('0.05')"
   ]
  },
  {
   "cell_type": "code",
   "execution_count": 13,
   "id": "dietary-grade",
   "metadata": {
    "execution": {
     "iopub.execute_input": "2021-02-18T23:59:12.562973Z",
     "iopub.status.busy": "2021-02-18T23:59:12.559085Z",
     "iopub.status.idle": "2021-02-18T23:59:12.573285Z",
     "shell.execute_reply": "2021-02-18T23:59:12.564573Z"
    }
   },
   "outputs": [
    {
     "data": {
      "text/plain": [
       "0.5"
      ]
     },
     "execution_count": 13,
     "metadata": {},
     "output_type": "execute_result"
    }
   ],
   "source": [
    "thres_log2foldchange = '0.5'\n",
    "thres_log2foldchange = float(thres_log2foldchange)\n",
    "thres_log2foldchange"
   ]
  },
  {
   "cell_type": "code",
   "execution_count": 14,
   "id": "closing-swift",
   "metadata": {
    "execution": {
     "iopub.execute_input": "2021-02-18T23:59:12.592695Z",
     "iopub.status.busy": "2021-02-18T23:59:12.587702Z",
     "iopub.status.idle": "2021-02-18T23:59:12.852727Z",
     "shell.execute_reply": "2021-02-18T23:59:12.854573Z"
    }
   },
   "outputs": [
    {
     "ename": "NameError",
     "evalue": "name 'c' is not defined",
     "output_type": "error",
     "traceback": [
      "\u001b[0;31m---------------------------------------------------------------------------\u001b[0m",
      "\u001b[0;31mNameError\u001b[0m                                 Traceback (most recent call last)",
      "\u001b[0;32m<ipython-input-14-7e797e753b88>\u001b[0m in \u001b[0;36m<module>\u001b[0;34m\u001b[0m\n\u001b[0;32m----> 1\u001b[0;31m \u001b[0mrobjects\u001b[0m\u001b[0;34m.\u001b[0m\u001b[0mr\u001b[0m\u001b[0;34m[\u001b[0m\u001b[0;34m\"significant_met\"\u001b[0m\u001b[0;34m]\u001b[0m\u001b[0;34m(\u001b[0m\u001b[0mmetabolomics_data\u001b[0m\u001b[0;34m=\u001b[0m\u001b[0mrefmet_class\u001b[0m\u001b[0;34m,\u001b[0m \u001b[0mmet_col\u001b[0m\u001b[0;34m=\u001b[0m\u001b[0;34m\"metabolite_name\"\u001b[0m\u001b[0;34m,\u001b[0m\u001b[0manalysis_type\u001b[0m\u001b[0;34m=\u001b[0m\u001b[0mc\u001b[0m\u001b[0;34m(\u001b[0m\u001b[0;34m\"Core G Fatty acids/Eicosanoids\"\u001b[0m\u001b[0;34m,\u001b[0m\u001b[0;34m\"Core J Sterols\"\u001b[0m\u001b[0;34m,\u001b[0m\u001b[0;34m\"Core K Prenols/Cardiolipins\"\u001b[0m\u001b[0;34m,\u001b[0m\u001b[0;34m\"Core E Neutral Lipids\"\u001b[0m\u001b[0;34m,\u001b[0m\u001b[0;34m\"Core I Sphingolipids\"\u001b[0m\u001b[0;34m,\u001b[0m\u001b[0;34m\"Core H Phospholipids\"\u001b[0m\u001b[0;34m)\u001b[0m\u001b[0;34m,\u001b[0m \u001b[0mmetadata\u001b[0m\u001b[0;34m=\u001b[0m\u001b[0mmetadata\u001b[0m\u001b[0;34m,\u001b[0m \u001b[0mfactor1\u001b[0m\u001b[0;34m=\u001b[0m\u001b[0;34m'Cirrhosis'\u001b[0m\u001b[0;34m,\u001b[0m \u001b[0mfactor2\u001b[0m\u001b[0;34m=\u001b[0m\u001b[0mc\u001b[0m\u001b[0;34m(\u001b[0m\u001b[0;34m'Normal'\u001b[0m\u001b[0;34m)\u001b[0m\u001b[0;34m,\u001b[0m \u001b[0mfactor_col\u001b[0m\u001b[0;34m=\u001b[0m\u001b[0;34m'Diagnosis'\u001b[0m\u001b[0;34m,\u001b[0m\u001b[0msample_col\u001b[0m\u001b[0;34m=\u001b[0m\u001b[0;34m'local_sample_id'\u001b[0m\u001b[0;34m,\u001b[0m \u001b[0mp_adjust\u001b[0m\u001b[0;34m=\u001b[0m\u001b[0;34m'fdr'\u001b[0m\u001b[0;34m,\u001b[0m\u001b[0mnormalization\u001b[0m\u001b[0;34m=\u001b[0m\u001b[0;34m\"50percent\"\u001b[0m\u001b[0;34m)\u001b[0m\u001b[0;34m\u001b[0m\u001b[0;34m\u001b[0m\u001b[0m\n\u001b[0m",
      "\u001b[0;31mNameError\u001b[0m: name 'c' is not defined"
     ]
    }
   ],
   "source": [
    "robjects.r[\"significant_met\"](metabolomics_data=refmet_class, met_col=\"metabolite_name\",analysis_type=c(\"Core G Fatty acids/Eicosanoids\",\"Core J Sterols\",\"Core K Prenols/Cardiolipins\",\"Core E Neutral Lipids\",\"Core I Sphingolipids\",\"Core H Phospholipids\"), metadata=metadata, factor1='Cirrhosis', factor2=c('Normal'), factor_col='Diagnosis',sample_col='local_sample_id', p_adjust='fdr',normalization=\"50percent\")\n"
   ]
  },
  {
   "cell_type": "code",
   "execution_count": null,
   "id": "yellow-sustainability",
   "metadata": {},
   "outputs": [],
   "source": [
    "thres_log2foldchange_countclass = '0.5'\n",
    "thres_log2foldchange_countclass = float(thres_log2foldchange_countclass)\n",
    "thres_log2foldchange_countclass"
   ]
  },
  {
   "cell_type": "code",
   "execution_count": null,
   "id": "imposed-ranking",
   "metadata": {},
   "outputs": [],
   "source": []
  },
  {
   "cell_type": "code",
   "execution_count": null,
   "id": "generous-samuel",
   "metadata": {},
   "outputs": [],
   "source": [
    "sigmets = 3\n",
    "sigmets"
   ]
  },
  {
   "cell_type": "code",
   "execution_count": null,
   "id": "seasonal-edward",
   "metadata": {},
   "outputs": [],
   "source": [
    "x_size_heat = 8\n",
    "x_size_heat"
   ]
  },
  {
   "cell_type": "code",
   "execution_count": null,
   "id": "structural-hunger",
   "metadata": {},
   "outputs": [],
   "source": [
    "y_size_heat = 6\n",
    "y_size_heat"
   ]
  },
  {
   "cell_type": "code",
   "execution_count": null,
   "id": "critical-electric",
   "metadata": {},
   "outputs": [],
   "source": [
    "x_size_dot = 8\n",
    "x_size_dot"
   ]
  },
  {
   "cell_type": "code",
   "execution_count": null,
   "id": "corresponding-aquatic",
   "metadata": {},
   "outputs": [],
   "source": [
    "y_size_dot = 6\n",
    "y_size_dot"
   ]
  }
 ],
 "metadata": {
  "appyter": {
   "nbconstruct": {
    "filename": "vignettes/MetENP_Appyter.ipynb",
    "files": {},
    "version": "0.12.0"
   },
   "nbexecute": {
    "completed": "2021-02-18T15:59:13.480957+00:00",
    "files": {},
    "started": "2021-02-18T15:58:38.964522+00:00",
    "version": "0.12.0"
   }
  },
  "kernelspec": {
   "display_name": "my-first-appyter",
   "language": "python",
   "name": "my-first-appyter"
  },
  "language_info": {
   "codemirror_mode": {
    "name": "ipython",
    "version": 3
   },
   "file_extension": ".py",
   "mimetype": "text/x-python",
   "name": "python",
   "nbconvert_exporter": "python",
   "pygments_lexer": "ipython3",
   "version": "3.8.5"
  }
 },
 "nbformat": 4,
 "nbformat_minor": 5
}
