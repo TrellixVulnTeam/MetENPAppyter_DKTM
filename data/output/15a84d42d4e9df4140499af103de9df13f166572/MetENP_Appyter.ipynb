{
 "cells": [
  {
   "cell_type": "code",
   "execution_count": 1,
   "id": "liquid-timber",
   "metadata": {
    "execution": {
     "iopub.execute_input": "2021-02-17T20:18:38.146712Z",
     "iopub.status.busy": "2021-02-17T20:18:38.143884Z",
     "iopub.status.idle": "2021-02-17T20:18:43.594745Z",
     "shell.execute_reply": "2021-02-17T20:18:43.596089Z"
    }
   },
   "outputs": [
    {
     "name": "stdout",
     "output_type": "stream",
     "text": [
      "3.4.2\n"
     ]
    },
    {
     "data": {
      "text/html": [
       "\n",
       "        <span>StrVector with 9 elements.</span>\n",
       "        <table>\n",
       "        <tbody>\n",
       "          <tr>\n",
       "          \n",
       "            <td>\n",
       "            'MetENP'\n",
       "            </td>\n",
       "          \n",
       "            <td>\n",
       "            'tools'\n",
       "            </td>\n",
       "          \n",
       "            <td>\n",
       "            'stats'\n",
       "            </td>\n",
       "          \n",
       "            <td>\n",
       "            ...\n",
       "            </td>\n",
       "          \n",
       "            <td>\n",
       "            'datasets'\n",
       "            </td>\n",
       "          \n",
       "            <td>\n",
       "            'methods'\n",
       "            </td>\n",
       "          \n",
       "            <td>\n",
       "            'base'\n",
       "            </td>\n",
       "          \n",
       "          </tr>\n",
       "        </tbody>\n",
       "        </table>\n",
       "        "
      ],
      "text/plain": [
       "<rpy2.robjects.vectors.StrVector object at 0x7feb3c705ac0> [RTYPES.STRSXP]\n",
       "R classes: ('character',)\n",
       "['MetENP', 'tools', 'stats', 'graphics', ..., 'utils', 'datasets', 'methods', 'base']"
      ]
     },
     "execution_count": 1,
     "metadata": {},
     "output_type": "execute_result"
    }
   ],
   "source": [
    "import rpy2\n",
    "import rpy2.robjects as robjects\n",
    "import rpy2.robjects.packages as rpackages\n",
    "\n",
    "from rpy2.robjects import numpy2ri, pandas2ri\n",
    "#numpy2ri.activate()\n",
    "#pandas2ri.activate()\n",
    "\n",
    "#numpy2ri.deactivate()\n",
    "#pandas2ri.deactivate()\n",
    "\n",
    "print(rpy2.__version__)\n",
    "\n",
    "robjects.r('''\n",
    "\n",
    "library(MetENP)\n",
    "\n",
    "''')\n",
    "\n",
    "#bring this variable into R\n",
    "#r['study_id'] = {{ study_id }}\n",
    "#r('head(study_id)')"
   ]
  },
  {
   "cell_type": "code",
   "execution_count": 2,
   "id": "innovative-camel",
   "metadata": {
    "execution": {
     "iopub.execute_input": "2021-02-17T20:18:43.607152Z",
     "iopub.status.busy": "2021-02-17T20:18:43.603473Z",
     "iopub.status.idle": "2021-02-17T20:18:59.487309Z",
     "shell.execute_reply": "2021-02-17T20:18:59.488047Z"
    }
   },
   "outputs": [],
   "source": [
    "data_1 = robjects.r['getmwstudies']('ST000915', \n",
    "    'data'\n",
    ")"
   ]
  },
  {
   "cell_type": "code",
   "execution_count": 3,
   "id": "roman-documentation",
   "metadata": {
    "execution": {
     "iopub.execute_input": "2021-02-17T20:18:59.499294Z",
     "iopub.status.busy": "2021-02-17T20:18:59.496303Z",
     "iopub.status.idle": "2021-02-17T20:18:59.511638Z",
     "shell.execute_reply": "2021-02-17T20:18:59.510687Z"
    }
   },
   "outputs": [
    {
     "data": {
      "text/html": [
       "\n",
       "        <span>R/rpy2 DataFrame (6 x 93)</span>\n",
       "        <table>\n",
       "          <thead>\n",
       "            <tr>\n",
       "              \n",
       "              <th>analysis_id</th>\n",
       "              \n",
       "              <th>analysis_summary</th>\n",
       "              \n",
       "              <th>metabolite_name</th>\n",
       "              \n",
       "              <th>...</th>\n",
       "              \n",
       "              <th>NASH069</th>\n",
       "              \n",
       "              <th>NASH070</th>\n",
       "              \n",
       "              <th>NASH074</th>\n",
       "              \n",
       "            </tr>\n",
       "          </thead>\n",
       "          <tbody>\n",
       "          \n",
       "          <tr>\n",
       "            \n",
       "            <td>\n",
       "              StrSe...\n",
       "            </td>\n",
       "            \n",
       "            <td>\n",
       "              StrSe...\n",
       "            </td>\n",
       "            \n",
       "            <td>\n",
       "              StrSe...\n",
       "            </td>\n",
       "            \n",
       "            <td>\n",
       "              ...\n",
       "            </td>\n",
       "            \n",
       "            <td>\n",
       "              NA_character_\n",
       "            </td>\n",
       "            \n",
       "            <td>\n",
       "              NA_character_\n",
       "            </td>\n",
       "            \n",
       "            <td>\n",
       "              NA_character_\n",
       "            </td>\n",
       "            \n",
       "          </tr>\n",
       "          \n",
       "          <tr>\n",
       "            \n",
       "            <td>\n",
       "              StrSe...\n",
       "            </td>\n",
       "            \n",
       "            <td>\n",
       "              StrSe...\n",
       "            </td>\n",
       "            \n",
       "            <td>\n",
       "              StrSe...\n",
       "            </td>\n",
       "            \n",
       "            <td>\n",
       "              \n",
       "            </td>\n",
       "            \n",
       "            <td>\n",
       "              '0.25...\n",
       "            </td>\n",
       "            \n",
       "            <td>\n",
       "              '0.03...\n",
       "            </td>\n",
       "            \n",
       "            <td>\n",
       "              '0.05...\n",
       "            </td>\n",
       "            \n",
       "          </tr>\n",
       "          \n",
       "          <tr>\n",
       "            \n",
       "            <td>\n",
       "              StrSe...\n",
       "            </td>\n",
       "            \n",
       "            <td>\n",
       "              StrSe...\n",
       "            </td>\n",
       "            \n",
       "            <td>\n",
       "              StrSe...\n",
       "            </td>\n",
       "            \n",
       "            <td>\n",
       "              \n",
       "            </td>\n",
       "            \n",
       "            <td>\n",
       "              '0.05...\n",
       "            </td>\n",
       "            \n",
       "            <td>\n",
       "              '0.08...\n",
       "            </td>\n",
       "            \n",
       "            <td>\n",
       "              '0.10...\n",
       "            </td>\n",
       "            \n",
       "          </tr>\n",
       "          \n",
       "          <tr>\n",
       "            \n",
       "            <td>\n",
       "              StrSe...\n",
       "            </td>\n",
       "            \n",
       "            <td>\n",
       "              StrSe...\n",
       "            </td>\n",
       "            \n",
       "            <td>\n",
       "              StrSe...\n",
       "            </td>\n",
       "            \n",
       "            <td>\n",
       "              \n",
       "            </td>\n",
       "            \n",
       "            <td>\n",
       "              '0.00...\n",
       "            </td>\n",
       "            \n",
       "            <td>\n",
       "              NA_character_\n",
       "            </td>\n",
       "            \n",
       "            <td>\n",
       "              NA_character_\n",
       "            </td>\n",
       "            \n",
       "          </tr>\n",
       "          \n",
       "          <tr>\n",
       "            \n",
       "            <td>\n",
       "              StrSe...\n",
       "            </td>\n",
       "            \n",
       "            <td>\n",
       "              StrSe...\n",
       "            </td>\n",
       "            \n",
       "            <td>\n",
       "              StrSe...\n",
       "            </td>\n",
       "            \n",
       "            <td>\n",
       "              \n",
       "            </td>\n",
       "            \n",
       "            <td>\n",
       "              '0.01...\n",
       "            </td>\n",
       "            \n",
       "            <td>\n",
       "              '0.00...\n",
       "            </td>\n",
       "            \n",
       "            <td>\n",
       "              '0.01...\n",
       "            </td>\n",
       "            \n",
       "          </tr>\n",
       "          \n",
       "          <tr>\n",
       "            \n",
       "            <td>\n",
       "              StrSe...\n",
       "            </td>\n",
       "            \n",
       "            <td>\n",
       "              StrSe...\n",
       "            </td>\n",
       "            \n",
       "            <td>\n",
       "              StrSe...\n",
       "            </td>\n",
       "            \n",
       "            <td>\n",
       "              \n",
       "            </td>\n",
       "            \n",
       "            <td>\n",
       "              '0.00...\n",
       "            </td>\n",
       "            \n",
       "            <td>\n",
       "              '0.00...\n",
       "            </td>\n",
       "            \n",
       "            <td>\n",
       "              '0.01...\n",
       "            </td>\n",
       "            \n",
       "          </tr>\n",
       "          \n",
       "          </tbody>\n",
       "        </table>\n",
       "    "
      ],
      "text/plain": [
       "<rpy2.robjects.vectors.DataFrame object at 0x7feb3c748880> [RTYPES.VECSXP]\n",
       "R classes: ('tbl_df', 'tbl', 'data.frame')\n",
       "[ListSexpV..., ListSexpV..., ListSexpV..., ListSexpV..., ..., StrSexpVe..., StrSexpVe..., StrSexpVe..., StrSexpVe...]\n",
       "<rpy2.robjects.vectors.DataFrame object at 0x7feb3c748880> [RTYPES.VECSXP]\n",
       "R classes: ('tbl_df', 'tbl', 'data.frame')\n",
       "[ListSexpV..., ListSexpV..., ListSexpV..., ListSexpV..., ..., StrSexpVe..., StrSexpVe..., StrSexpVe..., StrSexpVe...]\n",
       "<rpy2.robjects.vectors.DataFrame object at 0x7feb3c748880> [RTYPES.VECSXP]\n",
       "R classes: ('tbl_df', 'tbl', 'data.frame')\n",
       "[ListSexpV..., ListSexpV..., ListSexpV..., ListSexpV..., ..., StrSexpVe..., StrSexpVe..., StrSexpVe..., StrSexpVe...]\n",
       "<rpy2.robjects.vectors.DataFrame object at 0x7feb3c748880> [RTYPES.VECSXP]\n",
       "R classes: ('tbl_df', 'tbl', 'data.frame')\n",
       "[ListSexpV..., ListSexpV..., ListSexpV..., ListSexpV..., ..., StrSexpVe..., StrSexpVe..., StrSexpVe..., StrSexpVe...]\n",
       "<rpy2.robjects.vectors.DataFrame object at 0x7feb3c748880> [RTYPES.VECSXP]\n",
       "R classes: ('tbl_df', 'tbl', 'data.frame')\n",
       "[ListSexpV..., ListSexpV..., ListSexpV..., ListSexpV..., ..., StrSexpVe..., StrSexpVe..., StrSexpVe..., StrSexpVe...]\n",
       "...\n",
       "  NASH001: <class 'rpy2.robjects.vectors.StrVector'>\n",
       "  <rpy2.robjects.vectors.StrVector object at 0x7feb40bf4fc0> [RTYPES.STRSXP]\n",
       "R classes: ('character',)\n",
       "[NA_character_, '0.24..., '0.10..., NA_character_, '0.01..., '0.03...]\n",
       "  NASH002: <class 'rpy2.robjects.vectors.StrVector'>\n",
       "  <rpy2.robjects.vectors.StrVector object at 0x7feb40bffa40> [RTYPES.STRSXP]\n",
       "R classes: ('character',)\n",
       "[NA_character_, '0.25..., '0.05..., '0.00..., '0.01..., '0.00...]\n",
       "  NASH003: <class 'rpy2.robjects.vectors.StrVector'>\n",
       "  <rpy2.robjects.vectors.StrVector object at 0x7feb40bff0c0> [RTYPES.STRSXP]\n",
       "R classes: ('character',)\n",
       "[NA_character_, '0.03..., '0.08..., NA_character_, '0.00..., '0.00...]\n",
       "  NASH004: <class 'rpy2.robjects.vectors.StrVector'>\n",
       "  <rpy2.robjects.vectors.StrVector object at 0x7feb40bff440> [RTYPES.STRSXP]\n",
       "R classes: ('character',)\n",
       "[NA_character_, '0.05..., '0.10..., NA_character_, '0.01..., '0.01...]"
      ]
     },
     "execution_count": 3,
     "metadata": {},
     "output_type": "execute_result"
    }
   ],
   "source": [
    "#TODO: outputs are not the same type as the original vignette\n",
    "robjects.r['head'](data_1)"
   ]
  },
  {
   "cell_type": "code",
   "execution_count": 4,
   "id": "cutting-fiction",
   "metadata": {
    "execution": {
     "iopub.execute_input": "2021-02-17T20:18:59.524393Z",
     "iopub.status.busy": "2021-02-17T20:18:59.520984Z",
     "iopub.status.idle": "2021-02-17T20:18:59.531320Z",
     "shell.execute_reply": "2021-02-17T20:18:59.529420Z"
    }
   },
   "outputs": [
    {
     "data": {
      "text/html": [
       "\n",
       "        <span>BoolVector with 1 elements.</span>\n",
       "        <table>\n",
       "        <tbody>\n",
       "          <tr>\n",
       "          \n",
       "            <td>\n",
       "                   1\n",
       "            </td>\n",
       "          \n",
       "          </tr>\n",
       "        </tbody>\n",
       "        </table>\n",
       "        "
      ],
      "text/plain": [
       "<rpy2.robjects.vectors.BoolVector object at 0x7feb289c3980> [RTYPES.LGLSXP]\n",
       "R classes: ('logical',)\n",
       "[       1]"
      ]
     },
     "execution_count": 4,
     "metadata": {},
     "output_type": "execute_result"
    }
   ],
   "source": [
    "robjects.r['is.data.frame'](data_1)\n",
    "#print(type(data_1))"
   ]
  },
  {
   "cell_type": "code",
   "execution_count": 5,
   "id": "hollow-subscription",
   "metadata": {
    "execution": {
     "iopub.execute_input": "2021-02-17T20:18:59.544717Z",
     "iopub.status.busy": "2021-02-17T20:18:59.541423Z",
     "iopub.status.idle": "2021-02-17T20:18:59.596482Z",
     "shell.execute_reply": "2021-02-17T20:18:59.597428Z"
    }
   },
   "outputs": [],
   "source": [
    "metadata = robjects.r['getmwstudies']('ST000915', \n",
    "    'factors'\n",
    ")"
   ]
  },
  {
   "cell_type": "code",
   "execution_count": 6,
   "id": "rural-error",
   "metadata": {
    "execution": {
     "iopub.execute_input": "2021-02-17T20:18:59.607681Z",
     "iopub.status.busy": "2021-02-17T20:18:59.605103Z",
     "iopub.status.idle": "2021-02-17T20:18:59.612438Z",
     "shell.execute_reply": "2021-02-17T20:18:59.613493Z"
    }
   },
   "outputs": [
    {
     "data": {
      "text/html": [
       "\n",
       "        <span>R/rpy2 DataFrame (6 x 5)</span>\n",
       "        <table>\n",
       "          <thead>\n",
       "            <tr>\n",
       "              \n",
       "              <th>study_id</th>\n",
       "              \n",
       "              <th>local_sample_id</th>\n",
       "              \n",
       "              <th>subject_type</th>\n",
       "              \n",
       "              <th>factors</th>\n",
       "              \n",
       "              <th>Diagnosis</th>\n",
       "              \n",
       "            </tr>\n",
       "          </thead>\n",
       "          <tbody>\n",
       "          \n",
       "          <tr>\n",
       "            \n",
       "            <td>\n",
       "              ...\n",
       "            </td>\n",
       "            \n",
       "            <td>\n",
       "              ...\n",
       "            </td>\n",
       "            \n",
       "            <td>\n",
       "              ...\n",
       "            </td>\n",
       "            \n",
       "            <td>\n",
       "              ...\n",
       "            </td>\n",
       "            \n",
       "            <td>\n",
       "              ...\n",
       "            </td>\n",
       "            \n",
       "          </tr>\n",
       "          \n",
       "          </tbody>\n",
       "        </table>\n",
       "    "
      ],
      "text/plain": [
       "<rpy2.robjects.vectors.DataFrame object at 0x7feb289c7e40> [RTYPES.VECSXP]\n",
       "R classes: ('data.frame',)\n",
       "[ListSex..., ListSex..., ListSex..., ListSex..., StrSexp...]\n",
       "  study_id: <class 'rpy2.rinterface.ListSexpVector'>\n",
       "  <rpy2.rinterface.ListSexpVector object at 0x7feb289cd280> [RTYPES.VECSXP]\n",
       "  local_sample_id: <class 'rpy2.rinterface.ListSexpVector'>\n",
       "  <rpy2.rinterface.ListSexpVector object at 0x7feb289cd580> [RTYPES.VECSXP]\n",
       "  subject_type: <class 'rpy2.rinterface.ListSexpVector'>\n",
       "  <rpy2.rinterface.ListSexpVector object at 0x7feb289cd740> [RTYPES.VECSXP]\n",
       "  factors: <class 'rpy2.rinterface.ListSexpVector'>\n",
       "  <rpy2.rinterface.ListSexpVector object at 0x7feb289cd8c0> [RTYPES.VECSXP]\n",
       "  Diagnosis: <class 'rpy2.rinterface_lib.sexp.StrSexpVector'>\n",
       "  <rpy2.rinterface_lib.sexp.StrSexpVector object at 0x7feb289cda40> [RTYPES.STRSXP]"
      ]
     },
     "execution_count": 6,
     "metadata": {},
     "output_type": "execute_result"
    }
   ],
   "source": [
    "robjects.r['head'](metadata)"
   ]
  },
  {
   "cell_type": "markdown",
   "id": "alone-consultancy",
   "metadata": {},
   "source": [
    "Find the factors you would want to compare\n",
    "Multiple factors (independent variables) are formatted in multiple columns but you can get information on all the factors by \"factors\" column, such as 'TreatmentGroup:Prednisolone', this indicates column name 'TreatmentGroup' with factor Prednisolone. For t-test use the factors in the same column. For comparing multipe independent variables use anova by anova_ana function."
   ]
  },
  {
   "cell_type": "markdown",
   "id": "tired-sydney",
   "metadata": {},
   "source": [
    "### Associate metabolomics data to the refmet class"
   ]
  },
  {
   "cell_type": "code",
   "execution_count": 7,
   "id": "global-vocabulary",
   "metadata": {
    "execution": {
     "iopub.execute_input": "2021-02-17T20:18:59.627523Z",
     "iopub.status.busy": "2021-02-17T20:18:59.623972Z",
     "iopub.status.idle": "2021-02-17T20:18:59.871923Z",
     "shell.execute_reply": "2021-02-17T20:18:59.873275Z"
    }
   },
   "outputs": [
    {
     "ename": "NameError",
     "evalue": "name 'convert_refmet' is not defined",
     "output_type": "error",
     "traceback": [
      "\u001b[0;31m---------------------------------------------------------------------------\u001b[0m",
      "\u001b[0;31mNameError\u001b[0m                                 Traceback (most recent call last)",
      "\u001b[0;32m<ipython-input-7-3875d7f6bd06>\u001b[0m in \u001b[0;36m<module>\u001b[0;34m\u001b[0m\n\u001b[0;32m----> 1\u001b[0;31m \u001b[0mrefmet_class\u001b[0m \u001b[0;34m=\u001b[0m \u001b[0mconvert_refmet\u001b[0m\u001b[0;34m(\u001b[0m\u001b[0mdata_1\u001b[0m\u001b[0;34m)\u001b[0m\u001b[0;34m\u001b[0m\u001b[0;34m\u001b[0m\u001b[0m\n\u001b[0m\u001b[1;32m      2\u001b[0m \u001b[0;34m\u001b[0m\u001b[0m\n",
      "\u001b[0;31mNameError\u001b[0m: name 'convert_refmet' is not defined"
     ]
    }
   ],
   "source": [
    "refmet_class = convert_refmet(data_1)\n",
    "\n"
   ]
  },
  {
   "cell_type": "code",
   "execution_count": null,
   "id": "structural-spine",
   "metadata": {},
   "outputs": [],
   "source": [
    "normtype = ['50percent']\n",
    "normtype"
   ]
  },
  {
   "cell_type": "code",
   "execution_count": null,
   "id": "unable-yield",
   "metadata": {},
   "outputs": [],
   "source": [
    "pthres = '0.05'\n",
    "pthres = float(pthres)\n",
    "pthres"
   ]
  },
  {
   "cell_type": "code",
   "execution_count": null,
   "id": "professional-apollo",
   "metadata": {},
   "outputs": [],
   "source": [
    "thres_log2foldchange = '0.5'\n",
    "thres_log2foldchange = float(thres_log2foldchange)\n",
    "thres_log2foldchange"
   ]
  },
  {
   "cell_type": "code",
   "execution_count": null,
   "id": "closing-swift",
   "metadata": {},
   "outputs": [],
   "source": []
  },
  {
   "cell_type": "code",
   "execution_count": null,
   "id": "incorporate-procedure",
   "metadata": {},
   "outputs": [],
   "source": [
    "thres_log2foldchange_countclass = '0.5'\n",
    "thres_log2foldchange_countclass = float(thres_log2foldchange_countclass)\n",
    "thres_log2foldchange_countclass"
   ]
  },
  {
   "cell_type": "code",
   "execution_count": null,
   "id": "imposed-ranking",
   "metadata": {},
   "outputs": [],
   "source": []
  },
  {
   "cell_type": "code",
   "execution_count": null,
   "id": "defensive-alexandria",
   "metadata": {},
   "outputs": [],
   "source": [
    "sigmets = 3\n",
    "sigmets"
   ]
  },
  {
   "cell_type": "code",
   "execution_count": null,
   "id": "certain-honor",
   "metadata": {},
   "outputs": [],
   "source": [
    "x_size_heat = 8\n",
    "x_size_heat"
   ]
  },
  {
   "cell_type": "code",
   "execution_count": null,
   "id": "institutional-delaware",
   "metadata": {},
   "outputs": [],
   "source": [
    "y_size_heat = 6\n",
    "y_size_heat"
   ]
  },
  {
   "cell_type": "code",
   "execution_count": null,
   "id": "formal-spirit",
   "metadata": {},
   "outputs": [],
   "source": [
    "x_size_dot = 8\n",
    "x_size_dot"
   ]
  },
  {
   "cell_type": "code",
   "execution_count": null,
   "id": "operational-paste",
   "metadata": {},
   "outputs": [],
   "source": [
    "y_size_dot = 6\n",
    "y_size_dot"
   ]
  }
 ],
 "metadata": {
  "appyter": {
   "nbconstruct": {
    "filename": "vignettes/MetENP_Appyter.ipynb",
    "files": {},
    "version": "0.12.0"
   },
   "nbexecute": {
    "completed": "2021-02-17T12:19:01.319930+00:00",
    "files": {},
    "started": "2021-02-17T12:18:37.187394+00:00",
    "version": "0.12.0"
   }
  },
  "kernelspec": {
   "display_name": "my-first-appyter",
   "language": "python",
   "name": "my-first-appyter"
  },
  "language_info": {
   "codemirror_mode": {
    "name": "ipython",
    "version": 3
   },
   "file_extension": ".py",
   "mimetype": "text/x-python",
   "name": "python",
   "nbconvert_exporter": "python",
   "pygments_lexer": "ipython3",
   "version": "3.8.5"
  }
 },
 "nbformat": 4,
 "nbformat_minor": 5
}
