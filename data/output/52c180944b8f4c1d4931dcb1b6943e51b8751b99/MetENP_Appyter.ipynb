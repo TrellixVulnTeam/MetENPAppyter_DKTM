{
 "cells": [
  {
   "cell_type": "code",
   "execution_count": 1,
   "id": "liquid-timber",
   "metadata": {
    "execution": {
     "iopub.execute_input": "2021-02-17T21:19:17.172111Z",
     "iopub.status.busy": "2021-02-17T21:19:17.168281Z",
     "iopub.status.idle": "2021-02-17T21:19:27.059595Z",
     "shell.execute_reply": "2021-02-17T21:19:27.062309Z"
    }
   },
   "outputs": [
    {
     "name": "stdout",
     "output_type": "stream",
     "text": [
      "3.4.2\n"
     ]
    },
    {
     "data": {
      "text/html": [
       "\n",
       "        <span>StrVector with 9 elements.</span>\n",
       "        <table>\n",
       "        <tbody>\n",
       "          <tr>\n",
       "          \n",
       "            <td>\n",
       "            'MetENP'\n",
       "            </td>\n",
       "          \n",
       "            <td>\n",
       "            'tools'\n",
       "            </td>\n",
       "          \n",
       "            <td>\n",
       "            'stats'\n",
       "            </td>\n",
       "          \n",
       "            <td>\n",
       "            ...\n",
       "            </td>\n",
       "          \n",
       "            <td>\n",
       "            'datasets'\n",
       "            </td>\n",
       "          \n",
       "            <td>\n",
       "            'methods'\n",
       "            </td>\n",
       "          \n",
       "            <td>\n",
       "            'base'\n",
       "            </td>\n",
       "          \n",
       "          </tr>\n",
       "        </tbody>\n",
       "        </table>\n",
       "        "
      ],
      "text/plain": [
       "<rpy2.robjects.vectors.StrVector object at 0x7fe8d21a4f80> [RTYPES.STRSXP]\n",
       "R classes: ('character',)\n",
       "['MetENP', 'tools', 'stats', 'graphics', ..., 'utils', 'datasets', 'methods', 'base']"
      ]
     },
     "execution_count": 1,
     "metadata": {},
     "output_type": "execute_result"
    }
   ],
   "source": [
    "import rpy2\n",
    "import rpy2.robjects as robjects\n",
    "import rpy2.robjects.packages as rpackages\n",
    "\n",
    "from rpy2.robjects import numpy2ri, pandas2ri\n",
    "#numpy2ri.activate()\n",
    "#pandas2ri.activate()\n",
    "\n",
    "#numpy2ri.deactivate()\n",
    "#pandas2ri.deactivate()\n",
    "\n",
    "print(rpy2.__version__)\n",
    "\n",
    "robjects.r('''\n",
    "\n",
    "library(MetENP)\n",
    "\n",
    "''')\n",
    "\n",
    "#bring this variable into R\n",
    "#r['study_id'] = {{ study_id }}\n",
    "#r('head(study_id)')"
   ]
  },
  {
   "cell_type": "code",
   "execution_count": 2,
   "id": "nearby-field",
   "metadata": {
    "execution": {
     "iopub.execute_input": "2021-02-17T21:19:27.079127Z",
     "iopub.status.busy": "2021-02-17T21:19:27.073896Z",
     "iopub.status.idle": "2021-02-17T21:19:45.886934Z",
     "shell.execute_reply": "2021-02-17T21:19:45.890616Z"
    }
   },
   "outputs": [],
   "source": [
    "data_1 = robjects.r['getmwstudies']('ST000915', \n",
    "    'data'\n",
    ")"
   ]
  },
  {
   "cell_type": "code",
   "execution_count": 3,
   "id": "roman-documentation",
   "metadata": {
    "execution": {
     "iopub.execute_input": "2021-02-17T21:19:45.923763Z",
     "iopub.status.busy": "2021-02-17T21:19:45.917040Z",
     "iopub.status.idle": "2021-02-17T21:19:45.960275Z",
     "shell.execute_reply": "2021-02-17T21:19:45.962470Z"
    }
   },
   "outputs": [
    {
     "data": {
      "text/html": [
       "\n",
       "        <span>R/rpy2 DataFrame (6 x 93)</span>\n",
       "        <table>\n",
       "          <thead>\n",
       "            <tr>\n",
       "              \n",
       "              <th>analysis_id</th>\n",
       "              \n",
       "              <th>analysis_summary</th>\n",
       "              \n",
       "              <th>metabolite_name</th>\n",
       "              \n",
       "              <th>...</th>\n",
       "              \n",
       "              <th>NASH069</th>\n",
       "              \n",
       "              <th>NASH070</th>\n",
       "              \n",
       "              <th>NASH074</th>\n",
       "              \n",
       "            </tr>\n",
       "          </thead>\n",
       "          <tbody>\n",
       "          \n",
       "          <tr>\n",
       "            \n",
       "            <td>\n",
       "              StrSe...\n",
       "            </td>\n",
       "            \n",
       "            <td>\n",
       "              StrSe...\n",
       "            </td>\n",
       "            \n",
       "            <td>\n",
       "              StrSe...\n",
       "            </td>\n",
       "            \n",
       "            <td>\n",
       "              ...\n",
       "            </td>\n",
       "            \n",
       "            <td>\n",
       "              NA_character_\n",
       "            </td>\n",
       "            \n",
       "            <td>\n",
       "              NA_character_\n",
       "            </td>\n",
       "            \n",
       "            <td>\n",
       "              NA_character_\n",
       "            </td>\n",
       "            \n",
       "          </tr>\n",
       "          \n",
       "          <tr>\n",
       "            \n",
       "            <td>\n",
       "              StrSe...\n",
       "            </td>\n",
       "            \n",
       "            <td>\n",
       "              StrSe...\n",
       "            </td>\n",
       "            \n",
       "            <td>\n",
       "              StrSe...\n",
       "            </td>\n",
       "            \n",
       "            <td>\n",
       "              \n",
       "            </td>\n",
       "            \n",
       "            <td>\n",
       "              '0.25...\n",
       "            </td>\n",
       "            \n",
       "            <td>\n",
       "              '0.03...\n",
       "            </td>\n",
       "            \n",
       "            <td>\n",
       "              '0.05...\n",
       "            </td>\n",
       "            \n",
       "          </tr>\n",
       "          \n",
       "          <tr>\n",
       "            \n",
       "            <td>\n",
       "              StrSe...\n",
       "            </td>\n",
       "            \n",
       "            <td>\n",
       "              StrSe...\n",
       "            </td>\n",
       "            \n",
       "            <td>\n",
       "              StrSe...\n",
       "            </td>\n",
       "            \n",
       "            <td>\n",
       "              \n",
       "            </td>\n",
       "            \n",
       "            <td>\n",
       "              '0.05...\n",
       "            </td>\n",
       "            \n",
       "            <td>\n",
       "              '0.08...\n",
       "            </td>\n",
       "            \n",
       "            <td>\n",
       "              '0.10...\n",
       "            </td>\n",
       "            \n",
       "          </tr>\n",
       "          \n",
       "          <tr>\n",
       "            \n",
       "            <td>\n",
       "              StrSe...\n",
       "            </td>\n",
       "            \n",
       "            <td>\n",
       "              StrSe...\n",
       "            </td>\n",
       "            \n",
       "            <td>\n",
       "              StrSe...\n",
       "            </td>\n",
       "            \n",
       "            <td>\n",
       "              \n",
       "            </td>\n",
       "            \n",
       "            <td>\n",
       "              '0.00...\n",
       "            </td>\n",
       "            \n",
       "            <td>\n",
       "              NA_character_\n",
       "            </td>\n",
       "            \n",
       "            <td>\n",
       "              NA_character_\n",
       "            </td>\n",
       "            \n",
       "          </tr>\n",
       "          \n",
       "          <tr>\n",
       "            \n",
       "            <td>\n",
       "              StrSe...\n",
       "            </td>\n",
       "            \n",
       "            <td>\n",
       "              StrSe...\n",
       "            </td>\n",
       "            \n",
       "            <td>\n",
       "              StrSe...\n",
       "            </td>\n",
       "            \n",
       "            <td>\n",
       "              \n",
       "            </td>\n",
       "            \n",
       "            <td>\n",
       "              '0.01...\n",
       "            </td>\n",
       "            \n",
       "            <td>\n",
       "              '0.00...\n",
       "            </td>\n",
       "            \n",
       "            <td>\n",
       "              '0.01...\n",
       "            </td>\n",
       "            \n",
       "          </tr>\n",
       "          \n",
       "          <tr>\n",
       "            \n",
       "            <td>\n",
       "              StrSe...\n",
       "            </td>\n",
       "            \n",
       "            <td>\n",
       "              StrSe...\n",
       "            </td>\n",
       "            \n",
       "            <td>\n",
       "              StrSe...\n",
       "            </td>\n",
       "            \n",
       "            <td>\n",
       "              \n",
       "            </td>\n",
       "            \n",
       "            <td>\n",
       "              '0.00...\n",
       "            </td>\n",
       "            \n",
       "            <td>\n",
       "              '0.00...\n",
       "            </td>\n",
       "            \n",
       "            <td>\n",
       "              '0.01...\n",
       "            </td>\n",
       "            \n",
       "          </tr>\n",
       "          \n",
       "          </tbody>\n",
       "        </table>\n",
       "    "
      ],
      "text/plain": [
       "<rpy2.robjects.vectors.DataFrame object at 0x7fe8cee2e880> [RTYPES.VECSXP]\n",
       "R classes: ('tbl_df', 'tbl', 'data.frame')\n",
       "[ListSexpV..., ListSexpV..., ListSexpV..., ListSexpV..., ..., StrSexpVe..., StrSexpVe..., StrSexpVe..., StrSexpVe...]\n",
       "<rpy2.robjects.vectors.DataFrame object at 0x7fe8cee2e880> [RTYPES.VECSXP]\n",
       "R classes: ('tbl_df', 'tbl', 'data.frame')\n",
       "[ListSexpV..., ListSexpV..., ListSexpV..., ListSexpV..., ..., StrSexpVe..., StrSexpVe..., StrSexpVe..., StrSexpVe...]\n",
       "<rpy2.robjects.vectors.DataFrame object at 0x7fe8cee2e880> [RTYPES.VECSXP]\n",
       "R classes: ('tbl_df', 'tbl', 'data.frame')\n",
       "[ListSexpV..., ListSexpV..., ListSexpV..., ListSexpV..., ..., StrSexpVe..., StrSexpVe..., StrSexpVe..., StrSexpVe...]\n",
       "<rpy2.robjects.vectors.DataFrame object at 0x7fe8cee2e880> [RTYPES.VECSXP]\n",
       "R classes: ('tbl_df', 'tbl', 'data.frame')\n",
       "[ListSexpV..., ListSexpV..., ListSexpV..., ListSexpV..., ..., StrSexpVe..., StrSexpVe..., StrSexpVe..., StrSexpVe...]\n",
       "<rpy2.robjects.vectors.DataFrame object at 0x7fe8cee2e880> [RTYPES.VECSXP]\n",
       "R classes: ('tbl_df', 'tbl', 'data.frame')\n",
       "[ListSexpV..., ListSexpV..., ListSexpV..., ListSexpV..., ..., StrSexpVe..., StrSexpVe..., StrSexpVe..., StrSexpVe...]\n",
       "...\n",
       "  NASH001: <class 'rpy2.robjects.vectors.StrVector'>\n",
       "  <rpy2.robjects.vectors.StrVector object at 0x7fe8d21b4ac0> [RTYPES.STRSXP]\n",
       "R classes: ('character',)\n",
       "[NA_character_, '0.24..., '0.10..., NA_character_, '0.01..., '0.03...]\n",
       "  NASH002: <class 'rpy2.robjects.vectors.StrVector'>\n",
       "  <rpy2.robjects.vectors.StrVector object at 0x7fe8d21d6a80> [RTYPES.STRSXP]\n",
       "R classes: ('character',)\n",
       "[NA_character_, '0.25..., '0.05..., '0.00..., '0.01..., '0.00...]\n",
       "  NASH003: <class 'rpy2.robjects.vectors.StrVector'>\n",
       "  <rpy2.robjects.vectors.StrVector object at 0x7fe8d21d6b40> [RTYPES.STRSXP]\n",
       "R classes: ('character',)\n",
       "[NA_character_, '0.03..., '0.08..., NA_character_, '0.00..., '0.00...]\n",
       "  NASH004: <class 'rpy2.robjects.vectors.StrVector'>\n",
       "  <rpy2.robjects.vectors.StrVector object at 0x7fe8babc1080> [RTYPES.STRSXP]\n",
       "R classes: ('character',)\n",
       "[NA_character_, '0.05..., '0.10..., NA_character_, '0.01..., '0.01...]"
      ]
     },
     "execution_count": 3,
     "metadata": {},
     "output_type": "execute_result"
    }
   ],
   "source": [
    "#TODO: outputs are not the same type as the original vignette\n",
    "robjects.r['head'](data_1)"
   ]
  },
  {
   "cell_type": "code",
   "execution_count": 4,
   "id": "cutting-fiction",
   "metadata": {
    "execution": {
     "iopub.execute_input": "2021-02-17T21:19:45.980958Z",
     "iopub.status.busy": "2021-02-17T21:19:45.976614Z",
     "iopub.status.idle": "2021-02-17T21:19:45.991853Z",
     "shell.execute_reply": "2021-02-17T21:19:45.994306Z"
    }
   },
   "outputs": [
    {
     "data": {
      "text/html": [
       "\n",
       "        <span>BoolVector with 1 elements.</span>\n",
       "        <table>\n",
       "        <tbody>\n",
       "          <tr>\n",
       "          \n",
       "            <td>\n",
       "                   1\n",
       "            </td>\n",
       "          \n",
       "          </tr>\n",
       "        </tbody>\n",
       "        </table>\n",
       "        "
      ],
      "text/plain": [
       "<rpy2.robjects.vectors.BoolVector object at 0x7fe8babc2a40> [RTYPES.LGLSXP]\n",
       "R classes: ('logical',)\n",
       "[       1]"
      ]
     },
     "execution_count": 4,
     "metadata": {},
     "output_type": "execute_result"
    }
   ],
   "source": [
    "robjects.r['is.data.frame'](data_1)\n",
    "#print(type(data_1))"
   ]
  },
  {
   "cell_type": "code",
   "execution_count": 5,
   "id": "blank-harmony",
   "metadata": {
    "execution": {
     "iopub.execute_input": "2021-02-17T21:19:46.032677Z",
     "iopub.status.busy": "2021-02-17T21:19:46.020127Z",
     "iopub.status.idle": "2021-02-17T21:19:46.048793Z",
     "shell.execute_reply": "2021-02-17T21:19:46.052089Z"
    }
   },
   "outputs": [],
   "source": [
    "data_1_as = data_1.rx2(\"analysis_summary\")"
   ]
  },
  {
   "cell_type": "code",
   "execution_count": 6,
   "id": "physical-particle",
   "metadata": {
    "execution": {
     "iopub.execute_input": "2021-02-17T21:19:46.073390Z",
     "iopub.status.busy": "2021-02-17T21:19:46.065124Z",
     "iopub.status.idle": "2021-02-17T21:19:46.104598Z",
     "shell.execute_reply": "2021-02-17T21:19:46.111019Z"
    }
   },
   "outputs": [],
   "source": [
    "unique_data_1_as = robjects.r[\"unique\"](data_1_as)"
   ]
  },
  {
   "cell_type": "code",
   "execution_count": 7,
   "id": "liberal-touch",
   "metadata": {
    "execution": {
     "iopub.execute_input": "2021-02-17T21:19:46.181236Z",
     "iopub.status.busy": "2021-02-17T21:19:46.174278Z",
     "iopub.status.idle": "2021-02-17T21:19:46.194608Z",
     "shell.execute_reply": "2021-02-17T21:19:46.195788Z"
    }
   },
   "outputs": [
    {
     "name": "stdout",
     "output_type": "stream",
     "text": [
      "[[1]]\n",
      "[1] \"Core G Fatty acids/Eicosanoids\"\n",
      "\n",
      "[[2]]\n",
      "[1] \"Core J Sterols\"\n",
      "\n",
      "[[3]]\n",
      "[1] \"Core K Prenols/Cardiolipins\"\n",
      "\n",
      "[[4]]\n",
      "[1] \"Core E Neutral Lipids\"\n",
      "\n",
      "[[5]]\n",
      "[1] \"Core I Sphingolipids\"\n",
      "\n",
      "[[6]]\n",
      "[1] \"Core H Phospholipids\"\n",
      "\n",
      "\n"
     ]
    }
   ],
   "source": [
    "print(unique_data_1_as)"
   ]
  },
  {
   "cell_type": "code",
   "execution_count": 8,
   "id": "ranking-arrival",
   "metadata": {
    "execution": {
     "iopub.execute_input": "2021-02-17T21:19:46.224984Z",
     "iopub.status.busy": "2021-02-17T21:19:46.219685Z",
     "iopub.status.idle": "2021-02-17T21:19:46.372321Z",
     "shell.execute_reply": "2021-02-17T21:19:46.373836Z"
    }
   },
   "outputs": [],
   "source": [
    "metadata = robjects.r['getmwstudies']('ST000915', \n",
    "    'factors'\n",
    ")"
   ]
  },
  {
   "cell_type": "code",
   "execution_count": 9,
   "id": "ordered-generation",
   "metadata": {
    "execution": {
     "iopub.execute_input": "2021-02-17T21:19:46.397530Z",
     "iopub.status.busy": "2021-02-17T21:19:46.391149Z",
     "iopub.status.idle": "2021-02-17T21:19:46.416918Z",
     "shell.execute_reply": "2021-02-17T21:19:46.418813Z"
    }
   },
   "outputs": [
    {
     "data": {
      "text/html": [
       "\n",
       "        <span>R/rpy2 DataFrame (6 x 5)</span>\n",
       "        <table>\n",
       "          <thead>\n",
       "            <tr>\n",
       "              \n",
       "              <th>study_id</th>\n",
       "              \n",
       "              <th>local_sample_id</th>\n",
       "              \n",
       "              <th>subject_type</th>\n",
       "              \n",
       "              <th>factors</th>\n",
       "              \n",
       "              <th>Diagnosis</th>\n",
       "              \n",
       "            </tr>\n",
       "          </thead>\n",
       "          <tbody>\n",
       "          \n",
       "          <tr>\n",
       "            \n",
       "            <td>\n",
       "              ...\n",
       "            </td>\n",
       "            \n",
       "            <td>\n",
       "              ...\n",
       "            </td>\n",
       "            \n",
       "            <td>\n",
       "              ...\n",
       "            </td>\n",
       "            \n",
       "            <td>\n",
       "              ...\n",
       "            </td>\n",
       "            \n",
       "            <td>\n",
       "              ...\n",
       "            </td>\n",
       "            \n",
       "          </tr>\n",
       "          \n",
       "          </tbody>\n",
       "        </table>\n",
       "    "
      ],
      "text/plain": [
       "<rpy2.robjects.vectors.DataFrame object at 0x7fe8babced40> [RTYPES.VECSXP]\n",
       "R classes: ('data.frame',)\n",
       "[ListSex..., ListSex..., ListSex..., ListSex..., StrSexp...]\n",
       "  study_id: <class 'rpy2.rinterface.ListSexpVector'>\n",
       "  <rpy2.rinterface.ListSexpVector object at 0x7fe8babce940> [RTYPES.VECSXP]\n",
       "  local_sample_id: <class 'rpy2.rinterface.ListSexpVector'>\n",
       "  <rpy2.rinterface.ListSexpVector object at 0x7fe8babceec0> [RTYPES.VECSXP]\n",
       "  subject_type: <class 'rpy2.rinterface.ListSexpVector'>\n",
       "  <rpy2.rinterface.ListSexpVector object at 0x7fe8babd3240> [RTYPES.VECSXP]\n",
       "  factors: <class 'rpy2.rinterface.ListSexpVector'>\n",
       "  <rpy2.rinterface.ListSexpVector object at 0x7fe8babd33c0> [RTYPES.VECSXP]\n",
       "  Diagnosis: <class 'rpy2.rinterface_lib.sexp.StrSexpVector'>\n",
       "  <rpy2.rinterface_lib.sexp.StrSexpVector object at 0x7fe8babd3540> [RTYPES.STRSXP]"
      ]
     },
     "execution_count": 9,
     "metadata": {},
     "output_type": "execute_result"
    }
   ],
   "source": [
    "robjects.r['head'](metadata)"
   ]
  },
  {
   "cell_type": "markdown",
   "id": "alone-consultancy",
   "metadata": {},
   "source": [
    "Find the factors you would want to compare\n",
    "Multiple factors (independent variables) are formatted in multiple columns but you can get information on all the factors by \"factors\" column, such as 'TreatmentGroup:Prednisolone', this indicates column name 'TreatmentGroup' with factor Prednisolone. For t-test use the factors in the same column. For comparing multipe independent variables use anova by anova_ana function."
   ]
  },
  {
   "cell_type": "markdown",
   "id": "tired-sydney",
   "metadata": {},
   "source": [
    "### Associate metabolomics data to the refmet class"
   ]
  },
  {
   "cell_type": "code",
   "execution_count": 10,
   "id": "global-vocabulary",
   "metadata": {
    "execution": {
     "iopub.execute_input": "2021-02-17T21:19:46.444830Z",
     "iopub.status.busy": "2021-02-17T21:19:46.438401Z",
     "iopub.status.idle": "2021-02-17T21:19:59.186965Z",
     "shell.execute_reply": "2021-02-17T21:19:59.188456Z"
    }
   },
   "outputs": [],
   "source": [
    "refmet_class = robjects.r['convert_refmet'](data_1)"
   ]
  },
  {
   "cell_type": "code",
   "execution_count": 11,
   "id": "commercial-council",
   "metadata": {
    "execution": {
     "iopub.execute_input": "2021-02-17T21:19:59.208946Z",
     "iopub.status.busy": "2021-02-17T21:19:59.203788Z",
     "iopub.status.idle": "2021-02-17T21:19:59.230087Z",
     "shell.execute_reply": "2021-02-17T21:19:59.231296Z"
    }
   },
   "outputs": [
    {
     "data": {
      "text/html": [
       "\n",
       "        <span>R/rpy2 DataFrame (6 x 97)</span>\n",
       "        <table>\n",
       "          <thead>\n",
       "            <tr>\n",
       "              \n",
       "              <th>metabolite_name</th>\n",
       "              \n",
       "              <th>analysis_id</th>\n",
       "              \n",
       "              <th>analysis_summary</th>\n",
       "              \n",
       "              <th>...</th>\n",
       "              \n",
       "              <th>super_class</th>\n",
       "              \n",
       "              <th>main_class</th>\n",
       "              \n",
       "              <th>sub_class</th>\n",
       "              \n",
       "            </tr>\n",
       "          </thead>\n",
       "          <tbody>\n",
       "          \n",
       "          <tr>\n",
       "            \n",
       "            <td>\n",
       "              '1,2-...\n",
       "            </td>\n",
       "            \n",
       "            <td>\n",
       "              StrSe...\n",
       "            </td>\n",
       "            \n",
       "            <td>\n",
       "              StrSe...\n",
       "            </td>\n",
       "            \n",
       "            <td>\n",
       "              ...\n",
       "            </td>\n",
       "            \n",
       "            <td>\n",
       "              'Glyc...\n",
       "            </td>\n",
       "            \n",
       "            <td>\n",
       "              'Dira...\n",
       "            </td>\n",
       "            \n",
       "            <td>\n",
       "              'DAG'\n",
       "            </td>\n",
       "            \n",
       "          </tr>\n",
       "          \n",
       "          <tr>\n",
       "            \n",
       "            <td>\n",
       "              '1,2-...\n",
       "            </td>\n",
       "            \n",
       "            <td>\n",
       "              StrSe...\n",
       "            </td>\n",
       "            \n",
       "            <td>\n",
       "              StrSe...\n",
       "            </td>\n",
       "            \n",
       "            <td>\n",
       "              \n",
       "            </td>\n",
       "            \n",
       "            <td>\n",
       "              'Glyc...\n",
       "            </td>\n",
       "            \n",
       "            <td>\n",
       "              'Dira...\n",
       "            </td>\n",
       "            \n",
       "            <td>\n",
       "              'DAG'\n",
       "            </td>\n",
       "            \n",
       "          </tr>\n",
       "          \n",
       "          <tr>\n",
       "            \n",
       "            <td>\n",
       "              '1,2-...\n",
       "            </td>\n",
       "            \n",
       "            <td>\n",
       "              StrSe...\n",
       "            </td>\n",
       "            \n",
       "            <td>\n",
       "              StrSe...\n",
       "            </td>\n",
       "            \n",
       "            <td>\n",
       "              \n",
       "            </td>\n",
       "            \n",
       "            <td>\n",
       "              'Glyc...\n",
       "            </td>\n",
       "            \n",
       "            <td>\n",
       "              'Dira...\n",
       "            </td>\n",
       "            \n",
       "            <td>\n",
       "              'DAG'\n",
       "            </td>\n",
       "            \n",
       "          </tr>\n",
       "          \n",
       "          <tr>\n",
       "            \n",
       "            <td>\n",
       "              '1,2-...\n",
       "            </td>\n",
       "            \n",
       "            <td>\n",
       "              StrSe...\n",
       "            </td>\n",
       "            \n",
       "            <td>\n",
       "              StrSe...\n",
       "            </td>\n",
       "            \n",
       "            <td>\n",
       "              \n",
       "            </td>\n",
       "            \n",
       "            <td>\n",
       "              'Glyc...\n",
       "            </td>\n",
       "            \n",
       "            <td>\n",
       "              'Dira...\n",
       "            </td>\n",
       "            \n",
       "            <td>\n",
       "              'DAG'\n",
       "            </td>\n",
       "            \n",
       "          </tr>\n",
       "          \n",
       "          <tr>\n",
       "            \n",
       "            <td>\n",
       "              '1,2-...\n",
       "            </td>\n",
       "            \n",
       "            <td>\n",
       "              StrSe...\n",
       "            </td>\n",
       "            \n",
       "            <td>\n",
       "              StrSe...\n",
       "            </td>\n",
       "            \n",
       "            <td>\n",
       "              \n",
       "            </td>\n",
       "            \n",
       "            <td>\n",
       "              'Glyc...\n",
       "            </td>\n",
       "            \n",
       "            <td>\n",
       "              'Dira...\n",
       "            </td>\n",
       "            \n",
       "            <td>\n",
       "              'DAG'\n",
       "            </td>\n",
       "            \n",
       "          </tr>\n",
       "          \n",
       "          <tr>\n",
       "            \n",
       "            <td>\n",
       "              '1,2-...\n",
       "            </td>\n",
       "            \n",
       "            <td>\n",
       "              StrSe...\n",
       "            </td>\n",
       "            \n",
       "            <td>\n",
       "              StrSe...\n",
       "            </td>\n",
       "            \n",
       "            <td>\n",
       "              \n",
       "            </td>\n",
       "            \n",
       "            <td>\n",
       "              'Glyc...\n",
       "            </td>\n",
       "            \n",
       "            <td>\n",
       "              'Dira...\n",
       "            </td>\n",
       "            \n",
       "            <td>\n",
       "              'DAG'\n",
       "            </td>\n",
       "            \n",
       "          </tr>\n",
       "          \n",
       "          </tbody>\n",
       "        </table>\n",
       "    "
      ],
      "text/plain": [
       "<rpy2.robjects.vectors.DataFrame object at 0x7fe8babd6c80> [RTYPES.VECSXP]\n",
       "R classes: ('data.frame',)\n",
       "[StrSexpVe..., ListSexpV..., ListSexpV..., ListSexpV..., ..., StrSexpVe..., StrSexpVe..., StrSexpVe..., StrSexpVe...]\n",
       "  metabolite_name: <class 'rpy2.robjects.vectors.StrVector'>\n",
       "  <rpy2.robjects.vectors.StrVector object at 0x7fe8babd6e80> [RTYPES.STRSXP]\n",
       "R classes: ('character',)\n",
       "['1,2-..., '1,2-..., '1,2-..., '1,2-..., '1,2-..., '1,2-...]\n",
       "<rpy2.robjects.vectors.DataFrame object at 0x7fe8babd6c80> [RTYPES.VECSXP]\n",
       "R classes: ('data.frame',)\n",
       "[StrSexpVe..., ListSexpV..., ListSexpV..., ListSexpV..., ..., StrSexpVe..., StrSexpVe..., StrSexpVe..., StrSexpVe...]\n",
       "<rpy2.robjects.vectors.DataFrame object at 0x7fe8babd6c80> [RTYPES.VECSXP]\n",
       "R classes: ('data.frame',)\n",
       "[StrSexpVe..., ListSexpV..., ListSexpV..., ListSexpV..., ..., StrSexpVe..., StrSexpVe..., StrSexpVe..., StrSexpVe...]\n",
       "<rpy2.robjects.vectors.DataFrame object at 0x7fe8babd6c80> [RTYPES.VECSXP]\n",
       "R classes: ('data.frame',)\n",
       "[StrSexpVe..., ListSexpV..., ListSexpV..., ListSexpV..., ..., StrSexpVe..., StrSexpVe..., StrSexpVe..., StrSexpVe...]\n",
       "...\n",
       "  NASH001: <class 'rpy2.robjects.vectors.StrVector'>\n",
       "  <rpy2.robjects.vectors.StrVector object at 0x7fe8babd7780> [RTYPES.STRSXP]\n",
       "R classes: ('character',)\n",
       "['C33H..., 'C33H..., 'C35H..., 'C35H..., 'C35H..., 'C35H...]\n",
       "  NASH002: <class 'rpy2.robjects.vectors.StrVector'>\n",
       "  <rpy2.robjects.vectors.StrVector object at 0x7fe8babd6ec0> [RTYPES.STRSXP]\n",
       "R classes: ('character',)\n",
       "['Glyc..., 'Glyc..., 'Glyc..., 'Glyc..., 'Glyc..., 'Glyc...]\n",
       "  NASH003: <class 'rpy2.robjects.vectors.StrVector'>\n",
       "  <rpy2.robjects.vectors.StrVector object at 0x7fe8babd6540> [RTYPES.STRSXP]\n",
       "R classes: ('character',)\n",
       "['Dira..., 'Dira..., 'Dira..., 'Dira..., 'Dira..., 'Dira...]\n",
       "  NASH004: <class 'rpy2.robjects.vectors.StrVector'>\n",
       "  <rpy2.robjects.vectors.StrVector object at 0x7fe8babd6d80> [RTYPES.STRSXP]\n",
       "R classes: ('character',)\n",
       "['DAG', 'DAG', 'DAG', 'DAG', 'DAG', 'DAG']"
      ]
     },
     "execution_count": 11,
     "metadata": {},
     "output_type": "execute_result"
    }
   ],
   "source": [
    "robjects.r['head'](refmet_class)"
   ]
  },
  {
   "cell_type": "markdown",
   "id": "separated-acceptance",
   "metadata": {},
   "source": [
    "### Find significant metabolites, run significance of all the analysis summary together. The analysis summary/modes you got in the previous section"
   ]
  },
  {
   "cell_type": "markdown",
   "id": "meaningful-timer",
   "metadata": {},
   "source": [
    "There is a normalization step which takes into account missing values, and this can be achieved via three methods:\n",
    "\n",
    "1) half_of_min: where the NAs are replaced by half of min values in the data\n",
    "\n",
    "2) remove_NAs: where Cols with NAs values are removed\n",
    "\n",
    "3) 50percent: where cols with more than 50% NAs values are removed\n",
    "\n",
    "half_of_min is ideal when you wish to see which metabolites were present in either group. Very high fold change would mean it was present in either group."
   ]
  },
  {
   "cell_type": "code",
   "execution_count": 12,
   "id": "cognitive-frank",
   "metadata": {
    "execution": {
     "iopub.execute_input": "2021-02-17T21:19:59.258633Z",
     "iopub.status.busy": "2021-02-17T21:19:59.248527Z",
     "iopub.status.idle": "2021-02-17T21:19:59.311669Z",
     "shell.execute_reply": "2021-02-17T21:19:59.284490Z"
    }
   },
   "outputs": [
    {
     "name": "stdout",
     "output_type": "stream",
     "text": [
      "[1]"
     ]
    },
    {
     "name": "stdout",
     "output_type": "stream",
     "text": [
      " \"0.05\""
     ]
    },
    {
     "name": "stdout",
     "output_type": "stream",
     "text": [
      "\n"
     ]
    },
    {
     "data": {
      "text/html": [
       "\n",
       "        <span>StrVector with 1 elements.</span>\n",
       "        <table>\n",
       "        <tbody>\n",
       "          <tr>\n",
       "          \n",
       "            <td>\n",
       "            '0.05'\n",
       "            </td>\n",
       "          \n",
       "          </tr>\n",
       "        </tbody>\n",
       "        </table>\n",
       "        "
      ],
      "text/plain": [
       "<rpy2.robjects.vectors.StrVector object at 0x7fe8babce240> [RTYPES.STRSXP]\n",
       "R classes: ('character',)\n",
       "['0.05']"
      ]
     },
     "execution_count": 12,
     "metadata": {},
     "output_type": "execute_result"
    }
   ],
   "source": [
    "#need to change to float\n",
    "robjects.r['print']('0.05')"
   ]
  },
  {
   "cell_type": "code",
   "execution_count": 13,
   "id": "interested-incidence",
   "metadata": {
    "execution": {
     "iopub.execute_input": "2021-02-17T21:19:59.366659Z",
     "iopub.status.busy": "2021-02-17T21:19:59.356561Z",
     "iopub.status.idle": "2021-02-17T21:19:59.388755Z",
     "shell.execute_reply": "2021-02-17T21:19:59.372503Z"
    }
   },
   "outputs": [
    {
     "data": {
      "text/plain": [
       "0.5"
      ]
     },
     "execution_count": 13,
     "metadata": {},
     "output_type": "execute_result"
    }
   ],
   "source": [
    "thres_log2foldchange = '0.5'\n",
    "thres_log2foldchange = float(thres_log2foldchange)\n",
    "thres_log2foldchange"
   ]
  },
  {
   "cell_type": "code",
   "execution_count": 14,
   "id": "closing-swift",
   "metadata": {
    "execution": {
     "iopub.execute_input": "2021-02-17T21:19:59.430757Z",
     "iopub.status.busy": "2021-02-17T21:19:59.424534Z",
     "iopub.status.idle": "2021-02-17T21:19:59.861724Z",
     "shell.execute_reply": "2021-02-17T21:19:59.863548Z"
    }
   },
   "outputs": [
    {
     "ename": "NameError",
     "evalue": "name 'c' is not defined",
     "output_type": "error",
     "traceback": [
      "\u001b[0;31m---------------------------------------------------------------------------\u001b[0m",
      "\u001b[0;31mNameError\u001b[0m                                 Traceback (most recent call last)",
      "\u001b[0;32m<ipython-input-14-7e797e753b88>\u001b[0m in \u001b[0;36m<module>\u001b[0;34m\u001b[0m\n\u001b[0;32m----> 1\u001b[0;31m \u001b[0mrobjects\u001b[0m\u001b[0;34m.\u001b[0m\u001b[0mr\u001b[0m\u001b[0;34m[\u001b[0m\u001b[0;34m\"significant_met\"\u001b[0m\u001b[0;34m]\u001b[0m\u001b[0;34m(\u001b[0m\u001b[0mmetabolomics_data\u001b[0m\u001b[0;34m=\u001b[0m\u001b[0mrefmet_class\u001b[0m\u001b[0;34m,\u001b[0m \u001b[0mmet_col\u001b[0m\u001b[0;34m=\u001b[0m\u001b[0;34m\"metabolite_name\"\u001b[0m\u001b[0;34m,\u001b[0m\u001b[0manalysis_type\u001b[0m\u001b[0;34m=\u001b[0m\u001b[0mc\u001b[0m\u001b[0;34m(\u001b[0m\u001b[0;34m\"Core G Fatty acids/Eicosanoids\"\u001b[0m\u001b[0;34m,\u001b[0m\u001b[0;34m\"Core J Sterols\"\u001b[0m\u001b[0;34m,\u001b[0m\u001b[0;34m\"Core K Prenols/Cardiolipins\"\u001b[0m\u001b[0;34m,\u001b[0m\u001b[0;34m\"Core E Neutral Lipids\"\u001b[0m\u001b[0;34m,\u001b[0m\u001b[0;34m\"Core I Sphingolipids\"\u001b[0m\u001b[0;34m,\u001b[0m\u001b[0;34m\"Core H Phospholipids\"\u001b[0m\u001b[0;34m)\u001b[0m\u001b[0;34m,\u001b[0m \u001b[0mmetadata\u001b[0m\u001b[0;34m=\u001b[0m\u001b[0mmetadata\u001b[0m\u001b[0;34m,\u001b[0m \u001b[0mfactor1\u001b[0m\u001b[0;34m=\u001b[0m\u001b[0;34m'Cirrhosis'\u001b[0m\u001b[0;34m,\u001b[0m \u001b[0mfactor2\u001b[0m\u001b[0;34m=\u001b[0m\u001b[0mc\u001b[0m\u001b[0;34m(\u001b[0m\u001b[0;34m'Normal'\u001b[0m\u001b[0;34m)\u001b[0m\u001b[0;34m,\u001b[0m \u001b[0mfactor_col\u001b[0m\u001b[0;34m=\u001b[0m\u001b[0;34m'Diagnosis'\u001b[0m\u001b[0;34m,\u001b[0m\u001b[0msample_col\u001b[0m\u001b[0;34m=\u001b[0m\u001b[0;34m'local_sample_id'\u001b[0m\u001b[0;34m,\u001b[0m \u001b[0mp_adjust\u001b[0m\u001b[0;34m=\u001b[0m\u001b[0;34m'fdr'\u001b[0m\u001b[0;34m,\u001b[0m\u001b[0mnormalization\u001b[0m\u001b[0;34m=\u001b[0m\u001b[0;34m\"50percent\"\u001b[0m\u001b[0;34m)\u001b[0m\u001b[0;34m\u001b[0m\u001b[0;34m\u001b[0m\u001b[0m\n\u001b[0m",
      "\u001b[0;31mNameError\u001b[0m: name 'c' is not defined"
     ]
    }
   ],
   "source": [
    "robjects.r[\"significant_met\"](metabolomics_data=refmet_class, met_col=\"metabolite_name\",analysis_type=c(\"Core G Fatty acids/Eicosanoids\",\"Core J Sterols\",\"Core K Prenols/Cardiolipins\",\"Core E Neutral Lipids\",\"Core I Sphingolipids\",\"Core H Phospholipids\"), metadata=metadata, factor1='Cirrhosis', factor2=c('Normal'), factor_col='Diagnosis',sample_col='local_sample_id', p_adjust='fdr',normalization=\"50percent\")\n"
   ]
  },
  {
   "cell_type": "code",
   "execution_count": null,
   "id": "surrounded-haven",
   "metadata": {},
   "outputs": [],
   "source": [
    "thres_log2foldchange_countclass = '0.5'\n",
    "thres_log2foldchange_countclass = float(thres_log2foldchange_countclass)\n",
    "thres_log2foldchange_countclass"
   ]
  },
  {
   "cell_type": "code",
   "execution_count": null,
   "id": "imposed-ranking",
   "metadata": {},
   "outputs": [],
   "source": []
  },
  {
   "cell_type": "code",
   "execution_count": null,
   "id": "detailed-fishing",
   "metadata": {},
   "outputs": [],
   "source": [
    "sigmets = 3\n",
    "sigmets"
   ]
  },
  {
   "cell_type": "code",
   "execution_count": null,
   "id": "clear-advocate",
   "metadata": {},
   "outputs": [],
   "source": [
    "x_size_heat = 8\n",
    "x_size_heat"
   ]
  },
  {
   "cell_type": "code",
   "execution_count": null,
   "id": "foster-baptist",
   "metadata": {},
   "outputs": [],
   "source": [
    "y_size_heat = 6\n",
    "y_size_heat"
   ]
  },
  {
   "cell_type": "code",
   "execution_count": null,
   "id": "incoming-birth",
   "metadata": {},
   "outputs": [],
   "source": [
    "x_size_dot = 8\n",
    "x_size_dot"
   ]
  },
  {
   "cell_type": "code",
   "execution_count": null,
   "id": "handled-preserve",
   "metadata": {},
   "outputs": [],
   "source": [
    "y_size_dot = 6\n",
    "y_size_dot"
   ]
  }
 ],
 "metadata": {
  "appyter": {
   "nbconstruct": {
    "filename": "vignettes/MetENP_Appyter.ipynb",
    "files": {},
    "version": "0.12.0"
   },
   "nbexecute": {
    "completed": "2021-02-17T13:20:01.012746+00:00",
    "files": {},
    "started": "2021-02-17T13:19:14.928845+00:00",
    "version": "0.12.0"
   }
  },
  "kernelspec": {
   "display_name": "my-first-appyter",
   "language": "python",
   "name": "my-first-appyter"
  },
  "language_info": {
   "codemirror_mode": {
    "name": "ipython",
    "version": 3
   },
   "file_extension": ".py",
   "mimetype": "text/x-python",
   "name": "python",
   "nbconvert_exporter": "python",
   "pygments_lexer": "ipython3",
   "version": "3.8.5"
  }
 },
 "nbformat": 4,
 "nbformat_minor": 5
}
