{
 "cells": [
  {
   "cell_type": "code",
   "execution_count": 1,
   "id": "sensitive-coordination",
   "metadata": {
    "execution": {
     "iopub.execute_input": "2021-02-08T00:48:26.052225Z",
     "iopub.status.busy": "2021-02-08T00:48:26.050546Z",
     "iopub.status.idle": "2021-02-08T00:48:26.492448Z",
     "shell.execute_reply": "2021-02-08T00:48:26.493394Z"
    }
   },
   "outputs": [
    {
     "name": "stdout",
     "output_type": "stream",
     "text": [
      "3.4.2\n"
     ]
    },
    {
     "data": {
      "text/plain": [
       "3.141592653589793"
      ]
     },
     "execution_count": 1,
     "metadata": {},
     "output_type": "execute_result"
    }
   ],
   "source": [
    "import rpy2\n",
    "print(rpy2.__version__)\n",
    "\n",
    "import rpy2.robjects as robjects\n",
    "\n",
    "import rpy2.robjects.packages as rpackages\n",
    "\n",
    "pi = robjects.r['pi']\n",
    "pi[0]\n",
    "\n"
   ]
  },
  {
   "cell_type": "code",
   "execution_count": 2,
   "id": "heavy-funeral",
   "metadata": {
    "execution": {
     "iopub.execute_input": "2021-02-08T00:48:26.504679Z",
     "iopub.status.busy": "2021-02-08T00:48:26.501996Z",
     "iopub.status.idle": "2021-02-08T00:48:26.513224Z",
     "shell.execute_reply": "2021-02-08T00:48:26.509659Z"
    }
   },
   "outputs": [
    {
     "data": {
      "text/plain": [
       "['factors']"
      ]
     },
     "execution_count": 2,
     "metadata": {},
     "output_type": "execute_result"
    }
   ],
   "source": [
    "typedata = ['factors']\n",
    "typedata"
   ]
  },
  {
   "cell_type": "code",
   "execution_count": 3,
   "id": "empty-shoot",
   "metadata": {
    "execution": {
     "iopub.execute_input": "2021-02-08T00:48:26.534626Z",
     "iopub.status.busy": "2021-02-08T00:48:26.525771Z",
     "iopub.status.idle": "2021-02-08T00:48:26.545202Z",
     "shell.execute_reply": "2021-02-08T00:48:26.541103Z"
    }
   },
   "outputs": [
    {
     "data": {
      "text/plain": [
       "'ST000915'"
      ]
     },
     "execution_count": 3,
     "metadata": {},
     "output_type": "execute_result"
    }
   ],
   "source": [
    "studyID = 'ST000915'\n",
    "studyID"
   ]
  },
  {
   "cell_type": "code",
   "execution_count": 4,
   "id": "continent-patio",
   "metadata": {
    "execution": {
     "iopub.execute_input": "2021-02-08T00:48:26.563193Z",
     "iopub.status.busy": "2021-02-08T00:48:26.557635Z",
     "iopub.status.idle": "2021-02-08T00:48:26.573826Z",
     "shell.execute_reply": "2021-02-08T00:48:26.565620Z"
    }
   },
   "outputs": [
    {
     "data": {
      "text/plain": [
       "'hsa'"
      ]
     },
     "execution_count": 4,
     "metadata": {},
     "output_type": "execute_result"
    }
   ],
   "source": [
    "studyOrg = 'hsa'\n",
    "studyOrg"
   ]
  },
  {
   "cell_type": "code",
   "execution_count": 5,
   "id": "sought-capitol",
   "metadata": {
    "execution": {
     "iopub.execute_input": "2021-02-08T00:48:26.591442Z",
     "iopub.status.busy": "2021-02-08T00:48:26.588011Z",
     "iopub.status.idle": "2021-02-08T00:48:26.600578Z",
     "shell.execute_reply": "2021-02-08T00:48:26.592742Z"
    }
   },
   "outputs": [
    {
     "data": {
      "text/plain": [
       "['sub_class']"
      ]
     },
     "execution_count": 5,
     "metadata": {},
     "output_type": "execute_result"
    }
   ],
   "source": [
    "countclass = ['sub_class']\n",
    "countclass"
   ]
  },
  {
   "cell_type": "code",
   "execution_count": 6,
   "id": "common-conversion",
   "metadata": {
    "execution": {
     "iopub.execute_input": "2021-02-08T00:48:26.625164Z",
     "iopub.status.busy": "2021-02-08T00:48:26.619171Z",
     "iopub.status.idle": "2021-02-08T00:48:46.481834Z",
     "shell.execute_reply": "2021-02-08T00:48:46.481215Z"
    }
   },
   "outputs": [
    {
     "data": {
      "text/html": [
       "\n",
       "        <span>R/rpy2 DataFrame (542 x 93)</span>\n",
       "        <table>\n",
       "          <thead>\n",
       "            <tr>\n",
       "              \n",
       "              <th>analysis_id</th>\n",
       "              \n",
       "              <th>analysis_summary</th>\n",
       "              \n",
       "              <th>metabolite_name</th>\n",
       "              \n",
       "              <th>...</th>\n",
       "              \n",
       "              <th>NASH069</th>\n",
       "              \n",
       "              <th>NASH070</th>\n",
       "              \n",
       "              <th>NASH074</th>\n",
       "              \n",
       "            </tr>\n",
       "          </thead>\n",
       "          <tbody>\n",
       "          \n",
       "          <tr>\n",
       "            \n",
       "            <td>\n",
       "              StrSexpVe...\n",
       "            </td>\n",
       "            \n",
       "            <td>\n",
       "              StrSexpVe...\n",
       "            </td>\n",
       "            \n",
       "            <td>\n",
       "              StrSexpVe...\n",
       "            </td>\n",
       "            \n",
       "            <td>\n",
       "              ...\n",
       "            </td>\n",
       "            \n",
       "            <td>\n",
       "              NA_character_\n",
       "            </td>\n",
       "            \n",
       "            <td>\n",
       "              NA_character_\n",
       "            </td>\n",
       "            \n",
       "            <td>\n",
       "              NA_character_\n",
       "            </td>\n",
       "            \n",
       "          </tr>\n",
       "          \n",
       "          <tr>\n",
       "            \n",
       "            <td>\n",
       "              StrSexpVe...\n",
       "            </td>\n",
       "            \n",
       "            <td>\n",
       "              StrSexpVe...\n",
       "            </td>\n",
       "            \n",
       "            <td>\n",
       "              StrSexpVe...\n",
       "            </td>\n",
       "            \n",
       "            <td>\n",
       "              \n",
       "            </td>\n",
       "            \n",
       "            <td>\n",
       "              '0.25932'\n",
       "            </td>\n",
       "            \n",
       "            <td>\n",
       "              '0.03551'\n",
       "            </td>\n",
       "            \n",
       "            <td>\n",
       "              '0.05935'\n",
       "            </td>\n",
       "            \n",
       "          </tr>\n",
       "          \n",
       "          <tr>\n",
       "            \n",
       "            <td>\n",
       "              StrSexpVe...\n",
       "            </td>\n",
       "            \n",
       "            <td>\n",
       "              StrSexpVe...\n",
       "            </td>\n",
       "            \n",
       "            <td>\n",
       "              StrSexpVe...\n",
       "            </td>\n",
       "            \n",
       "            <td>\n",
       "              \n",
       "            </td>\n",
       "            \n",
       "            <td>\n",
       "              '0.05115'\n",
       "            </td>\n",
       "            \n",
       "            <td>\n",
       "              '0.08985'\n",
       "            </td>\n",
       "            \n",
       "            <td>\n",
       "              '0.10916'\n",
       "            </td>\n",
       "            \n",
       "          </tr>\n",
       "          \n",
       "          <tr>\n",
       "            \n",
       "            <td>\n",
       "              StrSexpVe...\n",
       "            </td>\n",
       "            \n",
       "            <td>\n",
       "              StrSexpVe...\n",
       "            </td>\n",
       "            \n",
       "            <td>\n",
       "              StrSexpVe...\n",
       "            </td>\n",
       "            \n",
       "            <td>\n",
       "              \n",
       "            </td>\n",
       "            \n",
       "            <td>\n",
       "              '0.00445'\n",
       "            </td>\n",
       "            \n",
       "            <td>\n",
       "              NA_character_\n",
       "            </td>\n",
       "            \n",
       "            <td>\n",
       "              NA_character_\n",
       "            </td>\n",
       "            \n",
       "          </tr>\n",
       "          \n",
       "          <tr>\n",
       "            \n",
       "            <td>\n",
       "              ...\n",
       "            </td>\n",
       "            \n",
       "            <td>\n",
       "              ...\n",
       "            </td>\n",
       "            \n",
       "            <td>\n",
       "              ...\n",
       "            </td>\n",
       "            \n",
       "            <td>\n",
       "              \n",
       "            </td>\n",
       "            \n",
       "            <td>\n",
       "              ...\n",
       "            </td>\n",
       "            \n",
       "            <td>\n",
       "              ...\n",
       "            </td>\n",
       "            \n",
       "            <td>\n",
       "              ...\n",
       "            </td>\n",
       "            \n",
       "          </tr>\n",
       "          \n",
       "          <tr>\n",
       "            \n",
       "            <td>\n",
       "              StrSexpVe...\n",
       "            </td>\n",
       "            \n",
       "            <td>\n",
       "              StrSexpVe...\n",
       "            </td>\n",
       "            \n",
       "            <td>\n",
       "              StrSexpVe...\n",
       "            </td>\n",
       "            \n",
       "            <td>\n",
       "              \n",
       "            </td>\n",
       "            \n",
       "            <td>\n",
       "              '85.254476'\n",
       "            </td>\n",
       "            \n",
       "            <td>\n",
       "              '83.414173'\n",
       "            </td>\n",
       "            \n",
       "            <td>\n",
       "              '37.999826'\n",
       "            </td>\n",
       "            \n",
       "          </tr>\n",
       "          \n",
       "          <tr>\n",
       "            \n",
       "            <td>\n",
       "              StrSexpVe...\n",
       "            </td>\n",
       "            \n",
       "            <td>\n",
       "              StrSexpVe...\n",
       "            </td>\n",
       "            \n",
       "            <td>\n",
       "              StrSexpVe...\n",
       "            </td>\n",
       "            \n",
       "            <td>\n",
       "              \n",
       "            </td>\n",
       "            \n",
       "            <td>\n",
       "              '67.292805'\n",
       "            </td>\n",
       "            \n",
       "            <td>\n",
       "              '42.619221'\n",
       "            </td>\n",
       "            \n",
       "            <td>\n",
       "              '45.228472'\n",
       "            </td>\n",
       "            \n",
       "          </tr>\n",
       "          \n",
       "          <tr>\n",
       "            \n",
       "            <td>\n",
       "              StrSexpVe...\n",
       "            </td>\n",
       "            \n",
       "            <td>\n",
       "              StrSexpVe...\n",
       "            </td>\n",
       "            \n",
       "            <td>\n",
       "              StrSexpVe...\n",
       "            </td>\n",
       "            \n",
       "            <td>\n",
       "              \n",
       "            </td>\n",
       "            \n",
       "            <td>\n",
       "              '167.0412...\n",
       "            </td>\n",
       "            \n",
       "            <td>\n",
       "              '122.5797...\n",
       "            </td>\n",
       "            \n",
       "            <td>\n",
       "              '112.1220...\n",
       "            </td>\n",
       "            \n",
       "          </tr>\n",
       "          \n",
       "          <tr>\n",
       "            \n",
       "            <td>\n",
       "              StrSexpVe...\n",
       "            </td>\n",
       "            \n",
       "            <td>\n",
       "              StrSexpVe...\n",
       "            </td>\n",
       "            \n",
       "            <td>\n",
       "              StrSexpVe...\n",
       "            </td>\n",
       "            \n",
       "            <td>\n",
       "              \n",
       "            </td>\n",
       "            \n",
       "            <td>\n",
       "              '362.7180...\n",
       "            </td>\n",
       "            \n",
       "            <td>\n",
       "              '364.4929...\n",
       "            </td>\n",
       "            \n",
       "            <td>\n",
       "              '178.4318...\n",
       "            </td>\n",
       "            \n",
       "          </tr>\n",
       "          \n",
       "          </tbody>\n",
       "        </table>\n",
       "    "
      ],
      "text/plain": [
       "<rpy2.robjects.vectors.DataFrame object at 0x7fe1dc1cb240> [RTYPES.VECSXP]\n",
       "R classes: ('tbl_df', 'tbl', 'data.frame')\n",
       "[ListSexpV..., ListSexpV..., ListSexpV..., ListSexpV..., ..., StrSexpVe..., StrSexpVe..., StrSexpVe..., StrSexpVe...]\n",
       "<rpy2.robjects.vectors.DataFrame object at 0x7fe1dc1cb240> [RTYPES.VECSXP]\n",
       "R classes: ('tbl_df', 'tbl', 'data.frame')\n",
       "[ListSexpV..., ListSexpV..., ListSexpV..., ListSexpV..., ..., StrSexpVe..., StrSexpVe..., StrSexpVe..., StrSexpVe...]\n",
       "<rpy2.robjects.vectors.DataFrame object at 0x7fe1dc1cb240> [RTYPES.VECSXP]\n",
       "R classes: ('tbl_df', 'tbl', 'data.frame')\n",
       "[ListSexpV..., ListSexpV..., ListSexpV..., ListSexpV..., ..., StrSexpVe..., StrSexpVe..., StrSexpVe..., StrSexpVe...]\n",
       "<rpy2.robjects.vectors.DataFrame object at 0x7fe1dc1cb240> [RTYPES.VECSXP]\n",
       "R classes: ('tbl_df', 'tbl', 'data.frame')\n",
       "[ListSexpV..., ListSexpV..., ListSexpV..., ListSexpV..., ..., StrSexpVe..., StrSexpVe..., StrSexpVe..., StrSexpVe...]\n",
       "<rpy2.robjects.vectors.DataFrame object at 0x7fe1dc1cb240> [RTYPES.VECSXP]\n",
       "R classes: ('tbl_df', 'tbl', 'data.frame')\n",
       "[ListSexpV..., ListSexpV..., ListSexpV..., ListSexpV..., ..., StrSexpVe..., StrSexpVe..., StrSexpVe..., StrSexpVe...]\n",
       "...\n",
       "  NASH001: <class 'rpy2.robjects.vectors.StrVector'>\n",
       "  <rpy2.robjects.vectors.StrVector object at 0x7fe1dc1f2840> [RTYPES.STRSXP]\n",
       "R classes: ('character',)\n",
       "[NA_character_, '0.24789', '0.10468', NA_character_, ..., '79.477752', '66.112029', '121.7323..., '215.3993...]\n",
       "  NASH002: <class 'rpy2.robjects.vectors.StrVector'>\n",
       "  <rpy2.robjects.vectors.StrVector object at 0x7fe1d97523c0> [RTYPES.STRSXP]\n",
       "R classes: ('character',)\n",
       "[NA_character_, '0.25932', '0.05115', '0.00445', ..., '85.254476', '67.292805', '167.0412..., '362.7180...]\n",
       "  NASH003: <class 'rpy2.robjects.vectors.StrVector'>\n",
       "  <rpy2.robjects.vectors.StrVector object at 0x7fe1d9752280> [RTYPES.STRSXP]\n",
       "R classes: ('character',)\n",
       "[NA_character_, '0.03551', '0.08985', NA_character_, ..., '83.414173', '42.619221', '122.5797..., '364.4929...]\n",
       "  NASH004: <class 'rpy2.robjects.vectors.StrVector'>\n",
       "  <rpy2.robjects.vectors.StrVector object at 0x7fe1d9805f00> [RTYPES.STRSXP]\n",
       "R classes: ('character',)\n",
       "[NA_character_, '0.05935', '0.10916', NA_character_, ..., '37.999826', '45.228472', '112.1220..., '178.4318...]"
      ]
     },
     "execution_count": 6,
     "metadata": {},
     "output_type": "execute_result"
    }
   ],
   "source": [
    "typedata = ['data']\n",
    "studyOrg = \"hsa\"\n",
    "studyID = \"ST000915\"\n",
    "\n",
    "robjects.r('''\n",
    "\n",
    "library(MetENP)\n",
    "\n",
    "data = getmwstudies('ST000915', 'data')\n",
    "\n",
    "\n",
    "''')"
   ]
  },
  {
   "cell_type": "code",
   "execution_count": null,
   "id": "selected-shareware",
   "metadata": {},
   "outputs": [],
   "source": []
  }
 ],
 "metadata": {
  "appyter": {
   "nbconstruct": {
    "filename": "vignettes/Tutorial.ipynb",
    "files": {},
    "version": "0.12.0"
   },
   "nbexecute": {
    "completed": "2021-02-07T16:48:47.869347+00:00",
    "files": {},
    "started": "2021-02-07T16:48:24.157848+00:00",
    "version": "0.12.0"
   }
  },
  "kernelspec": {
   "display_name": "my-first-appyter",
   "language": "python",
   "name": "my-first-appyter"
  },
  "language_info": {
   "codemirror_mode": {
    "name": "ipython",
    "version": 3
   },
   "file_extension": ".py",
   "mimetype": "text/x-python",
   "name": "python",
   "nbconvert_exporter": "python",
   "pygments_lexer": "ipython3",
   "version": "3.8.5"
  }
 },
 "nbformat": 4,
 "nbformat_minor": 5
}
