{
 "cells": [
  {
   "cell_type": "code",
   "execution_count": 1,
   "id": "liquid-timber",
   "metadata": {
    "execution": {
     "iopub.execute_input": "2021-02-11T23:09:16.327785Z",
     "iopub.status.busy": "2021-02-11T23:09:16.326163Z",
     "iopub.status.idle": "2021-02-11T23:09:20.755044Z",
     "shell.execute_reply": "2021-02-11T23:09:20.755893Z"
    }
   },
   "outputs": [
    {
     "name": "stdout",
     "output_type": "stream",
     "text": [
      "3.4.2\n"
     ]
    },
    {
     "data": {
      "text/html": [
       "\n",
       "        <span>StrVector with 9 elements.</span>\n",
       "        <table>\n",
       "        <tbody>\n",
       "          <tr>\n",
       "          \n",
       "            <td>\n",
       "            'MetENP'\n",
       "            </td>\n",
       "          \n",
       "            <td>\n",
       "            'tools'\n",
       "            </td>\n",
       "          \n",
       "            <td>\n",
       "            'stats'\n",
       "            </td>\n",
       "          \n",
       "            <td>\n",
       "            ...\n",
       "            </td>\n",
       "          \n",
       "            <td>\n",
       "            'datasets'\n",
       "            </td>\n",
       "          \n",
       "            <td>\n",
       "            'methods'\n",
       "            </td>\n",
       "          \n",
       "            <td>\n",
       "            'base'\n",
       "            </td>\n",
       "          \n",
       "          </tr>\n",
       "        </tbody>\n",
       "        </table>\n",
       "        "
      ],
      "text/plain": [
       "<rpy2.robjects.vectors.StrVector object at 0x7ff9296c8f00> [RTYPES.STRSXP]\n",
       "R classes: ('character',)\n",
       "['MetENP', 'tools', 'stats', 'graphics', ..., 'utils', 'datasets', 'methods', 'base']"
      ]
     },
     "execution_count": 1,
     "metadata": {},
     "output_type": "execute_result"
    }
   ],
   "source": [
    "import rpy2\n",
    "print(rpy2.__version__)\n",
    "\n",
    "import rpy2.robjects as robjects\n",
    "\n",
    "import rpy2.robjects.packages as rpackages\n",
    "\n",
    "pi = robjects.r['pi']\n",
    "pi[0]\n",
    "\n",
    "robjects.r('''\n",
    "\n",
    "library(MetENP)''')"
   ]
  },
  {
   "cell_type": "code",
   "execution_count": null,
   "id": "posted-distributor",
   "metadata": {},
   "outputs": [],
   "source": []
  },
  {
   "cell_type": "code",
   "execution_count": null,
   "id": "angry-executive",
   "metadata": {},
   "outputs": [],
   "source": []
  },
  {
   "cell_type": "code",
   "execution_count": null,
   "id": "favorite-rabbit",
   "metadata": {},
   "outputs": [],
   "source": []
  },
  {
   "cell_type": "code",
   "execution_count": null,
   "id": "proof-crash",
   "metadata": {},
   "outputs": [],
   "source": []
  },
  {
   "cell_type": "code",
   "execution_count": 6,
   "id": "equal-reflection",
   "metadata": {
    "execution": {
     "iopub.execute_input": "2021-02-11T23:09:20.768095Z",
     "iopub.status.busy": "2021-02-11T23:09:20.764885Z",
     "iopub.status.idle": "2021-02-11T23:09:21.051143Z",
     "shell.execute_reply": "2021-02-11T23:09:21.051988Z"
    }
   },
   "outputs": [
    {
     "ename": "NameError",
     "evalue": "name 'head' is not defined",
     "output_type": "error",
     "traceback": [
      "\u001b[0;31m---------------------------------------------------------------------------\u001b[0m",
      "\u001b[0;31mNameError\u001b[0m                                 Traceback (most recent call last)",
      "\u001b[0;32m<ipython-input-2-a3637f364a0a>\u001b[0m in \u001b[0;36m<module>\u001b[0;34m\u001b[0m\n\u001b[1;32m      2\u001b[0m     \u001b[0;34m[\u001b[0m\u001b[0;34m'factors'\u001b[0m\u001b[0;34m]\u001b[0m\u001b[0;34m\u001b[0m\u001b[0;34m\u001b[0m\u001b[0m\n\u001b[1;32m      3\u001b[0m )\n\u001b[0;32m----> 4\u001b[0;31m \u001b[0mhead\u001b[0m\u001b[0;34m(\u001b[0m\u001b[0mdata\u001b[0m\u001b[0;34m)\u001b[0m\u001b[0;34m\u001b[0m\u001b[0;34m\u001b[0m\u001b[0m\n\u001b[0m",
      "\u001b[0;31mNameError\u001b[0m: name 'head' is not defined"
     ]
    }
   ],
   "source": [
    "data = robjects.r['getmwstudies']('ST000915', \n",
    "    ['factors']\n",
    ")\n",
    "head(data)"
   ]
  },
  {
   "cell_type": "code",
   "execution_count": null,
   "id": "nasty-species",
   "metadata": {},
   "outputs": [],
   "source": [
    "normtype = ['50percent']\n",
    "normtype"
   ]
  },
  {
   "cell_type": "code",
   "execution_count": null,
   "id": "single-thirty",
   "metadata": {},
   "outputs": [],
   "source": [
    "pthres = '0.05'\n",
    "pthres = float(pthres)\n",
    "pthres"
   ]
  },
  {
   "cell_type": "code",
   "execution_count": null,
   "id": "spectacular-amsterdam",
   "metadata": {},
   "outputs": [],
   "source": [
    "thres_log2foldchange = '0.5'\n",
    "thres_log2foldchange = float(thres_log2foldchange)\n",
    "thres_log2foldchange"
   ]
  },
  {
   "cell_type": "code",
   "execution_count": null,
   "id": "closing-swift",
   "metadata": {},
   "outputs": [],
   "source": []
  },
  {
   "cell_type": "code",
   "execution_count": null,
   "id": "bound-pride",
   "metadata": {},
   "outputs": [],
   "source": [
    "thres_log2foldchange_countclass = '0.5'\n",
    "thres_log2foldchange_countclass = float(thres_log2foldchange_countclass)\n",
    "thres_log2foldchange_countclass"
   ]
  },
  {
   "cell_type": "code",
   "execution_count": null,
   "id": "imposed-ranking",
   "metadata": {},
   "outputs": [],
   "source": []
  },
  {
   "cell_type": "code",
   "execution_count": null,
   "id": "identical-program",
   "metadata": {},
   "outputs": [],
   "source": [
    "sigmets = 3\n",
    "sigmets"
   ]
  },
  {
   "cell_type": "code",
   "execution_count": null,
   "id": "wound-reviewer",
   "metadata": {},
   "outputs": [],
   "source": [
    "x_size_heat = 8\n",
    "x_size_heat"
   ]
  },
  {
   "cell_type": "code",
   "execution_count": null,
   "id": "supposed-candle",
   "metadata": {},
   "outputs": [],
   "source": [
    "y_size_heat = 6\n",
    "y_size_heat"
   ]
  },
  {
   "cell_type": "code",
   "execution_count": null,
   "id": "structured-friday",
   "metadata": {},
   "outputs": [],
   "source": [
    "x_size_dot = 8\n",
    "x_size_dot"
   ]
  },
  {
   "cell_type": "code",
   "execution_count": null,
   "id": "deluxe-sociology",
   "metadata": {},
   "outputs": [],
   "source": [
    "y_size_dot = 6\n",
    "y_size_dot"
   ]
  }
 ],
 "metadata": {
  "appyter": {
   "nbconstruct": {
    "filename": "vignettes/MetENP_Appyter.ipynb",
    "files": {},
    "version": "0.12.0"
   },
   "nbexecute": {
    "completed": "2021-02-11T15:09:21.571715+00:00",
    "files": {},
    "started": "2021-02-11T15:09:14.562162+00:00",
    "version": "0.12.0"
   }
  },
  "kernelspec": {
   "display_name": "my-first-appyter",
   "language": "python",
   "name": "my-first-appyter"
  },
  "language_info": {
   "codemirror_mode": {
    "name": "ipython",
    "version": 3
   },
   "file_extension": ".py",
   "mimetype": "text/x-python",
   "name": "python",
   "nbconvert_exporter": "python",
   "pygments_lexer": "ipython3",
   "version": "3.8.5"
  }
 },
 "nbformat": 4,
 "nbformat_minor": 5
}
