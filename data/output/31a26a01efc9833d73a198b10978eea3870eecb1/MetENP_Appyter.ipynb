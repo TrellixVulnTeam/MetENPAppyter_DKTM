{
 "cells": [
  {
   "cell_type": "code",
   "execution_count": 1,
   "id": "signal-coordinate",
   "metadata": {
    "execution": {
     "iopub.execute_input": "2021-02-17T20:18:03.793932Z",
     "iopub.status.busy": "2021-02-17T20:18:03.791848Z",
     "iopub.status.idle": "2021-02-17T20:18:03.947853Z",
     "shell.execute_reply": "2021-02-17T20:18:03.948586Z"
    }
   },
   "outputs": [
    {
     "ename": "NameError",
     "evalue": "name 'robjects' is not defined",
     "output_type": "error",
     "traceback": [
      "\u001b[0;31m---------------------------------------------------------------------------\u001b[0m",
      "\u001b[0;31mNameError\u001b[0m                                 Traceback (most recent call last)",
      "\u001b[0;32m<ipython-input-1-2488455273f2>\u001b[0m in \u001b[0;36m<module>\u001b[0;34m\u001b[0m\n\u001b[0;32m----> 1\u001b[0;31m data_1 = robjects.r['getmwstudies']('ST000915', \n\u001b[0m\u001b[1;32m      2\u001b[0m     \u001b[0;34m'data'\u001b[0m\u001b[0;34m\u001b[0m\u001b[0;34m\u001b[0m\u001b[0m\n\u001b[1;32m      3\u001b[0m )\n",
      "\u001b[0;31mNameError\u001b[0m: name 'robjects' is not defined"
     ]
    }
   ],
   "source": [
    "data_1 = robjects.r['getmwstudies']('ST000915', \n",
    "    'data'\n",
    ")"
   ]
  },
  {
   "cell_type": "code",
   "execution_count": null,
   "id": "roman-documentation",
   "metadata": {},
   "outputs": [],
   "source": [
    "#TODO: outputs are not the same type as the original vignette\n",
    "robjects.r['head'](data_1)"
   ]
  },
  {
   "cell_type": "code",
   "execution_count": null,
   "id": "cutting-fiction",
   "metadata": {},
   "outputs": [],
   "source": [
    "robjects.r['is.data.frame'](data_1)\n",
    "#print(type(data_1))"
   ]
  },
  {
   "cell_type": "code",
   "execution_count": null,
   "id": "plain-amsterdam",
   "metadata": {},
   "outputs": [],
   "source": [
    "metadata = robjects.r['getmwstudies']('ST000915', \n",
    "    'factors'\n",
    ")"
   ]
  },
  {
   "cell_type": "code",
   "execution_count": null,
   "id": "monetary-family",
   "metadata": {},
   "outputs": [],
   "source": [
    "robjects.r['head'](metadata)"
   ]
  },
  {
   "cell_type": "markdown",
   "id": "alone-consultancy",
   "metadata": {},
   "source": [
    "Find the factors you would want to compare\n",
    "Multiple factors (independent variables) are formatted in multiple columns but you can get information on all the factors by \"factors\" column, such as 'TreatmentGroup:Prednisolone', this indicates column name 'TreatmentGroup' with factor Prednisolone. For t-test use the factors in the same column. For comparing multipe independent variables use anova by anova_ana function."
   ]
  },
  {
   "cell_type": "markdown",
   "id": "tired-sydney",
   "metadata": {},
   "source": [
    "### Associate metabolomics data to the refmet class"
   ]
  },
  {
   "cell_type": "code",
   "execution_count": null,
   "id": "global-vocabulary",
   "metadata": {},
   "outputs": [],
   "source": [
    "refmet_class = convert_refmet(data_1)\n",
    "\n"
   ]
  },
  {
   "cell_type": "code",
   "execution_count": null,
   "id": "later-spending",
   "metadata": {},
   "outputs": [],
   "source": [
    "normtype = ['50percent']\n",
    "normtype"
   ]
  },
  {
   "cell_type": "code",
   "execution_count": null,
   "id": "romance-sequence",
   "metadata": {},
   "outputs": [],
   "source": [
    "pthres = '0.05'\n",
    "pthres = float(pthres)\n",
    "pthres"
   ]
  },
  {
   "cell_type": "code",
   "execution_count": null,
   "id": "specified-studio",
   "metadata": {},
   "outputs": [],
   "source": [
    "thres_log2foldchange = '0.5'\n",
    "thres_log2foldchange = float(thres_log2foldchange)\n",
    "thres_log2foldchange"
   ]
  },
  {
   "cell_type": "code",
   "execution_count": null,
   "id": "closing-swift",
   "metadata": {},
   "outputs": [],
   "source": []
  },
  {
   "cell_type": "code",
   "execution_count": null,
   "id": "imported-relief",
   "metadata": {},
   "outputs": [],
   "source": [
    "thres_log2foldchange_countclass = '0.5'\n",
    "thres_log2foldchange_countclass = float(thres_log2foldchange_countclass)\n",
    "thres_log2foldchange_countclass"
   ]
  },
  {
   "cell_type": "code",
   "execution_count": null,
   "id": "imposed-ranking",
   "metadata": {},
   "outputs": [],
   "source": []
  },
  {
   "cell_type": "code",
   "execution_count": null,
   "id": "architectural-easter",
   "metadata": {},
   "outputs": [],
   "source": [
    "sigmets = 3\n",
    "sigmets"
   ]
  },
  {
   "cell_type": "code",
   "execution_count": null,
   "id": "radio-algorithm",
   "metadata": {},
   "outputs": [],
   "source": [
    "x_size_heat = 8\n",
    "x_size_heat"
   ]
  },
  {
   "cell_type": "code",
   "execution_count": null,
   "id": "cloudy-enzyme",
   "metadata": {},
   "outputs": [],
   "source": [
    "y_size_heat = 6\n",
    "y_size_heat"
   ]
  },
  {
   "cell_type": "code",
   "execution_count": null,
   "id": "coastal-milwaukee",
   "metadata": {},
   "outputs": [],
   "source": [
    "x_size_dot = 8\n",
    "x_size_dot"
   ]
  },
  {
   "cell_type": "code",
   "execution_count": null,
   "id": "remarkable-puzzle",
   "metadata": {},
   "outputs": [],
   "source": [
    "y_size_dot = 6\n",
    "y_size_dot"
   ]
  }
 ],
 "metadata": {
  "appyter": {
   "nbconstruct": {
    "filename": "vignettes/MetENP_Appyter.ipynb",
    "files": {},
    "version": "0.12.0"
   },
   "nbexecute": {
    "completed": "2021-02-17T12:18:04.161065+00:00",
    "files": {},
    "started": "2021-02-17T12:18:02.560313+00:00",
    "version": "0.12.0"
   }
  },
  "kernelspec": {
   "display_name": "my-first-appyter",
   "language": "python",
   "name": "my-first-appyter"
  },
  "language_info": {
   "codemirror_mode": {
    "name": "ipython",
    "version": 3
   },
   "file_extension": ".py",
   "mimetype": "text/x-python",
   "name": "python",
   "nbconvert_exporter": "python",
   "pygments_lexer": "ipython3",
   "version": "3.8.5"
  }
 },
 "nbformat": 4,
 "nbformat_minor": 5
}
