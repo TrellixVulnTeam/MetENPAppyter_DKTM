{
 "cells": [
  {
   "cell_type": "code",
   "execution_count": 1,
   "id": "liquid-timber",
   "metadata": {
    "execution": {
     "iopub.execute_input": "2021-03-26T22:26:02.205586Z",
     "iopub.status.busy": "2021-03-26T22:26:02.203594Z",
     "iopub.status.idle": "2021-03-26T22:26:13.527372Z",
     "shell.execute_reply": "2021-03-26T22:26:13.528229Z"
    }
   },
   "outputs": [
    {
     "data": {
      "text/plain": [
       "''"
      ]
     },
     "execution_count": 1,
     "metadata": {},
     "output_type": "execute_result"
    }
   ],
   "source": [
    "import rpy2\n",
    "import rpy2.robjects as robjects\n",
    "import rpy2.robjects.packages as rpackages\n",
    "\n",
    "from rpy2.robjects import numpy2ri, pandas2ri\n",
    "\n",
    "import rpy2.ipython.html\n",
    "rpy2.ipython.html.init_printing()\n",
    "\n",
    "import rpy2.robjects.lib.ggplot2 as gp\n",
    "from rpy2.ipython.ggplot import image_png\n",
    "\n",
    "from rpy2.rinterface_lib import openrlib\n",
    "\n",
    "robjects.r('''\n",
    "\n",
    "library(MetENP)\n",
    "\n",
    "''')\n",
    ";"
   ]
  },
  {
   "cell_type": "code",
   "execution_count": 2,
   "id": "resistant-pennsylvania",
   "metadata": {
    "execution": {
     "iopub.execute_input": "2021-03-26T22:26:13.539659Z",
     "iopub.status.busy": "2021-03-26T22:26:13.536330Z",
     "iopub.status.idle": "2021-03-26T22:26:29.764522Z",
     "shell.execute_reply": "2021-03-26T22:26:29.763755Z"
    }
   },
   "outputs": [],
   "source": [
    "data_1 = robjects.r['getmwstudies']('ST000915', \n",
    "    'data'\n",
    ")"
   ]
  },
  {
   "cell_type": "code",
   "execution_count": 3,
   "id": "overall-symphony",
   "metadata": {
    "execution": {
     "iopub.execute_input": "2021-03-26T22:26:29.776385Z",
     "iopub.status.busy": "2021-03-26T22:26:29.773207Z",
     "iopub.status.idle": "2021-03-26T22:26:30.014652Z",
     "shell.execute_reply": "2021-03-26T22:26:30.015448Z"
    }
   },
   "outputs": [],
   "source": [
    "with openrlib.rlock:\n",
    "    \n",
    "    robjects.r.assign('data_1', data_1)\n",
    "    \n",
    "    robjects.r('''\n",
    "\n",
    "    data_1_print = data.frame(apply(data_1, c(1,2), function(x){unlist(x, TRUE, TRUE)}))\n",
    "    head(data_1_print)\n",
    "\n",
    "    ''')\n",
    "    \n",
    "    pass"
   ]
  },
  {
   "cell_type": "code",
   "execution_count": 4,
   "id": "terminal-europe",
   "metadata": {
    "execution": {
     "iopub.execute_input": "2021-03-26T22:26:30.024851Z",
     "iopub.status.busy": "2021-03-26T22:26:30.021829Z",
     "iopub.status.idle": "2021-03-26T22:26:30.095577Z",
     "shell.execute_reply": "2021-03-26T22:26:30.096693Z"
    }
   },
   "outputs": [],
   "source": [
    "metadata = robjects.r['getmwstudies']('ST000915', \n",
    "    'factors'\n",
    ")"
   ]
  },
  {
   "cell_type": "code",
   "execution_count": 5,
   "id": "satisfied-preliminary",
   "metadata": {
    "execution": {
     "iopub.execute_input": "2021-03-26T22:26:30.106489Z",
     "iopub.status.busy": "2021-03-26T22:26:30.103859Z",
     "iopub.status.idle": "2021-03-26T22:26:30.139660Z",
     "shell.execute_reply": "2021-03-26T22:26:30.141022Z"
    }
   },
   "outputs": [
    {
     "data": {
      "text/html": [
       "\n",
       "<emph>DataFrame</emph> with 6 rows and\n",
       "  5 columns:\n",
       "<table class=\"rpy2_table\">\n",
       "  <thead>\n",
       "    <tr class=\"rpy2_names\">\n",
       "      <th></th>\n",
       "      <th></th>\n",
       "      <th>study_id</th>\n",
       "      <th>local_sample_id</th>\n",
       "      <th>subject_type</th>\n",
       "      <th>factors</th>\n",
       "      <th>Diagnosis</th>\n",
       "    </tr>\n",
       "  </thead>\n",
       "  <tbody>\n",
       "    <tr>\n",
       "      <td class=\"rpy2_rowname\">0</td>\n",
       "        <td class=\"rpy2_names\">1</td>\n",
       "      <td>ST000915</td>\n",
       "      <td>NASH005</td>\n",
       "      <td>Human clinical study</td>\n",
       "      <td>Diagnosis:Cirrhosis</td>\n",
       "      <td>Cirrhosis</td>\n",
       "    </tr>\n",
       "    <tr>\n",
       "      <td class=\"rpy2_rowname\">1</td>\n",
       "        <td class=\"rpy2_names\">2</td>\n",
       "      <td>ST000915</td>\n",
       "      <td>NASH007</td>\n",
       "      <td>Human clinical study</td>\n",
       "      <td>Diagnosis:Cirrhosis</td>\n",
       "      <td>Cirrhosis</td>\n",
       "    </tr>\n",
       "    <tr>\n",
       "      <td class=\"rpy2_rowname\">2</td>\n",
       "        <td class=\"rpy2_names\">3</td>\n",
       "      <td>ST000915</td>\n",
       "      <td>NASH009</td>\n",
       "      <td>Human clinical study</td>\n",
       "      <td>Diagnosis:Cirrhosis</td>\n",
       "      <td>Cirrhosis</td>\n",
       "    </tr>\n",
       "    <tr>\n",
       "      <td class=\"rpy2_rowname\">3</td>\n",
       "        <td class=\"rpy2_names\">4</td>\n",
       "      <td>ST000915</td>\n",
       "      <td>NASH013</td>\n",
       "      <td>Human clinical study</td>\n",
       "      <td>Diagnosis:Cirrhosis</td>\n",
       "      <td>Cirrhosis</td>\n",
       "    </tr>\n",
       "    <tr>\n",
       "      <td class=\"rpy2_rowname\">4</td>\n",
       "        <td class=\"rpy2_names\">5</td>\n",
       "      <td>ST000915</td>\n",
       "      <td>NASH016</td>\n",
       "      <td>Human clinical study</td>\n",
       "      <td>Diagnosis:Cirrhosis</td>\n",
       "      <td>Cirrhosis</td>\n",
       "    </tr>\n",
       "    <tr>\n",
       "      <td class=\"rpy2_rowname\">5</td>\n",
       "        <td class=\"rpy2_names\">6</td>\n",
       "      <td>ST000915</td>\n",
       "      <td>NASH022</td>\n",
       "      <td>Human clinical study</td>\n",
       "      <td>Diagnosis:Cirrhosis</td>\n",
       "      <td>Cirrhosis</td>\n",
       "    </tr>\n",
       "  </tbody>\n",
       "</table>"
      ],
      "text/plain": [
       "<rpy2.robjects.vectors.DataFrame object at 0x7f8bd6f33e80> [RTYPES.VECSXP]\n",
       "R classes: ('data.frame',)\n",
       "[StrSexp..., StrSexp..., StrSexp..., StrSexp..., StrSexp...]\n",
       "  study_id: <class 'rpy2.rinterface_lib.sexp.StrSexpVector'>\n",
       "  <rpy2.rinterface_lib.sexp.StrSexpVector object at 0x7f8bd52eb940> [RTYPES.STRSXP]\n",
       "  local_sample_id: <class 'rpy2.rinterface_lib.sexp.StrSexpVector'>\n",
       "  <rpy2.rinterface_lib.sexp.StrSexpVector object at 0x7f8bd52ece80> [RTYPES.STRSXP]\n",
       "  subject_type: <class 'rpy2.rinterface_lib.sexp.StrSexpVector'>\n",
       "  <rpy2.rinterface_lib.sexp.StrSexpVector object at 0x7f8bd52ece00> [RTYPES.STRSXP]\n",
       "  factors: <class 'rpy2.rinterface_lib.sexp.StrSexpVector'>\n",
       "  <rpy2.rinterface_lib.sexp.StrSexpVector object at 0x7f8bd52ecb40> [RTYPES.STRSXP]\n",
       "  Diagnosis: <class 'rpy2.rinterface_lib.sexp.StrSexpVector'>\n",
       "  <rpy2.rinterface_lib.sexp.StrSexpVector object at 0x7f8bd52ec9c0> [RTYPES.STRSXP]"
      ]
     },
     "execution_count": 5,
     "metadata": {},
     "output_type": "execute_result"
    }
   ],
   "source": [
    "robjects.r.assign('metadata', metadata)\n",
    "\n",
    "robjects.r('''\n",
    "metadata_print = data.frame(apply(metadata, c(1,2), function(x){unlist(x, TRUE, TRUE)}))\n",
    "head(metadata_print)\n",
    "''')"
   ]
  },
  {
   "cell_type": "markdown",
   "id": "alone-consultancy",
   "metadata": {},
   "source": [
    "Find the factors you would want to compare\n",
    "Multiple factors (independent variables) are formatted in multiple columns but you can get information on all the factors by \"factors\" column, such as 'TreatmentGroup:Prednisolone', this indicates column name 'TreatmentGroup' with factor Prednisolone. For t-test use the factors in the same column. For comparing multipe independent variables use anova by anova_ana function."
   ]
  },
  {
   "cell_type": "markdown",
   "id": "tired-sydney",
   "metadata": {},
   "source": [
    "### Associate metabolomics data to the refmet class"
   ]
  },
  {
   "cell_type": "code",
   "execution_count": 6,
   "id": "global-vocabulary",
   "metadata": {
    "execution": {
     "iopub.execute_input": "2021-03-26T22:26:30.155779Z",
     "iopub.status.busy": "2021-03-26T22:26:30.151578Z",
     "iopub.status.idle": "2021-03-26T22:26:40.063521Z",
     "shell.execute_reply": "2021-03-26T22:26:40.064431Z"
    }
   },
   "outputs": [
    {
     "data": {
      "text/html": [
       "\n",
       "<emph>DataFrame</emph> with 6 rows and\n",
       "  97 columns:\n",
       "<table class=\"rpy2_table\">\n",
       "  <thead>\n",
       "    <tr class=\"rpy2_names\">\n",
       "      <th></th>\n",
       "      <th></th>\n",
       "      <th>metabolite_name</th>\n",
       "      <th>analysis_id</th>\n",
       "      <th>analysis_summary</th>\n",
       "      <th>metabolite_id</th>\n",
       "      <th>...</th>\n",
       "      <th>main_class</th>\n",
       "      <th>sub_class</th>\n",
       "    </tr>\n",
       "  </thead>\n",
       "  <tbody>\n",
       "    <tr>\n",
       "      <td class=\"rpy2_rowname\">0</td>\n",
       "        <td class=\"rpy2_names\">1</td>\n",
       "      <td>1,2-DG(30:0)</td>\n",
       "      <td>AN001488</td>\n",
       "      <td>Core E Neutral Lipids</td>\n",
       "      <td>ME231190</td>\n",
       "       <td>...</td>\n",
       "      <td>Diradylglycerols</td>\n",
       "      <td>DAG</td>\n",
       "    </tr>\n",
       "    <tr>\n",
       "      <td class=\"rpy2_rowname\">1</td>\n",
       "        <td class=\"rpy2_names\">2</td>\n",
       "      <td>1,2-DG(30:1)</td>\n",
       "      <td>AN001488</td>\n",
       "      <td>Core E Neutral Lipids</td>\n",
       "      <td>ME231189</td>\n",
       "       <td>...</td>\n",
       "      <td>Diradylglycerols</td>\n",
       "      <td>DAG</td>\n",
       "    </tr>\n",
       "    <tr>\n",
       "      <td class=\"rpy2_rowname\">2</td>\n",
       "        <td class=\"rpy2_names\">3</td>\n",
       "      <td>1,2-DG(32:0)</td>\n",
       "      <td>AN001488</td>\n",
       "      <td>Core E Neutral Lipids</td>\n",
       "      <td>ME231196</td>\n",
       "       <td>...</td>\n",
       "      <td>Diradylglycerols</td>\n",
       "      <td>DAG</td>\n",
       "    </tr>\n",
       "    <tr>\n",
       "      <td class=\"rpy2_rowname\">3</td>\n",
       "        <td class=\"rpy2_names\">4</td>\n",
       "      <td>1,2-DG(32:1)</td>\n",
       "      <td>AN001488</td>\n",
       "      <td>Core E Neutral Lipids</td>\n",
       "      <td>ME231195</td>\n",
       "       <td>...</td>\n",
       "      <td>Diradylglycerols</td>\n",
       "      <td>DAG</td>\n",
       "    </tr>\n",
       "    <tr>\n",
       "      <td class=\"rpy2_rowname\">4</td>\n",
       "        <td class=\"rpy2_names\">5</td>\n",
       "      <td>1,2-DG(32:2)</td>\n",
       "      <td>AN001488</td>\n",
       "      <td>Core E Neutral Lipids</td>\n",
       "      <td>ME231194</td>\n",
       "       <td>...</td>\n",
       "      <td>Diradylglycerols</td>\n",
       "      <td>DAG</td>\n",
       "    </tr>\n",
       "    <tr>\n",
       "      <td class=\"rpy2_rowname\">5</td>\n",
       "        <td class=\"rpy2_names\">6</td>\n",
       "      <td>1,2-DG(32:3)</td>\n",
       "      <td>AN001488</td>\n",
       "      <td>Core E Neutral Lipids</td>\n",
       "      <td>ME231193</td>\n",
       "       <td>...</td>\n",
       "      <td>Diradylglycerols</td>\n",
       "      <td>DAG</td>\n",
       "    </tr>\n",
       "  </tbody>\n",
       "</table>"
      ],
      "text/plain": [
       "<rpy2.robjects.vectors.DataFrame object at 0x7f8bd40c9980> [RTYPES.VECSXP]\n",
       "R classes: ('data.frame',)\n",
       "[StrSexpVe..., StrSexpVe..., StrSexpVe..., StrSexpVe..., ..., StrSexpVe..., StrSexpVe..., StrSexpVe..., StrSexpVe...]\n",
       "  metabolite_name: <class 'rpy2.robjects.vectors.StrVector'>\n",
       "  <rpy2.robjects.vectors.StrVector object at 0x7f8bd5421600> [RTYPES.STRSXP]\n",
       "R classes: ('character',)\n",
       "['1,2-..., '1,2-..., '1,2-..., '1,2-..., '1,2-..., '1,2-...]\n",
       "  analysis_id: <class 'rpy2.robjects.vectors.StrVector'>\n",
       "  <rpy2.robjects.vectors.StrVector object at 0x7f8bd6982940> [RTYPES.STRSXP]\n",
       "R classes: ('character',)\n",
       "['AN00..., 'AN00..., 'AN00..., 'AN00..., 'AN00..., 'AN00...]\n",
       "  analysis_summary: <class 'rpy2.robjects.vectors.StrVector'>\n",
       "  <rpy2.robjects.vectors.StrVector object at 0x7f8bd69822c0> [RTYPES.STRSXP]\n",
       "R classes: ('character',)\n",
       "['Core..., 'Core..., 'Core..., 'Core..., 'Core..., 'Core...]\n",
       "  metabolite_id: <class 'rpy2.robjects.vectors.StrVector'>\n",
       "  <rpy2.robjects.vectors.StrVector object at 0x7f8bd6982e40> [RTYPES.STRSXP]\n",
       "R classes: ('character',)\n",
       "['ME23..., 'ME23..., 'ME23..., 'ME23..., 'ME23..., 'ME23...]\n",
       "...\n",
       "  NASH001: <class 'rpy2.robjects.vectors.StrVector'>\n",
       "  <rpy2.robjects.vectors.StrVector object at 0x7f8bd5300800> [RTYPES.STRSXP]\n",
       "R classes: ('character',)\n",
       "['C33H..., 'C33H..., 'C35H..., 'C35H..., 'C35H..., 'C35H...]\n",
       "  NASH002: <class 'rpy2.robjects.vectors.StrVector'>\n",
       "  <rpy2.robjects.vectors.StrVector object at 0x7f8bd5300640> [RTYPES.STRSXP]\n",
       "R classes: ('character',)\n",
       "['Glyc..., 'Glyc..., 'Glyc..., 'Glyc..., 'Glyc..., 'Glyc...]\n",
       "  NASH003: <class 'rpy2.robjects.vectors.StrVector'>\n",
       "  <rpy2.robjects.vectors.StrVector object at 0x7f8bd52d44c0> [RTYPES.STRSXP]\n",
       "R classes: ('character',)\n",
       "['Dira..., 'Dira..., 'Dira..., 'Dira..., 'Dira..., 'Dira...]\n",
       "  NASH004: <class 'rpy2.robjects.vectors.StrVector'>\n",
       "  <rpy2.robjects.vectors.StrVector object at 0x7f8bd52ec9c0> [RTYPES.STRSXP]\n",
       "R classes: ('character',)\n",
       "['DAG', 'DAG', 'DAG', 'DAG', 'DAG', 'DAG']"
      ]
     },
     "execution_count": 6,
     "metadata": {},
     "output_type": "execute_result"
    }
   ],
   "source": [
    "refmet_class = robjects.r['convert_refmet'](data_1)\n",
    "\n",
    "robjects.r.assign('refmet_class', refmet_class)\n",
    "\n",
    "robjects.r('''\n",
    "\n",
    "refmet_class_print = data.frame(apply(refmet_class, c(1,2), function(x){unlist(x, TRUE, TRUE)}))\n",
    "head(refmet_class_print)\n",
    "\n",
    "''')"
   ]
  },
  {
   "cell_type": "code",
   "execution_count": 7,
   "id": "owned-parcel",
   "metadata": {
    "execution": {
     "iopub.execute_input": "2021-03-26T22:26:40.074573Z",
     "iopub.status.busy": "2021-03-26T22:26:40.070681Z",
     "iopub.status.idle": "2021-03-26T22:26:40.082709Z",
     "shell.execute_reply": "2021-03-26T22:26:40.083627Z"
    }
   },
   "outputs": [
    {
     "data": {
      "text/html": [
       "\n",
       "<emph>DataFrame</emph> with 4 rows and\n",
       "  1 columns:\n",
       "<table class=\"rpy2_table\">\n",
       "  <thead>\n",
       "    <tr class=\"rpy2_names\">\n",
       "      <th></th>\n",
       "      <th></th>\n",
       "      <th>unique.metadata_print.factors.</th>\n",
       "    </tr>\n",
       "  </thead>\n",
       "  <tbody>\n",
       "    <tr>\n",
       "      <td class=\"rpy2_rowname\">0</td>\n",
       "        <td class=\"rpy2_names\">1</td>\n",
       "      <td>Diagnosis:Cirrhosis</td>\n",
       "    </tr>\n",
       "    <tr>\n",
       "      <td class=\"rpy2_rowname\">1</td>\n",
       "        <td class=\"rpy2_names\">2</td>\n",
       "      <td>Diagnosis:NASH</td>\n",
       "    </tr>\n",
       "    <tr>\n",
       "      <td class=\"rpy2_rowname\">2</td>\n",
       "        <td class=\"rpy2_names\">3</td>\n",
       "      <td>Diagnosis:Normal</td>\n",
       "    </tr>\n",
       "    <tr>\n",
       "      <td class=\"rpy2_rowname\">3</td>\n",
       "        <td class=\"rpy2_names\">4</td>\n",
       "      <td>Diagnosis:Steatosis</td>\n",
       "    </tr>\n",
       "  </tbody>\n",
       "</table>"
      ],
      "text/plain": [
       "<rpy2.robjects.vectors.DataFrame object at 0x7f8bd930adc0> [RTYPES.VECSXP]\n",
       "R classes: ('data.frame',)\n",
       "[StrSexpVector]\n",
       "  unique.metadata_print.factors.: <class 'rpy2.rinterface_lib.sexp.StrSexpVector'>\n",
       "  <rpy2.rinterface_lib.sexp.StrSexpVector object at 0x7f8bd930ae40> [RTYPES.STRSXP]"
      ]
     },
     "execution_count": 7,
     "metadata": {},
     "output_type": "execute_result"
    }
   ],
   "source": [
    "robjects.r('''\n",
    "data.frame(unique(metadata_print$factors))\n",
    "''')"
   ]
  },
  {
   "cell_type": "code",
   "execution_count": 8,
   "id": "exterior-minimum",
   "metadata": {
    "execution": {
     "iopub.execute_input": "2021-03-26T22:26:40.100655Z",
     "iopub.status.busy": "2021-03-26T22:26:40.093937Z",
     "iopub.status.idle": "2021-03-26T22:26:40.108731Z",
     "shell.execute_reply": "2021-03-26T22:26:40.110274Z"
    }
   },
   "outputs": [
    {
     "data": {
      "text/html": [
       "\n",
       "<emph>DataFrame</emph> with 6 rows and\n",
       "  1 columns:\n",
       "<table class=\"rpy2_table\">\n",
       "  <thead>\n",
       "    <tr class=\"rpy2_names\">\n",
       "      <th></th>\n",
       "      <th></th>\n",
       "      <th>unique.data_1_print.analysis_summary.</th>\n",
       "    </tr>\n",
       "  </thead>\n",
       "  <tbody>\n",
       "    <tr>\n",
       "      <td class=\"rpy2_rowname\">0</td>\n",
       "        <td class=\"rpy2_names\">1</td>\n",
       "      <td>Core G Fatty acids/Eicosanoids</td>\n",
       "    </tr>\n",
       "    <tr>\n",
       "      <td class=\"rpy2_rowname\">1</td>\n",
       "        <td class=\"rpy2_names\">2</td>\n",
       "      <td>Core J Sterols</td>\n",
       "    </tr>\n",
       "    <tr>\n",
       "      <td class=\"rpy2_rowname\">2</td>\n",
       "        <td class=\"rpy2_names\">3</td>\n",
       "      <td>Core K Prenols/Cardiolipins</td>\n",
       "    </tr>\n",
       "    <tr>\n",
       "      <td class=\"rpy2_rowname\">3</td>\n",
       "        <td class=\"rpy2_names\">4</td>\n",
       "      <td>Core E Neutral Lipids</td>\n",
       "    </tr>\n",
       "    <tr>\n",
       "      <td class=\"rpy2_rowname\">4</td>\n",
       "        <td class=\"rpy2_names\">5</td>\n",
       "      <td>Core I Sphingolipids</td>\n",
       "    </tr>\n",
       "    <tr>\n",
       "      <td class=\"rpy2_rowname\">5</td>\n",
       "        <td class=\"rpy2_names\">6</td>\n",
       "      <td>Core H Phospholipids</td>\n",
       "    </tr>\n",
       "  </tbody>\n",
       "</table>"
      ],
      "text/plain": [
       "<rpy2.robjects.vectors.DataFrame object at 0x7f8bd930a740> [RTYPES.VECSXP]\n",
       "R classes: ('data.frame',)\n",
       "[StrSexpVector]\n",
       "  unique.data_1_print.analysis_summary.: <class 'rpy2.rinterface_lib.sexp.StrSexpVector'>\n",
       "  <rpy2.rinterface_lib.sexp.StrSexpVector object at 0x7f8bd9310480> [RTYPES.STRSXP]"
      ]
     },
     "execution_count": 8,
     "metadata": {},
     "output_type": "execute_result"
    }
   ],
   "source": [
    "robjects.r('''\n",
    "data.frame(unique(data_1_print$analysis_summary))\n",
    "''')"
   ]
  },
  {
   "cell_type": "markdown",
   "id": "worthy-consequence",
   "metadata": {},
   "source": [
    "### Find significant metabolites, run significance of all the analysis summary together. The analysis summary/modes you got in the previous section"
   ]
  },
  {
   "cell_type": "markdown",
   "id": "better-journalism",
   "metadata": {},
   "source": [
    "There is a normalization step which takes into account missing values, and this can be achieved via three methods:\n",
    "\n",
    "1) half_of_min: where the NAs are replaced by half of min values in the data\n",
    "\n",
    "2) remove_NAs: where Cols with NAs values are removed\n",
    "\n",
    "3) 50percent: where cols with more than 50% NAs values are removed\n",
    "\n",
    "half_of_min is ideal when you wish to see which metabolites were present in either group. Very high fold change would mean it was present in either group."
   ]
  },
  {
   "cell_type": "code",
   "execution_count": 9,
   "id": "fifty-blair",
   "metadata": {
    "execution": {
     "iopub.execute_input": "2021-03-26T22:26:40.126510Z",
     "iopub.status.busy": "2021-03-26T22:26:40.123393Z",
     "iopub.status.idle": "2021-03-26T22:26:40.149242Z",
     "shell.execute_reply": "2021-03-26T22:26:40.150206Z"
    }
   },
   "outputs": [
    {
     "data": {
      "text/html": [
       "\n",
       "<emph>StrVector</emph> with 1 elements:\n",
       "<table class=\"rpy2_table\">\n",
       "<thead>\n",
       "</thead>\n",
       "<tbody>\n",
       "<tr>\n",
       "      <td>0.5</td>\n",
       "</tr>\n",
       "</tbody>\n",
       "</table>"
      ],
      "text/plain": [
       "<rpy2.robjects.vectors.StrVector object at 0x7f8bd695bf00> [RTYPES.STRSXP]\n",
       "R classes: ('character',)\n",
       "['0.5']"
      ]
     },
     "execution_count": 9,
     "metadata": {},
     "output_type": "execute_result"
    }
   ],
   "source": [
    "robjects.r.assign('refmet_class', refmet_class)\n",
    "robjects.r.assign('metcol', 'metabolite_name')\n",
    "robjects.r.assign('fac1', 'Cirrhosis')\n",
    "robjects.r.assign('fac2', 'Normal')\n",
    "robjects.r.assign('faccol', 'Diagnosis')\n",
    "robjects.r.assign('samcol', 'local_sample_id')\n",
    "robjects.r.assign('normtype', ['50percent'])\n",
    "robjects.r.assign('pthres', '0.05')\n",
    "robjects.r.assign('thres_log2foldchangevar', '0.5')"
   ]
  },
  {
   "cell_type": "code",
   "execution_count": 10,
   "id": "broadband-cabin",
   "metadata": {
    "execution": {
     "iopub.execute_input": "2021-03-26T22:26:40.163682Z",
     "iopub.status.busy": "2021-03-26T22:26:40.159501Z",
     "iopub.status.idle": "2021-03-26T22:26:40.171264Z",
     "shell.execute_reply": "2021-03-26T22:26:40.170150Z"
    }
   },
   "outputs": [
    {
     "data": {
      "text/plain": [
       "''"
      ]
     },
     "execution_count": 10,
     "metadata": {},
     "output_type": "execute_result"
    }
   ],
   "source": [
    "robjects.r('''\n",
    "ptreshnum<-as.numeric(pthres)\n",
    "thres_log2foldchangenum<-as.numeric(thres_log2foldchangevar)\n",
    "''')\n",
    ";"
   ]
  },
  {
   "cell_type": "code",
   "execution_count": 11,
   "id": "unique-damage",
   "metadata": {
    "execution": {
     "iopub.execute_input": "2021-03-26T22:26:40.187114Z",
     "iopub.status.busy": "2021-03-26T22:26:40.183239Z",
     "iopub.status.idle": "2021-03-26T22:26:40.197754Z",
     "shell.execute_reply": "2021-03-26T22:26:40.198796Z"
    }
   },
   "outputs": [
    {
     "data": {
      "text/plain": [
       "<rpy2.rinterface_lib.sexp.NULLType object at 0x7f8bd1006bc0> [RTYPES.NILSXP]"
      ]
     },
     "execution_count": 11,
     "metadata": {},
     "output_type": "execute_result"
    }
   ],
   "source": [
    "robjects.r.assign('mettit', 'Core G Fatty acids/Eicosanoids, Core J Sterols, Core K Prenols/Cardiolipins, Core E Neutral Lipids, Core I Sphingolipids, Core H Phospholipids')\n",
    "robjects.r('''\n",
    "list_mettit <- strsplit(mettit, ',')\n",
    "list_mettit = unlist(list_mettit, TRUE, TRUE)\n",
    "titles <- list()\n",
    "for(elm in list_mettit) {\n",
    "    elm = trimws(elm)\n",
    "    titles <- c(titles, elm)\n",
    "}\n",
    "''')"
   ]
  },
  {
   "cell_type": "code",
   "execution_count": 12,
   "id": "legendary-check",
   "metadata": {
    "execution": {
     "iopub.execute_input": "2021-03-26T22:26:40.211011Z",
     "iopub.status.busy": "2021-03-26T22:26:40.207419Z",
     "iopub.status.idle": "2021-03-26T22:26:42.088154Z",
     "shell.execute_reply": "2021-03-26T22:26:42.089304Z"
    }
   },
   "outputs": [
    {
     "data": {
      "text/plain": [
       "''"
      ]
     },
     "execution_count": 12,
     "metadata": {},
     "output_type": "execute_result"
    }
   ],
   "source": [
    "#is p adjust ONLY FDR?\n",
    "\n",
    "robjects.r('''\n",
    "stats_metabolites = significant_met(metabolomics_data=refmet_class_print, met_col=metcol,analysis_type=c(titles), metadata=metadata, factor1=fac1, factor2=fac2, factor_col=faccol,sample_col=samcol, p_adjust='fdr',normalization=normtype)\n",
    "''')\n",
    ";"
   ]
  },
  {
   "cell_type": "code",
   "execution_count": 13,
   "id": "physical-passing",
   "metadata": {
    "execution": {
     "iopub.execute_input": "2021-03-26T22:26:42.102173Z",
     "iopub.status.busy": "2021-03-26T22:26:42.098397Z",
     "iopub.status.idle": "2021-03-26T22:26:42.110169Z",
     "shell.execute_reply": "2021-03-26T22:26:42.111814Z"
    }
   },
   "outputs": [
    {
     "data": {
      "text/plain": [
       "''"
      ]
     },
     "execution_count": 13,
     "metadata": {},
     "output_type": "execute_result"
    }
   ],
   "source": [
    "robjects.r('''\n",
    "sig_metabolites = stats_metabolites[which(stats_metabolites[,\"pval\"] <= ptreshnum&abs(stats_metabolites[,\"log2Fold_change\"])>thres_log2foldchangenum),]\n",
    "''')\n",
    ";"
   ]
  },
  {
   "cell_type": "code",
   "execution_count": 14,
   "id": "shared-stocks",
   "metadata": {
    "execution": {
     "iopub.execute_input": "2021-03-26T22:26:42.134339Z",
     "iopub.status.busy": "2021-03-26T22:26:42.130201Z",
     "iopub.status.idle": "2021-03-26T22:26:45.549154Z",
     "shell.execute_reply": "2021-03-26T22:26:45.550446Z"
    }
   },
   "outputs": [
    {
     "data": {
      "image/png": "[encoded data removed]",
      "text/plain": [
       "<IPython.core.display.Image object>"
      ]
     },
     "execution_count": 14,
     "metadata": {},
     "output_type": "execute_result"
    }
   ],
   "source": [
    "image_png(robjects.r('''\n",
    "plot_volcano(stats_metabolites, thres_pval= ptreshnum, thres_log2foldchange = thres_log2foldchangenum, TRUE)\n",
    "'''))"
   ]
  },
  {
   "cell_type": "markdown",
   "id": "whole-arcade",
   "metadata": {},
   "source": [
    "### Map metabolite class of the significant metabolites utilzing refmet classification in Metabolomics Workbench\n",
    "This function not only maps metabolite to metabolite class but also to external databases such as pubchem, inchi key, smiles and kegg\n",
    "\n",
    "In this example, we will go forward with significant metabolite obtained by t-test/"
   ]
  },
  {
   "cell_type": "code",
   "execution_count": 15,
   "id": "ready-simple",
   "metadata": {
    "execution": {
     "iopub.execute_input": "2021-03-26T22:26:45.570861Z",
     "iopub.status.busy": "2021-03-26T22:26:45.564190Z",
     "iopub.status.idle": "2021-03-26T22:26:47.504511Z",
     "shell.execute_reply": "2021-03-26T22:26:47.505308Z"
    }
   },
   "outputs": [],
   "source": [
    "with openrlib.rlock:\n",
    "    robjects.r('''\n",
    "    sig_metabolites_kegg_id= map_keggid(sig_metabolites)\n",
    "    ''')\n",
    "    pass"
   ]
  },
  {
   "cell_type": "markdown",
   "id": "fabulous-filling",
   "metadata": {},
   "source": [
    "#### Check all your significant metabolites have not been assigned metabolite class\n",
    "Outcome should be 0 elements (?)"
   ]
  },
  {
   "cell_type": "code",
   "execution_count": 16,
   "id": "painful-heater",
   "metadata": {
    "execution": {
     "iopub.execute_input": "2021-03-26T22:26:47.515284Z",
     "iopub.status.busy": "2021-03-26T22:26:47.512055Z",
     "iopub.status.idle": "2021-03-26T22:26:47.522722Z",
     "shell.execute_reply": "2021-03-26T22:26:47.520679Z"
    }
   },
   "outputs": [
    {
     "data": {
      "text/html": [
       "\n",
       "<emph>StrVector</emph> with 0 elements:\n",
       "<table class=\"rpy2_table\">\n",
       "<thead>\n",
       "</thead>\n",
       "<tbody>\n",
       "<tr>\n",
       "</tr>\n",
       "</tbody>\n",
       "</table>"
      ],
      "text/plain": [
       "<rpy2.robjects.vectors.StrVector object at 0x7f8bd531c2c0> [RTYPES.STRSXP]\n",
       "R classes: ('character',)\n",
       "[]"
      ]
     },
     "execution_count": 16,
     "metadata": {},
     "output_type": "execute_result"
    }
   ],
   "source": [
    "robjects.r('''\n",
    "setdiff(sig_metabolites$refmet_name, sig_metabolites_kegg_id$refmet_name)\n",
    "''')"
   ]
  },
  {
   "cell_type": "markdown",
   "id": "least-shape",
   "metadata": {},
   "source": [
    "### Count metabolites in each of the metabolite class and plotting\n",
    "You may choose from sub_class, main_class and super_class"
   ]
  },
  {
   "cell_type": "code",
   "execution_count": 17,
   "id": "certified-answer",
   "metadata": {
    "execution": {
     "iopub.execute_input": "2021-03-26T22:26:47.552682Z",
     "iopub.status.busy": "2021-03-26T22:26:47.548774Z",
     "iopub.status.idle": "2021-03-26T22:26:47.614457Z",
     "shell.execute_reply": "2021-03-26T22:26:47.615294Z"
    }
   },
   "outputs": [
    {
     "data": {
      "text/plain": [
       "''"
      ]
     },
     "execution_count": 17,
     "metadata": {},
     "output_type": "execute_result"
    }
   ],
   "source": [
    "robjects.r.assign('classtype', ['sub_class'])\n",
    "robjects.r('''\n",
    "metclassvar <- as.character(classtype[1])\n",
    "count_changes = metcountplot(df_metclass=sig_metabolites_kegg_id, metclass=metclassvar, plotting=TRUE, thres_logfC = 0.5)\n",
    "''')\n",
    ";"
   ]
  },
  {
   "cell_type": "code",
   "execution_count": 18,
   "id": "desperate-message",
   "metadata": {
    "execution": {
     "iopub.execute_input": "2021-03-26T22:26:47.626045Z",
     "iopub.status.busy": "2021-03-26T22:26:47.622674Z",
     "iopub.status.idle": "2021-03-26T22:26:47.846681Z",
     "shell.execute_reply": "2021-03-26T22:26:47.847697Z"
    }
   },
   "outputs": [
    {
     "data": {
      "image/png": "[encoded data removed]",
      "text/plain": [
       "<IPython.core.display.Image object>"
      ]
     },
     "execution_count": 18,
     "metadata": {},
     "output_type": "execute_result"
    }
   ],
   "source": [
    "image_png(robjects.r('''\n",
    "count_changes$plotimg\n",
    "'''))"
   ]
  },
  {
   "cell_type": "markdown",
   "id": "double-string",
   "metadata": {},
   "source": [
    "### Enrichment class score\n",
    "\n",
    "Calculate the enrichment score of each metabolite class. Enrichment score is calculated through hypergeometric method. One can specify the no. of significant metabolites in a class while calculating the enrichment score. We advice to use the number of mtabolites in each class as 3 or more. But if someone just wants to know the enrichment score and rest of the information of all the metabolites, then they can choose the number as 1."
   ]
  },
  {
   "cell_type": "code",
   "execution_count": 19,
   "id": "outside-remark",
   "metadata": {
    "execution": {
     "iopub.execute_input": "2021-03-26T22:26:47.872586Z",
     "iopub.status.busy": "2021-03-26T22:26:47.858318Z",
     "iopub.status.idle": "2021-03-26T22:26:47.883456Z",
     "shell.execute_reply": "2021-03-26T22:26:47.874741Z"
    }
   },
   "outputs": [
    {
     "data": {
      "text/html": [
       "\n",
       "<emph>IntVector</emph> with 1 elements:\n",
       "<table class=\"rpy2_table\">\n",
       "<thead>\n",
       "</thead>\n",
       "<tbody>\n",
       "<tr>\n",
       "      <td>3</td>\n",
       "</tr>\n",
       "</tbody>\n",
       "</table>"
      ],
      "text/plain": [
       "<rpy2.robjects.vectors.IntVector object at 0x7f8bd6b554c0> [RTYPES.INTSXP]\n",
       "R classes: ('integer',)\n",
       "[3]"
      ]
     },
     "execution_count": 19,
     "metadata": {},
     "output_type": "execute_result"
    }
   ],
   "source": [
    "robjects.r.assign('sigmets', 3)"
   ]
  },
  {
   "cell_type": "code",
   "execution_count": 20,
   "id": "involved-milton",
   "metadata": {
    "execution": {
     "iopub.execute_input": "2021-03-26T22:26:47.906564Z",
     "iopub.status.busy": "2021-03-26T22:26:47.896424Z",
     "iopub.status.idle": "2021-03-26T22:26:48.027837Z",
     "shell.execute_reply": "2021-03-26T22:26:48.027244Z"
    }
   },
   "outputs": [
    {
     "data": {
      "text/plain": [
       "''"
      ]
     },
     "execution_count": 20,
     "metadata": {},
     "output_type": "execute_result"
    }
   ],
   "source": [
    "robjects.r('''\n",
    "metenrichment = metclassenrichment(df_metclass=sig_metabolites_kegg_id,refmet_class, metclass=metclassvar,enrich_stats=\"HG\",no=sigmets)\n",
    "''')\n",
    ";"
   ]
  },
  {
   "cell_type": "markdown",
   "id": "twenty-football",
   "metadata": {},
   "source": [
    "#### Plot the enrichment score via function plot_met_enrichment"
   ]
  },
  {
   "cell_type": "code",
   "execution_count": 21,
   "id": "stuck-hindu",
   "metadata": {
    "execution": {
     "iopub.execute_input": "2021-03-26T22:26:48.037739Z",
     "iopub.status.busy": "2021-03-26T22:26:48.034820Z",
     "iopub.status.idle": "2021-03-26T22:26:48.312705Z",
     "shell.execute_reply": "2021-03-26T22:26:48.313805Z"
    }
   },
   "outputs": [
    {
     "data": {
      "image/png": "[encoded data removed]",
      "text/plain": [
       "<IPython.core.display.Image object>"
      ]
     },
     "execution_count": 21,
     "metadata": {},
     "output_type": "execute_result"
    }
   ],
   "source": [
    "image_png(robjects.r('''\n",
    "plot_met_enrichment(metenrichment, metclassvar,\"HG\", no=sigmets)\n",
    "'''))"
   ]
  },
  {
   "cell_type": "markdown",
   "id": "informational-flood",
   "metadata": {},
   "source": [
    "### Check the pathways with reactions of all the significant metabolites"
   ]
  },
  {
   "cell_type": "code",
   "execution_count": 22,
   "id": "demonstrated-medicine",
   "metadata": {
    "execution": {
     "iopub.execute_input": "2021-03-26T22:26:48.332060Z",
     "iopub.status.busy": "2021-03-26T22:26:48.325159Z",
     "iopub.status.idle": "2021-03-26T22:26:57.054517Z",
     "shell.execute_reply": "2021-03-26T22:26:57.055239Z"
    }
   },
   "outputs": [
    {
     "data": {
      "text/html": [
       "\n",
       "<emph>DataFrame</emph> with 6 rows and\n",
       "  22 columns:\n",
       "<table class=\"rpy2_table\">\n",
       "  <thead>\n",
       "    <tr class=\"rpy2_names\">\n",
       "      <th></th>\n",
       "      <th></th>\n",
       "      <th>rxn</th>\n",
       "      <th>refmet_name</th>\n",
       "      <th>Exact mass</th>\n",
       "      <th>KEGG ID</th>\n",
       "      <th>...</th>\n",
       "      <th>pathway_id</th>\n",
       "      <th>sps_path_id</th>\n",
       "    </tr>\n",
       "  </thead>\n",
       "  <tbody>\n",
       "    <tr>\n",
       "      <td class=\"rpy2_rowname\">0</td>\n",
       "        <td class=\"rpy2_names\">1</td>\n",
       "      <td>R01003</td>\n",
       "      <td>Dolichol-20</td>\n",
       "      <td>1381.2782</td>\n",
       "      <td>C00381</td>\n",
       "       <td>...</td>\n",
       "      <td>rn00510</td>\n",
       "      <td>hsa00510</td>\n",
       "    </tr>\n",
       "    <tr>\n",
       "      <td class=\"rpy2_rowname\">1</td>\n",
       "        <td class=\"rpy2_names\">2</td>\n",
       "      <td>R01003</td>\n",
       "      <td>Dolichol-20</td>\n",
       "      <td>1381.2782</td>\n",
       "      <td>C00381</td>\n",
       "       <td>...</td>\n",
       "      <td>rn01100</td>\n",
       "      <td>hsa01100</td>\n",
       "    </tr>\n",
       "    <tr>\n",
       "      <td class=\"rpy2_rowname\">2</td>\n",
       "        <td class=\"rpy2_names\">3</td>\n",
       "      <td>R01018</td>\n",
       "      <td>Dolichol-20</td>\n",
       "      <td>1381.2782</td>\n",
       "      <td>C00381</td>\n",
       "       <td>...</td>\n",
       "      <td>rn00510</td>\n",
       "      <td>hsa00510</td>\n",
       "    </tr>\n",
       "    <tr>\n",
       "      <td class=\"rpy2_rowname\">3</td>\n",
       "        <td class=\"rpy2_names\">4</td>\n",
       "      <td>R01018</td>\n",
       "      <td>Dolichol-20</td>\n",
       "      <td>1381.2782</td>\n",
       "      <td>C00381</td>\n",
       "       <td>...</td>\n",
       "      <td>rn01100</td>\n",
       "      <td>hsa01100</td>\n",
       "    </tr>\n",
       "    <tr>\n",
       "      <td class=\"rpy2_rowname\">4</td>\n",
       "        <td class=\"rpy2_names\">5</td>\n",
       "      <td>R01312</td>\n",
       "      <td>1,2-DG 34:0</td>\n",
       "      <td>596.5380</td>\n",
       "      <td>C00641</td>\n",
       "       <td>...</td>\n",
       "      <td>rn00564</td>\n",
       "      <td>hsa00564</td>\n",
       "    </tr>\n",
       "    <tr>\n",
       "      <td class=\"rpy2_rowname\">5</td>\n",
       "        <td class=\"rpy2_names\">6</td>\n",
       "      <td>R01312</td>\n",
       "      <td>1,2-DG 36:4</td>\n",
       "      <td>616.5067</td>\n",
       "      <td>C00641</td>\n",
       "       <td>...</td>\n",
       "      <td>rn00564</td>\n",
       "      <td>hsa00564</td>\n",
       "    </tr>\n",
       "  </tbody>\n",
       "</table>"
      ],
      "text/plain": [
       "<rpy2.robjects.vectors.DataFrame object at 0x7f8bd6b547c0> [RTYPES.VECSXP]\n",
       "R classes: ('data.frame',)\n",
       "[StrSexpVe..., StrSexpVe..., StrSexpVe..., StrSexpVe..., ..., ListSexpV..., StrSexpVe..., StrSexpVe..., StrSexpVe...]\n",
       "  rxn: <class 'rpy2.robjects.vectors.StrVector'>\n",
       "  <rpy2.robjects.vectors.StrVector object at 0x7f8bd930a540> [RTYPES.STRSXP]\n",
       "R classes: ('character',)\n",
       "['R010..., 'R010..., 'R010..., 'R010..., 'R013..., 'R013...]\n",
       "  refmet_name: <class 'rpy2.robjects.vectors.StrVector'>\n",
       "  <rpy2.robjects.vectors.StrVector object at 0x7f8bd930a580> [RTYPES.STRSXP]\n",
       "R classes: ('character',)\n",
       "['Doli..., 'Doli..., 'Doli..., 'Doli..., '1,2-..., '1,2-...]\n",
       "  Exact mass: <class 'rpy2.robjects.vectors.StrVector'>\n",
       "  <rpy2.robjects.vectors.StrVector object at 0x7f8bd930a140> [RTYPES.STRSXP]\n",
       "R classes: ('character',)\n",
       "['1381..., '1381..., '1381..., '1381..., '596...., '616....]\n",
       "  KEGG ID: <class 'rpy2.robjects.vectors.StrVector'>\n",
       "  <rpy2.robjects.vectors.StrVector object at 0x7f8bd930a040> [RTYPES.STRSXP]\n",
       "R classes: ('character',)\n",
       "['C003..., 'C003..., 'C003..., 'C003..., 'C006..., 'C006...]\n",
       "...\n",
       "<rpy2.robjects.vectors.DataFrame object at 0x7f8bd6b547c0> [RTYPES.VECSXP]\n",
       "R classes: ('data.frame',)\n",
       "[StrSexpVe..., StrSexpVe..., StrSexpVe..., StrSexpVe..., ..., ListSexpV..., StrSexpVe..., StrSexpVe..., StrSexpVe...]\n",
       "  Normal_mean: <class 'rpy2.robjects.vectors.StrVector'>\n",
       "  <rpy2.robjects.vectors.StrVector object at 0x7f8bd916f7c0> [RTYPES.STRSXP]\n",
       "R classes: ('character',)\n",
       "['N-Gl..., 'Meta..., 'N-Gl..., 'Meta..., 'Glyc..., 'Glyc...]\n",
       "  Fold_change: <class 'rpy2.robjects.vectors.StrVector'>\n",
       "  <rpy2.robjects.vectors.StrVector object at 0x7f8bd930ae80> [RTYPES.STRSXP]\n",
       "R classes: ('character',)\n",
       "['rn00..., 'rn01..., 'rn00..., 'rn01..., 'rn00..., 'rn00...]\n",
       "  log2Fold_change: <class 'rpy2.robjects.vectors.StrVector'>\n",
       "  <rpy2.robjects.vectors.StrVector object at 0x7f8bd0e0d940> [RTYPES.STRSXP]\n",
       "R classes: ('character',)\n",
       "['hsa0..., 'hsa0..., 'hsa0..., 'hsa0..., 'hsa0..., 'hsa0...]"
      ]
     },
     "execution_count": 22,
     "metadata": {},
     "output_type": "execute_result"
    }
   ],
   "source": [
    "robjects.r.assign('studyOrg', 'hsa')\n",
    "robjects.r('''\n",
    "met_path = met_pathways(df_metenrichment = metenrichment, studyOrg)\n",
    "head(met_path)\n",
    "''')"
   ]
  },
  {
   "cell_type": "markdown",
   "id": "precise-formation",
   "metadata": {},
   "source": [
    "Find metabolites for which no pathways were registered in Kegg and/or no kegg id was found"
   ]
  },
  {
   "cell_type": "code",
   "execution_count": 23,
   "id": "southeast-garage",
   "metadata": {
    "execution": {
     "iopub.execute_input": "2021-03-26T22:26:57.066334Z",
     "iopub.status.busy": "2021-03-26T22:26:57.063332Z",
     "iopub.status.idle": "2021-03-26T22:26:57.070305Z",
     "shell.execute_reply": "2021-03-26T22:26:57.067856Z"
    }
   },
   "outputs": [],
   "source": [
    "#setdiff(metenrichment$Metabolite,unique(met_path$Metabolite))\n",
    "\n",
    "#not necessary for final script?"
   ]
  },
  {
   "cell_type": "markdown",
   "id": "about-complex",
   "metadata": {},
   "source": [
    "### Get pathway enrichment sore.\n",
    "\n",
    "Once we have the pathway information, we can calculate enrichment score of pathways. Again, here i have used hypergeometric score. For hypergeometric score, we need to know the total number of kegg compounds that are linked to kegg pathways. \n",
    "N = total no. of cmpds linked to kegg pathway (this is the step which might take long), so I advice to run the script comp_linkedto_pathways() just the first time or after 6 months or so if desired to run the pipeline again. save the result from comp_linkedto_pathways() and load it. Loading from saved file would save time for another analysis with another study. However the package takes care of loading. Save the data in the data folder.\n",
    "\n",
    "L = No. of cmpds in a pathway\n",
    "M= no. of altered cmpds in a pathway\n",
    "K =  total no. of altered cmpds\n",
    "phyper(M,L, N-L, K)\n",
    "\n",
    "\n",
    "This function also utilizes korg dataset from pathview package."
   ]
  },
  {
   "cell_type": "code",
   "execution_count": 24,
   "id": "tropical-alaska",
   "metadata": {
    "execution": {
     "iopub.execute_input": "2021-03-26T22:26:57.089018Z",
     "iopub.status.busy": "2021-03-26T22:26:57.085475Z",
     "iopub.status.idle": "2021-03-26T22:26:58.742349Z",
     "shell.execute_reply": "2021-03-26T22:26:58.743258Z"
    }
   },
   "outputs": [
    {
     "data": {
      "text/html": [
       "\n",
       "<emph>DataFrame</emph> with 6 rows and\n",
       "  5 columns:\n",
       "<table class=\"rpy2_table\">\n",
       "  <thead>\n",
       "    <tr class=\"rpy2_names\">\n",
       "      <th></th>\n",
       "      <th></th>\n",
       "      <th>Pathway name</th>\n",
       "      <th>No.of mets in study</th>\n",
       "      <th>Total_no._of_comps_in_pathway</th>\n",
       "      <th>pathway_HG p-value</th>\n",
       "      <th>Padjust</th>\n",
       "    </tr>\n",
       "  </thead>\n",
       "  <tbody>\n",
       "    <tr>\n",
       "      <td class=\"rpy2_rowname\">0</td>\n",
       "        <td class=\"rpy2_names\">1</td>\n",
       "      <td>Arachidonic acid metabolism</td>\n",
       "      <td>4</td>\n",
       "      <td>75</td>\n",
       "      <td>0.999173034565787</td>\n",
       "      <td>0.999173034565787</td>\n",
       "    </tr>\n",
       "    <tr>\n",
       "      <td class=\"rpy2_rowname\">1</td>\n",
       "        <td class=\"rpy2_names\">2</td>\n",
       "      <td>Glycerolipid metabolism</td>\n",
       "      <td>12</td>\n",
       "      <td>38</td>\n",
       "      <td>0.008469408188587033</td>\n",
       "      <td>0.02117352047146758</td>\n",
       "    </tr>\n",
       "    <tr>\n",
       "      <td class=\"rpy2_rowname\">2</td>\n",
       "        <td class=\"rpy2_names\">3</td>\n",
       "      <td>Glycerophospholipid metabolism</td>\n",
       "      <td>17</td>\n",
       "      <td>52</td>\n",
       "      <td>0.0009973045347542882</td>\n",
       "      <td>0.003324348449180961</td>\n",
       "    </tr>\n",
       "    <tr>\n",
       "      <td class=\"rpy2_rowname\">3</td>\n",
       "        <td class=\"rpy2_names\">4</td>\n",
       "      <td>Glycine, serine and threonine metabolism</td>\n",
       "      <td>4</td>\n",
       "      <td>50</td>\n",
       "      <td>0.9705818848647176</td>\n",
       "      <td>0.999173034565787</td>\n",
       "    </tr>\n",
       "    <tr>\n",
       "      <td class=\"rpy2_rowname\">4</td>\n",
       "        <td class=\"rpy2_names\">5</td>\n",
       "      <td>Glycosylphosphatidylinositol (GPI)-anchor biosynthesis</td>\n",
       "      <td>13</td>\n",
       "      <td>16</td>\n",
       "      <td>5.698535988454919e-09</td>\n",
       "      <td>2.8492679942274595e-08</td>\n",
       "    </tr>\n",
       "    <tr>\n",
       "      <td class=\"rpy2_rowname\">5</td>\n",
       "        <td class=\"rpy2_names\">6</td>\n",
       "      <td>Inositol phosphate metabolism</td>\n",
       "      <td>9</td>\n",
       "      <td>47</td>\n",
       "      <td>0.3070207366874475</td>\n",
       "      <td>0.4386010524106393</td>\n",
       "    </tr>\n",
       "  </tbody>\n",
       "</table>"
      ],
      "text/plain": [
       "<rpy2.robjects.vectors.DataFrame object at 0x7f8bd56a8080> [RTYPES.VECSXP]\n",
       "R classes: ('data.frame',)\n",
       "[IntSexp..., IntSexp..., IntSexp..., FloatSe..., FloatSe...]\n",
       "  Pathway name: <class 'rpy2.rinterface.IntSexpVector'>\n",
       "  <rpy2.rinterface.IntSexpVector object at 0x7f8bd5302e00> [RTYPES.INTSXP]\n",
       "  No.of mets in study: <class 'rpy2.rinterface.IntSexpVector'>\n",
       "  <rpy2.rinterface.IntSexpVector object at 0x7f8bd9310d80> [RTYPES.INTSXP]\n",
       "  Total_no._of_comps_in_pathway: <class 'rpy2.rinterface.IntSexpVector'>\n",
       "  <rpy2.rinterface.IntSexpVector object at 0x7f8bd9310700> [RTYPES.INTSXP]\n",
       "  pathway_HG p-value: <class 'rpy2.rinterface.FloatSexpVector'>\n",
       "  <rpy2.rinterface.FloatSexpVector object at 0x7f8bd9310280> [RTYPES.REALSXP]\n",
       "  Padjust: <class 'rpy2.rinterface.FloatSexpVector'>\n",
       "  <rpy2.rinterface.FloatSexpVector object at 0x7f8bd52ee880> [RTYPES.REALSXP]"
      ]
     },
     "execution_count": 24,
     "metadata": {},
     "output_type": "execute_result"
    }
   ],
   "source": [
    "robjects.r('''\n",
    "kegg_es = path_enrichmentscore(met_path,sig_metabolite_kegg_id=sig_metabolite_kegg_id,ls_path=ls_path,refmet_class=refmet_class,sps='hsa',padj='fdr', kegg_comp_path=FALSE)\n",
    "head(kegg_es)\n",
    "''')"
   ]
  },
  {
   "cell_type": "markdown",
   "id": "analyzed-vertical",
   "metadata": {},
   "source": [
    "### Plot pathway network\n",
    "Only plotting significant pathways (pathway with p-value significance).\n",
    "\n",
    "The pathway network is such that it shows metabolites that are connected to different pathways and same metabolite in different pathway. Color of nodes of metabolites are according to the fold change of metabolites (low expression in green and high in red) and size of pathway nodes (square nodes) are according to the number of branches (meaning no of metabolites). All metabolite are written in blue"
   ]
  },
  {
   "cell_type": "code",
   "execution_count": 25,
   "id": "random-aside",
   "metadata": {
    "execution": {
     "iopub.execute_input": "2021-03-26T22:26:58.756391Z",
     "iopub.status.busy": "2021-03-26T22:26:58.751921Z",
     "iopub.status.idle": "2021-03-26T22:27:00.115574Z",
     "shell.execute_reply": "2021-03-26T22:27:00.117088Z"
    }
   },
   "outputs": [
    {
     "data": {
      "image/png": "[encoded data removed]",
      "text/plain": [
       "<IPython.core.display.Image object>"
      ]
     },
     "execution_count": 25,
     "metadata": {},
     "output_type": "execute_result"
    }
   ],
   "source": [
    "image_png(robjects.r('''\n",
    "plot_pathway_networks (met_path,kegg_es, TRUE)\n",
    "'''))"
   ]
  },
  {
   "cell_type": "markdown",
   "id": "revolutionary-rogers",
   "metadata": {},
   "source": [
    "### Heatmap"
   ]
  },
  {
   "cell_type": "code",
   "execution_count": 26,
   "id": "nasty-checklist",
   "metadata": {
    "execution": {
     "iopub.execute_input": "2021-03-26T22:27:00.136468Z",
     "iopub.status.busy": "2021-03-26T22:27:00.128177Z",
     "iopub.status.idle": "2021-03-26T22:27:00.161276Z",
     "shell.execute_reply": "2021-03-26T22:27:00.149718Z"
    }
   },
   "outputs": [
    {
     "data": {
      "text/html": [
       "\n",
       "<emph>IntVector</emph> with 1 elements:\n",
       "<table class=\"rpy2_table\">\n",
       "<thead>\n",
       "</thead>\n",
       "<tbody>\n",
       "<tr>\n",
       "      <td>6</td>\n",
       "</tr>\n",
       "</tbody>\n",
       "</table>"
      ],
      "text/plain": [
       "<rpy2.robjects.vectors.IntVector object at 0x7f8bd93087c0> [RTYPES.INTSXP]\n",
       "R classes: ('integer',)\n",
       "[6]"
      ]
     },
     "execution_count": 26,
     "metadata": {},
     "output_type": "execute_result"
    }
   ],
   "source": [
    "robjects.r.assign('x_size_heat', 8)\n",
    "robjects.r.assign('y_size_heat', 6)"
   ]
  },
  {
   "cell_type": "code",
   "execution_count": 27,
   "id": "integral-israeli",
   "metadata": {
    "execution": {
     "iopub.execute_input": "2021-03-26T22:27:00.216522Z",
     "iopub.status.busy": "2021-03-26T22:27:00.213097Z",
     "iopub.status.idle": "2021-03-26T22:27:00.329595Z",
     "shell.execute_reply": "2021-03-26T22:27:00.330587Z"
    }
   },
   "outputs": [
    {
     "data": {
      "image/png": "[encoded data removed]",
      "text/plain": [
       "<IPython.core.display.Image object>"
      ]
     },
     "execution_count": 27,
     "metadata": {},
     "output_type": "execute_result"
    }
   ],
   "source": [
    "image_png(robjects.r('''\n",
    "plot_heatmap(met_path, shorten_name=TRUE,refmet_name=FALSE, xaxis=x_size_heat, yaxis=y_size_heat)\n",
    "'''))"
   ]
  },
  {
   "cell_type": "markdown",
   "id": "capital-cincinnati",
   "metadata": {},
   "source": [
    "### Dotplot"
   ]
  },
  {
   "cell_type": "code",
   "execution_count": 28,
   "id": "according-intelligence",
   "metadata": {
    "execution": {
     "iopub.execute_input": "2021-03-26T22:27:00.352692Z",
     "iopub.status.busy": "2021-03-26T22:27:00.349083Z",
     "iopub.status.idle": "2021-03-26T22:27:00.360673Z",
     "shell.execute_reply": "2021-03-26T22:27:00.353578Z"
    }
   },
   "outputs": [
    {
     "data": {
      "text/html": [
       "\n",
       "<emph>IntVector</emph> with 1 elements:\n",
       "<table class=\"rpy2_table\">\n",
       "<thead>\n",
       "</thead>\n",
       "<tbody>\n",
       "<tr>\n",
       "      <td>6</td>\n",
       "</tr>\n",
       "</tbody>\n",
       "</table>"
      ],
      "text/plain": [
       "<rpy2.robjects.vectors.IntVector object at 0x7f8bd91bdc00> [RTYPES.INTSXP]\n",
       "R classes: ('integer',)\n",
       "[6]"
      ]
     },
     "execution_count": 28,
     "metadata": {},
     "output_type": "execute_result"
    }
   ],
   "source": [
    "robjects.r.assign('x_size_dot', 8)\n",
    "robjects.r.assign('y_size_dot', 6)"
   ]
  },
  {
   "cell_type": "code",
   "execution_count": 29,
   "id": "amateur-completion",
   "metadata": {
    "execution": {
     "iopub.execute_input": "2021-03-26T22:27:00.375849Z",
     "iopub.status.busy": "2021-03-26T22:27:00.372975Z",
     "iopub.status.idle": "2021-03-26T22:27:00.599761Z",
     "shell.execute_reply": "2021-03-26T22:27:00.600681Z"
    }
   },
   "outputs": [
    {
     "data": {
      "image/png": "[encoded data removed]",
      "text/plain": [
       "<IPython.core.display.Image object>"
      ]
     },
     "execution_count": 29,
     "metadata": {},
     "output_type": "execute_result"
    }
   ],
   "source": [
    "image_png(robjects.r('''\n",
    "dotplot_met_class_path (met_path, kegg_es, metclassvar,xaxis=x_size_dot,yaxis=y_size_dot)\n",
    "'''))"
   ]
  },
  {
   "cell_type": "markdown",
   "id": "outdoor-irrigation",
   "metadata": {},
   "source": [
    "### Get the gene and enzyme info\n",
    "\n",
    "Here we get the information of genes involved in enriched pathways for specified organism"
   ]
  },
  {
   "cell_type": "code",
   "execution_count": 30,
   "id": "cultural-empire",
   "metadata": {
    "execution": {
     "iopub.execute_input": "2021-03-26T22:27:00.620313Z",
     "iopub.status.busy": "2021-03-26T22:27:00.616587Z",
     "iopub.status.idle": "2021-03-26T22:27:56.682084Z",
     "shell.execute_reply": "2021-03-26T22:27:56.683256Z"
    }
   },
   "outputs": [
    {
     "data": {
      "text/html": [
       "\n",
       "<emph>DataFrame</emph> with 6 rows and\n",
       "  18 columns:\n",
       "<table class=\"rpy2_table\">\n",
       "  <thead>\n",
       "    <tr class=\"rpy2_names\">\n",
       "      <th></th>\n",
       "      <th></th>\n",
       "      <th>orthology_id</th>\n",
       "      <th>ORTHOLOGY</th>\n",
       "      <th>gene_id</th>\n",
       "      <th>gene_name</th>\n",
       "      <th>...</th>\n",
       "      <th>EQUATION_more</th>\n",
       "      <th>ENZYME</th>\n",
       "    </tr>\n",
       "  </thead>\n",
       "  <tbody>\n",
       "    <tr>\n",
       "      <td class=\"rpy2_rowname\">0</td>\n",
       "        <td class=\"rpy2_names\">1</td>\n",
       "      <td>K00551</td>\n",
       "      <td>phosphatidylethanolamine/phosphatidyl-N-methylethanolamine N-methyltransferase [EC:2.1.1.17 2.1.1.71]</td>\n",
       "      <td>    CDS \n",
       "\"10400\" \n",
       "</td>\n",
       "      <td>[1] \"PEMT, PEAMT, PEMPT, PEMT2, PLMT, PNMT\"\n",
       "</td>\n",
       "       <td>...</td>\n",
       "      <td>[1] \"S-Adenosyl-L-methionine + Phosphatidylethanolamine <=> S-Adenosyl-L-homocysteine + Phosphatidyl-N-methylethanolamine\"\n",
       "</td>\n",
       "      <td>[1] \"2.1.1.17\"\n",
       "</td>\n",
       "    </tr>\n",
       "    <tr>\n",
       "      <td class=\"rpy2_rowname\">1</td>\n",
       "        <td class=\"rpy2_names\">2</td>\n",
       "      <td>K00551</td>\n",
       "      <td>phosphatidylethanolamine/phosphatidyl-N-methylethanolamine N-methyltransferase [EC:2.1.1.17 2.1.1.71]</td>\n",
       "      <td>    CDS \n",
       "\"10400\" \n",
       "</td>\n",
       "      <td>[1] \"PEMT, PEAMT, PEMPT, PEMT2, PLMT, PNMT\"\n",
       "</td>\n",
       "       <td>...</td>\n",
       "      <td>[1] \"S-Adenosyl-L-methionine + Phosphatidylethanolamine <=> S-Adenosyl-L-homocysteine + Phosphatidyl-N-methylethanolamine\"\n",
       "</td>\n",
       "      <td>[1] \"2.1.1.17\"\n",
       "</td>\n",
       "    </tr>\n",
       "    <tr>\n",
       "      <td class=\"rpy2_rowname\">2</td>\n",
       "        <td class=\"rpy2_names\">3</td>\n",
       "      <td>K00551</td>\n",
       "      <td>phosphatidylethanolamine/phosphatidyl-N-methylethanolamine N-methyltransferase [EC:2.1.1.17 2.1.1.71]</td>\n",
       "      <td>    CDS \n",
       "\"10400\" \n",
       "</td>\n",
       "      <td>[1] \"PEMT, PEAMT, PEMPT, PEMT2, PLMT, PNMT\"\n",
       "</td>\n",
       "       <td>...</td>\n",
       "      <td>[1] \"S-Adenosyl-L-methionine + Phosphatidylethanolamine <=> S-Adenosyl-L-homocysteine + Phosphatidyl-N-methylethanolamine\"\n",
       "</td>\n",
       "      <td>[1] \"2.1.1.17\"\n",
       "</td>\n",
       "    </tr>\n",
       "    <tr>\n",
       "      <td class=\"rpy2_rowname\">3</td>\n",
       "        <td class=\"rpy2_names\">4</td>\n",
       "      <td>K00551</td>\n",
       "      <td>phosphatidylethanolamine/phosphatidyl-N-methylethanolamine N-methyltransferase [EC:2.1.1.17 2.1.1.71]</td>\n",
       "      <td>    CDS \n",
       "\"10400\" \n",
       "</td>\n",
       "      <td>[1] \"PEMT, PEAMT, PEMPT, PEMT2, PLMT, PNMT\"\n",
       "</td>\n",
       "       <td>...</td>\n",
       "      <td>[1] \"S-Adenosyl-L-methionine + Phosphatidylethanolamine <=> S-Adenosyl-L-homocysteine + Phosphatidyl-N-methylethanolamine\"\n",
       "</td>\n",
       "      <td>[1] \"2.1.1.17\"\n",
       "</td>\n",
       "    </tr>\n",
       "    <tr>\n",
       "      <td class=\"rpy2_rowname\">4</td>\n",
       "        <td class=\"rpy2_names\">5</td>\n",
       "      <td>K00637</td>\n",
       "      <td>sterol O-acyltransferase [EC:2.3.1.26]</td>\n",
       "      <td>   CDS \n",
       "\"6646\" \n",
       "</td>\n",
       "      <td>[1] \"SOAT1, ACACT, ACAT, ACAT-1, ACAT1, SOAT, STAT\"\n",
       "</td>\n",
       "       <td>...</td>\n",
       "      <td>[1] \"Acyl-CoA + Cholesterol <=> CoA + Cholesterol ester\"\n",
       "</td>\n",
       "      <td>[1] \"2.3.1.26\"\n",
       "</td>\n",
       "    </tr>\n",
       "    <tr>\n",
       "      <td class=\"rpy2_rowname\">5</td>\n",
       "        <td class=\"rpy2_names\">6</td>\n",
       "      <td>K00637</td>\n",
       "      <td>sterol O-acyltransferase [EC:2.3.1.26]</td>\n",
       "      <td>   CDS \n",
       "\"8435\" \n",
       "</td>\n",
       "      <td>[1] \"SOAT2, ACACT2, ACAT2, ARGP2\"\n",
       "</td>\n",
       "       <td>...</td>\n",
       "      <td>[1] \"Acyl-CoA + Cholesterol <=> CoA + Cholesterol ester\"\n",
       "</td>\n",
       "      <td>[1] \"2.3.1.26\"\n",
       "</td>\n",
       "    </tr>\n",
       "  </tbody>\n",
       "</table>"
      ],
      "text/plain": [
       "<rpy2.robjects.vectors.DataFrame object at 0x7f8bd91c3bc0> [RTYPES.VECSXP]\n",
       "R classes: ('data.frame',)\n",
       "[StrSexpVe..., StrSexpVe..., ListSexpV..., ListSexpV..., ..., ListSexpV..., ListSexpV..., ListSexpV..., ListSexpV...]\n",
       "  orthology_id: <class 'rpy2.robjects.vectors.StrVector'>\n",
       "  <rpy2.robjects.vectors.StrVector object at 0x7f8bd91c3500> [RTYPES.STRSXP]\n",
       "R classes: ('character',)\n",
       "['K005..., 'K005..., 'K005..., 'K005..., 'K006..., 'K006...]\n",
       "  ORTHOLOGY: <class 'rpy2.robjects.vectors.StrVector'>\n",
       "  <rpy2.robjects.vectors.StrVector object at 0x7f8bd91c16c0> [RTYPES.STRSXP]\n",
       "R classes: ('character',)\n",
       "['phos..., 'phos..., 'phos..., 'phos..., 'ster..., 'ster...]\n",
       "<rpy2.robjects.vectors.DataFrame object at 0x7f8bd91c3bc0> [RTYPES.VECSXP]\n",
       "R classes: ('data.frame',)\n",
       "[StrSexpVe..., StrSexpVe..., ListSexpV..., ListSexpV..., ..., ListSexpV..., ListSexpV..., ListSexpV..., ListSexpV...]\n",
       "<rpy2.robjects.vectors.DataFrame object at 0x7f8bd91c3bc0> [RTYPES.VECSXP]\n",
       "R classes: ('data.frame',)\n",
       "[StrSexpVe..., StrSexpVe..., ListSexpV..., ListSexpV..., ..., ListSexpV..., ListSexpV..., ListSexpV..., ListSexpV...]\n",
       "...\n",
       "<rpy2.robjects.vectors.DataFrame object at 0x7f8bd91c3bc0> [RTYPES.VECSXP]\n",
       "R classes: ('data.frame',)\n",
       "[StrSexpVe..., StrSexpVe..., ListSexpV..., ListSexpV..., ..., ListSexpV..., ListSexpV..., ListSexpV..., ListSexpV...]\n",
       "<rpy2.robjects.vectors.DataFrame object at 0x7f8bd91c3bc0> [RTYPES.VECSXP]\n",
       "R classes: ('data.frame',)\n",
       "[StrSexpVe..., StrSexpVe..., ListSexpV..., ListSexpV..., ..., ListSexpV..., ListSexpV..., ListSexpV..., ListSexpV...]\n",
       "<rpy2.robjects.vectors.DataFrame object at 0x7f8bd91c3bc0> [RTYPES.VECSXP]\n",
       "R classes: ('data.frame',)\n",
       "[StrSexpVe..., StrSexpVe..., ListSexpV..., ListSexpV..., ..., ListSexpV..., ListSexpV..., ListSexpV..., ListSexpV...]\n",
       "<rpy2.robjects.vectors.DataFrame object at 0x7f8bd91c3bc0> [RTYPES.VECSXP]\n",
       "R classes: ('data.frame',)\n",
       "[StrSexpVe..., StrSexpVe..., ListSexpV..., ListSexpV..., ..., ListSexpV..., ListSexpV..., ListSexpV..., ListSexpV...]"
      ]
     },
     "execution_count": 30,
     "metadata": {},
     "output_type": "execute_result"
    }
   ],
   "source": [
    "robjects.r('''\n",
    "met_gene_info = enzyme_gene_info (metenrichment, studyOrg, metclassvar)\n",
    "head(met_gene_info)\n",
    "''')"
   ]
  },
  {
   "cell_type": "markdown",
   "id": "baking-madison",
   "metadata": {},
   "source": [
    "#### Get the information if metabolite is a reactant or substrate"
   ]
  },
  {
   "cell_type": "code",
   "execution_count": 31,
   "id": "uniform-substitute",
   "metadata": {
    "execution": {
     "iopub.execute_input": "2021-03-26T22:27:56.697012Z",
     "iopub.status.busy": "2021-03-26T22:27:56.692737Z",
     "iopub.status.idle": "2021-03-26T22:27:56.876396Z",
     "shell.execute_reply": "2021-03-26T22:27:56.877015Z"
    }
   },
   "outputs": [
    {
     "data": {
      "text/html": [
       "\n",
       "<emph>DataFrame</emph> with 6 rows and\n",
       "  19 columns:\n",
       "<table class=\"rpy2_table\">\n",
       "  <thead>\n",
       "    <tr class=\"rpy2_names\">\n",
       "      <th></th>\n",
       "      <th></th>\n",
       "      <th>orthology_id</th>\n",
       "      <th>ORTHOLOGY</th>\n",
       "      <th>gene_id</th>\n",
       "      <th>gene_name</th>\n",
       "      <th>...</th>\n",
       "      <th>ENZYME</th>\n",
       "      <th>reactant_product</th>\n",
       "    </tr>\n",
       "  </thead>\n",
       "  <tbody>\n",
       "    <tr>\n",
       "      <td class=\"rpy2_rowname\">0</td>\n",
       "        <td class=\"rpy2_names\">1</td>\n",
       "      <td>K00551</td>\n",
       "      <td>phosphatidylethanolamine/phosphatidyl-N-methylethanolamine N-methyltransferase [EC:2.1.1.17 2.1.1.71]</td>\n",
       "      <td>    CDS \n",
       "\"10400\" \n",
       "</td>\n",
       "      <td>[1] \"PEMT, PEAMT, PEMPT, PEMT2, PLMT, PNMT\"\n",
       "</td>\n",
       "       <td>...</td>\n",
       "      <td>[1] \"2.1.1.17\"\n",
       "</td>\n",
       "      <td>Substrate</td>\n",
       "    </tr>\n",
       "    <tr>\n",
       "      <td class=\"rpy2_rowname\">1</td>\n",
       "        <td class=\"rpy2_names\">2</td>\n",
       "      <td>K00551</td>\n",
       "      <td>phosphatidylethanolamine/phosphatidyl-N-methylethanolamine N-methyltransferase [EC:2.1.1.17 2.1.1.71]</td>\n",
       "      <td>    CDS \n",
       "\"10400\" \n",
       "</td>\n",
       "      <td>[1] \"PEMT, PEAMT, PEMPT, PEMT2, PLMT, PNMT\"\n",
       "</td>\n",
       "       <td>...</td>\n",
       "      <td>[1] \"2.1.1.17\"\n",
       "</td>\n",
       "      <td>Substrate</td>\n",
       "    </tr>\n",
       "    <tr>\n",
       "      <td class=\"rpy2_rowname\">2</td>\n",
       "        <td class=\"rpy2_names\">3</td>\n",
       "      <td>K00551</td>\n",
       "      <td>phosphatidylethanolamine/phosphatidyl-N-methylethanolamine N-methyltransferase [EC:2.1.1.17 2.1.1.71]</td>\n",
       "      <td>    CDS \n",
       "\"10400\" \n",
       "</td>\n",
       "      <td>[1] \"PEMT, PEAMT, PEMPT, PEMT2, PLMT, PNMT\"\n",
       "</td>\n",
       "       <td>...</td>\n",
       "      <td>[1] \"2.1.1.17\"\n",
       "</td>\n",
       "      <td>Substrate</td>\n",
       "    </tr>\n",
       "    <tr>\n",
       "      <td class=\"rpy2_rowname\">3</td>\n",
       "        <td class=\"rpy2_names\">4</td>\n",
       "      <td>K00551</td>\n",
       "      <td>phosphatidylethanolamine/phosphatidyl-N-methylethanolamine N-methyltransferase [EC:2.1.1.17 2.1.1.71]</td>\n",
       "      <td>    CDS \n",
       "\"10400\" \n",
       "</td>\n",
       "      <td>[1] \"PEMT, PEAMT, PEMPT, PEMT2, PLMT, PNMT\"\n",
       "</td>\n",
       "       <td>...</td>\n",
       "      <td>[1] \"2.1.1.17\"\n",
       "</td>\n",
       "      <td>Substrate</td>\n",
       "    </tr>\n",
       "    <tr>\n",
       "      <td class=\"rpy2_rowname\">4</td>\n",
       "        <td class=\"rpy2_names\">5</td>\n",
       "      <td>K00637</td>\n",
       "      <td>sterol O-acyltransferase [EC:2.3.1.26]</td>\n",
       "      <td>   CDS \n",
       "\"6646\" \n",
       "</td>\n",
       "      <td>[1] \"SOAT1, ACACT, ACAT, ACAT-1, ACAT1, SOAT, STAT\"\n",
       "</td>\n",
       "       <td>...</td>\n",
       "      <td>[1] \"2.3.1.26\"\n",
       "</td>\n",
       "      <td>Product</td>\n",
       "    </tr>\n",
       "    <tr>\n",
       "      <td class=\"rpy2_rowname\">5</td>\n",
       "        <td class=\"rpy2_names\">6</td>\n",
       "      <td>K00637</td>\n",
       "      <td>sterol O-acyltransferase [EC:2.3.1.26]</td>\n",
       "      <td>   CDS \n",
       "\"8435\" \n",
       "</td>\n",
       "      <td>[1] \"SOAT2, ACACT2, ACAT2, ARGP2\"\n",
       "</td>\n",
       "       <td>...</td>\n",
       "      <td>[1] \"2.3.1.26\"\n",
       "</td>\n",
       "      <td>Product</td>\n",
       "    </tr>\n",
       "  </tbody>\n",
       "</table>"
      ],
      "text/plain": [
       "<rpy2.robjects.vectors.DataFrame object at 0x7f8bd0e3eb80> [RTYPES.VECSXP]\n",
       "R classes: ('data.frame',)\n",
       "[StrSexpVe..., StrSexpVe..., ListSexpV..., ListSexpV..., ..., ListSexpV..., ListSexpV..., ListSexpV..., StrSexpVe...]\n",
       "  orthology_id: <class 'rpy2.robjects.vectors.StrVector'>\n",
       "  <rpy2.robjects.vectors.StrVector object at 0x7f8bd916f580> [RTYPES.STRSXP]\n",
       "R classes: ('character',)\n",
       "['K005..., 'K005..., 'K005..., 'K005..., 'K006..., 'K006...]\n",
       "  ORTHOLOGY: <class 'rpy2.robjects.vectors.StrVector'>\n",
       "  <rpy2.robjects.vectors.StrVector object at 0x7f8bd916ffc0> [RTYPES.STRSXP]\n",
       "R classes: ('character',)\n",
       "['phos..., 'phos..., 'phos..., 'phos..., 'ster..., 'ster...]\n",
       "<rpy2.robjects.vectors.DataFrame object at 0x7f8bd0e3eb80> [RTYPES.VECSXP]\n",
       "R classes: ('data.frame',)\n",
       "[StrSexpVe..., StrSexpVe..., ListSexpV..., ListSexpV..., ..., ListSexpV..., ListSexpV..., ListSexpV..., StrSexpVe...]\n",
       "<rpy2.robjects.vectors.DataFrame object at 0x7f8bd0e3eb80> [RTYPES.VECSXP]\n",
       "R classes: ('data.frame',)\n",
       "[StrSexpVe..., StrSexpVe..., ListSexpV..., ListSexpV..., ..., ListSexpV..., ListSexpV..., ListSexpV..., StrSexpVe...]\n",
       "...\n",
       "<rpy2.robjects.vectors.DataFrame object at 0x7f8bd0e3eb80> [RTYPES.VECSXP]\n",
       "R classes: ('data.frame',)\n",
       "[StrSexpVe..., StrSexpVe..., ListSexpV..., ListSexpV..., ..., ListSexpV..., ListSexpV..., ListSexpV..., StrSexpVe...]\n",
       "<rpy2.robjects.vectors.DataFrame object at 0x7f8bd0e3eb80> [RTYPES.VECSXP]\n",
       "R classes: ('data.frame',)\n",
       "[StrSexpVe..., StrSexpVe..., ListSexpV..., ListSexpV..., ..., ListSexpV..., ListSexpV..., ListSexpV..., StrSexpVe...]\n",
       "<rpy2.robjects.vectors.DataFrame object at 0x7f8bd0e3eb80> [RTYPES.VECSXP]\n",
       "R classes: ('data.frame',)\n",
       "[StrSexpVe..., StrSexpVe..., ListSexpV..., ListSexpV..., ..., ListSexpV..., ListSexpV..., ListSexpV..., StrSexpVe...]\n",
       "  MOTIF: <class 'rpy2.robjects.vectors.StrVector'>\n",
       "  <rpy2.robjects.vectors.StrVector object at 0x7f8bd9306ec0> [RTYPES.STRSXP]\n",
       "R classes: ('character',)\n",
       "['Subs..., 'Subs..., 'Subs..., 'Subs..., 'Prod..., 'Prod...]"
      ]
     },
     "execution_count": 31,
     "metadata": {},
     "output_type": "execute_result"
    }
   ],
   "source": [
    "robjects.r('''\n",
    "rclass_info = react_substrate(met_gene_info)\n",
    "head(rclass_info)\n",
    "''')"
   ]
  },
  {
   "cell_type": "markdown",
   "id": "nominated-cruise",
   "metadata": {},
   "source": [
    "#### Get gene info in short form"
   ]
  },
  {
   "cell_type": "code",
   "execution_count": 32,
   "id": "north-calcium",
   "metadata": {
    "execution": {
     "iopub.execute_input": "2021-03-26T22:27:56.890330Z",
     "iopub.status.busy": "2021-03-26T22:27:56.887004Z",
     "iopub.status.idle": "2021-03-26T22:27:57.412707Z",
     "shell.execute_reply": "2021-03-26T22:27:57.412054Z"
    }
   },
   "outputs": [
    {
     "data": {
      "text/html": [
       "\n",
       "<emph>DataFrame</emph> with 43 rows and\n",
       "  19 columns:\n",
       "<table class=\"rpy2_table\">\n",
       "  <thead>\n",
       "    <tr class=\"rpy2_names\">\n",
       "      <th></th>\n",
       "      <th></th>\n",
       "      <th>Metabolite</th>\n",
       "      <th>orthology_id</th>\n",
       "      <th>ORTHOLOGY</th>\n",
       "      <th>gene_id</th>\n",
       "      <th>...</th>\n",
       "      <th>ENZYME</th>\n",
       "      <th>reactant_product</th>\n",
       "    </tr>\n",
       "  </thead>\n",
       "  <tbody>\n",
       "    <tr>\n",
       "      <td class=\"rpy2_rowname\">0</td>\n",
       "        <td class=\"rpy2_names\">1</td>\n",
       "      <td>PE(38:6)</td>\n",
       "      <td>K00551, K00993, K01047, K01115, K01613, K05285, K05287, K05288, K05310, K08730, K13512, K13515, K13517, K13644, K14621, K16342, K16343, K16817, K16860</td>\n",
       "      <td>phosphatidylethanolamine/phosphatidyl-N-methylethanolamine N-methyltransferase [EC:2.1.1.17 2.1.1.71], ethanolaminephosphotransferase [EC:2.7.8.1], secretory phospholipase A2 [EC:3.1.1.4], phospholipase D1/2 [EC:3.1.4.4], phosphatidylserine decarboxylase [EC:4.1.1.65], GPI ethanolamine phosphate transferase 1 [EC:2.7.-.-], GPI ethanolamine phosphate transferase 2/3 subunit F, GPI ethanolamine phosphate transferase 3 subunit O [EC:2.7.-.-], ethanolamine phosphate transferase 2 subunit G [EC:2.7.-.-], phosphatidylserine synthase 2 [EC:2.7.8.29], lysophospholipid acyltransferase [EC:2.3.1.23 2.3.1.-], lysophospholipid acyltransferase 5 [EC:2.3.1.23 2.3.1.-], lysophospholipid acyltransferase 1/2 [EC:2.3.1.51 2.3.1.-], choline/ethanolamine phosphotransferase [EC:2.7.8.1 2.7.8.2], phospholipase B1, membrane-associated [EC:3.1.1.4 3.1.1.5], cytosolic phospholipase A2 [EC:3.1.1.4], calcium-independent phospholipase A2 [EC:3.1.1.4], HRAS-like suppressor 3 [EC:3.1.1.32 3.1.1.4], phospholipase D3/4 [EC:3.1.4.4]</td>\n",
       "      <td>10400, 85465, 26279, 30814, 391013, 50487, 5319, 5320, 5322, 64600, 81579, 8399, 84647, 5337, 5338, 23761, 23556, 5281, 84720, 54872, 81490, 254531, 10162, 129642, 154141, 10390, 151056, 100137049, 123745, 255189, 283748, 5321, 8605, 8681, 8398, 11145, 122618, 23646</td>\n",
       "       <td>...</td>\n",
       "      <td>2.1.1.17, 2.7.8.1, 3.1.1.4, 3.1.4.4, 4.1.1.65, 2.7.-.-, NULL, 2.7.8.29, 2.3.1.23, 3.1.1.32</td>\n",
       "      <td>Substrate, Product</td>\n",
       "    </tr>\n",
       "    <tr>\n",
       "      <td class=\"rpy2_rowname\">1</td>\n",
       "        <td class=\"rpy2_names\">2</td>\n",
       "      <td>PE(32:1)</td>\n",
       "      <td>K00551, K00993, K01047, K01115, K01613, K05285, K05287, K05288, K05310, K08730, K13512, K13515, K13517, K13644, K14621, K16342, K16343, K16817, K16860</td>\n",
       "      <td>phosphatidylethanolamine/phosphatidyl-N-methylethanolamine N-methyltransferase [EC:2.1.1.17 2.1.1.71], ethanolaminephosphotransferase [EC:2.7.8.1], secretory phospholipase A2 [EC:3.1.1.4], phospholipase D1/2 [EC:3.1.4.4], phosphatidylserine decarboxylase [EC:4.1.1.65], GPI ethanolamine phosphate transferase 1 [EC:2.7.-.-], GPI ethanolamine phosphate transferase 2/3 subunit F, GPI ethanolamine phosphate transferase 3 subunit O [EC:2.7.-.-], ethanolamine phosphate transferase 2 subunit G [EC:2.7.-.-], phosphatidylserine synthase 2 [EC:2.7.8.29], lysophospholipid acyltransferase [EC:2.3.1.23 2.3.1.-], lysophospholipid acyltransferase 5 [EC:2.3.1.23 2.3.1.-], lysophospholipid acyltransferase 1/2 [EC:2.3.1.51 2.3.1.-], choline/ethanolamine phosphotransferase [EC:2.7.8.1 2.7.8.2], phospholipase B1, membrane-associated [EC:3.1.1.4 3.1.1.5], cytosolic phospholipase A2 [EC:3.1.1.4], calcium-independent phospholipase A2 [EC:3.1.1.4], HRAS-like suppressor 3 [EC:3.1.1.32 3.1.1.4], phospholipase D3/4 [EC:3.1.4.4]</td>\n",
       "      <td>10400, 85465, 26279, 30814, 391013, 50487, 5319, 5320, 5322, 64600, 81579, 8399, 84647, 5337, 5338, 23761, 23556, 5281, 84720, 54872, 81490, 254531, 10162, 129642, 154141, 10390, 151056, 100137049, 123745, 255189, 283748, 5321, 8605, 8681, 8398, 11145, 122618, 23646</td>\n",
       "       <td>...</td>\n",
       "      <td>2.1.1.17, 2.7.8.1, 3.1.1.4, 3.1.4.4, 4.1.1.65, 2.7.-.-, NULL, 2.7.8.29, 2.3.1.23, 3.1.1.32</td>\n",
       "      <td>Substrate, Product</td>\n",
       "    </tr>\n",
       "    <tr>\n",
       "      <td class=\"rpy2_rowname\">2</td>\n",
       "        <td class=\"rpy2_names\">3</td>\n",
       "      <td>PE(40:6)</td>\n",
       "      <td>K00551, K00993, K01047, K01115, K01613, K05285, K05287, K05288, K05310, K08730, K13512, K13515, K13517, K13644, K14621, K16342, K16343, K16817, K16860</td>\n",
       "      <td>phosphatidylethanolamine/phosphatidyl-N-methylethanolamine N-methyltransferase [EC:2.1.1.17 2.1.1.71], ethanolaminephosphotransferase [EC:2.7.8.1], secretory phospholipase A2 [EC:3.1.1.4], phospholipase D1/2 [EC:3.1.4.4], phosphatidylserine decarboxylase [EC:4.1.1.65], GPI ethanolamine phosphate transferase 1 [EC:2.7.-.-], GPI ethanolamine phosphate transferase 2/3 subunit F, GPI ethanolamine phosphate transferase 3 subunit O [EC:2.7.-.-], ethanolamine phosphate transferase 2 subunit G [EC:2.7.-.-], phosphatidylserine synthase 2 [EC:2.7.8.29], lysophospholipid acyltransferase [EC:2.3.1.23 2.3.1.-], lysophospholipid acyltransferase 5 [EC:2.3.1.23 2.3.1.-], lysophospholipid acyltransferase 1/2 [EC:2.3.1.51 2.3.1.-], choline/ethanolamine phosphotransferase [EC:2.7.8.1 2.7.8.2], phospholipase B1, membrane-associated [EC:3.1.1.4 3.1.1.5], cytosolic phospholipase A2 [EC:3.1.1.4], calcium-independent phospholipase A2 [EC:3.1.1.4], HRAS-like suppressor 3 [EC:3.1.1.32 3.1.1.4], phospholipase D3/4 [EC:3.1.4.4]</td>\n",
       "      <td>10400, 85465, 26279, 30814, 391013, 50487, 5319, 5320, 5322, 64600, 81579, 8399, 84647, 5337, 5338, 23761, 23556, 5281, 84720, 54872, 81490, 254531, 10162, 129642, 154141, 10390, 151056, 100137049, 123745, 255189, 283748, 5321, 8605, 8681, 8398, 11145, 122618, 23646</td>\n",
       "       <td>...</td>\n",
       "      <td>2.1.1.17, 2.7.8.1, 3.1.1.4, 3.1.4.4, 4.1.1.65, 2.7.-.-, NULL, 2.7.8.29, 2.3.1.23, 3.1.1.32</td>\n",
       "      <td>Substrate, Product</td>\n",
       "    </tr>\n",
       "    <tr>\n",
       "      <td class=\"rpy2_rowname\">3</td>\n",
       "        <td class=\"rpy2_names\">4</td>\n",
       "      <td>PE(36:3)</td>\n",
       "      <td>K00551, K00993, K01047, K01115, K01613, K05285, K05287, K05288, K05310, K08730, K13512, K13515, K13517, K13644, K14621, K16342, K16343, K16817, K16860</td>\n",
       "      <td>phosphatidylethanolamine/phosphatidyl-N-methylethanolamine N-methyltransferase [EC:2.1.1.17 2.1.1.71], ethanolaminephosphotransferase [EC:2.7.8.1], secretory phospholipase A2 [EC:3.1.1.4], phospholipase D1/2 [EC:3.1.4.4], phosphatidylserine decarboxylase [EC:4.1.1.65], GPI ethanolamine phosphate transferase 1 [EC:2.7.-.-], GPI ethanolamine phosphate transferase 2/3 subunit F, GPI ethanolamine phosphate transferase 3 subunit O [EC:2.7.-.-], ethanolamine phosphate transferase 2 subunit G [EC:2.7.-.-], phosphatidylserine synthase 2 [EC:2.7.8.29], lysophospholipid acyltransferase [EC:2.3.1.23 2.3.1.-], lysophospholipid acyltransferase 5 [EC:2.3.1.23 2.3.1.-], lysophospholipid acyltransferase 1/2 [EC:2.3.1.51 2.3.1.-], choline/ethanolamine phosphotransferase [EC:2.7.8.1 2.7.8.2], phospholipase B1, membrane-associated [EC:3.1.1.4 3.1.1.5], cytosolic phospholipase A2 [EC:3.1.1.4], calcium-independent phospholipase A2 [EC:3.1.1.4], HRAS-like suppressor 3 [EC:3.1.1.32 3.1.1.4], phospholipase D3/4 [EC:3.1.4.4]</td>\n",
       "      <td>10400, 85465, 26279, 30814, 391013, 50487, 5319, 5320, 5322, 64600, 81579, 8399, 84647, 5337, 5338, 23761, 23556, 5281, 84720, 54872, 81490, 254531, 10162, 129642, 154141, 10390, 151056, 100137049, 123745, 255189, 283748, 5321, 8605, 8681, 8398, 11145, 122618, 23646</td>\n",
       "       <td>...</td>\n",
       "      <td>2.1.1.17, 2.7.8.1, 3.1.1.4, 3.1.4.4, 4.1.1.65, 2.7.-.-, NULL, 2.7.8.29, 2.3.1.23, 3.1.1.32</td>\n",
       "      <td>Substrate, Product</td>\n",
       "    </tr>\n",
       "    <tr>\n",
       "      <td class=\"rpy2_rowname\">4</td>\n",
       "        <td class=\"rpy2_names\">5</td>\n",
       "      <td>CE(22:6)</td>\n",
       "      <td>K00637, K01052, K12298</td>\n",
       "      <td>sterol O-acyltransferase [EC:2.3.1.26], lysosomal acid lipase/cholesteryl ester hydrolase [EC:3.1.1.13], bile salt-stimulated lipase [EC:3.1.1.3 3.1.1.13]</td>\n",
       "      <td>6646, 8435, 3988, 1056</td>\n",
       "       <td>...</td>\n",
       "      <td>2.3.1.26, 3.1.1.13</td>\n",
       "      <td>Product, Substrate</td>\n",
       "    </tr>\n",
       "    <tr>\n",
       "      <td class=\"rpy2_rowname\">5</td>\n",
       "        <td class=\"rpy2_names\">6</td>\n",
       "      <td>C18:1 Cer</td>\n",
       "      <td>K00720, K01080, K01201, K01202, K01441, K04628, K04710, K04712, K04714, K04715, K04716, K04717, K12348, K12349, K12350, K12351, K12352, K12353, K12354, K17108, K23727, K24621, K24622</td>\n",
       "      <td>ceramide glucosyltransferase [EC:2.4.1.80], phosphatidate phosphatase [EC:3.1.3.4], glucosylceramidase [EC:3.2.1.45], galactosylceramidase [EC:3.2.1.46], alkaline ceramidase [EC:3.5.1.23], ceramide galactosyltransferase [EC:2.4.1.47], sphingoid base N-stearoyltransferase [EC:2.3.1.299], sphingolipid 4-desaturase/C4-monooxygenase [EC:1.14.19.17 1.14.18.5], shingomyelin synthase [EC:2.7.8.27], ceramide kinase [EC:2.7.1.138], sphingosine-1-phosphate phosphatase 1 [EC:3.1.3.-], sphingosine-1-phosphate phosphotase 2 [EC:3.1.3.-], acid ceramidase [EC:3.5.1.23], neutral ceramidase [EC:3.5.1.23], sphingomyelin phosphodiesterase [EC:3.1.4.12], sphingomyelin phosphodiesterase 2 [EC:3.1.4.12], sphingomyelin phosphodiesterase 3 [EC:3.1.4.12], sphingomyelin phosphodiesterase 4 [EC:3.1.4.12], ectonucleotide pyrophosphatase/phosphodiesterase family member 7 [EC:3.1.4.12], non-lysosomal glucosylceramidase [EC:3.2.1.45], sphingoid base N-palmitoyltransferase [EC:2.3.1.291], very-long-chain ceramide synthase [EC:2.3.1.297], very-long-chain ceramide synthase / ultra-long-chain ceramide synthase [EC:2.3.1.297 2.3.1.298]</td>\n",
       "      <td>7357, 8611, 8612, 8613, 2629, 2581, 125981, 340485, 7368, 10715, 123099, 8560, 166929, 259230, 64781, 81537, 130367, 427, 56624, 6609, 6610, 55512, 55627, 339221, 57704, 253782, 91012, 29956, 79603, 204219</td>\n",
       "       <td>...</td>\n",
       "      <td>2.4.1.80, c(\"3.1.3.4\", \"3.1.3.-\"), c(\"3.2.1.45\", \"3.2.1.62\"), c(\"3.2.1.46\", \"3.2.1.62\"), 3.5.1.23, 2.4.1.47, c(\"2.3.1.24\", \"2.3.1.291\", \"2.3.1.297\", \"2.3.1.298\", \"2.3.1.299\"), 1.14.19.17, 2.7.8.27, 2.7.1.138, 3.1.4.12</td>\n",
       "      <td>Substrate, Product</td>\n",
       "    </tr>\n",
       "    <tr>\n",
       "      <td class=\"rpy2_rowname\">6</td>\n",
       "        <td class=\"rpy2_names\">7</td>\n",
       "      <td>C24 Cer</td>\n",
       "      <td>K00720, K01080, K01201, K01202, K01441, K04628, K04710, K04712, K04714, K04715, K04716, K04717, K12348, K12349, K12350, K12351, K12352, K12353, K12354, K17108, K23727, K24621, K24622</td>\n",
       "      <td>ceramide glucosyltransferase [EC:2.4.1.80], phosphatidate phosphatase [EC:3.1.3.4], glucosylceramidase [EC:3.2.1.45], galactosylceramidase [EC:3.2.1.46], alkaline ceramidase [EC:3.5.1.23], ceramide galactosyltransferase [EC:2.4.1.47], sphingoid base N-stearoyltransferase [EC:2.3.1.299], sphingolipid 4-desaturase/C4-monooxygenase [EC:1.14.19.17 1.14.18.5], shingomyelin synthase [EC:2.7.8.27], ceramide kinase [EC:2.7.1.138], sphingosine-1-phosphate phosphatase 1 [EC:3.1.3.-], sphingosine-1-phosphate phosphotase 2 [EC:3.1.3.-], acid ceramidase [EC:3.5.1.23], neutral ceramidase [EC:3.5.1.23], sphingomyelin phosphodiesterase [EC:3.1.4.12], sphingomyelin phosphodiesterase 2 [EC:3.1.4.12], sphingomyelin phosphodiesterase 3 [EC:3.1.4.12], sphingomyelin phosphodiesterase 4 [EC:3.1.4.12], ectonucleotide pyrophosphatase/phosphodiesterase family member 7 [EC:3.1.4.12], non-lysosomal glucosylceramidase [EC:3.2.1.45], sphingoid base N-palmitoyltransferase [EC:2.3.1.291], very-long-chain ceramide synthase [EC:2.3.1.297], very-long-chain ceramide synthase / ultra-long-chain ceramide synthase [EC:2.3.1.297 2.3.1.298]</td>\n",
       "      <td>7357, 8611, 8612, 8613, 2629, 2581, 125981, 340485, 7368, 10715, 123099, 8560, 166929, 259230, 64781, 81537, 130367, 427, 56624, 6609, 6610, 55512, 55627, 339221, 57704, 253782, 91012, 29956, 79603, 204219</td>\n",
       "       <td>...</td>\n",
       "      <td>2.4.1.80, c(\"3.1.3.4\", \"3.1.3.-\"), c(\"3.2.1.45\", \"3.2.1.62\"), c(\"3.2.1.46\", \"3.2.1.62\"), 3.5.1.23, 2.4.1.47, c(\"2.3.1.24\", \"2.3.1.291\", \"2.3.1.297\", \"2.3.1.298\", \"2.3.1.299\"), 1.14.19.17, 2.7.8.27, 2.7.1.138, 3.1.4.12</td>\n",
       "      <td>Substrate, Product</td>\n",
       "    </tr>\n",
       "    <tr>\n",
       "      <td class=\"rpy2_rowname\">7</td>\n",
       "        <td class=\"rpy2_names\">8</td>\n",
       "      <td>C22 HexCer</td>\n",
       "      <td>K00720, K01201, K07553, K12309, K17108</td>\n",
       "      <td>ceramide glucosyltransferase [EC:2.4.1.80], glucosylceramidase [EC:3.2.1.45], beta-1,4-galactosyltransferase 6 [EC:2.4.1.274], beta-galactosidase [EC:3.2.1.23], non-lysosomal glucosylceramidase [EC:3.2.1.45]</td>\n",
       "      <td>7357, 2629, 9331, 2720, 57704</td>\n",
       "       <td>...</td>\n",
       "      <td>2.4.1.80, c(\"3.2.1.45\", \"3.2.1.62\"), 2.4.1.274, 3.2.1.23</td>\n",
       "      <td>Product, Substrate</td>\n",
       "    </tr>\n",
       "    <tr>\n",
       "      <td class=\"rpy2_rowname\">...</td>\n",
       "        <td class=\"rpy2_names\">...</td>\n",
       "      <td>...</td>\n",
       "      <td>...</td>\n",
       "      <td>...</td>\n",
       "      <td>...</td>\n",
       "       <td>...</td>\n",
       "      <td>...</td>\n",
       "      <td>...</td>\n",
       "    </tr>\n",
       "    <tr>\n",
       "      <td class=\"rpy2_rowname\">41</td>\n",
       "        <td class=\"rpy2_names\">42</td>\n",
       "      <td>5,6-EET</td>\n",
       "      <td>K07418, K08726, K17709</td>\n",
       "      <td>cytochrome P450 family 2 subfamily J [EC:1.14.14.1 1.14.14.73 1.14.14.74 1.14.14.75], soluble epoxide hydrolase / lipid-phosphate phosphatase [EC:3.3.2.10 3.1.3.76], cytochrome P450 family 2 subfamily B6 [EC:1.14.14.-]</td>\n",
       "      <td>1573, 2053, 1555</td>\n",
       "       <td>...</td>\n",
       "      <td>c(\"1.14.14.1\", \"1.14.14.-\"), 3.3.2.10</td>\n",
       "      <td>Product, Substrate</td>\n",
       "    </tr>\n",
       "    <tr>\n",
       "      <td class=\"rpy2_rowname\">42</td>\n",
       "        <td class=\"rpy2_names\">43</td>\n",
       "      <td>Desmosterol</td>\n",
       "      <td>K09828</td>\n",
       "      <td>Delta24-sterol reductase [EC:1.3.1.72 1.3.1.-]</td>\n",
       "      <td>1718</td>\n",
       "       <td>...</td>\n",
       "      <td>1.3.1.72</td>\n",
       "      <td>Product</td>\n",
       "    </tr>\n",
       "  </tbody>\n",
       "</table>"
      ],
      "text/plain": [
       "<rpy2.robjects.vectors.DataFrame object at 0x7f8bd52e5fc0> [RTYPES.VECSXP]\n",
       "R classes: ('data.table', 'data.frame')\n",
       "[StrSexpVe..., StrSexpVe..., StrSexpVe..., StrSexpVe..., ..., StrSexpVe..., StrSexpVe..., StrSexpVe..., StrSexpVe...]\n",
       "  Metabolite: <class 'rpy2.robjects.vectors.StrVector'>\n",
       "  <rpy2.robjects.vectors.StrVector object at 0x7f8bd695ae80> [RTYPES.STRSXP]\n",
       "R classes: ('character',)\n",
       "['PE(38:6)', 'PE(32:1)', 'PE(40:6)', 'PE(36:3)', ..., '11,12-EET', '14,15-EET', '5,6-EET', 'Desmoste...]\n",
       "  orthology_id: <class 'rpy2.robjects.vectors.StrVector'>\n",
       "  <rpy2.robjects.vectors.StrVector object at 0x7f8bd9308a80> [RTYPES.STRSXP]\n",
       "R classes: ('character',)\n",
       "['K00551, ..., 'K00551, ..., 'K00551, ..., 'K00551, ..., ..., 'K07418, ..., 'K07418, ..., 'K07418, ..., 'K09828']\n",
       "  ORTHOLOGY: <class 'rpy2.robjects.vectors.StrVector'>\n",
       "  <rpy2.robjects.vectors.StrVector object at 0x7f8bd93085c0> [RTYPES.STRSXP]\n",
       "R classes: ('character',)\n",
       "['phosphat..., 'phosphat..., 'phosphat..., 'phosphat..., ..., 'cytochro..., 'cytochro..., 'cytochro..., 'Delta24-...]\n",
       "  gene_id: <class 'rpy2.robjects.vectors.StrVector'>\n",
       "  <rpy2.robjects.vectors.StrVector object at 0x7f8bd9308fc0> [RTYPES.STRSXP]\n",
       "R classes: ('character',)\n",
       "['10400, 8..., '10400, 8..., '10400, 8..., '10400, 8..., ..., '1573, 20..., '1573, 20..., '1573, 20..., '1718']\n",
       "...\n",
       "  DEFINITION: <class 'rpy2.robjects.vectors.StrVector'>\n",
       "  <rpy2.robjects.vectors.StrVector object at 0x7f8bd6821b80> [RTYPES.STRSXP]\n",
       "R classes: ('character',)\n",
       "['C00019 +..., 'C00019 +..., 'C00019 +..., 'C00019 +..., ..., 'C00219 +..., 'C00219 +..., 'C00219 +..., 'C00187 +...]\n",
       "  ORGANISM: <class 'rpy2.robjects.vectors.StrVector'>\n",
       "  <rpy2.robjects.vectors.StrVector object at 0x7f8bd930a580> [RTYPES.STRSXP]\n",
       "R classes: ('character',)\n",
       "['S-Adenos..., 'S-Adenos..., 'S-Adenos..., 'S-Adenos..., ..., 'Arachido..., 'Arachido..., 'Arachido..., 'Choleste...]\n",
       "  PATHWAY: <class 'rpy2.robjects.vectors.StrVector'>\n",
       "  <rpy2.robjects.vectors.StrVector object at 0x7f8bd930a640> [RTYPES.STRSXP]\n",
       "R classes: ('character',)\n",
       "['2.1.1.17..., '2.1.1.17..., '2.1.1.17..., '2.1.1.17..., ..., 'c(\"1.14...., 'c(\"1.14...., 'c(\"1.14...., '1.3.1.72']\n",
       "  DBLINKS: <class 'rpy2.robjects.vectors.StrVector'>\n",
       "  <rpy2.robjects.vectors.StrVector object at 0x7f8bd6982b40> [RTYPES.STRSXP]\n",
       "R classes: ('character',)\n",
       "['Substrat..., 'Substrat..., 'Substrat..., 'Substrat..., ..., 'Product,..., 'Product,..., 'Product,..., 'Product']"
      ]
     },
     "execution_count": 32,
     "metadata": {},
     "output_type": "execute_result"
    }
   ],
   "source": [
    "robjects.r('''\n",
    "met_gene_info2=data.table::data.table(rclass_info)[,lapply(.SD, function(x) toString(unique(x))), by = 'Metabolite']\n",
    "''')"
   ]
  },
  {
   "cell_type": "code",
   "execution_count": null,
   "id": "adverse-beatles",
   "metadata": {},
   "outputs": [],
   "source": []
  }
 ],
 "metadata": {
  "appyter": {
   "nbconstruct": {
    "filename": "vignettes/MetENP_Appyter_2.ipynb",
    "files": {},
    "version": "0.12.0"
   },
   "nbexecute": {
    "completed": "2021-03-26T15:27:59.459253+00:00",
    "files": {},
    "started": "2021-03-26T15:26:00.632716+00:00",
    "version": "0.12.0"
   }
  },
  "kernelspec": {
   "display_name": "my-first-appyter",
   "language": "python",
   "name": "my-first-appyter"
  },
  "language_info": {
   "codemirror_mode": {
    "name": "ipython",
    "version": 3
   },
   "file_extension": ".py",
   "mimetype": "text/x-python",
   "name": "python",
   "nbconvert_exporter": "python",
   "pygments_lexer": "ipython3",
   "version": "3.8.5"
  }
 },
 "nbformat": 4,
 "nbformat_minor": 5
}
