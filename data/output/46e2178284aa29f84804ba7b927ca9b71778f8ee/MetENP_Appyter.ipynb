{
 "cells": [
  {
   "cell_type": "code",
   "execution_count": 1,
   "id": "liquid-timber",
   "metadata": {
    "execution": {
     "iopub.execute_input": "2021-02-11T23:51:56.464988Z",
     "iopub.status.busy": "2021-02-11T23:51:56.462940Z",
     "iopub.status.idle": "2021-02-11T23:52:01.413127Z",
     "shell.execute_reply": "2021-02-11T23:52:01.413783Z"
    }
   },
   "outputs": [
    {
     "name": "stdout",
     "output_type": "stream",
     "text": [
      "3.4.2\n"
     ]
    },
    {
     "data": {
      "text/html": [
       "\n",
       "        <span>StrVector with 9 elements.</span>\n",
       "        <table>\n",
       "        <tbody>\n",
       "          <tr>\n",
       "          \n",
       "            <td>\n",
       "            'MetENP'\n",
       "            </td>\n",
       "          \n",
       "            <td>\n",
       "            'tools'\n",
       "            </td>\n",
       "          \n",
       "            <td>\n",
       "            'stats'\n",
       "            </td>\n",
       "          \n",
       "            <td>\n",
       "            ...\n",
       "            </td>\n",
       "          \n",
       "            <td>\n",
       "            'datasets'\n",
       "            </td>\n",
       "          \n",
       "            <td>\n",
       "            'methods'\n",
       "            </td>\n",
       "          \n",
       "            <td>\n",
       "            'base'\n",
       "            </td>\n",
       "          \n",
       "          </tr>\n",
       "        </tbody>\n",
       "        </table>\n",
       "        "
      ],
      "text/plain": [
       "<rpy2.robjects.vectors.StrVector object at 0x7f9590fcadc0> [RTYPES.STRSXP]\n",
       "R classes: ('character',)\n",
       "['MetENP', 'tools', 'stats', 'graphics', ..., 'utils', 'datasets', 'methods', 'base']"
      ]
     },
     "execution_count": 1,
     "metadata": {},
     "output_type": "execute_result"
    }
   ],
   "source": [
    "import rpy2\n",
    "print(rpy2.__version__)\n",
    "\n",
    "import rpy2.robjects as robjects\n",
    "\n",
    "import rpy2.robjects.packages as rpackages\n",
    "\n",
    "pi = robjects.r['pi']\n",
    "pi[0]\n",
    "\n",
    "robjects.r('''\n",
    "\n",
    "library(MetENP)''')"
   ]
  },
  {
   "cell_type": "code",
   "execution_count": 2,
   "id": "herbal-lying",
   "metadata": {
    "execution": {
     "iopub.execute_input": "2021-02-11T23:52:01.423486Z",
     "iopub.status.busy": "2021-02-11T23:52:01.420817Z",
     "iopub.status.idle": "2021-02-11T23:52:17.359951Z",
     "shell.execute_reply": "2021-02-11T23:52:17.360832Z"
    }
   },
   "outputs": [
    {
     "name": "stdout",
     "output_type": "stream",
     "text": [
      "<class 'rpy2.robjects.vectors.DataFrame'>\n",
      "\u001b[90m# A tibble: 542 x 93\u001b[39m\n",
      "   analysis_id analysis_summary metabolite_name metabolite_id refmet_name\n",
      "   \u001b[3m\u001b[90m<named lis>\u001b[39m\u001b[23m \u001b[3m\u001b[90m<named list>\u001b[39m\u001b[23m     \u001b[3m\u001b[90m<named list>\u001b[39m\u001b[23m    \u001b[3m\u001b[90m<named list>\u001b[39m\u001b[23m  \u001b[3m\u001b[90m<named lis>\u001b[39m\u001b[23m\n",
      "\u001b[90m 1\u001b[39m \u001b[90m<chr [1]>\u001b[39m   \u001b[90m<chr [1]>\u001b[39m        \u001b[90m<chr [1]>\u001b[39m       \u001b[90m<chr [1]>\u001b[39m     \u001b[90m<chr [1]>\u001b[39m  \n",
      "\u001b[90m 2\u001b[39m \u001b[90m<chr [1]>\u001b[39m   \u001b[90m<chr [1]>\u001b[39m        \u001b[90m<chr [1]>\u001b[39m       \u001b[90m<chr [1]>\u001b[39m     \u001b[90m<chr [1]>\u001b[39m  \n",
      "\u001b[90m 3\u001b[39m \u001b[90m<chr [1]>\u001b[39m   \u001b[90m<chr [1]>\u001b[39m        \u001b[90m<chr [1]>\u001b[39m       \u001b[90m<chr [1]>\u001b[39m     \u001b[90m<chr [1]>\u001b[39m  \n",
      "\u001b[90m 4\u001b[39m \u001b[90m<chr [1]>\u001b[39m   \u001b[90m<chr [1]>\u001b[39m        \u001b[90m<chr [1]>\u001b[39m       \u001b[90m<chr [1]>\u001b[39m     \u001b[90m<chr [1]>\u001b[39m  \n",
      "\u001b[90m 5\u001b[39m \u001b[90m<chr [1]>\u001b[39m   \u001b[90m<chr [1]>\u001b[39m        \u001b[90m<chr [1]>\u001b[39m       \u001b[90m<chr [1]>\u001b[39m     \u001b[90m<chr [1]>\u001b[39m  \n",
      "\u001b[90m 6\u001b[39m \u001b[90m<chr [1]>\u001b[39m   \u001b[90m<chr [1]>\u001b[39m        \u001b[90m<chr [1]>\u001b[39m       \u001b[90m<chr [1]>\u001b[39m     \u001b[90m<chr [1]>\u001b[39m  \n",
      "\u001b[90m 7\u001b[39m \u001b[90m<chr [1]>\u001b[39m   \u001b[90m<chr [1]>\u001b[39m        \u001b[90m<chr [1]>\u001b[39m       \u001b[90m<chr [1]>\u001b[39m     \u001b[90m<chr [1]>\u001b[39m  \n",
      "\u001b[90m 8\u001b[39m \u001b[90m<chr [1]>\u001b[39m   \u001b[90m<chr [1]>\u001b[39m        \u001b[90m<chr [1]>\u001b[39m       \u001b[90m<chr [1]>\u001b[39m     \u001b[90m<chr [1]>\u001b[39m  \n",
      "\u001b[90m 9\u001b[39m \u001b[90m<chr [1]>\u001b[39m   \u001b[90m<chr [1]>\u001b[39m        \u001b[90m<chr [1]>\u001b[39m       \u001b[90m<chr [1]>\u001b[39m     \u001b[90m<chr [1]>\u001b[39m  \n",
      "\u001b[90m10\u001b[39m \u001b[90m<chr [1]>\u001b[39m   \u001b[90m<chr [1]>\u001b[39m        \u001b[90m<chr [1]>\u001b[39m       \u001b[90m<chr [1]>\u001b[39m     \u001b[90m<chr [1]>\u001b[39m  \n",
      "\u001b[90m# … with 532 more rows, and 88 more variables: NASH001 \u001b[3m\u001b[90m<chr>\u001b[90m\u001b[23m, NASH002 \u001b[3m\u001b[90m<chr>\u001b[90m\u001b[23m,\u001b[39m\n",
      "\u001b[90m#   NASH003 \u001b[3m\u001b[90m<chr>\u001b[90m\u001b[23m, NASH004 \u001b[3m\u001b[90m<chr>\u001b[90m\u001b[23m, NASH005 \u001b[3m\u001b[90m<chr>\u001b[90m\u001b[23m, NASH006 \u001b[3m\u001b[90m<chr>\u001b[90m\u001b[23m, NASH007 \u001b[3m\u001b[90m<chr>\u001b[90m\u001b[23m,\u001b[39m\n",
      "\u001b[90m#   NASH009 \u001b[3m\u001b[90m<chr>\u001b[90m\u001b[23m, NASH010 \u001b[3m\u001b[90m<chr>\u001b[90m\u001b[23m, NASH012 \u001b[3m\u001b[90m<chr>\u001b[90m\u001b[23m, NASH013 \u001b[3m\u001b[90m<chr>\u001b[90m\u001b[23m, NASH014 \u001b[3m\u001b[90m<chr>\u001b[90m\u001b[23m,\u001b[39m\n",
      "\u001b[90m#   NASH015 \u001b[3m\u001b[90m<chr>\u001b[90m\u001b[23m, NASH016 \u001b[3m\u001b[90m<chr>\u001b[90m\u001b[23m, NASH017 \u001b[3m\u001b[90m<chr>\u001b[90m\u001b[23m, NASH018 \u001b[3m\u001b[90m<chr>\u001b[90m\u001b[23m, NASH057 \u001b[3m\u001b[90m<chr>\u001b[90m\u001b[23m,\u001b[39m\n",
      "\u001b[90m#   NASH071 \u001b[3m\u001b[90m<chr>\u001b[90m\u001b[23m, NASH072 \u001b[3m\u001b[90m<chr>\u001b[90m\u001b[23m, NASH073 \u001b[3m\u001b[90m<chr>\u001b[90m\u001b[23m, NASH075 \u001b[3m\u001b[90m<chr>\u001b[90m\u001b[23m, NASH076 \u001b[3m\u001b[90m<chr>\u001b[90m\u001b[23m,\u001b[39m\n",
      "\u001b[90m#   NASH077 \u001b[3m\u001b[90m<chr>\u001b[90m\u001b[23m, NASH078 \u001b[3m\u001b[90m<chr>\u001b[90m\u001b[23m, NASH079 \u001b[3m\u001b[90m<chr>\u001b[90m\u001b[23m, NASH080 \u001b[3m\u001b[90m<chr>\u001b[90m\u001b[23m, NASH081 \u001b[3m\u001b[90m<chr>\u001b[90m\u001b[23m,\u001b[39m\n",
      "\u001b[90m#   NASH082 \u001b[3m\u001b[90m<chr>\u001b[90m\u001b[23m, NASH083 \u001b[3m\u001b[90m<chr>\u001b[90m\u001b[23m, NASH084 \u001b[3m\u001b[90m<chr>\u001b[90m\u001b[23m, NASH085 \u001b[3m\u001b[90m<chr>\u001b[90m\u001b[23m, NASH086 \u001b[3m\u001b[90m<chr>\u001b[90m\u001b[23m,\u001b[39m\n",
      "\u001b[90m#   NASH087 \u001b[3m\u001b[90m<chr>\u001b[90m\u001b[23m, NASH088 \u001b[3m\u001b[90m<chr>\u001b[90m\u001b[23m, NASH089 \u001b[3m\u001b[90m<chr>\u001b[90m\u001b[23m, NASH090 \u001b[3m\u001b[90m<chr>\u001b[90m\u001b[23m, NASH091 \u001b[3m\u001b[90m<chr>\u001b[90m\u001b[23m,\u001b[39m\n",
      "\u001b[90m#   NASH011 \u001b[3m\u001b[90m<chr>\u001b[90m\u001b[23m, NASH019 \u001b[3m\u001b[90m<chr>\u001b[90m\u001b[23m, NASH020 \u001b[3m\u001b[90m<chr>\u001b[90m\u001b[23m, NASH021 \u001b[3m\u001b[90m<chr>\u001b[90m\u001b[23m, NASH022 \u001b[3m\u001b[90m<chr>\u001b[90m\u001b[23m,\u001b[39m\n",
      "\u001b[90m#   NASH023 \u001b[3m\u001b[90m<chr>\u001b[90m\u001b[23m, NASH024 \u001b[3m\u001b[90m<chr>\u001b[90m\u001b[23m, NASH026 \u001b[3m\u001b[90m<chr>\u001b[90m\u001b[23m, NASH027 \u001b[3m\u001b[90m<chr>\u001b[90m\u001b[23m, NASH028 \u001b[3m\u001b[90m<chr>\u001b[90m\u001b[23m,\u001b[39m\n",
      "\u001b[90m#   NASH029 \u001b[3m\u001b[90m<chr>\u001b[90m\u001b[23m, NASH030 \u001b[3m\u001b[90m<chr>\u001b[90m\u001b[23m, NASH031 \u001b[3m\u001b[90m<chr>\u001b[90m\u001b[23m, NASH032 \u001b[3m\u001b[90m<chr>\u001b[90m\u001b[23m, NASH033 \u001b[3m\u001b[90m<chr>\u001b[90m\u001b[23m,\u001b[39m\n",
      "\u001b[90m#   NASH034 \u001b[3m\u001b[90m<chr>\u001b[90m\u001b[23m, NASH035 \u001b[3m\u001b[90m<chr>\u001b[90m\u001b[23m, NASH036 \u001b[3m\u001b[90m<chr>\u001b[90m\u001b[23m, NASH037 \u001b[3m\u001b[90m<chr>\u001b[90m\u001b[23m, NASH038 \u001b[3m\u001b[90m<chr>\u001b[90m\u001b[23m,\u001b[39m\n",
      "\u001b[90m#   NASH039 \u001b[3m\u001b[90m<chr>\u001b[90m\u001b[23m, NASH040 \u001b[3m\u001b[90m<chr>\u001b[90m\u001b[23m, NASH041 \u001b[3m\u001b[90m<chr>\u001b[90m\u001b[23m, NASH042 \u001b[3m\u001b[90m<chr>\u001b[90m\u001b[23m, NASH043 \u001b[3m\u001b[90m<chr>\u001b[90m\u001b[23m,\u001b[39m\n",
      "\u001b[90m#   NASH044 \u001b[3m\u001b[90m<chr>\u001b[90m\u001b[23m, NASH045 \u001b[3m\u001b[90m<chr>\u001b[90m\u001b[23m, NASH046 \u001b[3m\u001b[90m<chr>\u001b[90m\u001b[23m, NASH047 \u001b[3m\u001b[90m<chr>\u001b[90m\u001b[23m, NASH048 \u001b[3m\u001b[90m<chr>\u001b[90m\u001b[23m,\u001b[39m\n",
      "\u001b[90m#   NASH049 \u001b[3m\u001b[90m<chr>\u001b[90m\u001b[23m, NASH050 \u001b[3m\u001b[90m<chr>\u001b[90m\u001b[23m, NASH051 \u001b[3m\u001b[90m<chr>\u001b[90m\u001b[23m, NASH052 \u001b[3m\u001b[90m<chr>\u001b[90m\u001b[23m, NASH053 \u001b[3m\u001b[90m<chr>\u001b[90m\u001b[23m,\u001b[39m\n",
      "\u001b[90m#   NASH054 \u001b[3m\u001b[90m<chr>\u001b[90m\u001b[23m, NASH055 \u001b[3m\u001b[90m<chr>\u001b[90m\u001b[23m, NASH056 \u001b[3m\u001b[90m<chr>\u001b[90m\u001b[23m, NASH058 \u001b[3m\u001b[90m<chr>\u001b[90m\u001b[23m, NASH059 \u001b[3m\u001b[90m<chr>\u001b[90m\u001b[23m,\u001b[39m\n",
      "\u001b[90m#   NASH060 \u001b[3m\u001b[90m<chr>\u001b[90m\u001b[23m, NASH061 \u001b[3m\u001b[90m<chr>\u001b[90m\u001b[23m, NASH062 \u001b[3m\u001b[90m<chr>\u001b[90m\u001b[23m, NASH064 \u001b[3m\u001b[90m<chr>\u001b[90m\u001b[23m, NASH065 \u001b[3m\u001b[90m<chr>\u001b[90m\u001b[23m,\u001b[39m\n",
      "\u001b[90m#   NASH066 \u001b[3m\u001b[90m<chr>\u001b[90m\u001b[23m, NASH067 \u001b[3m\u001b[90m<chr>\u001b[90m\u001b[23m, NASH068 \u001b[3m\u001b[90m<chr>\u001b[90m\u001b[23m, NASH069 \u001b[3m\u001b[90m<chr>\u001b[90m\u001b[23m, NASH070 \u001b[3m\u001b[90m<chr>\u001b[90m\u001b[23m,\u001b[39m\n",
      "\u001b[90m#   NASH074 \u001b[3m\u001b[90m<chr>\u001b[90m\u001b[23m\u001b[39m\n",
      "\n"
     ]
    }
   ],
   "source": [
    "data_1 = robjects.r['getmwstudies']('ST000915', \n",
    "    'data'\n",
    ")\n",
    "print(type(data_1))\n",
    "print(data_1)"
   ]
  },
  {
   "cell_type": "code",
   "execution_count": 3,
   "id": "collaborative-period",
   "metadata": {
    "execution": {
     "iopub.execute_input": "2021-02-11T23:52:17.370945Z",
     "iopub.status.busy": "2021-02-11T23:52:17.368441Z",
     "iopub.status.idle": "2021-02-11T23:52:17.444884Z",
     "shell.execute_reply": "2021-02-11T23:52:17.446093Z"
    }
   },
   "outputs": [
    {
     "name": "stdout",
     "output_type": "stream",
     "text": [
      "<class 'rpy2.robjects.vectors.DataFrame'>\n",
      "   study_id local_sample_id         subject_type             factors Diagnosis\n",
      "1  ST000915         NASH005 Human clinical study Diagnosis:Cirrhosis Cirrhosis\n",
      "2  ST000915         NASH007 Human clinical study Diagnosis:Cirrhosis Cirrhosis\n",
      "3  ST000915         NASH009 Human clinical study Diagnosis:Cirrhosis Cirrhosis\n",
      "4  ST000915         NASH013 Human clinical study Diagnosis:Cirrhosis Cirrhosis\n",
      "5  ST000915         NASH016 Human clinical study Diagnosis:Cirrhosis Cirrhosis\n",
      "6  ST000915         NASH022 Human clinical study Diagnosis:Cirrhosis Cirrhosis\n",
      "7  ST000915         NASH026 Human clinical study Diagnosis:Cirrhosis Cirrhosis\n",
      "8  ST000915         NASH027 Human clinical study Diagnosis:Cirrhosis Cirrhosis\n",
      "9  ST000915         NASH028 Human clinical study Diagnosis:Cirrhosis Cirrhosis\n",
      "10 ST000915         NASH029 Human clinical study Diagnosis:Cirrhosis Cirrhosis\n",
      "11 ST000915         NASH040 Human clinical study Diagnosis:Cirrhosis Cirrhosis\n",
      "12 ST000915         NASH047 Human clinical study Diagnosis:Cirrhosis Cirrhosis\n",
      "13 ST000915         NASH048 Human clinical study Diagnosis:Cirrhosis Cirrhosis\n",
      "14 ST000915         NASH049 Human clinical study Diagnosis:Cirrhosis Cirrhosis\n",
      "15 ST000915         NASH052 Human clinical study Diagnosis:Cirrhosis Cirrhosis\n",
      "16 ST000915         NASH055 Human clinical study Diagnosis:Cirrhosis Cirrhosis\n",
      "17 ST000915         NASH064 Human clinical study Diagnosis:Cirrhosis Cirrhosis\n",
      "18 ST000915         NASH065 Human clinical study Diagnosis:Cirrhosis Cirrhosis\n",
      "19 ST000915         NASH068 Human clinical study Diagnosis:Cirrhosis Cirrhosis\n",
      "20 ST000915         NASH069 Human clinical study Diagnosis:Cirrhosis Cirrhosis\n",
      "21 ST000915         NASH010 Human clinical study      Diagnosis:NASH      NASH\n",
      "22 ST000915         NASH012 Human clinical study      Diagnosis:NASH      NASH\n",
      "23 ST000915         NASH015 Human clinical study      Diagnosis:NASH      NASH\n",
      "24 ST000915         NASH018 Human clinical study      Diagnosis:NASH      NASH\n",
      "25 ST000915         NASH019 Human clinical study      Diagnosis:NASH      NASH\n",
      "26 ST000915         NASH021 Human clinical study      Diagnosis:NASH      NASH\n",
      "27 ST000915         NASH030 Human clinical study      Diagnosis:NASH      NASH\n",
      "28 ST000915         NASH031 Human clinical study      Diagnosis:NASH      NASH\n",
      "29 ST000915         NASH035 Human clinical study      Diagnosis:NASH      NASH\n",
      "30 ST000915         NASH037 Human clinical study      Diagnosis:NASH      NASH\n",
      "31 ST000915         NASH038 Human clinical study      Diagnosis:NASH      NASH\n",
      "32 ST000915         NASH039 Human clinical study      Diagnosis:NASH      NASH\n",
      "33 ST000915         NASH044 Human clinical study      Diagnosis:NASH      NASH\n",
      "34 ST000915         NASH057 Human clinical study      Diagnosis:NASH      NASH\n",
      "35 ST000915         NASH072 Human clinical study      Diagnosis:NASH      NASH\n",
      "36 ST000915         NASH074 Human clinical study      Diagnosis:NASH      NASH\n",
      "37 ST000915         NASH084 Human clinical study      Diagnosis:NASH      NASH\n",
      "38 ST000915         NASH087 Human clinical study      Diagnosis:NASH      NASH\n",
      "39 ST000915         NASH088 Human clinical study      Diagnosis:NASH      NASH\n",
      "40 ST000915         NASH090 Human clinical study      Diagnosis:NASH      NASH\n",
      "41 ST000915         NASH003 Human clinical study    Diagnosis:Normal    Normal\n",
      "42 ST000915         NASH004 Human clinical study    Diagnosis:Normal    Normal\n",
      "43 ST000915         NASH006 Human clinical study    Diagnosis:Normal    Normal\n",
      "44 ST000915         NASH011 Human clinical study    Diagnosis:Normal    Normal\n",
      "45 ST000915         NASH014 Human clinical study    Diagnosis:Normal    Normal\n",
      "46 ST000915         NASH017 Human clinical study    Diagnosis:Normal    Normal\n",
      "47 ST000915         NASH020 Human clinical study    Diagnosis:Normal    Normal\n",
      "48 ST000915         NASH024 Human clinical study    Diagnosis:Normal    Normal\n",
      "49 ST000915         NASH034 Human clinical study    Diagnosis:Normal    Normal\n",
      "50 ST000915         NASH036 Human clinical study    Diagnosis:Normal    Normal\n",
      "51 ST000915         NASH041 Human clinical study    Diagnosis:Normal    Normal\n",
      "52 ST000915         NASH042 Human clinical study    Diagnosis:Normal    Normal\n",
      "53 ST000915         NASH043 Human clinical study    Diagnosis:Normal    Normal\n",
      "54 ST000915         NASH045 Human clinical study    Diagnosis:Normal    Normal\n",
      "55 ST000915         NASH046 Human clinical study    Diagnosis:Normal    Normal\n",
      "56 ST000915         NASH050 Human clinical study    Diagnosis:Normal    Normal\n",
      "57 ST000915         NASH051 Human clinical study    Diagnosis:Normal    Normal\n",
      "58 ST000915         NASH053 Human clinical study    Diagnosis:Normal    Normal\n",
      "59 ST000915         NASH054 Human clinical study    Diagnosis:Normal    Normal\n",
      "60 ST000915         NASH060 Human clinical study    Diagnosis:Normal    Normal\n",
      "61 ST000915         NASH066 Human clinical study    Diagnosis:Normal    Normal\n",
      "62 ST000915         NASH067 Human clinical study    Diagnosis:Normal    Normal\n",
      "63 ST000915         NASH070 Human clinical study    Diagnosis:Normal    Normal\n",
      "64 ST000915         NASH077 Human clinical study    Diagnosis:Normal    Normal\n",
      "65 ST000915         NASH078 Human clinical study    Diagnosis:Normal    Normal\n",
      "66 ST000915         NASH080 Human clinical study    Diagnosis:Normal    Normal\n",
      "67 ST000915         NASH082 Human clinical study    Diagnosis:Normal    Normal\n",
      "68 ST000915         NASH085 Human clinical study    Diagnosis:Normal    Normal\n",
      "69 ST000915         NASH086 Human clinical study    Diagnosis:Normal    Normal\n",
      "70 ST000915         NASH089 Human clinical study    Diagnosis:Normal    Normal\n",
      "71 ST000915         NASH091 Human clinical study    Diagnosis:Normal    Normal\n",
      "72 ST000915         NASH001 Human clinical study Diagnosis:Steatosis Steatosis\n",
      "73 ST000915         NASH002 Human clinical study Diagnosis:Steatosis Steatosis\n",
      "74 ST000915         NASH023 Human clinical study Diagnosis:Steatosis Steatosis\n",
      "75 ST000915         NASH032 Human clinical study Diagnosis:Steatosis Steatosis\n",
      "76 ST000915         NASH033 Human clinical study Diagnosis:Steatosis Steatosis\n",
      "77 ST000915         NASH056 Human clinical study Diagnosis:Steatosis Steatosis\n",
      "78 ST000915         NASH058 Human clinical study Diagnosis:Steatosis Steatosis\n",
      "79 ST000915         NASH059 Human clinical study Diagnosis:Steatosis Steatosis\n",
      "80 ST000915         NASH061 Human clinical study Diagnosis:Steatosis Steatosis\n",
      "81 ST000915         NASH062 Human clinical study Diagnosis:Steatosis Steatosis\n",
      "82 ST000915         NASH071 Human clinical study Diagnosis:Steatosis Steatosis\n",
      "83 ST000915         NASH073 Human clinical study Diagnosis:Steatosis Steatosis\n",
      "84 ST000915         NASH075 Human clinical study Diagnosis:Steatosis Steatosis\n",
      "85 ST000915         NASH076 Human clinical study Diagnosis:Steatosis Steatosis\n",
      "86 ST000915         NASH079 Human clinical study Diagnosis:Steatosis Steatosis\n",
      "87 ST000915         NASH081 Human clinical study Diagnosis:Steatosis Steatosis\n",
      "88 ST000915         NASH083 Human clinical study Diagnosis:Steatosis Steatosis\n",
      "\n"
     ]
    }
   ],
   "source": [
    "data_2 = robjects.r['getmwstudies']('ST000915', \n",
    "    'factors'\n",
    ")\n",
    "print(type(data_2))\n",
    "print(data_2)"
   ]
  },
  {
   "cell_type": "code",
   "execution_count": 4,
   "id": "ready-mailing",
   "metadata": {
    "execution": {
     "iopub.execute_input": "2021-02-11T23:52:17.460475Z",
     "iopub.status.busy": "2021-02-11T23:52:17.452643Z",
     "iopub.status.idle": "2021-02-11T23:52:17.465862Z",
     "shell.execute_reply": "2021-02-11T23:52:17.462165Z"
    }
   },
   "outputs": [
    {
     "name": "stdout",
     "output_type": "stream",
     "text": [
      "hsa\n",
      "<class 'str'>\n"
     ]
    }
   ],
   "source": [
    "studyOrg = 'hsa'\n",
    "print(studyOrg)\n",
    "print(type(studyOrg))"
   ]
  },
  {
   "cell_type": "code",
   "execution_count": 5,
   "id": "protected-hungarian",
   "metadata": {
    "execution": {
     "iopub.execute_input": "2021-02-11T23:52:17.477129Z",
     "iopub.status.busy": "2021-02-11T23:52:17.474367Z",
     "iopub.status.idle": "2021-02-11T23:52:17.482258Z",
     "shell.execute_reply": "2021-02-11T23:52:17.478211Z"
    }
   },
   "outputs": [
    {
     "data": {
      "text/plain": [
       "['50percent']"
      ]
     },
     "execution_count": 5,
     "metadata": {},
     "output_type": "execute_result"
    }
   ],
   "source": [
    "normtype = ['50percent']\n",
    "normtype"
   ]
  },
  {
   "cell_type": "code",
   "execution_count": 6,
   "id": "regular-vulnerability",
   "metadata": {
    "execution": {
     "iopub.execute_input": "2021-02-11T23:52:17.493403Z",
     "iopub.status.busy": "2021-02-11T23:52:17.490747Z",
     "iopub.status.idle": "2021-02-11T23:52:17.498402Z",
     "shell.execute_reply": "2021-02-11T23:52:17.494555Z"
    }
   },
   "outputs": [
    {
     "data": {
      "text/plain": [
       "0.05"
      ]
     },
     "execution_count": 6,
     "metadata": {},
     "output_type": "execute_result"
    }
   ],
   "source": [
    "pthres = '0.05'\n",
    "pthres = float(pthres)\n",
    "pthres"
   ]
  },
  {
   "cell_type": "code",
   "execution_count": 7,
   "id": "automated-nigeria",
   "metadata": {
    "execution": {
     "iopub.execute_input": "2021-02-11T23:52:17.509777Z",
     "iopub.status.busy": "2021-02-11T23:52:17.507015Z",
     "iopub.status.idle": "2021-02-11T23:52:17.514935Z",
     "shell.execute_reply": "2021-02-11T23:52:17.510940Z"
    }
   },
   "outputs": [
    {
     "data": {
      "text/plain": [
       "0.5"
      ]
     },
     "execution_count": 7,
     "metadata": {},
     "output_type": "execute_result"
    }
   ],
   "source": [
    "thres_log2foldchange = '0.5'\n",
    "thres_log2foldchange = float(thres_log2foldchange)\n",
    "thres_log2foldchange"
   ]
  },
  {
   "cell_type": "code",
   "execution_count": null,
   "id": "closing-swift",
   "metadata": {},
   "outputs": [],
   "source": []
  },
  {
   "cell_type": "code",
   "execution_count": 9,
   "id": "informed-iraqi",
   "metadata": {
    "execution": {
     "iopub.execute_input": "2021-02-11T23:52:17.527002Z",
     "iopub.status.busy": "2021-02-11T23:52:17.524241Z",
     "iopub.status.idle": "2021-02-11T23:52:17.532874Z",
     "shell.execute_reply": "2021-02-11T23:52:17.528270Z"
    }
   },
   "outputs": [
    {
     "data": {
      "text/plain": [
       "0.5"
      ]
     },
     "execution_count": 8,
     "metadata": {},
     "output_type": "execute_result"
    }
   ],
   "source": [
    "thres_log2foldchange_countclass = '0.5'\n",
    "thres_log2foldchange_countclass = float(thres_log2foldchange_countclass)\n",
    "thres_log2foldchange_countclass"
   ]
  },
  {
   "cell_type": "code",
   "execution_count": null,
   "id": "imposed-ranking",
   "metadata": {},
   "outputs": [],
   "source": []
  },
  {
   "cell_type": "code",
   "execution_count": 11,
   "id": "hourly-public",
   "metadata": {
    "execution": {
     "iopub.execute_input": "2021-02-11T23:52:17.545074Z",
     "iopub.status.busy": "2021-02-11T23:52:17.542220Z",
     "iopub.status.idle": "2021-02-11T23:52:17.551337Z",
     "shell.execute_reply": "2021-02-11T23:52:17.546303Z"
    }
   },
   "outputs": [
    {
     "data": {
      "text/plain": [
       "3"
      ]
     },
     "execution_count": 9,
     "metadata": {},
     "output_type": "execute_result"
    }
   ],
   "source": [
    "sigmets = 3\n",
    "sigmets"
   ]
  },
  {
   "cell_type": "code",
   "execution_count": 12,
   "id": "civic-track",
   "metadata": {
    "execution": {
     "iopub.execute_input": "2021-02-11T23:52:17.563296Z",
     "iopub.status.busy": "2021-02-11T23:52:17.560387Z",
     "iopub.status.idle": "2021-02-11T23:52:17.569232Z",
     "shell.execute_reply": "2021-02-11T23:52:17.564856Z"
    }
   },
   "outputs": [
    {
     "data": {
      "text/plain": [
       "8"
      ]
     },
     "execution_count": 10,
     "metadata": {},
     "output_type": "execute_result"
    }
   ],
   "source": [
    "x_size_heat = 8\n",
    "x_size_heat"
   ]
  },
  {
   "cell_type": "code",
   "execution_count": 13,
   "id": "flying-journalist",
   "metadata": {
    "execution": {
     "iopub.execute_input": "2021-02-11T23:52:17.580208Z",
     "iopub.status.busy": "2021-02-11T23:52:17.577323Z",
     "iopub.status.idle": "2021-02-11T23:52:17.585903Z",
     "shell.execute_reply": "2021-02-11T23:52:17.582320Z"
    }
   },
   "outputs": [
    {
     "data": {
      "text/plain": [
       "6"
      ]
     },
     "execution_count": 11,
     "metadata": {},
     "output_type": "execute_result"
    }
   ],
   "source": [
    "y_size_heat = 6\n",
    "y_size_heat"
   ]
  },
  {
   "cell_type": "code",
   "execution_count": 14,
   "id": "referenced-portsmouth",
   "metadata": {
    "execution": {
     "iopub.execute_input": "2021-02-11T23:52:17.597079Z",
     "iopub.status.busy": "2021-02-11T23:52:17.594480Z",
     "iopub.status.idle": "2021-02-11T23:52:17.602395Z",
     "shell.execute_reply": "2021-02-11T23:52:17.599084Z"
    }
   },
   "outputs": [
    {
     "data": {
      "text/plain": [
       "8"
      ]
     },
     "execution_count": 12,
     "metadata": {},
     "output_type": "execute_result"
    }
   ],
   "source": [
    "x_size_dot = 8\n",
    "x_size_dot"
   ]
  },
  {
   "cell_type": "code",
   "execution_count": 15,
   "id": "young-windows",
   "metadata": {
    "execution": {
     "iopub.execute_input": "2021-02-11T23:52:17.613096Z",
     "iopub.status.busy": "2021-02-11T23:52:17.610375Z",
     "iopub.status.idle": "2021-02-11T23:52:17.617967Z",
     "shell.execute_reply": "2021-02-11T23:52:17.614171Z"
    }
   },
   "outputs": [
    {
     "data": {
      "text/plain": [
       "6"
      ]
     },
     "execution_count": 13,
     "metadata": {},
     "output_type": "execute_result"
    }
   ],
   "source": [
    "y_size_dot = 6\n",
    "y_size_dot"
   ]
  }
 ],
 "metadata": {
  "appyter": {
   "nbconstruct": {
    "filename": "vignettes/MetENP_Appyter.ipynb",
    "files": {},
    "version": "0.12.0"
   },
   "nbexecute": {
    "completed": "2021-02-11T15:52:18.136052+00:00",
    "files": {},
    "started": "2021-02-11T15:51:55.211059+00:00",
    "version": "0.12.0"
   }
  },
  "kernelspec": {
   "display_name": "my-first-appyter",
   "language": "python",
   "name": "my-first-appyter"
  },
  "language_info": {
   "codemirror_mode": {
    "name": "ipython",
    "version": 3
   },
   "file_extension": ".py",
   "mimetype": "text/x-python",
   "name": "python",
   "nbconvert_exporter": "python",
   "pygments_lexer": "ipython3",
   "version": "3.8.5"
  }
 },
 "nbformat": 4,
 "nbformat_minor": 5
}
