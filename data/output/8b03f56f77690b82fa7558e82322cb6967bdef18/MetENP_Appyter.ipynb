{
 "cells": [
  {
   "cell_type": "code",
   "execution_count": 1,
   "id": "liquid-timber",
   "metadata": {
    "execution": {
     "iopub.execute_input": "2021-02-08T01:43:46.469818Z",
     "iopub.status.busy": "2021-02-08T01:43:46.466024Z",
     "iopub.status.idle": "2021-02-08T01:43:46.937637Z",
     "shell.execute_reply": "2021-02-08T01:43:46.938442Z"
    }
   },
   "outputs": [
    {
     "name": "stdout",
     "output_type": "stream",
     "text": [
      "3.4.2\n"
     ]
    },
    {
     "data": {
      "text/plain": [
       "3.141592653589793"
      ]
     },
     "execution_count": 1,
     "metadata": {},
     "output_type": "execute_result"
    }
   ],
   "source": [
    "import rpy2\n",
    "print(rpy2.__version__)\n",
    "\n",
    "import rpy2.robjects as robjects\n",
    "\n",
    "import rpy2.robjects.packages as rpackages\n",
    "\n",
    "pi = robjects.r['pi']\n",
    "pi[0]\n",
    "\n"
   ]
  },
  {
   "cell_type": "code",
   "execution_count": 2,
   "id": "solar-somewhere",
   "metadata": {
    "execution": {
     "iopub.execute_input": "2021-02-08T01:43:46.950621Z",
     "iopub.status.busy": "2021-02-08T01:43:46.947965Z",
     "iopub.status.idle": "2021-02-08T01:43:46.957634Z",
     "shell.execute_reply": "2021-02-08T01:43:46.955155Z"
    }
   },
   "outputs": [
    {
     "data": {
      "text/plain": [
       "['factors']"
      ]
     },
     "execution_count": 2,
     "metadata": {},
     "output_type": "execute_result"
    }
   ],
   "source": [
    "typedata = ['factors']\n",
    "typedata"
   ]
  },
  {
   "cell_type": "code",
   "execution_count": 3,
   "id": "earlier-biography",
   "metadata": {
    "execution": {
     "iopub.execute_input": "2021-02-08T01:43:46.977485Z",
     "iopub.status.busy": "2021-02-08T01:43:46.972023Z",
     "iopub.status.idle": "2021-02-08T01:43:46.986363Z",
     "shell.execute_reply": "2021-02-08T01:43:46.987619Z"
    }
   },
   "outputs": [
    {
     "data": {
      "text/plain": [
       "'ST000915'"
      ]
     },
     "execution_count": 3,
     "metadata": {},
     "output_type": "execute_result"
    }
   ],
   "source": [
    "studyID = 'ST000915'\n",
    "studyID"
   ]
  },
  {
   "cell_type": "code",
   "execution_count": 4,
   "id": "radio-reliance",
   "metadata": {
    "execution": {
     "iopub.execute_input": "2021-02-08T01:43:47.005898Z",
     "iopub.status.busy": "2021-02-08T01:43:47.001753Z",
     "iopub.status.idle": "2021-02-08T01:43:47.022720Z",
     "shell.execute_reply": "2021-02-08T01:43:47.018987Z"
    }
   },
   "outputs": [
    {
     "data": {
      "text/plain": [
       "'hsa'"
      ]
     },
     "execution_count": 4,
     "metadata": {},
     "output_type": "execute_result"
    }
   ],
   "source": [
    "studyOrg = 'hsa'\n",
    "studyOrg"
   ]
  },
  {
   "cell_type": "code",
   "execution_count": 5,
   "id": "suburban-constitution",
   "metadata": {
    "execution": {
     "iopub.execute_input": "2021-02-08T01:43:47.044633Z",
     "iopub.status.busy": "2021-02-08T01:43:47.039248Z",
     "iopub.status.idle": "2021-02-08T01:43:47.055096Z",
     "shell.execute_reply": "2021-02-08T01:43:47.048256Z"
    }
   },
   "outputs": [
    {
     "data": {
      "text/plain": [
       "['sub_class']"
      ]
     },
     "execution_count": 5,
     "metadata": {},
     "output_type": "execute_result"
    }
   ],
   "source": [
    "countclass = ['sub_class']\n",
    "countclass"
   ]
  },
  {
   "cell_type": "code",
   "execution_count": 6,
   "id": "modified-antique",
   "metadata": {
    "execution": {
     "iopub.execute_input": "2021-02-08T01:43:47.076798Z",
     "iopub.status.busy": "2021-02-08T01:43:47.071589Z",
     "iopub.status.idle": "2021-02-08T01:44:07.447690Z",
     "shell.execute_reply": "2021-02-08T01:44:07.448635Z"
    }
   },
   "outputs": [
    {
     "data": {
      "text/html": [
       "\n",
       "        <span>R/rpy2 DataFrame (542 x 93)</span>\n",
       "        <table>\n",
       "          <thead>\n",
       "            <tr>\n",
       "              \n",
       "              <th>analysis_id</th>\n",
       "              \n",
       "              <th>analysis_summary</th>\n",
       "              \n",
       "              <th>metabolite_name</th>\n",
       "              \n",
       "              <th>...</th>\n",
       "              \n",
       "              <th>NASH069</th>\n",
       "              \n",
       "              <th>NASH070</th>\n",
       "              \n",
       "              <th>NASH074</th>\n",
       "              \n",
       "            </tr>\n",
       "          </thead>\n",
       "          <tbody>\n",
       "          \n",
       "          <tr>\n",
       "            \n",
       "            <td>\n",
       "              StrSexpVe...\n",
       "            </td>\n",
       "            \n",
       "            <td>\n",
       "              StrSexpVe...\n",
       "            </td>\n",
       "            \n",
       "            <td>\n",
       "              StrSexpVe...\n",
       "            </td>\n",
       "            \n",
       "            <td>\n",
       "              ...\n",
       "            </td>\n",
       "            \n",
       "            <td>\n",
       "              NA_character_\n",
       "            </td>\n",
       "            \n",
       "            <td>\n",
       "              NA_character_\n",
       "            </td>\n",
       "            \n",
       "            <td>\n",
       "              NA_character_\n",
       "            </td>\n",
       "            \n",
       "          </tr>\n",
       "          \n",
       "          <tr>\n",
       "            \n",
       "            <td>\n",
       "              StrSexpVe...\n",
       "            </td>\n",
       "            \n",
       "            <td>\n",
       "              StrSexpVe...\n",
       "            </td>\n",
       "            \n",
       "            <td>\n",
       "              StrSexpVe...\n",
       "            </td>\n",
       "            \n",
       "            <td>\n",
       "              \n",
       "            </td>\n",
       "            \n",
       "            <td>\n",
       "              '0.25932'\n",
       "            </td>\n",
       "            \n",
       "            <td>\n",
       "              '0.03551'\n",
       "            </td>\n",
       "            \n",
       "            <td>\n",
       "              '0.05935'\n",
       "            </td>\n",
       "            \n",
       "          </tr>\n",
       "          \n",
       "          <tr>\n",
       "            \n",
       "            <td>\n",
       "              StrSexpVe...\n",
       "            </td>\n",
       "            \n",
       "            <td>\n",
       "              StrSexpVe...\n",
       "            </td>\n",
       "            \n",
       "            <td>\n",
       "              StrSexpVe...\n",
       "            </td>\n",
       "            \n",
       "            <td>\n",
       "              \n",
       "            </td>\n",
       "            \n",
       "            <td>\n",
       "              '0.05115'\n",
       "            </td>\n",
       "            \n",
       "            <td>\n",
       "              '0.08985'\n",
       "            </td>\n",
       "            \n",
       "            <td>\n",
       "              '0.10916'\n",
       "            </td>\n",
       "            \n",
       "          </tr>\n",
       "          \n",
       "          <tr>\n",
       "            \n",
       "            <td>\n",
       "              StrSexpVe...\n",
       "            </td>\n",
       "            \n",
       "            <td>\n",
       "              StrSexpVe...\n",
       "            </td>\n",
       "            \n",
       "            <td>\n",
       "              StrSexpVe...\n",
       "            </td>\n",
       "            \n",
       "            <td>\n",
       "              \n",
       "            </td>\n",
       "            \n",
       "            <td>\n",
       "              '0.00445'\n",
       "            </td>\n",
       "            \n",
       "            <td>\n",
       "              NA_character_\n",
       "            </td>\n",
       "            \n",
       "            <td>\n",
       "              NA_character_\n",
       "            </td>\n",
       "            \n",
       "          </tr>\n",
       "          \n",
       "          <tr>\n",
       "            \n",
       "            <td>\n",
       "              ...\n",
       "            </td>\n",
       "            \n",
       "            <td>\n",
       "              ...\n",
       "            </td>\n",
       "            \n",
       "            <td>\n",
       "              ...\n",
       "            </td>\n",
       "            \n",
       "            <td>\n",
       "              \n",
       "            </td>\n",
       "            \n",
       "            <td>\n",
       "              ...\n",
       "            </td>\n",
       "            \n",
       "            <td>\n",
       "              ...\n",
       "            </td>\n",
       "            \n",
       "            <td>\n",
       "              ...\n",
       "            </td>\n",
       "            \n",
       "          </tr>\n",
       "          \n",
       "          <tr>\n",
       "            \n",
       "            <td>\n",
       "              StrSexpVe...\n",
       "            </td>\n",
       "            \n",
       "            <td>\n",
       "              StrSexpVe...\n",
       "            </td>\n",
       "            \n",
       "            <td>\n",
       "              StrSexpVe...\n",
       "            </td>\n",
       "            \n",
       "            <td>\n",
       "              \n",
       "            </td>\n",
       "            \n",
       "            <td>\n",
       "              '85.254476'\n",
       "            </td>\n",
       "            \n",
       "            <td>\n",
       "              '83.414173'\n",
       "            </td>\n",
       "            \n",
       "            <td>\n",
       "              '37.999826'\n",
       "            </td>\n",
       "            \n",
       "          </tr>\n",
       "          \n",
       "          <tr>\n",
       "            \n",
       "            <td>\n",
       "              StrSexpVe...\n",
       "            </td>\n",
       "            \n",
       "            <td>\n",
       "              StrSexpVe...\n",
       "            </td>\n",
       "            \n",
       "            <td>\n",
       "              StrSexpVe...\n",
       "            </td>\n",
       "            \n",
       "            <td>\n",
       "              \n",
       "            </td>\n",
       "            \n",
       "            <td>\n",
       "              '67.292805'\n",
       "            </td>\n",
       "            \n",
       "            <td>\n",
       "              '42.619221'\n",
       "            </td>\n",
       "            \n",
       "            <td>\n",
       "              '45.228472'\n",
       "            </td>\n",
       "            \n",
       "          </tr>\n",
       "          \n",
       "          <tr>\n",
       "            \n",
       "            <td>\n",
       "              StrSexpVe...\n",
       "            </td>\n",
       "            \n",
       "            <td>\n",
       "              StrSexpVe...\n",
       "            </td>\n",
       "            \n",
       "            <td>\n",
       "              StrSexpVe...\n",
       "            </td>\n",
       "            \n",
       "            <td>\n",
       "              \n",
       "            </td>\n",
       "            \n",
       "            <td>\n",
       "              '167.0412...\n",
       "            </td>\n",
       "            \n",
       "            <td>\n",
       "              '122.5797...\n",
       "            </td>\n",
       "            \n",
       "            <td>\n",
       "              '112.1220...\n",
       "            </td>\n",
       "            \n",
       "          </tr>\n",
       "          \n",
       "          <tr>\n",
       "            \n",
       "            <td>\n",
       "              StrSexpVe...\n",
       "            </td>\n",
       "            \n",
       "            <td>\n",
       "              StrSexpVe...\n",
       "            </td>\n",
       "            \n",
       "            <td>\n",
       "              StrSexpVe...\n",
       "            </td>\n",
       "            \n",
       "            <td>\n",
       "              \n",
       "            </td>\n",
       "            \n",
       "            <td>\n",
       "              '362.7180...\n",
       "            </td>\n",
       "            \n",
       "            <td>\n",
       "              '364.4929...\n",
       "            </td>\n",
       "            \n",
       "            <td>\n",
       "              '178.4318...\n",
       "            </td>\n",
       "            \n",
       "          </tr>\n",
       "          \n",
       "          </tbody>\n",
       "        </table>\n",
       "    "
      ],
      "text/plain": [
       "<rpy2.robjects.vectors.DataFrame object at 0x7fba636dca80> [RTYPES.VECSXP]\n",
       "R classes: ('tbl_df', 'tbl', 'data.frame')\n",
       "[ListSexpV..., ListSexpV..., ListSexpV..., ListSexpV..., ..., StrSexpVe..., StrSexpVe..., StrSexpVe..., StrSexpVe...]\n",
       "<rpy2.robjects.vectors.DataFrame object at 0x7fba636dca80> [RTYPES.VECSXP]\n",
       "R classes: ('tbl_df', 'tbl', 'data.frame')\n",
       "[ListSexpV..., ListSexpV..., ListSexpV..., ListSexpV..., ..., StrSexpVe..., StrSexpVe..., StrSexpVe..., StrSexpVe...]\n",
       "<rpy2.robjects.vectors.DataFrame object at 0x7fba636dca80> [RTYPES.VECSXP]\n",
       "R classes: ('tbl_df', 'tbl', 'data.frame')\n",
       "[ListSexpV..., ListSexpV..., ListSexpV..., ListSexpV..., ..., StrSexpVe..., StrSexpVe..., StrSexpVe..., StrSexpVe...]\n",
       "<rpy2.robjects.vectors.DataFrame object at 0x7fba636dca80> [RTYPES.VECSXP]\n",
       "R classes: ('tbl_df', 'tbl', 'data.frame')\n",
       "[ListSexpV..., ListSexpV..., ListSexpV..., ListSexpV..., ..., StrSexpVe..., StrSexpVe..., StrSexpVe..., StrSexpVe...]\n",
       "<rpy2.robjects.vectors.DataFrame object at 0x7fba636dca80> [RTYPES.VECSXP]\n",
       "R classes: ('tbl_df', 'tbl', 'data.frame')\n",
       "[ListSexpV..., ListSexpV..., ListSexpV..., ListSexpV..., ..., StrSexpVe..., StrSexpVe..., StrSexpVe..., StrSexpVe...]\n",
       "...\n",
       "  NASH001: <class 'rpy2.robjects.vectors.StrVector'>\n",
       "  <rpy2.robjects.vectors.StrVector object at 0x7fba661b2440> [RTYPES.STRSXP]\n",
       "R classes: ('character',)\n",
       "[NA_character_, '0.24789', '0.10468', NA_character_, ..., '79.477752', '66.112029', '121.7323..., '215.3993...]\n",
       "  NASH002: <class 'rpy2.robjects.vectors.StrVector'>\n",
       "  <rpy2.robjects.vectors.StrVector object at 0x7fba661b2340> [RTYPES.STRSXP]\n",
       "R classes: ('character',)\n",
       "[NA_character_, '0.25932', '0.05115', '0.00445', ..., '85.254476', '67.292805', '167.0412..., '362.7180...]\n",
       "  NASH003: <class 'rpy2.robjects.vectors.StrVector'>\n",
       "  <rpy2.robjects.vectors.StrVector object at 0x7fba6371aec0> [RTYPES.STRSXP]\n",
       "R classes: ('character',)\n",
       "[NA_character_, '0.03551', '0.08985', NA_character_, ..., '83.414173', '42.619221', '122.5797..., '364.4929...]\n",
       "  NASH004: <class 'rpy2.robjects.vectors.StrVector'>\n",
       "  <rpy2.robjects.vectors.StrVector object at 0x7fba66164dc0> [RTYPES.STRSXP]\n",
       "R classes: ('character',)\n",
       "[NA_character_, '0.05935', '0.10916', NA_character_, ..., '37.999826', '45.228472', '112.1220..., '178.4318...]"
      ]
     },
     "execution_count": 6,
     "metadata": {},
     "output_type": "execute_result"
    }
   ],
   "source": [
    "typedata = ['data']\n",
    "studyOrg = \"hsa\"\n",
    "studyID = \"ST000915\"\n",
    "\n",
    "robjects.r('''\n",
    "\n",
    "library(MetENP)\n",
    "\n",
    "data = getmwstudies('ST000915', 'data')\n",
    "\n",
    "\n",
    "''')"
   ]
  },
  {
   "cell_type": "code",
   "execution_count": 7,
   "id": "acoustic-jumping",
   "metadata": {
    "execution": {
     "iopub.execute_input": "2021-02-08T01:44:07.459678Z",
     "iopub.status.busy": "2021-02-08T01:44:07.456705Z",
     "iopub.status.idle": "2021-02-08T01:44:07.465981Z",
     "shell.execute_reply": "2021-02-08T01:44:07.461531Z"
    }
   },
   "outputs": [
    {
     "data": {
      "text/plain": [
       "['50percent']"
      ]
     },
     "execution_count": 7,
     "metadata": {},
     "output_type": "execute_result"
    }
   ],
   "source": [
    "normtype = ['50percent']\n",
    "normtype"
   ]
  },
  {
   "cell_type": "code",
   "execution_count": 8,
   "id": "immediate-spread",
   "metadata": {
    "execution": {
     "iopub.execute_input": "2021-02-08T01:44:07.479254Z",
     "iopub.status.busy": "2021-02-08T01:44:07.476077Z",
     "iopub.status.idle": "2021-02-08T01:44:07.485168Z",
     "shell.execute_reply": "2021-02-08T01:44:07.480593Z"
    }
   },
   "outputs": [
    {
     "data": {
      "text/plain": [
       "0.05"
      ]
     },
     "execution_count": 8,
     "metadata": {},
     "output_type": "execute_result"
    }
   ],
   "source": [
    "pthres = '0.05'\n",
    "pthres = float(pthres)\n",
    "pthres"
   ]
  },
  {
   "cell_type": "code",
   "execution_count": 9,
   "id": "furnished-presentation",
   "metadata": {
    "execution": {
     "iopub.execute_input": "2021-02-08T01:44:07.496600Z",
     "iopub.status.busy": "2021-02-08T01:44:07.493804Z",
     "iopub.status.idle": "2021-02-08T01:44:07.502507Z",
     "shell.execute_reply": "2021-02-08T01:44:07.500382Z"
    }
   },
   "outputs": [
    {
     "data": {
      "text/plain": [
       "0.5"
      ]
     },
     "execution_count": 9,
     "metadata": {},
     "output_type": "execute_result"
    }
   ],
   "source": [
    "thres_log2foldchange = '0.5'\n",
    "thres_log2foldchange = float(thres_log2foldchange)\n",
    "thres_log2foldchange"
   ]
  },
  {
   "cell_type": "code",
   "execution_count": null,
   "id": "closing-swift",
   "metadata": {},
   "outputs": [],
   "source": []
  },
  {
   "cell_type": "code",
   "execution_count": 11,
   "id": "choice-spouse",
   "metadata": {
    "execution": {
     "iopub.execute_input": "2021-02-08T01:44:07.515673Z",
     "iopub.status.busy": "2021-02-08T01:44:07.513031Z",
     "iopub.status.idle": "2021-02-08T01:44:07.523662Z",
     "shell.execute_reply": "2021-02-08T01:44:07.516989Z"
    }
   },
   "outputs": [
    {
     "data": {
      "text/plain": [
       "0.5"
      ]
     },
     "execution_count": 10,
     "metadata": {},
     "output_type": "execute_result"
    }
   ],
   "source": [
    "thres_log2foldchange_countclass = '0.5'\n",
    "thres_log2foldchange_countclass = float(thres_log2foldchange_countclass)\n",
    "thres_log2foldchange_countclass"
   ]
  },
  {
   "cell_type": "code",
   "execution_count": null,
   "id": "imposed-ranking",
   "metadata": {},
   "outputs": [],
   "source": []
  },
  {
   "cell_type": "code",
   "execution_count": 13,
   "id": "reasonable-beatles",
   "metadata": {
    "execution": {
     "iopub.execute_input": "2021-02-08T01:44:07.537849Z",
     "iopub.status.busy": "2021-02-08T01:44:07.534967Z",
     "iopub.status.idle": "2021-02-08T01:44:07.544793Z",
     "shell.execute_reply": "2021-02-08T01:44:07.539231Z"
    }
   },
   "outputs": [
    {
     "data": {
      "text/plain": [
       "3"
      ]
     },
     "execution_count": 11,
     "metadata": {},
     "output_type": "execute_result"
    }
   ],
   "source": [
    "sigmets = 3\n",
    "sigmets"
   ]
  },
  {
   "cell_type": "code",
   "execution_count": 14,
   "id": "sunset-valve",
   "metadata": {
    "execution": {
     "iopub.execute_input": "2021-02-08T01:44:07.561314Z",
     "iopub.status.busy": "2021-02-08T01:44:07.557684Z",
     "iopub.status.idle": "2021-02-08T01:44:07.568177Z",
     "shell.execute_reply": "2021-02-08T01:44:07.562783Z"
    }
   },
   "outputs": [
    {
     "data": {
      "text/plain": [
       "8"
      ]
     },
     "execution_count": 12,
     "metadata": {},
     "output_type": "execute_result"
    }
   ],
   "source": [
    "x_size_heat = 8\n",
    "x_size_heat"
   ]
  },
  {
   "cell_type": "code",
   "execution_count": 15,
   "id": "mobile-oriental",
   "metadata": {
    "execution": {
     "iopub.execute_input": "2021-02-08T01:44:07.583426Z",
     "iopub.status.busy": "2021-02-08T01:44:07.579591Z",
     "iopub.status.idle": "2021-02-08T01:44:07.590358Z",
     "shell.execute_reply": "2021-02-08T01:44:07.584690Z"
    }
   },
   "outputs": [
    {
     "data": {
      "text/plain": [
       "6"
      ]
     },
     "execution_count": 13,
     "metadata": {},
     "output_type": "execute_result"
    }
   ],
   "source": [
    "y_size_heat = 6\n",
    "y_size_heat"
   ]
  },
  {
   "cell_type": "code",
   "execution_count": 16,
   "id": "bridal-title",
   "metadata": {
    "execution": {
     "iopub.execute_input": "2021-02-08T01:44:07.606762Z",
     "iopub.status.busy": "2021-02-08T01:44:07.603058Z",
     "iopub.status.idle": "2021-02-08T01:44:07.614000Z",
     "shell.execute_reply": "2021-02-08T01:44:07.609261Z"
    }
   },
   "outputs": [
    {
     "data": {
      "text/plain": [
       "8"
      ]
     },
     "execution_count": 14,
     "metadata": {},
     "output_type": "execute_result"
    }
   ],
   "source": [
    "x_size_dot = 8\n",
    "x_size_dot"
   ]
  },
  {
   "cell_type": "code",
   "execution_count": 17,
   "id": "charged-stand",
   "metadata": {
    "execution": {
     "iopub.execute_input": "2021-02-08T01:44:07.627942Z",
     "iopub.status.busy": "2021-02-08T01:44:07.624574Z",
     "iopub.status.idle": "2021-02-08T01:44:07.634694Z",
     "shell.execute_reply": "2021-02-08T01:44:07.629239Z"
    }
   },
   "outputs": [
    {
     "data": {
      "text/plain": [
       "6"
      ]
     },
     "execution_count": 15,
     "metadata": {},
     "output_type": "execute_result"
    }
   ],
   "source": [
    "y_size_dot = 6\n",
    "y_size_dot"
   ]
  }
 ],
 "metadata": {
  "appyter": {
   "nbconstruct": {
    "filename": "vignettes/MetENP_Appyter.ipynb",
    "files": {},
    "version": "0.12.0"
   },
   "nbexecute": {
    "completed": "2021-02-07T17:44:08.158140+00:00",
    "files": {},
    "started": "2021-02-07T17:43:44.873201+00:00",
    "version": "0.12.0"
   }
  },
  "kernelspec": {
   "display_name": "my-first-appyter",
   "language": "python",
   "name": "my-first-appyter"
  },
  "language_info": {
   "codemirror_mode": {
    "name": "ipython",
    "version": 3
   },
   "file_extension": ".py",
   "mimetype": "text/x-python",
   "name": "python",
   "nbconvert_exporter": "python",
   "pygments_lexer": "ipython3",
   "version": "3.8.5"
  }
 },
 "nbformat": 4,
 "nbformat_minor": 5
}
