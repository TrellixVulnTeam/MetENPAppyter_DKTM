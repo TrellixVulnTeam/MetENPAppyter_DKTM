{
 "cells": [
  {
   "cell_type": "code",
   "execution_count": 1,
   "id": "occasional-washer",
   "metadata": {
    "execution": {
     "iopub.execute_input": "2021-02-04T09:39:45.110332Z",
     "iopub.status.busy": "2021-02-04T09:39:45.108419Z",
     "iopub.status.idle": "2021-02-04T09:39:45.117249Z",
     "shell.execute_reply": "2021-02-04T09:39:45.114736Z"
    }
   },
   "outputs": [
    {
     "name": "stdout",
     "output_type": "stream",
     "text": [
      "2\n"
     ]
    }
   ],
   "source": [
    "num1 = 1\n",
    "num2 = 1\n",
    "print(num1+num2)"
   ]
  },
  {
   "cell_type": "code",
   "execution_count": 2,
   "id": "technical-bracelet",
   "metadata": {
    "execution": {
     "iopub.execute_input": "2021-02-04T09:39:45.136765Z",
     "iopub.status.busy": "2021-02-04T09:39:45.130805Z",
     "iopub.status.idle": "2021-02-04T09:39:45.142666Z",
     "shell.execute_reply": "2021-02-04T09:39:45.139427Z"
    }
   },
   "outputs": [],
   "source": [
    "#add appyter to requirements.txt"
   ]
  },
  {
   "cell_type": "code",
   "execution_count": 3,
   "id": "moderate-netscape",
   "metadata": {
    "execution": {
     "iopub.execute_input": "2021-02-04T09:39:45.166685Z",
     "iopub.status.busy": "2021-02-04T09:39:45.164330Z",
     "iopub.status.idle": "2021-02-04T09:39:45.171902Z",
     "shell.execute_reply": "2021-02-04T09:39:45.170958Z"
    }
   },
   "outputs": [
    {
     "data": {
      "text/plain": [
       "['CCLE Cell Line Gene Expression Profiles',\n",
       " 'ENCODE transcription Factor Targets']"
      ]
     },
     "execution_count": 3,
     "metadata": {},
     "output_type": "execute_result"
    }
   ],
   "source": [
    "attribute_datasets = ['CCLE Cell Line Gene Expression Profiles', 'ENCODE transcription Factor Targets']\n",
    "attribute_datasets"
   ]
  },
  {
   "cell_type": "code",
   "execution_count": 4,
   "id": "satellite-uruguay",
   "metadata": {
    "execution": {
     "iopub.execute_input": "2021-02-04T09:39:45.186626Z",
     "iopub.status.busy": "2021-02-04T09:39:45.181811Z",
     "iopub.status.idle": "2021-02-04T09:39:45.195040Z",
     "shell.execute_reply": "2021-02-04T09:39:45.188513Z"
    }
   },
   "outputs": [
    {
     "data": {
      "text/plain": [
       "'test'"
      ]
     },
     "execution_count": 4,
     "metadata": {},
     "output_type": "execute_result"
    }
   ],
   "source": [
    "'test'"
   ]
  },
  {
   "cell_type": "code",
   "execution_count": 5,
   "id": "suited-centre",
   "metadata": {
    "execution": {
     "iopub.execute_input": "2021-02-04T09:39:45.213120Z",
     "iopub.status.busy": "2021-02-04T09:39:45.208270Z",
     "iopub.status.idle": "2021-02-04T09:39:45.376353Z",
     "shell.execute_reply": "2021-02-04T09:39:45.375515Z"
    }
   },
   "outputs": [
    {
     "ename": "NameError",
     "evalue": "name 'render_jupyter' is not defined",
     "output_type": "error",
     "traceback": [
      "\u001b[0;31m---------------------------------------------------------------------------\u001b[0m",
      "\u001b[0;31mNameError\u001b[0m                                 Traceback (most recent call last)",
      "\u001b[0;32m<ipython-input-5-9ed5b56b7494>\u001b[0m in \u001b[0;36m<module>\u001b[0;34m\u001b[0m\n\u001b[0;32m----> 1\u001b[0;31m assert render_jupyter(appyter, {\n\u001b[0m\u001b[1;32m      2\u001b[0m   \u001b[0;34m'title'\u001b[0m\u001b[0;34m:\u001b[0m \u001b[0;34m'Test'\u001b[0m\u001b[0;34m,\u001b[0m\u001b[0;34m\u001b[0m\u001b[0;34m\u001b[0m\u001b[0m\n\u001b[1;32m      3\u001b[0m   \u001b[0;34m'description'\u001b[0m\u001b[0;34m:\u001b[0m \u001b[0;34m''\u001b[0m\u001b[0;34m,\u001b[0m\u001b[0;34m\u001b[0m\u001b[0;34m\u001b[0m\u001b[0m\n\u001b[1;32m      4\u001b[0m   \u001b[0;34m'studyID'\u001b[0m\u001b[0;34m:\u001b[0m \u001b[0;34m'ST001304'\u001b[0m\u001b[0;34m,\u001b[0m\u001b[0;34m\u001b[0m\u001b[0;34m\u001b[0m\u001b[0m\n\u001b[1;32m      5\u001b[0m   \u001b[0;34m'typedata'\u001b[0m\u001b[0;34m:\u001b[0m \u001b[0;34m'factors'\u001b[0m\u001b[0;34m,\u001b[0m\u001b[0;34m\u001b[0m\u001b[0;34m\u001b[0m\u001b[0m\n",
      "\u001b[0;31mNameError\u001b[0m: name 'render_jupyter' is not defined"
     ]
    }
   ],
   "source": [
    "assert render_jupyter(appyter, {\n",
    "  'title': 'Test',\n",
    "  'description': '',\n",
    "  'studyID': 'ST001304',\n",
    "  'typedata': 'factors',\n",
    "})"
   ]
  },
  {
   "cell_type": "code",
   "execution_count": null,
   "id": "suspected-wisdom",
   "metadata": {},
   "outputs": [],
   "source": [
    "For some reason, 'metabolites' isn't coming up as an option?\n",
    "\n",
    "code_eval evals last line. code_exec runs the entire cell"
   ]
  }
 ],
 "metadata": {
  "appyter": {
   "nbconstruct": {
    "filename": "vignettes/Tutorial.ipynb",
    "files": {},
    "version": "0.12.0"
   },
   "nbexecute": {
    "completed": "2021-02-04T01:39:45.685664+00:00",
    "files": {},
    "started": "2021-02-04T01:39:43.729962+00:00",
    "version": "0.12.0"
   }
  },
  "kernelspec": {
   "display_name": "my-first-appyter",
   "language": "python",
   "name": "my-first-appyter"
  },
  "language_info": {
   "codemirror_mode": {
    "name": "ipython",
    "version": 3
   },
   "file_extension": ".py",
   "mimetype": "text/x-python",
   "name": "python",
   "nbconvert_exporter": "python",
   "pygments_lexer": "ipython3",
   "version": "3.8.5"
  }
 },
 "nbformat": 4,
 "nbformat_minor": 5
}
