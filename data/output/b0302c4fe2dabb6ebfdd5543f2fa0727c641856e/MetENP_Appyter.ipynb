{
 "cells": [
  {
   "cell_type": "code",
   "execution_count": 1,
   "id": "liquid-timber",
   "metadata": {
    "execution": {
     "iopub.execute_input": "2021-02-11T23:27:21.746917Z",
     "iopub.status.busy": "2021-02-11T23:27:21.744873Z",
     "iopub.status.idle": "2021-02-11T23:27:26.100532Z",
     "shell.execute_reply": "2021-02-11T23:27:26.101427Z"
    }
   },
   "outputs": [
    {
     "name": "stdout",
     "output_type": "stream",
     "text": [
      "3.4.2\n"
     ]
    },
    {
     "data": {
      "text/html": [
       "\n",
       "        <span>StrVector with 9 elements.</span>\n",
       "        <table>\n",
       "        <tbody>\n",
       "          <tr>\n",
       "          \n",
       "            <td>\n",
       "            'MetENP'\n",
       "            </td>\n",
       "          \n",
       "            <td>\n",
       "            'tools'\n",
       "            </td>\n",
       "          \n",
       "            <td>\n",
       "            'stats'\n",
       "            </td>\n",
       "          \n",
       "            <td>\n",
       "            ...\n",
       "            </td>\n",
       "          \n",
       "            <td>\n",
       "            'datasets'\n",
       "            </td>\n",
       "          \n",
       "            <td>\n",
       "            'methods'\n",
       "            </td>\n",
       "          \n",
       "            <td>\n",
       "            'base'\n",
       "            </td>\n",
       "          \n",
       "          </tr>\n",
       "        </tbody>\n",
       "        </table>\n",
       "        "
      ],
      "text/plain": [
       "<rpy2.robjects.vectors.StrVector object at 0x7fb3f265ce40> [RTYPES.STRSXP]\n",
       "R classes: ('character',)\n",
       "['MetENP', 'tools', 'stats', 'graphics', ..., 'utils', 'datasets', 'methods', 'base']"
      ]
     },
     "execution_count": 1,
     "metadata": {},
     "output_type": "execute_result"
    }
   ],
   "source": [
    "import rpy2\n",
    "print(rpy2.__version__)\n",
    "\n",
    "import rpy2.robjects as robjects\n",
    "\n",
    "import rpy2.robjects.packages as rpackages\n",
    "\n",
    "pi = robjects.r['pi']\n",
    "pi[0]\n",
    "\n",
    "robjects.r('''\n",
    "\n",
    "library(MetENP)''')"
   ]
  },
  {
   "cell_type": "code",
   "execution_count": null,
   "id": "posted-distributor",
   "metadata": {},
   "outputs": [],
   "source": []
  },
  {
   "cell_type": "code",
   "execution_count": null,
   "id": "angry-executive",
   "metadata": {},
   "outputs": [],
   "source": []
  },
  {
   "cell_type": "code",
   "execution_count": null,
   "id": "favorite-rabbit",
   "metadata": {},
   "outputs": [],
   "source": []
  },
  {
   "cell_type": "code",
   "execution_count": null,
   "id": "proof-crash",
   "metadata": {},
   "outputs": [],
   "source": []
  },
  {
   "cell_type": "code",
   "execution_count": 6,
   "id": "humanitarian-mileage",
   "metadata": {
    "execution": {
     "iopub.execute_input": "2021-02-11T23:27:26.114487Z",
     "iopub.status.busy": "2021-02-11T23:27:26.110783Z",
     "iopub.status.idle": "2021-02-11T23:27:26.233636Z",
     "shell.execute_reply": "2021-02-11T23:27:26.234295Z"
    }
   },
   "outputs": [
    {
     "data": {
      "text/html": [
       "\n",
       "        <span>StrMatrix with 6 elements.</span>\n",
       "        <table>\n",
       "        <tbody>\n",
       "          <tr>\n",
       "          \n",
       "            <td>\n",
       "            'func...\n",
       "            </td>\n",
       "          \n",
       "            <td>\n",
       "            '    ...\n",
       "            </td>\n",
       "          \n",
       "            <td>\n",
       "            '{'\n",
       "            </td>\n",
       "          \n",
       "            <td>\n",
       "            '    ...\n",
       "            </td>\n",
       "          \n",
       "            <td>\n",
       "            '    ...\n",
       "            </td>\n",
       "          \n",
       "            <td>\n",
       "            '    ...\n",
       "            </td>\n",
       "          \n",
       "          </tr>\n",
       "        </tbody>\n",
       "        </table>\n",
       "        "
      ],
      "text/plain": [
       "<rpy2.robjects.vectors.StrMatrix object at 0x7fb3f2752300> [RTYPES.STRSXP]\n",
       "R classes: ('noquote',)\n",
       "['func..., '    ..., '{', '    ..., '    ..., '    ...]"
      ]
     },
     "execution_count": 2,
     "metadata": {},
     "output_type": "execute_result"
    }
   ],
   "source": [
    "data = robjects.r['getmwstudies']('ST000915', \n",
    "    ['factors']\n",
    ")\n",
    "robjects.r('''head(data)''')"
   ]
  },
  {
   "cell_type": "code",
   "execution_count": 7,
   "id": "laughing-mandate",
   "metadata": {
    "execution": {
     "iopub.execute_input": "2021-02-11T23:27:26.244993Z",
     "iopub.status.busy": "2021-02-11T23:27:26.241718Z",
     "iopub.status.idle": "2021-02-11T23:27:26.252122Z",
     "shell.execute_reply": "2021-02-11T23:27:26.247041Z"
    }
   },
   "outputs": [
    {
     "data": {
      "text/plain": [
       "['50percent']"
      ]
     },
     "execution_count": 3,
     "metadata": {},
     "output_type": "execute_result"
    }
   ],
   "source": [
    "normtype = ['50percent']\n",
    "normtype"
   ]
  },
  {
   "cell_type": "code",
   "execution_count": 8,
   "id": "threaded-episode",
   "metadata": {
    "execution": {
     "iopub.execute_input": "2021-02-11T23:27:26.270952Z",
     "iopub.status.busy": "2021-02-11T23:27:26.265532Z",
     "iopub.status.idle": "2021-02-11T23:27:26.279483Z",
     "shell.execute_reply": "2021-02-11T23:27:26.272975Z"
    }
   },
   "outputs": [
    {
     "data": {
      "text/plain": [
       "0.05"
      ]
     },
     "execution_count": 4,
     "metadata": {},
     "output_type": "execute_result"
    }
   ],
   "source": [
    "pthres = '0.05'\n",
    "pthres = float(pthres)\n",
    "pthres"
   ]
  },
  {
   "cell_type": "code",
   "execution_count": 9,
   "id": "liquid-supplement",
   "metadata": {
    "execution": {
     "iopub.execute_input": "2021-02-11T23:27:26.296769Z",
     "iopub.status.busy": "2021-02-11T23:27:26.292714Z",
     "iopub.status.idle": "2021-02-11T23:27:26.305125Z",
     "shell.execute_reply": "2021-02-11T23:27:26.299714Z"
    }
   },
   "outputs": [
    {
     "data": {
      "text/plain": [
       "0.5"
      ]
     },
     "execution_count": 5,
     "metadata": {},
     "output_type": "execute_result"
    }
   ],
   "source": [
    "thres_log2foldchange = '0.5'\n",
    "thres_log2foldchange = float(thres_log2foldchange)\n",
    "thres_log2foldchange"
   ]
  },
  {
   "cell_type": "code",
   "execution_count": null,
   "id": "closing-swift",
   "metadata": {},
   "outputs": [],
   "source": []
  },
  {
   "cell_type": "code",
   "execution_count": 11,
   "id": "regulation-checklist",
   "metadata": {
    "execution": {
     "iopub.execute_input": "2021-02-11T23:27:26.321346Z",
     "iopub.status.busy": "2021-02-11T23:27:26.317160Z",
     "iopub.status.idle": "2021-02-11T23:27:26.329179Z",
     "shell.execute_reply": "2021-02-11T23:27:26.323049Z"
    }
   },
   "outputs": [
    {
     "data": {
      "text/plain": [
       "0.5"
      ]
     },
     "execution_count": 6,
     "metadata": {},
     "output_type": "execute_result"
    }
   ],
   "source": [
    "thres_log2foldchange_countclass = '0.5'\n",
    "thres_log2foldchange_countclass = float(thres_log2foldchange_countclass)\n",
    "thres_log2foldchange_countclass"
   ]
  },
  {
   "cell_type": "code",
   "execution_count": null,
   "id": "imposed-ranking",
   "metadata": {},
   "outputs": [],
   "source": []
  },
  {
   "cell_type": "code",
   "execution_count": 13,
   "id": "atomic-secretariat",
   "metadata": {
    "execution": {
     "iopub.execute_input": "2021-02-11T23:27:26.354110Z",
     "iopub.status.busy": "2021-02-11T23:27:26.350235Z",
     "iopub.status.idle": "2021-02-11T23:27:26.363306Z",
     "shell.execute_reply": "2021-02-11T23:27:26.355521Z"
    }
   },
   "outputs": [
    {
     "data": {
      "text/plain": [
       "3"
      ]
     },
     "execution_count": 7,
     "metadata": {},
     "output_type": "execute_result"
    }
   ],
   "source": [
    "sigmets = 3\n",
    "sigmets"
   ]
  },
  {
   "cell_type": "code",
   "execution_count": 14,
   "id": "sonic-madness",
   "metadata": {
    "execution": {
     "iopub.execute_input": "2021-02-11T23:27:26.378737Z",
     "iopub.status.busy": "2021-02-11T23:27:26.374594Z",
     "iopub.status.idle": "2021-02-11T23:27:26.385800Z",
     "shell.execute_reply": "2021-02-11T23:27:26.380277Z"
    }
   },
   "outputs": [
    {
     "data": {
      "text/plain": [
       "8"
      ]
     },
     "execution_count": 8,
     "metadata": {},
     "output_type": "execute_result"
    }
   ],
   "source": [
    "x_size_heat = 8\n",
    "x_size_heat"
   ]
  },
  {
   "cell_type": "code",
   "execution_count": 15,
   "id": "level-calibration",
   "metadata": {
    "execution": {
     "iopub.execute_input": "2021-02-11T23:27:26.399341Z",
     "iopub.status.busy": "2021-02-11T23:27:26.396462Z",
     "iopub.status.idle": "2021-02-11T23:27:26.407161Z",
     "shell.execute_reply": "2021-02-11T23:27:26.400908Z"
    }
   },
   "outputs": [
    {
     "data": {
      "text/plain": [
       "6"
      ]
     },
     "execution_count": 9,
     "metadata": {},
     "output_type": "execute_result"
    }
   ],
   "source": [
    "y_size_heat = 6\n",
    "y_size_heat"
   ]
  },
  {
   "cell_type": "code",
   "execution_count": 16,
   "id": "discrete-baseline",
   "metadata": {
    "execution": {
     "iopub.execute_input": "2021-02-11T23:27:26.473292Z",
     "iopub.status.busy": "2021-02-11T23:27:26.418133Z",
     "iopub.status.idle": "2021-02-11T23:27:26.480696Z",
     "shell.execute_reply": "2021-02-11T23:27:26.474979Z"
    }
   },
   "outputs": [
    {
     "data": {
      "text/plain": [
       "8"
      ]
     },
     "execution_count": 10,
     "metadata": {},
     "output_type": "execute_result"
    }
   ],
   "source": [
    "x_size_dot = 8\n",
    "x_size_dot"
   ]
  },
  {
   "cell_type": "code",
   "execution_count": 17,
   "id": "reasonable-burns",
   "metadata": {
    "execution": {
     "iopub.execute_input": "2021-02-11T23:27:26.495905Z",
     "iopub.status.busy": "2021-02-11T23:27:26.492077Z",
     "iopub.status.idle": "2021-02-11T23:27:26.501672Z",
     "shell.execute_reply": "2021-02-11T23:27:26.497726Z"
    }
   },
   "outputs": [
    {
     "data": {
      "text/plain": [
       "6"
      ]
     },
     "execution_count": 11,
     "metadata": {},
     "output_type": "execute_result"
    }
   ],
   "source": [
    "y_size_dot = 6\n",
    "y_size_dot"
   ]
  }
 ],
 "metadata": {
  "appyter": {
   "nbconstruct": {
    "filename": "vignettes/MetENP_Appyter.ipynb",
    "files": {},
    "version": "0.12.0"
   },
   "nbexecute": {
    "completed": "2021-02-11T15:27:27.014377+00:00",
    "files": {},
    "started": "2021-02-11T15:27:20.407482+00:00",
    "version": "0.12.0"
   }
  },
  "kernelspec": {
   "display_name": "my-first-appyter",
   "language": "python",
   "name": "my-first-appyter"
  },
  "language_info": {
   "codemirror_mode": {
    "name": "ipython",
    "version": 3
   },
   "file_extension": ".py",
   "mimetype": "text/x-python",
   "name": "python",
   "nbconvert_exporter": "python",
   "pygments_lexer": "ipython3",
   "version": "3.8.5"
  }
 },
 "nbformat": 4,
 "nbformat_minor": 5
}
