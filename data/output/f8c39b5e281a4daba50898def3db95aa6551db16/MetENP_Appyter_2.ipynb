{
 "cells": [
  {
   "cell_type": "code",
   "execution_count": 1,
   "id": "acting-greek",
   "metadata": {
    "execution": {
     "iopub.execute_input": "2021-03-22T20:39:39.287303Z",
     "iopub.status.busy": "2021-03-22T20:39:39.285549Z",
     "iopub.status.idle": "2021-03-22T20:39:39.438760Z",
     "shell.execute_reply": "2021-03-22T20:39:39.439475Z"
    }
   },
   "outputs": [
    {
     "ename": "NameError",
     "evalue": "name 'robjects' is not defined",
     "output_type": "error",
     "traceback": [
      "\u001b[0;31m---------------------------------------------------------------------------\u001b[0m",
      "\u001b[0;31mNameError\u001b[0m                                 Traceback (most recent call last)",
      "\u001b[0;32m<ipython-input-1-2488455273f2>\u001b[0m in \u001b[0;36m<module>\u001b[0;34m\u001b[0m\n\u001b[0;32m----> 1\u001b[0;31m data_1 = robjects.r['getmwstudies']('ST000915', \n\u001b[0m\u001b[1;32m      2\u001b[0m     \u001b[0;34m'data'\u001b[0m\u001b[0;34m\u001b[0m\u001b[0;34m\u001b[0m\u001b[0m\n\u001b[1;32m      3\u001b[0m )\n",
      "\u001b[0;31mNameError\u001b[0m: name 'robjects' is not defined"
     ]
    }
   ],
   "source": [
    "data_1 = robjects.r['getmwstudies']('ST000915', \n",
    "    'data'\n",
    ")"
   ]
  },
  {
   "cell_type": "code",
   "execution_count": null,
   "id": "assumed-estonia",
   "metadata": {},
   "outputs": [],
   "source": [
    "robjects.r('''\n",
    "data_1_print = data.frame(apply(data_1, c(1,2), function(x){unlist(x, TRUE, TRUE)}))\n",
    "head(data_1_print)\n",
    "''')"
   ]
  },
  {
   "cell_type": "code",
   "execution_count": null,
   "id": "later-charleston",
   "metadata": {},
   "outputs": [],
   "source": [
    "metadata = robjects.r['getmwstudies']('ST000915', \n",
    "    'factors'\n",
    ")"
   ]
  },
  {
   "cell_type": "code",
   "execution_count": null,
   "id": "ruled-documentation",
   "metadata": {},
   "outputs": [],
   "source": [
    "robjects.r('''\n",
    "head(metadata_print)\n",
    "''')"
   ]
  },
  {
   "cell_type": "markdown",
   "id": "alone-consultancy",
   "metadata": {},
   "source": [
    "Find the factors you would want to compare\n",
    "Multiple factors (independent variables) are formatted in multiple columns but you can get information on all the factors by \"factors\" column, such as 'TreatmentGroup:Prednisolone', this indicates column name 'TreatmentGroup' with factor Prednisolone. For t-test use the factors in the same column. For comparing multipe independent variables use anova by anova_ana function."
   ]
  },
  {
   "cell_type": "markdown",
   "id": "tired-sydney",
   "metadata": {},
   "source": [
    "### Associate metabolomics data to the refmet class"
   ]
  },
  {
   "cell_type": "code",
   "execution_count": null,
   "id": "naked-peter",
   "metadata": {},
   "outputs": [],
   "source": [
    "robjects.r('''\n",
    "head(refmet_class_print)\n",
    "''')"
   ]
  },
  {
   "cell_type": "code",
   "execution_count": null,
   "id": "owned-parcel",
   "metadata": {},
   "outputs": [],
   "source": [
    "robjects.r('''\n",
    "data.frame(unique(metadata_print$factors))\n",
    "''')"
   ]
  },
  {
   "cell_type": "code",
   "execution_count": null,
   "id": "angry-reflection",
   "metadata": {},
   "outputs": [],
   "source": [
    "robjects.r('''\n",
    "data.frame(unique(data_1_print$analysis_summary))\n",
    "''')"
   ]
  },
  {
   "cell_type": "markdown",
   "id": "worthy-consequence",
   "metadata": {},
   "source": [
    "### Find significant metabolites, run significance of all the analysis summary together. The analysis summary/modes you got in the previous section"
   ]
  },
  {
   "cell_type": "markdown",
   "id": "better-journalism",
   "metadata": {},
   "source": [
    "There is a normalization step which takes into account missing values, and this can be achieved via three methods:\n",
    "\n",
    "1) half_of_min: where the NAs are replaced by half of min values in the data\n",
    "\n",
    "2) remove_NAs: where Cols with NAs values are removed\n",
    "\n",
    "3) 50percent: where cols with more than 50% NAs values are removed\n",
    "\n",
    "half_of_min is ideal when you wish to see which metabolites were present in either group. Very high fold change would mean it was present in either group."
   ]
  },
  {
   "cell_type": "code",
   "execution_count": null,
   "id": "corporate-frederick",
   "metadata": {},
   "outputs": [],
   "source": [
    "#need to change to float\n",
    "robjects.r['print']('0.05')"
   ]
  },
  {
   "cell_type": "code",
   "execution_count": null,
   "id": "liable-virus",
   "metadata": {},
   "outputs": [],
   "source": [
    "robjects.r.assign('refmet_class', refmet_class)\n",
    "robjects.r.assign('metcol', 'metabolite_name')\n",
    "#robjects.r.assign('mettit', 'Core G Fatty acids/Eicosanoids, Core J Sterols, Core K Prenols/Cardiolipins, Core E Neutral Lipids, Core I Sphingolipids, Core H Phospholipids')\n",
    "robjects.r.assign('fac1', 'Cirrhosis')\n",
    "robjects.r.assign('fac2', 'Normal')\n",
    "robjects.r.assign('faccol', 'Diagnosis')\n",
    "robjects.r.assign('samcol', 'local_sample_id')\n",
    "robjects.r.assign('normtype', ['50percent'])\n",
    "robjects.r.assign('pthres', '0.05')\n",
    "robjects.r.assign('thres_log2foldchangevar', '0.5')"
   ]
  },
  {
   "cell_type": "code",
   "execution_count": null,
   "id": "classical-values",
   "metadata": {},
   "outputs": [],
   "source": [
    "split = 'Core G Fatty acids/Eicosanoids, Core J Sterols, Core K Prenols/Cardiolipins, Core E Neutral Lipids, Core I Sphingolipids, Core H Phospholipids'.split(\",\")\n",
    "titles_nows = []\n",
    "for item in split:\n",
    "    titles_nows.append(item.strip())\n",
    "#sloppy\n",
    "for title in titles_nows:"
   ]
  },
  {
   "cell_type": "code",
   "execution_count": null,
   "id": "resident-wrist",
   "metadata": {},
   "outputs": [],
   "source": [
    "#changed factor 2 from column to single factor? \n",
    "#is p adjust ONLY FDR?\n",
    "#get rid of output here?\n",
    "\n",
    "robjects.r('''\n",
    "\n",
    "stats_metabolites = significant_met(metabolomics_data=refmet_class_print, met_col=metcol,analysis_type=c(\"Core G Fatty acids/Eicosanoids\",\"Core J Sterols\",\"Core K Prenols/Cardiolipins\",\"Core E Neutral Lipids\",\"Core I Sphingolipids\",\"Core H Phospholipids\"), metadata=metadata, factor1=fac1, factor2=fac2, factor_col=faccol,sample_col=samcol, p_adjust='fdr',normalization=normtype)\n",
    "\n",
    "''')"
   ]
  },
  {
   "cell_type": "code",
   "execution_count": null,
   "id": "instrumental-patrick",
   "metadata": {},
   "outputs": [],
   "source": [
    "robjects.r('''\n",
    "\n",
    "sig_metabolites = stats_metabolites[which(stats_metabolites[,\"pval\"] <= pthres&abs(stats_metabolites[,\"log2Fold_change\"])>thres_log2foldchangevar),]\n",
    "\n",
    "''')"
   ]
  },
  {
   "cell_type": "code",
   "execution_count": null,
   "id": "monthly-haiti",
   "metadata": {},
   "outputs": [],
   "source": [
    "import rpy2.robjects.lib.ggplot2 as gp\n",
    "from rpy2.ipython.ggplot import image_png\n",
    "\n",
    "\n",
    "image_png(robjects.r('''\n",
    "\n",
    "plot_volcano(stats_metabolites, thres_pval= ptreshnum, thres_log2foldchange = thres_log2foldchangenum, TRUE)\n",
    "\n",
    "'''))"
   ]
  },
  {
   "cell_type": "code",
   "execution_count": null,
   "id": "handed-velvet",
   "metadata": {},
   "outputs": [],
   "source": [
    "thres_log2foldchange_countclass = '0.5'"
   ]
  },
  {
   "cell_type": "code",
   "execution_count": null,
   "id": "modern-manufacturer",
   "metadata": {},
   "outputs": [],
   "source": [
    "sigmets = 3\n",
    "sigmets"
   ]
  },
  {
   "cell_type": "code",
   "execution_count": null,
   "id": "moved-orchestra",
   "metadata": {},
   "outputs": [],
   "source": [
    "x_size_heat = 8\n",
    "x_size_heat"
   ]
  },
  {
   "cell_type": "code",
   "execution_count": null,
   "id": "limited-arkansas",
   "metadata": {},
   "outputs": [],
   "source": [
    "y_size_heat = 6\n",
    "y_size_heat"
   ]
  },
  {
   "cell_type": "code",
   "execution_count": null,
   "id": "established-lancaster",
   "metadata": {},
   "outputs": [],
   "source": [
    "x_size_dot = 8\n",
    "x_size_dot"
   ]
  },
  {
   "cell_type": "code",
   "execution_count": null,
   "id": "formal-palestine",
   "metadata": {},
   "outputs": [],
   "source": [
    "y_size_dot = 6\n",
    "y_size_dot"
   ]
  }
 ],
 "metadata": {
  "appyter": {
   "nbconstruct": {
    "filename": "vignettes/MetENP_Appyter_2.ipynb",
    "files": {},
    "version": "0.12.0"
   },
   "nbexecute": {
    "completed": "2021-03-22T13:39:39.654201+00:00",
    "files": {},
    "started": "2021-03-22T13:39:38.136460+00:00",
    "version": "0.12.0"
   }
  },
  "kernelspec": {
   "display_name": "my-first-appyter",
   "language": "python",
   "name": "my-first-appyter"
  },
  "language_info": {
   "codemirror_mode": {
    "name": "ipython",
    "version": 3
   },
   "file_extension": ".py",
   "mimetype": "text/x-python",
   "name": "python",
   "nbconvert_exporter": "python",
   "pygments_lexer": "ipython3",
   "version": "3.8.5"
  }
 },
 "nbformat": 4,
 "nbformat_minor": 5
}
