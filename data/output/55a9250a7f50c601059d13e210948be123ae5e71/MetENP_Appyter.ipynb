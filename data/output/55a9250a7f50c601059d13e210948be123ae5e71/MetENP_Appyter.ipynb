{
 "cells": [
  {
   "cell_type": "code",
   "execution_count": 1,
   "id": "liquid-timber",
   "metadata": {
    "execution": {
     "iopub.execute_input": "2021-02-11T23:32:03.849705Z",
     "iopub.status.busy": "2021-02-11T23:32:03.848188Z",
     "iopub.status.idle": "2021-02-11T23:32:07.774610Z",
     "shell.execute_reply": "2021-02-11T23:32:07.775266Z"
    }
   },
   "outputs": [
    {
     "name": "stdout",
     "output_type": "stream",
     "text": [
      "3.4.2\n"
     ]
    },
    {
     "data": {
      "text/html": [
       "\n",
       "        <span>StrVector with 9 elements.</span>\n",
       "        <table>\n",
       "        <tbody>\n",
       "          <tr>\n",
       "          \n",
       "            <td>\n",
       "            'MetENP'\n",
       "            </td>\n",
       "          \n",
       "            <td>\n",
       "            'tools'\n",
       "            </td>\n",
       "          \n",
       "            <td>\n",
       "            'stats'\n",
       "            </td>\n",
       "          \n",
       "            <td>\n",
       "            ...\n",
       "            </td>\n",
       "          \n",
       "            <td>\n",
       "            'datasets'\n",
       "            </td>\n",
       "          \n",
       "            <td>\n",
       "            'methods'\n",
       "            </td>\n",
       "          \n",
       "            <td>\n",
       "            'base'\n",
       "            </td>\n",
       "          \n",
       "          </tr>\n",
       "        </tbody>\n",
       "        </table>\n",
       "        "
      ],
      "text/plain": [
       "<rpy2.robjects.vectors.StrVector object at 0x7faa821e2700> [RTYPES.STRSXP]\n",
       "R classes: ('character',)\n",
       "['MetENP', 'tools', 'stats', 'graphics', ..., 'utils', 'datasets', 'methods', 'base']"
      ]
     },
     "execution_count": 1,
     "metadata": {},
     "output_type": "execute_result"
    }
   ],
   "source": [
    "import rpy2\n",
    "print(rpy2.__version__)\n",
    "\n",
    "import rpy2.robjects as robjects\n",
    "\n",
    "import rpy2.robjects.packages as rpackages\n",
    "\n",
    "pi = robjects.r['pi']\n",
    "pi[0]\n",
    "\n",
    "robjects.r('''\n",
    "\n",
    "library(MetENP)''')"
   ]
  },
  {
   "cell_type": "code",
   "execution_count": 2,
   "id": "liberal-guest",
   "metadata": {
    "execution": {
     "iopub.execute_input": "2021-02-11T23:32:07.785423Z",
     "iopub.status.busy": "2021-02-11T23:32:07.782126Z",
     "iopub.status.idle": "2021-02-11T23:32:07.913809Z",
     "shell.execute_reply": "2021-02-11T23:32:07.914456Z"
    }
   },
   "outputs": [
    {
     "name": "stdout",
     "output_type": "stream",
     "text": [
      "   study_id local_sample_id         subject_type             factors Diagnosis\n",
      "1  ST000915         NASH005 Human clinical study Diagnosis:Cirrhosis Cirrhosis\n",
      "2  ST000915         NASH007 Human clinical study Diagnosis:Cirrhosis Cirrhosis\n",
      "3  ST000915         NASH009 Human clinical study Diagnosis:Cirrhosis Cirrhosis\n",
      "4  ST000915         NASH013 Human clinical study Diagnosis:Cirrhosis Cirrhosis\n",
      "5  ST000915         NASH016 Human clinical study Diagnosis:Cirrhosis Cirrhosis\n",
      "6  ST000915         NASH022 Human clinical study Diagnosis:Cirrhosis Cirrhosis\n",
      "7  ST000915         NASH026 Human clinical study Diagnosis:Cirrhosis Cirrhosis\n",
      "8  ST000915         NASH027 Human clinical study Diagnosis:Cirrhosis Cirrhosis\n",
      "9  ST000915         NASH028 Human clinical study Diagnosis:Cirrhosis Cirrhosis\n",
      "10 ST000915         NASH029 Human clinical study Diagnosis:Cirrhosis Cirrhosis\n",
      "11 ST000915         NASH040 Human clinical study Diagnosis:Cirrhosis Cirrhosis\n",
      "12 ST000915         NASH047 Human clinical study Diagnosis:Cirrhosis Cirrhosis\n",
      "13 ST000915         NASH048 Human clinical study Diagnosis:Cirrhosis Cirrhosis\n",
      "14 ST000915         NASH049 Human clinical study Diagnosis:Cirrhosis Cirrhosis\n",
      "15 ST000915         NASH052 Human clinical study Diagnosis:Cirrhosis Cirrhosis\n",
      "16 ST000915         NASH055 Human clinical study Diagnosis:Cirrhosis Cirrhosis\n",
      "17 ST000915         NASH064 Human clinical study Diagnosis:Cirrhosis Cirrhosis\n",
      "18 ST000915         NASH065 Human clinical study Diagnosis:Cirrhosis Cirrhosis\n",
      "19 ST000915         NASH068 Human clinical study Diagnosis:Cirrhosis Cirrhosis\n",
      "20 ST000915         NASH069 Human clinical study Diagnosis:Cirrhosis Cirrhosis\n",
      "21 ST000915         NASH010 Human clinical study      Diagnosis:NASH      NASH\n",
      "22 ST000915         NASH012 Human clinical study      Diagnosis:NASH      NASH\n",
      "23 ST000915         NASH015 Human clinical study      Diagnosis:NASH      NASH\n",
      "24 ST000915         NASH018 Human clinical study      Diagnosis:NASH      NASH\n",
      "25 ST000915         NASH019 Human clinical study      Diagnosis:NASH      NASH\n",
      "26 ST000915         NASH021 Human clinical study      Diagnosis:NASH      NASH\n",
      "27 ST000915         NASH030 Human clinical study      Diagnosis:NASH      NASH\n",
      "28 ST000915         NASH031 Human clinical study      Diagnosis:NASH      NASH\n",
      "29 ST000915         NASH035 Human clinical study      Diagnosis:NASH      NASH\n",
      "30 ST000915         NASH037 Human clinical study      Diagnosis:NASH      NASH\n",
      "31 ST000915         NASH038 Human clinical study      Diagnosis:NASH      NASH\n",
      "32 ST000915         NASH039 Human clinical study      Diagnosis:NASH      NASH\n",
      "33 ST000915         NASH044 Human clinical study      Diagnosis:NASH      NASH\n",
      "34 ST000915         NASH057 Human clinical study      Diagnosis:NASH      NASH\n",
      "35 ST000915         NASH072 Human clinical study      Diagnosis:NASH      NASH\n",
      "36 ST000915         NASH074 Human clinical study      Diagnosis:NASH      NASH\n",
      "37 ST000915         NASH084 Human clinical study      Diagnosis:NASH      NASH\n",
      "38 ST000915         NASH087 Human clinical study      Diagnosis:NASH      NASH\n",
      "39 ST000915         NASH088 Human clinical study      Diagnosis:NASH      NASH\n",
      "40 ST000915         NASH090 Human clinical study      Diagnosis:NASH      NASH\n",
      "41 ST000915         NASH003 Human clinical study    Diagnosis:Normal    Normal\n",
      "42 ST000915         NASH004 Human clinical study    Diagnosis:Normal    Normal\n",
      "43 ST000915         NASH006 Human clinical study    Diagnosis:Normal    Normal\n",
      "44 ST000915         NASH011 Human clinical study    Diagnosis:Normal    Normal\n",
      "45 ST000915         NASH014 Human clinical study    Diagnosis:Normal    Normal\n",
      "46 ST000915         NASH017 Human clinical study    Diagnosis:Normal    Normal\n",
      "47 ST000915         NASH020 Human clinical study    Diagnosis:Normal    Normal\n",
      "48 ST000915         NASH024 Human clinical study    Diagnosis:Normal    Normal\n",
      "49 ST000915         NASH034 Human clinical study    Diagnosis:Normal    Normal\n",
      "50 ST000915         NASH036 Human clinical study    Diagnosis:Normal    Normal\n",
      "51 ST000915         NASH041 Human clinical study    Diagnosis:Normal    Normal\n",
      "52 ST000915         NASH042 Human clinical study    Diagnosis:Normal    Normal\n",
      "53 ST000915         NASH043 Human clinical study    Diagnosis:Normal    Normal\n",
      "54 ST000915         NASH045 Human clinical study    Diagnosis:Normal    Normal\n",
      "55 ST000915         NASH046 Human clinical study    Diagnosis:Normal    Normal\n",
      "56 ST000915         NASH050 Human clinical study    Diagnosis:Normal    Normal\n",
      "57 ST000915         NASH051 Human clinical study    Diagnosis:Normal    Normal\n",
      "58 ST000915         NASH053 Human clinical study    Diagnosis:Normal    Normal\n",
      "59 ST000915         NASH054 Human clinical study    Diagnosis:Normal    Normal\n",
      "60 ST000915         NASH060 Human clinical study    Diagnosis:Normal    Normal\n",
      "61 ST000915         NASH066 Human clinical study    Diagnosis:Normal    Normal\n",
      "62 ST000915         NASH067 Human clinical study    Diagnosis:Normal    Normal\n",
      "63 ST000915         NASH070 Human clinical study    Diagnosis:Normal    Normal\n",
      "64 ST000915         NASH077 Human clinical study    Diagnosis:Normal    Normal\n",
      "65 ST000915         NASH078 Human clinical study    Diagnosis:Normal    Normal\n",
      "66 ST000915         NASH080 Human clinical study    Diagnosis:Normal    Normal\n",
      "67 ST000915         NASH082 Human clinical study    Diagnosis:Normal    Normal\n",
      "68 ST000915         NASH085 Human clinical study    Diagnosis:Normal    Normal\n",
      "69 ST000915         NASH086 Human clinical study    Diagnosis:Normal    Normal\n",
      "70 ST000915         NASH089 Human clinical study    Diagnosis:Normal    Normal\n",
      "71 ST000915         NASH091 Human clinical study    Diagnosis:Normal    Normal\n",
      "72 ST000915         NASH001 Human clinical study Diagnosis:Steatosis Steatosis\n",
      "73 ST000915         NASH002 Human clinical study Diagnosis:Steatosis Steatosis\n",
      "74 ST000915         NASH023 Human clinical study Diagnosis:Steatosis Steatosis\n",
      "75 ST000915         NASH032 Human clinical study Diagnosis:Steatosis Steatosis\n",
      "76 ST000915         NASH033 Human clinical study Diagnosis:Steatosis Steatosis\n",
      "77 ST000915         NASH056 Human clinical study Diagnosis:Steatosis Steatosis\n",
      "78 ST000915         NASH058 Human clinical study Diagnosis:Steatosis Steatosis\n",
      "79 ST000915         NASH059 Human clinical study Diagnosis:Steatosis Steatosis\n",
      "80 ST000915         NASH061 Human clinical study Diagnosis:Steatosis Steatosis\n",
      "81 ST000915         NASH062 Human clinical study Diagnosis:Steatosis Steatosis\n",
      "82 ST000915         NASH071 Human clinical study Diagnosis:Steatosis Steatosis\n",
      "83 ST000915         NASH073 Human clinical study Diagnosis:Steatosis Steatosis\n",
      "84 ST000915         NASH075 Human clinical study Diagnosis:Steatosis Steatosis\n",
      "85 ST000915         NASH076 Human clinical study Diagnosis:Steatosis Steatosis\n",
      "86 ST000915         NASH079 Human clinical study Diagnosis:Steatosis Steatosis\n",
      "87 ST000915         NASH081 Human clinical study Diagnosis:Steatosis Steatosis\n",
      "88 ST000915         NASH083 Human clinical study Diagnosis:Steatosis Steatosis\n",
      "\n"
     ]
    }
   ],
   "source": [
    "data11 = robjects.r['getmwstudies']('ST000915', \n",
    "    'factors'\n",
    ")\n",
    "print(data11)"
   ]
  },
  {
   "cell_type": "code",
   "execution_count": 3,
   "id": "italic-department",
   "metadata": {
    "execution": {
     "iopub.execute_input": "2021-02-11T23:32:07.928672Z",
     "iopub.status.busy": "2021-02-11T23:32:07.924948Z",
     "iopub.status.idle": "2021-02-11T23:32:07.936646Z",
     "shell.execute_reply": "2021-02-11T23:32:07.930669Z"
    }
   },
   "outputs": [
    {
     "data": {
      "text/plain": [
       "['50percent']"
      ]
     },
     "execution_count": 3,
     "metadata": {},
     "output_type": "execute_result"
    }
   ],
   "source": [
    "normtype = ['50percent']\n",
    "normtype"
   ]
  },
  {
   "cell_type": "code",
   "execution_count": 4,
   "id": "answering-penny",
   "metadata": {
    "execution": {
     "iopub.execute_input": "2021-02-11T23:32:07.961758Z",
     "iopub.status.busy": "2021-02-11T23:32:07.957002Z",
     "iopub.status.idle": "2021-02-11T23:32:07.969442Z",
     "shell.execute_reply": "2021-02-11T23:32:07.964635Z"
    }
   },
   "outputs": [
    {
     "data": {
      "text/plain": [
       "0.05"
      ]
     },
     "execution_count": 4,
     "metadata": {},
     "output_type": "execute_result"
    }
   ],
   "source": [
    "pthres = '0.05'\n",
    "pthres = float(pthres)\n",
    "pthres"
   ]
  },
  {
   "cell_type": "code",
   "execution_count": 5,
   "id": "ideal-silly",
   "metadata": {
    "execution": {
     "iopub.execute_input": "2021-02-11T23:32:07.988068Z",
     "iopub.status.busy": "2021-02-11T23:32:07.983527Z",
     "iopub.status.idle": "2021-02-11T23:32:07.997835Z",
     "shell.execute_reply": "2021-02-11T23:32:07.991355Z"
    }
   },
   "outputs": [
    {
     "data": {
      "text/plain": [
       "0.5"
      ]
     },
     "execution_count": 5,
     "metadata": {},
     "output_type": "execute_result"
    }
   ],
   "source": [
    "thres_log2foldchange = '0.5'\n",
    "thres_log2foldchange = float(thres_log2foldchange)\n",
    "thres_log2foldchange"
   ]
  },
  {
   "cell_type": "code",
   "execution_count": null,
   "id": "closing-swift",
   "metadata": {},
   "outputs": [],
   "source": []
  },
  {
   "cell_type": "code",
   "execution_count": 7,
   "id": "demographic-oasis",
   "metadata": {
    "execution": {
     "iopub.execute_input": "2021-02-11T23:32:08.020082Z",
     "iopub.status.busy": "2021-02-11T23:32:08.013799Z",
     "iopub.status.idle": "2021-02-11T23:32:08.031727Z",
     "shell.execute_reply": "2021-02-11T23:32:08.024472Z"
    }
   },
   "outputs": [
    {
     "data": {
      "text/plain": [
       "0.5"
      ]
     },
     "execution_count": 6,
     "metadata": {},
     "output_type": "execute_result"
    }
   ],
   "source": [
    "thres_log2foldchange_countclass = '0.5'\n",
    "thres_log2foldchange_countclass = float(thres_log2foldchange_countclass)\n",
    "thres_log2foldchange_countclass"
   ]
  },
  {
   "cell_type": "code",
   "execution_count": null,
   "id": "imposed-ranking",
   "metadata": {},
   "outputs": [],
   "source": []
  },
  {
   "cell_type": "code",
   "execution_count": 9,
   "id": "worth-championship",
   "metadata": {
    "execution": {
     "iopub.execute_input": "2021-02-11T23:32:08.051281Z",
     "iopub.status.busy": "2021-02-11T23:32:08.046986Z",
     "iopub.status.idle": "2021-02-11T23:32:08.059207Z",
     "shell.execute_reply": "2021-02-11T23:32:08.053034Z"
    }
   },
   "outputs": [
    {
     "data": {
      "text/plain": [
       "3"
      ]
     },
     "execution_count": 7,
     "metadata": {},
     "output_type": "execute_result"
    }
   ],
   "source": [
    "sigmets = 3\n",
    "sigmets"
   ]
  },
  {
   "cell_type": "code",
   "execution_count": 10,
   "id": "quality-interface",
   "metadata": {
    "execution": {
     "iopub.execute_input": "2021-02-11T23:32:08.076580Z",
     "iopub.status.busy": "2021-02-11T23:32:08.073096Z",
     "iopub.status.idle": "2021-02-11T23:32:08.085581Z",
     "shell.execute_reply": "2021-02-11T23:32:08.078316Z"
    }
   },
   "outputs": [
    {
     "data": {
      "text/plain": [
       "8"
      ]
     },
     "execution_count": 8,
     "metadata": {},
     "output_type": "execute_result"
    }
   ],
   "source": [
    "x_size_heat = 8\n",
    "x_size_heat"
   ]
  },
  {
   "cell_type": "code",
   "execution_count": 11,
   "id": "disabled-beauty",
   "metadata": {
    "execution": {
     "iopub.execute_input": "2021-02-11T23:32:08.102099Z",
     "iopub.status.busy": "2021-02-11T23:32:08.098606Z",
     "iopub.status.idle": "2021-02-11T23:32:08.111127Z",
     "shell.execute_reply": "2021-02-11T23:32:08.103933Z"
    }
   },
   "outputs": [
    {
     "data": {
      "text/plain": [
       "6"
      ]
     },
     "execution_count": 9,
     "metadata": {},
     "output_type": "execute_result"
    }
   ],
   "source": [
    "y_size_heat = 6\n",
    "y_size_heat"
   ]
  },
  {
   "cell_type": "code",
   "execution_count": 12,
   "id": "dressed-barrel",
   "metadata": {
    "execution": {
     "iopub.execute_input": "2021-02-11T23:32:08.127185Z",
     "iopub.status.busy": "2021-02-11T23:32:08.123098Z",
     "iopub.status.idle": "2021-02-11T23:32:08.143083Z",
     "shell.execute_reply": "2021-02-11T23:32:08.128584Z"
    }
   },
   "outputs": [
    {
     "data": {
      "text/plain": [
       "8"
      ]
     },
     "execution_count": 10,
     "metadata": {},
     "output_type": "execute_result"
    }
   ],
   "source": [
    "x_size_dot = 8\n",
    "x_size_dot"
   ]
  },
  {
   "cell_type": "code",
   "execution_count": 13,
   "id": "valuable-record",
   "metadata": {
    "execution": {
     "iopub.execute_input": "2021-02-11T23:32:08.163587Z",
     "iopub.status.busy": "2021-02-11T23:32:08.159513Z",
     "iopub.status.idle": "2021-02-11T23:32:08.173264Z",
     "shell.execute_reply": "2021-02-11T23:32:08.165831Z"
    }
   },
   "outputs": [
    {
     "data": {
      "text/plain": [
       "6"
      ]
     },
     "execution_count": 11,
     "metadata": {},
     "output_type": "execute_result"
    }
   ],
   "source": [
    "y_size_dot = 6\n",
    "y_size_dot"
   ]
  }
 ],
 "metadata": {
  "appyter": {
   "nbconstruct": {
    "filename": "vignettes/MetENP_Appyter.ipynb",
    "files": {},
    "version": "0.12.0"
   },
   "nbexecute": {
    "completed": "2021-02-11T15:32:08.700301+00:00",
    "files": {},
    "started": "2021-02-11T15:32:02.944163+00:00",
    "version": "0.12.0"
   }
  },
  "kernelspec": {
   "display_name": "my-first-appyter",
   "language": "python",
   "name": "my-first-appyter"
  },
  "language_info": {
   "codemirror_mode": {
    "name": "ipython",
    "version": 3
   },
   "file_extension": ".py",
   "mimetype": "text/x-python",
   "name": "python",
   "nbconvert_exporter": "python",
   "pygments_lexer": "ipython3",
   "version": "3.8.5"
  }
 },
 "nbformat": 4,
 "nbformat_minor": 5
}
