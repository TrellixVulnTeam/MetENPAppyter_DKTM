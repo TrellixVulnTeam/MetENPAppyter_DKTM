{
 "cells": [
  {
   "cell_type": "code",
   "execution_count": 1,
   "id": "liquid-timber",
   "metadata": {
    "execution": {
     "iopub.execute_input": "2021-02-11T23:10:17.875587Z",
     "iopub.status.busy": "2021-02-11T23:10:17.873624Z",
     "iopub.status.idle": "2021-02-11T23:10:21.980118Z",
     "shell.execute_reply": "2021-02-11T23:10:21.980785Z"
    }
   },
   "outputs": [
    {
     "name": "stdout",
     "output_type": "stream",
     "text": [
      "3.4.2\n"
     ]
    },
    {
     "data": {
      "text/html": [
       "\n",
       "        <span>StrVector with 9 elements.</span>\n",
       "        <table>\n",
       "        <tbody>\n",
       "          <tr>\n",
       "          \n",
       "            <td>\n",
       "            'MetENP'\n",
       "            </td>\n",
       "          \n",
       "            <td>\n",
       "            'tools'\n",
       "            </td>\n",
       "          \n",
       "            <td>\n",
       "            'stats'\n",
       "            </td>\n",
       "          \n",
       "            <td>\n",
       "            ...\n",
       "            </td>\n",
       "          \n",
       "            <td>\n",
       "            'datasets'\n",
       "            </td>\n",
       "          \n",
       "            <td>\n",
       "            'methods'\n",
       "            </td>\n",
       "          \n",
       "            <td>\n",
       "            'base'\n",
       "            </td>\n",
       "          \n",
       "          </tr>\n",
       "        </tbody>\n",
       "        </table>\n",
       "        "
      ],
      "text/plain": [
       "<rpy2.robjects.vectors.StrVector object at 0x7fc6db0eae80> [RTYPES.STRSXP]\n",
       "R classes: ('character',)\n",
       "['MetENP', 'tools', 'stats', 'graphics', ..., 'utils', 'datasets', 'methods', 'base']"
      ]
     },
     "execution_count": 1,
     "metadata": {},
     "output_type": "execute_result"
    }
   ],
   "source": [
    "import rpy2\n",
    "print(rpy2.__version__)\n",
    "\n",
    "import rpy2.robjects as robjects\n",
    "\n",
    "import rpy2.robjects.packages as rpackages\n",
    "\n",
    "pi = robjects.r['pi']\n",
    "pi[0]\n",
    "\n",
    "robjects.r('''\n",
    "\n",
    "library(MetENP)''')"
   ]
  },
  {
   "cell_type": "code",
   "execution_count": null,
   "id": "posted-distributor",
   "metadata": {},
   "outputs": [],
   "source": []
  },
  {
   "cell_type": "code",
   "execution_count": null,
   "id": "angry-executive",
   "metadata": {},
   "outputs": [],
   "source": []
  },
  {
   "cell_type": "code",
   "execution_count": null,
   "id": "favorite-rabbit",
   "metadata": {},
   "outputs": [],
   "source": []
  },
  {
   "cell_type": "code",
   "execution_count": null,
   "id": "proof-crash",
   "metadata": {},
   "outputs": [],
   "source": []
  },
  {
   "cell_type": "code",
   "execution_count": 6,
   "id": "cosmetic-washer",
   "metadata": {
    "execution": {
     "iopub.execute_input": "2021-02-11T23:10:21.993178Z",
     "iopub.status.busy": "2021-02-11T23:10:21.989906Z",
     "iopub.status.idle": "2021-02-11T23:10:22.114955Z",
     "shell.execute_reply": "2021-02-11T23:10:22.116159Z"
    }
   },
   "outputs": [
    {
     "data": {
      "text/html": [
       "\n",
       "        <span>StrMatrix with 6 elements.</span>\n",
       "        <table>\n",
       "        <tbody>\n",
       "          <tr>\n",
       "          \n",
       "            <td>\n",
       "            'func...\n",
       "            </td>\n",
       "          \n",
       "            <td>\n",
       "            '    ...\n",
       "            </td>\n",
       "          \n",
       "            <td>\n",
       "            '{'\n",
       "            </td>\n",
       "          \n",
       "            <td>\n",
       "            '    ...\n",
       "            </td>\n",
       "          \n",
       "            <td>\n",
       "            '    ...\n",
       "            </td>\n",
       "          \n",
       "            <td>\n",
       "            '    ...\n",
       "            </td>\n",
       "          \n",
       "          </tr>\n",
       "        </tbody>\n",
       "        </table>\n",
       "        "
      ],
      "text/plain": [
       "<rpy2.robjects.vectors.StrMatrix object at 0x7fc6d8f33d40> [RTYPES.STRSXP]\n",
       "R classes: ('noquote',)\n",
       "['func..., '    ..., '{', '    ..., '    ..., '    ...]"
      ]
     },
     "execution_count": 2,
     "metadata": {},
     "output_type": "execute_result"
    }
   ],
   "source": [
    "data = robjects.r['getmwstudies']('ST000915', \n",
    "    ['factors']\n",
    ")\n",
    "robjects.r('''head(data)''')"
   ]
  },
  {
   "cell_type": "code",
   "execution_count": 7,
   "id": "differential-heath",
   "metadata": {
    "execution": {
     "iopub.execute_input": "2021-02-11T23:10:22.126174Z",
     "iopub.status.busy": "2021-02-11T23:10:22.123208Z",
     "iopub.status.idle": "2021-02-11T23:10:22.133740Z",
     "shell.execute_reply": "2021-02-11T23:10:22.128508Z"
    }
   },
   "outputs": [
    {
     "data": {
      "text/plain": [
       "['50percent']"
      ]
     },
     "execution_count": 3,
     "metadata": {},
     "output_type": "execute_result"
    }
   ],
   "source": [
    "normtype = ['50percent']\n",
    "normtype"
   ]
  },
  {
   "cell_type": "code",
   "execution_count": 8,
   "id": "liquid-retreat",
   "metadata": {
    "execution": {
     "iopub.execute_input": "2021-02-11T23:10:22.150889Z",
     "iopub.status.busy": "2021-02-11T23:10:22.147326Z",
     "iopub.status.idle": "2021-02-11T23:10:22.158342Z",
     "shell.execute_reply": "2021-02-11T23:10:22.152640Z"
    }
   },
   "outputs": [
    {
     "data": {
      "text/plain": [
       "0.05"
      ]
     },
     "execution_count": 4,
     "metadata": {},
     "output_type": "execute_result"
    }
   ],
   "source": [
    "pthres = '0.05'\n",
    "pthres = float(pthres)\n",
    "pthres"
   ]
  },
  {
   "cell_type": "code",
   "execution_count": 9,
   "id": "overall-tattoo",
   "metadata": {
    "execution": {
     "iopub.execute_input": "2021-02-11T23:10:22.176908Z",
     "iopub.status.busy": "2021-02-11T23:10:22.171942Z",
     "iopub.status.idle": "2021-02-11T23:10:22.185963Z",
     "shell.execute_reply": "2021-02-11T23:10:22.178289Z"
    }
   },
   "outputs": [
    {
     "data": {
      "text/plain": [
       "0.5"
      ]
     },
     "execution_count": 5,
     "metadata": {},
     "output_type": "execute_result"
    }
   ],
   "source": [
    "thres_log2foldchange = '0.5'\n",
    "thres_log2foldchange = float(thres_log2foldchange)\n",
    "thres_log2foldchange"
   ]
  },
  {
   "cell_type": "code",
   "execution_count": null,
   "id": "closing-swift",
   "metadata": {},
   "outputs": [],
   "source": []
  },
  {
   "cell_type": "code",
   "execution_count": 11,
   "id": "documented-recommendation",
   "metadata": {
    "execution": {
     "iopub.execute_input": "2021-02-11T23:10:22.203759Z",
     "iopub.status.busy": "2021-02-11T23:10:22.199122Z",
     "iopub.status.idle": "2021-02-11T23:10:22.211982Z",
     "shell.execute_reply": "2021-02-11T23:10:22.205470Z"
    }
   },
   "outputs": [
    {
     "data": {
      "text/plain": [
       "0.5"
      ]
     },
     "execution_count": 6,
     "metadata": {},
     "output_type": "execute_result"
    }
   ],
   "source": [
    "thres_log2foldchange_countclass = '0.5'\n",
    "thres_log2foldchange_countclass = float(thres_log2foldchange_countclass)\n",
    "thres_log2foldchange_countclass"
   ]
  },
  {
   "cell_type": "code",
   "execution_count": null,
   "id": "imposed-ranking",
   "metadata": {},
   "outputs": [],
   "source": []
  },
  {
   "cell_type": "code",
   "execution_count": 13,
   "id": "liberal-visibility",
   "metadata": {
    "execution": {
     "iopub.execute_input": "2021-02-11T23:10:22.233154Z",
     "iopub.status.busy": "2021-02-11T23:10:22.228396Z",
     "iopub.status.idle": "2021-02-11T23:10:22.242428Z",
     "shell.execute_reply": "2021-02-11T23:10:22.235367Z"
    }
   },
   "outputs": [
    {
     "data": {
      "text/plain": [
       "3"
      ]
     },
     "execution_count": 7,
     "metadata": {},
     "output_type": "execute_result"
    }
   ],
   "source": [
    "sigmets = 3\n",
    "sigmets"
   ]
  },
  {
   "cell_type": "code",
   "execution_count": 14,
   "id": "ahead-rebel",
   "metadata": {
    "execution": {
     "iopub.execute_input": "2021-02-11T23:10:22.258933Z",
     "iopub.status.busy": "2021-02-11T23:10:22.254815Z",
     "iopub.status.idle": "2021-02-11T23:10:22.266777Z",
     "shell.execute_reply": "2021-02-11T23:10:22.260466Z"
    }
   },
   "outputs": [
    {
     "data": {
      "text/plain": [
       "8"
      ]
     },
     "execution_count": 8,
     "metadata": {},
     "output_type": "execute_result"
    }
   ],
   "source": [
    "x_size_heat = 8\n",
    "x_size_heat"
   ]
  },
  {
   "cell_type": "code",
   "execution_count": 15,
   "id": "discrete-blocking",
   "metadata": {
    "execution": {
     "iopub.execute_input": "2021-02-11T23:10:22.287736Z",
     "iopub.status.busy": "2021-02-11T23:10:22.281854Z",
     "iopub.status.idle": "2021-02-11T23:10:22.297652Z",
     "shell.execute_reply": "2021-02-11T23:10:22.291678Z"
    }
   },
   "outputs": [
    {
     "data": {
      "text/plain": [
       "6"
      ]
     },
     "execution_count": 9,
     "metadata": {},
     "output_type": "execute_result"
    }
   ],
   "source": [
    "y_size_heat = 6\n",
    "y_size_heat"
   ]
  },
  {
   "cell_type": "code",
   "execution_count": 16,
   "id": "modern-annotation",
   "metadata": {
    "execution": {
     "iopub.execute_input": "2021-02-11T23:10:22.320154Z",
     "iopub.status.busy": "2021-02-11T23:10:22.310866Z",
     "iopub.status.idle": "2021-02-11T23:10:22.327860Z",
     "shell.execute_reply": "2021-02-11T23:10:22.322396Z"
    }
   },
   "outputs": [
    {
     "data": {
      "text/plain": [
       "8"
      ]
     },
     "execution_count": 10,
     "metadata": {},
     "output_type": "execute_result"
    }
   ],
   "source": [
    "x_size_dot = 8\n",
    "x_size_dot"
   ]
  },
  {
   "cell_type": "code",
   "execution_count": 17,
   "id": "normal-alberta",
   "metadata": {
    "execution": {
     "iopub.execute_input": "2021-02-11T23:10:22.345811Z",
     "iopub.status.busy": "2021-02-11T23:10:22.342377Z",
     "iopub.status.idle": "2021-02-11T23:10:22.351772Z",
     "shell.execute_reply": "2021-02-11T23:10:22.347148Z"
    }
   },
   "outputs": [
    {
     "data": {
      "text/plain": [
       "6"
      ]
     },
     "execution_count": 11,
     "metadata": {},
     "output_type": "execute_result"
    }
   ],
   "source": [
    "y_size_dot = 6\n",
    "y_size_dot"
   ]
  }
 ],
 "metadata": {
  "appyter": {
   "nbconstruct": {
    "filename": "vignettes/MetENP_Appyter.ipynb",
    "files": {},
    "version": "0.12.0"
   },
   "nbexecute": {
    "completed": "2021-02-11T15:10:23.834354+00:00",
    "files": {},
    "started": "2021-02-11T15:10:16.755837+00:00",
    "version": "0.12.0"
   }
  },
  "kernelspec": {
   "display_name": "my-first-appyter",
   "language": "python",
   "name": "my-first-appyter"
  },
  "language_info": {
   "codemirror_mode": {
    "name": "ipython",
    "version": 3
   },
   "file_extension": ".py",
   "mimetype": "text/x-python",
   "name": "python",
   "nbconvert_exporter": "python",
   "pygments_lexer": "ipython3",
   "version": "3.8.5"
  }
 },
 "nbformat": 4,
 "nbformat_minor": 5
}
