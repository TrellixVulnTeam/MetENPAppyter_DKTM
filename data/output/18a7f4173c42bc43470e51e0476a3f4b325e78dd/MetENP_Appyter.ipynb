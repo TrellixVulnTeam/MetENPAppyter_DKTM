{
 "cells": [
  {
   "cell_type": "code",
   "execution_count": 1,
   "id": "noted-canyon",
   "metadata": {
    "execution": {
     "iopub.execute_input": "2021-02-04T08:57:34.393397Z",
     "iopub.status.busy": "2021-02-04T08:57:34.390932Z",
     "iopub.status.idle": "2021-02-04T08:57:34.399727Z",
     "shell.execute_reply": "2021-02-04T08:57:34.398527Z"
    }
   },
   "outputs": [
    {
     "data": {
      "text/plain": [
       "['CCLE Cell Line Gene Expression Profiles',\n",
       " 'ENCODE transcription Factor Targets']"
      ]
     },
     "execution_count": 1,
     "metadata": {},
     "output_type": "execute_result"
    }
   ],
   "source": [
    "attribute_datasets = ['CCLE Cell Line Gene Expression Profiles', 'ENCODE transcription Factor Targets']\n",
    "attribute_datasets"
   ]
  },
  {
   "cell_type": "code",
   "execution_count": null,
   "id": "homeless-clarity",
   "metadata": {},
   "outputs": [],
   "source": []
  }
 ],
 "metadata": {
  "appyter": {
   "nbconstruct": {
    "filename": "vignettes/MetENP_Appyter.ipynb",
    "files": {},
    "version": "0.12.0"
   },
   "nbexecute": {
    "completed": "2021-02-04T00:57:34.610332+00:00",
    "files": {},
    "started": "2021-02-04T00:57:32.649895+00:00",
    "version": "0.12.0"
   }
  },
  "kernelspec": {
   "display_name": "my-first-appyter",
   "language": "python",
   "name": "my-first-appyter"
  },
  "language_info": {
   "codemirror_mode": {
    "name": "ipython",
    "version": 3
   },
   "file_extension": ".py",
   "mimetype": "text/x-python",
   "name": "python",
   "nbconvert_exporter": "python",
   "pygments_lexer": "ipython3",
   "version": "3.8.5"
  }
 },
 "nbformat": 4,
 "nbformat_minor": 5
}
