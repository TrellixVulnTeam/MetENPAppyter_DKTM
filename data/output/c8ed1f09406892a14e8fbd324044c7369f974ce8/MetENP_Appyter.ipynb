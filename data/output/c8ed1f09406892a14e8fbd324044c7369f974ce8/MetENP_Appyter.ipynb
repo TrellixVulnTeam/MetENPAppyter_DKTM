{
 "cells": [
  {
   "cell_type": "code",
   "execution_count": 1,
   "id": "liquid-timber",
   "metadata": {
    "execution": {
     "iopub.execute_input": "2021-02-17T20:16:12.873815Z",
     "iopub.status.busy": "2021-02-17T20:16:12.871576Z",
     "iopub.status.idle": "2021-02-17T20:16:18.349317Z",
     "shell.execute_reply": "2021-02-17T20:16:18.350547Z"
    }
   },
   "outputs": [
    {
     "name": "stdout",
     "output_type": "stream",
     "text": [
      "3.4.2\n"
     ]
    },
    {
     "data": {
      "text/html": [
       "\n",
       "        <span>StrVector with 9 elements.</span>\n",
       "        <table>\n",
       "        <tbody>\n",
       "          <tr>\n",
       "          \n",
       "            <td>\n",
       "            'MetENP'\n",
       "            </td>\n",
       "          \n",
       "            <td>\n",
       "            'tools'\n",
       "            </td>\n",
       "          \n",
       "            <td>\n",
       "            'stats'\n",
       "            </td>\n",
       "          \n",
       "            <td>\n",
       "            ...\n",
       "            </td>\n",
       "          \n",
       "            <td>\n",
       "            'datasets'\n",
       "            </td>\n",
       "          \n",
       "            <td>\n",
       "            'methods'\n",
       "            </td>\n",
       "          \n",
       "            <td>\n",
       "            'base'\n",
       "            </td>\n",
       "          \n",
       "          </tr>\n",
       "        </tbody>\n",
       "        </table>\n",
       "        "
      ],
      "text/plain": [
       "<rpy2.robjects.vectors.StrVector object at 0x7fe951ef2e80> [RTYPES.STRSXP]\n",
       "R classes: ('character',)\n",
       "['MetENP', 'tools', 'stats', 'graphics', ..., 'utils', 'datasets', 'methods', 'base']"
      ]
     },
     "execution_count": 1,
     "metadata": {},
     "output_type": "execute_result"
    }
   ],
   "source": [
    "import rpy2\n",
    "import rpy2.robjects as robjects\n",
    "import rpy2.robjects.packages as rpackages\n",
    "\n",
    "from rpy2.robjects import numpy2ri, pandas2ri\n",
    "#numpy2ri.activate()\n",
    "#pandas2ri.activate()\n",
    "\n",
    "#numpy2ri.deactivate()\n",
    "#pandas2ri.deactivate()\n",
    "\n",
    "print(rpy2.__version__)\n",
    "\n",
    "robjects.r('''\n",
    "\n",
    "library(MetENP)\n",
    "\n",
    "''')\n",
    "\n",
    "#bring this variable into R\n",
    "#r['study_id'] = {{ study_id }}\n",
    "#r('head(study_id)')"
   ]
  },
  {
   "cell_type": "code",
   "execution_count": 2,
   "id": "expensive-wheel",
   "metadata": {
    "execution": {
     "iopub.execute_input": "2021-02-17T20:16:18.366542Z",
     "iopub.status.busy": "2021-02-17T20:16:18.362384Z",
     "iopub.status.idle": "2021-02-17T20:16:34.392135Z",
     "shell.execute_reply": "2021-02-17T20:16:34.393380Z"
    }
   },
   "outputs": [],
   "source": [
    "data_1 = robjects.r['getmwstudies']('ST000915', \n",
    "    'data'\n",
    ")"
   ]
  },
  {
   "cell_type": "code",
   "execution_count": 3,
   "id": "roman-documentation",
   "metadata": {
    "execution": {
     "iopub.execute_input": "2021-02-17T20:16:34.405504Z",
     "iopub.status.busy": "2021-02-17T20:16:34.402132Z",
     "iopub.status.idle": "2021-02-17T20:16:34.419326Z",
     "shell.execute_reply": "2021-02-17T20:16:34.421234Z"
    }
   },
   "outputs": [
    {
     "data": {
      "text/html": [
       "\n",
       "        <span>R/rpy2 DataFrame (6 x 93)</span>\n",
       "        <table>\n",
       "          <thead>\n",
       "            <tr>\n",
       "              \n",
       "              <th>analysis_id</th>\n",
       "              \n",
       "              <th>analysis_summary</th>\n",
       "              \n",
       "              <th>metabolite_name</th>\n",
       "              \n",
       "              <th>...</th>\n",
       "              \n",
       "              <th>NASH069</th>\n",
       "              \n",
       "              <th>NASH070</th>\n",
       "              \n",
       "              <th>NASH074</th>\n",
       "              \n",
       "            </tr>\n",
       "          </thead>\n",
       "          <tbody>\n",
       "          \n",
       "          <tr>\n",
       "            \n",
       "            <td>\n",
       "              StrSe...\n",
       "            </td>\n",
       "            \n",
       "            <td>\n",
       "              StrSe...\n",
       "            </td>\n",
       "            \n",
       "            <td>\n",
       "              StrSe...\n",
       "            </td>\n",
       "            \n",
       "            <td>\n",
       "              ...\n",
       "            </td>\n",
       "            \n",
       "            <td>\n",
       "              NA_character_\n",
       "            </td>\n",
       "            \n",
       "            <td>\n",
       "              NA_character_\n",
       "            </td>\n",
       "            \n",
       "            <td>\n",
       "              NA_character_\n",
       "            </td>\n",
       "            \n",
       "          </tr>\n",
       "          \n",
       "          <tr>\n",
       "            \n",
       "            <td>\n",
       "              StrSe...\n",
       "            </td>\n",
       "            \n",
       "            <td>\n",
       "              StrSe...\n",
       "            </td>\n",
       "            \n",
       "            <td>\n",
       "              StrSe...\n",
       "            </td>\n",
       "            \n",
       "            <td>\n",
       "              \n",
       "            </td>\n",
       "            \n",
       "            <td>\n",
       "              '0.25...\n",
       "            </td>\n",
       "            \n",
       "            <td>\n",
       "              '0.03...\n",
       "            </td>\n",
       "            \n",
       "            <td>\n",
       "              '0.05...\n",
       "            </td>\n",
       "            \n",
       "          </tr>\n",
       "          \n",
       "          <tr>\n",
       "            \n",
       "            <td>\n",
       "              StrSe...\n",
       "            </td>\n",
       "            \n",
       "            <td>\n",
       "              StrSe...\n",
       "            </td>\n",
       "            \n",
       "            <td>\n",
       "              StrSe...\n",
       "            </td>\n",
       "            \n",
       "            <td>\n",
       "              \n",
       "            </td>\n",
       "            \n",
       "            <td>\n",
       "              '0.05...\n",
       "            </td>\n",
       "            \n",
       "            <td>\n",
       "              '0.08...\n",
       "            </td>\n",
       "            \n",
       "            <td>\n",
       "              '0.10...\n",
       "            </td>\n",
       "            \n",
       "          </tr>\n",
       "          \n",
       "          <tr>\n",
       "            \n",
       "            <td>\n",
       "              StrSe...\n",
       "            </td>\n",
       "            \n",
       "            <td>\n",
       "              StrSe...\n",
       "            </td>\n",
       "            \n",
       "            <td>\n",
       "              StrSe...\n",
       "            </td>\n",
       "            \n",
       "            <td>\n",
       "              \n",
       "            </td>\n",
       "            \n",
       "            <td>\n",
       "              '0.00...\n",
       "            </td>\n",
       "            \n",
       "            <td>\n",
       "              NA_character_\n",
       "            </td>\n",
       "            \n",
       "            <td>\n",
       "              NA_character_\n",
       "            </td>\n",
       "            \n",
       "          </tr>\n",
       "          \n",
       "          <tr>\n",
       "            \n",
       "            <td>\n",
       "              StrSe...\n",
       "            </td>\n",
       "            \n",
       "            <td>\n",
       "              StrSe...\n",
       "            </td>\n",
       "            \n",
       "            <td>\n",
       "              StrSe...\n",
       "            </td>\n",
       "            \n",
       "            <td>\n",
       "              \n",
       "            </td>\n",
       "            \n",
       "            <td>\n",
       "              '0.01...\n",
       "            </td>\n",
       "            \n",
       "            <td>\n",
       "              '0.00...\n",
       "            </td>\n",
       "            \n",
       "            <td>\n",
       "              '0.01...\n",
       "            </td>\n",
       "            \n",
       "          </tr>\n",
       "          \n",
       "          <tr>\n",
       "            \n",
       "            <td>\n",
       "              StrSe...\n",
       "            </td>\n",
       "            \n",
       "            <td>\n",
       "              StrSe...\n",
       "            </td>\n",
       "            \n",
       "            <td>\n",
       "              StrSe...\n",
       "            </td>\n",
       "            \n",
       "            <td>\n",
       "              \n",
       "            </td>\n",
       "            \n",
       "            <td>\n",
       "              '0.00...\n",
       "            </td>\n",
       "            \n",
       "            <td>\n",
       "              '0.00...\n",
       "            </td>\n",
       "            \n",
       "            <td>\n",
       "              '0.01...\n",
       "            </td>\n",
       "            \n",
       "          </tr>\n",
       "          \n",
       "          </tbody>\n",
       "        </table>\n",
       "    "
      ],
      "text/plain": [
       "<rpy2.robjects.vectors.DataFrame object at 0x7fe951e45a00> [RTYPES.VECSXP]\n",
       "R classes: ('tbl_df', 'tbl', 'data.frame')\n",
       "[ListSexpV..., ListSexpV..., ListSexpV..., ListSexpV..., ..., StrSexpVe..., StrSexpVe..., StrSexpVe..., StrSexpVe...]\n",
       "<rpy2.robjects.vectors.DataFrame object at 0x7fe951e45a00> [RTYPES.VECSXP]\n",
       "R classes: ('tbl_df', 'tbl', 'data.frame')\n",
       "[ListSexpV..., ListSexpV..., ListSexpV..., ListSexpV..., ..., StrSexpVe..., StrSexpVe..., StrSexpVe..., StrSexpVe...]\n",
       "<rpy2.robjects.vectors.DataFrame object at 0x7fe951e45a00> [RTYPES.VECSXP]\n",
       "R classes: ('tbl_df', 'tbl', 'data.frame')\n",
       "[ListSexpV..., ListSexpV..., ListSexpV..., ListSexpV..., ..., StrSexpVe..., StrSexpVe..., StrSexpVe..., StrSexpVe...]\n",
       "<rpy2.robjects.vectors.DataFrame object at 0x7fe951e45a00> [RTYPES.VECSXP]\n",
       "R classes: ('tbl_df', 'tbl', 'data.frame')\n",
       "[ListSexpV..., ListSexpV..., ListSexpV..., ListSexpV..., ..., StrSexpVe..., StrSexpVe..., StrSexpVe..., StrSexpVe...]\n",
       "<rpy2.robjects.vectors.DataFrame object at 0x7fe951e45a00> [RTYPES.VECSXP]\n",
       "R classes: ('tbl_df', 'tbl', 'data.frame')\n",
       "[ListSexpV..., ListSexpV..., ListSexpV..., ListSexpV..., ..., StrSexpVe..., StrSexpVe..., StrSexpVe..., StrSexpVe...]\n",
       "...\n",
       "  NASH001: <class 'rpy2.robjects.vectors.StrVector'>\n",
       "  <rpy2.robjects.vectors.StrVector object at 0x7fe9562d0e80> [RTYPES.STRSXP]\n",
       "R classes: ('character',)\n",
       "[NA_character_, '0.24..., '0.10..., NA_character_, '0.01..., '0.03...]\n",
       "  NASH002: <class 'rpy2.robjects.vectors.StrVector'>\n",
       "  <rpy2.robjects.vectors.StrVector object at 0x7fe93e199940> [RTYPES.STRSXP]\n",
       "R classes: ('character',)\n",
       "[NA_character_, '0.25..., '0.05..., '0.00..., '0.01..., '0.00...]\n",
       "  NASH003: <class 'rpy2.robjects.vectors.StrVector'>\n",
       "  <rpy2.robjects.vectors.StrVector object at 0x7fe93e199140> [RTYPES.STRSXP]\n",
       "R classes: ('character',)\n",
       "[NA_character_, '0.03..., '0.08..., NA_character_, '0.00..., '0.00...]\n",
       "  NASH004: <class 'rpy2.robjects.vectors.StrVector'>\n",
       "  <rpy2.robjects.vectors.StrVector object at 0x7fe93e199900> [RTYPES.STRSXP]\n",
       "R classes: ('character',)\n",
       "[NA_character_, '0.05..., '0.10..., NA_character_, '0.01..., '0.01...]"
      ]
     },
     "execution_count": 3,
     "metadata": {},
     "output_type": "execute_result"
    }
   ],
   "source": [
    "#TODO: outputs are not the same type as the original vignette\n",
    "robjects.r['head'](data_1)"
   ]
  },
  {
   "cell_type": "code",
   "execution_count": 4,
   "id": "cutting-fiction",
   "metadata": {
    "execution": {
     "iopub.execute_input": "2021-02-17T20:16:34.440197Z",
     "iopub.status.busy": "2021-02-17T20:16:34.433625Z",
     "iopub.status.idle": "2021-02-17T20:16:34.451559Z",
     "shell.execute_reply": "2021-02-17T20:16:34.447877Z"
    }
   },
   "outputs": [
    {
     "data": {
      "text/html": [
       "\n",
       "        <span>BoolVector with 1 elements.</span>\n",
       "        <table>\n",
       "        <tbody>\n",
       "          <tr>\n",
       "          \n",
       "            <td>\n",
       "                   1\n",
       "            </td>\n",
       "          \n",
       "          </tr>\n",
       "        </tbody>\n",
       "        </table>\n",
       "        "
      ],
      "text/plain": [
       "<rpy2.robjects.vectors.BoolVector object at 0x7fe93e19de80> [RTYPES.LGLSXP]\n",
       "R classes: ('logical',)\n",
       "[       1]"
      ]
     },
     "execution_count": 4,
     "metadata": {},
     "output_type": "execute_result"
    }
   ],
   "source": [
    "robjects.r['is.data.frame'](data_1)\n",
    "#print(type(data_1))"
   ]
  },
  {
   "cell_type": "code",
   "execution_count": 5,
   "id": "normal-asset",
   "metadata": {
    "execution": {
     "iopub.execute_input": "2021-02-17T20:16:34.478333Z",
     "iopub.status.busy": "2021-02-17T20:16:34.470571Z",
     "iopub.status.idle": "2021-02-17T20:16:34.527549Z",
     "shell.execute_reply": "2021-02-17T20:16:34.530479Z"
    }
   },
   "outputs": [],
   "source": [
    "metadata = robjects.r['getmwstudies']('ST000915', \n",
    "    'factors'\n",
    ")"
   ]
  },
  {
   "cell_type": "code",
   "execution_count": 6,
   "id": "approximate-election",
   "metadata": {
    "execution": {
     "iopub.execute_input": "2021-02-17T20:16:34.543727Z",
     "iopub.status.busy": "2021-02-17T20:16:34.540733Z",
     "iopub.status.idle": "2021-02-17T20:16:34.551322Z",
     "shell.execute_reply": "2021-02-17T20:16:34.552637Z"
    }
   },
   "outputs": [
    {
     "data": {
      "text/html": [
       "\n",
       "        <span>R/rpy2 DataFrame (6 x 5)</span>\n",
       "        <table>\n",
       "          <thead>\n",
       "            <tr>\n",
       "              \n",
       "              <th>study_id</th>\n",
       "              \n",
       "              <th>local_sample_id</th>\n",
       "              \n",
       "              <th>subject_type</th>\n",
       "              \n",
       "              <th>factors</th>\n",
       "              \n",
       "              <th>Diagnosis</th>\n",
       "              \n",
       "            </tr>\n",
       "          </thead>\n",
       "          <tbody>\n",
       "          \n",
       "          <tr>\n",
       "            \n",
       "            <td>\n",
       "              ...\n",
       "            </td>\n",
       "            \n",
       "            <td>\n",
       "              ...\n",
       "            </td>\n",
       "            \n",
       "            <td>\n",
       "              ...\n",
       "            </td>\n",
       "            \n",
       "            <td>\n",
       "              ...\n",
       "            </td>\n",
       "            \n",
       "            <td>\n",
       "              ...\n",
       "            </td>\n",
       "            \n",
       "          </tr>\n",
       "          \n",
       "          </tbody>\n",
       "        </table>\n",
       "    "
      ],
      "text/plain": [
       "<rpy2.robjects.vectors.DataFrame object at 0x7fe9562afdc0> [RTYPES.VECSXP]\n",
       "R classes: ('data.frame',)\n",
       "[ListSex..., ListSex..., ListSex..., ListSex..., StrSexp...]\n",
       "  study_id: <class 'rpy2.rinterface.ListSexpVector'>\n",
       "  <rpy2.rinterface.ListSexpVector object at 0x7fe93e19fdc0> [RTYPES.VECSXP]\n",
       "  local_sample_id: <class 'rpy2.rinterface.ListSexpVector'>\n",
       "  <rpy2.rinterface.ListSexpVector object at 0x7fe93e1a8340> [RTYPES.VECSXP]\n",
       "  subject_type: <class 'rpy2.rinterface.ListSexpVector'>\n",
       "  <rpy2.rinterface.ListSexpVector object at 0x7fe93e1a8540> [RTYPES.VECSXP]\n",
       "  factors: <class 'rpy2.rinterface.ListSexpVector'>\n",
       "  <rpy2.rinterface.ListSexpVector object at 0x7fe93e1a8680> [RTYPES.VECSXP]\n",
       "  Diagnosis: <class 'rpy2.rinterface_lib.sexp.StrSexpVector'>\n",
       "  <rpy2.rinterface_lib.sexp.StrSexpVector object at 0x7fe93e1a8800> [RTYPES.STRSXP]"
      ]
     },
     "execution_count": 6,
     "metadata": {},
     "output_type": "execute_result"
    }
   ],
   "source": [
    "robjects.r['head'](metadata)"
   ]
  },
  {
   "cell_type": "markdown",
   "id": "alone-consultancy",
   "metadata": {},
   "source": [
    "Find the factors you would want to compare\n",
    "Multiple factors (independent variables) are formatted in multiple columns but you can get information on all the factors by \"factors\" column, such as 'TreatmentGroup:Prednisolone', this indicates column name 'TreatmentGroup' with factor Prednisolone. For t-test use the factors in the same column. For comparing multipe independent variables use anova by anova_ana function."
   ]
  },
  {
   "cell_type": "markdown",
   "id": "tired-sydney",
   "metadata": {},
   "source": [
    "### Associate metabolomics data to the refmet class"
   ]
  },
  {
   "cell_type": "code",
   "execution_count": 7,
   "id": "global-vocabulary",
   "metadata": {
    "execution": {
     "iopub.execute_input": "2021-02-17T20:16:34.567971Z",
     "iopub.status.busy": "2021-02-17T20:16:34.563524Z",
     "iopub.status.idle": "2021-02-17T20:16:34.803374Z",
     "shell.execute_reply": "2021-02-17T20:16:34.804081Z"
    }
   },
   "outputs": [
    {
     "ename": "NameError",
     "evalue": "name 'convert_refmet' is not defined",
     "output_type": "error",
     "traceback": [
      "\u001b[0;31m---------------------------------------------------------------------------\u001b[0m",
      "\u001b[0;31mNameError\u001b[0m                                 Traceback (most recent call last)",
      "\u001b[0;32m<ipython-input-7-3875d7f6bd06>\u001b[0m in \u001b[0;36m<module>\u001b[0;34m\u001b[0m\n\u001b[0;32m----> 1\u001b[0;31m \u001b[0mrefmet_class\u001b[0m \u001b[0;34m=\u001b[0m \u001b[0mconvert_refmet\u001b[0m\u001b[0;34m(\u001b[0m\u001b[0mdata_1\u001b[0m\u001b[0;34m)\u001b[0m\u001b[0;34m\u001b[0m\u001b[0;34m\u001b[0m\u001b[0m\n\u001b[0m\u001b[1;32m      2\u001b[0m \u001b[0;34m\u001b[0m\u001b[0m\n",
      "\u001b[0;31mNameError\u001b[0m: name 'convert_refmet' is not defined"
     ]
    }
   ],
   "source": [
    "refmet_class = convert_refmet(data_1)\n",
    "\n"
   ]
  },
  {
   "cell_type": "code",
   "execution_count": null,
   "id": "protecting-cycling",
   "metadata": {},
   "outputs": [],
   "source": [
    "normtype = ['50percent']\n",
    "normtype"
   ]
  },
  {
   "cell_type": "code",
   "execution_count": null,
   "id": "major-watershed",
   "metadata": {},
   "outputs": [],
   "source": [
    "pthres = '0.05'\n",
    "pthres = float(pthres)\n",
    "pthres"
   ]
  },
  {
   "cell_type": "code",
   "execution_count": null,
   "id": "quiet-appearance",
   "metadata": {},
   "outputs": [],
   "source": [
    "thres_log2foldchange = '0.5'\n",
    "thres_log2foldchange = float(thres_log2foldchange)\n",
    "thres_log2foldchange"
   ]
  },
  {
   "cell_type": "code",
   "execution_count": null,
   "id": "closing-swift",
   "metadata": {},
   "outputs": [],
   "source": []
  },
  {
   "cell_type": "code",
   "execution_count": null,
   "id": "floating-observer",
   "metadata": {},
   "outputs": [],
   "source": [
    "thres_log2foldchange_countclass = '0.5'\n",
    "thres_log2foldchange_countclass = float(thres_log2foldchange_countclass)\n",
    "thres_log2foldchange_countclass"
   ]
  },
  {
   "cell_type": "code",
   "execution_count": null,
   "id": "imposed-ranking",
   "metadata": {},
   "outputs": [],
   "source": []
  },
  {
   "cell_type": "code",
   "execution_count": null,
   "id": "suitable-gabriel",
   "metadata": {},
   "outputs": [],
   "source": [
    "sigmets = 3\n",
    "sigmets"
   ]
  },
  {
   "cell_type": "code",
   "execution_count": null,
   "id": "respective-mexico",
   "metadata": {},
   "outputs": [],
   "source": [
    "x_size_heat = 8\n",
    "x_size_heat"
   ]
  },
  {
   "cell_type": "code",
   "execution_count": null,
   "id": "valued-factor",
   "metadata": {},
   "outputs": [],
   "source": [
    "y_size_heat = 6\n",
    "y_size_heat"
   ]
  },
  {
   "cell_type": "code",
   "execution_count": null,
   "id": "bottom-newspaper",
   "metadata": {},
   "outputs": [],
   "source": [
    "x_size_dot = 8\n",
    "x_size_dot"
   ]
  },
  {
   "cell_type": "code",
   "execution_count": null,
   "id": "neural-annual",
   "metadata": {},
   "outputs": [],
   "source": [
    "y_size_dot = 6\n",
    "y_size_dot"
   ]
  }
 ],
 "metadata": {
  "appyter": {
   "nbconstruct": {
    "filename": "vignettes/MetENP_Appyter.ipynb",
    "files": {},
    "version": "0.12.0"
   },
   "nbexecute": {
    "completed": "2021-02-17T12:16:35.429618+00:00",
    "files": {},
    "started": "2021-02-17T12:16:11.218694+00:00",
    "version": "0.12.0"
   }
  },
  "kernelspec": {
   "display_name": "my-first-appyter",
   "language": "python",
   "name": "my-first-appyter"
  },
  "language_info": {
   "codemirror_mode": {
    "name": "ipython",
    "version": 3
   },
   "file_extension": ".py",
   "mimetype": "text/x-python",
   "name": "python",
   "nbconvert_exporter": "python",
   "pygments_lexer": "ipython3",
   "version": "3.8.5"
  }
 },
 "nbformat": 4,
 "nbformat_minor": 5
}
