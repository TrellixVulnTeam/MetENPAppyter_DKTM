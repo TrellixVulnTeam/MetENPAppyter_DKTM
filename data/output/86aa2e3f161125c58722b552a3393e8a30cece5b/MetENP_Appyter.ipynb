{
 "cells": [
  {
   "cell_type": "code",
   "execution_count": 1,
   "id": "liquid-timber",
   "metadata": {
    "execution": {
     "iopub.execute_input": "2021-02-12T00:14:11.023123Z",
     "iopub.status.busy": "2021-02-12T00:14:11.017733Z",
     "iopub.status.idle": "2021-02-12T00:14:17.038938Z",
     "shell.execute_reply": "2021-02-12T00:14:17.039732Z"
    }
   },
   "outputs": [
    {
     "name": "stdout",
     "output_type": "stream",
     "text": [
      "3.4.2\n"
     ]
    },
    {
     "data": {
      "text/html": [
       "\n",
       "        <span>StrVector with 9 elements.</span>\n",
       "        <table>\n",
       "        <tbody>\n",
       "          <tr>\n",
       "          \n",
       "            <td>\n",
       "            'MetENP'\n",
       "            </td>\n",
       "          \n",
       "            <td>\n",
       "            'tools'\n",
       "            </td>\n",
       "          \n",
       "            <td>\n",
       "            'stats'\n",
       "            </td>\n",
       "          \n",
       "            <td>\n",
       "            ...\n",
       "            </td>\n",
       "          \n",
       "            <td>\n",
       "            'datasets'\n",
       "            </td>\n",
       "          \n",
       "            <td>\n",
       "            'methods'\n",
       "            </td>\n",
       "          \n",
       "            <td>\n",
       "            'base'\n",
       "            </td>\n",
       "          \n",
       "          </tr>\n",
       "        </tbody>\n",
       "        </table>\n",
       "        "
      ],
      "text/plain": [
       "<rpy2.robjects.vectors.StrVector object at 0x7fc3609e0e80> [RTYPES.STRSXP]\n",
       "R classes: ('character',)\n",
       "['MetENP', 'tools', 'stats', 'graphics', ..., 'utils', 'datasets', 'methods', 'base']"
      ]
     },
     "execution_count": 1,
     "metadata": {},
     "output_type": "execute_result"
    }
   ],
   "source": [
    "import rpy2\n",
    "import rpy2.robjects as robjects\n",
    "import rpy2.robjects.packages as rpackages\n",
    "print(rpy2.__version__)\n",
    "\n",
    "robjects.r('''\n",
    "\n",
    "library(MetENP)''')"
   ]
  },
  {
   "cell_type": "code",
   "execution_count": 2,
   "id": "african-shannon",
   "metadata": {
    "execution": {
     "iopub.execute_input": "2021-02-12T00:14:17.058309Z",
     "iopub.status.busy": "2021-02-12T00:14:17.050195Z",
     "iopub.status.idle": "2021-02-12T00:14:17.066454Z",
     "shell.execute_reply": "2021-02-12T00:14:17.064871Z"
    }
   },
   "outputs": [
    {
     "data": {
      "text/plain": [
       "'%%appyter code_hide \\n\\n{% set studyOrg = StringField(name=\\'studyOrg\\', label=\\'KEGG Organism Code\\', description = \"hsa for human, mmu for mouse, eco for E. coli. See https://www.genome.jp/kegg/catalog/org_list.html for all organisms\", default=\\'hsa\\', section=\\'INPUT\\') %}\\nstudyOrg'"
      ]
     },
     "execution_count": 2,
     "metadata": {},
     "output_type": "execute_result"
    }
   ],
   "source": [
    "'''%%appyter code_hide \n",
    "\n",
    "{% set studyOrg = StringField(name='studyOrg', label='KEGG Organism Code', description = \"hsa for human, mmu for mouse, eco for E. coli. See https://www.genome.jp/kegg/catalog/org_list.html for all organisms\", default='hsa', section='INPUT') %}\n",
    "studyOrg'''"
   ]
  },
  {
   "cell_type": "code",
   "execution_count": 3,
   "id": "center-hollywood",
   "metadata": {
    "execution": {
     "iopub.execute_input": "2021-02-12T00:14:17.089089Z",
     "iopub.status.busy": "2021-02-12T00:14:17.083383Z",
     "iopub.status.idle": "2021-02-12T00:14:33.689314Z",
     "shell.execute_reply": "2021-02-12T00:14:33.692751Z"
    }
   },
   "outputs": [
    {
     "name": "stdout",
     "output_type": "stream",
     "text": [
      "<class 'rpy2.robjects.vectors.DataFrame'>\n"
     ]
    },
    {
     "name": "stdout",
     "output_type": "stream",
     "text": [
      "\u001b[90m# A tibble: 542 x 93\u001b[39m\n",
      "   analysis_id analysis_summary metabolite_name metabolite_id refmet_name\n",
      "   \u001b[3m\u001b[90m<named lis>\u001b[39m\u001b[23m \u001b[3m\u001b[90m<named list>\u001b[39m\u001b[23m     \u001b[3m\u001b[90m<named list>\u001b[39m\u001b[23m    \u001b[3m\u001b[90m<named list>\u001b[39m\u001b[23m  \u001b[3m\u001b[90m<named lis>\u001b[39m\u001b[23m\n",
      "\u001b[90m 1\u001b[39m \u001b[90m<chr [1]>\u001b[39m   \u001b[90m<chr [1]>\u001b[39m        \u001b[90m<chr [1]>\u001b[39m       \u001b[90m<chr [1]>\u001b[39m     \u001b[90m<chr [1]>\u001b[39m  \n",
      "\u001b[90m 2\u001b[39m \u001b[90m<chr [1]>\u001b[39m   \u001b[90m<chr [1]>\u001b[39m        \u001b[90m<chr [1]>\u001b[39m       \u001b[90m<chr [1]>\u001b[39m     \u001b[90m<chr [1]>\u001b[39m  \n",
      "\u001b[90m 3\u001b[39m \u001b[90m<chr [1]>\u001b[39m   \u001b[90m<chr [1]>\u001b[39m        \u001b[90m<chr [1]>\u001b[39m       \u001b[90m<chr [1]>\u001b[39m     \u001b[90m<chr [1]>\u001b[39m  \n",
      "\u001b[90m 4\u001b[39m \u001b[90m<chr [1]>\u001b[39m   \u001b[90m<chr [1]>\u001b[39m        \u001b[90m<chr [1]>\u001b[39m       \u001b[90m<chr [1]>\u001b[39m     \u001b[90m<chr [1]>\u001b[39m  \n",
      "\u001b[90m 5\u001b[39m \u001b[90m<chr [1]>\u001b[39m   \u001b[90m<chr [1]>\u001b[39m        \u001b[90m<chr [1]>\u001b[39m       \u001b[90m<chr [1]>\u001b[39m     \u001b[90m<chr [1]>\u001b[39m  \n",
      "\u001b[90m 6\u001b[39m \u001b[90m<chr [1]>\u001b[39m   \u001b[90m<chr [1]>\u001b[39m        \u001b[90m<chr [1]>\u001b[39m       \u001b[90m<chr [1]>\u001b[39m     \u001b[90m<chr [1]>\u001b[39m  \n",
      "\u001b[90m 7\u001b[39m \u001b[90m<chr [1]>\u001b[39m   \u001b[90m<chr [1]>\u001b[39m        \u001b[90m<chr [1]>\u001b[39m       \u001b[90m<chr [1]>\u001b[39m     \u001b[90m<chr [1]>\u001b[39m  \n",
      "\u001b[90m 8\u001b[39m \u001b[90m<chr [1]>\u001b[39m   \u001b[90m<chr [1]>\u001b[39m        \u001b[90m<chr [1]>\u001b[39m       \u001b[90m<chr [1]>\u001b[39m     \u001b[90m<chr [1]>\u001b[39m  \n",
      "\u001b[90m 9\u001b[39m \u001b[90m<chr [1]>\u001b[39m   \u001b[90m<chr [1]>\u001b[39m        \u001b[90m<chr [1]>\u001b[39m       \u001b[90m<chr [1]>\u001b[39m     \u001b[90m<chr [1]>\u001b[39m  \n",
      "\u001b[90m10\u001b[39m \u001b[90m<chr [1]>\u001b[39m   \u001b[90m<chr [1]>\u001b[39m        \u001b[90m<chr [1]>\u001b[39m       \u001b[90m<chr [1]>\u001b[39m     \u001b[90m<chr [1]>\u001b[39m  \n",
      "\u001b[90m# … with 532 more rows, and 88 more variables: NASH001 \u001b[3m\u001b[90m<chr>\u001b[90m\u001b[23m, NASH002 \u001b[3m\u001b[90m<chr>\u001b[90m\u001b[23m,\u001b[39m\n",
      "\u001b[90m#   NASH003 \u001b[3m\u001b[90m<chr>\u001b[90m\u001b[23m, NASH004 \u001b[3m\u001b[90m<chr>\u001b[90m\u001b[23m, NASH005 \u001b[3m\u001b[90m<chr>\u001b[90m\u001b[23m, NASH006 \u001b[3m\u001b[90m<chr>\u001b[90m\u001b[23m, NASH007 \u001b[3m\u001b[90m<chr>\u001b[90m\u001b[23m,\u001b[39m\n",
      "\u001b[90m#   NASH009 \u001b[3m\u001b[90m<chr>\u001b[90m\u001b[23m, NASH010 \u001b[3m\u001b[90m<chr>\u001b[90m\u001b[23m, NASH012 \u001b[3m\u001b[90m<chr>\u001b[90m\u001b[23m, NASH013 \u001b[3m\u001b[90m<chr>\u001b[90m\u001b[23m, NASH014 \u001b[3m\u001b[90m<chr>\u001b[90m\u001b[23m,\u001b[39m\n",
      "\u001b[90m#   NASH015 \u001b[3m\u001b[90m<chr>\u001b[90m\u001b[23m, NASH016 \u001b[3m\u001b[90m<chr>\u001b[90m\u001b[23m, NASH017 \u001b[3m\u001b[90m<chr>\u001b[90m\u001b[23m, NASH018 \u001b[3m\u001b[90m<chr>\u001b[90m\u001b[23m, NASH057 \u001b[3m\u001b[90m<chr>\u001b[90m\u001b[23m,\u001b[39m\n",
      "\u001b[90m#   NASH071 \u001b[3m\u001b[90m<chr>\u001b[90m\u001b[23m, NASH072 \u001b[3m\u001b[90m<chr>\u001b[90m\u001b[23m, NASH073 \u001b[3m\u001b[90m<chr>\u001b[90m\u001b[23m, NASH075 \u001b[3m\u001b[90m<chr>\u001b[90m\u001b[23m, NASH076 \u001b[3m\u001b[90m<chr>\u001b[90m\u001b[23m,\u001b[39m\n",
      "\u001b[90m#   NASH077 \u001b[3m\u001b[90m<chr>\u001b[90m\u001b[23m, NASH078 \u001b[3m\u001b[90m<chr>\u001b[90m\u001b[23m, NASH079 \u001b[3m\u001b[90m<chr>\u001b[90m\u001b[23m, NASH080 \u001b[3m\u001b[90m<chr>\u001b[90m\u001b[23m, NASH081 \u001b[3m\u001b[90m<chr>\u001b[90m\u001b[23m,\u001b[39m\n",
      "\u001b[90m#   NASH082 \u001b[3m\u001b[90m<chr>\u001b[90m\u001b[23m, NASH083 \u001b[3m\u001b[90m<chr>\u001b[90m\u001b[23m, NASH084 \u001b[3m\u001b[90m<chr>\u001b[90m\u001b[23m, NASH085 \u001b[3m\u001b[90m<chr>\u001b[90m\u001b[23m, NASH086 \u001b[3m\u001b[90m<chr>\u001b[90m\u001b[23m,\u001b[39m\n",
      "\u001b[90m#   NASH087 \u001b[3m\u001b[90m<chr>\u001b[90m\u001b[23m, NASH088 \u001b[3m\u001b[90m<chr>\u001b[90m\u001b[23m, NASH089 \u001b[3m\u001b[90m<chr>\u001b[90m\u001b[23m, NASH090 \u001b[3m\u001b[90m<chr>\u001b[90m\u001b[23m, NASH091 \u001b[3m\u001b[90m<chr>\u001b[90m\u001b[23m,\u001b[39m\n",
      "\u001b[90m#   NASH011 \u001b[3m\u001b[90m<chr>\u001b[90m\u001b[23m, NASH019 \u001b[3m\u001b[90m<chr>\u001b[90m\u001b[23m, NASH020 \u001b[3m\u001b[90m<chr>\u001b[90m\u001b[23m, NASH021 \u001b[3m\u001b[90m<chr>\u001b[90m\u001b[23m, NASH022 \u001b[3m\u001b[90m<chr>\u001b[90m\u001b[23m,\u001b[39m\n",
      "\u001b[90m#   NASH023 \u001b[3m\u001b[90m<chr>\u001b[90m\u001b[23m, NASH024 \u001b[3m\u001b[90m<chr>\u001b[90m\u001b[23m, NASH026 \u001b[3m\u001b[90m<chr>\u001b[90m\u001b[23m, NASH027 \u001b[3m\u001b[90m<chr>\u001b[90m\u001b[23m, NASH028 \u001b[3m\u001b[90m<chr>\u001b[90m\u001b[23m,\u001b[39m\n",
      "\u001b[90m#   NASH029 \u001b[3m\u001b[90m<chr>\u001b[90m\u001b[23m, NASH030 \u001b[3m\u001b[90m<chr>\u001b[90m\u001b[23m, NASH031 \u001b[3m\u001b[90m<chr>\u001b[90m\u001b[23m, NASH032 \u001b[3m\u001b[90m<chr>\u001b[90m\u001b[23m, NASH033 \u001b[3m\u001b[90m<chr>\u001b[90m\u001b[23m,\u001b[39m\n",
      "\u001b[90m#   NASH034 \u001b[3m\u001b[90m<chr>\u001b[90m\u001b[23m, NASH035 \u001b[3m\u001b[90m<chr>\u001b[90m\u001b[23m, NASH036 \u001b[3m\u001b[90m<chr>\u001b[90m\u001b[23m, NASH037 \u001b[3m\u001b[90m<chr>\u001b[90m\u001b[23m, NASH038 \u001b[3m\u001b[90m<chr>\u001b[90m\u001b[23m,\u001b[39m\n",
      "\u001b[90m#   NASH039 \u001b[3m\u001b[90m<chr>\u001b[90m\u001b[23m, NASH040 \u001b[3m\u001b[90m<chr>\u001b[90m\u001b[23m, NASH041 \u001b[3m\u001b[90m<chr>\u001b[90m\u001b[23m, NASH042 \u001b[3m\u001b[90m<chr>\u001b[90m\u001b[23m, NASH043 \u001b[3m\u001b[90m<chr>\u001b[90m\u001b[23m,\u001b[39m\n",
      "\u001b[90m#   NASH044 \u001b[3m\u001b[90m<chr>\u001b[90m\u001b[23m, NASH045 \u001b[3m\u001b[90m<chr>\u001b[90m\u001b[23m, NASH046 \u001b[3m\u001b[90m<chr>\u001b[90m\u001b[23m, NASH047 \u001b[3m\u001b[90m<chr>\u001b[90m\u001b[23m, NASH048 \u001b[3m\u001b[90m<chr>\u001b[90m\u001b[23m,\u001b[39m\n",
      "\u001b[90m#   NASH049 \u001b[3m\u001b[90m<chr>\u001b[90m\u001b[23m, NASH050 \u001b[3m\u001b[90m<chr>\u001b[90m\u001b[23m, NASH051 \u001b[3m\u001b[90m<chr>\u001b[90m\u001b[23m, NASH052 \u001b[3m\u001b[90m<chr>\u001b[90m\u001b[23m, NASH053 \u001b[3m\u001b[90m<chr>\u001b[90m\u001b[23m,\u001b[39m\n",
      "\u001b[90m#   NASH054 \u001b[3m\u001b[90m<chr>\u001b[90m\u001b[23m, NASH055 \u001b[3m\u001b[90m<chr>\u001b[90m\u001b[23m, NASH056 \u001b[3m\u001b[90m<chr>\u001b[90m\u001b[23m, NASH058 \u001b[3m\u001b[90m<chr>\u001b[90m\u001b[23m, NASH059 \u001b[3m\u001b[90m<chr>\u001b[90m\u001b[23m,\u001b[39m\n",
      "\u001b[90m#   NASH060 \u001b[3m\u001b[90m<chr>\u001b[90m\u001b[23m, NASH061 \u001b[3m\u001b[90m<chr>\u001b[90m\u001b[23m, NASH062 \u001b[3m\u001b[90m<chr>\u001b[90m\u001b[23m, NASH064 \u001b[3m\u001b[90m<chr>\u001b[90m\u001b[23m, NASH065 \u001b[3m\u001b[90m<chr>\u001b[90m\u001b[23m,\u001b[39m\n",
      "\u001b[90m#   NASH066 \u001b[3m\u001b[90m<chr>\u001b[90m\u001b[23m, NASH067 \u001b[3m\u001b[90m<chr>\u001b[90m\u001b[23m, NASH068 \u001b[3m\u001b[90m<chr>\u001b[90m\u001b[23m, NASH069 \u001b[3m\u001b[90m<chr>\u001b[90m\u001b[23m, NASH070 \u001b[3m\u001b[90m<chr>\u001b[90m\u001b[23m,\u001b[39m\n",
      "\u001b[90m#   NASH074 \u001b[3m\u001b[90m<chr>\u001b[90m\u001b[23m\u001b[39m\n",
      "\n"
     ]
    }
   ],
   "source": [
    "data_1 = robjects.r['getmwstudies']('ST000915', \n",
    "    'data'\n",
    ")\n",
    "print(type(data_1))\n",
    "print(data_1)"
   ]
  },
  {
   "cell_type": "code",
   "execution_count": 4,
   "id": "martial-floating",
   "metadata": {
    "execution": {
     "iopub.execute_input": "2021-02-12T00:14:33.713988Z",
     "iopub.status.busy": "2021-02-12T00:14:33.706264Z",
     "iopub.status.idle": "2021-02-12T00:14:33.982559Z",
     "shell.execute_reply": "2021-02-12T00:14:33.984286Z"
    }
   },
   "outputs": [
    {
     "name": "stdout",
     "output_type": "stream",
     "text": [
      "<class 'rpy2.robjects.vectors.DataFrame'>\n"
     ]
    }
   ],
   "source": [
    "metadata = robjects.r['getmwstudies']('ST000915', \n",
    "    'factors'\n",
    ")\n",
    "print(type(metadata))\n",
    "#print(metadata)"
   ]
  },
  {
   "cell_type": "code",
   "execution_count": 5,
   "id": "restricted-cedar",
   "metadata": {
    "execution": {
     "iopub.execute_input": "2021-02-12T00:14:33.998753Z",
     "iopub.status.busy": "2021-02-12T00:14:33.994578Z",
     "iopub.status.idle": "2021-02-12T00:14:34.009432Z",
     "shell.execute_reply": "2021-02-12T00:14:34.005271Z"
    }
   },
   "outputs": [
    {
     "data": {
      "text/plain": [
       "'hsa'"
      ]
     },
     "execution_count": 5,
     "metadata": {},
     "output_type": "execute_result"
    }
   ],
   "source": [
    "studyOrg = 'hsa'\n",
    "studyOrg"
   ]
  },
  {
   "cell_type": "markdown",
   "id": "careful-neutral",
   "metadata": {},
   "source": [
    "Find the factors you would want to compare\n",
    "Multiple factors (independent variables) are formatted in multiple columns but you can get information on all the factors by \"factors\" column, such as 'TreatmentGroup:Prednisolone', this indicates column name 'TreatmentGroup' with factor Prednisolone. For t-test use the factors in the same column. For comparing multipe independent variables use anova by anova_ana function."
   ]
  },
  {
   "cell_type": "markdown",
   "id": "running-thickness",
   "metadata": {},
   "source": [
    "### Associate metabolomics data to the refmet class"
   ]
  },
  {
   "cell_type": "code",
   "execution_count": 6,
   "id": "empirical-digit",
   "metadata": {
    "execution": {
     "iopub.execute_input": "2021-02-12T00:14:34.034890Z",
     "iopub.status.busy": "2021-02-12T00:14:34.028059Z",
     "iopub.status.idle": "2021-02-12T00:14:34.281854Z",
     "shell.execute_reply": "2021-02-12T00:14:34.281175Z"
    }
   },
   "outputs": [
    {
     "ename": "NameError",
     "evalue": "name 'convert_refmet' is not defined",
     "output_type": "error",
     "traceback": [
      "\u001b[0;31m---------------------------------------------------------------------------\u001b[0m",
      "\u001b[0;31mNameError\u001b[0m                                 Traceback (most recent call last)",
      "\u001b[0;32m<ipython-input-6-3875d7f6bd06>\u001b[0m in \u001b[0;36m<module>\u001b[0;34m\u001b[0m\n\u001b[0;32m----> 1\u001b[0;31m \u001b[0mrefmet_class\u001b[0m \u001b[0;34m=\u001b[0m \u001b[0mconvert_refmet\u001b[0m\u001b[0;34m(\u001b[0m\u001b[0mdata_1\u001b[0m\u001b[0;34m)\u001b[0m\u001b[0;34m\u001b[0m\u001b[0;34m\u001b[0m\u001b[0m\n\u001b[0m\u001b[1;32m      2\u001b[0m \u001b[0;34m\u001b[0m\u001b[0m\n",
      "\u001b[0;31mNameError\u001b[0m: name 'convert_refmet' is not defined"
     ]
    }
   ],
   "source": [
    "refmet_class = convert_refmet(data_1)\n",
    "\n"
   ]
  },
  {
   "cell_type": "code",
   "execution_count": null,
   "id": "numerous-prompt",
   "metadata": {},
   "outputs": [],
   "source": [
    "normtype = ['50percent']\n",
    "normtype"
   ]
  },
  {
   "cell_type": "code",
   "execution_count": null,
   "id": "intimate-dynamics",
   "metadata": {},
   "outputs": [],
   "source": [
    "pthres = '0.05'\n",
    "pthres = float(pthres)\n",
    "pthres"
   ]
  },
  {
   "cell_type": "code",
   "execution_count": null,
   "id": "olive-tunisia",
   "metadata": {},
   "outputs": [],
   "source": [
    "thres_log2foldchange = '0.5'\n",
    "thres_log2foldchange = float(thres_log2foldchange)\n",
    "thres_log2foldchange"
   ]
  },
  {
   "cell_type": "code",
   "execution_count": null,
   "id": "closing-swift",
   "metadata": {},
   "outputs": [],
   "source": []
  },
  {
   "cell_type": "code",
   "execution_count": null,
   "id": "familiar-soldier",
   "metadata": {},
   "outputs": [],
   "source": [
    "thres_log2foldchange_countclass = '0.5'\n",
    "thres_log2foldchange_countclass = float(thres_log2foldchange_countclass)\n",
    "thres_log2foldchange_countclass"
   ]
  },
  {
   "cell_type": "code",
   "execution_count": null,
   "id": "imposed-ranking",
   "metadata": {},
   "outputs": [],
   "source": []
  },
  {
   "cell_type": "code",
   "execution_count": null,
   "id": "capital-transsexual",
   "metadata": {},
   "outputs": [],
   "source": [
    "sigmets = 3\n",
    "sigmets"
   ]
  },
  {
   "cell_type": "code",
   "execution_count": null,
   "id": "polish-intensity",
   "metadata": {},
   "outputs": [],
   "source": [
    "x_size_heat = 8\n",
    "x_size_heat"
   ]
  },
  {
   "cell_type": "code",
   "execution_count": null,
   "id": "upset-aurora",
   "metadata": {},
   "outputs": [],
   "source": [
    "y_size_heat = 6\n",
    "y_size_heat"
   ]
  },
  {
   "cell_type": "code",
   "execution_count": null,
   "id": "applicable-amplifier",
   "metadata": {},
   "outputs": [],
   "source": [
    "x_size_dot = 8\n",
    "x_size_dot"
   ]
  },
  {
   "cell_type": "code",
   "execution_count": null,
   "id": "first-librarian",
   "metadata": {},
   "outputs": [],
   "source": [
    "y_size_dot = 6\n",
    "y_size_dot"
   ]
  }
 ],
 "metadata": {
  "appyter": {
   "nbconstruct": {
    "filename": "vignettes/MetENP_Appyter.ipynb",
    "files": {},
    "version": "0.12.0"
   },
   "nbexecute": {
    "completed": "2021-02-11T16:14:34.903550+00:00",
    "files": {},
    "started": "2021-02-11T16:14:09.317052+00:00",
    "version": "0.12.0"
   }
  },
  "kernelspec": {
   "display_name": "my-first-appyter",
   "language": "python",
   "name": "my-first-appyter"
  },
  "language_info": {
   "codemirror_mode": {
    "name": "ipython",
    "version": 3
   },
   "file_extension": ".py",
   "mimetype": "text/x-python",
   "name": "python",
   "nbconvert_exporter": "python",
   "pygments_lexer": "ipython3",
   "version": "3.8.5"
  }
 },
 "nbformat": 4,
 "nbformat_minor": 5
}
