{
 "cells": [
  {
   "cell_type": "markdown",
   "id": "institutional-dispute",
   "metadata": {},
   "source": [
    "### Load all necessary packages"
   ]
  },
  {
   "cell_type": "code",
   "execution_count": 1,
   "id": "liquid-timber",
   "metadata": {
    "execution": {
     "iopub.execute_input": "2021-04-02T00:14:28.551011Z",
     "iopub.status.busy": "2021-04-02T00:14:28.548104Z",
     "iopub.status.idle": "2021-04-02T00:14:43.670231Z",
     "shell.execute_reply": "2021-04-02T00:14:43.672332Z"
    }
   },
   "outputs": [
    {
     "data": {
      "text/plain": [
       "''"
      ]
     },
     "execution_count": 1,
     "metadata": {},
     "output_type": "execute_result"
    }
   ],
   "source": [
    "import rpy2\n",
    "import rpy2.robjects as robjects\n",
    "import rpy2.robjects.packages as rpackages\n",
    "\n",
    "from rpy2.robjects import numpy2ri, pandas2ri\n",
    "\n",
    "import rpy2.ipython.html\n",
    "rpy2.ipython.html.init_printing()\n",
    "\n",
    "import rpy2.robjects.lib.ggplot2 as gp\n",
    "from rpy2.ipython.ggplot import image_png\n",
    "\n",
    "from rpy2.rinterface_lib import openrlib\n",
    "\n",
    "robjects.r('''\n",
    "\n",
    "library(MetENP)\n",
    "\n",
    "''')\n",
    ";"
   ]
  },
  {
   "cell_type": "markdown",
   "id": "related-undergraduate",
   "metadata": {},
   "source": [
    "### Start data processing"
   ]
  },
  {
   "cell_type": "code",
   "execution_count": 2,
   "id": "contemporary-coalition",
   "metadata": {
    "execution": {
     "iopub.execute_input": "2021-04-02T00:14:43.710093Z",
     "iopub.status.busy": "2021-04-02T00:14:43.706069Z",
     "iopub.status.idle": "2021-04-02T00:14:59.860050Z",
     "shell.execute_reply": "2021-04-02T00:14:59.860765Z"
    }
   },
   "outputs": [],
   "source": [
    "data_1 = robjects.r['getmwstudies']('ST000915', \n",
    "    'data'\n",
    ")"
   ]
  },
  {
   "cell_type": "code",
   "execution_count": 3,
   "id": "overall-symphony",
   "metadata": {
    "execution": {
     "iopub.execute_input": "2021-04-02T00:14:59.869673Z",
     "iopub.status.busy": "2021-04-02T00:14:59.867458Z",
     "iopub.status.idle": "2021-04-02T00:15:00.105677Z",
     "shell.execute_reply": "2021-04-02T00:15:00.104848Z"
    }
   },
   "outputs": [],
   "source": [
    "with openrlib.rlock:\n",
    "    \n",
    "    robjects.r.assign('data_1', data_1)\n",
    "    \n",
    "    robjects.r('''\n",
    "\n",
    "    data_1_print = data.frame(apply(data_1, c(1,2), function(x){unlist(x, TRUE, TRUE)}))\n",
    "    head(data_1_print)\n",
    "\n",
    "    ''')\n",
    "    \n",
    "    pass"
   ]
  },
  {
   "cell_type": "code",
   "execution_count": 4,
   "id": "pointed-potato",
   "metadata": {
    "execution": {
     "iopub.execute_input": "2021-04-02T00:15:00.114934Z",
     "iopub.status.busy": "2021-04-02T00:15:00.112298Z",
     "iopub.status.idle": "2021-04-02T00:15:00.172826Z",
     "shell.execute_reply": "2021-04-02T00:15:00.173618Z"
    }
   },
   "outputs": [],
   "source": [
    "metadata = robjects.r['getmwstudies']('ST000915', \n",
    "    'factors'\n",
    ")"
   ]
  },
  {
   "cell_type": "code",
   "execution_count": 5,
   "id": "satisfied-preliminary",
   "metadata": {
    "execution": {
     "iopub.execute_input": "2021-04-02T00:15:00.182493Z",
     "iopub.status.busy": "2021-04-02T00:15:00.179916Z",
     "iopub.status.idle": "2021-04-02T00:15:00.202609Z",
     "shell.execute_reply": "2021-04-02T00:15:00.203310Z"
    }
   },
   "outputs": [
    {
     "data": {
      "text/html": [
       "\n",
       "<emph>DataFrame</emph> with 6 rows and\n",
       "  5 columns:\n",
       "<table class=\"rpy2_table\">\n",
       "  <thead>\n",
       "    <tr class=\"rpy2_names\">\n",
       "      <th></th>\n",
       "      <th></th>\n",
       "      <th>study_id</th>\n",
       "      <th>local_sample_id</th>\n",
       "      <th>subject_type</th>\n",
       "      <th>factors</th>\n",
       "      <th>Diagnosis</th>\n",
       "    </tr>\n",
       "  </thead>\n",
       "  <tbody>\n",
       "    <tr>\n",
       "      <td class=\"rpy2_rowname\">0</td>\n",
       "        <td class=\"rpy2_names\">1</td>\n",
       "      <td>ST000915</td>\n",
       "      <td>NASH005</td>\n",
       "      <td>Human clinical study</td>\n",
       "      <td>Diagnosis:Cirrhosis</td>\n",
       "      <td>Cirrhosis</td>\n",
       "    </tr>\n",
       "    <tr>\n",
       "      <td class=\"rpy2_rowname\">1</td>\n",
       "        <td class=\"rpy2_names\">2</td>\n",
       "      <td>ST000915</td>\n",
       "      <td>NASH007</td>\n",
       "      <td>Human clinical study</td>\n",
       "      <td>Diagnosis:Cirrhosis</td>\n",
       "      <td>Cirrhosis</td>\n",
       "    </tr>\n",
       "    <tr>\n",
       "      <td class=\"rpy2_rowname\">2</td>\n",
       "        <td class=\"rpy2_names\">3</td>\n",
       "      <td>ST000915</td>\n",
       "      <td>NASH009</td>\n",
       "      <td>Human clinical study</td>\n",
       "      <td>Diagnosis:Cirrhosis</td>\n",
       "      <td>Cirrhosis</td>\n",
       "    </tr>\n",
       "    <tr>\n",
       "      <td class=\"rpy2_rowname\">3</td>\n",
       "        <td class=\"rpy2_names\">4</td>\n",
       "      <td>ST000915</td>\n",
       "      <td>NASH013</td>\n",
       "      <td>Human clinical study</td>\n",
       "      <td>Diagnosis:Cirrhosis</td>\n",
       "      <td>Cirrhosis</td>\n",
       "    </tr>\n",
       "    <tr>\n",
       "      <td class=\"rpy2_rowname\">4</td>\n",
       "        <td class=\"rpy2_names\">5</td>\n",
       "      <td>ST000915</td>\n",
       "      <td>NASH016</td>\n",
       "      <td>Human clinical study</td>\n",
       "      <td>Diagnosis:Cirrhosis</td>\n",
       "      <td>Cirrhosis</td>\n",
       "    </tr>\n",
       "    <tr>\n",
       "      <td class=\"rpy2_rowname\">5</td>\n",
       "        <td class=\"rpy2_names\">6</td>\n",
       "      <td>ST000915</td>\n",
       "      <td>NASH022</td>\n",
       "      <td>Human clinical study</td>\n",
       "      <td>Diagnosis:Cirrhosis</td>\n",
       "      <td>Cirrhosis</td>\n",
       "    </tr>\n",
       "  </tbody>\n",
       "</table>"
      ],
      "text/plain": [
       "<rpy2.robjects.vectors.DataFrame object at 0x7fae3ca08080> [RTYPES.VECSXP]\n",
       "R classes: ('data.frame',)\n",
       "[StrSexp..., StrSexp..., StrSexp..., StrSexp..., StrSexp...]\n",
       "  study_id: <class 'rpy2.rinterface_lib.sexp.StrSexpVector'>\n",
       "  <rpy2.rinterface_lib.sexp.StrSexpVector object at 0x7fae3cc64500> [RTYPES.STRSXP]\n",
       "  local_sample_id: <class 'rpy2.rinterface_lib.sexp.StrSexpVector'>\n",
       "  <rpy2.rinterface_lib.sexp.StrSexpVector object at 0x7fae3ca60f80> [RTYPES.STRSXP]\n",
       "  subject_type: <class 'rpy2.rinterface_lib.sexp.StrSexpVector'>\n",
       "  <rpy2.rinterface_lib.sexp.StrSexpVector object at 0x7fae3ca06580> [RTYPES.STRSXP]\n",
       "  factors: <class 'rpy2.rinterface_lib.sexp.StrSexpVector'>\n",
       "  <rpy2.rinterface_lib.sexp.StrSexpVector object at 0x7fae3ca630c0> [RTYPES.STRSXP]\n",
       "  Diagnosis: <class 'rpy2.rinterface_lib.sexp.StrSexpVector'>\n",
       "  <rpy2.rinterface_lib.sexp.StrSexpVector object at 0x7fae3ca3ee40> [RTYPES.STRSXP]"
      ]
     },
     "execution_count": 5,
     "metadata": {},
     "output_type": "execute_result"
    }
   ],
   "source": [
    "robjects.r.assign('metadata', metadata)\n",
    "\n",
    "robjects.r('''\n",
    "metadata_print = data.frame(apply(metadata, c(1,2), function(x){unlist(x, TRUE, TRUE)}))\n",
    "head(metadata_print)\n",
    "''')"
   ]
  },
  {
   "cell_type": "markdown",
   "id": "alone-consultancy",
   "metadata": {},
   "source": [
    "TODO\n",
    "\n",
    "Find the factors you would want to compare\n",
    "Multiple factors (independent variables) are formatted in multiple columns but you can get information on all the factors by \"factors\" column, such as 'TreatmentGroup:Prednisolone', this indicates column name 'TreatmentGroup' with factor Prednisolone. For t-test use the factors in the same column. For comparing multipe independent variables use anova by anova_ana function."
   ]
  },
  {
   "cell_type": "markdown",
   "id": "tired-sydney",
   "metadata": {},
   "source": [
    "### Associate metabolomics data to the refmet class"
   ]
  },
  {
   "cell_type": "code",
   "execution_count": 6,
   "id": "global-vocabulary",
   "metadata": {
    "execution": {
     "iopub.execute_input": "2021-04-02T00:15:00.216407Z",
     "iopub.status.busy": "2021-04-02T00:15:00.212363Z",
     "iopub.status.idle": "2021-04-02T00:15:10.133761Z",
     "shell.execute_reply": "2021-04-02T00:15:10.133120Z"
    }
   },
   "outputs": [
    {
     "data": {
      "text/html": [
       "\n",
       "<emph>DataFrame</emph> with 6 rows and\n",
       "  97 columns:\n",
       "<table class=\"rpy2_table\">\n",
       "  <thead>\n",
       "    <tr class=\"rpy2_names\">\n",
       "      <th></th>\n",
       "      <th></th>\n",
       "      <th>metabolite_name</th>\n",
       "      <th>analysis_id</th>\n",
       "      <th>analysis_summary</th>\n",
       "      <th>metabolite_id</th>\n",
       "      <th>...</th>\n",
       "      <th>main_class</th>\n",
       "      <th>sub_class</th>\n",
       "    </tr>\n",
       "  </thead>\n",
       "  <tbody>\n",
       "    <tr>\n",
       "      <td class=\"rpy2_rowname\">0</td>\n",
       "        <td class=\"rpy2_names\">1</td>\n",
       "      <td>1,2-DG(30:0)</td>\n",
       "      <td>AN001488</td>\n",
       "      <td>Core E Neutral Lipids</td>\n",
       "      <td>ME231190</td>\n",
       "       <td>...</td>\n",
       "      <td>Diradylglycerols</td>\n",
       "      <td>DAG</td>\n",
       "    </tr>\n",
       "    <tr>\n",
       "      <td class=\"rpy2_rowname\">1</td>\n",
       "        <td class=\"rpy2_names\">2</td>\n",
       "      <td>1,2-DG(30:1)</td>\n",
       "      <td>AN001488</td>\n",
       "      <td>Core E Neutral Lipids</td>\n",
       "      <td>ME231189</td>\n",
       "       <td>...</td>\n",
       "      <td>Diradylglycerols</td>\n",
       "      <td>DAG</td>\n",
       "    </tr>\n",
       "    <tr>\n",
       "      <td class=\"rpy2_rowname\">2</td>\n",
       "        <td class=\"rpy2_names\">3</td>\n",
       "      <td>1,2-DG(32:0)</td>\n",
       "      <td>AN001488</td>\n",
       "      <td>Core E Neutral Lipids</td>\n",
       "      <td>ME231196</td>\n",
       "       <td>...</td>\n",
       "      <td>Diradylglycerols</td>\n",
       "      <td>DAG</td>\n",
       "    </tr>\n",
       "    <tr>\n",
       "      <td class=\"rpy2_rowname\">3</td>\n",
       "        <td class=\"rpy2_names\">4</td>\n",
       "      <td>1,2-DG(32:1)</td>\n",
       "      <td>AN001488</td>\n",
       "      <td>Core E Neutral Lipids</td>\n",
       "      <td>ME231195</td>\n",
       "       <td>...</td>\n",
       "      <td>Diradylglycerols</td>\n",
       "      <td>DAG</td>\n",
       "    </tr>\n",
       "    <tr>\n",
       "      <td class=\"rpy2_rowname\">4</td>\n",
       "        <td class=\"rpy2_names\">5</td>\n",
       "      <td>1,2-DG(32:2)</td>\n",
       "      <td>AN001488</td>\n",
       "      <td>Core E Neutral Lipids</td>\n",
       "      <td>ME231194</td>\n",
       "       <td>...</td>\n",
       "      <td>Diradylglycerols</td>\n",
       "      <td>DAG</td>\n",
       "    </tr>\n",
       "    <tr>\n",
       "      <td class=\"rpy2_rowname\">5</td>\n",
       "        <td class=\"rpy2_names\">6</td>\n",
       "      <td>1,2-DG(32:3)</td>\n",
       "      <td>AN001488</td>\n",
       "      <td>Core E Neutral Lipids</td>\n",
       "      <td>ME231193</td>\n",
       "       <td>...</td>\n",
       "      <td>Diradylglycerols</td>\n",
       "      <td>DAG</td>\n",
       "    </tr>\n",
       "  </tbody>\n",
       "</table>"
      ],
      "text/plain": [
       "<rpy2.robjects.vectors.DataFrame object at 0x7fae3ca04940> [RTYPES.VECSXP]\n",
       "R classes: ('data.frame',)\n",
       "[StrSexpVe..., StrSexpVe..., StrSexpVe..., StrSexpVe..., ..., StrSexpVe..., StrSexpVe..., StrSexpVe..., StrSexpVe...]\n",
       "  metabolite_name: <class 'rpy2.robjects.vectors.StrVector'>\n",
       "  <rpy2.robjects.vectors.StrVector object at 0x7fae3ca1d380> [RTYPES.STRSXP]\n",
       "R classes: ('character',)\n",
       "['1,2-..., '1,2-..., '1,2-..., '1,2-..., '1,2-..., '1,2-...]\n",
       "  analysis_id: <class 'rpy2.robjects.vectors.StrVector'>\n",
       "  <rpy2.robjects.vectors.StrVector object at 0x7fae3ca1d0c0> [RTYPES.STRSXP]\n",
       "R classes: ('character',)\n",
       "['AN00..., 'AN00..., 'AN00..., 'AN00..., 'AN00..., 'AN00...]\n",
       "  analysis_summary: <class 'rpy2.robjects.vectors.StrVector'>\n",
       "  <rpy2.robjects.vectors.StrVector object at 0x7fae3ca052c0> [RTYPES.STRSXP]\n",
       "R classes: ('character',)\n",
       "['Core..., 'Core..., 'Core..., 'Core..., 'Core..., 'Core...]\n",
       "  metabolite_id: <class 'rpy2.robjects.vectors.StrVector'>\n",
       "  <rpy2.robjects.vectors.StrVector object at 0x7fae3ca05540> [RTYPES.STRSXP]\n",
       "R classes: ('character',)\n",
       "['ME23..., 'ME23..., 'ME23..., 'ME23..., 'ME23..., 'ME23...]\n",
       "...\n",
       "  NASH001: <class 'rpy2.robjects.vectors.StrVector'>\n",
       "  <rpy2.robjects.vectors.StrVector object at 0x7fae3ca05840> [RTYPES.STRSXP]\n",
       "R classes: ('character',)\n",
       "['C33H..., 'C33H..., 'C35H..., 'C35H..., 'C35H..., 'C35H...]\n",
       "  NASH002: <class 'rpy2.robjects.vectors.StrVector'>\n",
       "  <rpy2.robjects.vectors.StrVector object at 0x7fae3ca05980> [RTYPES.STRSXP]\n",
       "R classes: ('character',)\n",
       "['Glyc..., 'Glyc..., 'Glyc..., 'Glyc..., 'Glyc..., 'Glyc...]\n",
       "  NASH003: <class 'rpy2.robjects.vectors.StrVector'>\n",
       "  <rpy2.robjects.vectors.StrVector object at 0x7fae3ca20e00> [RTYPES.STRSXP]\n",
       "R classes: ('character',)\n",
       "['Dira..., 'Dira..., 'Dira..., 'Dira..., 'Dira..., 'Dira...]\n",
       "  NASH004: <class 'rpy2.robjects.vectors.StrVector'>\n",
       "  <rpy2.robjects.vectors.StrVector object at 0x7fae3ca20d00> [RTYPES.STRSXP]\n",
       "R classes: ('character',)\n",
       "['DAG', 'DAG', 'DAG', 'DAG', 'DAG', 'DAG']"
      ]
     },
     "execution_count": 6,
     "metadata": {},
     "output_type": "execute_result"
    }
   ],
   "source": [
    "refmet_class = robjects.r['convert_refmet'](data_1)\n",
    "\n",
    "robjects.r.assign('refmet_class', refmet_class)\n",
    "\n",
    "robjects.r('''\n",
    "\n",
    "refmet_class_print = data.frame(apply(refmet_class, c(1,2), function(x){unlist(x, TRUE, TRUE)}))\n",
    "head(refmet_class_print)\n",
    "\n",
    "''')"
   ]
  },
  {
   "cell_type": "markdown",
   "id": "aquatic-liberia",
   "metadata": {},
   "source": [
    "### Each different metadata factors "
   ]
  },
  {
   "cell_type": "code",
   "execution_count": 7,
   "id": "owned-parcel",
   "metadata": {
    "execution": {
     "iopub.execute_input": "2021-04-02T00:15:10.157935Z",
     "iopub.status.busy": "2021-04-02T00:15:10.153471Z",
     "iopub.status.idle": "2021-04-02T00:15:10.166986Z",
     "shell.execute_reply": "2021-04-02T00:15:10.154631Z"
    }
   },
   "outputs": [
    {
     "data": {
      "text/html": [
       "\n",
       "<emph>DataFrame</emph> with 4 rows and\n",
       "  1 columns:\n",
       "<table class=\"rpy2_table\">\n",
       "  <thead>\n",
       "    <tr class=\"rpy2_names\">\n",
       "      <th></th>\n",
       "      <th></th>\n",
       "      <th>unique.metadata_print.factors.</th>\n",
       "    </tr>\n",
       "  </thead>\n",
       "  <tbody>\n",
       "    <tr>\n",
       "      <td class=\"rpy2_rowname\">0</td>\n",
       "        <td class=\"rpy2_names\">1</td>\n",
       "      <td>Diagnosis:Cirrhosis</td>\n",
       "    </tr>\n",
       "    <tr>\n",
       "      <td class=\"rpy2_rowname\">1</td>\n",
       "        <td class=\"rpy2_names\">2</td>\n",
       "      <td>Diagnosis:NASH</td>\n",
       "    </tr>\n",
       "    <tr>\n",
       "      <td class=\"rpy2_rowname\">2</td>\n",
       "        <td class=\"rpy2_names\">3</td>\n",
       "      <td>Diagnosis:Normal</td>\n",
       "    </tr>\n",
       "    <tr>\n",
       "      <td class=\"rpy2_rowname\">3</td>\n",
       "        <td class=\"rpy2_names\">4</td>\n",
       "      <td>Diagnosis:Steatosis</td>\n",
       "    </tr>\n",
       "  </tbody>\n",
       "</table>"
      ],
      "text/plain": [
       "<rpy2.robjects.vectors.DataFrame object at 0x7fae3ca12f40> [RTYPES.VECSXP]\n",
       "R classes: ('data.frame',)\n",
       "[StrSexpVector]\n",
       "  unique.metadata_print.factors.: <class 'rpy2.rinterface_lib.sexp.StrSexpVector'>\n",
       "  <rpy2.rinterface_lib.sexp.StrSexpVector object at 0x7fae3ca1b980> [RTYPES.STRSXP]"
      ]
     },
     "execution_count": 7,
     "metadata": {},
     "output_type": "execute_result"
    }
   ],
   "source": [
    "robjects.r('''\n",
    "data.frame(unique(metadata_print$factors))\n",
    "''')"
   ]
  },
  {
   "cell_type": "markdown",
   "id": "democratic-somalia",
   "metadata": {},
   "source": [
    "### Each different analysis terms"
   ]
  },
  {
   "cell_type": "code",
   "execution_count": 8,
   "id": "exterior-minimum",
   "metadata": {
    "execution": {
     "iopub.execute_input": "2021-04-02T00:15:10.184736Z",
     "iopub.status.busy": "2021-04-02T00:15:10.180533Z",
     "iopub.status.idle": "2021-04-02T00:15:10.198848Z",
     "shell.execute_reply": "2021-04-02T00:15:10.199995Z"
    }
   },
   "outputs": [
    {
     "data": {
      "text/html": [
       "\n",
       "<emph>DataFrame</emph> with 6 rows and\n",
       "  1 columns:\n",
       "<table class=\"rpy2_table\">\n",
       "  <thead>\n",
       "    <tr class=\"rpy2_names\">\n",
       "      <th></th>\n",
       "      <th></th>\n",
       "      <th>unique.data_1_print.analysis_summary.</th>\n",
       "    </tr>\n",
       "  </thead>\n",
       "  <tbody>\n",
       "    <tr>\n",
       "      <td class=\"rpy2_rowname\">0</td>\n",
       "        <td class=\"rpy2_names\">1</td>\n",
       "      <td>Core G Fatty acids/Eicosanoids</td>\n",
       "    </tr>\n",
       "    <tr>\n",
       "      <td class=\"rpy2_rowname\">1</td>\n",
       "        <td class=\"rpy2_names\">2</td>\n",
       "      <td>Core J Sterols</td>\n",
       "    </tr>\n",
       "    <tr>\n",
       "      <td class=\"rpy2_rowname\">2</td>\n",
       "        <td class=\"rpy2_names\">3</td>\n",
       "      <td>Core K Prenols/Cardiolipins</td>\n",
       "    </tr>\n",
       "    <tr>\n",
       "      <td class=\"rpy2_rowname\">3</td>\n",
       "        <td class=\"rpy2_names\">4</td>\n",
       "      <td>Core E Neutral Lipids</td>\n",
       "    </tr>\n",
       "    <tr>\n",
       "      <td class=\"rpy2_rowname\">4</td>\n",
       "        <td class=\"rpy2_names\">5</td>\n",
       "      <td>Core I Sphingolipids</td>\n",
       "    </tr>\n",
       "    <tr>\n",
       "      <td class=\"rpy2_rowname\">5</td>\n",
       "        <td class=\"rpy2_names\">6</td>\n",
       "      <td>Core H Phospholipids</td>\n",
       "    </tr>\n",
       "  </tbody>\n",
       "</table>"
      ],
      "text/plain": [
       "<rpy2.robjects.vectors.DataFrame object at 0x7fae3d00f540> [RTYPES.VECSXP]\n",
       "R classes: ('data.frame',)\n",
       "[StrSexpVector]\n",
       "  unique.data_1_print.analysis_summary.: <class 'rpy2.rinterface_lib.sexp.StrSexpVector'>\n",
       "  <rpy2.rinterface_lib.sexp.StrSexpVector object at 0x7fae3d0a9c80> [RTYPES.STRSXP]"
      ]
     },
     "execution_count": 8,
     "metadata": {},
     "output_type": "execute_result"
    }
   ],
   "source": [
    "robjects.r('''\n",
    "data.frame(unique(data_1_print$analysis_summary))\n",
    "''')"
   ]
  },
  {
   "cell_type": "markdown",
   "id": "worthy-consequence",
   "metadata": {},
   "source": [
    "### Find significant metabolites, run significance of all the analysis summary together. The analysis summary/modes you got in the previous section"
   ]
  },
  {
   "cell_type": "code",
   "execution_count": 9,
   "id": "psychological-contact",
   "metadata": {
    "execution": {
     "iopub.execute_input": "2021-04-02T00:15:10.222550Z",
     "iopub.status.busy": "2021-04-02T00:15:10.217688Z",
     "iopub.status.idle": "2021-04-02T00:15:10.244217Z",
     "shell.execute_reply": "2021-04-02T00:15:10.245437Z"
    }
   },
   "outputs": [
    {
     "data": {
      "text/html": [
       "\n",
       "<emph>ListVector</emph> with 1 elements:\n",
       "<table class=\"rpy2_table\">\n",
       "<thead>\n",
       "</thead>\n",
       "<tbody>\n",
       "  <tr>\n",
       "    <td class=\"rpy2_rowname\">0</td>\n",
       "    <td>[1] \"fdr\"\n",
       "</td>\n",
       "  </tr>\n",
       "</tr>\n",
       "</tbody>\n",
       "</table>"
      ],
      "text/plain": [
       "<rpy2.robjects.vectors.ListVector object at 0x7fae3f942c00> [RTYPES.VECSXP]\n",
       "R classes: ('list',)\n",
       "[StrSexpVector]\n",
       "  <no name>: <class 'rpy2.rinterface_lib.sexp.StrSexpVector'>\n",
       "  <rpy2.rinterface_lib.sexp.StrSexpVector object at 0x7fae3874ca80> [RTYPES.STRSXP]"
      ]
     },
     "execution_count": 9,
     "metadata": {},
     "output_type": "execute_result"
    }
   ],
   "source": [
    "robjects.r.assign('refmet_class', refmet_class)\n",
    "robjects.r.assign('metcol', 'metabolite_name')\n",
    "robjects.r.assign('fac1', 'Cirrhosis')\n",
    "robjects.r.assign('fac2', 'Normal')\n",
    "robjects.r.assign('faccol', 'Diagnosis')\n",
    "robjects.r.assign('samcol', 'local_sample_id')\n",
    "robjects.r.assign('normtype', ['50percent'])\n",
    "robjects.r.assign('pthres', ['0.05'])\n",
    "robjects.r.assign('thres_log2foldchangevar', '0.5')\n",
    "robjects.r.assign('padj', ['fdr'])"
   ]
  },
  {
   "cell_type": "code",
   "execution_count": 10,
   "id": "broadband-cabin",
   "metadata": {
    "execution": {
     "iopub.execute_input": "2021-04-02T00:15:10.256322Z",
     "iopub.status.busy": "2021-04-02T00:15:10.253244Z",
     "iopub.status.idle": "2021-04-02T00:15:10.262383Z",
     "shell.execute_reply": "2021-04-02T00:15:10.260867Z"
    }
   },
   "outputs": [
    {
     "data": {
      "text/plain": [
       "''"
      ]
     },
     "execution_count": 10,
     "metadata": {},
     "output_type": "execute_result"
    }
   ],
   "source": [
    "robjects.r('''\n",
    "ptreshnum<-as.numeric(pthres)\n",
    "thres_log2foldchangenum<-as.numeric(thres_log2foldchangevar)\n",
    "padjchar<-as.character(padj[1])\n",
    "''')\n",
    ";"
   ]
  },
  {
   "cell_type": "code",
   "execution_count": 11,
   "id": "resident-knight",
   "metadata": {
    "execution": {
     "iopub.execute_input": "2021-04-02T00:15:10.278408Z",
     "iopub.status.busy": "2021-04-02T00:15:10.274005Z",
     "iopub.status.idle": "2021-04-02T00:15:10.288214Z",
     "shell.execute_reply": "2021-04-02T00:15:10.290021Z"
    }
   },
   "outputs": [
    {
     "data": {
      "text/plain": [
       "<rpy2.rinterface_lib.sexp.NULLType object at 0x7fae3892d7c0> [RTYPES.NILSXP]"
      ]
     },
     "execution_count": 11,
     "metadata": {},
     "output_type": "execute_result"
    }
   ],
   "source": [
    "robjects.r.assign('mettit', 'Core G Fatty acids/Eicosanoids, Core J Sterols, Core K Prenols/Cardiolipins, Core E Neutral Lipids, Core I Sphingolipids, Core H Phospholipids')\n",
    "robjects.r('''\n",
    "list_mettit <- strsplit(mettit, ',')\n",
    "list_mettit = unlist(list_mettit, TRUE, TRUE)\n",
    "titles <- list()\n",
    "for(elm in list_mettit) {\n",
    "    elm = trimws(elm)\n",
    "    titles <- c(titles, elm)\n",
    "}\n",
    "''')"
   ]
  },
  {
   "cell_type": "code",
   "execution_count": 12,
   "id": "legendary-check",
   "metadata": {
    "execution": {
     "iopub.execute_input": "2021-04-02T00:15:10.304300Z",
     "iopub.status.busy": "2021-04-02T00:15:10.299670Z",
     "iopub.status.idle": "2021-04-02T00:15:12.010131Z",
     "shell.execute_reply": "2021-04-02T00:15:12.010741Z"
    }
   },
   "outputs": [
    {
     "data": {
      "text/plain": [
       "''"
      ]
     },
     "execution_count": 12,
     "metadata": {},
     "output_type": "execute_result"
    }
   ],
   "source": [
    "robjects.r('''\n",
    "stats_metabolites = significant_met(metabolomics_data=refmet_class_print, met_col=metcol,analysis_type=c(titles), metadata=metadata, factor1=fac1, factor2=fac2, factor_col=faccol,sample_col=samcol, p_adjust=padjchar,normalization=normtype)\n",
    "''')\n",
    ";"
   ]
  },
  {
   "cell_type": "code",
   "execution_count": 13,
   "id": "physical-passing",
   "metadata": {
    "execution": {
     "iopub.execute_input": "2021-04-02T00:15:12.021306Z",
     "iopub.status.busy": "2021-04-02T00:15:12.018523Z",
     "iopub.status.idle": "2021-04-02T00:15:12.026846Z",
     "shell.execute_reply": "2021-04-02T00:15:12.028477Z"
    }
   },
   "outputs": [
    {
     "data": {
      "text/plain": [
       "''"
      ]
     },
     "execution_count": 13,
     "metadata": {},
     "output_type": "execute_result"
    }
   ],
   "source": [
    "robjects.r('''\n",
    "sig_metabolites = stats_metabolites[which(stats_metabolites[,\"pval\"] <= ptreshnum&abs(stats_metabolites[,\"log2Fold_change\"])>thres_log2foldchangenum),]\n",
    "''')\n",
    ";"
   ]
  },
  {
   "cell_type": "code",
   "execution_count": 14,
   "id": "shared-stocks",
   "metadata": {
    "execution": {
     "iopub.execute_input": "2021-04-02T00:15:12.043868Z",
     "iopub.status.busy": "2021-04-02T00:15:12.040014Z",
     "iopub.status.idle": "2021-04-02T00:15:13.833199Z",
     "shell.execute_reply": "2021-04-02T00:15:13.834535Z"
    }
   },
   "outputs": [
    {
     "data": {
      "image/png": "[encoded data removed]",
      "text/plain": [
       "<IPython.core.display.Image object>"
      ]
     },
     "execution_count": 14,
     "metadata": {},
     "output_type": "execute_result"
    }
   ],
   "source": [
    "image_png(robjects.r('''\n",
    "plot_volcano(stats_metabolites, thres_pval= ptreshnum, thres_log2foldchange = thres_log2foldchangenum, TRUE)\n",
    "'''))"
   ]
  },
  {
   "cell_type": "markdown",
   "id": "whole-arcade",
   "metadata": {},
   "source": [
    "### Map metabolite class of the significant metabolites utilzing refmet classification in Metabolomics Workbench\n",
    "This function not only maps metabolite to metabolite class but also to external databases such as pubchem, inchi key, smiles and kegg\n",
    "\n",
    "In this example, we will go forward with significant metabolite obtained by t-test/"
   ]
  },
  {
   "cell_type": "code",
   "execution_count": 15,
   "id": "ready-simple",
   "metadata": {
    "execution": {
     "iopub.execute_input": "2021-04-02T00:15:13.849489Z",
     "iopub.status.busy": "2021-04-02T00:15:13.843697Z",
     "iopub.status.idle": "2021-04-02T00:15:15.712888Z",
     "shell.execute_reply": "2021-04-02T00:15:15.713693Z"
    }
   },
   "outputs": [],
   "source": [
    "with openrlib.rlock:\n",
    "    robjects.r('''\n",
    "    sig_metabolites_kegg_id= map_keggid(sig_metabolites)\n",
    "    ''')\n",
    "    pass"
   ]
  },
  {
   "cell_type": "markdown",
   "id": "fabulous-filling",
   "metadata": {},
   "source": [
    "#### Check all your significant metabolites have not been assigned metabolite class\n",
    "Outcome should be 0 elements."
   ]
  },
  {
   "cell_type": "code",
   "execution_count": 16,
   "id": "painful-heater",
   "metadata": {
    "execution": {
     "iopub.execute_input": "2021-04-02T00:15:15.723167Z",
     "iopub.status.busy": "2021-04-02T00:15:15.720517Z",
     "iopub.status.idle": "2021-04-02T00:15:15.729373Z",
     "shell.execute_reply": "2021-04-02T00:15:15.730039Z"
    }
   },
   "outputs": [
    {
     "data": {
      "text/html": [
       "\n",
       "<emph>StrVector</emph> with 0 elements:\n",
       "<table class=\"rpy2_table\">\n",
       "<thead>\n",
       "</thead>\n",
       "<tbody>\n",
       "<tr>\n",
       "</tr>\n",
       "</tbody>\n",
       "</table>"
      ],
      "text/plain": [
       "<rpy2.robjects.vectors.StrVector object at 0x7fae3ca54fc0> [RTYPES.STRSXP]\n",
       "R classes: ('character',)\n",
       "[]"
      ]
     },
     "execution_count": 16,
     "metadata": {},
     "output_type": "execute_result"
    }
   ],
   "source": [
    "robjects.r('''\n",
    "setdiff(sig_metabolites$refmet_name, sig_metabolites_kegg_id$refmet_name)\n",
    "''')"
   ]
  },
  {
   "cell_type": "markdown",
   "id": "least-shape",
   "metadata": {},
   "source": [
    "### Count metabolites in each of the metabolite class and plotting\n",
    "You may choose from sub_class, main_class and super_class"
   ]
  },
  {
   "cell_type": "code",
   "execution_count": 17,
   "id": "everyday-battlefield",
   "metadata": {
    "execution": {
     "iopub.execute_input": "2021-04-02T00:15:15.747740Z",
     "iopub.status.busy": "2021-04-02T00:15:15.743951Z",
     "iopub.status.idle": "2021-04-02T00:15:16.566955Z",
     "shell.execute_reply": "2021-04-02T00:15:16.567546Z"
    }
   },
   "outputs": [
    {
     "data": {
      "text/html": [
       "\n",
       "<emph>ListVector</emph> with 2 elements:\n",
       "<table class=\"rpy2_table\">\n",
       "<thead>\n",
       "</thead>\n",
       "<tbody>\n",
       "  <tr>\n",
       "    <td class=\"rpy2_rowname\">0</td>\n",
       "    <td class=\"rpy2_names\">sig_met_count</td>\n",
       "    <td>        ...</td>\n",
       "  </tr>\n",
       "  <tr>\n",
       "    <td class=\"rpy2_rowname\">1</td>\n",
       "    <td class=\"rpy2_names\">plotimg</td>\n",
       "    <td></td>\n",
       "  </tr>\n",
       "</tr>\n",
       "</tbody>\n",
       "</table>"
      ],
      "text/plain": [
       "<rpy2.robjects.vectors.ListVector object at 0x7fae3ca2db40> [RTYPES.VECSXP]\n",
       "R classes: ('list',)\n",
       "[ListSexpVector, ListSexpVector]\n",
       "  sig_met_count: <class 'rpy2.rinterface.ListSexpVector'>\n",
       "  <rpy2.rinterface.ListSexpVector object at 0x7fae3f944480> [RTYPES.VECSXP]\n",
       "  plotimg: <class 'rpy2.rinterface.ListSexpVector'>\n",
       "  <rpy2.rinterface.ListSexpVector object at 0x7fae3ca26880> [RTYPES.VECSXP]"
      ]
     },
     "execution_count": 17,
     "metadata": {},
     "output_type": "execute_result"
    }
   ],
   "source": [
    "robjects.r.assign('classtype', ['sub_class'])\n",
    "robjects.r('''\n",
    "metclassvar <- as.character(classtype[1])\n",
    "count_changes = metcountplot(df_metclass=sig_metabolites_kegg_id, metclass=metclassvar, plotting=TRUE, thres_logfC = 0.5)\n",
    "''')"
   ]
  },
  {
   "cell_type": "code",
   "execution_count": 18,
   "id": "desperate-message",
   "metadata": {
    "execution": {
     "iopub.execute_input": "2021-04-02T00:15:16.576955Z",
     "iopub.status.busy": "2021-04-02T00:15:16.574106Z",
     "iopub.status.idle": "2021-04-02T00:15:16.824876Z",
     "shell.execute_reply": "2021-04-02T00:15:16.825873Z"
    }
   },
   "outputs": [
    {
     "data": {
      "image/png": "[encoded data removed]",
      "text/plain": [
       "<IPython.core.display.Image object>"
      ]
     },
     "execution_count": 18,
     "metadata": {},
     "output_type": "execute_result"
    }
   ],
   "source": [
    "image_png(robjects.r('''\n",
    "count_changes$plotimg\n",
    "'''))"
   ]
  },
  {
   "cell_type": "markdown",
   "id": "double-string",
   "metadata": {},
   "source": [
    "### Enrichment class score\n",
    "\n",
    "Calculate the enrichment score of each metabolite class. Enrichment score is calculated through hypergeometric method. One can specify the no. of significant metabolites in a class while calculating the enrichment score. We advice to use the number of mtabolites in each class as 3 or more. But if someone just wants to know the enrichment score and rest of the information of all the metabolites, then they can choose the number as 1."
   ]
  },
  {
   "cell_type": "markdown",
   "id": "fossil-crime",
   "metadata": {},
   "source": [
    "### If no figure shows here/an error returns, change the significant metabolites per class."
   ]
  },
  {
   "cell_type": "code",
   "execution_count": 19,
   "id": "cosmetic-sleep",
   "metadata": {
    "execution": {
     "iopub.execute_input": "2021-04-02T00:15:16.841835Z",
     "iopub.status.busy": "2021-04-02T00:15:16.836712Z",
     "iopub.status.idle": "2021-04-02T00:15:16.850758Z",
     "shell.execute_reply": "2021-04-02T00:15:16.844010Z"
    }
   },
   "outputs": [
    {
     "data": {
      "text/html": [
       "\n",
       "<emph>IntVector</emph> with 1 elements:\n",
       "<table class=\"rpy2_table\">\n",
       "<thead>\n",
       "</thead>\n",
       "<tbody>\n",
       "<tr>\n",
       "      <td>3</td>\n",
       "</tr>\n",
       "</tbody>\n",
       "</table>"
      ],
      "text/plain": [
       "<rpy2.robjects.vectors.IntVector object at 0x7fae3ca04d80> [RTYPES.INTSXP]\n",
       "R classes: ('integer',)\n",
       "[3]"
      ]
     },
     "execution_count": 19,
     "metadata": {},
     "output_type": "execute_result"
    }
   ],
   "source": [
    "robjects.r.assign('sigmets', 3)"
   ]
  },
  {
   "cell_type": "code",
   "execution_count": 20,
   "id": "involved-milton",
   "metadata": {
    "execution": {
     "iopub.execute_input": "2021-04-02T00:15:16.867586Z",
     "iopub.status.busy": "2021-04-02T00:15:16.863671Z",
     "iopub.status.idle": "2021-04-02T00:15:16.998712Z",
     "shell.execute_reply": "2021-04-02T00:15:16.999702Z"
    }
   },
   "outputs": [
    {
     "data": {
      "text/plain": [
       "''"
      ]
     },
     "execution_count": 20,
     "metadata": {},
     "output_type": "execute_result"
    }
   ],
   "source": [
    "robjects.r('''\n",
    "metenrichment = metclassenrichment(df_metclass=sig_metabolites_kegg_id,refmet_class, metclass=metclassvar,enrich_stats=\"HG\",no=sigmets)\n",
    "''')\n",
    ";"
   ]
  },
  {
   "cell_type": "markdown",
   "id": "twenty-football",
   "metadata": {},
   "source": [
    "#### Plot the enrichment score via function plot_met_enrichment"
   ]
  },
  {
   "cell_type": "code",
   "execution_count": 21,
   "id": "stuck-hindu",
   "metadata": {
    "execution": {
     "iopub.execute_input": "2021-04-02T00:15:17.012233Z",
     "iopub.status.busy": "2021-04-02T00:15:17.008793Z",
     "iopub.status.idle": "2021-04-02T00:15:17.190360Z",
     "shell.execute_reply": "2021-04-02T00:15:17.191294Z"
    }
   },
   "outputs": [
    {
     "data": {
      "image/png": "[encoded data removed]",
      "text/plain": [
       "<IPython.core.display.Image object>"
      ]
     },
     "execution_count": 21,
     "metadata": {},
     "output_type": "execute_result"
    }
   ],
   "source": [
    "image_png(robjects.r('''\n",
    "plot_met_enrichment(metenrichment, metclassvar,\"HG\", no=sigmets)\n",
    "'''))"
   ]
  },
  {
   "cell_type": "markdown",
   "id": "informational-flood",
   "metadata": {},
   "source": [
    "### Check the pathways with reactions of all the significant metabolites"
   ]
  },
  {
   "cell_type": "code",
   "execution_count": 22,
   "id": "ultimate-hollywood",
   "metadata": {
    "execution": {
     "iopub.execute_input": "2021-04-02T00:15:17.206898Z",
     "iopub.status.busy": "2021-04-02T00:15:17.201068Z",
     "iopub.status.idle": "2021-04-02T00:15:24.547417Z",
     "shell.execute_reply": "2021-04-02T00:15:24.548058Z"
    }
   },
   "outputs": [
    {
     "data": {
      "text/html": [
       "\n",
       "<emph>DataFrame</emph> with 6 rows and\n",
       "  22 columns:\n",
       "<table class=\"rpy2_table\">\n",
       "  <thead>\n",
       "    <tr class=\"rpy2_names\">\n",
       "      <th></th>\n",
       "      <th></th>\n",
       "      <th>rxn</th>\n",
       "      <th>refmet_name</th>\n",
       "      <th>Exact mass</th>\n",
       "      <th>KEGG ID</th>\n",
       "      <th>...</th>\n",
       "      <th>pathway_id</th>\n",
       "      <th>sps_path_id</th>\n",
       "    </tr>\n",
       "  </thead>\n",
       "  <tbody>\n",
       "    <tr>\n",
       "      <td class=\"rpy2_rowname\">0</td>\n",
       "        <td class=\"rpy2_names\">1</td>\n",
       "      <td>R01003</td>\n",
       "      <td>Dolichol-20</td>\n",
       "      <td>1381.2782</td>\n",
       "      <td>C00381</td>\n",
       "       <td>...</td>\n",
       "      <td>rn00510</td>\n",
       "      <td>hsa00510</td>\n",
       "    </tr>\n",
       "    <tr>\n",
       "      <td class=\"rpy2_rowname\">1</td>\n",
       "        <td class=\"rpy2_names\">2</td>\n",
       "      <td>R01003</td>\n",
       "      <td>Dolichol-20</td>\n",
       "      <td>1381.2782</td>\n",
       "      <td>C00381</td>\n",
       "       <td>...</td>\n",
       "      <td>rn01100</td>\n",
       "      <td>hsa01100</td>\n",
       "    </tr>\n",
       "    <tr>\n",
       "      <td class=\"rpy2_rowname\">2</td>\n",
       "        <td class=\"rpy2_names\">3</td>\n",
       "      <td>R01018</td>\n",
       "      <td>Dolichol-20</td>\n",
       "      <td>1381.2782</td>\n",
       "      <td>C00381</td>\n",
       "       <td>...</td>\n",
       "      <td>rn00510</td>\n",
       "      <td>hsa00510</td>\n",
       "    </tr>\n",
       "    <tr>\n",
       "      <td class=\"rpy2_rowname\">3</td>\n",
       "        <td class=\"rpy2_names\">4</td>\n",
       "      <td>R01018</td>\n",
       "      <td>Dolichol-20</td>\n",
       "      <td>1381.2782</td>\n",
       "      <td>C00381</td>\n",
       "       <td>...</td>\n",
       "      <td>rn01100</td>\n",
       "      <td>hsa01100</td>\n",
       "    </tr>\n",
       "    <tr>\n",
       "      <td class=\"rpy2_rowname\">4</td>\n",
       "        <td class=\"rpy2_names\">5</td>\n",
       "      <td>R01312</td>\n",
       "      <td>1,2-DG 34:0</td>\n",
       "      <td>596.5380</td>\n",
       "      <td>C00641</td>\n",
       "       <td>...</td>\n",
       "      <td>rn00564</td>\n",
       "      <td>hsa00564</td>\n",
       "    </tr>\n",
       "    <tr>\n",
       "      <td class=\"rpy2_rowname\">5</td>\n",
       "        <td class=\"rpy2_names\">6</td>\n",
       "      <td>R01312</td>\n",
       "      <td>1,2-DG 36:4</td>\n",
       "      <td>616.5067</td>\n",
       "      <td>C00641</td>\n",
       "       <td>...</td>\n",
       "      <td>rn00564</td>\n",
       "      <td>hsa00564</td>\n",
       "    </tr>\n",
       "  </tbody>\n",
       "</table>"
      ],
      "text/plain": [
       "<rpy2.robjects.vectors.DataFrame object at 0x7fae3d0b44c0> [RTYPES.VECSXP]\n",
       "R classes: ('data.frame',)\n",
       "[StrSexpVe..., StrSexpVe..., StrSexpVe..., StrSexpVe..., ..., ListSexpV..., StrSexpVe..., StrSexpVe..., StrSexpVe...]\n",
       "  rxn: <class 'rpy2.robjects.vectors.StrVector'>\n",
       "  <rpy2.robjects.vectors.StrVector object at 0x7fae3d0b7f80> [RTYPES.STRSXP]\n",
       "R classes: ('character',)\n",
       "['R010..., 'R010..., 'R010..., 'R010..., 'R013..., 'R013...]\n",
       "  refmet_name: <class 'rpy2.robjects.vectors.StrVector'>\n",
       "  <rpy2.robjects.vectors.StrVector object at 0x7fae3d0b7080> [RTYPES.STRSXP]\n",
       "R classes: ('character',)\n",
       "['Doli..., 'Doli..., 'Doli..., 'Doli..., '1,2-..., '1,2-...]\n",
       "  Exact mass: <class 'rpy2.robjects.vectors.StrVector'>\n",
       "  <rpy2.robjects.vectors.StrVector object at 0x7fae3f90f080> [RTYPES.STRSXP]\n",
       "R classes: ('character',)\n",
       "['1381..., '1381..., '1381..., '1381..., '596...., '616....]\n",
       "  KEGG ID: <class 'rpy2.robjects.vectors.StrVector'>\n",
       "  <rpy2.robjects.vectors.StrVector object at 0x7fae3f90fb40> [RTYPES.STRSXP]\n",
       "R classes: ('character',)\n",
       "['C003..., 'C003..., 'C003..., 'C003..., 'C006..., 'C006...]\n",
       "...\n",
       "<rpy2.robjects.vectors.DataFrame object at 0x7fae3d0b44c0> [RTYPES.VECSXP]\n",
       "R classes: ('data.frame',)\n",
       "[StrSexpVe..., StrSexpVe..., StrSexpVe..., StrSexpVe..., ..., ListSexpV..., StrSexpVe..., StrSexpVe..., StrSexpVe...]\n",
       "  Normal_mean: <class 'rpy2.robjects.vectors.StrVector'>\n",
       "  <rpy2.robjects.vectors.StrVector object at 0x7fae3f90ffc0> [RTYPES.STRSXP]\n",
       "R classes: ('character',)\n",
       "['N-Gl..., 'Meta..., 'N-Gl..., 'Meta..., 'Glyc..., 'Glyc...]\n",
       "  Fold_change: <class 'rpy2.robjects.vectors.StrVector'>\n",
       "  <rpy2.robjects.vectors.StrVector object at 0x7fae3f90f2c0> [RTYPES.STRSXP]\n",
       "R classes: ('character',)\n",
       "['rn00..., 'rn01..., 'rn00..., 'rn01..., 'rn00..., 'rn00...]\n",
       "  log2Fold_change: <class 'rpy2.robjects.vectors.StrVector'>\n",
       "  <rpy2.robjects.vectors.StrVector object at 0x7fae3f90f900> [RTYPES.STRSXP]\n",
       "R classes: ('character',)\n",
       "['hsa0..., 'hsa0..., 'hsa0..., 'hsa0..., 'hsa0..., 'hsa0...]"
      ]
     },
     "execution_count": 22,
     "metadata": {},
     "output_type": "execute_result"
    }
   ],
   "source": [
    "robjects.r.assign('studyOrg', 'hsa')\n",
    "robjects.r('''\n",
    "met_path = met_pathways(df_metenrichment = metenrichment, studyOrg)\n",
    "head(met_path)\n",
    "''')"
   ]
  },
  {
   "cell_type": "markdown",
   "id": "about-complex",
   "metadata": {},
   "source": [
    "### Get pathway enrichment sore.\n",
    "\n",
    "Once we have the pathway information, we can calculate enrichment score of pathways. Again, here i have used hypergeometric score. For hypergeometric score, we need to know the total number of kegg compounds that are linked to kegg pathways. \n",
    "N = total no. of cmpds linked to kegg pathway (this is the step which might take long), so I advice to run the script comp_linkedto_pathways() just the first time or after 6 months or so if desired to run the pipeline again. save the result from comp_linkedto_pathways() and load it. Loading from saved file would save time for another analysis with another study. However the package takes care of loading. Save the data in the data folder.\n",
    "\n",
    "L = No. of cmpds in a pathway\n",
    "M= no. of altered cmpds in a pathway\n",
    "K =  total no. of altered cmpds\n",
    "phyper(M,L, N-L, K)\n",
    "\n",
    "\n",
    "This function also utilizes korg dataset from pathview package."
   ]
  },
  {
   "cell_type": "code",
   "execution_count": 23,
   "id": "molecular-liechtenstein",
   "metadata": {
    "execution": {
     "iopub.execute_input": "2021-04-02T00:15:24.561046Z",
     "iopub.status.busy": "2021-04-02T00:15:24.557632Z",
     "iopub.status.idle": "2021-04-02T00:15:24.571960Z",
     "shell.execute_reply": "2021-04-02T00:15:24.573553Z"
    }
   },
   "outputs": [
    {
     "data": {
      "text/html": [
       "\n",
       "<emph>StrVector</emph> with 1 elements:\n",
       "<table class=\"rpy2_table\">\n",
       "<thead>\n",
       "</thead>\n",
       "<tbody>\n",
       "<tr>\n",
       "      <td>FALSE</td>\n",
       "</tr>\n",
       "</tbody>\n",
       "</table>"
      ],
      "text/plain": [
       "<rpy2.robjects.vectors.StrVector object at 0x7fae3cf56a80> [RTYPES.STRSXP]\n",
       "R classes: ('character',)\n",
       "['FALSE']"
      ]
     },
     "execution_count": 23,
     "metadata": {},
     "output_type": "execute_result"
    }
   ],
   "source": [
    "robjects.r.assign('keggTF', ['FALSE'])\n",
    "robjects.r('''\n",
    "keggTFchar<-as.character(keggTF[1])\n",
    "''')"
   ]
  },
  {
   "cell_type": "code",
   "execution_count": 24,
   "id": "extreme-calendar",
   "metadata": {
    "execution": {
     "iopub.execute_input": "2021-04-02T00:15:24.589430Z",
     "iopub.status.busy": "2021-04-02T00:15:24.585780Z",
     "iopub.status.idle": "2021-04-02T00:15:24.592708Z",
     "shell.execute_reply": "2021-04-02T00:15:24.591125Z"
    }
   },
   "outputs": [],
   "source": [
    "korg = \"/static/korg.RData\"\n",
    "ls_path1 = \"/static/ls_path.RData\""
   ]
  },
  {
   "cell_type": "code",
   "execution_count": 25,
   "id": "reasonable-crazy",
   "metadata": {
    "execution": {
     "iopub.execute_input": "2021-04-02T00:15:24.605782Z",
     "iopub.status.busy": "2021-04-02T00:15:24.602967Z",
     "shell.execute_reply": "2021-04-02T00:16:53.183876Z"
    }
   },
   "outputs": [
    {
     "name": "stdout",
     "output_type": "stream",
     "text": [
      "/static/korg.RData\n",
      "here\n",
      "       "
     ]
    },
    {
     "name": "stdout",
     "output_type": "stream",
     "text": [
      " ktax.id "
     ]
    },
    {
     "name": "stdout",
     "output_type": "stream",
     "text": [
      " tax.id                                          "
     ]
    },
    {
     "name": "stdout",
     "output_type": "stream",
     "text": [
      " kegg.code"
     ]
    },
    {
     "name": "stdout",
     "output_type": "stream",
     "text": [
      "\n",
      "   [1,]"
     ]
    },
    {
     "name": "stdout",
     "output_type": "stream",
     "text": [
      " \"T01001\""
     ]
    },
    {
     "name": "stdout",
     "output_type": "stream",
     "text": [
      " \"9606\"                                          "
     ]
    },
    {
     "name": "stdout",
     "output_type": "stream",
     "text": [
      " \"hsa\"    "
     ]
    },
    {
     "name": "stdout",
     "output_type": "stream",
     "text": [
      "\n",
      "   [2,]"
     ]
    },
    {
     "name": "stdout",
     "output_type": "stream",
     "text": [
      " \"T01005\""
     ]
    },
    {
     "name": "stdout",
     "output_type": "stream",
     "text": [
      " \"9598\"                                          "
     ]
    },
    {
     "name": "stdout",
     "output_type": "stream",
     "text": [
      " \"ptr\"    "
     ]
    },
    {
     "name": "stdout",
     "output_type": "stream",
     "text": [
      "\n",
      "   [3,]"
     ]
    },
    {
     "name": "stdout",
     "output_type": "stream",
     "text": [
      " \"T02283\""
     ]
    },
    {
     "name": "stdout",
     "output_type": "stream",
     "text": [
      " \"9597\"                                          "
     ]
    },
    {
     "name": "stdout",
     "output_type": "stream",
     "text": [
      " \"pps\"    "
     ]
    },
    {
     "name": "stdout",
     "output_type": "stream",
     "text": [
      "\n",
      "   [4,]"
     ]
    },
    {
     "name": "stdout",
     "output_type": "stream",
     "text": [
      " \"T02442\""
     ]
    },
    {
     "name": "stdout",
     "output_type": "stream",
     "text": [
      " \"9595\"                                          "
     ]
    },
    {
     "name": "stdout",
     "output_type": "stream",
     "text": [
      " \"ggo\"    "
     ]
    },
    {
     "name": "stdout",
     "output_type": "stream",
     "text": [
      "\n",
      "   [5,]"
     ]
    },
    {
     "name": "stdout",
     "output_type": "stream",
     "text": [
      " \"T01416\""
     ]
    },
    {
     "name": "stdout",
     "output_type": "stream",
     "text": [
      " \"9601\"                                          "
     ]
    },
    {
     "name": "stdout",
     "output_type": "stream",
     "text": [
      " \"pon\"    "
     ]
    },
    {
     "name": "stdout",
     "output_type": "stream",
     "text": [
      "\n",
      "   [6,]"
     ]
    },
    {
     "name": "stdout",
     "output_type": "stream",
     "text": [
      " \"T03265\""
     ]
    },
    {
     "name": "stdout",
     "output_type": "stream",
     "text": [
      " \"61853\"                                         "
     ]
    },
    {
     "name": "stdout",
     "output_type": "stream",
     "text": [
      " \"nle\"    "
     ]
    },
    {
     "name": "stdout",
     "output_type": "stream",
     "text": [
      "\n",
      "   [7,]"
     ]
    },
    {
     "name": "stdout",
     "output_type": "stream",
     "text": [
      " \"T01028\""
     ]
    },
    {
     "name": "stdout",
     "output_type": "stream",
     "text": [
      " \"9544\"                                          "
     ]
    },
    {
     "name": "stdout",
     "output_type": "stream",
     "text": [
      " \"mcc\"    "
     ]
    },
    {
     "name": "stdout",
     "output_type": "stream",
     "text": [
      "\n",
      "   [8,]"
     ]
    },
    {
     "name": "stdout",
     "output_type": "stream",
     "text": [
      " \"T02918\""
     ]
    },
    {
     "name": "stdout",
     "output_type": "stream",
     "text": [
      " \"9541\"                                          "
     ]
    },
    {
     "name": "stdout",
     "output_type": "stream",
     "text": [
      " \"mcf\"    "
     ]
    },
    {
     "name": "stdout",
     "output_type": "stream",
     "text": [
      "\n",
      "   [9,]"
     ]
    },
    {
     "name": "stdout",
     "output_type": "stream",
     "text": [
      " \"T04361\""
     ]
    },
    {
     "name": "stdout",
     "output_type": "stream",
     "text": [
      " \"60711\"                                         "
     ]
    },
    {
     "name": "stdout",
     "output_type": "stream",
     "text": [
      " \"csab\"   "
     ]
    },
    {
     "name": "stdout",
     "output_type": "stream",
     "text": [
      "\n",
      "  [10,]"
     ]
    },
    {
     "name": "stdout",
     "output_type": "stream",
     "text": [
      " \"T03989\""
     ]
    },
    {
     "name": "stdout",
     "output_type": "stream",
     "text": [
      " \"61622\"                                         "
     ]
    },
    {
     "name": "stdout",
     "output_type": "stream",
     "text": [
      " \"rro\"    "
     ]
    },
    {
     "name": "stdout",
     "output_type": "stream",
     "text": [
      "\n",
      "  [11,]"
     ]
    },
    {
     "name": "stdout",
     "output_type": "stream",
     "text": [
      " \"T04641\""
     ]
    },
    {
     "name": "stdout",
     "output_type": "stream",
     "text": [
      " \"61621\"                                         "
     ]
    },
    {
     "name": "stdout",
     "output_type": "stream",
     "text": [
      " \"rbb\"    "
     ]
    },
    {
     "name": "stdout",
     "output_type": "stream",
     "text": [
      "\n",
      "  [12,]"
     ]
    },
    {
     "name": "stdout",
     "output_type": "stream",
     "text": [
      " \"T03264\""
     ]
    },
    {
     "name": "stdout",
     "output_type": "stream",
     "text": [
      " \"9483\"                                          "
     ]
    },
    {
     "name": "stdout",
     "output_type": "stream",
     "text": [
      " \"cjc\"    "
     ]
    },
    {
     "name": "stdout",
     "output_type": "stream",
     "text": [
      "\n",
      "  [13,]"
     ]
    },
    {
     "name": "stdout",
     "output_type": "stream",
     "text": [
      " \"T04350\""
     ]
    },
    {
     "name": "stdout",
     "output_type": "stream",
     "text": [
      " \"39432\"                                         "
     ]
    },
    {
     "name": "stdout",
     "output_type": "stream",
     "text": [
      " \"sbq\"    "
     ]
    },
    {
     "name": "stdout",
     "output_type": "stream",
     "text": [
      "\n",
      "  [14,]"
     ]
    },
    {
     "name": "stdout",
     "output_type": "stream",
     "text": [
      " \"T01002\""
     ]
    },
    {
     "name": "stdout",
     "output_type": "stream",
     "text": [
      " \"10090\"                                         "
     ]
    },
    {
     "name": "stdout",
     "output_type": "stream",
     "text": [
      " \"mmu\"    "
     ]
    },
    {
     "name": "stdout",
     "output_type": "stream",
     "text": [
      "\n",
      "  [15,]"
     ]
    },
    {
     "name": "stdout",
     "output_type": "stream",
     "text": [
      " \"T01003\""
     ]
    },
    {
     "name": "stdout",
     "output_type": "stream",
     "text": [
      " \"10116\"                                         "
     ]
    },
    {
     "name": "stdout",
     "output_type": "stream",
     "text": [
      " \"rno\"    "
     ]
    },
    {
     "name": "stdout",
     "output_type": "stream",
     "text": [
      "\n",
      "  [16,]"
     ]
    },
    {
     "name": "stdout",
     "output_type": "stream",
     "text": [
      " \"T02813\""
     ]
    },
    {
     "name": "stdout",
     "output_type": "stream",
     "text": [
      " \"10029\"                                         "
     ]
    },
    {
     "name": "stdout",
     "output_type": "stream",
     "text": [
      " \"cge\"    "
     ]
    },
    {
     "name": "stdout",
     "output_type": "stream",
     "text": [
      "\n",
      "  [17,]"
     ]
    },
    {
     "name": "stdout",
     "output_type": "stream",
     "text": [
      " \"T03372\""
     ]
    },
    {
     "name": "stdout",
     "output_type": "stream",
     "text": [
      " \"1026970\"                                       "
     ]
    },
    {
     "name": "stdout",
     "output_type": "stream",
     "text": [
      " \"ngi\"    "
     ]
    },
    {
     "name": "stdout",
     "output_type": "stream",
     "text": [
      "\n",
      "  [18,]"
     ]
    },
    {
     "name": "stdout",
     "output_type": "stream",
     "text": [
      " \"T02812\""
     ]
    },
    {
     "name": "stdout",
     "output_type": "stream",
     "text": [
      " \"10181\"                                         "
     ]
    },
    {
     "name": "stdout",
     "output_type": "stream",
     "text": [
      " \"hgl\"    "
     ]
    },
    {
     "name": "stdout",
     "output_type": "stream",
     "text": [
      "\n",
      "  [19,]"
     ]
    },
    {
     "name": "stdout",
     "output_type": "stream",
     "text": [
      " \"T04791\""
     ]
    },
    {
     "name": "stdout",
     "output_type": "stream",
     "text": [
      " \"51338\"                                         "
     ]
    },
    {
     "name": "stdout",
     "output_type": "stream",
     "text": [
      " \"ccan\"   "
     ]
    },
    {
     "name": "stdout",
     "output_type": "stream",
     "text": [
      "\n",
      "  [20,]"
     ]
    },
    {
     "name": "stdout",
     "output_type": "stream",
     "text": [
      " \"T03373\""
     ]
    },
    {
     "name": "stdout",
     "output_type": "stream",
     "text": [
      " \"9986\"                                          "
     ]
    },
    {
     "name": "stdout",
     "output_type": "stream",
     "text": [
      " \"ocu\"    "
     ]
    },
    {
     "name": "stdout",
     "output_type": "stream",
     "text": [
      "\n",
      "  [21,]"
     ]
    },
    {
     "name": "stdout",
     "output_type": "stream",
     "text": [
      " \"T02978\""
     ]
    },
    {
     "name": "stdout",
     "output_type": "stream",
     "text": [
      " \"246437\"                                        "
     ]
    },
    {
     "name": "stdout",
     "output_type": "stream",
     "text": [
      " \"tup\"    "
     ]
    },
    {
     "name": "stdout",
     "output_type": "stream",
     "text": [
      "\n",
      "  [22,]"
     ]
    },
    {
     "name": "stdout",
     "output_type": "stream",
     "text": [
      " \"T01007\""
     ]
    },
    {
     "name": "stdout",
     "output_type": "stream",
     "text": [
      " \"9615\"                                          "
     ]
    },
    {
     "name": "stdout",
     "output_type": "stream",
     "text": [
      " \"cfa\"    "
     ]
    },
    {
     "name": "stdout",
     "output_type": "stream",
     "text": [
      "\n",
      "  [23,]"
     ]
    },
    {
     "name": "stdout",
     "output_type": "stream",
     "text": [
      " \"T01329\""
     ]
    },
    {
     "name": "stdout",
     "output_type": "stream",
     "text": [
      " \"9646\"                                          "
     ]
    },
    {
     "name": "stdout",
     "output_type": "stream",
     "text": [
      " \"aml\"    "
     ]
    },
    {
     "name": "stdout",
     "output_type": "stream",
     "text": [
      "\n",
      "  [24,]"
     ]
    },
    {
     "name": "stdout",
     "output_type": "stream",
     "text": [
      " \"T03271\""
     ]
    },
    {
     "name": "stdout",
     "output_type": "stream",
     "text": [
      " \"29073\"                                         "
     ]
    },
    {
     "name": "stdout",
     "output_type": "stream",
     "text": [
      " \"umr\"    "
     ]
    },
    {
     "name": "stdout",
     "output_type": "stream",
     "text": [
      "\n",
      "  [25,]"
     ]
    },
    {
     "name": "stdout",
     "output_type": "stream",
     "text": [
      " \"T05148\""
     ]
    },
    {
     "name": "stdout",
     "output_type": "stream",
     "text": [
      " \"9708\"                                          "
     ]
    },
    {
     "name": "stdout",
     "output_type": "stream",
     "text": [
      " \"oro\"    "
     ]
    },
    {
     "name": "stdout",
     "output_type": "stream",
     "text": [
      "\n",
      "  [26,]"
     ]
    },
    {
     "name": "stdout",
     "output_type": "stream",
     "text": [
      " \"T02385\""
     ]
    },
    {
     "name": "stdout",
     "output_type": "stream",
     "text": [
      " \"9685\"                                          "
     ]
    },
    {
     "name": "stdout",
     "output_type": "stream",
     "text": [
      " \"fca\"    "
     ]
    },
    {
     "name": "stdout",
     "output_type": "stream",
     "text": [
      "\n",
      "  [27,]"
     ]
    },
    {
     "name": "stdout",
     "output_type": "stream",
     "text": [
      " \"T02988\""
     ]
    },
    {
     "name": "stdout",
     "output_type": "stream",
     "text": [
      " \"74533\"                                         "
     ]
    },
    {
     "name": "stdout",
     "output_type": "stream",
     "text": [
      " \"ptg\"    "
     ]
    },
    {
     "name": "stdout",
     "output_type": "stream",
     "text": [
      "\n",
      "  [28,]"
     ]
    },
    {
     "name": "stdout",
     "output_type": "stream",
     "text": [
      " \"T04657\""
     ]
    },
    {
     "name": "stdout",
     "output_type": "stream",
     "text": [
      " \"32536\"                                         "
     ]
    },
    {
     "name": "stdout",
     "output_type": "stream",
     "text": [
      " \"aju\"    "
     ]
    },
    {
     "name": "stdout",
     "output_type": "stream",
     "text": [
      "\n",
      "  [29,]"
     ]
    },
    {
     "name": "stdout",
     "output_type": "stream",
     "text": [
      " \"T01008\""
     ]
    },
    {
     "name": "stdout",
     "output_type": "stream",
     "text": [
      " \"9913\"                                          "
     ]
    },
    {
     "name": "stdout",
     "output_type": "stream",
     "text": [
      " \"bta\"    "
     ]
    },
    {
     "name": "stdout",
     "output_type": "stream",
     "text": [
      "\n",
      "  [30,]"
     ]
    },
    {
     "name": "stdout",
     "output_type": "stream",
     "text": [
      " \"T02919\""
     ]
    },
    {
     "name": "stdout",
     "output_type": "stream",
     "text": [
      " \"72004\"                                         "
     ]
    },
    {
     "name": "stdout",
     "output_type": "stream",
     "text": [
      " \"bom\"    "
     ]
    },
    {
     "name": "stdout",
     "output_type": "stream",
     "text": [
      "\n",
      "  [31,]"
     ]
    },
    {
     "name": "stdout",
     "output_type": "stream",
     "text": [
      " \"T04792\""
     ]
    },
    {
     "name": "stdout",
     "output_type": "stream",
     "text": [
      " \"9915\"                                          "
     ]
    },
    {
     "name": "stdout",
     "output_type": "stream",
     "text": [
      " \"biu\"    "
     ]
    },
    {
     "name": "stdout",
     "output_type": "stream",
     "text": [
      "\n",
      "  [32,]"
     ]
    },
    {
     "name": "stdout",
     "output_type": "stream",
     "text": [
      " \"T02909\""
     ]
    },
    {
     "name": "stdout",
     "output_type": "stream",
     "text": [
      " \"59538\"                                         "
     ]
    },
    {
     "name": "stdout",
     "output_type": "stream",
     "text": [
      " \"phd\"    "
     ]
    },
    {
     "name": "stdout",
     "output_type": "stream",
     "text": [
      "\n",
      "  [33,]"
     ]
    },
    {
     "name": "stdout",
     "output_type": "stream",
     "text": [
      " \"T02910\""
     ]
    },
    {
     "name": "stdout",
     "output_type": "stream",
     "text": [
      " \"9925\"                                          "
     ]
    },
    {
     "name": "stdout",
     "output_type": "stream",
     "text": [
      " \"chx\"    "
     ]
    },
    {
     "name": "stdout",
     "output_type": "stream",
     "text": [
      "\n",
      "  [34,]"
     ]
    },
    {
     "name": "stdout",
     "output_type": "stream",
     "text": [
      " \"T03117\""
     ]
    },
    {
     "name": "stdout",
     "output_type": "stream",
     "text": [
      " \"9940\"                                          "
     ]
    },
    {
     "name": "stdout",
     "output_type": "stream",
     "text": [
      " \"oas\"    "
     ]
    },
    {
     "name": "stdout",
     "output_type": "stream",
     "text": [
      "\n",
      "  [35,]"
     ]
    },
    {
     "name": "stdout",
     "output_type": "stream",
     "text": [
      " \"T01009\""
     ]
    },
    {
     "name": "stdout",
     "output_type": "stream",
     "text": [
      " \"9823\"                                          "
     ]
    },
    {
     "name": "stdout",
     "output_type": "stream",
     "text": [
      " \"ssc\"    "
     ]
    },
    {
     "name": "stdout",
     "output_type": "stream",
     "text": [
      "\n",
      "  [36,]"
     ]
    },
    {
     "name": "stdout",
     "output_type": "stream",
     "text": [
      " \"T02979\""
     ]
    },
    {
     "name": "stdout",
     "output_type": "stream",
     "text": [
      " \"419612\"                                        "
     ]
    },
    {
     "name": "stdout",
     "output_type": "stream",
     "text": [
      " \"cfr\"    "
     ]
    },
    {
     "name": "stdout",
     "output_type": "stream",
     "text": [
      "\n",
      "  [37,]"
     ]
    },
    {
     "name": "stdout",
     "output_type": "stream",
     "text": [
      " \"T04642\""
     ]
    },
    {
     "name": "stdout",
     "output_type": "stream",
     "text": [
      " \"9838\"                                          "
     ]
    },
    {
     "name": "stdout",
     "output_type": "stream",
     "text": [
      " \"cdk\"    "
     ]
    },
    {
     "name": "stdout",
     "output_type": "stream",
     "text": [
      "\n",
      "  [38,]"
     ]
    },
    {
     "name": "stdout",
     "output_type": "stream",
     "text": [
      " \"T03086\""
     ]
    },
    {
     "name": "stdout",
     "output_type": "stream",
     "text": [
      " \"310752\"                                        "
     ]
    },
    {
     "name": "stdout",
     "output_type": "stream",
     "text": [
      " \"bacu\"   "
     ]
    },
    {
     "name": "stdout",
     "output_type": "stream",
     "text": [
      "\n",
      "  [39,]"
     ]
    },
    {
     "name": "stdout",
     "output_type": "stream",
     "text": [
      " \"T03090\""
     ]
    },
    {
     "name": "stdout",
     "output_type": "stream",
     "text": [
      " \"118797\"                                        "
     ]
    },
    {
     "name": "stdout",
     "output_type": "stream",
     "text": [
      " \"lve\"    "
     ]
    },
    {
     "name": "stdout",
     "output_type": "stream",
     "text": [
      "\n",
      "  [40,]"
     ]
    },
    {
     "name": "stdout",
     "output_type": "stream",
     "text": [
      " \"T01058\""
     ]
    },
    {
     "name": "stdout",
     "output_type": "stream",
     "text": [
      " \"9796\"                                          "
     ]
    },
    {
     "name": "stdout",
     "output_type": "stream",
     "text": [
      " \"ecb\"    "
     ]
    },
    {
     "name": "stdout",
     "output_type": "stream",
     "text": [
      "\n",
      "  [41,]"
     ]
    },
    {
     "name": "stdout",
     "output_type": "stream",
     "text": [
      " \"T04644\""
     ]
    },
    {
     "name": "stdout",
     "output_type": "stream",
     "text": [
      " \"9798\"                                          "
     ]
    },
    {
     "name": "stdout",
     "output_type": "stream",
     "text": [
      " \"epz\"    "
     ]
    },
    {
     "name": "stdout",
     "output_type": "stream",
     "text": [
      "\n",
      "  [42,]"
     ]
    },
    {
     "name": "stdout",
     "output_type": "stream",
     "text": [
      " \"T04645\""
     ]
    },
    {
     "name": "stdout",
     "output_type": "stream",
     "text": [
      " \"9793\"                                          "
     ]
    },
    {
     "name": "stdout",
     "output_type": "stream",
     "text": [
      " \"eai\"    "
     ]
    },
    {
     "name": "stdout",
     "output_type": "stream",
     "text": [
      "\n",
      "  [43,]"
     ]
    },
    {
     "name": "stdout",
     "output_type": "stream",
     "text": [
      " \"T02920\""
     ]
    },
    {
     "name": "stdout",
     "output_type": "stream",
     "text": [
      " \"109478\"                                        "
     ]
    },
    {
     "name": "stdout",
     "output_type": "stream",
     "text": [
      " \"myb\"    "
     ]
    },
    {
     "name": "stdout",
     "output_type": "stream",
     "text": [
      "\n",
      "  [44,]"
     ]
    },
    {
     "name": "stdout",
     "output_type": "stream",
     "text": [
      " \"T02992\""
     ]
    },
    {
     "name": "stdout",
     "output_type": "stream",
     "text": [
      " \"225400\"                                        "
     ]
    },
    {
     "name": "stdout",
     "output_type": "stream",
     "text": [
      " \"myd\"    "
     ]
    },
    {
     "name": "stdout",
     "output_type": "stream",
     "text": [
      "\n",
      "  [45,]"
     ]
    },
    {
     "name": "stdout",
     "output_type": "stream",
     "text": [
      " \"T04661\""
     ]
    },
    {
     "name": "stdout",
     "output_type": "stream",
     "text": [
      " \"186990\"                                        "
     ]
    },
    {
     "name": "stdout",
     "output_type": "stream",
     "text": [
      " \"hai\"    "
     ]
    },
    {
     "name": "stdout",
     "output_type": "stream",
     "text": [
      "\n",
      "  [46,]"
     ]
    },
    {
     "name": "stdout",
     "output_type": "stream",
     "text": [
      " \"T04863\""
     ]
    },
    {
     "name": "stdout",
     "output_type": "stream",
     "text": [
      " \"89399\"                                         "
     ]
    },
    {
     "name": "stdout",
     "output_type": "stream",
     "text": [
      " \"rss\"    "
     ]
    },
    {
     "name": "stdout",
     "output_type": "stream",
     "text": [
      "\n",
      "  [47,]"
     ]
    },
    {
     "name": "stdout",
     "output_type": "stream",
     "text": [
      " \"T02993\""
     ]
    },
    {
     "name": "stdout",
     "output_type": "stream",
     "text": [
      " \"9402\"                                          "
     ]
    },
    {
     "name": "stdout",
     "output_type": "stream",
     "text": [
      " \"pale\"   "
     ]
    },
    {
     "name": "stdout",
     "output_type": "stream",
     "text": [
      "\n",
      "  [48,]"
     ]
    },
    {
     "name": "stdout",
     "output_type": "stream",
     "text": [
      " \"T04351\""
     ]
    },
    {
     "name": "stdout",
     "output_type": "stream",
     "text": [
      " \"9785\"                                          "
     ]
    },
    {
     "name": "stdout",
     "output_type": "stream",
     "text": [
      " \"lav\"    "
     ]
    },
    {
     "name": "stdout",
     "output_type": "stream",
     "text": [
      "\n",
      "  [49,]"
     ]
    },
    {
     "name": "stdout",
     "output_type": "stream",
     "text": [
      " \"T05135\""
     ]
    },
    {
     "name": "stdout",
     "output_type": "stream",
     "text": [
      " \"127582\"                                        "
     ]
    },
    {
     "name": "stdout",
     "output_type": "stream",
     "text": [
      " \"tmu\"    "
     ]
    },
    {
     "name": "stdout",
     "output_type": "stream",
     "text": [
      "\n",
      "  [50,]"
     ]
    },
    {
     "name": "stdout",
     "output_type": "stream",
     "text": [
      " \"T01031\""
     ]
    },
    {
     "name": "stdout",
     "output_type": "stream",
     "text": [
      " \"13616\"                                         "
     ]
    },
    {
     "name": "stdout",
     "output_type": "stream",
     "text": [
      " \"mdo\"    "
     ]
    },
    {
     "name": "stdout",
     "output_type": "stream",
     "text": [
      "\n",
      "  [51,]"
     ]
    },
    {
     "name": "stdout",
     "output_type": "stream",
     "text": [
      " \"T02286\""
     ]
    },
    {
     "name": "stdout",
     "output_type": "stream",
     "text": [
      " \"9305\"                                          "
     ]
    },
    {
     "name": "stdout",
     "output_type": "stream",
     "text": [
      " \"shr\"    "
     ]
    },
    {
     "name": "stdout",
     "output_type": "stream",
     "text": [
      "\n",
      "  [52,]"
     ]
    },
    {
     "name": "stdout",
     "output_type": "stream",
     "text": [
      " \"T01045\""
     ]
    },
    {
     "name": "stdout",
     "output_type": "stream",
     "text": [
      " \"9258\"                                          "
     ]
    },
    {
     "name": "stdout",
     "output_type": "stream",
     "text": [
      " \"oaa\"    "
     ]
    },
    {
     "name": "stdout",
     "output_type": "stream",
     "text": [
      "\n",
      "  [53,]"
     ]
    },
    {
     "name": "stdout",
     "output_type": "stream",
     "text": [
      " \"T01006\""
     ]
    },
    {
     "name": "stdout",
     "output_type": "stream",
     "text": [
      " \"9031\"                                          "
     ]
    },
    {
     "name": "stdout",
     "output_type": "stream",
     "text": [
      " \"gga\"    "
     ]
    },
    {
     "name": "stdout",
     "output_type": "stream",
     "text": [
      "\n",
      "  [54,]"
     ]
    },
    {
     "name": "stdout",
     "output_type": "stream",
     "text": [
      " \"T01523\""
     ]
    },
    {
     "name": "stdout",
     "output_type": "stream",
     "text": [
      " \"9103\"                                          "
     ]
    },
    {
     "name": "stdout",
     "output_type": "stream",
     "text": [
      " \"mgp\"    "
     ]
    },
    {
     "name": "stdout",
     "output_type": "stream",
     "text": [
      "\n",
      "  [55,]"
     ]
    },
    {
     "name": "stdout",
     "output_type": "stream",
     "text": [
      " \"T04297\""
     ]
    },
    {
     "name": "stdout",
     "output_type": "stream",
     "text": [
      " \"93934\"                                         "
     ]
    },
    {
     "name": "stdout",
     "output_type": "stream",
     "text": [
      " \"cjo\"    "
     ]
    },
    {
     "name": "stdout",
     "output_type": "stream",
     "text": [
      "\n",
      "  [56,]"
     ]
    },
    {
     "name": "stdout",
     "output_type": "stream",
     "text": [
      " \"T02816\""
     ]
    },
    {
     "name": "stdout",
     "output_type": "stream",
     "text": [
      " \"8839\"                                          "
     ]
    },
    {
     "name": "stdout",
     "output_type": "stream",
     "text": [
      " \"apla\"   "
     ]
    },
    {
     "name": "stdout",
     "output_type": "stream",
     "text": [
      "\n",
      "  [57,]"
     ]
    },
    {
     "name": "stdout",
     "output_type": "stream",
     "text": [
      " \"T04896\""
     ]
    },
    {
     "name": "stdout",
     "output_type": "stream",
     "text": [
      " \"381198\"                                        "
     ]
    },
    {
     "name": "stdout",
     "output_type": "stream",
     "text": [
      " \"acyg\"   "
     ]
    },
    {
     "name": "stdout",
     "output_type": "stream",
     "text": [
      "\n",
      "  [58,]"
     ]
    },
    {
     "name": "stdout",
     "output_type": "stream",
     "text": [
      " \"T01082\""
     ]
    },
    {
     "name": "stdout",
     "output_type": "stream",
     "text": [
      " \"59729\"                                         "
     ]
    },
    {
     "name": "stdout",
     "output_type": "stream",
     "text": [
      " \"tgu\"    "
     ]
    },
    {
     "name": "stdout",
     "output_type": "stream",
     "text": [
      "\n",
      "  [59,]"
     ]
    },
    {
     "name": "stdout",
     "output_type": "stream",
     "text": [
      " \"T03755\""
     ]
    },
    {
     "name": "stdout",
     "output_type": "stream",
     "text": [
      " \"48883\"                                         "
     ]
    },
    {
     "name": "stdout",
     "output_type": "stream",
     "text": [
      " \"gfr\"    "
     ]
    },
    {
     "name": "stdout",
     "output_type": "stream",
     "text": [
      "\n",
      "  [60,]"
     ]
    },
    {
     "name": "stdout",
     "output_type": "stream",
     "text": [
      " \"T02815\""
     ]
    },
    {
     "name": "stdout",
     "output_type": "stream",
     "text": [
      " \"59894\"                                         "
     ]
    },
    {
     "name": "stdout",
     "output_type": "stream",
     "text": [
      " \"fab\"    "
     ]
    },
    {
     "name": "stdout",
     "output_type": "stream",
     "text": [
      "\n",
      "  [61,]"
     ]
    },
    {
     "name": "stdout",
     "output_type": "stream",
     "text": [
      " \"T02921\""
     ]
    },
    {
     "name": "stdout",
     "output_type": "stream",
     "text": [
      " \"181119\"                                        "
     ]
    },
    {
     "name": "stdout",
     "output_type": "stream",
     "text": [
      " \"phi\"    "
     ]
    },
    {
     "name": "stdout",
     "output_type": "stream",
     "text": [
      "\n",
      "  [62,]"
     ]
    },
    {
     "name": "stdout",
     "output_type": "stream",
     "text": [
      " \"T04864\""
     ]
    },
    {
     "name": "stdout",
     "output_type": "stream",
     "text": [
      " \"9157\"                                          "
     ]
    },
    {
     "name": "stdout",
     "output_type": "stream",
     "text": [
      " \"pmaj\"   "
     ]
    },
    {
     "name": "stdout",
     "output_type": "stream",
     "text": [
      "\n",
      "  [63,]"
     ]
    },
    {
     "name": "stdout",
     "output_type": "stream",
     "text": [
      " \"T03546\""
     ]
    },
    {
     "name": "stdout",
     "output_type": "stream",
     "text": [
      " \"932674\"                                        "
     ]
    },
    {
     "name": "stdout",
     "output_type": "stream",
     "text": [
      " \"ccw\"    "
     ]
    },
    {
     "name": "stdout",
     "output_type": "stream",
     "text": [
      "\n",
      "  [64,]"
     ]
    },
    {
     "name": "stdout",
     "output_type": "stream",
     "text": [
      " \"T02856\""
     ]
    },
    {
     "name": "stdout",
     "output_type": "stream",
     "text": [
      " \"8954\"                                          "
     ]
    },
    {
     "name": "stdout",
     "output_type": "stream",
     "text": [
      " \"fpg\"    "
     ]
    },
    {
     "name": "stdout",
     "output_type": "stream",
     "text": [
      "\n",
      "  [65,]"
     ]
    },
    {
     "name": "stdout",
     "output_type": "stream",
     "text": [
      " \"T02911\""
     ]
    },
    {
     "name": "stdout",
     "output_type": "stream",
     "text": [
      " \"345164\"                                        "
     ]
    },
    {
     "name": "stdout",
     "output_type": "stream",
     "text": [
      " \"fch\"    "
     ]
    },
    {
     "name": "stdout",
     "output_type": "stream",
     "text": [
      "\n",
      "  [66,]"
     ]
    },
    {
     "name": "stdout",
     "output_type": "stream",
     "text": [
      " \"T02912\""
     ]
    },
    {
     "name": "stdout",
     "output_type": "stream",
     "text": [
      " \"8932\"                                          "
     ]
    },
    {
     "name": "stdout",
     "output_type": "stream",
     "text": [
      " \"clv\"    "
     ]
    },
    {
     "name": "stdout",
     "output_type": "stream",
     "text": [
      "\n",
      "  [67,]"
     ]
    },
    {
     "name": "stdout",
     "output_type": "stream",
     "text": [
      " \"T05152\""
     ]
    },
    {
     "name": "stdout",
     "output_type": "stream",
     "text": [
      " \"188379\"                                        "
     ]
    },
    {
     "name": "stdout",
     "output_type": "stream",
     "text": [
      " \"egz\"    "
     ]
    },
    {
     "name": "stdout",
     "output_type": "stream",
     "text": [
      "\n",
      "  [68,]"
     ]
    },
    {
     "name": "stdout",
     "output_type": "stream",
     "text": [
      " \"T04298\""
     ]
    },
    {
     "name": "stdout",
     "output_type": "stream",
     "text": [
      " \"202946\"                                        "
     ]
    },
    {
     "name": "stdout",
     "output_type": "stream",
     "text": [
      " \"aam\"    "
     ]
    },
    {
     "name": "stdout",
     "output_type": "stream",
     "text": [
      "\n",
      "  [69,]"
     ]
    },
    {
     "name": "stdout",
     "output_type": "stream",
     "text": [
      " \"T02922\""
     ]
    },
    {
     "name": "stdout",
     "output_type": "stream",
     "text": [
      " \"38654\"                                         "
     ]
    },
    {
     "name": "stdout",
     "output_type": "stream",
     "text": [
      " \"asn\"    "
     ]
    },
    {
     "name": "stdout",
     "output_type": "stream",
     "text": [
      "\n",
      "  [70,]"
     ]
    },
    {
     "name": "stdout",
     "output_type": "stream",
     "text": [
      " \"T03087\""
     ]
    },
    {
     "name": "stdout",
     "output_type": "stream",
     "text": [
      " \"8496\"                                          "
     ]
    },
    {
     "name": "stdout",
     "output_type": "stream",
     "text": [
      " \"amj\"    "
     ]
    },
    {
     "name": "stdout",
     "output_type": "stream",
     "text": [
      "\n",
      "  [71,]"
     ]
    },
    {
     "name": "stdout",
     "output_type": "stream",
     "text": [
      " \"T02980\""
     ]
    },
    {
     "name": "stdout",
     "output_type": "stream",
     "text": [
      " \"13735\"                                         "
     ]
    },
    {
     "name": "stdout",
     "output_type": "stream",
     "text": [
      " \"pss\"    "
     ]
    },
    {
     "name": "stdout",
     "output_type": "stream",
     "text": [
      "\n",
      "  [72,]"
     ]
    },
    {
     "name": "stdout",
     "output_type": "stream",
     "text": [
      " \"T02989\""
     ]
    },
    {
     "name": "stdout",
     "output_type": "stream",
     "text": [
      " \"8469\"                                          "
     ]
    },
    {
     "name": "stdout",
     "output_type": "stream",
     "text": [
      " \"cmy\"    "
     ]
    },
    {
     "name": "stdout",
     "output_type": "stream",
     "text": [
      "\n",
      "  [73,]"
     ]
    },
    {
     "name": "stdout",
     "output_type": "stream",
     "text": [
      " \"T04662\""
     ]
    },
    {
     "name": "stdout",
     "output_type": "stream",
     "text": [
      " \"8478\"                                          "
     ]
    },
    {
     "name": "stdout",
     "output_type": "stream",
     "text": [
      " \"cpic\"   "
     ]
    },
    {
     "name": "stdout",
     "output_type": "stream",
     "text": [
      "\n",
      "  [74,]"
     ]
    },
    {
     "name": "stdout",
     "output_type": "stream",
     "text": [
      " \"T01608\""
     ]
    },
    {
     "name": "stdout",
     "output_type": "stream",
     "text": [
      " \"28377\"                                         "
     ]
    },
    {
     "name": "stdout",
     "output_type": "stream",
     "text": [
      " \"acs\"    "
     ]
    },
    {
     "name": "stdout",
     "output_type": "stream",
     "text": [
      "\n",
      "  [75,]"
     ]
    },
    {
     "name": "stdout",
     "output_type": "stream",
     "text": [
      " \"T05000\""
     ]
    },
    {
     "name": "stdout",
     "output_type": "stream",
     "text": [
      " \"103695\"                                        "
     ]
    },
    {
     "name": "stdout",
     "output_type": "stream",
     "text": [
      " \"pvt\"    "
     ]
    },
    {
     "name": "stdout",
     "output_type": "stream",
     "text": [
      "\n",
      "  [76,]"
     ]
    },
    {
     "name": "stdout",
     "output_type": "stream",
     "text": [
      " \"T03091\""
     ]
    },
    {
     "name": "stdout",
     "output_type": "stream",
     "text": [
      " \"176946\"                                        "
     ]
    },
    {
     "name": "stdout",
     "output_type": "stream",
     "text": [
      " \"pbi\"    "
     ]
    },
    {
     "name": "stdout",
     "output_type": "stream",
     "text": [
      "\n",
      "  [77,]"
     ]
    },
    {
     "name": "stdout",
     "output_type": "stream",
     "text": [
      " \"T04299\""
     ]
    },
    {
     "name": "stdout",
     "output_type": "stream",
     "text": [
      " \"146911\"                                        "
     ]
    },
    {
     "name": "stdout",
     "output_type": "stream",
     "text": [
      " \"gja\"    "
     ]
    },
    {
     "name": "stdout",
     "output_type": "stream",
     "text": [
      "\n",
      "  [78,]"
     ]
    },
    {
     "name": "stdout",
     "output_type": "stream",
     "text": [
      " \"T01010\""
     ]
    },
    {
     "name": "stdout",
     "output_type": "stream",
     "text": [
      " \"8355\"                                          "
     ]
    },
    {
     "name": "stdout",
     "output_type": "stream",
     "text": [
      " \"xla\"    "
     ]
    },
    {
     "name": "stdout",
     "output_type": "stream",
     "text": [
      "\n",
      "  [79,]"
     ]
    },
    {
     "name": "stdout",
     "output_type": "stream",
     "text": [
      " \"T01011\""
     ]
    },
    {
     "name": "stdout",
     "output_type": "stream",
     "text": [
      " \"8364\"                                          "
     ]
    },
    {
     "name": "stdout",
     "output_type": "stream",
     "text": [
      " \"xtr\"    "
     ]
    },
    {
     "name": "stdout",
     "output_type": "stream",
     "text": [
      "\n",
      "  [80,]"
     ]
    },
    {
     "name": "stdout",
     "output_type": "stream",
     "text": [
      " \"T04897\""
     ]
    },
    {
     "name": "stdout",
     "output_type": "stream",
     "text": [
      " \"125878\"                                        "
     ]
    },
    {
     "name": "stdout",
     "output_type": "stream",
     "text": [
      " \"npr\"    "
     ]
    },
    {
     "name": "stdout",
     "output_type": "stream",
     "text": [
      "\n",
      "  [81,]"
     ]
    },
    {
     "name": "stdout",
     "output_type": "stream",
     "text": [
      " \"T01004\""
     ]
    },
    {
     "name": "stdout",
     "output_type": "stream",
     "text": [
      " \"7955\"                                          "
     ]
    },
    {
     "name": "stdout",
     "output_type": "stream",
     "text": [
      " \"dre\"    "
     ]
    },
    {
     "name": "stdout",
     "output_type": "stream",
     "text": [
      "\n",
      "  [82,]"
     ]
    },
    {
     "name": "stdout",
     "output_type": "stream",
     "text": [
      " \"T04916\""
     ]
    },
    {
     "name": "stdout",
     "output_type": "stream",
     "text": [
      " \"307959\"                                        "
     ]
    },
    {
     "name": "stdout",
     "output_type": "stream",
     "text": [
      " \"srx\"    "
     ]
    },
    {
     "name": "stdout",
     "output_type": "stream",
     "text": [
      "\n",
      "  [83,]"
     ]
    },
    {
     "name": "stdout",
     "output_type": "stream",
     "text": [
      " \"T04917\""
     ]
    },
    {
     "name": "stdout",
     "output_type": "stream",
     "text": [
      " \"1608454\"                                       "
     ]
    },
    {
     "name": "stdout",
     "output_type": "stream",
     "text": [
      " \"sanh\"   "
     ]
    },
    {
     "name": "stdout",
     "output_type": "stream",
     "text": [
      "\n",
      "  [84,]"
     ]
    },
    {
     "name": "stdout",
     "output_type": "stream",
     "text": [
      " \"T04918\""
     ]
    },
    {
     "name": "stdout",
     "output_type": "stream",
     "text": [
      " \"75366\"                                         "
     ]
    },
    {
     "name": "stdout",
     "output_type": "stream",
     "text": [
      " \"sgh\"    "
     ]
    },
    {
     "name": "stdout",
     "output_type": "stream",
     "text": [
      "\n",
      "  [85,]"
     ]
    },
    {
     "name": "stdout",
     "output_type": "stream",
     "text": [
      " \"T05134\""
     ]
    },
    {
     "name": "stdout",
     "output_type": "stream",
     "text": [
      " \"7962\"                                          "
     ]
    },
    {
     "name": "stdout",
     "output_type": "stream",
     "text": [
      " \"ccar\"   "
     ]
    },
    {
     "name": "stdout",
     "output_type": "stream",
     "text": [
      "\n",
      "  [86,]"
     ]
    },
    {
     "name": "stdout",
     "output_type": "stream",
     "text": [
      " \"T04658\""
     ]
    },
    {
     "name": "stdout",
     "output_type": "stream",
     "text": [
      " \"7998\"                                          "
     ]
    },
    {
     "name": "stdout",
     "output_type": "stream",
     "text": [
      " \"ipu\"    "
     ]
    },
    {
     "name": "stdout",
     "output_type": "stream",
     "text": [
      "\n",
      "  [87,]"
     ]
    },
    {
     "name": "stdout",
     "output_type": "stream",
     "text": [
      " \"T05042\""
     ]
    },
    {
     "name": "stdout",
     "output_type": "stream",
     "text": [
      " \"7994\"                                          "
     ]
    },
    {
     "name": "stdout",
     "output_type": "stream",
     "text": [
      " \"amex\"   "
     ]
    },
    {
     "name": "stdout",
     "output_type": "stream",
     "text": [
      "\n",
      "  [88,]"
     ]
    },
    {
     "name": "stdout",
     "output_type": "stream",
     "text": [
      " \"T02386\""
     ]
    },
    {
     "name": "stdout",
     "output_type": "stream",
     "text": [
      " \"31033\"                                         "
     ]
    },
    {
     "name": "stdout",
     "output_type": "stream",
     "text": [
      " \"tru\"    "
     ]
    },
    {
     "name": "stdout",
     "output_type": "stream",
     "text": [
      "\n",
      "  [89,]"
     ]
    },
    {
     "name": "stdout",
     "output_type": "stream",
     "text": [
      " \"T04346\""
     ]
    },
    {
     "name": "stdout",
     "output_type": "stream",
     "text": [
      " \"99883\"                                         "
     ]
    },
    {
     "name": "stdout",
     "output_type": "stream",
     "text": [
      " \"tng\"    "
     ]
    },
    {
     "name": "stdout",
     "output_type": "stream",
     "text": [
      "\n",
      "  [90,]"
     ]
    },
    {
     "name": "stdout",
     "output_type": "stream",
     "text": [
      " \"T04659\""
     ]
    },
    {
     "name": "stdout",
     "output_type": "stream",
     "text": [
      " \"215358\"                                        "
     ]
    },
    {
     "name": "stdout",
     "output_type": "stream",
     "text": [
      " \"lco\"    "
     ]
    },
    {
     "name": "stdout",
     "output_type": "stream",
     "text": [
      "\n",
      "  [91,]"
     ]
    },
    {
     "name": "stdout",
     "output_type": "stream",
     "text": [
      " \"T04920\""
     ]
    },
    {
     "name": "stdout",
     "output_type": "stream",
     "text": [
      " \"8208\"                                          "
     ]
    },
    {
     "name": "stdout",
     "output_type": "stream",
     "text": [
      " \"ncc\"    "
     ]
    },
    {
     "name": "stdout",
     "output_type": "stream",
     "text": [
      "\n",
      "  [92,]"
     ]
    },
    {
     "name": "stdout",
     "output_type": "stream",
     "text": [
      " \"T02814\""
     ]
    },
    {
     "name": "stdout",
     "output_type": "stream",
     "text": [
      " \"106582\"                                        "
     ]
    },
    {
     "name": "stdout",
     "output_type": "stream",
     "text": [
      " \"mze\"    "
     ]
    },
    {
     "name": "stdout",
     "output_type": "stream",
     "text": [
      "\n",
      "  [93,]"
     ]
    },
    {
     "name": "stdout",
     "output_type": "stream",
     "text": [
      " \"T02443\""
     ]
    },
    {
     "name": "stdout",
     "output_type": "stream",
     "text": [
      " \"8090\"                                          "
     ]
    },
    {
     "name": "stdout",
     "output_type": "stream",
     "text": [
      " \"ola\"    "
     ]
    },
    {
     "name": "stdout",
     "output_type": "stream",
     "text": [
      "\n",
      "  [94,]"
     ]
    },
    {
     "name": "stdout",
     "output_type": "stream",
     "text": [
      " \"T02923\""
     ]
    },
    {
     "name": "stdout",
     "output_type": "stream",
     "text": [
      " \"8083\"                                          "
     ]
    },
    {
     "name": "stdout",
     "output_type": "stream",
     "text": [
      " \"xma\"    "
     ]
    },
    {
     "name": "stdout",
     "output_type": "stream",
     "text": [
      "\n",
      "  [95,]"
     ]
    },
    {
     "name": "stdout",
     "output_type": "stream",
     "text": [
      " \"T05149\""
     ]
    },
    {
     "name": "stdout",
     "output_type": "stream",
     "text": [
      " \"8081\"                                          "
     ]
    },
    {
     "name": "stdout",
     "output_type": "stream",
     "text": [
      " \"pret\"   "
     ]
    },
    {
     "name": "stdout",
     "output_type": "stream",
     "text": [
      "\n",
      "  [96,]"
     ]
    },
    {
     "name": "stdout",
     "output_type": "stream",
     "text": [
      " \"T05163\""
     ]
    },
    {
     "name": "stdout",
     "output_type": "stream",
     "text": [
      " \"105023\"                                        "
     ]
    },
    {
     "name": "stdout",
     "output_type": "stream",
     "text": [
      " \"nfu\"    "
     ]
    },
    {
     "name": "stdout",
     "output_type": "stream",
     "text": [
      "\n",
      "  [97,]"
     ]
    },
    {
     "name": "stdout",
     "output_type": "stream",
     "text": [
      " \"T04866\""
     ]
    },
    {
     "name": "stdout",
     "output_type": "stream",
     "text": [
      " \"244447\"                                        "
     ]
    },
    {
     "name": "stdout",
     "output_type": "stream",
     "text": [
      " \"csem\"   "
     ]
    },
    {
     "name": "stdout",
     "output_type": "stream",
     "text": [
      "\n",
      "  [98,]"
     ]
    },
    {
     "name": "stdout",
     "output_type": "stream",
     "text": [
      " \"T04895\""
     ]
    },
    {
     "name": "stdout",
     "output_type": "stream",
     "text": [
      " \"8187\"                                          "
     ]
    },
    {
     "name": "stdout",
     "output_type": "stream",
     "text": [
      " \"lcf\"    "
     ]
    },
    {
     "name": "stdout",
     "output_type": "stream",
     "text": [
      "\n",
      "  [99,]"
     ]
    },
    {
     "name": "stdout",
     "output_type": "stream",
     "text": [
      " \"T04969\""
     ]
    },
    {
     "name": "stdout",
     "output_type": "stream",
     "text": [
      " \"109280\"                                        "
     ]
    },
    {
     "name": "stdout",
     "output_type": "stream",
     "text": [
      " \"hcq\"    "
     ]
    },
    {
     "name": "stdout",
     "output_type": "stream",
     "text": [
      "\n",
      " [100,]"
     ]
    },
    {
     "name": "stdout",
     "output_type": "stream",
     "text": [
      " \"T05002\""
     ]
    },
    {
     "name": "stdout",
     "output_type": "stream",
     "text": [
      " \"150288\"                                        "
     ]
    },
    {
     "name": "stdout",
     "output_type": "stream",
     "text": [
      " \"bpec\"   "
     ]
    },
    {
     "name": "stdout",
     "output_type": "stream",
     "text": [
      "\n",
      " [101,]"
     ]
    },
    {
     "name": "stdout",
     "output_type": "stream",
     "text": [
      " \"T04363\""
     ]
    },
    {
     "name": "stdout",
     "output_type": "stream",
     "text": [
      " \"8030\"                                          "
     ]
    },
    {
     "name": "stdout",
     "output_type": "stream",
     "text": [
      " \"sasa\"   "
     ]
    },
    {
     "name": "stdout",
     "output_type": "stream",
     "text": [
      "\n",
      " [102,]"
     ]
    },
    {
     "name": "stdout",
     "output_type": "stream",
     "text": [
      " \"T04894\""
     ]
    },
    {
     "name": "stdout",
     "output_type": "stream",
     "text": [
      " \"8010\"                                          "
     ]
    },
    {
     "name": "stdout",
     "output_type": "stream",
     "text": [
      " \"els\"    "
     ]
    },
    {
     "name": "stdout",
     "output_type": "stream",
     "text": [
      "\n",
      " [103,]"
     ]
    },
    {
     "name": "stdout",
     "output_type": "stream",
     "text": [
      " \"T04919\""
     ]
    },
    {
     "name": "stdout",
     "output_type": "stream",
     "text": [
      " \"113540\"                                        "
     ]
    },
    {
     "name": "stdout",
     "output_type": "stream",
     "text": [
      " \"sfm\"    "
     ]
    },
    {
     "name": "stdout",
     "output_type": "stream",
     "text": [
      "\n",
      " [104,]"
     ]
    },
    {
     "name": "stdout",
     "output_type": "stream",
     "text": [
      " \"T02913\""
     ]
    },
    {
     "name": "stdout",
     "output_type": "stream",
     "text": [
      " \"7897\"                                          "
     ]
    },
    {
     "name": "stdout",
     "output_type": "stream",
     "text": [
      " \"lcm\"    "
     ]
    },
    {
     "name": "stdout",
     "output_type": "stream",
     "text": [
      "\n",
      " [105,]"
     ]
    },
    {
     "name": "stdout",
     "output_type": "stream",
     "text": [
      " \"T03088\""
     ]
    },
    {
     "name": "stdout",
     "output_type": "stream",
     "text": [
      " \"7868\"                                          "
     ]
    },
    {
     "name": "stdout",
     "output_type": "stream",
     "text": [
      " \"cmk\"    "
     ]
    },
    {
     "name": "stdout",
     "output_type": "stream",
     "text": [
      "\n",
      " [106,]"
     ]
    },
    {
     "name": "stdout",
     "output_type": "stream",
     "text": [
      " \"T01074\""
     ]
    },
    {
     "name": "stdout",
     "output_type": "stream",
     "text": [
      " \"7739\"                                          "
     ]
    },
    {
     "name": "stdout",
     "output_type": "stream",
     "text": [
      " \"bfo\"    "
     ]
    },
    {
     "name": "stdout",
     "output_type": "stream",
     "text": [
      "\n",
      " [107,]"
     ]
    },
    {
     "name": "stdout",
     "output_type": "stream",
     "text": [
      " \"T01056\""
     ]
    },
    {
     "name": "stdout",
     "output_type": "stream",
     "text": [
      " \"7719\"                                          "
     ]
    },
    {
     "name": "stdout",
     "output_type": "stream",
     "text": [
      " \"cin\"    "
     ]
    },
    {
     "name": "stdout",
     "output_type": "stream",
     "text": [
      "\n",
      " [108,]"
     ]
    },
    {
     "name": "stdout",
     "output_type": "stream",
     "text": [
      " \"T01019\""
     ]
    },
    {
     "name": "stdout",
     "output_type": "stream",
     "text": [
      " \"7668\"                                          "
     ]
    },
    {
     "name": "stdout",
     "output_type": "stream",
     "text": [
      " \"spu\"    "
     ]
    },
    {
     "name": "stdout",
     "output_type": "stream",
     "text": [
      "\n",
      " [109,]"
     ]
    },
    {
     "name": "stdout",
     "output_type": "stream",
     "text": [
      " \"T05078\""
     ]
    },
    {
     "name": "stdout",
     "output_type": "stream",
     "text": [
      " \"133434\"                                        "
     ]
    },
    {
     "name": "stdout",
     "output_type": "stream",
     "text": [
      " \"aplc\"   "
     ]
    },
    {
     "name": "stdout",
     "output_type": "stream",
     "text": [
      "\n",
      " [110,]"
     ]
    },
    {
     "name": "stdout",
     "output_type": "stream",
     "text": [
      " \"T04123\""
     ]
    },
    {
     "name": "stdout",
     "output_type": "stream",
     "text": [
      " \"10224\"                                         "
     ]
    },
    {
     "name": "stdout",
     "output_type": "stream",
     "text": [
      " \"sko\"    "
     ]
    },
    {
     "name": "stdout",
     "output_type": "stream",
     "text": [
      "\n",
      " [111,]"
     ]
    },
    {
     "name": "stdout",
     "output_type": "stream",
     "text": [
      " \"T00030\""
     ]
    },
    {
     "name": "stdout",
     "output_type": "stream",
     "text": [
      " \"7227\"                                          "
     ]
    },
    {
     "name": "stdout",
     "output_type": "stream",
     "text": [
      " \"dme\"    "
     ]
    },
    {
     "name": "stdout",
     "output_type": "stream",
     "text": [
      "\n",
      " [112,]"
     ]
    },
    {
     "name": "stdout",
     "output_type": "stream",
     "text": [
      " \"T01032\""
     ]
    },
    {
     "name": "stdout",
     "output_type": "stream",
     "text": [
      " \"46245\"                                         "
     ]
    },
    {
     "name": "stdout",
     "output_type": "stream",
     "text": [
      " \"dpo\"    "
     ]
    },
    {
     "name": "stdout",
     "output_type": "stream",
     "text": [
      "\n",
      " [113,]"
     ]
    },
    {
     "name": "stdout",
     "output_type": "stream",
     "text": [
      " \"T01059\""
     ]
    },
    {
     "name": "stdout",
     "output_type": "stream",
     "text": [
      " \"7217\"                                          "
     ]
    },
    {
     "name": "stdout",
     "output_type": "stream",
     "text": [
      " \"dan\"    "
     ]
    },
    {
     "name": "stdout",
     "output_type": "stream",
     "text": [
      "\n",
      " [114,]"
     ]
    },
    {
     "name": "stdout",
     "output_type": "stream",
     "text": [
      " \"T01060\""
     ]
    },
    {
     "name": "stdout",
     "output_type": "stream",
     "text": [
      " \"7220\"                                          "
     ]
    },
    {
     "name": "stdout",
     "output_type": "stream",
     "text": [
      " \"der\"    "
     ]
    },
    {
     "name": "stdout",
     "output_type": "stream",
     "text": [
      "\n",
      " [115,]"
     ]
    },
    {
     "name": "stdout",
     "output_type": "stream",
     "text": [
      " \"T01063\""
     ]
    },
    {
     "name": "stdout",
     "output_type": "stream",
     "text": [
      " \"7234\"                                          "
     ]
    },
    {
     "name": "stdout",
     "output_type": "stream",
     "text": [
      " \"dpe\"    "
     ]
    },
    {
     "name": "stdout",
     "output_type": "stream",
     "text": [
      "\n",
      " [116,]"
     ]
    },
    {
     "name": "stdout",
     "output_type": "stream",
     "text": [
      " \"T01064\""
     ]
    },
    {
     "name": "stdout",
     "output_type": "stream",
     "text": [
      " \"7238\"                                          "
     ]
    },
    {
     "name": "stdout",
     "output_type": "stream",
     "text": [
      " \"dse\"    "
     ]
    },
    {
     "name": "stdout",
     "output_type": "stream",
     "text": [
      "\n",
      " [117,]"
     ]
    },
    {
     "name": "stdout",
     "output_type": "stream",
     "text": [
      " \"T01065\""
     ]
    },
    {
     "name": "stdout",
     "output_type": "stream",
     "text": [
      " \"7240\"                                          "
     ]
    },
    {
     "name": "stdout",
     "output_type": "stream",
     "text": [
      " \"dsi\"    "
     ]
    },
    {
     "name": "stdout",
     "output_type": "stream",
     "text": [
      "\n",
      " [118,]"
     ]
    },
    {
     "name": "stdout",
     "output_type": "stream",
     "text": [
      " \"T01067\""
     ]
    },
    {
     "name": "stdout",
     "output_type": "stream",
     "text": [
      " \"7260\"                                          "
     ]
    },
    {
     "name": "stdout",
     "output_type": "stream",
     "text": [
      " \"dwi\"    "
     ]
    },
    {
     "name": "stdout",
     "output_type": "stream",
     "text": [
      "\n",
      " [119,]"
     ]
    },
    {
     "name": "stdout",
     "output_type": "stream",
     "text": [
      " \"T01068\""
     ]
    },
    {
     "name": "stdout",
     "output_type": "stream",
     "text": [
      " \"7245\"                                          "
     ]
    },
    {
     "name": "stdout",
     "output_type": "stream",
     "text": [
      " \"dya\"    "
     ]
    },
    {
     "name": "stdout",
     "output_type": "stream",
     "text": [
      "\n",
      " [120,]"
     ]
    },
    {
     "name": "stdout",
     "output_type": "stream",
     "text": [
      " \"T01061\""
     ]
    },
    {
     "name": "stdout",
     "output_type": "stream",
     "text": [
      " \"7222\"                                          "
     ]
    },
    {
     "name": "stdout",
     "output_type": "stream",
     "text": [
      " \"dgr\"    "
     ]
    },
    {
     "name": "stdout",
     "output_type": "stream",
     "text": [
      "\n",
      " [121,]"
     ]
    },
    {
     "name": "stdout",
     "output_type": "stream",
     "text": [
      " \"T01062\""
     ]
    },
    {
     "name": "stdout",
     "output_type": "stream",
     "text": [
      " \"7230\"                                          "
     ]
    },
    {
     "name": "stdout",
     "output_type": "stream",
     "text": [
      " \"dmo\"    "
     ]
    },
    {
     "name": "stdout",
     "output_type": "stream",
     "text": [
      "\n",
      " [122,]"
     ]
    },
    {
     "name": "stdout",
     "output_type": "stream",
     "text": [
      " \"T01066\""
     ]
    },
    {
     "name": "stdout",
     "output_type": "stream",
     "text": [
      " \"7244\"                                          "
     ]
    },
    {
     "name": "stdout",
     "output_type": "stream",
     "text": [
      " \"dvi\"    "
     ]
    },
    {
     "name": "stdout",
     "output_type": "stream",
     "text": [
      "\n",
      " [123,]"
     ]
    },
    {
     "name": "stdout",
     "output_type": "stream",
     "text": [
      " \"T03448\""
     ]
    },
    {
     "name": "stdout",
     "output_type": "stream",
     "text": [
      " \"7370\"                                          "
     ]
    },
    {
     "name": "stdout",
     "output_type": "stream",
     "text": [
      " \"mde\"    "
     ]
    },
    {
     "name": "stdout",
     "output_type": "stream",
     "text": [
      "\n",
      " [124,]"
     ]
    },
    {
     "name": "stdout",
     "output_type": "stream",
     "text": [
      " \"T01036\""
     ]
    },
    {
     "name": "stdout",
     "output_type": "stream",
     "text": [
      " \"180454\"                                        "
     ]
    },
    {
     "name": "stdout",
     "output_type": "stream",
     "text": [
      " \"aga\"    "
     ]
    },
    {
     "name": "stdout",
     "output_type": "stream",
     "text": [
      "\n",
      " [125,]"
     ]
    },
    {
     "name": "stdout",
     "output_type": "stream",
     "text": [
      " \"T01053\""
     ]
    },
    {
     "name": "stdout",
     "output_type": "stream",
     "text": [
      " \"7159\"                                          "
     ]
    },
    {
     "name": "stdout",
     "output_type": "stream",
     "text": [
      " \"aag\"    "
     ]
    },
    {
     "name": "stdout",
     "output_type": "stream",
     "text": [
      "\n",
      " [126,]"
     ]
    },
    {
     "name": "stdout",
     "output_type": "stream",
     "text": [
      " \"T01079\""
     ]
    },
    {
     "name": "stdout",
     "output_type": "stream",
     "text": [
      " \"7176\"                                          "
     ]
    },
    {
     "name": "stdout",
     "output_type": "stream",
     "text": [
      " \"cqu\"    "
     ]
    },
    {
     "name": "stdout",
     "output_type": "stream",
     "text": [
      "\n",
      " [127,]"
     ]
    },
    {
     "name": "stdout",
     "output_type": "stream",
     "text": [
      " \"T01057\""
     ]
    },
    {
     "name": "stdout",
     "output_type": "stream",
     "text": [
      " \"7460\"                                          "
     ]
    },
    {
     "name": "stdout",
     "output_type": "stream",
     "text": [
      " \"ame\"    "
     ]
    },
    {
     "name": "stdout",
     "output_type": "stream",
     "text": [
      "\n",
      " [128,]"
     ]
    },
    {
     "name": "stdout",
     "output_type": "stream",
     "text": [
      " \"T04362\""
     ]
    },
    {
     "name": "stdout",
     "output_type": "stream",
     "text": [
      " \"132113\"                                        "
     ]
    },
    {
     "name": "stdout",
     "output_type": "stream",
     "text": [
      " \"bim\"    "
     ]
    },
    {
     "name": "stdout",
     "output_type": "stream",
     "text": [
      "\n",
      " [129,]"
     ]
    },
    {
     "name": "stdout",
     "output_type": "stream",
     "text": [
      " \"T04364\""
     ]
    },
    {
     "name": "stdout",
     "output_type": "stream",
     "text": [
      " \"30195\"                                         "
     ]
    },
    {
     "name": "stdout",
     "output_type": "stream",
     "text": [
      " \"bter\"   "
     ]
    },
    {
     "name": "stdout",
     "output_type": "stream",
     "text": [
      "\n",
      " [130,]"
     ]
    },
    {
     "name": "stdout",
     "output_type": "stream",
     "text": [
      " \"T03916\""
     ]
    },
    {
     "name": "stdout",
     "output_type": "stream",
     "text": [
      " \"13686\"                                         "
     ]
    },
    {
     "name": "stdout",
     "output_type": "stream",
     "text": [
      " \"soc\"    "
     ]
    },
    {
     "name": "stdout",
     "output_type": "stream",
     "text": [
      "\n",
      " [131,]"
     ]
    },
    {
     "name": "stdout",
     "output_type": "stream",
     "text": [
      " \"T03917\""
     ]
    },
    {
     "name": "stdout",
     "output_type": "stream",
     "text": [
      " \"103372\"                                        "
     ]
    },
    {
     "name": "stdout",
     "output_type": "stream",
     "text": [
      " \"aec\"    "
     ]
    },
    {
     "name": "stdout",
     "output_type": "stream",
     "text": [
      "\n",
      " [132,]"
     ]
    },
    {
     "name": "stdout",
     "output_type": "stream",
     "text": [
      " \"T04923\""
     ]
    },
    {
     "name": "stdout",
     "output_type": "stream",
     "text": [
      " \"12957\"                                         "
     ]
    },
    {
     "name": "stdout",
     "output_type": "stream",
     "text": [
      " \"acep\"   "
     ]
    },
    {
     "name": "stdout",
     "output_type": "stream",
     "text": [
      "\n",
      " [133,]"
     ]
    },
    {
     "name": "stdout",
     "output_type": "stream",
     "text": [
      " \"T04903\""
     ]
    },
    {
     "name": "stdout",
     "output_type": "stream",
     "text": [
      " \"144034\"                                        "
     ]
    },
    {
     "name": "stdout",
     "output_type": "stream",
     "text": [
      " \"pbar\"   "
     ]
    },
    {
     "name": "stdout",
     "output_type": "stream",
     "text": [
      "\n",
      " [134,]"
     ]
    },
    {
     "name": "stdout",
     "output_type": "stream",
     "text": [
      " \"T03918\""
     ]
    },
    {
     "name": "stdout",
     "output_type": "stream",
     "text": [
      " \"610380\"                                        "
     ]
    },
    {
     "name": "stdout",
     "output_type": "stream",
     "text": [
      " \"hst\"    "
     ]
    },
    {
     "name": "stdout",
     "output_type": "stream",
     "text": [
      "\n",
      " [135,]"
     ]
    },
    {
     "name": "stdout",
     "output_type": "stream",
     "text": [
      " \"T03919\""
     ]
    },
    {
     "name": "stdout",
     "output_type": "stream",
     "text": [
      " \"104421\"                                        "
     ]
    },
    {
     "name": "stdout",
     "output_type": "stream",
     "text": [
      " \"cfo\"    "
     ]
    },
    {
     "name": "stdout",
     "output_type": "stream",
     "text": [
      "\n",
      " [136,]"
     ]
    },
    {
     "name": "stdout",
     "output_type": "stream",
     "text": [
      " \"T04898\""
     ]
    },
    {
     "name": "stdout",
     "output_type": "stream",
     "text": [
      " \"83485\"                                         "
     ]
    },
    {
     "name": "stdout",
     "output_type": "stream",
     "text": [
      " \"lhu\"    "
     ]
    },
    {
     "name": "stdout",
     "output_type": "stream",
     "text": [
      "\n",
      " [137,]"
     ]
    },
    {
     "name": "stdout",
     "output_type": "stream",
     "text": [
      " \"T05003\""
     ]
    },
    {
     "name": "stdout",
     "output_type": "stream",
     "text": [
      " \"219809\"                                        "
     ]
    },
    {
     "name": "stdout",
     "output_type": "stream",
     "text": [
      " \"pgc\"    "
     ]
    },
    {
     "name": "stdout",
     "output_type": "stream",
     "text": [
      "\n",
      " [138,]"
     ]
    },
    {
     "name": "stdout",
     "output_type": "stream",
     "text": [
      " \"T01081\""
     ]
    },
    {
     "name": "stdout",
     "output_type": "stream",
     "text": [
      " \"7425\"                                          "
     ]
    },
    {
     "name": "stdout",
     "output_type": "stream",
     "text": [
      " \"nvi\"    "
     ]
    },
    {
     "name": "stdout",
     "output_type": "stream",
     "text": [
      "\n",
      " [139,]"
     ]
    },
    {
     "name": "stdout",
     "output_type": "stream",
     "text": [
      " \"T01046\""
     ]
    },
    {
     "name": "stdout",
     "output_type": "stream",
     "text": [
      " \"7070\"                                          "
     ]
    },
    {
     "name": "stdout",
     "output_type": "stream",
     "text": [
      " \"tca\"    "
     ]
    },
    {
     "name": "stdout",
     "output_type": "stream",
     "text": [
      "\n",
      " [140,]"
     ]
    },
    {
     "name": "stdout",
     "output_type": "stream",
     "text": [
      " \"T04899\""
     ]
    },
    {
     "name": "stdout",
     "output_type": "stream",
     "text": [
      " \"77166\"                                         "
     ]
    },
    {
     "name": "stdout",
     "output_type": "stream",
     "text": [
      " \"dpa\"    "
     ]
    },
    {
     "name": "stdout",
     "output_type": "stream",
     "text": [
      "\n",
      " [141,]"
     ]
    },
    {
     "name": "stdout",
     "output_type": "stream",
     "text": [
      " \"T04922\""
     ]
    },
    {
     "name": "stdout",
     "output_type": "stream",
     "text": [
      " \"110193\"                                        "
     ]
    },
    {
     "name": "stdout",
     "output_type": "stream",
     "text": [
      " \"nvl\"    "
     ]
    },
    {
     "name": "stdout",
     "output_type": "stream",
     "text": [
      "\n",
      " [142,]"
     ]
    },
    {
     "name": "stdout",
     "output_type": "stream",
     "text": [
      " \"T02817\""
     ]
    },
    {
     "name": "stdout",
     "output_type": "stream",
     "text": [
      " \"7091\"                                          "
     ]
    },
    {
     "name": "stdout",
     "output_type": "stream",
     "text": [
      " \"bmor\"   "
     ]
    },
    {
     "name": "stdout",
     "output_type": "stream",
     "text": [
      "\n",
      " [143,]"
     ]
    },
    {
     "name": "stdout",
     "output_type": "stream",
     "text": [
      " \"T04344\""
     ]
    },
    {
     "name": "stdout",
     "output_type": "stream",
     "text": [
      " \"13037\"                                         "
     ]
    },
    {
     "name": "stdout",
     "output_type": "stream",
     "text": [
      " \"dpl\"    "
     ]
    },
    {
     "name": "stdout",
     "output_type": "stream",
     "text": [
      "\n",
      " [144,]"
     ]
    },
    {
     "name": "stdout",
     "output_type": "stream",
     "text": [
      " \"T05138\""
     ]
    },
    {
     "name": "stdout",
     "output_type": "stream",
     "text": [
      " \"76193\"                                         "
     ]
    },
    {
     "name": "stdout",
     "output_type": "stream",
     "text": [
      " \"pmac\"   "
     ]
    },
    {
     "name": "stdout",
     "output_type": "stream",
     "text": [
      "\n",
      " [145,]"
     ]
    },
    {
     "name": "stdout",
     "output_type": "stream",
     "text": [
      " \"T05162\""
     ]
    },
    {
     "name": "stdout",
     "output_type": "stream",
     "text": [
      " \"64459\"                                         "
     ]
    },
    {
     "name": "stdout",
     "output_type": "stream",
     "text": [
      " \"prap\"   "
     ]
    },
    {
     "name": "stdout",
     "output_type": "stream",
     "text": [
      "\n",
      " [146,]"
     ]
    },
    {
     "name": "stdout",
     "output_type": "stream",
     "text": [
      " \"T03915\""
     ]
    },
    {
     "name": "stdout",
     "output_type": "stream",
     "text": [
      " \"51655\"                                         "
     ]
    },
    {
     "name": "stdout",
     "output_type": "stream",
     "text": [
      " \"pxy\"    "
     ]
    },
    {
     "name": "stdout",
     "output_type": "stream",
     "text": [
      "\n",
      " [147,]"
     ]
    },
    {
     "name": "stdout",
     "output_type": "stream",
     "text": [
      " \"T01076\""
     ]
    },
    {
     "name": "stdout",
     "output_type": "stream",
     "text": [
      " \"7029\"                                          "
     ]
    },
    {
     "name": "stdout",
     "output_type": "stream",
     "text": [
      " \"api\"    "
     ]
    },
    {
     "name": "stdout",
     "output_type": "stream",
     "text": [
      "\n",
      " [148,]"
     ]
    },
    {
     "name": "stdout",
     "output_type": "stream",
     "text": [
      " \"T04900\""
     ]
    },
    {
     "name": "stdout",
     "output_type": "stream",
     "text": [
      " \"143948\"                                        "
     ]
    },
    {
     "name": "stdout",
     "output_type": "stream",
     "text": [
      " \"dnx\"    "
     ]
    },
    {
     "name": "stdout",
     "output_type": "stream",
     "text": [
      "\n",
      " [149,]"
     ]
    },
    {
     "name": "stdout",
     "output_type": "stream",
     "text": [
      " \"T01223\""
     ]
    },
    {
     "name": "stdout",
     "output_type": "stream",
     "text": [
      " \"121224\"                                        "
     ]
    },
    {
     "name": "stdout",
     "output_type": "stream",
     "text": [
      " \"phu\"    "
     ]
    },
    {
     "name": "stdout",
     "output_type": "stream",
     "text": [
      "\n",
      " [150,]"
     ]
    },
    {
     "name": "stdout",
     "output_type": "stream",
     "text": [
      " \"T05136\""
     ]
    },
    {
     "name": "stdout",
     "output_type": "stream",
     "text": [
      " \"136037\"                                        "
     ]
    },
    {
     "name": "stdout",
     "output_type": "stream",
     "text": [
      " \"zne\"    "
     ]
    },
    {
     "name": "stdout",
     "output_type": "stream",
     "text": [
      "\n",
      " [151,]"
     ]
    },
    {
     "name": "stdout",
     "output_type": "stream",
     "text": [
      " \"T05043\""
     ]
    },
    {
     "name": "stdout",
     "output_type": "stream",
     "text": [
      " \"158441\"                                        "
     ]
    },
    {
     "name": "stdout",
     "output_type": "stream",
     "text": [
      " \"fcd\"    "
     ]
    },
    {
     "name": "stdout",
     "output_type": "stream",
     "text": [
      "\n",
      " [152,]"
     ]
    },
    {
     "name": "stdout",
     "output_type": "stream",
     "text": [
      " \"T04347\""
     ]
    },
    {
     "name": "stdout",
     "output_type": "stream",
     "text": [
      " \"6669\"                                          "
     ]
    },
    {
     "name": "stdout",
     "output_type": "stream",
     "text": [
      " \"dpx\"    "
     ]
    },
    {
     "name": "stdout",
     "output_type": "stream",
     "text": [
      "\n",
      " [153,]"
     ]
    },
    {
     "name": "stdout",
     "output_type": "stream",
     "text": [
      " \"T01131\""
     ]
    },
    {
     "name": "stdout",
     "output_type": "stream",
     "text": [
      " \"6945\"                                          "
     ]
    },
    {
     "name": "stdout",
     "output_type": "stream",
     "text": [
      " \"isc\"    "
     ]
    },
    {
     "name": "stdout",
     "output_type": "stream",
     "text": [
      "\n",
      " [154,]"
     ]
    },
    {
     "name": "stdout",
     "output_type": "stream",
     "text": [
      " \"T04901\""
     ]
    },
    {
     "name": "stdout",
     "output_type": "stream",
     "text": [
      " \"32264\"                                         "
     ]
    },
    {
     "name": "stdout",
     "output_type": "stream",
     "text": [
      " \"tut\"    "
     ]
    },
    {
     "name": "stdout",
     "output_type": "stream",
     "text": [
      "\n",
      " [155,]"
     ]
    },
    {
     "name": "stdout",
     "output_type": "stream",
     "text": [
      " \"T00019\""
     ]
    },
    {
     "name": "stdout",
     "output_type": "stream",
     "text": [
      " \"6239\"                                          "
     ]
    },
    {
     "name": "stdout",
     "output_type": "stream",
     "text": [
      " \"cel\"    "
     ]
    },
    {
     "name": "stdout",
     "output_type": "stream",
     "text": [
      "\n",
      " [156,]"
     ]
    },
    {
     "name": "stdout",
     "output_type": "stream",
     "text": [
      " \"T01054\""
     ]
    },
    {
     "name": "stdout",
     "output_type": "stream",
     "text": [
      " \"6238\"                                          "
     ]
    },
    {
     "name": "stdout",
     "output_type": "stream",
     "text": [
      " \"cbr\"    "
     ]
    },
    {
     "name": "stdout",
     "output_type": "stream",
     "text": [
      "\n",
      " [157,]"
     ]
    },
    {
     "name": "stdout",
     "output_type": "stream",
     "text": [
      " \"T04867\""
     ]
    },
    {
     "name": "stdout",
     "output_type": "stream",
     "text": [
      " \"51031\"                                         "
     ]
    },
    {
     "name": "stdout",
     "output_type": "stream",
     "text": [
      " \"nai\"    "
     ]
    },
    {
     "name": "stdout",
     "output_type": "stream",
     "text": [
      "\n",
      " [158,]"
     ]
    },
    {
     "name": "stdout",
     "output_type": "stream",
     "text": [
      " \"T01050\""
     ]
    },
    {
     "name": "stdout",
     "output_type": "stream",
     "text": [
      " \"6279\"                                          "
     ]
    },
    {
     "name": "stdout",
     "output_type": "stream",
     "text": [
      " \"bmy\"    "
     ]
    },
    {
     "name": "stdout",
     "output_type": "stream",
     "text": [
      "\n",
      " [159,]"
     ]
    },
    {
     "name": "stdout",
     "output_type": "stream",
     "text": [
      " \"T02664\""
     ]
    },
    {
     "name": "stdout",
     "output_type": "stream",
     "text": [
      " \"7209\"                                          "
     ]
    },
    {
     "name": "stdout",
     "output_type": "stream",
     "text": [
      " \"loa\"    "
     ]
    },
    {
     "name": "stdout",
     "output_type": "stream",
     "text": [
      "\n",
      " [160,]"
     ]
    },
    {
     "name": "stdout",
     "output_type": "stream",
     "text": [
      " \"T01609\""
     ]
    },
    {
     "name": "stdout",
     "output_type": "stream",
     "text": [
      " \"6334\"                                          "
     ]
    },
    {
     "name": "stdout",
     "output_type": "stream",
     "text": [
      " \"tsp\"    "
     ]
    },
    {
     "name": "stdout",
     "output_type": "stream",
     "text": [
      "\n",
      " [161,]"
     ]
    },
    {
     "name": "stdout",
     "output_type": "stream",
     "text": [
      " \"T03272\""
     ]
    },
    {
     "name": "stdout",
     "output_type": "stream",
     "text": [
      " \"6412\"                                          "
     ]
    },
    {
     "name": "stdout",
     "output_type": "stream",
     "text": [
      " \"hro\"    "
     ]
    },
    {
     "name": "stdout",
     "output_type": "stream",
     "text": [
      "\n",
      " [162,]"
     ]
    },
    {
     "name": "stdout",
     "output_type": "stream",
     "text": [
      " \"T03273\""
     ]
    },
    {
     "name": "stdout",
     "output_type": "stream",
     "text": [
      " \"225164\"                                        "
     ]
    },
    {
     "name": "stdout",
     "output_type": "stream",
     "text": [
      " \"lgi\"    "
     ]
    },
    {
     "name": "stdout",
     "output_type": "stream",
     "text": [
      "\n",
      " [163,]"
     ]
    },
    {
     "name": "stdout",
     "output_type": "stream",
     "text": [
      " \"T03920\""
     ]
    },
    {
     "name": "stdout",
     "output_type": "stream",
     "text": [
      " \"29159\"                                         "
     ]
    },
    {
     "name": "stdout",
     "output_type": "stream",
     "text": [
      " \"crg\"    "
     ]
    },
    {
     "name": "stdout",
     "output_type": "stream",
     "text": [
      "\n",
      " [164,]"
     ]
    },
    {
     "name": "stdout",
     "output_type": "stream",
     "text": [
      " \"T05079\""
     ]
    },
    {
     "name": "stdout",
     "output_type": "stream",
     "text": [
      " \"6573\"                                          "
     ]
    },
    {
     "name": "stdout",
     "output_type": "stream",
     "text": [
      " \"myi\"    "
     ]
    },
    {
     "name": "stdout",
     "output_type": "stream",
     "text": [
      "\n",
      " [165,]"
     ]
    },
    {
     "name": "stdout",
     "output_type": "stream",
     "text": [
      " \"T04127\""
     ]
    },
    {
     "name": "stdout",
     "output_type": "stream",
     "text": [
      " \"37653\"                                         "
     ]
    },
    {
     "name": "stdout",
     "output_type": "stream",
     "text": [
      " \"obi\"    "
     ]
    },
    {
     "name": "stdout",
     "output_type": "stream",
     "text": [
      "\n",
      " [166,]"
     ]
    },
    {
     "name": "stdout",
     "output_type": "stream",
     "text": [
      " \"T04921\""
     ]
    },
    {
     "name": "stdout",
     "output_type": "stream",
     "text": [
      " \"7574\"                                          "
     ]
    },
    {
     "name": "stdout",
     "output_type": "stream",
     "text": [
      " \"lak\"    "
     ]
    },
    {
     "name": "stdout",
     "output_type": "stream",
     "text": [
      "\n",
      " [167,]"
     ]
    },
    {
     "name": "stdout",
     "output_type": "stream",
     "text": [
      " \"T01095\""
     ]
    },
    {
     "name": "stdout",
     "output_type": "stream",
     "text": [
      " \"6183\"                                          "
     ]
    },
    {
     "name": "stdout",
     "output_type": "stream",
     "text": [
      " \"smm\"    "
     ]
    },
    {
     "name": "stdout",
     "output_type": "stream",
     "text": [
      "\n",
      " [168,]"
     ]
    },
    {
     "name": "stdout",
     "output_type": "stream",
     "text": [
      " \"T05004\""
     ]
    },
    {
     "name": "stdout",
     "output_type": "stream",
     "text": [
      " \"6185\"                                          "
     ]
    },
    {
     "name": "stdout",
     "output_type": "stream",
     "text": [
      " \"shx\"    "
     ]
    },
    {
     "name": "stdout",
     "output_type": "stream",
     "text": [
      "\n",
      " [169,]"
     ]
    },
    {
     "name": "stdout",
     "output_type": "stream",
     "text": [
      " \"T04902\""
     ]
    },
    {
     "name": "stdout",
     "output_type": "stream",
     "text": [
      " \"6198\"                                          "
     ]
    },
    {
     "name": "stdout",
     "output_type": "stream",
     "text": [
      " \"ovi\"    "
     ]
    },
    {
     "name": "stdout",
     "output_type": "stream",
     "text": [
      "\n",
      " [170,]"
     ]
    },
    {
     "name": "stdout",
     "output_type": "stream",
     "text": [
      " \"T01037\""
     ]
    },
    {
     "name": "stdout",
     "output_type": "stream",
     "text": [
      " \"45351\"                                         "
     ]
    },
    {
     "name": "stdout",
     "output_type": "stream",
     "text": [
      " \"nve\"    "
     ]
    },
    {
     "name": "stdout",
     "output_type": "stream",
     "text": [
      "\n",
      " [171,]"
     ]
    },
    {
     "name": "stdout",
     "output_type": "stream",
     "text": [
      " \"T05080\""
     ]
    },
    {
     "name": "stdout",
     "output_type": "stream",
     "text": [
      " \"1720309\"                                       "
     ]
    },
    {
     "name": "stdout",
     "output_type": "stream",
     "text": [
      " \"epa\"    "
     ]
    },
    {
     "name": "stdout",
     "output_type": "stream",
     "text": [
      "\n",
      " [172,]"
     ]
    },
    {
     "name": "stdout",
     "output_type": "stream",
     "text": [
      " \"T04352\""
     ]
    },
    {
     "name": "stdout",
     "output_type": "stream",
     "text": [
      " \"70779\"                                         "
     ]
    },
    {
     "name": "stdout",
     "output_type": "stream",
     "text": [
      " \"adf\"    "
     ]
    },
    {
     "name": "stdout",
     "output_type": "stream",
     "text": [
      "\n",
      " [173,]"
     ]
    },
    {
     "name": "stdout",
     "output_type": "stream",
     "text": [
      " \"T01080\""
     ]
    },
    {
     "name": "stdout",
     "output_type": "stream",
     "text": [
      " \"6087\"                                          "
     ]
    },
    {
     "name": "stdout",
     "output_type": "stream",
     "text": [
      " \"hmg\"    "
     ]
    },
    {
     "name": "stdout",
     "output_type": "stream",
     "text": [
      "\n",
      " [174,]"
     ]
    },
    {
     "name": "stdout",
     "output_type": "stream",
     "text": [
      " \"T01069\""
     ]
    },
    {
     "name": "stdout",
     "output_type": "stream",
     "text": [
      " \"10228\"                                         "
     ]
    },
    {
     "name": "stdout",
     "output_type": "stream",
     "text": [
      " \"tad\"    "
     ]
    },
    {
     "name": "stdout",
     "output_type": "stream",
     "text": [
      "\n",
      " [175,]"
     ]
    },
    {
     "name": "stdout",
     "output_type": "stream",
     "text": [
      " \"T02284\""
     ]
    },
    {
     "name": "stdout",
     "output_type": "stream",
     "text": [
      " \"400682\"                                        "
     ]
    },
    {
     "name": "stdout",
     "output_type": "stream",
     "text": [
      " \"aqu\"    "
     ]
    },
    {
     "name": "stdout",
     "output_type": "stream",
     "text": [
      "\n",
      " [176,]"
     ]
    },
    {
     "name": "stdout",
     "output_type": "stream",
     "text": [
      " \"T00041\""
     ]
    },
    {
     "name": "stdout",
     "output_type": "stream",
     "text": [
      " \"3702\"                                          "
     ]
    },
    {
     "name": "stdout",
     "output_type": "stream",
     "text": [
      " \"ath\"    "
     ]
    },
    {
     "name": "stdout",
     "output_type": "stream",
     "text": [
      "\n",
      " [177,]"
     ]
    },
    {
     "name": "stdout",
     "output_type": "stream",
     "text": [
      " \"T01578\""
     ]
    },
    {
     "name": "stdout",
     "output_type": "stream",
     "text": [
      " \"81972\"                                         "
     ]
    },
    {
     "name": "stdout",
     "output_type": "stream",
     "text": [
      " \"aly\"    "
     ]
    },
    {
     "name": "stdout",
     "output_type": "stream",
     "text": [
      "\n",
      " [178,]"
     ]
    },
    {
     "name": "stdout",
     "output_type": "stream",
     "text": [
      " \"T02984\""
     ]
    },
    {
     "name": "stdout",
     "output_type": "stream",
     "text": [
      " \"81985\"                                         "
     ]
    },
    {
     "name": "stdout",
     "output_type": "stream",
     "text": [
      " \"crb\"    "
     ]
    },
    {
     "name": "stdout",
     "output_type": "stream",
     "text": [
      "\n",
      " [179,]"
     ]
    },
    {
     "name": "stdout",
     "output_type": "stream",
     "text": [
      " \"T05044\""
     ]
    },
    {
     "name": "stdout",
     "output_type": "stream",
     "text": [
      " \"90675\"                                         "
     ]
    },
    {
     "name": "stdout",
     "output_type": "stream",
     "text": [
      " \"csat\"   "
     ]
    },
    {
     "name": "stdout",
     "output_type": "stream",
     "text": [
      "\n",
      " [180,]"
     ]
    },
    {
     "name": "stdout",
     "output_type": "stream",
     "text": [
      " \"T02985\""
     ]
    },
    {
     "name": "stdout",
     "output_type": "stream",
     "text": [
      " \"72664\"                                         "
     ]
    },
    {
     "name": "stdout",
     "output_type": "stream",
     "text": [
      " \"eus\"    "
     ]
    },
    {
     "name": "stdout",
     "output_type": "stream",
     "text": [
      "\n",
      " [181,]"
     ]
    },
    {
     "name": "stdout",
     "output_type": "stream",
     "text": [
      " \"T03449\""
     ]
    },
    {
     "name": "stdout",
     "output_type": "stream",
     "text": [
      " \"3711\"                                          "
     ]
    },
    {
     "name": "stdout",
     "output_type": "stream",
     "text": [
      " \"brp\"    "
     ]
    },
    {
     "name": "stdout",
     "output_type": "stream",
     "text": [
      "\n",
      " [182,]"
     ]
    },
    {
     "name": "stdout",
     "output_type": "stream",
     "text": [
      " \"T04128\""
     ]
    },
    {
     "name": "stdout",
     "output_type": "stream",
     "text": [
      " \"3708\"                                          "
     ]
    },
    {
     "name": "stdout",
     "output_type": "stream",
     "text": [
      " \"bna\"    "
     ]
    },
    {
     "name": "stdout",
     "output_type": "stream",
     "text": [
      "\n",
      " [183,]"
     ]
    },
    {
     "name": "stdout",
     "output_type": "stream",
     "text": [
      " \"T04124\""
     ]
    },
    {
     "name": "stdout",
     "output_type": "stream",
     "text": [
      " \"109376\"                                        "
     ]
    },
    {
     "name": "stdout",
     "output_type": "stream",
     "text": [
      " \"boe\"    "
     ]
    },
    {
     "name": "stdout",
     "output_type": "stream",
     "text": [
      "\n",
      " [184,]"
     ]
    },
    {
     "name": "stdout",
     "output_type": "stream",
     "text": [
      " \"T04125\""
     ]
    },
    {
     "name": "stdout",
     "output_type": "stream",
     "text": [
      " \"28532\"                                         "
     ]
    },
    {
     "name": "stdout",
     "output_type": "stream",
     "text": [
      " \"thj\"    "
     ]
    },
    {
     "name": "stdout",
     "output_type": "stream",
     "text": [
      "\n",
      " [185,]"
     ]
    },
    {
     "name": "stdout",
     "output_type": "stream",
     "text": [
      " \"T05151\""
     ]
    },
    {
     "name": "stdout",
     "output_type": "stream",
     "text": [
      " \"3649\"                                          "
     ]
    },
    {
     "name": "stdout",
     "output_type": "stream",
     "text": [
      " \"cpap\"   "
     ]
    },
    {
     "name": "stdout",
     "output_type": "stream",
     "text": [
      "\n",
      " [186,]"
     ]
    },
    {
     "name": "stdout",
     "output_type": "stream",
     "text": [
      " \"T02983\""
     ]
    },
    {
     "name": "stdout",
     "output_type": "stream",
     "text": [
      " \"2711\"                                          "
     ]
    },
    {
     "name": "stdout",
     "output_type": "stream",
     "text": [
      " \"cit\"    "
     ]
    },
    {
     "name": "stdout",
     "output_type": "stream",
     "text": [
      "\n",
      " [187,]"
     ]
    },
    {
     "name": "stdout",
     "output_type": "stream",
     "text": [
      " \"T02982\""
     ]
    },
    {
     "name": "stdout",
     "output_type": "stream",
     "text": [
      " \"85681\"                                         "
     ]
    },
    {
     "name": "stdout",
     "output_type": "stream",
     "text": [
      " \"cic\"    "
     ]
    },
    {
     "name": "stdout",
     "output_type": "stream",
     "text": [
      "\n",
      " [188,]"
     ]
    },
    {
     "name": "stdout",
     "output_type": "stream",
     "text": [
      " \"T02994\""
     ]
    },
    {
     "name": "stdout",
     "output_type": "stream",
     "text": [
      " \"3641\"                                          "
     ]
    },
    {
     "name": "stdout",
     "output_type": "stream",
     "text": [
      " \"tcc\"    "
     ]
    },
    {
     "name": "stdout",
     "output_type": "stream",
     "text": [
      "\n",
      " [189,]"
     ]
    },
    {
     "name": "stdout",
     "output_type": "stream",
     "text": [
      " \"T04129\""
     ]
    },
    {
     "name": "stdout",
     "output_type": "stream",
     "text": [
      " \"29730\"                                         "
     ]
    },
    {
     "name": "stdout",
     "output_type": "stream",
     "text": [
      " \"gra\"    "
     ]
    },
    {
     "name": "stdout",
     "output_type": "stream",
     "text": [
      "\n",
      " [190,]"
     ]
    },
    {
     "name": "stdout",
     "output_type": "stream",
     "text": [
      " \"T04793\""
     ]
    },
    {
     "name": "stdout",
     "output_type": "stream",
     "text": [
      " \"3635\"                                          "
     ]
    },
    {
     "name": "stdout",
     "output_type": "stream",
     "text": [
      " \"ghi\"    "
     ]
    },
    {
     "name": "stdout",
     "output_type": "stream",
     "text": [
      "\n",
      " [191,]"
     ]
    },
    {
     "name": "stdout",
     "output_type": "stream",
     "text": [
      " \"T05242\""
     ]
    },
    {
     "name": "stdout",
     "output_type": "stream",
     "text": [
      " \"66656\"                                         "
     ]
    },
    {
     "name": "stdout",
     "output_type": "stream",
     "text": [
      " \"dzi\"    "
     ]
    },
    {
     "name": "stdout",
     "output_type": "stream",
     "text": [
      "\n",
      " [192,]"
     ]
    },
    {
     "name": "stdout",
     "output_type": "stream",
     "text": [
      " \"T03547\""
     ]
    },
    {
     "name": "stdout",
     "output_type": "stream",
     "text": [
      " \"71139\"                                         "
     ]
    },
    {
     "name": "stdout",
     "output_type": "stream",
     "text": [
      " \"egr\"    "
     ]
    },
    {
     "name": "stdout",
     "output_type": "stream",
     "text": [
      "\n",
      " [193,]"
     ]
    },
    {
     "name": "stdout",
     "output_type": "stream",
     "text": [
      " \"T01710\""
     ]
    },
    {
     "name": "stdout",
     "output_type": "stream",
     "text": [
      " \"3847\"                                          "
     ]
    },
    {
     "name": "stdout",
     "output_type": "stream",
     "text": [
      " \"gmx\"    "
     ]
    },
    {
     "name": "stdout",
     "output_type": "stream",
     "text": [
      "\n",
      " [194,]"
     ]
    },
    {
     "name": "stdout",
     "output_type": "stream",
     "text": [
      " \"T03093\""
     ]
    },
    {
     "name": "stdout",
     "output_type": "stream",
     "text": [
      " \"3885\"                                          "
     ]
    },
    {
     "name": "stdout",
     "output_type": "stream",
     "text": [
      " \"pvu\"    "
     ]
    },
    {
     "name": "stdout",
     "output_type": "stream",
     "text": [
      "\n",
      " [195,]"
     ]
    },
    {
     "name": "stdout",
     "output_type": "stream",
     "text": [
      " \"T04126\""
     ]
    },
    {
     "name": "stdout",
     "output_type": "stream",
     "text": [
      " \"3916\"                                          "
     ]
    },
    {
     "name": "stdout",
     "output_type": "stream",
     "text": [
      " \"vra\"    "
     ]
    },
    {
     "name": "stdout",
     "output_type": "stream",
     "text": [
      "\n",
      " [196,]"
     ]
    },
    {
     "name": "stdout",
     "output_type": "stream",
     "text": [
      " \"T04660\""
     ]
    },
    {
     "name": "stdout",
     "output_type": "stream",
     "text": [
      " \"3914\"                                          "
     ]
    },
    {
     "name": "stdout",
     "output_type": "stream",
     "text": [
      " \"var\"    "
     ]
    },
    {
     "name": "stdout",
     "output_type": "stream",
     "text": [
      "\n",
      " [197,]"
     ]
    },
    {
     "name": "stdout",
     "output_type": "stream",
     "text": [
      " \"T04868\""
     ]
    },
    {
     "name": "stdout",
     "output_type": "stream",
     "text": [
      " \"3821\"                                          "
     ]
    },
    {
     "name": "stdout",
     "output_type": "stream",
     "text": [
      " \"ccaj\"   "
     ]
    },
    {
     "name": "stdout",
     "output_type": "stream",
     "text": [
      "\n",
      " [198,]"
     ]
    },
    {
     "name": "stdout",
     "output_type": "stream",
     "text": [
      " \"T01716\""
     ]
    },
    {
     "name": "stdout",
     "output_type": "stream",
     "text": [
      " \"3880\"                                          "
     ]
    },
    {
     "name": "stdout",
     "output_type": "stream",
     "text": [
      " \"mtr\"    "
     ]
    },
    {
     "name": "stdout",
     "output_type": "stream",
     "text": [
      "\n",
      " [199,]"
     ]
    },
    {
     "name": "stdout",
     "output_type": "stream",
     "text": [
      " \"T02819\""
     ]
    },
    {
     "name": "stdout",
     "output_type": "stream",
     "text": [
      " \"3827\"                                          "
     ]
    },
    {
     "name": "stdout",
     "output_type": "stream",
     "text": [
      " \"cam\"    "
     ]
    },
    {
     "name": "stdout",
     "output_type": "stream",
     "text": [
      "\n",
      " [200,]"
     ]
    },
    {
     "name": "stdout",
     "output_type": "stream",
     "text": [
      " \"T04300\""
     ]
    },
    {
     "name": "stdout",
     "output_type": "stream",
     "text": [
      " \"130453\"                                        "
     ]
    },
    {
     "name": "stdout",
     "output_type": "stream",
     "text": [
      " \"adu\"    "
     ]
    },
    {
     "name": "stdout",
     "output_type": "stream",
     "text": [
      "\n",
      " [201,]"
     ]
    },
    {
     "name": "stdout",
     "output_type": "stream",
     "text": [
      " \"T04301\""
     ]
    },
    {
     "name": "stdout",
     "output_type": "stream",
     "text": [
      " \"130454\"                                        "
     ]
    },
    {
     "name": "stdout",
     "output_type": "stream",
     "text": [
      " \"aip\"    "
     ]
    },
    {
     "name": "stdout",
     "output_type": "stream",
     "text": [
      "\n",
      " [202,]"
     ]
    },
    {
     "name": "stdout",
     "output_type": "stream",
     "text": [
      " \"T04664\""
     ]
    },
    {
     "name": "stdout",
     "output_type": "stream",
     "text": [
      " \"3871\"                                          "
     ]
    },
    {
     "name": "stdout",
     "output_type": "stream",
     "text": [
      " \"lang\"   "
     ]
    },
    {
     "name": "stdout",
     "output_type": "stream",
     "text": [
      "\n",
      " [203,]"
     ]
    },
    {
     "name": "stdout",
     "output_type": "stream",
     "text": [
      " \"T02666\""
     ]
    },
    {
     "name": "stdout",
     "output_type": "stream",
     "text": [
      " \"101020\"                                        "
     ]
    },
    {
     "name": "stdout",
     "output_type": "stream",
     "text": [
      " \"fve\"    "
     ]
    },
    {
     "name": "stdout",
     "output_type": "stream",
     "text": [
      "\n",
      " [204,]"
     ]
    },
    {
     "name": "stdout",
     "output_type": "stream",
     "text": [
      " \"T03092\""
     ]
    },
    {
     "name": "stdout",
     "output_type": "stream",
     "text": [
      " \"3760\"                                          "
     ]
    },
    {
     "name": "stdout",
     "output_type": "stream",
     "text": [
      " \"pper\"   "
     ]
    },
    {
     "name": "stdout",
     "output_type": "stream",
     "text": [
      "\n",
      " [205,]"
     ]
    },
    {
     "name": "stdout",
     "output_type": "stream",
     "text": [
      " \"T03196\""
     ]
    },
    {
     "name": "stdout",
     "output_type": "stream",
     "text": [
      " \"102107\"                                        "
     ]
    },
    {
     "name": "stdout",
     "output_type": "stream",
     "text": [
      " \"pmum\"   "
     ]
    },
    {
     "name": "stdout",
     "output_type": "stream",
     "text": [
      "\n",
      " [206,]"
     ]
    },
    {
     "name": "stdout",
     "output_type": "stream",
     "text": [
      " \"T05161\""
     ]
    },
    {
     "name": "stdout",
     "output_type": "stream",
     "text": [
      " \"42229\"                                         "
     ]
    },
    {
     "name": "stdout",
     "output_type": "stream",
     "text": [
      " \"pavi\"   "
     ]
    },
    {
     "name": "stdout",
     "output_type": "stream",
     "text": [
      "\n",
      " [207,]"
     ]
    },
    {
     "name": "stdout",
     "output_type": "stream",
     "text": [
      " \"T03194\""
     ]
    },
    {
     "name": "stdout",
     "output_type": "stream",
     "text": [
      " \"3750\"                                          "
     ]
    },
    {
     "name": "stdout",
     "output_type": "stream",
     "text": [
      " \"mdm\"    "
     ]
    },
    {
     "name": "stdout",
     "output_type": "stream",
     "text": [
      "\n",
      " [208,]"
     ]
    },
    {
     "name": "stdout",
     "output_type": "stream",
     "text": [
      " \"T03446\""
     ]
    },
    {
     "name": "stdout",
     "output_type": "stream",
     "text": [
      " \"225117\"                                        "
     ]
    },
    {
     "name": "stdout",
     "output_type": "stream",
     "text": [
      " \"pxb\"    "
     ]
    },
    {
     "name": "stdout",
     "output_type": "stream",
     "text": [
      "\n",
      " [209,]"
     ]
    },
    {
     "name": "stdout",
     "output_type": "stream",
     "text": [
      " \"T04794\""
     ]
    },
    {
     "name": "stdout",
     "output_type": "stream",
     "text": [
      " \"326968\"                                        "
     ]
    },
    {
     "name": "stdout",
     "output_type": "stream",
     "text": [
      " \"zju\"    "
     ]
    },
    {
     "name": "stdout",
     "output_type": "stream",
     "text": [
      "\n",
      " [210,]"
     ]
    },
    {
     "name": "stdout",
     "output_type": "stream",
     "text": [
      " \"T02486\""
     ]
    },
    {
     "name": "stdout",
     "output_type": "stream",
     "text": [
      " \"3659\"                                          "
     ]
    },
    {
     "name": "stdout",
     "output_type": "stream",
     "text": [
      " \"csv\"    "
     ]
    },
    {
     "name": "stdout",
     "output_type": "stream",
     "text": [
      "\n",
      " [211,]"
     ]
    },
    {
     "name": "stdout",
     "output_type": "stream",
     "text": [
      " \"T03195\""
     ]
    },
    {
     "name": "stdout",
     "output_type": "stream",
     "text": [
      " \"3656\"                                          "
     ]
    },
    {
     "name": "stdout",
     "output_type": "stream",
     "text": [
      " \"cmo\"    "
     ]
    },
    {
     "name": "stdout",
     "output_type": "stream",
     "text": [
      "\n",
      " [212,]"
     ]
    },
    {
     "name": "stdout",
     "output_type": "stream",
     "text": [
      " \"T05045\""
     ]
    },
    {
     "name": "stdout",
     "output_type": "stream",
     "text": [
      " \"3673\"                                          "
     ]
    },
    {
     "name": "stdout",
     "output_type": "stream",
     "text": [
      " \"mcha\"   "
     ]
    },
    {
     "name": "stdout",
     "output_type": "stream",
     "text": [
      "\n",
      " [213,]"
     ]
    },
    {
     "name": "stdout",
     "output_type": "stream",
     "text": [
      " \"T05246\""
     ]
    },
    {
     "name": "stdout",
     "output_type": "stream",
     "text": [
      " \"3661\"                                          "
     ]
    },
    {
     "name": "stdout",
     "output_type": "stream",
     "text": [
      " \"cmax\"   "
     ]
    },
    {
     "name": "stdout",
     "output_type": "stream",
     "text": [
      "\n",
      " [214,]"
     ]
    },
    {
     "name": "stdout",
     "output_type": "stream",
     "text": [
      " \"T01087\""
     ]
    },
    {
     "name": "stdout",
     "output_type": "stream",
     "text": [
      " \"3988\"                                          "
     ]
    },
    {
     "name": "stdout",
     "output_type": "stream",
     "text": [
      " \"rcu\"    "
     ]
    },
    {
     "name": "stdout",
     "output_type": "stream",
     "text": [
      "\n",
      " [215,]"
     ]
    },
    {
     "name": "stdout",
     "output_type": "stream",
     "text": [
      " \"T03922\""
     ]
    },
    {
     "name": "stdout",
     "output_type": "stream",
     "text": [
      " \"180498\"                                        "
     ]
    },
    {
     "name": "stdout",
     "output_type": "stream",
     "text": [
      " \"jcu\"    "
     ]
    },
    {
     "name": "stdout",
     "output_type": "stream",
     "text": [
      "\n",
      " [216,]"
     ]
    },
    {
     "name": "stdout",
     "output_type": "stream",
     "text": [
      " \"T05150\""
     ]
    },
    {
     "name": "stdout",
     "output_type": "stream",
     "text": [
      " \"3981\"                                          "
     ]
    },
    {
     "name": "stdout",
     "output_type": "stream",
     "text": [
      " \"hbr\"    "
     ]
    },
    {
     "name": "stdout",
     "output_type": "stream",
     "text": [
      "\n",
      " [217,]"
     ]
    },
    {
     "name": "stdout",
     "output_type": "stream",
     "text": [
      " \"T01077\""
     ]
    },
    {
     "name": "stdout",
     "output_type": "stream",
     "text": [
      " \"3694\"                                          "
     ]
    },
    {
     "name": "stdout",
     "output_type": "stream",
     "text": [
      " \"pop\"    "
     ]
    },
    {
     "name": "stdout",
     "output_type": "stream",
     "text": [
      "\n",
      " [218,]"
     ]
    },
    {
     "name": "stdout",
     "output_type": "stream",
     "text": [
      " \"T05245\""
     ]
    },
    {
     "name": "stdout",
     "output_type": "stream",
     "text": [
      " \"51240\"                                         "
     ]
    },
    {
     "name": "stdout",
     "output_type": "stream",
     "text": [
      " \"jre\"    "
     ]
    },
    {
     "name": "stdout",
     "output_type": "stream",
     "text": [
      "\n",
      " [219,]"
     ]
    },
    {
     "name": "stdout",
     "output_type": "stream",
     "text": [
      " \"T01084\""
     ]
    },
    {
     "name": "stdout",
     "output_type": "stream",
     "text": [
      " \"29760\"                                         "
     ]
    },
    {
     "name": "stdout",
     "output_type": "stream",
     "text": [
      " \"vvi\"    "
     ]
    },
    {
     "name": "stdout",
     "output_type": "stream",
     "text": [
      "\n",
      " [220,]"
     ]
    },
    {
     "name": "stdout",
     "output_type": "stream",
     "text": [
      " \"T02665\""
     ]
    },
    {
     "name": "stdout",
     "output_type": "stream",
     "text": [
      " \"4081\"                                          "
     ]
    },
    {
     "name": "stdout",
     "output_type": "stream",
     "text": [
      " \"sly\"    "
     ]
    },
    {
     "name": "stdout",
     "output_type": "stream",
     "text": [
      "\n",
      " [221,]"
     ]
    },
    {
     "name": "stdout",
     "output_type": "stream",
     "text": [
      " \"T04130\""
     ]
    },
    {
     "name": "stdout",
     "output_type": "stream",
     "text": [
      " \"28526\"                                         "
     ]
    },
    {
     "name": "stdout",
     "output_type": "stream",
     "text": [
      " \"spen\"   "
     ]
    },
    {
     "name": "stdout",
     "output_type": "stream",
     "text": [
      "\n",
      " [222,]"
     ]
    },
    {
     "name": "stdout",
     "output_type": "stream",
     "text": [
      " \"T02981\""
     ]
    },
    {
     "name": "stdout",
     "output_type": "stream",
     "text": [
      " \"4113\"                                          "
     ]
    },
    {
     "name": "stdout",
     "output_type": "stream",
     "text": [
      " \"sot\"    "
     ]
    },
    {
     "name": "stdout",
     "output_type": "stream",
     "text": [
      "\n",
      " [223,]"
     ]
    },
    {
     "name": "stdout",
     "output_type": "stream",
     "text": [
      " \"T04646\""
     ]
    },
    {
     "name": "stdout",
     "output_type": "stream",
     "text": [
      " \"4072\"                                          "
     ]
    },
    {
     "name": "stdout",
     "output_type": "stream",
     "text": [
      " \"cann\"   "
     ]
    },
    {
     "name": "stdout",
     "output_type": "stream",
     "text": [
      "\n",
      " [224,]"
     ]
    },
    {
     "name": "stdout",
     "output_type": "stream",
     "text": [
      " \"T04643\""
     ]
    },
    {
     "name": "stdout",
     "output_type": "stream",
     "text": [
      " \"4097\"                                          "
     ]
    },
    {
     "name": "stdout",
     "output_type": "stream",
     "text": [
      " \"nta\"    "
     ]
    },
    {
     "name": "stdout",
     "output_type": "stream",
     "text": [
      "\n",
      " [225,]"
     ]
    },
    {
     "name": "stdout",
     "output_type": "stream",
     "text": [
      " \"T05026\""
     ]
    },
    {
     "name": "stdout",
     "output_type": "stream",
     "text": [
      " \"4096\"                                          "
     ]
    },
    {
     "name": "stdout",
     "output_type": "stream",
     "text": [
      " \"nsy\"    "
     ]
    },
    {
     "name": "stdout",
     "output_type": "stream",
     "text": [
      "\n",
      " [226,]"
     ]
    },
    {
     "name": "stdout",
     "output_type": "stream",
     "text": [
      " \"T05025\""
     ]
    },
    {
     "name": "stdout",
     "output_type": "stream",
     "text": [
      " \"4098\"                                          "
     ]
    },
    {
     "name": "stdout",
     "output_type": "stream",
     "text": [
      " \"nto\"    "
     ]
    },
    {
     "name": "stdout",
     "output_type": "stream",
     "text": [
      "\n",
      " [227,]"
     ]
    },
    {
     "name": "stdout",
     "output_type": "stream",
     "text": [
      " \"T04663\""
     ]
    },
    {
     "name": "stdout",
     "output_type": "stream",
     "text": [
      " \"35883\"                                         "
     ]
    },
    {
     "name": "stdout",
     "output_type": "stream",
     "text": [
      " \"ini\"    "
     ]
    },
    {
     "name": "stdout",
     "output_type": "stream",
     "text": [
      "\n",
      " [228,]"
     ]
    },
    {
     "name": "stdout",
     "output_type": "stream",
     "text": [
      " \"T04135\""
     ]
    },
    {
     "name": "stdout",
     "output_type": "stream",
     "text": [
      " \"4182\"                                          "
     ]
    },
    {
     "name": "stdout",
     "output_type": "stream",
     "text": [
      " \"sind\"   "
     ]
    },
    {
     "name": "stdout",
     "output_type": "stream",
     "text": [
      "\n",
      " [229,]"
     ]
    },
    {
     "name": "stdout",
     "output_type": "stream",
     "text": [
      " \"T05244\""
     ]
    },
    {
     "name": "stdout",
     "output_type": "stream",
     "text": [
      " \"158386\"                                        "
     ]
    },
    {
     "name": "stdout",
     "output_type": "stream",
     "text": [
      " \"oeu\"    "
     ]
    },
    {
     "name": "stdout",
     "output_type": "stream",
     "text": [
      "\n",
      " [230,]"
     ]
    },
    {
     "name": "stdout",
     "output_type": "stream",
     "text": [
      " \"T05101\""
     ]
    },
    {
     "name": "stdout",
     "output_type": "stream",
     "text": [
      " \"4232\"                                          "
     ]
    },
    {
     "name": "stdout",
     "output_type": "stream",
     "text": [
      " \"han\"    "
     ]
    },
    {
     "name": "stdout",
     "output_type": "stream",
     "text": [
      "\n",
      " [231,]"
     ]
    },
    {
     "name": "stdout",
     "output_type": "stream",
     "text": [
      " \"T03548\""
     ]
    },
    {
     "name": "stdout",
     "output_type": "stream",
     "text": [
      " \"3555\"                                          "
     ]
    },
    {
     "name": "stdout",
     "output_type": "stream",
     "text": [
      " \"bvg\"    "
     ]
    },
    {
     "name": "stdout",
     "output_type": "stream",
     "text": [
      "\n",
      " [232,]"
     ]
    },
    {
     "name": "stdout",
     "output_type": "stream",
     "text": [
      " \"T05137\""
     ]
    },
    {
     "name": "stdout",
     "output_type": "stream",
     "text": [
      " \"3562\"                                          "
     ]
    },
    {
     "name": "stdout",
     "output_type": "stream",
     "text": [
      " \"soe\"    "
     ]
    },
    {
     "name": "stdout",
     "output_type": "stream",
     "text": [
      "\n",
      " [233,]"
     ]
    },
    {
     "name": "stdout",
     "output_type": "stream",
     "text": [
      " \"T04131\""
     ]
    },
    {
     "name": "stdout",
     "output_type": "stream",
     "text": [
      " \"4432\"                                          "
     ]
    },
    {
     "name": "stdout",
     "output_type": "stream",
     "text": [
      " \"nnu\"    "
     ]
    },
    {
     "name": "stdout",
     "output_type": "stream",
     "text": [
      "\n",
      " [234,]"
     ]
    },
    {
     "name": "stdout",
     "output_type": "stream",
     "text": [
      " \"T01015\""
     ]
    },
    {
     "name": "stdout",
     "output_type": "stream",
     "text": [
      " \"39947\"                                         "
     ]
    },
    {
     "name": "stdout",
     "output_type": "stream",
     "text": [
      " \"osa\"    "
     ]
    },
    {
     "name": "stdout",
     "output_type": "stream",
     "text": [
      "\n",
      " [235,]"
     ]
    },
    {
     "name": "stdout",
     "output_type": "stream",
     "text": [
      " \"T02995\""
     ]
    },
    {
     "name": "stdout",
     "output_type": "stream",
     "text": [
      " \"4533\"                                          "
     ]
    },
    {
     "name": "stdout",
     "output_type": "stream",
     "text": [
      " \"obr\"    "
     ]
    },
    {
     "name": "stdout",
     "output_type": "stream",
     "text": [
      "\n",
      " [236,]"
     ]
    },
    {
     "name": "stdout",
     "output_type": "stream",
     "text": [
      " \"T01717\""
     ]
    },
    {
     "name": "stdout",
     "output_type": "stream",
     "text": [
      " \"15368\"                                         "
     ]
    },
    {
     "name": "stdout",
     "output_type": "stream",
     "text": [
      " \"bdi\"    "
     ]
    },
    {
     "name": "stdout",
     "output_type": "stream",
     "text": [
      "\n",
      " [237,]"
     ]
    },
    {
     "name": "stdout",
     "output_type": "stream",
     "text": [
      " \"T04345\""
     ]
    },
    {
     "name": "stdout",
     "output_type": "stream",
     "text": [
      " \"169297\"                                        "
     ]
    },
    {
     "name": "stdout",
     "output_type": "stream",
     "text": [
      " \"ats\"    "
     ]
    },
    {
     "name": "stdout",
     "output_type": "stream",
     "text": [
      "\n",
      " [238,]"
     ]
    },
    {
     "name": "stdout",
     "output_type": "stream",
     "text": [
      " \"T01086\""
     ]
    },
    {
     "name": "stdout",
     "output_type": "stream",
     "text": [
      " \"4558\"                                          "
     ]
    },
    {
     "name": "stdout",
     "output_type": "stream",
     "text": [
      " \"sbi\"    "
     ]
    },
    {
     "name": "stdout",
     "output_type": "stream",
     "text": [
      "\n",
      " [239,]"
     ]
    },
    {
     "name": "stdout",
     "output_type": "stream",
     "text": [
      " \"T01088\""
     ]
    },
    {
     "name": "stdout",
     "output_type": "stream",
     "text": [
      " \"4577\"                                          "
     ]
    },
    {
     "name": "stdout",
     "output_type": "stream",
     "text": [
      " \"zma\"    "
     ]
    },
    {
     "name": "stdout",
     "output_type": "stream",
     "text": [
      "\n",
      " [240,]"
     ]
    },
    {
     "name": "stdout",
     "output_type": "stream",
     "text": [
      " \"T02818\""
     ]
    },
    {
     "name": "stdout",
     "output_type": "stream",
     "text": [
      " \"4555\"                                          "
     ]
    },
    {
     "name": "stdout",
     "output_type": "stream",
     "text": [
      " \"sita\"   "
     ]
    },
    {
     "name": "stdout",
     "output_type": "stream",
     "text": [
      "\n",
      " [241,]"
     ]
    },
    {
     "name": "stdout",
     "output_type": "stream",
     "text": [
      " \"T03274\""
     ]
    },
    {
     "name": "stdout",
     "output_type": "stream",
     "text": [
      " \"42345\"                                         "
     ]
    },
    {
     "name": "stdout",
     "output_type": "stream",
     "text": [
      " \"pda\"    "
     ]
    },
    {
     "name": "stdout",
     "output_type": "stream",
     "text": [
      "\n",
      " [242,]"
     ]
    },
    {
     "name": "stdout",
     "output_type": "stream",
     "text": [
      " \"T03921\""
     ]
    },
    {
     "name": "stdout",
     "output_type": "stream",
     "text": [
      " \"51953\"                                         "
     ]
    },
    {
     "name": "stdout",
     "output_type": "stream",
     "text": [
      " \"egu\"    "
     ]
    },
    {
     "name": "stdout",
     "output_type": "stream",
     "text": [
      "\n",
      " [243,]"
     ]
    },
    {
     "name": "stdout",
     "output_type": "stream",
     "text": [
      " \"T03447\""
     ]
    },
    {
     "name": "stdout",
     "output_type": "stream",
     "text": [
      " \"214687\"                                        "
     ]
    },
    {
     "name": "stdout",
     "output_type": "stream",
     "text": [
      " \"mus\"    "
     ]
    },
    {
     "name": "stdout",
     "output_type": "stream",
     "text": [
      "\n",
      " [244,]"
     ]
    },
    {
     "name": "stdout",
     "output_type": "stream",
     "text": [
      " \"T05027\""
     ]
    },
    {
     "name": "stdout",
     "output_type": "stream",
     "text": [
      " \"142615\"                                        "
     ]
    },
    {
     "name": "stdout",
     "output_type": "stream",
     "text": [
      " \"dct\"    "
     ]
    },
    {
     "name": "stdout",
     "output_type": "stream",
     "text": [
      "\n",
      " [245,]"
     ]
    },
    {
     "name": "stdout",
     "output_type": "stream",
     "text": [
      " \"T05243\""
     ]
    },
    {
     "name": "stdout",
     "output_type": "stream",
     "text": [
      " \"4686\"                                          "
     ]
    },
    {
     "name": "stdout",
     "output_type": "stream",
     "text": [
      " \"aof\"    "
     ]
    },
    {
     "name": "stdout",
     "output_type": "stream",
     "text": [
      "\n",
      " [246,]"
     ]
    },
    {
     "name": "stdout",
     "output_type": "stream",
     "text": [
      " \"T02990\""
     ]
    },
    {
     "name": "stdout",
     "output_type": "stream",
     "text": [
      " \"13333\"                                         "
     ]
    },
    {
     "name": "stdout",
     "output_type": "stream",
     "text": [
      " \"atr\"    "
     ]
    },
    {
     "name": "stdout",
     "output_type": "stream",
     "text": [
      "\n",
      " [247,]"
     ]
    },
    {
     "name": "stdout",
     "output_type": "stream",
     "text": [
      " \"T01496\""
     ]
    },
    {
     "name": "stdout",
     "output_type": "stream",
     "text": [
      " \"88036\"                                         "
     ]
    },
    {
     "name": "stdout",
     "output_type": "stream",
     "text": [
      " \"smo\"    "
     ]
    },
    {
     "name": "stdout",
     "output_type": "stream",
     "text": [
      "\n",
      " [248,]"
     ]
    },
    {
     "name": "stdout",
     "output_type": "stream",
     "text": [
      " \"T01041\""
     ]
    },
    {
     "name": "stdout",
     "output_type": "stream",
     "text": [
      " \"3218\"                                          "
     ]
    },
    {
     "name": "stdout",
     "output_type": "stream",
     "text": [
      " \"ppp\"    "
     ]
    },
    {
     "name": "stdout",
     "output_type": "stream",
     "text": [
      "\n",
      " [249,]"
     ]
    },
    {
     "name": "stdout",
     "output_type": "stream",
     "text": [
      " \"T01039\""
     ]
    },
    {
     "name": "stdout",
     "output_type": "stream",
     "text": [
      " \"3055\"                                          "
     ]
    },
    {
     "name": "stdout",
     "output_type": "stream",
     "text": [
      " \"cre\"    "
     ]
    },
    {
     "name": "stdout",
     "output_type": "stream",
     "text": [
      "\n",
      " [250,]"
     ]
    },
    {
     "name": "stdout",
     "output_type": "stream",
     "text": [
      " \"T01330\""
     ]
    },
    {
     "name": "stdout",
     "output_type": "stream",
     "text": [
      " \"3068\"                                          "
     ]
    },
    {
     "name": "stdout",
     "output_type": "stream",
     "text": [
      " \"vcn\"    "
     ]
    },
    {
     "name": "stdout",
     "output_type": "stream",
     "text": [
      "\n",
      " [251,]"
     ]
    },
    {
     "name": "stdout",
     "output_type": "stream",
     "text": [
      " \"T05028\""
     ]
    },
    {
     "name": "stdout",
     "output_type": "stream",
     "text": [
      " \"145388\"                                        "
     ]
    },
    {
     "name": "stdout",
     "output_type": "stream",
     "text": [
      " \"mng\"    "
     ]
    },
    {
     "name": "stdout",
     "output_type": "stream",
     "text": [
      "\n",
      " [252,]"
     ]
    },
    {
     "name": "stdout",
     "output_type": "stream",
     "text": [
      " \"T01029\""
     ]
    },
    {
     "name": "stdout",
     "output_type": "stream",
     "text": [
      " \"436017\"                                        "
     ]
    },
    {
     "name": "stdout",
     "output_type": "stream",
     "text": [
      " \"olu\"    "
     ]
    },
    {
     "name": "stdout",
     "output_type": "stream",
     "text": [
      "\n",
      " [253,]"
     ]
    },
    {
     "name": "stdout",
     "output_type": "stream",
     "text": [
      " \"T01358\""
     ]
    },
    {
     "name": "stdout",
     "output_type": "stream",
     "text": [
      " \"70448\"                                         "
     ]
    },
    {
     "name": "stdout",
     "output_type": "stream",
     "text": [
      " \"ota\"    "
     ]
    },
    {
     "name": "stdout",
     "output_type": "stream",
     "text": [
      "\n",
      " [254,]"
     ]
    },
    {
     "name": "stdout",
     "output_type": "stream",
     "text": [
      " \"T03089\""
     ]
    },
    {
     "name": "stdout",
     "output_type": "stream",
     "text": [
      " \"41875\"                                         "
     ]
    },
    {
     "name": "stdout",
     "output_type": "stream",
     "text": [
      " \"bpg\"    "
     ]
    },
    {
     "name": "stdout",
     "output_type": "stream",
     "text": [
      "\n",
      " [255,]"
     ]
    },
    {
     "name": "stdout",
     "output_type": "stream",
     "text": [
      " \"T02695\""
     ]
    },
    {
     "name": "stdout",
     "output_type": "stream",
     "text": [
      " \"296587\"                                        "
     ]
    },
    {
     "name": "stdout",
     "output_type": "stream",
     "text": [
      " \"mis\"    "
     ]
    },
    {
     "name": "stdout",
     "output_type": "stream",
     "text": [
      "\n",
      " [256,]"
     ]
    },
    {
     "name": "stdout",
     "output_type": "stream",
     "text": [
      " \"T02696\""
     ]
    },
    {
     "name": "stdout",
     "output_type": "stream",
     "text": [
      " \"564608\"                                        "
     ]
    },
    {
     "name": "stdout",
     "output_type": "stream",
     "text": [
      " \"mpp\"    "
     ]
    },
    {
     "name": "stdout",
     "output_type": "stream",
     "text": [
      "\n",
      " [257,]"
     ]
    },
    {
     "name": "stdout",
     "output_type": "stream",
     "text": [
      " \"T02914\""
     ]
    },
    {
     "name": "stdout",
     "output_type": "stream",
     "text": [
      " \"574566\"                                        "
     ]
    },
    {
     "name": "stdout",
     "output_type": "stream",
     "text": [
      " \"csl\"    "
     ]
    },
    {
     "name": "stdout",
     "output_type": "stream",
     "text": [
      "\n",
      " [258,]"
     ]
    },
    {
     "name": "stdout",
     "output_type": "stream",
     "text": [
      " \"T02924\""
     ]
    },
    {
     "name": "stdout",
     "output_type": "stream",
     "text": [
      " \"554065\"                                        "
     ]
    },
    {
     "name": "stdout",
     "output_type": "stream",
     "text": [
      " \"cvr\"    "
     ]
    },
    {
     "name": "stdout",
     "output_type": "stream",
     "text": [
      "\n",
      " [259,]"
     ]
    },
    {
     "name": "stdout",
     "output_type": "stream",
     "text": [
      " \"T04132\""
     ]
    },
    {
     "name": "stdout",
     "output_type": "stream",
     "text": [
      " \"3075\"                                          "
     ]
    },
    {
     "name": "stdout",
     "output_type": "stream",
     "text": [
      " \"apro\"   "
     ]
    },
    {
     "name": "stdout",
     "output_type": "stream",
     "text": [
      "\n",
      " [260,]"
     ]
    },
    {
     "name": "stdout",
     "output_type": "stream",
     "text": [
      " \"T00175\""
     ]
    },
    {
     "name": "stdout",
     "output_type": "stream",
     "text": [
      " \"280699\"                                        "
     ]
    },
    {
     "name": "stdout",
     "output_type": "stream",
     "text": [
      " \"cme\"    "
     ]
    },
    {
     "name": "stdout",
     "output_type": "stream",
     "text": [
      "\n",
      " [261,]"
     ]
    },
    {
     "name": "stdout",
     "output_type": "stream",
     "text": [
      " \"T02926\""
     ]
    },
    {
     "name": "stdout",
     "output_type": "stream",
     "text": [
      " \"130081\"                                        "
     ]
    },
    {
     "name": "stdout",
     "output_type": "stream",
     "text": [
      " \"gsl\"    "
     ]
    },
    {
     "name": "stdout",
     "output_type": "stream",
     "text": [
      "\n",
      " [262,]"
     ]
    },
    {
     "name": "stdout",
     "output_type": "stream",
     "text": [
      " \"T02916\""
     ]
    },
    {
     "name": "stdout",
     "output_type": "stream",
     "text": [
      " \"2769\"                                          "
     ]
    },
    {
     "name": "stdout",
     "output_type": "stream",
     "text": [
      " \"ccp\"    "
     ]
    },
    {
     "name": "stdout",
     "output_type": "stream",
     "text": [
      "\n",
      " [263,]"
     ]
    },
    {
     "name": "stdout",
     "output_type": "stream",
     "text": [
      " \"T00005\""
     ]
    },
    {
     "name": "stdout",
     "output_type": "stream",
     "text": [
      " \"559292\"                                        "
     ]
    },
    {
     "name": "stdout",
     "output_type": "stream",
     "text": [
      " \"sce\"    "
     ]
    },
    {
     "name": "stdout",
     "output_type": "stream",
     "text": [
      "\n",
      " [264,]"
     ]
    },
    {
     "name": "stdout",
     "output_type": "stream",
     "text": [
      " \"T00167\""
     ]
    },
    {
     "name": "stdout",
     "output_type": "stream",
     "text": [
      " \"284811\"                                        "
     ]
    },
    {
     "name": "stdout",
     "output_type": "stream",
     "text": [
      " \"ago\"    "
     ]
    },
    {
     "name": "stdout",
     "output_type": "stream",
     "text": [
      "\n",
      " [265,]"
     ]
    },
    {
     "name": "stdout",
     "output_type": "stream",
     "text": [
      " \"T02237\""
     ]
    },
    {
     "name": "stdout",
     "output_type": "stream",
     "text": [
      " \"931890\"                                        "
     ]
    },
    {
     "name": "stdout",
     "output_type": "stream",
     "text": [
      " \"erc\"    "
     ]
    },
    {
     "name": "stdout",
     "output_type": "stream",
     "text": [
      "\n",
      " [266,]"
     ]
    },
    {
     "name": "stdout",
     "output_type": "stream",
     "text": [
      " \"T01025\""
     ]
    },
    {
     "name": "stdout",
     "output_type": "stream",
     "text": [
      " \"284590\"                                        "
     ]
    },
    {
     "name": "stdout",
     "output_type": "stream",
     "text": [
      " \"kla\"    "
     ]
    },
    {
     "name": "stdout",
     "output_type": "stream",
     "text": [
      "\n",
      " [267,]"
     ]
    },
    {
     "name": "stdout",
     "output_type": "stream",
     "text": [
      " \"T01117\""
     ]
    },
    {
     "name": "stdout",
     "output_type": "stream",
     "text": [
      " \"559295\"                                        "
     ]
    },
    {
     "name": "stdout",
     "output_type": "stream",
     "text": [
      " \"lth\"    "
     ]
    },
    {
     "name": "stdout",
     "output_type": "stream",
     "text": [
      "\n",
      " [268,]"
     ]
    },
    {
     "name": "stdout",
     "output_type": "stream",
     "text": [
      " \"T01049\""
     ]
    },
    {
     "name": "stdout",
     "output_type": "stream",
     "text": [
      " \"436907\"                                        "
     ]
    },
    {
     "name": "stdout",
     "output_type": "stream",
     "text": [
      " \"vpo\"    "
     ]
    },
    {
     "name": "stdout",
     "output_type": "stream",
     "text": [
      "\n",
      " [269,]"
     ]
    },
    {
     "name": "stdout",
     "output_type": "stream",
     "text": [
      " \"T01118\""
     ]
    },
    {
     "name": "stdout",
     "output_type": "stream",
     "text": [
      " \"559307\"                                        "
     ]
    },
    {
     "name": "stdout",
     "output_type": "stream",
     "text": [
      " \"zro\"    "
     ]
    },
    {
     "name": "stdout",
     "output_type": "stream",
     "text": [
      "\n",
      " [270,]"
     ]
    },
    {
     "name": "stdout",
     "output_type": "stream",
     "text": [
      " \"T01024\""
     ]
    },
    {
     "name": "stdout",
     "output_type": "stream",
     "text": [
      " \"284593\"                                        "
     ]
    },
    {
     "name": "stdout",
     "output_type": "stream",
     "text": [
      " \"cgr\"    "
     ]
    },
    {
     "name": "stdout",
     "output_type": "stream",
     "text": [
      "\n",
      " [271,]"
     ]
    },
    {
     "name": "stdout",
     "output_type": "stream",
     "text": [
      " \"T02233\""
     ]
    },
    {
     "name": "stdout",
     "output_type": "stream",
     "text": [
      " \"1064592\"                                       "
     ]
    },
    {
     "name": "stdout",
     "output_type": "stream",
     "text": [
      " \"ncs\"    "
     ]
    },
    {
     "name": "stdout",
     "output_type": "stream",
     "text": [
      "\n",
      " [272,]"
     ]
    },
    {
     "name": "stdout",
     "output_type": "stream",
     "text": [
      " \"T02234\""
     ]
    },
    {
     "name": "stdout",
     "output_type": "stream",
     "text": [
      " \"1071378\"                                       "
     ]
    },
    {
     "name": "stdout",
     "output_type": "stream",
     "text": [
      " \"ndi\"    "
     ]
    },
    {
     "name": "stdout",
     "output_type": "stream",
     "text": [
      "\n",
      " [273,]"
     ]
    },
    {
     "name": "stdout",
     "output_type": "stream",
     "text": [
      " \"T02235\""
     ]
    },
    {
     "name": "stdout",
     "output_type": "stream",
     "text": [
      " \"1071381\"                                       "
     ]
    },
    {
     "name": "stdout",
     "output_type": "stream",
     "text": [
      " \"tpf\"    "
     ]
    },
    {
     "name": "stdout",
     "output_type": "stream",
     "text": [
      "\n",
      " [274,]"
     ]
    },
    {
     "name": "stdout",
     "output_type": "stream",
     "text": [
      " \"T02489\""
     ]
    },
    {
     "name": "stdout",
     "output_type": "stream",
     "text": [
      " \"1071380\"                                       "
     ]
    },
    {
     "name": "stdout",
     "output_type": "stream",
     "text": [
      " \"tbl\"    "
     ]
    },
    {
     "name": "stdout",
     "output_type": "stream",
     "text": [
      "\n",
      " [275,]"
     ]
    },
    {
     "name": "stdout",
     "output_type": "stream",
     "text": [
      " \"T02236\""
     ]
    },
    {
     "name": "stdout",
     "output_type": "stream",
     "text": [
      " \"4950\"                                          "
     ]
    },
    {
     "name": "stdout",
     "output_type": "stream",
     "text": [
      " \"tdl\"    "
     ]
    },
    {
     "name": "stdout",
     "output_type": "stream",
     "text": [
      "\n",
      " [276,]"
     ]
    },
    {
     "name": "stdout",
     "output_type": "stream",
     "text": [
      " \"T02487\""
     ]
    },
    {
     "name": "stdout",
     "output_type": "stream",
     "text": [
      " \"1071382\"                                       "
     ]
    },
    {
     "name": "stdout",
     "output_type": "stream",
     "text": [
      " \"kaf\"    "
     ]
    },
    {
     "name": "stdout",
     "output_type": "stream",
     "text": [
      "\n",
      " [277,]"
     ]
    },
    {
     "name": "stdout",
     "output_type": "stream",
     "text": [
      " \"T01092\""
     ]
    },
    {
     "name": "stdout",
     "output_type": "stream",
     "text": [
      " \"644223\"                                        "
     ]
    },
    {
     "name": "stdout",
     "output_type": "stream",
     "text": [
      " \"ppa\"    "
     ]
    },
    {
     "name": "stdout",
     "output_type": "stream",
     "text": [
      "\n",
      " [278,]"
     ]
    },
    {
     "name": "stdout",
     "output_type": "stream",
     "text": [
      " \"T01026\""
     ]
    },
    {
     "name": "stdout",
     "output_type": "stream",
     "text": [
      " \"284592\"                                        "
     ]
    },
    {
     "name": "stdout",
     "output_type": "stream",
     "text": [
      " \"dha\"    "
     ]
    },
    {
     "name": "stdout",
     "output_type": "stream",
     "text": [
      "\n",
      " [279,]"
     ]
    },
    {
     "name": "stdout",
     "output_type": "stream",
     "text": [
      " \"T01023\""
     ]
    },
    {
     "name": "stdout",
     "output_type": "stream",
     "text": [
      " \"322104\"                                        "
     ]
    },
    {
     "name": "stdout",
     "output_type": "stream",
     "text": [
      " \"pic\"    "
     ]
    },
    {
     "name": "stdout",
     "output_type": "stream",
     "text": [
      "\n",
      " [280,]"
     ]
    },
    {
     "name": "stdout",
     "output_type": "stream",
     "text": [
      " \"T01150\""
     ]
    },
    {
     "name": "stdout",
     "output_type": "stream",
     "text": [
      " \"294746\"                                        "
     ]
    },
    {
     "name": "stdout",
     "output_type": "stream",
     "text": [
      " \"pgu\"    "
     ]
    },
    {
     "name": "stdout",
     "output_type": "stream",
     "text": [
      "\n",
      " [281,]"
     ]
    },
    {
     "name": "stdout",
     "output_type": "stream",
     "text": [
      " \"T03101\""
     ]
    },
    {
     "name": "stdout",
     "output_type": "stream",
     "text": [
      " \"619300\"                                        "
     ]
    },
    {
     "name": "stdout",
     "output_type": "stream",
     "text": [
      " \"spaa\"   "
     ]
    },
    {
     "name": "stdout",
     "output_type": "stream",
     "text": [
      "\n",
      " [282,]"
     ]
    },
    {
     "name": "stdout",
     "output_type": "stream",
     "text": [
      " \"T01116\""
     ]
    },
    {
     "name": "stdout",
     "output_type": "stream",
     "text": [
      " \"379508\"                                        "
     ]
    },
    {
     "name": "stdout",
     "output_type": "stream",
     "text": [
      " \"lel\"    "
     ]
    },
    {
     "name": "stdout",
     "output_type": "stream",
     "text": [
      "\n",
      " [283,]"
     ]
    },
    {
     "name": "stdout",
     "output_type": "stream",
     "text": [
      " \"T00189\""
     ]
    },
    {
     "name": "stdout",
     "output_type": "stream",
     "text": [
      " \"237561\"                                        "
     ]
    },
    {
     "name": "stdout",
     "output_type": "stream",
     "text": [
      " \"cal\"    "
     ]
    },
    {
     "name": "stdout",
     "output_type": "stream",
     "text": [
      "\n",
      " [284,]"
     ]
    },
    {
     "name": "stdout",
     "output_type": "stream",
     "text": [
      " \"T01115\""
     ]
    },
    {
     "name": "stdout",
     "output_type": "stream",
     "text": [
      " \"294747\"                                        "
     ]
    },
    {
     "name": "stdout",
     "output_type": "stream",
     "text": [
      " \"ctp\"    "
     ]
    },
    {
     "name": "stdout",
     "output_type": "stream",
     "text": [
      "\n",
      " [285,]"
     ]
    },
    {
     "name": "stdout",
     "output_type": "stream",
     "text": [
      " \"T02488\""
     ]
    },
    {
     "name": "stdout",
     "output_type": "stream",
     "text": [
      " \"1136231\"                                       "
     ]
    },
    {
     "name": "stdout",
     "output_type": "stream",
     "text": [
      " \"cot\"    "
     ]
    },
    {
     "name": "stdout",
     "output_type": "stream",
     "text": [
      "\n",
      " [286,]"
     ]
    },
    {
     "name": "stdout",
     "output_type": "stream",
     "text": [
      " \"T01140\""
     ]
    },
    {
     "name": "stdout",
     "output_type": "stream",
     "text": [
      " \"573826\"                                        "
     ]
    },
    {
     "name": "stdout",
     "output_type": "stream",
     "text": [
      " \"cdu\"    "
     ]
    },
    {
     "name": "stdout",
     "output_type": "stream",
     "text": [
      "\n",
      " [287,]"
     ]
    },
    {
     "name": "stdout",
     "output_type": "stream",
     "text": [
      " \"T03099\""
     ]
    },
    {
     "name": "stdout",
     "output_type": "stream",
     "text": [
      " \"590646\"                                        "
     ]
    },
    {
     "name": "stdout",
     "output_type": "stream",
     "text": [
      " \"cten\"   "
     ]
    },
    {
     "name": "stdout",
     "output_type": "stream",
     "text": [
      "\n",
      " [288,]"
     ]
    },
    {
     "name": "stdout",
     "output_type": "stream",
     "text": [
      " \"T01033\""
     ]
    },
    {
     "name": "stdout",
     "output_type": "stream",
     "text": [
      " \"284591\"                                        "
     ]
    },
    {
     "name": "stdout",
     "output_type": "stream",
     "text": [
      " \"yli\"    "
     ]
    },
    {
     "name": "stdout",
     "output_type": "stream",
     "text": [
      "\n",
      " [289,]"
     ]
    },
    {
     "name": "stdout",
     "output_type": "stream",
     "text": [
      " \"T01149\""
     ]
    },
    {
     "name": "stdout",
     "output_type": "stream",
     "text": [
      " \"306902\"                                        "
     ]
    },
    {
     "name": "stdout",
     "output_type": "stream",
     "text": [
      " \"clu\"    "
     ]
    },
    {
     "name": "stdout",
     "output_type": "stream",
     "text": [
      "\n",
      " [290,]"
     ]
    },
    {
     "name": "stdout",
     "output_type": "stream",
     "text": [
      " \"T05147\""
     ]
    },
    {
     "name": "stdout",
     "output_type": "stream",
     "text": [
      " \"36911\"                                         "
     ]
    },
    {
     "name": "stdout",
     "output_type": "stream",
     "text": [
      " \"clus\"   "
     ]
    },
    {
     "name": "stdout",
     "output_type": "stream",
     "text": [
      "\n",
      " [291,]"
     ]
    },
    {
     "name": "stdout",
     "output_type": "stream",
     "text": [
      " \"T04850\""
     ]
    },
    {
     "name": "stdout",
     "output_type": "stream",
     "text": [
      " \"498019\"                                        "
     ]
    },
    {
     "name": "stdout",
     "output_type": "stream",
     "text": [
      " \"caur\"   "
     ]
    },
    {
     "name": "stdout",
     "output_type": "stream",
     "text": [
      "\n",
      " [292,]"
     ]
    },
    {
     "name": "stdout",
     "output_type": "stream",
     "text": [
      " \"T01034\""
     ]
    },
    {
     "name": "stdout",
     "output_type": "stream",
     "text": [
      " \"367110\"                                        "
     ]
    },
    {
     "name": "stdout",
     "output_type": "stream",
     "text": [
      " \"ncr\"    "
     ]
    },
    {
     "name": "stdout",
     "output_type": "stream",
     "text": [
      "\n",
      " [293,]"
     ]
    },
    {
     "name": "stdout",
     "output_type": "stream",
     "text": [
      " \"T03451\""
     ]
    },
    {
     "name": "stdout",
     "output_type": "stream",
     "text": [
      " \"510951\"                                        "
     ]
    },
    {
     "name": "stdout",
     "output_type": "stream",
     "text": [
      " \"nte\"    "
     ]
    },
    {
     "name": "stdout",
     "output_type": "stream",
     "text": [
      "\n",
      " [294,]"
     ]
    },
    {
     "name": "stdout",
     "output_type": "stream",
     "text": [
      " \"T01610\""
     ]
    },
    {
     "name": "stdout",
     "output_type": "stream",
     "text": [
      " \"771870\"                                        "
     ]
    },
    {
     "name": "stdout",
     "output_type": "stream",
     "text": [
      " \"smp\"    "
     ]
    },
    {
     "name": "stdout",
     "output_type": "stream",
     "text": [
      "\n",
      " [295,]"
     ]
    },
    {
     "name": "stdout",
     "output_type": "stream",
     "text": [
      " \"T01048\""
     ]
    },
    {
     "name": "stdout",
     "output_type": "stream",
     "text": [
      " \"515849\"                                        "
     ]
    },
    {
     "name": "stdout",
     "output_type": "stream",
     "text": [
      " \"pan\"    "
     ]
    },
    {
     "name": "stdout",
     "output_type": "stream",
     "text": [
      "\n",
      " [296,]"
     ]
    },
    {
     "name": "stdout",
     "output_type": "stream",
     "text": [
      " \"T02228\""
     ]
    },
    {
     "name": "stdout",
     "output_type": "stream",
     "text": [
      " \"578455\"                                        "
     ]
    },
    {
     "name": "stdout",
     "output_type": "stream",
     "text": [
      " \"ttt\"    "
     ]
    },
    {
     "name": "stdout",
     "output_type": "stream",
     "text": [
      "\n",
      " [297,]"
     ]
    },
    {
     "name": "stdout",
     "output_type": "stream",
     "text": [
      " \"T02231\""
     ]
    },
    {
     "name": "stdout",
     "output_type": "stream",
     "text": [
      " \"573729\"                                        "
     ]
    },
    {
     "name": "stdout",
     "output_type": "stream",
     "text": [
      " \"mtm\"    "
     ]
    },
    {
     "name": "stdout",
     "output_type": "stream",
     "text": [
      "\n",
      " [298,]"
     ]
    },
    {
     "name": "stdout",
     "output_type": "stream",
     "text": [
      " \"T03100\""
     ]
    },
    {
     "name": "stdout",
     "output_type": "stream",
     "text": [
      " \"759272\"                                        "
     ]
    },
    {
     "name": "stdout",
     "output_type": "stream",
     "text": [
      " \"cthr\"   "
     ]
    },
    {
     "name": "stdout",
     "output_type": "stream",
     "text": [
      "\n",
      " [299,]"
     ]
    },
    {
     "name": "stdout",
     "output_type": "stream",
     "text": [
      " \"T01027\""
     ]
    },
    {
     "name": "stdout",
     "output_type": "stream",
     "text": [
      " \"242507\"                                        "
     ]
    },
    {
     "name": "stdout",
     "output_type": "stream",
     "text": [
      " \"mgr\"    "
     ]
    },
    {
     "name": "stdout",
     "output_type": "stream",
     "text": [
      "\n",
      " [300,]"
     ]
    },
    {
     "name": "stdout",
     "output_type": "stream",
     "text": [
      " \"T03102\""
     ]
    },
    {
     "name": "stdout",
     "output_type": "stream",
     "text": [
      " \"1286976\"                                       "
     ]
    },
    {
     "name": "stdout",
     "output_type": "stream",
     "text": [
      " \"tmn\"    "
     ]
    },
    {
     "name": "stdout",
     "output_type": "stream",
     "text": [
      "\n",
      " [301,]"
     ]
    },
    {
     "name": "stdout",
     "output_type": "stream",
     "text": [
      " \"T01038\""
     ]
    },
    {
     "name": "stdout",
     "output_type": "stream",
     "text": [
      " \"229533\"                                        "
     ]
    },
    {
     "name": "stdout",
     "output_type": "stream",
     "text": [
      " \"fgr\"    "
     ]
    },
    {
     "name": "stdout",
     "output_type": "stream",
     "text": [
      "\n",
      " [302,]"
     ]
    },
    {
     "name": "stdout",
     "output_type": "stream",
     "text": [
      " \"T03456\""
     ]
    },
    {
     "name": "stdout",
     "output_type": "stream",
     "text": [
      " \"1028729\"                                       "
     ]
    },
    {
     "name": "stdout",
     "output_type": "stream",
     "text": [
      " \"fpu\"    "
     ]
    },
    {
     "name": "stdout",
     "output_type": "stream",
     "text": [
      "\n",
      " [303,]"
     ]
    },
    {
     "name": "stdout",
     "output_type": "stream",
     "text": [
      " \"T04869\""
     ]
    },
    {
     "name": "stdout",
     "output_type": "stream",
     "text": [
      " \"334819\"                                        "
     ]
    },
    {
     "name": "stdout",
     "output_type": "stream",
     "text": [
      " \"fvr\"    "
     ]
    },
    {
     "name": "stdout",
     "output_type": "stream",
     "text": [
      "\n",
      " [304,]"
     ]
    },
    {
     "name": "stdout",
     "output_type": "stream",
     "text": [
      " \"T04882\""
     ]
    },
    {
     "name": "stdout",
     "output_type": "stream",
     "text": [
      " \"426428\"                                        "
     ]
    },
    {
     "name": "stdout",
     "output_type": "stream",
     "text": [
      " \"fox\"    "
     ]
    },
    {
     "name": "stdout",
     "output_type": "stream",
     "text": [
      "\n",
      " [305,]"
     ]
    },
    {
     "name": "stdout",
     "output_type": "stream",
     "text": [
      " \"T01612\""
     ]
    },
    {
     "name": "stdout",
     "output_type": "stream",
     "text": [
      " \"660122\"                                        "
     ]
    },
    {
     "name": "stdout",
     "output_type": "stream",
     "text": [
      " \"nhe\"    "
     ]
    },
    {
     "name": "stdout",
     "output_type": "stream",
     "text": [
      "\n",
      " [306,]"
     ]
    },
    {
     "name": "stdout",
     "output_type": "stream",
     "text": [
      " \"T02991\""
     ]
    },
    {
     "name": "stdout",
     "output_type": "stream",
     "text": [
      " \"431241\"                                        "
     ]
    },
    {
     "name": "stdout",
     "output_type": "stream",
     "text": [
      " \"tre\"    "
     ]
    },
    {
     "name": "stdout",
     "output_type": "stream",
     "text": [
      "\n",
      " [307,]"
     ]
    },
    {
     "name": "stdout",
     "output_type": "stream",
     "text": [
      " \"T03104\""
     ]
    },
    {
     "name": "stdout",
     "output_type": "stream",
     "text": [
      " \"655827\"                                        "
     ]
    },
    {
     "name": "stdout",
     "output_type": "stream",
     "text": [
      " \"maw\"    "
     ]
    },
    {
     "name": "stdout",
     "output_type": "stream",
     "text": [
      "\n",
      " [308,]"
     ]
    },
    {
     "name": "stdout",
     "output_type": "stream",
     "text": [
      " \"T03107\""
     ]
    },
    {
     "name": "stdout",
     "output_type": "stream",
     "text": [
      " \"655844\"                                        "
     ]
    },
    {
     "name": "stdout",
     "output_type": "stream",
     "text": [
      " \"maj\"    "
     ]
    },
    {
     "name": "stdout",
     "output_type": "stream",
     "text": [
      "\n",
      " [309,]"
     ]
    },
    {
     "name": "stdout",
     "output_type": "stream",
     "text": [
      " \"T03108\""
     ]
    },
    {
     "name": "stdout",
     "output_type": "stream",
     "text": [
      " \"983644\"                                        "
     ]
    },
    {
     "name": "stdout",
     "output_type": "stream",
     "text": [
      " \"cmt\"    "
     ]
    },
    {
     "name": "stdout",
     "output_type": "stream",
     "text": [
      "\n",
      " [310,]"
     ]
    },
    {
     "name": "stdout",
     "output_type": "stream",
     "text": [
      " \"T05029\""
     ]
    },
    {
     "name": "stdout",
     "output_type": "stream",
     "text": [
      " \"33203\"                                         "
     ]
    },
    {
     "name": "stdout",
     "output_type": "stream",
     "text": [
      " \"plj\"    "
     ]
    },
    {
     "name": "stdout",
     "output_type": "stream",
     "text": [
      "\n",
      " [311,]"
     ]
    },
    {
     "name": "stdout",
     "output_type": "stream",
     "text": [
      " \"T02227\""
     ]
    },
    {
     "name": "stdout",
     "output_type": "stream",
     "text": [
      " \"526221\"                                        "
     ]
    },
    {
     "name": "stdout",
     "output_type": "stream",
     "text": [
      " \"val\"    "
     ]
    },
    {
     "name": "stdout",
     "output_type": "stream",
     "text": [
      "\n",
      " [312,]"
     ]
    },
    {
     "name": "stdout",
     "output_type": "stream",
     "text": [
      " \"T03450\""
     ]
    },
    {
     "name": "stdout",
     "output_type": "stream",
     "text": [
      " \"498257\"                                        "
     ]
    },
    {
     "name": "stdout",
     "output_type": "stream",
     "text": [
      " \"vda\"    "
     ]
    },
    {
     "name": "stdout",
     "output_type": "stream",
     "text": [
      "\n",
      " [313,]"
     ]
    },
    {
     "name": "stdout",
     "output_type": "stream",
     "text": [
      " \"T04796\""
     ]
    },
    {
     "name": "stdout",
     "output_type": "stream",
     "text": [
      " \"1445577\"                                       "
     ]
    },
    {
     "name": "stdout",
     "output_type": "stream",
     "text": [
      " \"cfj\"    "
     ]
    },
    {
     "name": "stdout",
     "output_type": "stream",
     "text": [
      "\n",
      " [314,]"
     ]
    },
    {
     "name": "stdout",
     "output_type": "stream",
     "text": [
      " \"T03103\""
     ]
    },
    {
     "name": "stdout",
     "output_type": "stream",
     "text": [
      " \"1287681\"                                       "
     ]
    },
    {
     "name": "stdout",
     "output_type": "stream",
     "text": [
      " \"ela\"    "
     ]
    },
    {
     "name": "stdout",
     "output_type": "stream",
     "text": [
      "\n",
      " [315,]"
     ]
    },
    {
     "name": "stdout",
     "output_type": "stream",
     "text": [
      " \"T04924\""
     ]
    },
    {
     "name": "stdout",
     "output_type": "stream",
     "text": [
      " \"1229662\"                                       "
     ]
    },
    {
     "name": "stdout",
     "output_type": "stream",
     "text": [
      " \"pfy\"    "
     ]
    },
    {
     "name": "stdout",
     "output_type": "stream",
     "text": [
      "\n",
      " [316,]"
     ]
    },
    {
     "name": "stdout",
     "output_type": "stream",
     "text": [
      " \"T01071\""
     ]
    },
    {
     "name": "stdout",
     "output_type": "stream",
     "text": [
      " \"665079\"                                        "
     ]
    },
    {
     "name": "stdout",
     "output_type": "stream",
     "text": [
      " \"ssl\"    "
     ]
    },
    {
     "name": "stdout",
     "output_type": "stream",
     "text": [
      "\n",
      " [317,]"
     ]
    },
    {
     "name": "stdout",
     "output_type": "stream",
     "text": [
      " \"T01072\""
     ]
    },
    {
     "name": "stdout",
     "output_type": "stream",
     "text": [
      " \"332648\"                                        "
     ]
    },
    {
     "name": "stdout",
     "output_type": "stream",
     "text": [
      " \"bfu\"    "
     ]
    },
    {
     "name": "stdout",
     "output_type": "stream",
     "text": [
      "\n",
      " [318,]"
     ]
    },
    {
     "name": "stdout",
     "output_type": "stream",
     "text": [
      " \"T03105\""
     ]
    },
    {
     "name": "stdout",
     "output_type": "stream",
     "text": [
      " \"1072389\"                                       "
     ]
    },
    {
     "name": "stdout",
     "output_type": "stream",
     "text": [
      " \"mbe\"    "
     ]
    },
    {
     "name": "stdout",
     "output_type": "stream",
     "text": [
      "\n",
      " [319,]"
     ]
    },
    {
     "name": "stdout",
     "output_type": "stream",
     "text": [
      " \"T04865\""
     ]
    },
    {
     "name": "stdout",
     "output_type": "stream",
     "text": [
      " \"149040\"                                        "
     ]
    },
    {
     "name": "stdout",
     "output_type": "stream",
     "text": [
      " \"psco\"   "
     ]
    },
    {
     "name": "stdout",
     "output_type": "stream",
     "text": [
      "\n",
      " [320,]"
     ]
    },
    {
     "name": "stdout",
     "output_type": "stream",
     "text": [
      " \"T04883\""
     ]
    },
    {
     "name": "stdout",
     "output_type": "stream",
     "text": [
      " \"1116229\"                                       "
     ]
    },
    {
     "name": "stdout",
     "output_type": "stream",
     "text": [
      " \"glz\"    "
     ]
    },
    {
     "name": "stdout",
     "output_type": "stream",
     "text": [
      "\n",
      " [321,]"
     ]
    },
    {
     "name": "stdout",
     "output_type": "stream",
     "text": [
      " \"T01016\""
     ]
    },
    {
     "name": "stdout",
     "output_type": "stream",
     "text": [
      " \"227321\"                                        "
     ]
    },
    {
     "name": "stdout",
     "output_type": "stream",
     "text": [
      " \"ani\"    "
     ]
    },
    {
     "name": "stdout",
     "output_type": "stream",
     "text": [
      "\n",
      " [322,]"
     ]
    },
    {
     "name": "stdout",
     "output_type": "stream",
     "text": [
      " \"T01017\""
     ]
    },
    {
     "name": "stdout",
     "output_type": "stream",
     "text": [
      " \"330879\"                                        "
     ]
    },
    {
     "name": "stdout",
     "output_type": "stream",
     "text": [
      " \"afm\"    "
     ]
    },
    {
     "name": "stdout",
     "output_type": "stream",
     "text": [
      "\n",
      " [323,]"
     ]
    },
    {
     "name": "stdout",
     "output_type": "stream",
     "text": [
      " \"T01018\""
     ]
    },
    {
     "name": "stdout",
     "output_type": "stream",
     "text": [
      " \"510516\"                                        "
     ]
    },
    {
     "name": "stdout",
     "output_type": "stream",
     "text": [
      " \"aor\"    "
     ]
    },
    {
     "name": "stdout",
     "output_type": "stream",
     "text": [
      "\n",
      " [324,]"
     ]
    },
    {
     "name": "stdout",
     "output_type": "stream",
     "text": [
      " \"T01030\""
     ]
    },
    {
     "name": "stdout",
     "output_type": "stream",
     "text": [
      " \"425011\"                                        "
     ]
    },
    {
     "name": "stdout",
     "output_type": "stream",
     "text": [
      " \"ang\"    "
     ]
    },
    {
     "name": "stdout",
     "output_type": "stream",
     "text": [
      "\n",
      " [325,]"
     ]
    },
    {
     "name": "stdout",
     "output_type": "stream",
     "text": [
      " \"T01090\""
     ]
    },
    {
     "name": "stdout",
     "output_type": "stream",
     "text": [
      " \"332952\"                                        "
     ]
    },
    {
     "name": "stdout",
     "output_type": "stream",
     "text": [
      " \"afv\"    "
     ]
    },
    {
     "name": "stdout",
     "output_type": "stream",
     "text": [
      "\n",
      " [326,]"
     ]
    },
    {
     "name": "stdout",
     "output_type": "stream",
     "text": [
      " \"T01148\""
     ]
    },
    {
     "name": "stdout",
     "output_type": "stream",
     "text": [
      " \"344612\"                                        "
     ]
    },
    {
     "name": "stdout",
     "output_type": "stream",
     "text": [
      " \"act\"    "
     ]
    },
    {
     "name": "stdout",
     "output_type": "stream",
     "text": [
      "\n",
      " [327,]"
     ]
    },
    {
     "name": "stdout",
     "output_type": "stream",
     "text": [
      " \"T01070\""
     ]
    },
    {
     "name": "stdout",
     "output_type": "stream",
     "text": [
      " \"331117\"                                        "
     ]
    },
    {
     "name": "stdout",
     "output_type": "stream",
     "text": [
      " \"nfi\"    "
     ]
    },
    {
     "name": "stdout",
     "output_type": "stream",
     "text": [
      "\n",
      " [328,]"
     ]
    },
    {
     "name": "stdout",
     "output_type": "stream",
     "text": [
      " \"T01091\""
     ]
    },
    {
     "name": "stdout",
     "output_type": "stream",
     "text": [
      " \"500485\"                                        "
     ]
    },
    {
     "name": "stdout",
     "output_type": "stream",
     "text": [
      " \"pcs\"    "
     ]
    },
    {
     "name": "stdout",
     "output_type": "stream",
     "text": [
      "\n",
      " [329,]"
     ]
    },
    {
     "name": "stdout",
     "output_type": "stream",
     "text": [
      " \"T04849\""
     ]
    },
    {
     "name": "stdout",
     "output_type": "stream",
     "text": [
      " \"1170230\"                                       "
     ]
    },
    {
     "name": "stdout",
     "output_type": "stream",
     "text": [
      " \"pdp\"    "
     ]
    },
    {
     "name": "stdout",
     "output_type": "stream",
     "text": [
      "\n",
      " [330,]"
     ]
    },
    {
     "name": "stdout",
     "output_type": "stream",
     "text": [
      " \"T01114\""
     ]
    },
    {
     "name": "stdout",
     "output_type": "stream",
     "text": [
      " \"246410\"                                        "
     ]
    },
    {
     "name": "stdout",
     "output_type": "stream",
     "text": [
      " \"cim\"    "
     ]
    },
    {
     "name": "stdout",
     "output_type": "stream",
     "text": [
      "\n",
      " [331,]"
     ]
    },
    {
     "name": "stdout",
     "output_type": "stream",
     "text": [
      " \"T01332\""
     ]
    },
    {
     "name": "stdout",
     "output_type": "stream",
     "text": [
      " \"222929\"                                        "
     ]
    },
    {
     "name": "stdout",
     "output_type": "stream",
     "text": [
      " \"cpw\"    "
     ]
    },
    {
     "name": "stdout",
     "output_type": "stream",
     "text": [
      "\n",
      " [332,]"
     ]
    },
    {
     "name": "stdout",
     "output_type": "stream",
     "text": [
      " \"T02230\""
     ]
    },
    {
     "name": "stdout",
     "output_type": "stream",
     "text": [
      " \"502779\"                                        "
     ]
    },
    {
     "name": "stdout",
     "output_type": "stream",
     "text": [
      " \"pbl\"    "
     ]
    },
    {
     "name": "stdout",
     "output_type": "stream",
     "text": [
      "\n",
      " [333,]"
     ]
    },
    {
     "name": "stdout",
     "output_type": "stream",
     "text": [
      " \"T03549\""
     ]
    },
    {
     "name": "stdout",
     "output_type": "stream",
     "text": [
      " \"502780\"                                        "
     ]
    },
    {
     "name": "stdout",
     "output_type": "stream",
     "text": [
      " \"pbn\"    "
     ]
    },
    {
     "name": "stdout",
     "output_type": "stream",
     "text": [
      "\n",
      " [334,]"
     ]
    },
    {
     "name": "stdout",
     "output_type": "stream",
     "text": [
      " \"T01132\""
     ]
    },
    {
     "name": "stdout",
     "output_type": "stream",
     "text": [
      " \"336963\"                                        "
     ]
    },
    {
     "name": "stdout",
     "output_type": "stream",
     "text": [
      " \"ure\"    "
     ]
    },
    {
     "name": "stdout",
     "output_type": "stream",
     "text": [
      "\n",
      " [335,]"
     ]
    },
    {
     "name": "stdout",
     "output_type": "stream",
     "text": [
      " \"T01611\""
     ]
    },
    {
     "name": "stdout",
     "output_type": "stream",
     "text": [
      " \"663331\"                                        "
     ]
    },
    {
     "name": "stdout",
     "output_type": "stream",
     "text": [
      " \"abe\"    "
     ]
    },
    {
     "name": "stdout",
     "output_type": "stream",
     "text": [
      "\n",
      " [336,]"
     ]
    },
    {
     "name": "stdout",
     "output_type": "stream",
     "text": [
      " \"T01615\""
     ]
    },
    {
     "name": "stdout",
     "output_type": "stream",
     "text": [
      " \"663202\"                                        "
     ]
    },
    {
     "name": "stdout",
     "output_type": "stream",
     "text": [
      " \"tve\"    "
     ]
    },
    {
     "name": "stdout",
     "output_type": "stream",
     "text": [
      "\n",
      " [337,]"
     ]
    },
    {
     "name": "stdout",
     "output_type": "stream",
     "text": [
      " \"T02229\""
     ]
    },
    {
     "name": "stdout",
     "output_type": "stream",
     "text": [
      " \"339724\"                                        "
     ]
    },
    {
     "name": "stdout",
     "output_type": "stream",
     "text": [
      " \"aje\"    "
     ]
    },
    {
     "name": "stdout",
     "output_type": "stream",
     "text": [
      "\n",
      " [338,]"
     ]
    },
    {
     "name": "stdout",
     "output_type": "stream",
     "text": [
      " \"T01161\""
     ]
    },
    {
     "name": "stdout",
     "output_type": "stream",
     "text": [
      " \"321614\"                                        "
     ]
    },
    {
     "name": "stdout",
     "output_type": "stream",
     "text": [
      " \"pno\"    "
     ]
    },
    {
     "name": "stdout",
     "output_type": "stream",
     "text": [
      "\n",
      " [339,]"
     ]
    },
    {
     "name": "stdout",
     "output_type": "stream",
     "text": [
      " \"T01613\""
     ]
    },
    {
     "name": "stdout",
     "output_type": "stream",
     "text": [
      " \"861557\"                                        "
     ]
    },
    {
     "name": "stdout",
     "output_type": "stream",
     "text": [
      " \"pte\"    "
     ]
    },
    {
     "name": "stdout",
     "output_type": "stream",
     "text": [
      "\n",
      " [340,]"
     ]
    },
    {
     "name": "stdout",
     "output_type": "stream",
     "text": [
      " \"T03110\""
     ]
    },
    {
     "name": "stdout",
     "output_type": "stream",
     "text": [
      " \"930089\"                                        "
     ]
    },
    {
     "name": "stdout",
     "output_type": "stream",
     "text": [
      " \"bze\"    "
     ]
    },
    {
     "name": "stdout",
     "output_type": "stream",
     "text": [
      "\n",
      " [341,]"
     ]
    },
    {
     "name": "stdout",
     "output_type": "stream",
     "text": [
      " \"T03124\""
     ]
    },
    {
     "name": "stdout",
     "output_type": "stream",
     "text": [
      " \"665912\"                                        "
     ]
    },
    {
     "name": "stdout",
     "output_type": "stream",
     "text": [
      " \"bsc\"    "
     ]
    },
    {
     "name": "stdout",
     "output_type": "stream",
     "text": [
      "\n",
      " [342,]"
     ]
    },
    {
     "name": "stdout",
     "output_type": "stream",
     "text": [
      " \"T03125\""
     ]
    },
    {
     "name": "stdout",
     "output_type": "stream",
     "text": [
      " \"930090\"                                        "
     ]
    },
    {
     "name": "stdout",
     "output_type": "stream",
     "text": [
      " \"bor\"    "
     ]
    },
    {
     "name": "stdout",
     "output_type": "stream",
     "text": [
      "\n",
      " [343,]"
     ]
    },
    {
     "name": "stdout",
     "output_type": "stream",
     "text": [
      " \"T02285\""
     ]
    },
    {
     "name": "stdout",
     "output_type": "stream",
     "text": [
      " \"336722\"                                        "
     ]
    },
    {
     "name": "stdout",
     "output_type": "stream",
     "text": [
      " \"ztr\"    "
     ]
    },
    {
     "name": "stdout",
     "output_type": "stream",
     "text": [
      "\n",
      " [344,]"
     ]
    },
    {
     "name": "stdout",
     "output_type": "stream",
     "text": [
      " \"T03109\""
     ]
    },
    {
     "name": "stdout",
     "output_type": "stream",
     "text": [
      " \"383855\"                                        "
     ]
    },
    {
     "name": "stdout",
     "output_type": "stream",
     "text": [
      " \"pfj\"    "
     ]
    },
    {
     "name": "stdout",
     "output_type": "stream",
     "text": [
      "\n",
      " [345,]"
     ]
    },
    {
     "name": "stdout",
     "output_type": "stream",
     "text": [
      " \"T03106\""
     ]
    },
    {
     "name": "stdout",
     "output_type": "stream",
     "text": [
      " \"717646\"                                        "
     ]
    },
    {
     "name": "stdout",
     "output_type": "stream",
     "text": [
      " \"bcom\"   "
     ]
    },
    {
     "name": "stdout",
     "output_type": "stream",
     "text": [
      "\n",
      " [346,]"
     ]
    },
    {
     "name": "stdout",
     "output_type": "stream",
     "text": [
      " \"T03126\""
     ]
    },
    {
     "name": "stdout",
     "output_type": "stream",
     "text": [
      " \"1287680\"                                       "
     ]
    },
    {
     "name": "stdout",
     "output_type": "stream",
     "text": [
      " \"npa\"    "
     ]
    },
    {
     "name": "stdout",
     "output_type": "stream",
     "text": [
      "\n",
      " [347,]"
     ]
    },
    {
     "name": "stdout",
     "output_type": "stream",
     "text": [
      " \"T01282\""
     ]
    },
    {
     "name": "stdout",
     "output_type": "stream",
     "text": [
      " \"656061\"                                        "
     ]
    },
    {
     "name": "stdout",
     "output_type": "stream",
     "text": [
      " \"tml\"    "
     ]
    },
    {
     "name": "stdout",
     "output_type": "stream",
     "text": [
      "\n",
      " [348,]"
     ]
    },
    {
     "name": "stdout",
     "output_type": "stream",
     "text": [
      " \"T00076\""
     ]
    },
    {
     "name": "stdout",
     "output_type": "stream",
     "text": [
      " \"284812\"                                        "
     ]
    },
    {
     "name": "stdout",
     "output_type": "stream",
     "text": [
      " \"spo\"    "
     ]
    },
    {
     "name": "stdout",
     "output_type": "stream",
     "text": [
      "\n",
      " [349,]"
     ]
    },
    {
     "name": "stdout",
     "output_type": "stream",
     "text": [
      " \"T00243\""
     ]
    },
    {
     "name": "stdout",
     "output_type": "stream",
     "text": [
      " \"214684\"                                        "
     ]
    },
    {
     "name": "stdout",
     "output_type": "stream",
     "text": [
      " \"cne\"    "
     ]
    },
    {
     "name": "stdout",
     "output_type": "stream",
     "text": [
      "\n",
      " [350,]"
     ]
    },
    {
     "name": "stdout",
     "output_type": "stream",
     "text": [
      " \"T01040\""
     ]
    },
    {
     "name": "stdout",
     "output_type": "stream",
     "text": [
      " \"283643\"                                        "
     ]
    },
    {
     "name": "stdout",
     "output_type": "stream",
     "text": [
      " \"cnb\"    "
     ]
    },
    {
     "name": "stdout",
     "output_type": "stream",
     "text": [
      "\n",
      " [351,]"
     ]
    },
    {
     "name": "stdout",
     "output_type": "stream",
     "text": [
      " \"T02232\""
     ]
    },
    {
     "name": "stdout",
     "output_type": "stream",
     "text": [
      " \"367775\"                                        "
     ]
    },
    {
     "name": "stdout",
     "output_type": "stream",
     "text": [
      " \"cgi\"    "
     ]
    },
    {
     "name": "stdout",
     "output_type": "stream",
     "text": [
      "\n",
      " [352,]"
     ]
    },
    {
     "name": "stdout",
     "output_type": "stream",
     "text": [
      " \"T03139\""
     ]
    },
    {
     "name": "stdout",
     "output_type": "stream",
     "text": [
      " \"578456\"                                        "
     ]
    },
    {
     "name": "stdout",
     "output_type": "stream",
     "text": [
      " \"tms\"    "
     ]
    },
    {
     "name": "stdout",
     "output_type": "stream",
     "text": [
      "\n",
      " [353,]"
     ]
    },
    {
     "name": "stdout",
     "output_type": "stream",
     "text": [
      " \"T01162\""
     ]
    },
    {
     "name": "stdout",
     "output_type": "stream",
     "text": [
      " \"561896\"                                        "
     ]
    },
    {
     "name": "stdout",
     "output_type": "stream",
     "text": [
      " \"ppl\"    "
     ]
    },
    {
     "name": "stdout",
     "output_type": "stream",
     "text": [
      "\n",
      " [354,]"
     ]
    },
    {
     "name": "stdout",
     "output_type": "stream",
     "text": [
      " \"T04795\""
     ]
    },
    {
     "name": "stdout",
     "output_type": "stream",
     "text": [
      " \"717944\"                                        "
     ]
    },
    {
     "name": "stdout",
     "output_type": "stream",
     "text": [
      " \"tvs\"    "
     ]
    },
    {
     "name": "stdout",
     "output_type": "stream",
     "text": [
      "\n",
      " [355,]"
     ]
    },
    {
     "name": "stdout",
     "output_type": "stream",
     "text": [
      " \"T03133\""
     ]
    },
    {
     "name": "stdout",
     "output_type": "stream",
     "text": [
      " \"732165\"                                        "
     ]
    },
    {
     "name": "stdout",
     "output_type": "stream",
     "text": [
      " \"dsq\"    "
     ]
    },
    {
     "name": "stdout",
     "output_type": "stream",
     "text": [
      "\n",
      " [356,]"
     ]
    },
    {
     "name": "stdout",
     "output_type": "stream",
     "text": [
      " \"T03128\""
     ]
    },
    {
     "name": "stdout",
     "output_type": "stream",
     "text": [
      " \"650164\"                                        "
     ]
    },
    {
     "name": "stdout",
     "output_type": "stream",
     "text": [
      " \"pco\"    "
     ]
    },
    {
     "name": "stdout",
     "output_type": "stream",
     "text": [
      "\n",
      " [357,]"
     ]
    },
    {
     "name": "stdout",
     "output_type": "stream",
     "text": [
      " \"T03127\""
     ]
    },
    {
     "name": "stdout",
     "output_type": "stream",
     "text": [
      " \"721885\"                                        "
     ]
    },
    {
     "name": "stdout",
     "output_type": "stream",
     "text": [
      " \"shs\"    "
     ]
    },
    {
     "name": "stdout",
     "output_type": "stream",
     "text": [
      "\n",
      " [358,]"
     ]
    },
    {
     "name": "stdout",
     "output_type": "stream",
     "text": [
      " \"T03455\""
     ]
    },
    {
     "name": "stdout",
     "output_type": "stream",
     "text": [
      " \"747525\"                                        "
     ]
    },
    {
     "name": "stdout",
     "output_type": "stream",
     "text": [
      " \"hir\"    "
     ]
    },
    {
     "name": "stdout",
     "output_type": "stream",
     "text": [
      "\n",
      " [359,]"
     ]
    },
    {
     "name": "stdout",
     "output_type": "stream",
     "text": [
      " \"T03131\""
     ]
    },
    {
     "name": "stdout",
     "output_type": "stream",
     "text": [
      " \"741275\"                                        "
     ]
    },
    {
     "name": "stdout",
     "output_type": "stream",
     "text": [
      " \"psq\"    "
     ]
    },
    {
     "name": "stdout",
     "output_type": "stream",
     "text": [
      "\n",
      " [360,]"
     ]
    },
    {
     "name": "stdout",
     "output_type": "stream",
     "text": [
      " \"T03129\""
     ]
    },
    {
     "name": "stdout",
     "output_type": "stream",
     "text": [
      " \"717982\"                                        "
     ]
    },
    {
     "name": "stdout",
     "output_type": "stream",
     "text": [
      " \"adl\"    "
     ]
    },
    {
     "name": "stdout",
     "output_type": "stream",
     "text": [
      "\n",
      " [361,]"
     ]
    },
    {
     "name": "stdout",
     "output_type": "stream",
     "text": [
      " \"T03132\""
     ]
    },
    {
     "name": "stdout",
     "output_type": "stream",
     "text": [
      " \"694068\"                                        "
     ]
    },
    {
     "name": "stdout",
     "output_type": "stream",
     "text": [
      " \"fme\"    "
     ]
    },
    {
     "name": "stdout",
     "output_type": "stream",
     "text": [
      "\n",
      " [362,]"
     ]
    },
    {
     "name": "stdout",
     "output_type": "stream",
     "text": [
      " \"T03130\""
     ]
    },
    {
     "name": "stdout",
     "output_type": "stream",
     "text": [
      " \"670483\"                                        "
     ]
    },
    {
     "name": "stdout",
     "output_type": "stream",
     "text": [
      " \"gtr\"    "
     ]
    },
    {
     "name": "stdout",
     "output_type": "stream",
     "text": [
      "\n",
      " [363,]"
     ]
    },
    {
     "name": "stdout",
     "output_type": "stream",
     "text": [
      " \"T01044\""
     ]
    },
    {
     "name": "stdout",
     "output_type": "stream",
     "text": [
      " \"486041\"                                        "
     ]
    },
    {
     "name": "stdout",
     "output_type": "stream",
     "text": [
      " \"lbc\"    "
     ]
    },
    {
     "name": "stdout",
     "output_type": "stream",
     "text": [
      "\n",
      " [364,]"
     ]
    },
    {
     "name": "stdout",
     "output_type": "stream",
     "text": [
      " \"T01089\""
     ]
    },
    {
     "name": "stdout",
     "output_type": "stream",
     "text": [
      " \"554373\"                                        "
     ]
    },
    {
     "name": "stdout",
     "output_type": "stream",
     "text": [
      " \"mpr\"    "
     ]
    },
    {
     "name": "stdout",
     "output_type": "stream",
     "text": [
      "\n",
      " [365,]"
     ]
    },
    {
     "name": "stdout",
     "output_type": "stream",
     "text": [
      " \"T03137\""
     ]
    },
    {
     "name": "stdout",
     "output_type": "stream",
     "text": [
      " \"1381753\"                                       "
     ]
    },
    {
     "name": "stdout",
     "output_type": "stream",
     "text": [
      " \"mrr\"    "
     ]
    },
    {
     "name": "stdout",
     "output_type": "stream",
     "text": [
      "\n",
      " [366,]"
     ]
    },
    {
     "name": "stdout",
     "output_type": "stream",
     "text": [
      " \"T01275\""
     ]
    },
    {
     "name": "stdout",
     "output_type": "stream",
     "text": [
      " \"240176\"                                        "
     ]
    },
    {
     "name": "stdout",
     "output_type": "stream",
     "text": [
      " \"cci\"    "
     ]
    },
    {
     "name": "stdout",
     "output_type": "stream",
     "text": [
      "\n",
      " [367,]"
     ]
    },
    {
     "name": "stdout",
     "output_type": "stream",
     "text": [
      " \"T01331\""
     ]
    },
    {
     "name": "stdout",
     "output_type": "stream",
     "text": [
      " \"578458\"                                        "
     ]
    },
    {
     "name": "stdout",
     "output_type": "stream",
     "text": [
      " \"scm\"    "
     ]
    },
    {
     "name": "stdout",
     "output_type": "stream",
     "text": [
      "\n",
      " [368,]"
     ]
    },
    {
     "name": "stdout",
     "output_type": "stream",
     "text": [
      " \"T03136\""
     ]
    },
    {
     "name": "stdout",
     "output_type": "stream",
     "text": [
      " \"597362\"                                        "
     ]
    },
    {
     "name": "stdout",
     "output_type": "stream",
     "text": [
      " \"abp\"    "
     ]
    },
    {
     "name": "stdout",
     "output_type": "stream",
     "text": [
      "\n",
      " [369,]"
     ]
    },
    {
     "name": "stdout",
     "output_type": "stream",
     "text": [
      " \"T03140\""
     ]
    },
    {
     "name": "stdout",
     "output_type": "stream",
     "text": [
      " \"936046\"                                        "
     ]
    },
    {
     "name": "stdout",
     "output_type": "stream",
     "text": [
      " \"abv\"    "
     ]
    },
    {
     "name": "stdout",
     "output_type": "stream",
     "text": [
      "\n",
      " [370,]"
     ]
    },
    {
     "name": "stdout",
     "output_type": "stream",
     "text": [
      " \"T03134\""
     ]
    },
    {
     "name": "stdout",
     "output_type": "stream",
     "text": [
      " \"741705\"                                        "
     ]
    },
    {
     "name": "stdout",
     "output_type": "stream",
     "text": [
      " \"cput\"   "
     ]
    },
    {
     "name": "stdout",
     "output_type": "stream",
     "text": [
      "\n",
      " [371,]"
     ]
    },
    {
     "name": "stdout",
     "output_type": "stream",
     "text": [
      " \"T03135\""
     ]
    },
    {
     "name": "stdout",
     "output_type": "stream",
     "text": [
      " \"578457\"                                        "
     ]
    },
    {
     "name": "stdout",
     "output_type": "stream",
     "text": [
      " \"sla\"    "
     ]
    },
    {
     "name": "stdout",
     "output_type": "stream",
     "text": [
      "\n",
      " [372,]"
     ]
    },
    {
     "name": "stdout",
     "output_type": "stream",
     "text": [
      " \"T03142\""
     ]
    },
    {
     "name": "stdout",
     "output_type": "stream",
     "text": [
      " \"671144\"                                        "
     ]
    },
    {
     "name": "stdout",
     "output_type": "stream",
     "text": [
      " \"wse\"    "
     ]
    },
    {
     "name": "stdout",
     "output_type": "stream",
     "text": [
      "\n",
      " [373,]"
     ]
    },
    {
     "name": "stdout",
     "output_type": "stream",
     "text": [
      " \"T03457\""
     ]
    },
    {
     "name": "stdout",
     "output_type": "stream",
     "text": [
      " \"1299270\"                                       "
     ]
    },
    {
     "name": "stdout",
     "output_type": "stream",
     "text": [
      " \"wic\"    "
     ]
    },
    {
     "name": "stdout",
     "output_type": "stream",
     "text": [
      "\n",
      " [374,]"
     ]
    },
    {
     "name": "stdout",
     "output_type": "stream",
     "text": [
      " \"T01021\""
     ]
    },
    {
     "name": "stdout",
     "output_type": "stream",
     "text": [
      " \"237631\"                                        "
     ]
    },
    {
     "name": "stdout",
     "output_type": "stream",
     "text": [
      " \"uma\"    "
     ]
    },
    {
     "name": "stdout",
     "output_type": "stream",
     "text": [
      "\n",
      " [375,]"
     ]
    },
    {
     "name": "stdout",
     "output_type": "stream",
     "text": [
      " \"T03141\""
     ]
    },
    {
     "name": "stdout",
     "output_type": "stream",
     "text": [
      " \"1277687\"                                       "
     ]
    },
    {
     "name": "stdout",
     "output_type": "stream",
     "text": [
      " \"pfp\"    "
     ]
    },
    {
     "name": "stdout",
     "output_type": "stream",
     "text": [
      "\n",
      " [376,]"
     ]
    },
    {
     "name": "stdout",
     "output_type": "stream",
     "text": [
      " \"T01043\""
     ]
    },
    {
     "name": "stdout",
     "output_type": "stream",
     "text": [
      " \"425265\"                                        "
     ]
    },
    {
     "name": "stdout",
     "output_type": "stream",
     "text": [
      " \"mgl\"    "
     ]
    },
    {
     "name": "stdout",
     "output_type": "stream",
     "text": [
      "\n",
      " [377,]"
     ]
    },
    {
     "name": "stdout",
     "output_type": "stream",
     "text": [
      " \"T02226\""
     ]
    },
    {
     "name": "stdout",
     "output_type": "stream",
     "text": [
      " \"418459\"                                        "
     ]
    },
    {
     "name": "stdout",
     "output_type": "stream",
     "text": [
      " \"pgr\"    "
     ]
    },
    {
     "name": "stdout",
     "output_type": "stream",
     "text": [
      "\n",
      " [378,]"
     ]
    },
    {
     "name": "stdout",
     "output_type": "stream",
     "text": [
      " \"T03138\""
     ]
    },
    {
     "name": "stdout",
     "output_type": "stream",
     "text": [
      " \"747676\"                                        "
     ]
    },
    {
     "name": "stdout",
     "output_type": "stream",
     "text": [
      " \"mlr\"    "
     ]
    },
    {
     "name": "stdout",
     "output_type": "stream",
     "text": [
      "\n",
      " [379,]"
     ]
    },
    {
     "name": "stdout",
     "output_type": "stream",
     "text": [
      " \"T00105\""
     ]
    },
    {
     "name": "stdout",
     "output_type": "stream",
     "text": [
      " \"284813\"                                        "
     ]
    },
    {
     "name": "stdout",
     "output_type": "stream",
     "text": [
      " \"ecu\"    "
     ]
    },
    {
     "name": "stdout",
     "output_type": "stream",
     "text": [
      "\n",
      " [380,]"
     ]
    },
    {
     "name": "stdout",
     "output_type": "stream",
     "text": [
      " \"T02238\""
     ]
    },
    {
     "name": "stdout",
     "output_type": "stream",
     "text": [
      " \"876142\"                                        "
     ]
    },
    {
     "name": "stdout",
     "output_type": "stream",
     "text": [
      " \"ein\"    "
     ]
    },
    {
     "name": "stdout",
     "output_type": "stream",
     "text": [
      "\n",
      " [381,]"
     ]
    },
    {
     "name": "stdout",
     "output_type": "stream",
     "text": [
      " \"T02287\""
     ]
    },
    {
     "name": "stdout",
     "output_type": "stream",
     "text": [
      " \"907965\"                                        "
     ]
    },
    {
     "name": "stdout",
     "output_type": "stream",
     "text": [
      " \"ehe\"    "
     ]
    },
    {
     "name": "stdout",
     "output_type": "stream",
     "text": [
      "\n",
      " [382,]"
     ]
    },
    {
     "name": "stdout",
     "output_type": "stream",
     "text": [
      " \"T03458\""
     ]
    },
    {
     "name": "stdout",
     "output_type": "stream",
     "text": [
      " \"1178016\"                                       "
     ]
    },
    {
     "name": "stdout",
     "output_type": "stream",
     "text": [
      " \"ero\"    "
     ]
    },
    {
     "name": "stdout",
     "output_type": "stream",
     "text": [
      "\n",
      " [383,]"
     ]
    },
    {
     "name": "stdout",
     "output_type": "stream",
     "text": [
      " \"T01614\""
     ]
    },
    {
     "name": "stdout",
     "output_type": "stream",
     "text": [
      " \"578460\"                                        "
     ]
    },
    {
     "name": "stdout",
     "output_type": "stream",
     "text": [
      " \"nce\"    "
     ]
    },
    {
     "name": "stdout",
     "output_type": "stream",
     "text": [
      "\n",
      " [384,]"
     ]
    },
    {
     "name": "stdout",
     "output_type": "stream",
     "text": [
      " \"T01042\""
     ]
    },
    {
     "name": "stdout",
     "output_type": "stream",
     "text": [
      " \"431895\"                                        "
     ]
    },
    {
     "name": "stdout",
     "output_type": "stream",
     "text": [
      " \"mbr\"    "
     ]
    },
    {
     "name": "stdout",
     "output_type": "stream",
     "text": [
      "\n",
      " [385,]"
     ]
    },
    {
     "name": "stdout",
     "output_type": "stream",
     "text": [
      " \"T04136\""
     ]
    },
    {
     "name": "stdout",
     "output_type": "stream",
     "text": [
      " \"946362\"                                        "
     ]
    },
    {
     "name": "stdout",
     "output_type": "stream",
     "text": [
      " \"sre\"    "
     ]
    },
    {
     "name": "stdout",
     "output_type": "stream",
     "text": [
      "\n",
      " [386,]"
     ]
    },
    {
     "name": "stdout",
     "output_type": "stream",
     "text": [
      " \"T00245\""
     ]
    },
    {
     "name": "stdout",
     "output_type": "stream",
     "text": [
      " \"352472\"                                        "
     ]
    },
    {
     "name": "stdout",
     "output_type": "stream",
     "text": [
      " \"ddi\"    "
     ]
    },
    {
     "name": "stdout",
     "output_type": "stream",
     "text": [
      "\n",
      " [387,]"
     ]
    },
    {
     "name": "stdout",
     "output_type": "stream",
     "text": [
      " \"T02090\""
     ]
    },
    {
     "name": "stdout",
     "output_type": "stream",
     "text": [
      " \"5786\"                                          "
     ]
    },
    {
     "name": "stdout",
     "output_type": "stream",
     "text": [
      " \"dpp\"    "
     ]
    },
    {
     "name": "stdout",
     "output_type": "stream",
     "text": [
      "\n",
      " [388,]"
     ]
    },
    {
     "name": "stdout",
     "output_type": "stream",
     "text": [
      " \"T02668\""
     ]
    },
    {
     "name": "stdout",
     "output_type": "stream",
     "text": [
      " \"261658\"                                        "
     ]
    },
    {
     "name": "stdout",
     "output_type": "stream",
     "text": [
      " \"dfa\"    "
     ]
    },
    {
     "name": "stdout",
     "output_type": "stream",
     "text": [
      "\n",
      " [389,]"
     ]
    },
    {
     "name": "stdout",
     "output_type": "stream",
     "text": [
      " \"T00238\""
     ]
    },
    {
     "name": "stdout",
     "output_type": "stream",
     "text": [
      " \"294381\"                                        "
     ]
    },
    {
     "name": "stdout",
     "output_type": "stream",
     "text": [
      " \"ehi\"    "
     ]
    },
    {
     "name": "stdout",
     "output_type": "stream",
     "text": [
      "\n",
      " [390,]"
     ]
    },
    {
     "name": "stdout",
     "output_type": "stream",
     "text": [
      " \"T01083\""
     ]
    },
    {
     "name": "stdout",
     "output_type": "stream",
     "text": [
      " \"370354\"                                        "
     ]
    },
    {
     "name": "stdout",
     "output_type": "stream",
     "text": [
      " \"edi\"    "
     ]
    },
    {
     "name": "stdout",
     "output_type": "stream",
     "text": [
      "\n",
      " [391,]"
     ]
    },
    {
     "name": "stdout",
     "output_type": "stream",
     "text": [
      " \"T04133\""
     ]
    },
    {
     "name": "stdout",
     "output_type": "stream",
     "text": [
      " \"370355\"                                        "
     ]
    },
    {
     "name": "stdout",
     "output_type": "stream",
     "text": [
      " \"eiv\"    "
     ]
    },
    {
     "name": "stdout",
     "output_type": "stream",
     "text": [
      "\n",
      " [392,]"
     ]
    },
    {
     "name": "stdout",
     "output_type": "stream",
     "text": [
      " \"T02667\""
     ]
    },
    {
     "name": "stdout",
     "output_type": "stream",
     "text": [
      " \"1257118\"                                       "
     ]
    },
    {
     "name": "stdout",
     "output_type": "stream",
     "text": [
      " \"acan\"   "
     ]
    },
    {
     "name": "stdout",
     "output_type": "stream",
     "text": [
      "\n",
      " [393,]"
     ]
    },
    {
     "name": "stdout",
     "output_type": "stream",
     "text": [
      " \"T00095\""
     ]
    },
    {
     "name": "stdout",
     "output_type": "stream",
     "text": [
      " \"36329\"                                         "
     ]
    },
    {
     "name": "stdout",
     "output_type": "stream",
     "text": [
      " \"pfa\"    "
     ]
    },
    {
     "name": "stdout",
     "output_type": "stream",
     "text": [
      "\n",
      " [394,]"
     ]
    },
    {
     "name": "stdout",
     "output_type": "stream",
     "text": [
      " \"T01035\""
     ]
    },
    {
     "name": "stdout",
     "output_type": "stream",
     "text": [
      " \"352914\"                                        "
     ]
    },
    {
     "name": "stdout",
     "output_type": "stream",
     "text": [
      " \"pyo\"    "
     ]
    },
    {
     "name": "stdout",
     "output_type": "stream",
     "text": [
      "\n",
      " [395,]"
     ]
    },
    {
     "name": "stdout",
     "output_type": "stream",
     "text": [
      " \"T01108\""
     ]
    },
    {
     "name": "stdout",
     "output_type": "stream",
     "text": [
      " \"31271\"                                         "
     ]
    },
    {
     "name": "stdout",
     "output_type": "stream",
     "text": [
      " \"pcb\"    "
     ]
    },
    {
     "name": "stdout",
     "output_type": "stream",
     "text": [
      "\n",
      " [396,]"
     ]
    },
    {
     "name": "stdout",
     "output_type": "stream",
     "text": [
      " \"T01111\""
     ]
    },
    {
     "name": "stdout",
     "output_type": "stream",
     "text": [
      " \"5823\"                                          "
     ]
    },
    {
     "name": "stdout",
     "output_type": "stream",
     "text": [
      " \"pbe\"    "
     ]
    },
    {
     "name": "stdout",
     "output_type": "stream",
     "text": [
      "\n",
      " [397,]"
     ]
    },
    {
     "name": "stdout",
     "output_type": "stream",
     "text": [
      " \"T01094\""
     ]
    },
    {
     "name": "stdout",
     "output_type": "stream",
     "text": [
      " \"5851\"                                          "
     ]
    },
    {
     "name": "stdout",
     "output_type": "stream",
     "text": [
      " \"pkn\"    "
     ]
    },
    {
     "name": "stdout",
     "output_type": "stream",
     "text": [
      "\n",
      " [398,]"
     ]
    },
    {
     "name": "stdout",
     "output_type": "stream",
     "text": [
      " \"T01073\""
     ]
    },
    {
     "name": "stdout",
     "output_type": "stream",
     "text": [
      " \"126793\"                                        "
     ]
    },
    {
     "name": "stdout",
     "output_type": "stream",
     "text": [
      " \"pvx\"    "
     ]
    },
    {
     "name": "stdout",
     "output_type": "stream",
     "text": [
      "\n",
      " [399,]"
     ]
    },
    {
     "name": "stdout",
     "output_type": "stream",
     "text": [
      " \"T02490\""
     ]
    },
    {
     "name": "stdout",
     "output_type": "stream",
     "text": [
      " \"1120755\"                                       "
     ]
    },
    {
     "name": "stdout",
     "output_type": "stream",
     "text": [
      " \"pcy\"    "
     ]
    },
    {
     "name": "stdout",
     "output_type": "stream",
     "text": [
      "\n",
      " [400,]"
     ]
    },
    {
     "name": "stdout",
     "output_type": "stream",
     "text": [
      " \"T00253\""
     ]
    },
    {
     "name": "stdout",
     "output_type": "stream",
     "text": [
      " \"5874\"                                          "
     ]
    },
    {
     "name": "stdout",
     "output_type": "stream",
     "text": [
      " \"tan\"    "
     ]
    },
    {
     "name": "stdout",
     "output_type": "stream",
     "text": [
      "\n",
      " [401,]"
     ]
    },
    {
     "name": "stdout",
     "output_type": "stream",
     "text": [
      " \"T00254\""
     ]
    },
    {
     "name": "stdout",
     "output_type": "stream",
     "text": [
      " \"333668\"                                        "
     ]
    },
    {
     "name": "stdout",
     "output_type": "stream",
     "text": [
      " \"tpv\"    "
     ]
    },
    {
     "name": "stdout",
     "output_type": "stream",
     "text": [
      "\n",
      " [402,]"
     ]
    },
    {
     "name": "stdout",
     "output_type": "stream",
     "text": [
      " \"T03460\""
     ]
    },
    {
     "name": "stdout",
     "output_type": "stream",
     "text": [
      " \"869250\"                                        "
     ]
    },
    {
     "name": "stdout",
     "output_type": "stream",
     "text": [
      " \"tot\"    "
     ]
    },
    {
     "name": "stdout",
     "output_type": "stream",
     "text": [
      "\n",
      " [403,]"
     ]
    },
    {
     "name": "stdout",
     "output_type": "stream",
     "text": [
      " \"T02820\""
     ]
    },
    {
     "name": "stdout",
     "output_type": "stream",
     "text": [
      " \"5872\"                                          "
     ]
    },
    {
     "name": "stdout",
     "output_type": "stream",
     "text": [
      " \"beq\"    "
     ]
    },
    {
     "name": "stdout",
     "output_type": "stream",
     "text": [
      "\n",
      " [404,]"
     ]
    },
    {
     "name": "stdout",
     "output_type": "stream",
     "text": [
      " \"T01085\""
     ]
    },
    {
     "name": "stdout",
     "output_type": "stream",
     "text": [
      " \"484906\"                                        "
     ]
    },
    {
     "name": "stdout",
     "output_type": "stream",
     "text": [
      " \"bbo\"    "
     ]
    },
    {
     "name": "stdout",
     "output_type": "stream",
     "text": [
      "\n",
      " [405,]"
     ]
    },
    {
     "name": "stdout",
     "output_type": "stream",
     "text": [
      " \"T00168\""
     ]
    },
    {
     "name": "stdout",
     "output_type": "stream",
     "text": [
      " \"353152\"                                        "
     ]
    },
    {
     "name": "stdout",
     "output_type": "stream",
     "text": [
      " \"cpv\"    "
     ]
    },
    {
     "name": "stdout",
     "output_type": "stream",
     "text": [
      "\n",
      " [406,]"
     ]
    },
    {
     "name": "stdout",
     "output_type": "stream",
     "text": [
      " \"T00210\""
     ]
    },
    {
     "name": "stdout",
     "output_type": "stream",
     "text": [
      " \"353151\"                                        "
     ]
    },
    {
     "name": "stdout",
     "output_type": "stream",
     "text": [
      " \"cho\"    "
     ]
    },
    {
     "name": "stdout",
     "output_type": "stream",
     "text": [
      "\n",
      " [407,]"
     ]
    },
    {
     "name": "stdout",
     "output_type": "stream",
     "text": [
      " \"T01093\""
     ]
    },
    {
     "name": "stdout",
     "output_type": "stream",
     "text": [
      " \"508771\"                                        "
     ]
    },
    {
     "name": "stdout",
     "output_type": "stream",
     "text": [
      " \"tgo\"    "
     ]
    },
    {
     "name": "stdout",
     "output_type": "stream",
     "text": [
      "\n",
      " [408,]"
     ]
    },
    {
     "name": "stdout",
     "output_type": "stream",
     "text": [
      " \"T01020\""
     ]
    },
    {
     "name": "stdout",
     "output_type": "stream",
     "text": [
      " \"312017\"                                        "
     ]
    },
    {
     "name": "stdout",
     "output_type": "stream",
     "text": [
      " \"tet\"    "
     ]
    },
    {
     "name": "stdout",
     "output_type": "stream",
     "text": [
      "\n",
      " [409,]"
     ]
    },
    {
     "name": "stdout",
     "output_type": "stream",
     "text": [
      " \"T01055\""
     ]
    },
    {
     "name": "stdout",
     "output_type": "stream",
     "text": [
      " \"412030\"                                        "
     ]
    },
    {
     "name": "stdout",
     "output_type": "stream",
     "text": [
      " \"ptm\"    "
     ]
    },
    {
     "name": "stdout",
     "output_type": "stream",
     "text": [
      "\n",
      " [410,]"
     ]
    },
    {
     "name": "stdout",
     "output_type": "stream",
     "text": [
      " \"T01075\""
     ]
    },
    {
     "name": "stdout",
     "output_type": "stream",
     "text": [
      " \"556484\"                                        "
     ]
    },
    {
     "name": "stdout",
     "output_type": "stream",
     "text": [
      " \"pti\"    "
     ]
    },
    {
     "name": "stdout",
     "output_type": "stream",
     "text": [
      "\n",
      " [411,]"
     ]
    },
    {
     "name": "stdout",
     "output_type": "stream",
     "text": [
      " \"T04784\""
     ]
    },
    {
     "name": "stdout",
     "output_type": "stream",
     "text": [
      " \"635003\"                                        "
     ]
    },
    {
     "name": "stdout",
     "output_type": "stream",
     "text": [
      " \"fcy\"    "
     ]
    },
    {
     "name": "stdout",
     "output_type": "stream",
     "text": [
      "\n",
      " [412,]"
     ]
    },
    {
     "name": "stdout",
     "output_type": "stream",
     "text": [
      " \"T01078\""
     ]
    },
    {
     "name": "stdout",
     "output_type": "stream",
     "text": [
      " \"296543\"                                        "
     ]
    },
    {
     "name": "stdout",
     "output_type": "stream",
     "text": [
      " \"tps\"    "
     ]
    },
    {
     "name": "stdout",
     "output_type": "stream",
     "text": [
      "\n",
      " [413,]"
     ]
    },
    {
     "name": "stdout",
     "output_type": "stream",
     "text": [
      " \"T04134\""
     ]
    },
    {
     "name": "stdout",
     "output_type": "stream",
     "text": [
      " \"44056\"                                         "
     ]
    },
    {
     "name": "stdout",
     "output_type": "stream",
     "text": [
      " \"aaf\"    "
     ]
    },
    {
     "name": "stdout",
     "output_type": "stream",
     "text": [
      "\n",
      " [414,]"
     ]
    },
    {
     "name": "stdout",
     "output_type": "stream",
     "text": [
      " \"T02917\""
     ]
    },
    {
     "name": "stdout",
     "output_type": "stream",
     "text": [
      " \"1093141\"                                       "
     ]
    },
    {
     "name": "stdout",
     "output_type": "stream",
     "text": [
      " \"ngd\"    "
     ]
    },
    {
     "name": "stdout",
     "output_type": "stream",
     "text": [
      "\n",
      " [415,]"
     ]
    },
    {
     "name": "stdout",
     "output_type": "stream",
     "text": [
      " \"T01333\""
     ]
    },
    {
     "name": "stdout",
     "output_type": "stream",
     "text": [
      " \"403677\"                                        "
     ]
    },
    {
     "name": "stdout",
     "output_type": "stream",
     "text": [
      " \"pif\"    "
     ]
    },
    {
     "name": "stdout",
     "output_type": "stream",
     "text": [
      "\n",
      " [416,]"
     ]
    },
    {
     "name": "stdout",
     "output_type": "stream",
     "text": [
      " \"T03459\""
     ]
    },
    {
     "name": "stdout",
     "output_type": "stream",
     "text": [
      " \"67593\"                                         "
     ]
    },
    {
     "name": "stdout",
     "output_type": "stream",
     "text": [
      " \"psoj\"   "
     ]
    },
    {
     "name": "stdout",
     "output_type": "stream",
     "text": [
      "\n",
      " [417,]"
     ]
    },
    {
     "name": "stdout",
     "output_type": "stream",
     "text": [
      " \"T04137\""
     ]
    },
    {
     "name": "stdout",
     "output_type": "stream",
     "text": [
      " \"695850\"                                        "
     ]
    },
    {
     "name": "stdout",
     "output_type": "stream",
     "text": [
      " \"spar\"   "
     ]
    },
    {
     "name": "stdout",
     "output_type": "stream",
     "text": [
      "\n",
      " [418,]"
     ]
    },
    {
     "name": "stdout",
     "output_type": "stream",
     "text": [
      " \"T02915\""
     ]
    },
    {
     "name": "stdout",
     "output_type": "stream",
     "text": [
      " \"280463\"                                        "
     ]
    },
    {
     "name": "stdout",
     "output_type": "stream",
     "text": [
      " \"ehx\"    "
     ]
    },
    {
     "name": "stdout",
     "output_type": "stream",
     "text": [
      "\n",
      " [419,]"
     ]
    },
    {
     "name": "stdout",
     "output_type": "stream",
     "text": [
      " \"T02925\""
     ]
    },
    {
     "name": "stdout",
     "output_type": "stream",
     "text": [
      " \"905079\"                                        "
     ]
    },
    {
     "name": "stdout",
     "output_type": "stream",
     "text": [
      " \"gtt\"    "
     ]
    },
    {
     "name": "stdout",
     "output_type": "stream",
     "text": [
      "\n",
      " [420,]"
     ]
    },
    {
     "name": "stdout",
     "output_type": "stream",
     "text": [
      " \"T01013\""
     ]
    },
    {
     "name": "stdout",
     "output_type": "stream",
     "text": [
      " \"185431\"                                        "
     ]
    },
    {
     "name": "stdout",
     "output_type": "stream",
     "text": [
      " \"tbr\"    "
     ]
    },
    {
     "name": "stdout",
     "output_type": "stream",
     "text": [
      "\n",
      " [421,]"
     ]
    },
    {
     "name": "stdout",
     "output_type": "stream",
     "text": [
      " \"T01012\""
     ]
    },
    {
     "name": "stdout",
     "output_type": "stream",
     "text": [
      " \"353153\"                                        "
     ]
    },
    {
     "name": "stdout",
     "output_type": "stream",
     "text": [
      " \"tcr\"    "
     ]
    },
    {
     "name": "stdout",
     "output_type": "stream",
     "text": [
      "\n",
      " [422,]"
     ]
    },
    {
     "name": "stdout",
     "output_type": "stream",
     "text": [
      " \"T01014\""
     ]
    },
    {
     "name": "stdout",
     "output_type": "stream",
     "text": [
      " \"347515\"                                        "
     ]
    },
    {
     "name": "stdout",
     "output_type": "stream",
     "text": [
      " \"lma\"    "
     ]
    },
    {
     "name": "stdout",
     "output_type": "stream",
     "text": [
      "\n",
      " [423,]"
     ]
    },
    {
     "name": "stdout",
     "output_type": "stream",
     "text": [
      " \"T01112\""
     ]
    },
    {
     "name": "stdout",
     "output_type": "stream",
     "text": [
      " \"435258\"                                        "
     ]
    },
    {
     "name": "stdout",
     "output_type": "stream",
     "text": [
      " \"lif\"    "
     ]
    },
    {
     "name": "stdout",
     "output_type": "stream",
     "text": [
      "\n",
      " [424,]"
     ]
    },
    {
     "name": "stdout",
     "output_type": "stream",
     "text": [
      " \"T02289\""
     ]
    },
    {
     "name": "stdout",
     "output_type": "stream",
     "text": [
      " \"5661\"                                          "
     ]
    },
    {
     "name": "stdout",
     "output_type": "stream",
     "text": [
      " \"ldo\"    "
     ]
    },
    {
     "name": "stdout",
     "output_type": "stream",
     "text": [
      "\n",
      " [425,]"
     ]
    },
    {
     "name": "stdout",
     "output_type": "stream",
     "text": [
      " \"T02288\""
     ]
    },
    {
     "name": "stdout",
     "output_type": "stream",
     "text": [
      " \"929439\"                                        "
     ]
    },
    {
     "name": "stdout",
     "output_type": "stream",
     "text": [
      " \"lmi\"    "
     ]
    },
    {
     "name": "stdout",
     "output_type": "stream",
     "text": [
      "\n",
      " [426,]"
     ]
    },
    {
     "name": "stdout",
     "output_type": "stream",
     "text": [
      " \"T01113\""
     ]
    },
    {
     "name": "stdout",
     "output_type": "stream",
     "text": [
      " \"420245\"                                        "
     ]
    },
    {
     "name": "stdout",
     "output_type": "stream",
     "text": [
      " \"lbz\"    "
     ]
    },
    {
     "name": "stdout",
     "output_type": "stream",
     "text": [
      "\n",
      " [427,]"
     ]
    },
    {
     "name": "stdout",
     "output_type": "stream",
     "text": [
      " \"T01241\""
     ]
    },
    {
     "name": "stdout",
     "output_type": "stream",
     "text": [
      " \"744533\"                                        "
     ]
    },
    {
     "name": "stdout",
     "output_type": "stream",
     "text": [
      " \"ngr\"    "
     ]
    },
    {
     "name": "stdout",
     "output_type": "stream",
     "text": [
      "\n",
      " [428,]"
     ]
    },
    {
     "name": "stdout",
     "output_type": "stream",
     "text": [
      " \"T01022\""
     ]
    },
    {
     "name": "stdout",
     "output_type": "stream",
     "text": [
      " \"412133\"                                        "
     ]
    },
    {
     "name": "stdout",
     "output_type": "stream",
     "text": [
      " \"tva\"    "
     ]
    },
    {
     "name": "stdout",
     "output_type": "stream",
     "text": [
      "\n",
      " [429,]"
     ]
    },
    {
     "name": "stdout",
     "output_type": "stream",
     "text": [
      " \"T01047\""
     ]
    },
    {
     "name": "stdout",
     "output_type": "stream",
     "text": [
      " \"184922\"                                        "
     ]
    },
    {
     "name": "stdout",
     "output_type": "stream",
     "text": [
      " \"gla\"    "
     ]
    },
    {
     "name": "stdout",
     "output_type": "stream",
     "text": [
      "\n",
      " [430,]"
     ]
    },
    {
     "name": "stdout",
     "output_type": "stream",
     "text": [
      " \"T00007\""
     ]
    },
    {
     "name": "stdout",
     "output_type": "stream",
     "text": [
      " \"511145\"                                        "
     ]
    },
    {
     "name": "stdout",
     "output_type": "stream",
     "text": [
      " \"eco\"    "
     ]
    },
    {
     "name": "stdout",
     "output_type": "stream",
     "text": [
      "\n",
      " [431,]"
     ]
    },
    {
     "name": "stdout",
     "output_type": "stream",
     "text": [
      " \"T00068\""
     ]
    },
    {
     "name": "stdout",
     "output_type": "stream",
     "text": [
      " \"316407\"                                        "
     ]
    },
    {
     "name": "stdout",
     "output_type": "stream",
     "text": [
      " \"ecj\"    "
     ]
    },
    {
     "name": "stdout",
     "output_type": "stream",
     "text": [
      "\n",
      " [432,]"
     ]
    },
    {
     "name": "stdout",
     "output_type": "stream",
     "text": [
      " \"T00666\""
     ]
    },
    {
     "name": "stdout",
     "output_type": "stream",
     "text": [
      " \"316385\"                                        "
     ]
    },
    {
     "name": "stdout",
     "output_type": "stream",
     "text": [
      " \"ecd\"    "
     ]
    },
    {
     "name": "stdout",
     "output_type": "stream",
     "text": [
      "\n",
      " [433,]"
     ]
    },
    {
     "name": "stdout",
     "output_type": "stream",
     "text": [
      " \"T00913\""
     ]
    },
    {
     "name": "stdout",
     "output_type": "stream",
     "text": [
      " \"595496\"                                        "
     ]
    },
    {
     "name": "stdout",
     "output_type": "stream",
     "text": [
      " \"ebw\"    "
     ]
    },
    {
     "name": "stdout",
     "output_type": "stream",
     "text": [
      "\n",
      " [434,]"
     ]
    },
    {
     "name": "stdout",
     "output_type": "stream",
     "text": [
      " \"T02541\""
     ]
    },
    {
     "name": "stdout",
     "output_type": "stream",
     "text": [
      " \"1110693\"                                       "
     ]
    },
    {
     "name": "stdout",
     "output_type": "stream",
     "text": [
      " \"ecok\"   "
     ]
    },
    {
     "name": "stdout",
     "output_type": "stream",
     "text": [
      "\n",
      " [435,]"
     ]
    },
    {
     "name": "stdout",
     "output_type": "stream",
     "text": [
      " \"T00044\""
     ]
    },
    {
     "name": "stdout",
     "output_type": "stream",
     "text": [
      " \"155864\"                                        "
     ]
    },
    {
     "name": "stdout",
     "output_type": "stream",
     "text": [
      " \"ece\"    "
     ]
    },
    {
     "name": "stdout",
     "output_type": "stream",
     "text": [
      "\n",
      " [436,]"
     ]
    },
    {
     "name": "stdout",
     "output_type": "stream",
     "text": [
      " \"T00048\""
     ]
    },
    {
     "name": "stdout",
     "output_type": "stream",
     "text": [
      " \"386585\"                                        "
     ]
    },
    {
     "name": "stdout",
     "output_type": "stream",
     "text": [
      " \"ecs\"    "
     ]
    },
    {
     "name": "stdout",
     "output_type": "stream",
     "text": [
      "\n",
      " [437,]"
     ]
    },
    {
     "name": "stdout",
     "output_type": "stream",
     "text": [
      " \"T00778\""
     ]
    },
    {
     "name": "stdout",
     "output_type": "stream",
     "text": [
      " \"444450\"                                        "
     ]
    },
    {
     "name": "stdout",
     "output_type": "stream",
     "text": [
      " \"ecf\"    "
     ]
    },
    {
     "name": "stdout",
     "output_type": "stream",
     "text": [
      "\n",
      " [438,]"
     ]
    },
    {
     "name": "stdout",
     "output_type": "stream",
     "text": [
      " \"T00949\""
     ]
    },
    {
     "name": "stdout",
     "output_type": "stream",
     "text": [
      " \"544404\"                                        "
     ]
    },
    {
     "name": "stdout",
     "output_type": "stream",
     "text": [
      " \"etw\"    "
     ]
    },
    {
     "name": "stdout",
     "output_type": "stream",
     "text": [
      "\n",
      " [439,]"
     ]
    },
    {
     "name": "stdout",
     "output_type": "stream",
     "text": [
      " \"T02122\""
     ]
    },
    {
     "name": "stdout",
     "output_type": "stream",
     "text": [
      " \"741093\"                                        "
     ]
    },
    {
     "name": "stdout",
     "output_type": "stream",
     "text": [
      " \"elx\"    "
     ]
    },
    {
     "name": "stdout",
     "output_type": "stream",
     "text": [
      "\n",
      " [440,]"
     ]
    },
    {
     "name": "stdout",
     "output_type": "stream",
     "text": [
      " \"T01098\""
     ]
    },
    {
     "name": "stdout",
     "output_type": "stream",
     "text": [
      " \"573235\"                                        "
     ]
    },
    {
     "name": "stdout",
     "output_type": "stream",
     "text": [
      " \"eoj\"    "
     ]
    },
    {
     "name": "stdout",
     "output_type": "stream",
     "text": [
      "\n",
      " [441,]"
     ]
    },
    {
     "name": "stdout",
     "output_type": "stream",
     "text": [
      " \"T01097\""
     ]
    },
    {
     "name": "stdout",
     "output_type": "stream",
     "text": [
      " \"585396\"                                        "
     ]
    },
    {
     "name": "stdout",
     "output_type": "stream",
     "text": [
      " \"eoi\"    "
     ]
    },
    {
     "name": "stdout",
     "output_type": "stream",
     "text": [
      "\n",
      " [442,]"
     ]
    },
    {
     "name": "stdout",
     "output_type": "stream",
     "text": [
      " \"T01096\""
     ]
    },
    {
     "name": "stdout",
     "output_type": "stream",
     "text": [
      " \"585395\"                                        "
     ]
    },
    {
     "name": "stdout",
     "output_type": "stream",
     "text": [
      " \"eoh\"    "
     ]
    },
    {
     "name": "stdout",
     "output_type": "stream",
     "text": [
      "\n",
      " [443,]"
     ]
    },
    {
     "name": "stdout",
     "output_type": "stream",
     "text": [
      " \"T00796\""
     ]
    },
    {
     "name": "stdout",
     "output_type": "stream",
     "text": [
      " \"574521\"                                        "
     ]
    },
    {
     "name": "stdout",
     "output_type": "stream",
     "text": [
      " \"ecg\"    "
     ]
    },
    {
     "name": "stdout",
     "output_type": "stream",
     "text": [
      "\n",
      " [444,]"
     ]
    },
    {
     "name": "stdout",
     "output_type": "stream",
     "text": [
      " \"T01190\""
     ]
    },
    {
     "name": "stdout",
     "output_type": "stream",
     "text": [
      " \"701177\"                                        "
     ]
    },
    {
     "name": "stdout",
     "output_type": "stream",
     "text": [
      " \"eok\"    "
     ]
    },
    {
     "name": "stdout",
     "output_type": "stream",
     "text": [
      "\n",
      " [445,]"
     ]
    },
    {
     "name": "stdout",
     "output_type": "stream",
     "text": [
      " \"T02066\""
     ]
    },
    {
     "name": "stdout",
     "output_type": "stream",
     "text": [
      " \"1048689\"                                       "
     ]
    },
    {
     "name": "stdout",
     "output_type": "stream",
     "text": [
      " \"elr\"    "
     ]
    },
    {
     "name": "stdout",
     "output_type": "stream",
     "text": [
      "\n",
      " [446,]"
     ]
    },
    {
     "name": "stdout",
     "output_type": "stream",
     "text": [
      " \"T00106\""
     ]
    },
    {
     "name": "stdout",
     "output_type": "stream",
     "text": [
      " \"199310\"                                        "
     ]
    },
    {
     "name": "stdout",
     "output_type": "stream",
     "text": [
      " \"ecc\"    "
     ]
    },
    {
     "name": "stdout",
     "output_type": "stream",
     "text": [
      "\n",
      " [447,]"
     ]
    },
    {
     "name": "stdout",
     "output_type": "stream",
     "text": [
      " \"T00373\""
     ]
    },
    {
     "name": "stdout",
     "output_type": "stream",
     "text": [
      " \"362663\"                                        "
     ]
    },
    {
     "name": "stdout",
     "output_type": "stream",
     "text": [
      " \"ecp\"    "
     ]
    },
    {
     "name": "stdout",
     "output_type": "stream",
     "text": [
      "\n",
      " [448,]"
     ]
    },
    {
     "name": "stdout",
     "output_type": "stream",
     "text": [
      " \"T00338\""
     ]
    },
    {
     "name": "stdout",
     "output_type": "stream",
     "text": [
      " \"364106\"                                        "
     ]
    },
    {
     "name": "stdout",
     "output_type": "stream",
     "text": [
      " \"eci\"    "
     ]
    },
    {
     "name": "stdout",
     "output_type": "stream",
     "text": [
      "\n",
      " [449,]"
     ]
    },
    {
     "name": "stdout",
     "output_type": "stream",
     "text": [
      " \"T00425\""
     ]
    },
    {
     "name": "stdout",
     "output_type": "stream",
     "text": [
      " \"405955\"                                        "
     ]
    },
    {
     "name": "stdout",
     "output_type": "stream",
     "text": [
      " \"ecv\"    "
     ]
    },
    {
     "name": "stdout",
     "output_type": "stream",
     "text": [
      "\n",
      " [450,]"
     ]
    },
    {
     "name": "stdout",
     "output_type": "stream",
     "text": [
      " \"T00591\""
     ]
    },
    {
     "name": "stdout",
     "output_type": "stream",
     "text": [
      " \"331112\"                                        "
     ]
    },
    {
     "name": "stdout",
     "output_type": "stream",
     "text": [
      " \"ecx\"    "
     ]
    },
    {
     "name": "stdout",
     "output_type": "stream",
     "text": [
      "\n",
      " [451,]"
     ]
    },
    {
     "name": "stdout",
     "output_type": "stream",
     "text": [
      " \"T00590\""
     ]
    },
    {
     "name": "stdout",
     "output_type": "stream",
     "text": [
      " \"331111\"                                        "
     ]
    },
    {
     "name": "stdout",
     "output_type": "stream",
     "text": [
      " \"ecw\"    "
     ]
    },
    {
     "name": "stdout",
     "output_type": "stream",
     "text": [
      "\n",
      " [452,]"
     ]
    },
    {
     "name": "stdout",
     "output_type": "stream",
     "text": [
      " \"T00672\""
     ]
    },
    {
     "name": "stdout",
     "output_type": "stream",
     "text": [
      " \"439855\"                                        "
     ]
    },
    {
     "name": "stdout",
     "output_type": "stream",
     "text": [
      " \"ecm\"    "
     ]
    },
    {
     "name": "stdout",
     "output_type": "stream",
     "text": [
      "\n",
      " [453,]"
     ]
    },
    {
     "name": "stdout",
     "output_type": "stream",
     "text": [
      " \"T00784\""
     ]
    },
    {
     "name": "stdout",
     "output_type": "stream",
     "text": [
      " \"409438\"                                        "
     ]
    },
    {
     "name": "stdout",
     "output_type": "stream",
     "text": [
      " \"ecy\"    "
     ]
    },
    {
     "name": "stdout",
     "output_type": "stream",
     "text": [
      "\n",
      " [454,]"
     ]
    },
    {
     "name": "stdout",
     "output_type": "stream",
     "text": [
      " \"T00828\""
     ]
    },
    {
     "name": "stdout",
     "output_type": "stream",
     "text": [
      " \"585034\"                                        "
     ]
    },
    {
     "name": "stdout",
     "output_type": "stream",
     "text": [
      " \"ecr\"    "
     ]
    },
    {
     "name": "stdout",
     "output_type": "stream",
     "text": [
      "\n",
      " [455,]"
     ]
    },
    {
     "name": "stdout",
     "output_type": "stream",
     "text": [
      " \"T00827\""
     ]
    },
    {
     "name": "stdout",
     "output_type": "stream",
     "text": [
      " \"585397\"                                        "
     ]
    },
    {
     "name": "stdout",
     "output_type": "stream",
     "text": [
      " \"ecq\"    "
     ]
    },
    {
     "name": "stdout",
     "output_type": "stream",
     "text": [
      "\n",
      " [456,]"
     ]
    },
    {
     "name": "stdout",
     "output_type": "stream",
     "text": [
      " \"T00826\""
     ]
    },
    {
     "name": "stdout",
     "output_type": "stream",
     "text": [
      " \"585055\"                                        "
     ]
    },
    {
     "name": "stdout",
     "output_type": "stream",
     "text": [
      " \"eck\"    "
     ]
    },
    {
     "name": "stdout",
     "output_type": "stream",
     "text": [
      "\n",
      " [457,]"
     ]
    },
    {
     "name": "stdout",
     "output_type": "stream",
     "text": [
      " \"T00829\""
     ]
    },
    {
     "name": "stdout",
     "output_type": "stream",
     "text": [
      " \"585057\"                                        "
     ]
    },
    {
     "name": "stdout",
     "output_type": "stream",
     "text": [
      " \"ect\"    "
     ]
    },
    {
     "name": "stdout",
     "output_type": "stream",
     "text": [
      "\n",
      " [458,]"
     ]
    },
    {
     "name": "stdout",
     "output_type": "stream",
     "text": [
      " \"T01999\""
     ]
    },
    {
     "name": "stdout",
     "output_type": "stream",
     "text": [
      " \"1072459\"                                       "
     ]
    },
    {
     "name": "stdout",
     "output_type": "stream",
     "text": [
      " \"eoc\"    "
     ]
    },
    {
     "name": "stdout",
     "output_type": "stream",
     "text": [
      "\n",
      " [459,]"
     ]
    },
    {
     "name": "stdout",
     "output_type": "stream",
     "text": [
      " \"T00831\""
     ]
    },
    {
     "name": "stdout",
     "output_type": "stream",
     "text": [
      " \"585056\"                                        "
     ]
    },
    {
     "name": "stdout",
     "output_type": "stream",
     "text": [
      " \"eum\"    "
     ]
    },
    {
     "name": "stdout",
     "output_type": "stream",
     "text": [
      "\n",
      " [460,]"
     ]
    },
    {
     "name": "stdout",
     "output_type": "stream",
     "text": [
      " \"T00830\""
     ]
    },
    {
     "name": "stdout",
     "output_type": "stream",
     "text": [
      " \"585035\"                                        "
     ]
    },
    {
     "name": "stdout",
     "output_type": "stream",
     "text": [
      " \"ecz\"    "
     ]
    },
    {
     "name": "stdout",
     "output_type": "stream",
     "text": [
      "\n",
      " [461,]"
     ]
    },
    {
     "name": "stdout",
     "output_type": "stream",
     "text": [
      " \"T02067\""
     ]
    },
    {
     "name": "stdout",
     "output_type": "stream",
     "text": [
      " \"216592\"                                        "
     ]
    },
    {
     "name": "stdout",
     "output_type": "stream",
     "text": [
      " \"elo\"    "
     ]
    },
    {
     "name": "stdout",
     "output_type": "stream",
     "text": [
      "\n",
      " [462,]"
     ]
    },
    {
     "name": "stdout",
     "output_type": "stream",
     "text": [
      " \"T02068\""
     ]
    },
    {
     "name": "stdout",
     "output_type": "stream",
     "text": [
      " \"685038\"                                        "
     ]
    },
    {
     "name": "stdout",
     "output_type": "stream",
     "text": [
      " \"eln\"    "
     ]
    },
    {
     "name": "stdout",
     "output_type": "stream",
     "text": [
      "\n",
      " [463,]"
     ]
    },
    {
     "name": "stdout",
     "output_type": "stream",
     "text": [
      " \"T02069\""
     ]
    },
    {
     "name": "stdout",
     "output_type": "stream",
     "text": [
      " \"316401\"                                        "
     ]
    },
    {
     "name": "stdout",
     "output_type": "stream",
     "text": [
      " \"elh\"    "
     ]
    },
    {
     "name": "stdout",
     "output_type": "stream",
     "text": [
      "\n",
      " [464,]"
     ]
    },
    {
     "name": "stdout",
     "output_type": "stream",
     "text": [
      " \"T02077\""
     ]
    },
    {
     "name": "stdout",
     "output_type": "stream",
     "text": [
      " \"431946\"                                        "
     ]
    },
    {
     "name": "stdout",
     "output_type": "stream",
     "text": [
      " \"ese\"    "
     ]
    },
    {
     "name": "stdout",
     "output_type": "stream",
     "text": [
      "\n",
      " [465,]"
     ]
    },
    {
     "name": "stdout",
     "output_type": "stream",
     "text": [
      " \"T02256\""
     ]
    },
    {
     "name": "stdout",
     "output_type": "stream",
     "text": [
      " \"1133853\"                                       "
     ]
    },
    {
     "name": "stdout",
     "output_type": "stream",
     "text": [
      " \"eso\"    "
     ]
    },
    {
     "name": "stdout",
     "output_type": "stream",
     "text": [
      "\n",
      " [466,]"
     ]
    },
    {
     "name": "stdout",
     "output_type": "stream",
     "text": [
      " \"T02316\""
     ]
    },
    {
     "name": "stdout",
     "output_type": "stream",
     "text": [
      " \"1134782\"                                       "
     ]
    },
    {
     "name": "stdout",
     "output_type": "stream",
     "text": [
      " \"esm\"    "
     ]
    },
    {
     "name": "stdout",
     "output_type": "stream",
     "text": [
      "\n",
      " [467,]"
     ]
    },
    {
     "name": "stdout",
     "output_type": "stream",
     "text": [
      " \"T02257\""
     ]
    },
    {
     "name": "stdout",
     "output_type": "stream",
     "text": [
      " \"1133852\"                                       "
     ]
    },
    {
     "name": "stdout",
     "output_type": "stream",
     "text": [
      " \"esl\"    "
     ]
    },
    {
     "name": "stdout",
     "output_type": "stream",
     "text": [
      "\n",
      " [468,]"
     ]
    },
    {
     "name": "stdout",
     "output_type": "stream",
     "text": [
      " \"T00697\""
     ]
    },
    {
     "name": "stdout",
     "output_type": "stream",
     "text": [
      " \"481805\"                                        "
     ]
    },
    {
     "name": "stdout",
     "output_type": "stream",
     "text": [
      " \"ecl\"    "
     ]
    },
    {
     "name": "stdout",
     "output_type": "stream",
     "text": [
      "\n",
      " [469,]"
     ]
    },
    {
     "name": "stdout",
     "output_type": "stream",
     "text": [
      " \"T00944\""
     ]
    },
    {
     "name": "stdout",
     "output_type": "stream",
     "text": [
      " \"413997\"                                        "
     ]
    },
    {
     "name": "stdout",
     "output_type": "stream",
     "text": [
      " \"ebr\"    "
     ]
    },
    {
     "name": "stdout",
     "output_type": "stream",
     "text": [
      "\n",
      " [470,]"
     ]
    },
    {
     "name": "stdout",
     "output_type": "stream",
     "text": [
      " \"T00939\""
     ]
    },
    {
     "name": "stdout",
     "output_type": "stream",
     "text": [
      " \"866768\"                                        "
     ]
    },
    {
     "name": "stdout",
     "output_type": "stream",
     "text": [
      " \"ebd\"    "
     ]
    },
    {
     "name": "stdout",
     "output_type": "stream",
     "text": [
      "\n",
      " [471,]"
     ]
    },
    {
     "name": "stdout",
     "output_type": "stream",
     "text": [
      " \"T01718\""
     ]
    },
    {
     "name": "stdout",
     "output_type": "stream",
     "text": [
      " \"595495\"                                        "
     ]
    },
    {
     "name": "stdout",
     "output_type": "stream",
     "text": [
      " \"eko\"    "
     ]
    },
    {
     "name": "stdout",
     "output_type": "stream",
     "text": [
      "\n",
      " [472,]"
     ]
    },
    {
     "name": "stdout",
     "output_type": "stream",
     "text": [
      " \"T02104\""
     ]
    },
    {
     "name": "stdout",
     "output_type": "stream",
     "text": [
      " \"595495\"                                        "
     ]
    },
    {
     "name": "stdout",
     "output_type": "stream",
     "text": [
      " \"ekf\"    "
     ]
    },
    {
     "name": "stdout",
     "output_type": "stream",
     "text": [
      "\n",
      " [473,]"
     ]
    },
    {
     "name": "stdout",
     "output_type": "stream",
     "text": [
      " \"T01995\""
     ]
    },
    {
     "name": "stdout",
     "output_type": "stream",
     "text": [
      " \"655817\"                                        "
     ]
    },
    {
     "name": "stdout",
     "output_type": "stream",
     "text": [
      " \"eab\"    "
     ]
    },
    {
     "name": "stdout",
     "output_type": "stream",
     "text": [
      "\n",
      " [474,]"
     ]
    },
    {
     "name": "stdout",
     "output_type": "stream",
     "text": [
      " \"T01996\""
     ]
    },
    {
     "name": "stdout",
     "output_type": "stream",
     "text": [
      " \"536056\"                                        "
     ]
    },
    {
     "name": "stdout",
     "output_type": "stream",
     "text": [
      " \"edh\"    "
     ]
    },
    {
     "name": "stdout",
     "output_type": "stream",
     "text": [
      "\n",
      " [475,]"
     ]
    },
    {
     "name": "stdout",
     "output_type": "stream",
     "text": [
      " \"T02102\""
     ]
    },
    {
     "name": "stdout",
     "output_type": "stream",
     "text": [
      " \"536056\"                                        "
     ]
    },
    {
     "name": "stdout",
     "output_type": "stream",
     "text": [
      " \"edj\"    "
     ]
    },
    {
     "name": "stdout",
     "output_type": "stream",
     "text": [
      "\n",
      " [476,]"
     ]
    },
    {
     "name": "stdout",
     "output_type": "stream",
     "text": [
      " \"T01997\""
     ]
    },
    {
     "name": "stdout",
     "output_type": "stream",
     "text": [
      " \"714962\"                                        "
     ]
    },
    {
     "name": "stdout",
     "output_type": "stream",
     "text": [
      " \"eih\"    "
     ]
    },
    {
     "name": "stdout",
     "output_type": "stream",
     "text": [
      "\n",
      " [477,]"
     ]
    },
    {
     "name": "stdout",
     "output_type": "stream",
     "text": [
      " \"T01998\""
     ]
    },
    {
     "name": "stdout",
     "output_type": "stream",
     "text": [
      " \"1033813\"                                       "
     ]
    },
    {
     "name": "stdout",
     "output_type": "stream",
     "text": [
      " \"ena\"    "
     ]
    },
    {
     "name": "stdout",
     "output_type": "stream",
     "text": [
      "\n",
      " [478,]"
     ]
    },
    {
     "name": "stdout",
     "output_type": "stream",
     "text": [
      " \"T02000\""
     ]
    },
    {
     "name": "stdout",
     "output_type": "stream",
     "text": [
      " \"869729\"                                        "
     ]
    },
    {
     "name": "stdout",
     "output_type": "stream",
     "text": [
      " \"elu\"    "
     ]
    },
    {
     "name": "stdout",
     "output_type": "stream",
     "text": [
      "\n",
      " [479,]"
     ]
    },
    {
     "name": "stdout",
     "output_type": "stream",
     "text": [
      " \"T02001\""
     ]
    },
    {
     "name": "stdout",
     "output_type": "stream",
     "text": [
      " \"696406\"                                        "
     ]
    },
    {
     "name": "stdout",
     "output_type": "stream",
     "text": [
      " \"eun\"    "
     ]
    },
    {
     "name": "stdout",
     "output_type": "stream",
     "text": [
      "\n",
      " [480,]"
     ]
    },
    {
     "name": "stdout",
     "output_type": "stream",
     "text": [
      " \"T02002\""
     ]
    },
    {
     "name": "stdout",
     "output_type": "stream",
     "text": [
      " \"566546\"                                        "
     ]
    },
    {
     "name": "stdout",
     "output_type": "stream",
     "text": [
      " \"elw\"    "
     ]
    },
    {
     "name": "stdout",
     "output_type": "stream",
     "text": [
      "\n",
      " [481,]"
     ]
    },
    {
     "name": "stdout",
     "output_type": "stream",
     "text": [
      " \"T02101\""
     ]
    },
    {
     "name": "stdout",
     "output_type": "stream",
     "text": [
      " \"566546\"                                        "
     ]
    },
    {
     "name": "stdout",
     "output_type": "stream",
     "text": [
      " \"ell\"    "
     ]
    },
    {
     "name": "stdout",
     "output_type": "stream",
     "text": [
      "\n",
      " [482,]"
     ]
    },
    {
     "name": "stdout",
     "output_type": "stream",
     "text": [
      " \"T02003\""
     ]
    },
    {
     "name": "stdout",
     "output_type": "stream",
     "text": [
      " \"885275\"                                        "
     ]
    },
    {
     "name": "stdout",
     "output_type": "stream",
     "text": [
      " \"elc\"    "
     ]
    },
    {
     "name": "stdout",
     "output_type": "stream",
     "text": [
      "\n",
      " [483,]"
     ]
    },
    {
     "name": "stdout",
     "output_type": "stream",
     "text": [
      " \"T02004\""
     ]
    },
    {
     "name": "stdout",
     "output_type": "stream",
     "text": [
      " \"885276\"                                        "
     ]
    },
    {
     "name": "stdout",
     "output_type": "stream",
     "text": [
      " \"eld\"    "
     ]
    },
    {
     "name": "stdout",
     "output_type": "stream",
     "text": [
      "\n",
      " [484,]"
     ]
    },
    {
     "name": "stdout",
     "output_type": "stream",
     "text": [
      " \"T02030\""
     ]
    },
    {
     "name": "stdout",
     "output_type": "stream",
     "text": [
      " \"910348\"                                        "
     ]
    },
    {
     "name": "stdout",
     "output_type": "stream",
     "text": [
      " \"elp\"    "
     ]
    },
    {
     "name": "stdout",
     "output_type": "stream",
     "text": [
      "\n",
      " [485,]"
     ]
    },
    {
     "name": "stdout",
     "output_type": "stream",
     "text": [
      " \"T00931\""
     ]
    },
    {
     "name": "stdout",
     "output_type": "stream",
     "text": [
      " \"469008\"                                        "
     ]
    },
    {
     "name": "stdout",
     "output_type": "stream",
     "text": [
      " \"ebl\"    "
     ]
    },
    {
     "name": "stdout",
     "output_type": "stream",
     "text": [
      "\n",
      " [486,]"
     ]
    },
    {
     "name": "stdout",
     "output_type": "stream",
     "text": [
      " \"T02096\""
     ]
    },
    {
     "name": "stdout",
     "output_type": "stream",
     "text": [
      " \"469008\"                                        "
     ]
    },
    {
     "name": "stdout",
     "output_type": "stream",
     "text": [
      " \"ebe\"    "
     ]
    },
    {
     "name": "stdout",
     "output_type": "stream",
     "text": [
      "\n",
      " [487,]"
     ]
    },
    {
     "name": "stdout",
     "output_type": "stream",
     "text": [
      " \"T00854\""
     ]
    },
    {
     "name": "stdout",
     "output_type": "stream",
     "text": [
      " \"591946\"                                        "
     ]
    },
    {
     "name": "stdout",
     "output_type": "stream",
     "text": [
      " \"elf\"    "
     ]
    },
    {
     "name": "stdout",
     "output_type": "stream",
     "text": [
      "\n",
      " [488,]"
     ]
    },
    {
     "name": "stdout",
     "output_type": "stream",
     "text": [
      " \"T02445\""
     ]
    },
    {
     "name": "stdout",
     "output_type": "stream",
     "text": [
      " \"1274814\"                                       "
     ]
    },
    {
     "name": "stdout",
     "output_type": "stream",
     "text": [
      " \"ecoa\"   "
     ]
    },
    {
     "name": "stdout",
     "output_type": "stream",
     "text": [
      "\n",
      " [489,]"
     ]
    },
    {
     "name": "stdout",
     "output_type": "stream",
     "text": [
      " \"T02846\""
     ]
    },
    {
     "name": "stdout",
     "output_type": "stream",
     "text": [
      " \"1335916\"                                       "
     ]
    },
    {
     "name": "stdout",
     "output_type": "stream",
     "text": [
      " \"ecol\"   "
     ]
    },
    {
     "name": "stdout",
     "output_type": "stream",
     "text": [
      "\n",
      " [490,]"
     ]
    },
    {
     "name": "stdout",
     "output_type": "stream",
     "text": [
      " \"T02847\""
     ]
    },
    {
     "name": "stdout",
     "output_type": "stream",
     "text": [
      " \"1382700\"                                       "
     ]
    },
    {
     "name": "stdout",
     "output_type": "stream",
     "text": [
      " \"ecoi\"   "
     ]
    },
    {
     "name": "stdout",
     "output_type": "stream",
     "text": [
      "\n",
      " [491,]"
     ]
    },
    {
     "name": "stdout",
     "output_type": "stream",
     "text": [
      " \"T02896\""
     ]
    },
    {
     "name": "stdout",
     "output_type": "stream",
     "text": [
      " \"1355100\"                                       "
     ]
    },
    {
     "name": "stdout",
     "output_type": "stream",
     "text": [
      " \"ecoj\"   "
     ]
    },
    {
     "name": "stdout",
     "output_type": "stream",
     "text": [
      "\n",
      " [492,]"
     ]
    },
    {
     "name": "stdout",
     "output_type": "stream",
     "text": [
      " \"T03010\""
     ]
    },
    {
     "name": "stdout",
     "output_type": "stream",
     "text": [
      " \"1248902\"                                       "
     ]
    },
    {
     "name": "stdout",
     "output_type": "stream",
     "text": [
      " \"ecoo\"   "
     ]
    },
    {
     "name": "stdout",
     "output_type": "stream",
     "text": [
      "\n",
      " [493,]"
     ]
    },
    {
     "name": "stdout",
     "output_type": "stream",
     "text": [
      " \"T03011\""
     ]
    },
    {
     "name": "stdout",
     "output_type": "stream",
     "text": [
      " \"1248915\"                                       "
     ]
    },
    {
     "name": "stdout",
     "output_type": "stream",
     "text": [
      " \"ecoh\"   "
     ]
    },
    {
     "name": "stdout",
     "output_type": "stream",
     "text": [
      "\n",
      " [494,]"
     ]
    },
    {
     "name": "stdout",
     "output_type": "stream",
     "text": [
      " \"T04373\""
     ]
    },
    {
     "name": "stdout",
     "output_type": "stream",
     "text": [
      " \"941322\"                                        "
     ]
    },
    {
     "name": "stdout",
     "output_type": "stream",
     "text": [
      " \"ecos\"   "
     ]
    },
    {
     "name": "stdout",
     "output_type": "stream",
     "text": [
      "\n",
      " [495,]"
     ]
    },
    {
     "name": "stdout",
     "output_type": "stream",
     "text": [
      " \"T00811\""
     ]
    },
    {
     "name": "stdout",
     "output_type": "stream",
     "text": [
      " \"585054\"                                        "
     ]
    },
    {
     "name": "stdout",
     "output_type": "stream",
     "text": [
      " \"efe\"    "
     ]
    },
    {
     "name": "stdout",
     "output_type": "stream",
     "text": [
      "\n",
      " [496,]"
     ]
    },
    {
     "name": "stdout",
     "output_type": "stream",
     "text": [
      " \"T03986\""
     ]
    },
    {
     "name": "stdout",
     "output_type": "stream",
     "text": [
      " \"1440052\"                                       "
     ]
    },
    {
     "name": "stdout",
     "output_type": "stream",
     "text": [
      " \"eal\"    "
     ]
    },
    {
     "name": "stdout",
     "output_type": "stream",
     "text": [
      "\n",
      " [497,]"
     ]
    },
    {
     "name": "stdout",
     "output_type": "stream",
     "text": [
      " \"T00064\""
     ]
    },
    {
     "name": "stdout",
     "output_type": "stream",
     "text": [
      " \"220341\"                                        "
     ]
    },
    {
     "name": "stdout",
     "output_type": "stream",
     "text": [
      " \"sty\"    "
     ]
    },
    {
     "name": "stdout",
     "output_type": "stream",
     "text": [
      "\n",
      " [498,]"
     ]
    },
    {
     "name": "stdout",
     "output_type": "stream",
     "text": [
      " \"T00121\""
     ]
    },
    {
     "name": "stdout",
     "output_type": "stream",
     "text": [
      " \"209261\"                                        "
     ]
    },
    {
     "name": "stdout",
     "output_type": "stream",
     "text": [
      " \"stt\"    "
     ]
    },
    {
     "name": "stdout",
     "output_type": "stream",
     "text": [
      "\n",
      " [499,]"
     ]
    },
    {
     "name": "stdout",
     "output_type": "stream",
     "text": [
      " \"T01741\""
     ]
    },
    {
     "name": "stdout",
     "output_type": "stream",
     "text": [
      " \"1132507\"                                       "
     ]
    },
    {
     "name": "stdout",
     "output_type": "stream",
     "text": [
      " \"sex\"    "
     ]
    },
    {
     "name": "stdout",
     "output_type": "stream",
     "text": [
      "\n",
      " [500,]"
     ]
    },
    {
     "name": "stdout",
     "output_type": "stream",
     "text": [
      " \"T02648\""
     ]
    },
    {
     "name": "stdout",
     "output_type": "stream",
     "text": [
      " \"527001\"                                        "
     ]
    },
    {
     "name": "stdout",
     "output_type": "stream",
     "text": [
      " \"sent\"   "
     ]
    },
    {
     "name": "stdout",
     "output_type": "stream",
     "text": [
      "\n",
      " [501,]"
     ]
    },
    {
     "name": "stdout",
     "output_type": "stream",
     "text": [
      " \"T00065\""
     ]
    },
    {
     "name": "stdout",
     "output_type": "stream",
     "text": [
      " \"99287\"                                         "
     ]
    },
    {
     "name": "stdout",
     "output_type": "stream",
     "text": [
      " \"stm\"    "
     ]
    },
    {
     "name": "stdout",
     "output_type": "stream",
     "text": [
      "\n",
      " [502,]"
     ]
    },
    {
     "name": "stdout",
     "output_type": "stream",
     "text": [
      " \"T01714\""
     ]
    },
    {
     "name": "stdout",
     "output_type": "stream",
     "text": [
      " \"588858\"                                        "
     ]
    },
    {
     "name": "stdout",
     "output_type": "stream",
     "text": [
      " \"seo\"    "
     ]
    },
    {
     "name": "stdout",
     "output_type": "stream",
     "text": [
      "\n",
      " [503,]"
     ]
    },
    {
     "name": "stdout",
     "output_type": "stream",
     "text": [
      " \"T01715\""
     ]
    },
    {
     "name": "stdout",
     "output_type": "stream",
     "text": [
      " \"568708\"                                        "
     ]
    },
    {
     "name": "stdout",
     "output_type": "stream",
     "text": [
      " \"sev\"    "
     ]
    },
    {
     "name": "stdout",
     "output_type": "stream",
     "text": [
      "\n",
      " [504,]"
     ]
    },
    {
     "name": "stdout",
     "output_type": "stream",
     "text": [
      " \"T01724\""
     ]
    },
    {
     "name": "stdout",
     "output_type": "stream",
     "text": [
      " \"216597\"                                        "
     ]
    },
    {
     "name": "stdout",
     "output_type": "stream",
     "text": [
      " \"sey\"    "
     ]
    },
    {
     "name": "stdout",
     "output_type": "stream",
     "text": [
      "\n",
      " [505,]"
     ]
    },
    {
     "name": "stdout",
     "output_type": "stream",
     "text": [
      " \"T01742\""
     ]
    },
    {
     "name": "stdout",
     "output_type": "stream",
     "text": [
      " \"718274\"                                        "
     ]
    },
    {
     "name": "stdout",
     "output_type": "stream",
     "text": [
      " \"sem\"    "
     ]
    },
    {
     "name": "stdout",
     "output_type": "stream",
     "text": [
      "\n",
      " [506,]"
     ]
    },
    {
     "name": "stdout",
     "output_type": "stream",
     "text": [
      " \"T01743\""
     ]
    },
    {
     "name": "stdout",
     "output_type": "stream",
     "text": [
      " \"990282\"                                        "
     ]
    },
    {
     "name": "stdout",
     "output_type": "stream",
     "text": [
      " \"sej\"    "
     ]
    },
    {
     "name": "stdout",
     "output_type": "stream",
     "text": [
      "\n",
      " [507,]"
     ]
    },
    {
     "name": "stdout",
     "output_type": "stream",
     "text": [
      " \"T01760\""
     ]
    },
    {
     "name": "stdout",
     "output_type": "stream",
     "text": [
      " \"909946\"                                        "
     ]
    },
    {
     "name": "stdout",
     "output_type": "stream",
     "text": [
      " \"seb\"    "
     ]
    },
    {
     "name": "stdout",
     "output_type": "stream",
     "text": [
      "\n",
      " [508,]"
     ]
    },
    {
     "name": "stdout",
     "output_type": "stream",
     "text": [
      " \"T01782\""
     ]
    },
    {
     "name": "stdout",
     "output_type": "stream",
     "text": [
      " \"1008297\"                                       "
     ]
    },
    {
     "name": "stdout",
     "output_type": "stream",
     "text": [
      " \"sef\"    "
     ]
    },
    {
     "name": "stdout",
     "output_type": "stream",
     "text": [
      "\n",
      " [509,]"
     ]
    },
    {
     "name": "stdout",
     "output_type": "stream",
     "text": [
      " \"T02639\""
     ]
    },
    {
     "name": "stdout",
     "output_type": "stream",
     "text": [
      " \"1171376\"                                       "
     ]
    },
    {
     "name": "stdout",
     "output_type": "stream",
     "text": [
      " \"setu\"   "
     ]
    },
    {
     "name": "stdout",
     "output_type": "stream",
     "text": [
      "\n",
      " [510,]"
     ]
    },
    {
     "name": "stdout",
     "output_type": "stream",
     "text": [
      " \"T02737\""
     ]
    },
    {
     "name": "stdout",
     "output_type": "stream",
     "text": [
      " \"1271862\"                                       "
     ]
    },
    {
     "name": "stdout",
     "output_type": "stream",
     "text": [
      " \"setc\"   "
     ]
    },
    {
     "name": "stdout",
     "output_type": "stream",
     "text": [
      "\n",
      " [511,]"
     ]
    },
    {
     "name": "stdout",
     "output_type": "stream",
     "text": [
      " \"T02869\""
     ]
    },
    {
     "name": "stdout",
     "output_type": "stream",
     "text": [
      " \"568709\"                                        "
     ]
    },
    {
     "name": "stdout",
     "output_type": "stream",
     "text": [
      " \"senr\"   "
     ]
    },
    {
     "name": "stdout",
     "output_type": "stream",
     "text": [
      "\n",
      " [512,]"
     ]
    },
    {
     "name": "stdout",
     "output_type": "stream",
     "text": [
      " \"T02874\""
     ]
    },
    {
     "name": "stdout",
     "output_type": "stream",
     "text": [
      " \"85569\"                                         "
     ]
    },
    {
     "name": "stdout",
     "output_type": "stream",
     "text": [
      " \"send\"   "
     ]
    },
    {
     "name": "stdout",
     "output_type": "stream",
     "text": [
      "\n",
      " [513,]"
     ]
    },
    {
     "name": "stdout",
     "output_type": "stream",
     "text": [
      " \"T03493\""
     ]
    },
    {
     "name": "stdout",
     "output_type": "stream",
     "text": [
      " \"90371\"                                         "
     ]
    },
    {
     "name": "stdout",
     "output_type": "stream",
     "text": [
      " \"seni\"   "
     ]
    },
    {
     "name": "stdout",
     "output_type": "stream",
     "text": [
      "\n",
      " [514,]"
     ]
    },
    {
     "name": "stdout",
     "output_type": "stream",
     "text": [
      " \"T02738\""
     ]
    },
    {
     "name": "stdout",
     "output_type": "stream",
     "text": [
      " \"866913\"                                        "
     ]
    },
    {
     "name": "stdout",
     "output_type": "stream",
     "text": [
      " \"seen\"   "
     ]
    },
    {
     "name": "stdout",
     "output_type": "stream",
     "text": [
      "\n",
      " [515,]"
     ]
    },
    {
     "name": "stdout",
     "output_type": "stream",
     "text": [
      " \"T00219\""
     ]
    },
    {
     "name": "stdout",
     "output_type": "stream",
     "text": [
      " \"295319\"                                        "
     ]
    },
    {
     "name": "stdout",
     "output_type": "stream",
     "text": [
      " \"spt\"    "
     ]
    },
    {
     "name": "stdout",
     "output_type": "stream",
     "text": [
      "\n",
      " [516,]"
     ]
    },
    {
     "name": "stdout",
     "output_type": "stream",
     "text": [
      " \"T00756\""
     ]
    },
    {
     "name": "stdout",
     "output_type": "stream",
     "text": [
      " \"554290\"                                        "
     ]
    },
    {
     "name": "stdout",
     "output_type": "stream",
     "text": [
      " \"sek\"    "
     ]
    },
    {
     "name": "stdout",
     "output_type": "stream",
     "text": [
      "\n",
      " [517,]"
     ]
    },
    {
     "name": "stdout",
     "output_type": "stream",
     "text": [
      " \"T00628\""
     ]
    },
    {
     "name": "stdout",
     "output_type": "stream",
     "text": [
      " \"1016998\"                                       "
     ]
    },
    {
     "name": "stdout",
     "output_type": "stream",
     "text": [
      " \"spq\"    "
     ]
    },
    {
     "name": "stdout",
     "output_type": "stream",
     "text": [
      "\n",
      " [518,]"
     ]
    },
    {
     "name": "stdout",
     "output_type": "stream",
     "text": [
      " \"T00862\""
     ]
    },
    {
     "name": "stdout",
     "output_type": "stream",
     "text": [
      " \"476213\"                                        "
     ]
    },
    {
     "name": "stdout",
     "output_type": "stream",
     "text": [
      " \"sei\"    "
     ]
    },
    {
     "name": "stdout",
     "output_type": "stream",
     "text": [
      "\n",
      " [519,]"
     ]
    },
    {
     "name": "stdout",
     "output_type": "stream",
     "text": [
      " \"T00240\""
     ]
    },
    {
     "name": "stdout",
     "output_type": "stream",
     "text": [
      " \"321314\"                                        "
     ]
    },
    {
     "name": "stdout",
     "output_type": "stream",
     "text": [
      " \"sec\"    "
     ]
    },
    {
     "name": "stdout",
     "output_type": "stream",
     "text": [
      "\n",
      " [520,]"
     ]
    },
    {
     "name": "stdout",
     "output_type": "stream",
     "text": [
      " \"T00738\""
     ]
    },
    {
     "name": "stdout",
     "output_type": "stream",
     "text": [
      " \"454169\"                                        "
     ]
    },
    {
     "name": "stdout",
     "output_type": "stream",
     "text": [
      " \"seh\"    "
     ]
    },
    {
     "name": "stdout",
     "output_type": "stream",
     "text": [
      "\n",
      " [521,]"
     ]
    },
    {
     "name": "stdout",
     "output_type": "stream",
     "text": [
      " \"T02011\""
     ]
    },
    {
     "name": "stdout",
     "output_type": "stream",
     "text": [
      " \"1160717\"                                       "
     ]
    },
    {
     "name": "stdout",
     "output_type": "stream",
     "text": [
      " \"shb\"    "
     ]
    },
    {
     "name": "stdout",
     "output_type": "stream",
     "text": [
      "\n",
      " [522,]"
     ]
    },
    {
     "name": "stdout",
     "output_type": "stream",
     "text": [
      " \"T02735\""
     ]
    },
    {
     "name": "stdout",
     "output_type": "stream",
     "text": [
      " \"1271864\"                                       "
     ]
    },
    {
     "name": "stdout",
     "output_type": "stream",
     "text": [
      " \"senh\"   "
     ]
    },
    {
     "name": "stdout",
     "output_type": "stream",
     "text": [
      "\n",
      " [523,]"
     ]
    },
    {
     "name": "stdout",
     "output_type": "stream",
     "text": [
      " \"T02736\""
     ]
    },
    {
     "name": "stdout",
     "output_type": "stream",
     "text": [
      " \"1124936\"                                       "
     ]
    },
    {
     "name": "stdout",
     "output_type": "stream",
     "text": [
      " \"seeh\"   "
     ]
    },
    {
     "name": "stdout",
     "output_type": "stream",
     "text": [
      "\n",
      " [524,]"
     ]
    },
    {
     "name": "stdout",
     "output_type": "stream",
     "text": [
      " \"T00739\""
     ]
    },
    {
     "name": "stdout",
     "output_type": "stream",
     "text": [
      " \"423368\"                                        "
     ]
    },
    {
     "name": "stdout",
     "output_type": "stream",
     "text": [
      " \"see\"    "
     ]
    },
    {
     "name": "stdout",
     "output_type": "stream",
     "text": [
      "\n",
      " [525,]"
     ]
    },
    {
     "name": "stdout",
     "output_type": "stream",
     "text": [
      " \"T02779\""
     ]
    },
    {
     "name": "stdout",
     "output_type": "stream",
     "text": [
      " \"877468\"                                        "
     ]
    },
    {
     "name": "stdout",
     "output_type": "stream",
     "text": [
      " \"senn\"   "
     ]
    },
    {
     "name": "stdout",
     "output_type": "stream",
     "text": [
      "\n",
      " [526,]"
     ]
    },
    {
     "name": "stdout",
     "output_type": "stream",
     "text": [
      " \"T00743\""
     ]
    },
    {
     "name": "stdout",
     "output_type": "stream",
     "text": [
      " \"439843\"                                        "
     ]
    },
    {
     "name": "stdout",
     "output_type": "stream",
     "text": [
      " \"sew\"    "
     ]
    },
    {
     "name": "stdout",
     "output_type": "stream",
     "text": [
      "\n",
      " [527,]"
     ]
    },
    {
     "name": "stdout",
     "output_type": "stream",
     "text": [
      " \"T00751\""
     ]
    },
    {
     "name": "stdout",
     "output_type": "stream",
     "text": [
      " \"454166\"                                        "
     ]
    },
    {
     "name": "stdout",
     "output_type": "stream",
     "text": [
      " \"sea\"    "
     ]
    },
    {
     "name": "stdout",
     "output_type": "stream",
     "text": [
      "\n",
      " [528,]"
     ]
    },
    {
     "name": "stdout",
     "output_type": "stream",
     "text": [
      " \"T02944\""
     ]
    },
    {
     "name": "stdout",
     "output_type": "stream",
     "text": [
      " \"1406860\"                                       "
     ]
    },
    {
     "name": "stdout",
     "output_type": "stream",
     "text": [
      " \"sens\"   "
     ]
    },
    {
     "name": "stdout",
     "output_type": "stream",
     "text": [
      "\n",
      " [529,]"
     ]
    },
    {
     "name": "stdout",
     "output_type": "stream",
     "text": [
      " \"T00757\""
     ]
    },
    {
     "name": "stdout",
     "output_type": "stream",
     "text": [
      " \"439851\"                                        "
     ]
    },
    {
     "name": "stdout",
     "output_type": "stream",
     "text": [
      " \"sed\"    "
     ]
    },
    {
     "name": "stdout",
     "output_type": "stream",
     "text": [
      "\n",
      " [530,]"
     ]
    },
    {
     "name": "stdout",
     "output_type": "stream",
     "text": [
      " \"T00770\""
     ]
    },
    {
     "name": "stdout",
     "output_type": "stream",
     "text": [
      " \"550538\"                                        "
     ]
    },
    {
     "name": "stdout",
     "output_type": "stream",
     "text": [
      " \"seg\"    "
     ]
    },
    {
     "name": "stdout",
     "output_type": "stream",
     "text": [
      "\n",
      " [531,]"
     ]
    },
    {
     "name": "stdout",
     "output_type": "stream",
     "text": [
      " \"T01740\""
     ]
    },
    {
     "name": "stdout",
     "output_type": "stream",
     "text": [
      " \"1081093\"                                       "
     ]
    },
    {
     "name": "stdout",
     "output_type": "stream",
     "text": [
      " \"sel\"    "
     ]
    },
    {
     "name": "stdout",
     "output_type": "stream",
     "text": [
      "\n",
      " [532,]"
     ]
    },
    {
     "name": "stdout",
     "output_type": "stream",
     "text": [
      " \"T02824\""
     ]
    },
    {
     "name": "stdout",
     "output_type": "stream",
     "text": [
      " \"1225522\"                                       "
     ]
    },
    {
     "name": "stdout",
     "output_type": "stream",
     "text": [
      " \"sega\"   "
     ]
    },
    {
     "name": "stdout",
     "output_type": "stream",
     "text": [
      "\n",
      " [533,]"
     ]
    },
    {
     "name": "stdout",
     "output_type": "stream",
     "text": [
      " \"T00776\""
     ]
    },
    {
     "name": "stdout",
     "output_type": "stream",
     "text": [
      " \"550537\"                                        "
     ]
    },
    {
     "name": "stdout",
     "output_type": "stream",
     "text": [
      " \"set\"    "
     ]
    },
    {
     "name": "stdout",
     "output_type": "stream",
     "text": [
      "\n",
      " [534,]"
     ]
    },
    {
     "name": "stdout",
     "output_type": "stream",
     "text": [
      " \"T03731\""
     ]
    },
    {
     "name": "stdout",
     "output_type": "stream",
     "text": [
      " \"1412460\"                                       "
     ]
    },
    {
     "name": "stdout",
     "output_type": "stream",
     "text": [
      " \"sena\"   "
     ]
    },
    {
     "name": "stdout",
     "output_type": "stream",
     "text": [
      "\n",
      " [535,]"
     ]
    },
    {
     "name": "stdout",
     "output_type": "stream",
     "text": [
      " \"T03732\""
     ]
    },
    {
     "name": "stdout",
     "output_type": "stream",
     "text": [
      " \"1412459\"                                       "
     ]
    },
    {
     "name": "stdout",
     "output_type": "stream",
     "text": [
      " \"seno\"   "
     ]
    },
    {
     "name": "stdout",
     "output_type": "stream",
     "text": [
      "\n",
      " [536,]"
     ]
    },
    {
     "name": "stdout",
     "output_type": "stream",
     "text": [
      " \"T03760\""
     ]
    },
    {
     "name": "stdout",
     "output_type": "stream",
     "text": [
      " \"1412461\"                                       "
     ]
    },
    {
     "name": "stdout",
     "output_type": "stream",
     "text": [
      " \"senv\"   "
     ]
    },
    {
     "name": "stdout",
     "output_type": "stream",
     "text": [
      "\n",
      " [537,]"
     ]
    },
    {
     "name": "stdout",
     "output_type": "stream",
     "text": [
      " \"T03761\""
     ]
    },
    {
     "name": "stdout",
     "output_type": "stream",
     "text": [
      " \"1412462\"                                       "
     ]
    },
    {
     "name": "stdout",
     "output_type": "stream",
     "text": [
      " \"senq\"   "
     ]
    },
    {
     "name": "stdout",
     "output_type": "stream",
     "text": [
      "\n",
      " [538,]"
     ]
    },
    {
     "name": "stdout",
     "output_type": "stream",
     "text": [
      " \"T03817\""
     ]
    },
    {
     "name": "stdout",
     "output_type": "stream",
     "text": [
      " \"149539\"                                        "
     ]
    },
    {
     "name": "stdout",
     "output_type": "stream",
     "text": [
      " \"senl\"   "
     ]
    },
    {
     "name": "stdout",
     "output_type": "stream",
     "text": [
      "\n",
      " [539,]"
     ]
    },
    {
     "name": "stdout",
     "output_type": "stream",
     "text": [
      " \"T02479\""
     ]
    },
    {
     "name": "stdout",
     "output_type": "stream",
     "text": [
      " \"1267753\"                                       "
     ]
    },
    {
     "name": "stdout",
     "output_type": "stream",
     "text": [
      " \"senj\"   "
     ]
    },
    {
     "name": "stdout",
     "output_type": "stream",
     "text": [
      "\n",
      " [540,]"
     ]
    },
    {
     "name": "stdout",
     "output_type": "stream",
     "text": [
      " \"T02734\""
     ]
    },
    {
     "name": "stdout",
     "output_type": "stream",
     "text": [
      " \"1271863\"                                       "
     ]
    },
    {
     "name": "stdout",
     "output_type": "stream",
     "text": [
      " \"seec\"   "
     ]
    },
    {
     "name": "stdout",
     "output_type": "stream",
     "text": [
      "\n",
      " [541,]"
     ]
    },
    {
     "name": "stdout",
     "output_type": "stream",
     "text": [
      " \"T02739\""
     ]
    },
    {
     "name": "stdout",
     "output_type": "stream",
     "text": [
      " \"1173427\"                                       "
     ]
    },
    {
     "name": "stdout",
     "output_type": "stream",
     "text": [
      " \"seeb\"   "
     ]
    },
    {
     "name": "stdout",
     "output_type": "stream",
     "text": [
      "\n",
      " [542,]"
     ]
    },
    {
     "name": "stdout",
     "output_type": "stream",
     "text": [
      " \"T02790\""
     ]
    },
    {
     "name": "stdout",
     "output_type": "stream",
     "text": [
      " \"1298917\"                                       "
     ]
    },
    {
     "name": "stdout",
     "output_type": "stream",
     "text": [
      " \"seep\"   "
     ]
    },
    {
     "name": "stdout",
     "output_type": "stream",
     "text": [
      "\n",
      " [543,]"
     ]
    },
    {
     "name": "stdout",
     "output_type": "stream",
     "text": [
      " \"T02827\""
     ]
    },
    {
     "name": "stdout",
     "output_type": "stream",
     "text": [
      " \"1320309\"                                       "
     ]
    },
    {
     "name": "stdout",
     "output_type": "stream",
     "text": [
      " \"senb\"   "
     ]
    },
    {
     "name": "stdout",
     "output_type": "stream",
     "text": [
      "\n",
      " [544,]"
     ]
    },
    {
     "name": "stdout",
     "output_type": "stream",
     "text": [
      " \"T02868\""
     ]
    },
    {
     "name": "stdout",
     "output_type": "stream",
     "text": [
      " \"1064551\"                                       "
     ]
    },
    {
     "name": "stdout",
     "output_type": "stream",
     "text": [
      " \"sene\"   "
     ]
    },
    {
     "name": "stdout",
     "output_type": "stream",
     "text": [
      "\n",
      " [545,]"
     ]
    },
    {
     "name": "stdout",
     "output_type": "stream",
     "text": [
      " \"T03730\""
     ]
    },
    {
     "name": "stdout",
     "output_type": "stream",
     "text": [
      " \"1003191\"                                       "
     ]
    },
    {
     "name": "stdout",
     "output_type": "stream",
     "text": [
      " \"senc\"   "
     ]
    },
    {
     "name": "stdout",
     "output_type": "stream",
     "text": [
      "\n",
      " [546,]"
     ]
    },
    {
     "name": "stdout",
     "output_type": "stream",
     "text": [
      " \"T00627\""
     ]
    },
    {
     "name": "stdout",
     "output_type": "stream",
     "text": [
      " \"41514\"                                         "
     ]
    },
    {
     "name": "stdout",
     "output_type": "stream",
     "text": [
      " \"ses\"    "
     ]
    },
    {
     "name": "stdout",
     "output_type": "stream",
     "text": [
      "\n",
      " [547,]"
     ]
    },
    {
     "name": "stdout",
     "output_type": "stream",
     "text": [
      " \"T01579\""
     ]
    },
    {
     "name": "stdout",
     "output_type": "stream",
     "text": [
      " \"218493\"                                        "
     ]
    },
    {
     "name": "stdout",
     "output_type": "stream",
     "text": [
      " \"sbg\"    "
     ]
    },
    {
     "name": "stdout",
     "output_type": "stream",
     "text": [
      "\n",
      " [548,]"
     ]
    },
    {
     "name": "stdout",
     "output_type": "stream",
     "text": [
      " \"T02733\""
     ]
    },
    {
     "name": "stdout",
     "output_type": "stream",
     "text": [
      " \"1197719\"                                       "
     ]
    },
    {
     "name": "stdout",
     "output_type": "stream",
     "text": [
      " \"sbz\"    "
     ]
    },
    {
     "name": "stdout",
     "output_type": "stream",
     "text": [
      "\n",
      " [549,]"
     ]
    },
    {
     "name": "stdout",
     "output_type": "stream",
     "text": [
      " \"T03249\""
     ]
    },
    {
     "name": "stdout",
     "output_type": "stream",
     "text": [
      " \"1382510\"                                       "
     ]
    },
    {
     "name": "stdout",
     "output_type": "stream",
     "text": [
      " \"sbv\"    "
     ]
    },
    {
     "name": "stdout",
     "output_type": "stream",
     "text": [
      "\n",
      " [550,]"
     ]
    },
    {
     "name": "stdout",
     "output_type": "stream",
     "text": [
      " \"T00097\""
     ]
    },
    {
     "name": "stdout",
     "output_type": "stream",
     "text": [
      " \"198214\"                                        "
     ]
    },
    {
     "name": "stdout",
     "output_type": "stream",
     "text": [
      " \"sfl\"    "
     ]
    },
    {
     "name": "stdout",
     "output_type": "stream",
     "text": [
      "\n",
      " [551,]"
     ]
    },
    {
     "name": "stdout",
     "output_type": "stream",
     "text": [
      " \"T00128\""
     ]
    },
    {
     "name": "stdout",
     "output_type": "stream",
     "text": [
      " \"198215\"                                        "
     ]
    },
    {
     "name": "stdout",
     "output_type": "stream",
     "text": [
      " \"sfx\"    "
     ]
    },
    {
     "name": "stdout",
     "output_type": "stream",
     "text": [
      "\n",
      " [552,]"
     ]
    },
    {
     "name": "stdout",
     "output_type": "stream",
     "text": [
      " \"T00377\""
     ]
    },
    {
     "name": "stdout",
     "output_type": "stream",
     "text": [
      " \"373384\"                                        "
     ]
    },
    {
     "name": "stdout",
     "output_type": "stream",
     "text": [
      " \"sfv\"    "
     ]
    },
    {
     "name": "stdout",
     "output_type": "stream",
     "text": [
      "\n",
      " [553,]"
     ]
    },
    {
     "name": "stdout",
     "output_type": "stream",
     "text": [
      " \"T01883\""
     ]
    },
    {
     "name": "stdout",
     "output_type": "stream",
     "text": [
      " \"591020\"                                        "
     ]
    },
    {
     "name": "stdout",
     "output_type": "stream",
     "text": [
      " \"sfe\"    "
     ]
    },
    {
     "name": "stdout",
     "output_type": "stream",
     "text": [
      "\n",
      " [554,]"
     ]
    },
    {
     "name": "stdout",
     "output_type": "stream",
     "text": [
      " \"T03267\""
     ]
    },
    {
     "name": "stdout",
     "output_type": "stream",
     "text": [
      " \"1282357\"                                       "
     ]
    },
    {
     "name": "stdout",
     "output_type": "stream",
     "text": [
      " \"sfn\"    "
     ]
    },
    {
     "name": "stdout",
     "output_type": "stream",
     "text": [
      "\n",
      " [555,]"
     ]
    },
    {
     "name": "stdout",
     "output_type": "stream",
     "text": [
      " \"T03315\""
     ]
    },
    {
     "name": "stdout",
     "output_type": "stream",
     "text": [
      " \"1282358\"                                       "
     ]
    },
    {
     "name": "stdout",
     "output_type": "stream",
     "text": [
      " \"sfs\"    "
     ]
    },
    {
     "name": "stdout",
     "output_type": "stream",
     "text": [
      "\n",
      " [556,]"
     ]
    },
    {
     "name": "stdout",
     "output_type": "stream",
     "text": [
      " \"T03751\""
     ]
    },
    {
     "name": "stdout",
     "output_type": "stream",
     "text": [
      " \"623\"                                           "
     ]
    },
    {
     "name": "stdout",
     "output_type": "stream",
     "text": [
      " \"sft\"    "
     ]
    },
    {
     "name": "stdout",
     "output_type": "stream",
     "text": [
      "\n",
      " [557,]"
     ]
    },
    {
     "name": "stdout",
     "output_type": "stream",
     "text": [
      " \"T00274\""
     ]
    },
    {
     "name": "stdout",
     "output_type": "stream",
     "text": [
      " \"300269\"                                        "
     ]
    },
    {
     "name": "stdout",
     "output_type": "stream",
     "text": [
      " \"ssn\"    "
     ]
    },
    {
     "name": "stdout",
     "output_type": "stream",
     "text": [
      "\n",
      " [558,]"
     ]
    },
    {
     "name": "stdout",
     "output_type": "stream",
     "text": [
      " \"T00301\""
     ]
    },
    {
     "name": "stdout",
     "output_type": "stream",
     "text": [
      " \"300268\"                                        "
     ]
    },
    {
     "name": "stdout",
     "output_type": "stream",
     "text": [
      " \"sbo\"    "
     ]
    },
    {
     "name": "stdout",
     "output_type": "stream",
     "text": [
      "\n",
      " [559,]"
     ]
    },
    {
     "name": "stdout",
     "output_type": "stream",
     "text": [
      " \"T00700\""
     ]
    },
    {
     "name": "stdout",
     "output_type": "stream",
     "text": [
      " \"344609\"                                        "
     ]
    },
    {
     "name": "stdout",
     "output_type": "stream",
     "text": [
      " \"sbc\"    "
     ]
    },
    {
     "name": "stdout",
     "output_type": "stream",
     "text": [
      "\n",
      " [560,]"
     ]
    },
    {
     "name": "stdout",
     "output_type": "stream",
     "text": [
      " \"T00306\""
     ]
    },
    {
     "name": "stdout",
     "output_type": "stream",
     "text": [
      " \"300267\"                                        "
     ]
    },
    {
     "name": "stdout",
     "output_type": "stream",
     "text": [
      " \"sdy\"    "
     ]
    },
    {
     "name": "stdout",
     "output_type": "stream",
     "text": [
      "\n",
      " [561,]"
     ]
    },
    {
     "name": "stdout",
     "output_type": "stream",
     "text": [
      " \"T02933\""
     ]
    },
    {
     "name": "stdout",
     "output_type": "stream",
     "text": [
      " \"754093\"                                        "
     ]
    },
    {
     "name": "stdout",
     "output_type": "stream",
     "text": [
      " \"sdz\"    "
     ]
    },
    {
     "name": "stdout",
     "output_type": "stream",
     "text": [
      "\n",
      " [562,]"
     ]
    },
    {
     "name": "stdout",
     "output_type": "stream",
     "text": [
      " \"T04390\""
     ]
    },
    {
     "name": "stdout",
     "output_type": "stream",
     "text": [
      " \"1813821\"                                       "
     ]
    },
    {
     "name": "stdout",
     "output_type": "stream",
     "text": [
      " \"shq\"    "
     ]
    },
    {
     "name": "stdout",
     "output_type": "stream",
     "text": [
      "\n",
      " [563,]"
     ]
    },
    {
     "name": "stdout",
     "output_type": "stream",
     "text": [
      " \"T00507\""
     ]
    },
    {
     "name": "stdout",
     "output_type": "stream",
     "text": [
      " \"399742\"                                        "
     ]
    },
    {
     "name": "stdout",
     "output_type": "stream",
     "text": [
      " \"ent\"    "
     ]
    },
    {
     "name": "stdout",
     "output_type": "stream",
     "text": [
      "\n",
      " [564,]"
     ]
    },
    {
     "name": "stdout",
     "output_type": "stream",
     "text": [
      " \"T01231\""
     ]
    },
    {
     "name": "stdout",
     "output_type": "stream",
     "text": [
      " \"716541\"                                        "
     ]
    },
    {
     "name": "stdout",
     "output_type": "stream",
     "text": [
      " \"enc\"    "
     ]
    },
    {
     "name": "stdout",
     "output_type": "stream",
     "text": [
      "\n",
      " [565,]"
     ]
    },
    {
     "name": "stdout",
     "output_type": "stream",
     "text": [
      " \"T02315\""
     ]
    },
    {
     "name": "stdout",
     "output_type": "stream",
     "text": [
      " \"1211025\"                                       "
     ]
    },
    {
     "name": "stdout",
     "output_type": "stream",
     "text": [
      " \"eno\"    "
     ]
    },
    {
     "name": "stdout",
     "output_type": "stream",
     "text": [
      "\n",
      " [566,]"
     ]
    },
    {
     "name": "stdout",
     "output_type": "stream",
     "text": [
      " \"T02615\""
     ]
    },
    {
     "name": "stdout",
     "output_type": "stream",
     "text": [
      " \"718254\"                                        "
     ]
    },
    {
     "name": "stdout",
     "output_type": "stream",
     "text": [
      " \"eclo\"   "
     ]
    },
    {
     "name": "stdout",
     "output_type": "stream",
     "text": [
      "\n",
      " [567,]"
     ]
    },
    {
     "name": "stdout",
     "output_type": "stream",
     "text": [
      " \"T01652\""
     ]
    },
    {
     "name": "stdout",
     "output_type": "stream",
     "text": [
      " \"1045856\"                                       "
     ]
    },
    {
     "name": "stdout",
     "output_type": "stream",
     "text": [
      " \"eec\"    "
     ]
    },
    {
     "name": "stdout",
     "output_type": "stream",
     "text": [
      "\n",
      " [568,]"
     ]
    },
    {
     "name": "stdout",
     "output_type": "stream",
     "text": [
      " \"T02159\""
     ]
    },
    {
     "name": "stdout",
     "output_type": "stream",
     "text": [
      " \"1104326\"                                       "
     ]
    },
    {
     "name": "stdout",
     "output_type": "stream",
     "text": [
      " \"enl\"    "
     ]
    },
    {
     "name": "stdout",
     "output_type": "stream",
     "text": [
      "\n",
      " [569,]"
     ]
    },
    {
     "name": "stdout",
     "output_type": "stream",
     "text": [
      " \"T03429\""
     ]
    },
    {
     "name": "stdout",
     "output_type": "stream",
     "text": [
      " \"550\"                                           "
     ]
    },
    {
     "name": "stdout",
     "output_type": "stream",
     "text": [
      " \"eclg\"   "
     ]
    },
    {
     "name": "stdout",
     "output_type": "stream",
     "text": [
      "\n",
      " [570,]"
     ]
    },
    {
     "name": "stdout",
     "output_type": "stream",
     "text": [
      " \"T03471\""
     ]
    },
    {
     "name": "stdout",
     "output_type": "stream",
     "text": [
      " \"1333850\"                                       "
     ]
    },
    {
     "name": "stdout",
     "output_type": "stream",
     "text": [
      " \"ecle\"   "
     ]
    },
    {
     "name": "stdout",
     "output_type": "stream",
     "text": [
      "\n",
      " [571,]"
     ]
    },
    {
     "name": "stdout",
     "output_type": "stream",
     "text": [
      " \"T03486\""
     ]
    },
    {
     "name": "stdout",
     "output_type": "stream",
     "text": [
      " \"550\"                                           "
     ]
    },
    {
     "name": "stdout",
     "output_type": "stream",
     "text": [
      " \"ecln\"   "
     ]
    },
    {
     "name": "stdout",
     "output_type": "stream",
     "text": [
      "\n",
      " [572,]"
     ]
    },
    {
     "name": "stdout",
     "output_type": "stream",
     "text": [
      " \"T03706\""
     ]
    },
    {
     "name": "stdout",
     "output_type": "stream",
     "text": [
      " \"550\"                                           "
     ]
    },
    {
     "name": "stdout",
     "output_type": "stream",
     "text": [
      " \"ecli\"   "
     ]
    },
    {
     "name": "stdout",
     "output_type": "stream",
     "text": [
      "\n",
      " [573,]"
     ]
    },
    {
     "name": "stdout",
     "output_type": "stream",
     "text": [
      " \"T03707\""
     ]
    },
    {
     "name": "stdout",
     "output_type": "stream",
     "text": [
      " \"550\"                                           "
     ]
    },
    {
     "name": "stdout",
     "output_type": "stream",
     "text": [
      " \"eclx\"   "
     ]
    },
    {
     "name": "stdout",
     "output_type": "stream",
     "text": [
      "\n",
      " [574,]"
     ]
    },
    {
     "name": "stdout",
     "output_type": "stream",
     "text": [
      " \"T03708\""
     ]
    },
    {
     "name": "stdout",
     "output_type": "stream",
     "text": [
      " \"550\"                                           "
     ]
    },
    {
     "name": "stdout",
     "output_type": "stream",
     "text": [
      " \"ecly\"   "
     ]
    },
    {
     "name": "stdout",
     "output_type": "stream",
     "text": [
      "\n",
      " [575,]"
     ]
    },
    {
     "name": "stdout",
     "output_type": "stream",
     "text": [
      " \"T03709\""
     ]
    },
    {
     "name": "stdout",
     "output_type": "stream",
     "text": [
      " \"550\"                                           "
     ]
    },
    {
     "name": "stdout",
     "output_type": "stream",
     "text": [
      " \"eclz\"   "
     ]
    },
    {
     "name": "stdout",
     "output_type": "stream",
     "text": [
      "\n",
      " [576,]"
     ]
    },
    {
     "name": "stdout",
     "output_type": "stream",
     "text": [
      " \"T03350\""
     ]
    },
    {
     "name": "stdout",
     "output_type": "stream",
     "text": [
      " \"1333851\"                                       "
     ]
    },
    {
     "name": "stdout",
     "output_type": "stream",
     "text": [
      " \"ecla\"   "
     ]
    },
    {
     "name": "stdout",
     "output_type": "stream",
     "text": [
      "\n",
      " [577,]"
     ]
    },
    {
     "name": "stdout",
     "output_type": "stream",
     "text": [
      " \"T03378\""
     ]
    },
    {
     "name": "stdout",
     "output_type": "stream",
     "text": [
      " \"1333849\"                                       "
     ]
    },
    {
     "name": "stdout",
     "output_type": "stream",
     "text": [
      " \"eclc\"   "
     ]
    },
    {
     "name": "stdout",
     "output_type": "stream",
     "text": [
      "\n",
      " [578,]"
     ]
    },
    {
     "name": "stdout",
     "output_type": "stream",
     "text": [
      " \"T01604\""
     ]
    },
    {
     "name": "stdout",
     "output_type": "stream",
     "text": [
      " \"640513\"                                        "
     ]
    },
    {
     "name": "stdout",
     "output_type": "stream",
     "text": [
      " \"eas\"    "
     ]
    },
    {
     "name": "stdout",
     "output_type": "stream",
     "text": [
      "\n",
      " [579,]"
     ]
    },
    {
     "name": "stdout",
     "output_type": "stream",
     "text": [
      " \"T03084\""
     ]
    },
    {
     "name": "stdout",
     "output_type": "stream",
     "text": [
      " \"1421338\"                                       "
     ]
    },
    {
     "name": "stdout",
     "output_type": "stream",
     "text": [
      " \"eau\"    "
     ]
    },
    {
     "name": "stdout",
     "output_type": "stream",
     "text": [
      "\n",
      " [580,]"
     ]
    },
    {
     "name": "stdout",
     "output_type": "stream",
     "text": [
      " \"T04593\""
     ]
    },
    {
     "name": "stdout",
     "output_type": "stream",
     "text": [
      " \"158836\"                                        "
     ]
    },
    {
     "name": "stdout",
     "output_type": "stream",
     "text": [
      " \"ehm\"    "
     ]
    },
    {
     "name": "stdout",
     "output_type": "stream",
     "text": [
      "\n",
      " [581,]"
     ]
    },
    {
     "name": "stdout",
     "output_type": "stream",
     "text": [
      " \"T04686\""
     ]
    },
    {
     "name": "stdout",
     "output_type": "stream",
     "text": [
      " \"208224\"                                        "
     ]
    },
    {
     "name": "stdout",
     "output_type": "stream",
     "text": [
      " \"ekb\"    "
     ]
    },
    {
     "name": "stdout",
     "output_type": "stream",
     "text": [
      "\n",
      " [582,]"
     ]
    },
    {
     "name": "stdout",
     "output_type": "stream",
     "text": [
      " \"T04719\""
     ]
    },
    {
     "name": "stdout",
     "output_type": "stream",
     "text": [
      " \"299767\"                                        "
     ]
    },
    {
     "name": "stdout",
     "output_type": "stream",
     "text": [
      " \"elg\"    "
     ]
    },
    {
     "name": "stdout",
     "output_type": "stream",
     "text": [
      "\n",
      " [583,]"
     ]
    },
    {
     "name": "stdout",
     "output_type": "stream",
     "text": [
      " \"T04821\""
     ]
    },
    {
     "name": "stdout",
     "output_type": "stream",
     "text": [
      " \"1296536\"                                       "
     ]
    },
    {
     "name": "stdout",
     "output_type": "stream",
     "text": [
      " \"exf\"    "
     ]
    },
    {
     "name": "stdout",
     "output_type": "stream",
     "text": [
      "\n",
      " [584,]"
     ]
    },
    {
     "name": "stdout",
     "output_type": "stream",
     "text": [
      " \"T04878\""
     ]
    },
    {
     "name": "stdout",
     "output_type": "stream",
     "text": [
      " \"1870930\"                                       "
     ]
    },
    {
     "name": "stdout",
     "output_type": "stream",
     "text": [
      " \"ecls\"   "
     ]
    },
    {
     "name": "stdout",
     "output_type": "stream",
     "text": [
      "\n",
      " [585,]"
     ]
    },
    {
     "name": "stdout",
     "output_type": "stream",
     "text": [
      " \"T02700\""
     ]
    },
    {
     "name": "stdout",
     "output_type": "stream",
     "text": [
      " \"1166130\"                                       "
     ]
    },
    {
     "name": "stdout",
     "output_type": "stream",
     "text": [
      " \"enr\"    "
     ]
    },
    {
     "name": "stdout",
     "output_type": "stream",
     "text": [
      "\n",
      " [586,]"
     ]
    },
    {
     "name": "stdout",
     "output_type": "stream",
     "text": [
      " \"T04118\""
     ]
    },
    {
     "name": "stdout",
     "output_type": "stream",
     "text": [
      " \"1560339\"                                       "
     ]
    },
    {
     "name": "stdout",
     "output_type": "stream",
     "text": [
      " \"enx\"    "
     ]
    },
    {
     "name": "stdout",
     "output_type": "stream",
     "text": [
      "\n",
      " [587,]"
     ]
    },
    {
     "name": "stdout",
     "output_type": "stream",
     "text": [
      " \"T04405\""
     ]
    },
    {
     "name": "stdout",
     "output_type": "stream",
     "text": [
      " \"1692238\"                                       "
     ]
    },
    {
     "name": "stdout",
     "output_type": "stream",
     "text": [
      " \"enf\"    "
     ]
    },
    {
     "name": "stdout",
     "output_type": "stream",
     "text": [
      "\n",
      " [588,]"
     ]
    },
    {
     "name": "stdout",
     "output_type": "stream",
     "text": [
      " \"T00586\""
     ]
    },
    {
     "name": "stdout",
     "output_type": "stream",
     "text": [
      " \"290339\"                                        "
     ]
    },
    {
     "name": "stdout",
     "output_type": "stream",
     "text": [
      " \"esa\"    "
     ]
    },
    {
     "name": "stdout",
     "output_type": "stream",
     "text": [
      "\n",
      " [589,]"
     ]
    },
    {
     "name": "stdout",
     "output_type": "stream",
     "text": [
      " \"T02119\""
     ]
    },
    {
     "name": "stdout",
     "output_type": "stream",
     "text": [
      " \"1138308\"                                       "
     ]
    },
    {
     "name": "stdout",
     "output_type": "stream",
     "text": [
      " \"csk\"    "
     ]
    },
    {
     "name": "stdout",
     "output_type": "stream",
     "text": [
      "\n",
      " [590,]"
     ]
    },
    {
     "name": "stdout",
     "output_type": "stream",
     "text": [
      " \"T02461\""
     ]
    },
    {
     "name": "stdout",
     "output_type": "stream",
     "text": [
      " \"956149\"                                        "
     ]
    },
    {
     "name": "stdout",
     "output_type": "stream",
     "text": [
      " \"csz\"    "
     ]
    },
    {
     "name": "stdout",
     "output_type": "stream",
     "text": [
      "\n",
      " [591,]"
     ]
    },
    {
     "name": "stdout",
     "output_type": "stream",
     "text": [
      " \"T02955\""
     ]
    },
    {
     "name": "stdout",
     "output_type": "stream",
     "text": [
      " \"1401659\"                                       "
     ]
    },
    {
     "name": "stdout",
     "output_type": "stream",
     "text": [
      " \"csi\"    "
     ]
    },
    {
     "name": "stdout",
     "output_type": "stream",
     "text": [
      "\n",
      " [592,]"
     ]
    },
    {
     "name": "stdout",
     "output_type": "stream",
     "text": [
      " \"T03903\""
     ]
    },
    {
     "name": "stdout",
     "output_type": "stream",
     "text": [
      " \"28141\"                                         "
     ]
    },
    {
     "name": "stdout",
     "output_type": "stream",
     "text": [
      " \"csj\"    "
     ]
    },
    {
     "name": "stdout",
     "output_type": "stream",
     "text": [
      "\n",
      " [593,]"
     ]
    },
    {
     "name": "stdout",
     "output_type": "stream",
     "text": [
      " \"T04060\""
     ]
    },
    {
     "name": "stdout",
     "output_type": "stream",
     "text": [
      " \"1073999\"                                       "
     ]
    },
    {
     "name": "stdout",
     "output_type": "stream",
     "text": [
      " \"ccon\"   "
     ]
    },
    {
     "name": "stdout",
     "output_type": "stream",
     "text": [
      "\n",
      " [594,]"
     ]
    },
    {
     "name": "stdout",
     "output_type": "stream",
     "text": [
      " \"T04061\""
     ]
    },
    {
     "name": "stdout",
     "output_type": "stream",
     "text": [
      " \"1159554\"                                       "
     ]
    },
    {
     "name": "stdout",
     "output_type": "stream",
     "text": [
      " \"cdm\"    "
     ]
    },
    {
     "name": "stdout",
     "output_type": "stream",
     "text": [
      "\n",
      " [595,]"
     ]
    },
    {
     "name": "stdout",
     "output_type": "stream",
     "text": [
      " \"T04062\""
     ]
    },
    {
     "name": "stdout",
     "output_type": "stream",
     "text": [
      " \"1159491\"                                       "
     ]
    },
    {
     "name": "stdout",
     "output_type": "stream",
     "text": [
      " \"cmj\"    "
     ]
    },
    {
     "name": "stdout",
     "output_type": "stream",
     "text": [
      "\n",
      " [596,]"
     ]
    },
    {
     "name": "stdout",
     "output_type": "stream",
     "text": [
      " \"T04063\""
     ]
    },
    {
     "name": "stdout",
     "output_type": "stream",
     "text": [
      " \"1074000\"                                       "
     ]
    },
    {
     "name": "stdout",
     "output_type": "stream",
     "text": [
      " \"cui\"    "
     ]
    },
    {
     "name": "stdout",
     "output_type": "stream",
     "text": [
      "\n",
      " [597,]"
     ]
    },
    {
     "name": "stdout",
     "output_type": "stream",
     "text": [
      " \"T04067\""
     ]
    },
    {
     "name": "stdout",
     "output_type": "stream",
     "text": [
      " \"1159613\"                                       "
     ]
    },
    {
     "name": "stdout",
     "output_type": "stream",
     "text": [
      " \"cmw\"    "
     ]
    },
    {
     "name": "stdout",
     "output_type": "stream",
     "text": [
      "\n",
      " [598,]"
     ]
    },
    {
     "name": "stdout",
     "output_type": "stream",
     "text": [
      " \"T00999\""
     ]
    },
    {
     "name": "stdout",
     "output_type": "stream",
     "text": [
      " \"693216\"                                        "
     ]
    },
    {
     "name": "stdout",
     "output_type": "stream",
     "text": [
      " \"ctu\"    "
     ]
    },
    {
     "name": "stdout",
     "output_type": "stream",
     "text": [
      "\n",
      " [599,]"
     ]
    },
    {
     "name": "stdout",
     "output_type": "stream",
     "text": [
      " \"T00566\""
     ]
    },
    {
     "name": "stdout",
     "output_type": "stream",
     "text": [
      " \"272620\"                                        "
     ]
    },
    {
     "name": "stdout",
     "output_type": "stream",
     "text": [
      " \"kpn\"    "
     ]
    },
    {
     "name": "stdout",
     "output_type": "stream",
     "text": [
      "\n",
      " [600,]"
     ]
    },
    {
     "name": "stdout",
     "output_type": "stream",
     "text": [
      " \"T00910\""
     ]
    },
    {
     "name": "stdout",
     "output_type": "stream",
     "text": [
      " \"484021\"                                        "
     ]
    },
    {
     "name": "stdout",
     "output_type": "stream",
     "text": [
      " \"kpu\"    "
     ]
    },
    {
     "name": "stdout",
     "output_type": "stream",
     "text": [
      "\n",
      " [601,]"
     ]
    },
    {
     "name": "stdout",
     "output_type": "stream",
     "text": [
      " \"T01733\""
     ]
    },
    {
     "name": "stdout",
     "output_type": "stream",
     "text": [
      " \"1125630\"                                       "
     ]
    },
    {
     "name": "stdout",
     "output_type": "stream",
     "text": [
      " \"kpm\"    "
     ]
    },
    {
     "name": "stdout",
     "output_type": "stream",
     "text": [
      "\n",
      " [602,]"
     ]
    },
    {
     "name": "stdout",
     "output_type": "stream",
     "text": [
      " \"T02213\""
     ]
    },
    {
     "name": "stdout",
     "output_type": "stream",
     "text": [
      " \"1193292\"                                       "
     ]
    },
    {
     "name": "stdout",
     "output_type": "stream",
     "text": [
      " \"kpp\"    "
     ]
    },
    {
     "name": "stdout",
     "output_type": "stream",
     "text": [
      "\n",
      " [603,]"
     ]
    },
    {
     "name": "stdout",
     "output_type": "stream",
     "text": [
      " \"T03368\""
     ]
    },
    {
     "name": "stdout",
     "output_type": "stream",
     "text": [
      " \"1199150\"                                       "
     ]
    },
    {
     "name": "stdout",
     "output_type": "stream",
     "text": [
      " \"kpk\"    "
     ]
    },
    {
     "name": "stdout",
     "output_type": "stream",
     "text": [
      "\n",
      " [604,]"
     ]
    },
    {
     "name": "stdout",
     "output_type": "stream",
     "text": [
      " \"T03369\""
     ]
    },
    {
     "name": "stdout",
     "output_type": "stream",
     "text": [
      " \"1225181\"                                       "
     ]
    },
    {
     "name": "stdout",
     "output_type": "stream",
     "text": [
      " \"kph\"    "
     ]
    },
    {
     "name": "stdout",
     "output_type": "stream",
     "text": [
      "\n",
      " [605,]"
     ]
    },
    {
     "name": "stdout",
     "output_type": "stream",
     "text": [
      " \"T03370\""
     ]
    },
    {
     "name": "stdout",
     "output_type": "stream",
     "text": [
      " \"1328324\"                                       "
     ]
    },
    {
     "name": "stdout",
     "output_type": "stream",
     "text": [
      " \"kpz\"    "
     ]
    },
    {
     "name": "stdout",
     "output_type": "stream",
     "text": [
      "\n",
      " [606,]"
     ]
    },
    {
     "name": "stdout",
     "output_type": "stream",
     "text": [
      " \"T03465\""
     ]
    },
    {
     "name": "stdout",
     "output_type": "stream",
     "text": [
      " \"72407\"                                         "
     ]
    },
    {
     "name": "stdout",
     "output_type": "stream",
     "text": [
      " \"kpv\"    "
     ]
    },
    {
     "name": "stdout",
     "output_type": "stream",
     "text": [
      "\n",
      " [607,]"
     ]
    },
    {
     "name": "stdout",
     "output_type": "stream",
     "text": [
      " \"T03466\""
     ]
    },
    {
     "name": "stdout",
     "output_type": "stream",
     "text": [
      " \"72407\"                                         "
     ]
    },
    {
     "name": "stdout",
     "output_type": "stream",
     "text": [
      " \"kpw\"    "
     ]
    },
    {
     "name": "stdout",
     "output_type": "stream",
     "text": [
      "\n",
      " [608,]"
     ]
    },
    {
     "name": "stdout",
     "output_type": "stream",
     "text": [
      " \"T03467\""
     ]
    },
    {
     "name": "stdout",
     "output_type": "stream",
     "text": [
      " \"72407\"                                         "
     ]
    },
    {
     "name": "stdout",
     "output_type": "stream",
     "text": [
      " \"kpy\"    "
     ]
    },
    {
     "name": "stdout",
     "output_type": "stream",
     "text": [
      "\n",
      " [609,]"
     ]
    },
    {
     "name": "stdout",
     "output_type": "stream",
     "text": [
      " \"T03468\""
     ]
    },
    {
     "name": "stdout",
     "output_type": "stream",
     "text": [
      " \"72407\"                                         "
     ]
    },
    {
     "name": "stdout",
     "output_type": "stream",
     "text": [
      " \"kpg\"    "
     ]
    },
    {
     "name": "stdout",
     "output_type": "stream",
     "text": [
      "\n",
      " [610,]"
     ]
    },
    {
     "name": "stdout",
     "output_type": "stream",
     "text": [
      " \"T03788\""
     ]
    },
    {
     "name": "stdout",
     "output_type": "stream",
     "text": [
      " \"1094170\"                                       "
     ]
    },
    {
     "name": "stdout",
     "output_type": "stream",
     "text": [
      " \"kpc\"    "
     ]
    },
    {
     "name": "stdout",
     "output_type": "stream",
     "text": [
      "\n",
      " [611,]"
     ]
    },
    {
     "name": "stdout",
     "output_type": "stream",
     "text": [
      " \"T03371\""
     ]
    },
    {
     "name": "stdout",
     "output_type": "stream",
     "text": [
      " \"1328325\"                                       "
     ]
    },
    {
     "name": "stdout",
     "output_type": "stream",
     "text": [
      " \"kpq\"    "
     ]
    },
    {
     "name": "stdout",
     "output_type": "stream",
     "text": [
      "\n",
      " [612,]"
     ]
    },
    {
     "name": "stdout",
     "output_type": "stream",
     "text": [
      " \"T03418\""
     ]
    },
    {
     "name": "stdout",
     "output_type": "stream",
     "text": [
      " \"72407\"                                         "
     ]
    },
    {
     "name": "stdout",
     "output_type": "stream",
     "text": [
      " \"kpt\"    "
     ]
    },
    {
     "name": "stdout",
     "output_type": "stream",
     "text": [
      "\n",
      " [613,]"
     ]
    },
    {
     "name": "stdout",
     "output_type": "stream",
     "text": [
      " \"T00772\""
     ]
    },
    {
     "name": "stdout",
     "output_type": "stream",
     "text": [
      " \"507522\"                                        "
     ]
    },
    {
     "name": "stdout",
     "output_type": "stream",
     "text": [
      " \"kpe\"    "
     ]
    },
    {
     "name": "stdout",
     "output_type": "stream",
     "text": [
      "\n",
      " [614,]"
     ]
    },
    {
     "name": "stdout",
     "output_type": "stream",
     "text": [
      " \"T01982\""
     ]
    },
    {
     "name": "stdout",
     "output_type": "stream",
     "text": [
      " \"1049565\"                                       "
     ]
    },
    {
     "name": "stdout",
     "output_type": "stream",
     "text": [
      " \"kpo\"    "
     ]
    },
    {
     "name": "stdout",
     "output_type": "stream",
     "text": [
      "\n",
      " [615,]"
     ]
    },
    {
     "name": "stdout",
     "output_type": "stream",
     "text": [
      " \"T02793\""
     ]
    },
    {
     "name": "stdout",
     "output_type": "stream",
     "text": [
      " \"861365\"                                        "
     ]
    },
    {
     "name": "stdout",
     "output_type": "stream",
     "text": [
      " \"kpr\"    "
     ]
    },
    {
     "name": "stdout",
     "output_type": "stream",
     "text": [
      "\n",
      " [616,]"
     ]
    },
    {
     "name": "stdout",
     "output_type": "stream",
     "text": [
      " \"T02799\""
     ]
    },
    {
     "name": "stdout",
     "output_type": "stream",
     "text": [
      " \"1380908\"                                       "
     ]
    },
    {
     "name": "stdout",
     "output_type": "stream",
     "text": [
      " \"kpj\"    "
     ]
    },
    {
     "name": "stdout",
     "output_type": "stream",
     "text": [
      "\n",
      " [617,]"
     ]
    },
    {
     "name": "stdout",
     "output_type": "stream",
     "text": [
      " \"T02866\""
     ]
    },
    {
     "name": "stdout",
     "output_type": "stream",
     "text": [
      " \"1244085\"                                       "
     ]
    },
    {
     "name": "stdout",
     "output_type": "stream",
     "text": [
      " \"kpi\"    "
     ]
    },
    {
     "name": "stdout",
     "output_type": "stream",
     "text": [
      "\n",
      " [618,]"
     ]
    },
    {
     "name": "stdout",
     "output_type": "stream",
     "text": [
      " \"T03176\""
     ]
    },
    {
     "name": "stdout",
     "output_type": "stream",
     "text": [
      " \"1420012\"                                       "
     ]
    },
    {
     "name": "stdout",
     "output_type": "stream",
     "text": [
      " \"kpa\"    "
     ]
    },
    {
     "name": "stdout",
     "output_type": "stream",
     "text": [
      "\n",
      " [619,]"
     ]
    },
    {
     "name": "stdout",
     "output_type": "stream",
     "text": [
      " \"T03177\""
     ]
    },
    {
     "name": "stdout",
     "output_type": "stream",
     "text": [
      " \"1420013\"                                       "
     ]
    },
    {
     "name": "stdout",
     "output_type": "stream",
     "text": [
      " \"kps\"    "
     ]
    },
    {
     "name": "stdout",
     "output_type": "stream",
     "text": [
      "\n",
      " [620,]"
     ]
    },
    {
     "name": "stdout",
     "output_type": "stream",
     "text": [
      " \"T03419\""
     ]
    },
    {
     "name": "stdout",
     "output_type": "stream",
     "text": [
      " \"573\"                                           "
     ]
    },
    {
     "name": "stdout",
     "output_type": "stream",
     "text": [
      " \"kpx\"    "
     ]
    },
    {
     "name": "stdout",
     "output_type": "stream",
     "text": [
      "\n",
      " [621,]"
     ]
    },
    {
     "name": "stdout",
     "output_type": "stream",
     "text": [
      " \"T03440\""
     ]
    },
    {
     "name": "stdout",
     "output_type": "stream",
     "text": [
      " \"573\"                                           "
     ]
    },
    {
     "name": "stdout",
     "output_type": "stream",
     "text": [
      " \"kpb\"    "
     ]
    },
    {
     "name": "stdout",
     "output_type": "stream",
     "text": [
      "\n",
      " [622,]"
     ]
    },
    {
     "name": "stdout",
     "output_type": "stream",
     "text": [
      " \"T03746\""
     ]
    },
    {
     "name": "stdout",
     "output_type": "stream",
     "text": [
      " \"573\"                                           "
     ]
    },
    {
     "name": "stdout",
     "output_type": "stream",
     "text": [
      " \"kpne\"   "
     ]
    },
    {
     "name": "stdout",
     "output_type": "stream",
     "text": [
      "\n",
      " [623,]"
     ]
    },
    {
     "name": "stdout",
     "output_type": "stream",
     "text": [
      " \"T03747\""
     ]
    },
    {
     "name": "stdout",
     "output_type": "stream",
     "text": [
      " \"573\"                                           "
     ]
    },
    {
     "name": "stdout",
     "output_type": "stream",
     "text": [
      " \"kpnu\"   "
     ]
    },
    {
     "name": "stdout",
     "output_type": "stream",
     "text": [
      "\n",
      " [624,]"
     ]
    },
    {
     "name": "stdout",
     "output_type": "stream",
     "text": [
      " \"T01170\""
     ]
    },
    {
     "name": "stdout",
     "output_type": "stream",
     "text": [
      " \"640131\"                                        "
     ]
    },
    {
     "name": "stdout",
     "output_type": "stream",
     "text": [
      " \"kva\"    "
     ]
    },
    {
     "name": "stdout",
     "output_type": "stream",
     "text": [
      "\n",
      " [625,]"
     ]
    },
    {
     "name": "stdout",
     "output_type": "stream",
     "text": [
      " \"T03531\""
     ]
    },
    {
     "name": "stdout",
     "output_type": "stream",
     "text": [
      " \"244366\"                                        "
     ]
    },
    {
     "name": "stdout",
     "output_type": "stream",
     "text": [
      " \"kvd\"    "
     ]
    },
    {
     "name": "stdout",
     "output_type": "stream",
     "text": [
      "\n",
      " [626,]"
     ]
    },
    {
     "name": "stdout",
     "output_type": "stream",
     "text": [
      " \"T03641\""
     ]
    },
    {
     "name": "stdout",
     "output_type": "stream",
     "text": [
      " \"244366\"                                        "
     ]
    },
    {
     "name": "stdout",
     "output_type": "stream",
     "text": [
      " \"kvq\"    "
     ]
    },
    {
     "name": "stdout",
     "output_type": "stream",
     "text": [
      "\n",
      " [627,]"
     ]
    },
    {
     "name": "stdout",
     "output_type": "stream",
     "text": [
      " \"T01681\""
     ]
    },
    {
     "name": "stdout",
     "output_type": "stream",
     "text": [
      " \"1006551\"                                       "
     ]
    },
    {
     "name": "stdout",
     "output_type": "stream",
     "text": [
      " \"kox\"    "
     ]
    },
    {
     "name": "stdout",
     "output_type": "stream",
     "text": [
      "\n",
      " [628,]"
     ]
    },
    {
     "name": "stdout",
     "output_type": "stream",
     "text": [
      " \"T02173\""
     ]
    },
    {
     "name": "stdout",
     "output_type": "stream",
     "text": [
      " \"1191061\"                                       "
     ]
    },
    {
     "name": "stdout",
     "output_type": "stream",
     "text": [
      " \"koe\"    "
     ]
    },
    {
     "name": "stdout",
     "output_type": "stream",
     "text": [
      "\n",
      " [629,]"
     ]
    },
    {
     "name": "stdout",
     "output_type": "stream",
     "text": [
      " \"T03188\""
     ]
    },
    {
     "name": "stdout",
     "output_type": "stream",
     "text": [
      " \"1308980\"                                       "
     ]
    },
    {
     "name": "stdout",
     "output_type": "stream",
     "text": [
      " \"koy\"    "
     ]
    },
    {
     "name": "stdout",
     "output_type": "stream",
     "text": [
      "\n",
      " [630,]"
     ]
    },
    {
     "name": "stdout",
     "output_type": "stream",
     "text": [
      " \"T03782\""
     ]
    },
    {
     "name": "stdout",
     "output_type": "stream",
     "text": [
      " \"1134687\"                                       "
     ]
    },
    {
     "name": "stdout",
     "output_type": "stream",
     "text": [
      " \"kmi\"    "
     ]
    },
    {
     "name": "stdout",
     "output_type": "stream",
     "text": [
      "\n",
      " [631,]"
     ]
    },
    {
     "name": "stdout",
     "output_type": "stream",
     "text": [
      " \"T03269\""
     ]
    },
    {
     "name": "stdout",
     "output_type": "stream",
     "text": [
      " \"1333852\"                                       "
     ]
    },
    {
     "name": "stdout",
     "output_type": "stream",
     "text": [
      " \"kok\"    "
     ]
    },
    {
     "name": "stdout",
     "output_type": "stream",
     "text": [
      "\n",
      " [632,]"
     ]
    },
    {
     "name": "stdout",
     "output_type": "stream",
     "text": [
      " \"T04534\""
     ]
    },
    {
     "name": "stdout",
     "output_type": "stream",
     "text": [
      " \"571\"                                           "
     ]
    },
    {
     "name": "stdout",
     "output_type": "stream",
     "text": [
      " \"koc\"    "
     ]
    },
    {
     "name": "stdout",
     "output_type": "stream",
     "text": [
      "\n",
      " [633,]"
     ]
    },
    {
     "name": "stdout",
     "output_type": "stream",
     "text": [
      " \"T03349\""
     ]
    },
    {
     "name": "stdout",
     "output_type": "stream",
     "text": [
      " \"571\"                                           "
     ]
    },
    {
     "name": "stdout",
     "output_type": "stream",
     "text": [
      " \"kom\"    "
     ]
    },
    {
     "name": "stdout",
     "output_type": "stream",
     "text": [
      "\n",
      " [634,]"
     ]
    },
    {
     "name": "stdout",
     "output_type": "stream",
     "text": [
      " \"T04389\""
     ]
    },
    {
     "name": "stdout",
     "output_type": "stream",
     "text": [
      " \"1463165\"                                       "
     ]
    },
    {
     "name": "stdout",
     "output_type": "stream",
     "text": [
      " \"kqu\"    "
     ]
    },
    {
     "name": "stdout",
     "output_type": "stream",
     "text": [
      "\n",
      " [635,]"
     ]
    },
    {
     "name": "stdout",
     "output_type": "stream",
     "text": [
      " \"T01529\""
     ]
    },
    {
     "name": "stdout",
     "output_type": "stream",
     "text": [
      " \"1028307\"                                       "
     ]
    },
    {
     "name": "stdout",
     "output_type": "stream",
     "text": [
      " \"eae\"    "
     ]
    },
    {
     "name": "stdout",
     "output_type": "stream",
     "text": [
      "\n",
      " [636,]"
     ]
    },
    {
     "name": "stdout",
     "output_type": "stream",
     "text": [
      " \"T02447\""
     ]
    },
    {
     "name": "stdout",
     "output_type": "stream",
     "text": [
      " \"935296\"                                        "
     ]
    },
    {
     "name": "stdout",
     "output_type": "stream",
     "text": [
      " \"ear\"    "
     ]
    },
    {
     "name": "stdout",
     "output_type": "stream",
     "text": [
      "\n",
      " [637,]"
     ]
    },
    {
     "name": "stdout",
     "output_type": "stream",
     "text": [
      " \"T05116\""
     ]
    },
    {
     "name": "stdout",
     "output_type": "stream",
     "text": [
      " \"2026240\"                                       "
     ]
    },
    {
     "name": "stdout",
     "output_type": "stream",
     "text": [
      " \"kqv\"    "
     ]
    },
    {
     "name": "stdout",
     "output_type": "stream",
     "text": [
      "\n",
      " [638,]"
     ]
    },
    {
     "name": "stdout",
     "output_type": "stream",
     "text": [
      " \"T00592\""
     ]
    },
    {
     "name": "stdout",
     "output_type": "stream",
     "text": [
      " \"290338\"                                        "
     ]
    },
    {
     "name": "stdout",
     "output_type": "stream",
     "text": [
      " \"cko\"    "
     ]
    },
    {
     "name": "stdout",
     "output_type": "stream",
     "text": [
      "\n",
      " [639,]"
     ]
    },
    {
     "name": "stdout",
     "output_type": "stream",
     "text": [
      " \"T01145\""
     ]
    },
    {
     "name": "stdout",
     "output_type": "stream",
     "text": [
      " \"637910\"                                        "
     ]
    },
    {
     "name": "stdout",
     "output_type": "stream",
     "text": [
      " \"cro\"    "
     ]
    },
    {
     "name": "stdout",
     "output_type": "stream",
     "text": [
      "\n",
      " [640,]"
     ]
    },
    {
     "name": "stdout",
     "output_type": "stream",
     "text": [
      " \"T03077\""
     ]
    },
    {
     "name": "stdout",
     "output_type": "stream",
     "text": [
      " \"1333848\"                                       "
     ]
    },
    {
     "name": "stdout",
     "output_type": "stream",
     "text": [
      " \"cfd\"    "
     ]
    },
    {
     "name": "stdout",
     "output_type": "stream",
     "text": [
      "\n",
      " [641,]"
     ]
    },
    {
     "name": "stdout",
     "output_type": "stream",
     "text": [
      " \"T04825\""
     ]
    },
    {
     "name": "stdout",
     "output_type": "stream",
     "text": [
      " \"57706\"                                         "
     ]
    },
    {
     "name": "stdout",
     "output_type": "stream",
     "text": [
      " \"cbra\"   "
     ]
    },
    {
     "name": "stdout",
     "output_type": "stream",
     "text": [
      "\n",
      " [642,]"
     ]
    },
    {
     "name": "stdout",
     "output_type": "stream",
     "text": [
      " \"T05129\""
     ]
    },
    {
     "name": "stdout",
     "output_type": "stream",
     "text": [
      " \"67827\"                                         "
     ]
    },
    {
     "name": "stdout",
     "output_type": "stream",
     "text": [
      " \"cwe\"    "
     ]
    },
    {
     "name": "stdout",
     "output_type": "stream",
     "text": [
      "\n",
      " [643,]"
     ]
    },
    {
     "name": "stdout",
     "output_type": "stream",
     "text": [
      " \"T03934\""
     ]
    },
    {
     "name": "stdout",
     "output_type": "stream",
     "text": [
      " \"1261127\"                                       "
     ]
    },
    {
     "name": "stdout",
     "output_type": "stream",
     "text": [
      " \"cama\"   "
     ]
    },
    {
     "name": "stdout",
     "output_type": "stream",
     "text": [
      "\n",
      " [644,]"
     ]
    },
    {
     "name": "stdout",
     "output_type": "stream",
     "text": [
      " \"T04738\""
     ]
    },
    {
     "name": "stdout",
     "output_type": "stream",
     "text": [
      " \"35703\"                                         "
     ]
    },
    {
     "name": "stdout",
     "output_type": "stream",
     "text": [
      " \"caf\"    "
     ]
    },
    {
     "name": "stdout",
     "output_type": "stream",
     "text": [
      "\n",
      " [645,]"
     ]
    },
    {
     "name": "stdout",
     "output_type": "stream",
     "text": [
      " \"T04313\""
     ]
    },
    {
     "name": "stdout",
     "output_type": "stream",
     "text": [
      " \"1702170\"                                       "
     ]
    },
    {
     "name": "stdout",
     "output_type": "stream",
     "text": [
      " \"cif\"    "
     ]
    },
    {
     "name": "stdout",
     "output_type": "stream",
     "text": [
      "\n",
      " [646,]"
     ]
    },
    {
     "name": "stdout",
     "output_type": "stream",
     "text": [
      " \"T05012\""
     ]
    },
    {
     "name": "stdout",
     "output_type": "stream",
     "text": [
      " \"67824\"                                         "
     ]
    },
    {
     "name": "stdout",
     "output_type": "stream",
     "text": [
      " \"cfar\"   "
     ]
    },
    {
     "name": "stdout",
     "output_type": "stream",
     "text": [
      "\n",
      " [647,]"
     ]
    },
    {
     "name": "stdout",
     "output_type": "stream",
     "text": [
      " \"T05060\""
     ]
    },
    {
     "name": "stdout",
     "output_type": "stream",
     "text": [
      " \"929813\"                                        "
     ]
    },
    {
     "name": "stdout",
     "output_type": "stream",
     "text": [
      " \"gqu\"    "
     ]
    },
    {
     "name": "stdout",
     "output_type": "stream",
     "text": [
      "\n",
      " [648,]"
     ]
    },
    {
     "name": "stdout",
     "output_type": "stream",
     "text": [
      " \"T00138\""
     ]
    },
    {
     "name": "stdout",
     "output_type": "stream",
     "text": [
      " \"203907\"                                        "
     ]
    },
    {
     "name": "stdout",
     "output_type": "stream",
     "text": [
      " \"bfl\"    "
     ]
    },
    {
     "name": "stdout",
     "output_type": "stream",
     "text": [
      "\n",
      " [649,]"
     ]
    },
    {
     "name": "stdout",
     "output_type": "stream",
     "text": [
      " \"T00272\""
     ]
    },
    {
     "name": "stdout",
     "output_type": "stream",
     "text": [
      " \"291272\"                                        "
     ]
    },
    {
     "name": "stdout",
     "output_type": "stream",
     "text": [
      " \"bpn\"    "
     ]
    },
    {
     "name": "stdout",
     "output_type": "stream",
     "text": [
      "\n",
      " [650,]"
     ]
    },
    {
     "name": "stdout",
     "output_type": "stream",
     "text": [
      " \"T01398\""
     ]
    },
    {
     "name": "stdout",
     "output_type": "stream",
     "text": [
      " \"859654\"                                        "
     ]
    },
    {
     "name": "stdout",
     "output_type": "stream",
     "text": [
      " \"bva\"    "
     ]
    },
    {
     "name": "stdout",
     "output_type": "stream",
     "text": [
      "\n",
      " [651,]"
     ]
    },
    {
     "name": "stdout",
     "output_type": "stream",
     "text": [
      " \"T02430\""
     ]
    },
    {
     "name": "stdout",
     "output_type": "stream",
     "text": [
      " \"1240471\"                                       "
     ]
    },
    {
     "name": "stdout",
     "output_type": "stream",
     "text": [
      " \"bchr\"   "
     ]
    },
    {
     "name": "stdout",
     "output_type": "stream",
     "text": [
      "\n",
      " [652,]"
     ]
    },
    {
     "name": "stdout",
     "output_type": "stream",
     "text": [
      " \"T03906\""
     ]
    },
    {
     "name": "stdout",
     "output_type": "stream",
     "text": [
      " \"1505597\"                                       "
     ]
    },
    {
     "name": "stdout",
     "output_type": "stream",
     "text": [
      " \"ben\"    "
     ]
    },
    {
     "name": "stdout",
     "output_type": "stream",
     "text": [
      "\n",
      " [653,]"
     ]
    },
    {
     "name": "stdout",
     "output_type": "stream",
     "text": [
      " \"T03907\""
     ]
    },
    {
     "name": "stdout",
     "output_type": "stream",
     "text": [
      " \"1505596\"                                       "
     ]
    },
    {
     "name": "stdout",
     "output_type": "stream",
     "text": [
      " \"bed\"    "
     ]
    },
    {
     "name": "stdout",
     "output_type": "stream",
     "text": [
      "\n",
      " [654,]"
     ]
    },
    {
     "name": "stdout",
     "output_type": "stream",
     "text": [
      " \"T00911\""
     ]
    },
    {
     "name": "stdout",
     "output_type": "stream",
     "text": [
      " \"572265\"                                        "
     ]
    },
    {
     "name": "stdout",
     "output_type": "stream",
     "text": [
      " \"hde\"    "
     ]
    },
    {
     "name": "stdout",
     "output_type": "stream",
     "text": [
      "\n",
      " [655,]"
     ]
    },
    {
     "name": "stdout",
     "output_type": "stream",
     "text": [
      " \"T02199\""
     ]
    },
    {
     "name": "stdout",
     "output_type": "stream",
     "text": [
      " \"1199245\"                                       "
     ]
    },
    {
     "name": "stdout",
     "output_type": "stream",
     "text": [
      " \"sect\"   "
     ]
    },
    {
     "name": "stdout",
     "output_type": "stream",
     "text": [
      "\n",
      " [656,]"
     ]
    },
    {
     "name": "stdout",
     "output_type": "stream",
     "text": [
      " \"T02336\""
     ]
    },
    {
     "name": "stdout",
     "output_type": "stream",
     "text": [
      " \"134287\"                                        "
     ]
    },
    {
     "name": "stdout",
     "output_type": "stream",
     "text": [
      " \"sehc\"   "
     ]
    },
    {
     "name": "stdout",
     "output_type": "stream",
     "text": [
      "\n",
      " [657,]"
     ]
    },
    {
     "name": "stdout",
     "output_type": "stream",
     "text": [
      " \"T04494\""
     ]
    },
    {
     "name": "stdout",
     "output_type": "stream",
     "text": [
      " \"1835721\"                                       "
     ]
    },
    {
     "name": "stdout",
     "output_type": "stream",
     "text": [
      " \"senm\"   "
     ]
    },
    {
     "name": "stdout",
     "output_type": "stream",
     "text": [
      "\n",
      " [658,]"
     ]
    },
    {
     "name": "stdout",
     "output_type": "stream",
     "text": [
      " \"T01218\""
     ]
    },
    {
     "name": "stdout",
     "output_type": "stream",
     "text": [
      " \"515618\"                                        "
     ]
    },
    {
     "name": "stdout",
     "output_type": "stream",
     "text": [
      " \"rip\"    "
     ]
    },
    {
     "name": "stdout",
     "output_type": "stream",
     "text": [
      "\n",
      " [659,]"
     ]
    },
    {
     "name": "stdout",
     "output_type": "stream",
     "text": [
      " \"T04782\""
     ]
    },
    {
     "name": "stdout",
     "output_type": "stream",
     "text": [
      " \"1719125\"                                       "
     ]
    },
    {
     "name": "stdout",
     "output_type": "stream",
     "text": [
      " \"rig\"    "
     ]
    },
    {
     "name": "stdout",
     "output_type": "stream",
     "text": [
      "\n",
      " [660,]"
     ]
    },
    {
     "name": "stdout",
     "output_type": "stream",
     "text": [
      " \"T01562\""
     ]
    },
    {
     "name": "stdout",
     "output_type": "stream",
     "text": [
      " \"903503\"                                        "
     ]
    },
    {
     "name": "stdout",
     "output_type": "stream",
     "text": [
      " \"men\"    "
     ]
    },
    {
     "name": "stdout",
     "output_type": "stream",
     "text": [
      "\n",
      " [661,]"
     ]
    },
    {
     "name": "stdout",
     "output_type": "stream",
     "text": [
      " \"T02613\""
     ]
    },
    {
     "name": "stdout",
     "output_type": "stream",
     "text": [
      " \"1234603\"                                       "
     ]
    },
    {
     "name": "stdout",
     "output_type": "stream",
     "text": [
      " \"meo\"    "
     ]
    },
    {
     "name": "stdout",
     "output_type": "stream",
     "text": [
      "\n",
      " [662,]"
     ]
    },
    {
     "name": "stdout",
     "output_type": "stream",
     "text": [
      " \"T02111\""
     ]
    },
    {
     "name": "stdout",
     "output_type": "stream",
     "text": [
      " \"630626\"                                        "
     ]
    },
    {
     "name": "stdout",
     "output_type": "stream",
     "text": [
      " \"ebt\"    "
     ]
    },
    {
     "name": "stdout",
     "output_type": "stream",
     "text": [
      "\n",
      " [663,]"
     ]
    },
    {
     "name": "stdout",
     "output_type": "stream",
     "text": [
      " \"T02625\""
     ]
    },
    {
     "name": "stdout",
     "output_type": "stream",
     "text": [
      " \"1286170\"                                       "
     ]
    },
    {
     "name": "stdout",
     "output_type": "stream",
     "text": [
      " \"ror\"    "
     ]
    },
    {
     "name": "stdout",
     "output_type": "stream",
     "text": [
      "\n",
      " [664,]"
     ]
    },
    {
     "name": "stdout",
     "output_type": "stream",
     "text": [
      " \"T03629\""
     ]
    },
    {
     "name": "stdout",
     "output_type": "stream",
     "text": [
      " \"54291\"                                         "
     ]
    },
    {
     "name": "stdout",
     "output_type": "stream",
     "text": [
      " \"ron\"    "
     ]
    },
    {
     "name": "stdout",
     "output_type": "stream",
     "text": [
      "\n",
      " [665,]"
     ]
    },
    {
     "name": "stdout",
     "output_type": "stream",
     "text": [
      " \"T03298\""
     ]
    },
    {
     "name": "stdout",
     "output_type": "stream",
     "text": [
      " \"158822\"                                        "
     ]
    },
    {
     "name": "stdout",
     "output_type": "stream",
     "text": [
      " \"cnt\"    "
     ]
    },
    {
     "name": "stdout",
     "output_type": "stream",
     "text": [
      "\n",
      " [666,]"
     ]
    },
    {
     "name": "stdout",
     "output_type": "stream",
     "text": [
      " \"T03328\""
     ]
    },
    {
     "name": "stdout",
     "output_type": "stream",
     "text": [
      " \"158822\"                                        "
     ]
    },
    {
     "name": "stdout",
     "output_type": "stream",
     "text": [
      " \"cem\"    "
     ]
    },
    {
     "name": "stdout",
     "output_type": "stream",
     "text": [
      "\n",
      " [667,]"
     ]
    },
    {
     "name": "stdout",
     "output_type": "stream",
     "text": [
      " \"T03337\""
     ]
    },
    {
     "name": "stdout",
     "output_type": "stream",
     "text": [
      " \"158822\"                                        "
     ]
    },
    {
     "name": "stdout",
     "output_type": "stream",
     "text": [
      " \"cen\"    "
     ]
    },
    {
     "name": "stdout",
     "output_type": "stream",
     "text": [
      "\n",
      " [668,]"
     ]
    },
    {
     "name": "stdout",
     "output_type": "stream",
     "text": [
      " \"T03347\""
     ]
    },
    {
     "name": "stdout",
     "output_type": "stream",
     "text": [
      " \"158822\"                                        "
     ]
    },
    {
     "name": "stdout",
     "output_type": "stream",
     "text": [
      " \"ced\"    "
     ]
    },
    {
     "name": "stdout",
     "output_type": "stream",
     "text": [
      "\n",
      " [669,]"
     ]
    },
    {
     "name": "stdout",
     "output_type": "stream",
     "text": [
      " \"T03300\""
     ]
    },
    {
     "name": "stdout",
     "output_type": "stream",
     "text": [
      " \"61647\"                                         "
     ]
    },
    {
     "name": "stdout",
     "output_type": "stream",
     "text": [
      " \"pge\"    "
     ]
    },
    {
     "name": "stdout",
     "output_type": "stream",
     "text": [
      "\n",
      " [670,]"
     ]
    },
    {
     "name": "stdout",
     "output_type": "stream",
     "text": [
      " \"T01342\""
     ]
    },
    {
     "name": "stdout",
     "output_type": "stream",
     "text": [
      " \"701347\"                                        "
     ]
    },
    {
     "name": "stdout",
     "output_type": "stream",
     "text": [
      " \"esc\"    "
     ]
    },
    {
     "name": "stdout",
     "output_type": "stream",
     "text": [
      "\n",
      " [671,]"
     ]
    },
    {
     "name": "stdout",
     "output_type": "stream",
     "text": [
      " \"T04198\""
     ]
    },
    {
     "name": "stdout",
     "output_type": "stream",
     "text": [
      " \"1334193\"                                       "
     ]
    },
    {
     "name": "stdout",
     "output_type": "stream",
     "text": [
      " \"kle\"    "
     ]
    },
    {
     "name": "stdout",
     "output_type": "stream",
     "text": [
      "\n",
      " [672,]"
     ]
    },
    {
     "name": "stdout",
     "output_type": "stream",
     "text": [
      " \"T03601\""
     ]
    },
    {
     "name": "stdout",
     "output_type": "stream",
     "text": [
      " \"1235834\"                                       "
     ]
    },
    {
     "name": "stdout",
     "output_type": "stream",
     "text": [
      " \"ksa\"    "
     ]
    },
    {
     "name": "stdout",
     "output_type": "stream",
     "text": [
      "\n",
      " [673,]"
     ]
    },
    {
     "name": "stdout",
     "output_type": "stream",
     "text": [
      " \"T04433\""
     ]
    },
    {
     "name": "stdout",
     "output_type": "stream",
     "text": [
      " \"497725\"                                        "
     ]
    },
    {
     "name": "stdout",
     "output_type": "stream",
     "text": [
      " \"kor\"    "
     ]
    },
    {
     "name": "stdout",
     "output_type": "stream",
     "text": [
      "\n",
      " [674,]"
     ]
    },
    {
     "name": "stdout",
     "output_type": "stream",
     "text": [
      " \"T04579\""
     ]
    },
    {
     "name": "stdout",
     "output_type": "stream",
     "text": [
      " \"283686\"                                        "
     ]
    },
    {
     "name": "stdout",
     "output_type": "stream",
     "text": [
      " \"krd\"    "
     ]
    },
    {
     "name": "stdout",
     "output_type": "stream",
     "text": [
      "\n",
      " [675,]"
     ]
    },
    {
     "name": "stdout",
     "output_type": "stream",
     "text": [
      " \"T04691\""
     ]
    },
    {
     "name": "stdout",
     "output_type": "stream",
     "text": [
      " \"208223\"                                        "
     ]
    },
    {
     "name": "stdout",
     "output_type": "stream",
     "text": [
      " \"kco\"    "
     ]
    },
    {
     "name": "stdout",
     "output_type": "stream",
     "text": [
      "\n",
      " [676,]"
     ]
    },
    {
     "name": "stdout",
     "output_type": "stream",
     "text": [
      " \"T03950\""
     ]
    },
    {
     "name": "stdout",
     "output_type": "stream",
     "text": [
      " \"61648\"                                         "
     ]
    }
   ],
   "source": [
    "print(korg)\n",
    "print(\"here\")\n",
    "\n",
    "robjects.r('''\n",
    "\n",
    "print(korg)\n",
    "\n",
    "''')"
   ]
  },
  {
   "cell_type": "code",
   "execution_count": 26,
   "id": "pediatric-tower",
   "metadata": {
    "execution": {
     "shell.execute_reply": "2021-04-02T00:16:57.527921Z"
    }
   },
   "outputs": [],
   "source": [
    "load('static/ls_path.RData')\n",
    "load('static/korg.RData')"
   ]
  },
  {
   "cell_type": "code",
   "execution_count": 27,
   "id": "tropical-alaska",
   "metadata": {
    "execution": {
     "iopub.execute_input": "2021-04-02T00:17:01.540114Z",
     "iopub.status.busy": "2021-04-02T00:17:01.537944Z",
     "iopub.status.idle": "2021-04-02T00:17:04.283511Z",
     "shell.execute_reply": "2021-04-02T00:17:04.282746Z"
    }
   },
   "outputs": [
    {
     "data": {
      "text/html": [
       "\n",
       "<emph>DataFrame</emph> with 6 rows and\n",
       "  5 columns:\n",
       "<table class=\"rpy2_table\">\n",
       "  <thead>\n",
       "    <tr class=\"rpy2_names\">\n",
       "      <th></th>\n",
       "      <th></th>\n",
       "      <th>Pathway name</th>\n",
       "      <th>No.of mets in study</th>\n",
       "      <th>Total_no._of_comps_in_pathway</th>\n",
       "      <th>pathway_HG p-value</th>\n",
       "      <th>Padjust</th>\n",
       "    </tr>\n",
       "  </thead>\n",
       "  <tbody>\n",
       "    <tr>\n",
       "      <td class=\"rpy2_rowname\">0</td>\n",
       "        <td class=\"rpy2_names\">1</td>\n",
       "      <td>Arachidonic acid metabolism</td>\n",
       "      <td>4</td>\n",
       "      <td>75</td>\n",
       "      <td>0.999173034565787</td>\n",
       "      <td>0.999173034565787</td>\n",
       "    </tr>\n",
       "    <tr>\n",
       "      <td class=\"rpy2_rowname\">1</td>\n",
       "        <td class=\"rpy2_names\">2</td>\n",
       "      <td>Glycerolipid metabolism</td>\n",
       "      <td>12</td>\n",
       "      <td>38</td>\n",
       "      <td>0.008469408188587033</td>\n",
       "      <td>0.02117352047146758</td>\n",
       "    </tr>\n",
       "    <tr>\n",
       "      <td class=\"rpy2_rowname\">2</td>\n",
       "        <td class=\"rpy2_names\">3</td>\n",
       "      <td>Glycerophospholipid metabolism</td>\n",
       "      <td>17</td>\n",
       "      <td>52</td>\n",
       "      <td>0.0009973045347542882</td>\n",
       "      <td>0.003324348449180961</td>\n",
       "    </tr>\n",
       "    <tr>\n",
       "      <td class=\"rpy2_rowname\">3</td>\n",
       "        <td class=\"rpy2_names\">4</td>\n",
       "      <td>Glycine, serine and threonine metabolism</td>\n",
       "      <td>4</td>\n",
       "      <td>50</td>\n",
       "      <td>0.9705818848647176</td>\n",
       "      <td>0.999173034565787</td>\n",
       "    </tr>\n",
       "    <tr>\n",
       "      <td class=\"rpy2_rowname\">4</td>\n",
       "        <td class=\"rpy2_names\">5</td>\n",
       "      <td>Glycosylphosphatidylinositol (GPI)-anchor biosynthesis</td>\n",
       "      <td>13</td>\n",
       "      <td>16</td>\n",
       "      <td>5.698535988454919e-09</td>\n",
       "      <td>2.8492679942274595e-08</td>\n",
       "    </tr>\n",
       "    <tr>\n",
       "      <td class=\"rpy2_rowname\">5</td>\n",
       "        <td class=\"rpy2_names\">6</td>\n",
       "      <td>Inositol phosphate metabolism</td>\n",
       "      <td>9</td>\n",
       "      <td>47</td>\n",
       "      <td>0.3070207366874475</td>\n",
       "      <td>0.4386010524106393</td>\n",
       "    </tr>\n",
       "  </tbody>\n",
       "</table>"
      ],
      "text/plain": [
       "<rpy2.robjects.vectors.DataFrame object at 0x7fae3d0b4b40> [RTYPES.VECSXP]\n",
       "R classes: ('data.frame',)\n",
       "[IntSexp..., IntSexp..., IntSexp..., FloatSe..., FloatSe...]\n",
       "  Pathway name: <class 'rpy2.rinterface.IntSexpVector'>\n",
       "  <rpy2.rinterface.IntSexpVector object at 0x7fae3f8d4fc0> [RTYPES.INTSXP]\n",
       "  No.of mets in study: <class 'rpy2.rinterface.IntSexpVector'>\n",
       "  <rpy2.rinterface.IntSexpVector object at 0x7fae3f8d4240> [RTYPES.INTSXP]\n",
       "  Total_no._of_comps_in_pathway: <class 'rpy2.rinterface.IntSexpVector'>\n",
       "  <rpy2.rinterface.IntSexpVector object at 0x7fae3f8d4fc0> [RTYPES.INTSXP]\n",
       "  pathway_HG p-value: <class 'rpy2.rinterface.FloatSexpVector'>\n",
       "  <rpy2.rinterface.FloatSexpVector object at 0x7fae3f8d4d00> [RTYPES.REALSXP]\n",
       "  Padjust: <class 'rpy2.rinterface.FloatSexpVector'>\n",
       "  <rpy2.rinterface.FloatSexpVector object at 0x7fae3ca58300> [RTYPES.REALSXP]"
      ]
     },
     "execution_count": 27,
     "metadata": {},
     "output_type": "execute_result"
    }
   ],
   "source": [
    "robjects.r('''\n",
    "kegg_es = path_enrichmentscore(met_path,sig_metabolite_kegg_id=sig_metabolite_kegg_id,ls_path=ls_path,refmet_class=refmet_class,sps=studyOrg,padj=padjchar, kegg_comp_path=keggTFchar)\n",
    "head(kegg_es)\n",
    "''')"
   ]
  },
  {
   "cell_type": "markdown",
   "id": "analyzed-vertical",
   "metadata": {},
   "source": [
    "### Plot pathway network\n",
    "Only plotting significant pathways (pathway with p-value significance).\n",
    "\n",
    "The pathway network is such that it shows metabolites that are connected to different pathways and same metabolite in different pathway. Color of nodes of metabolites are according to the fold change of metabolites (low expression in green and high in red) and size of pathway nodes (square nodes) are according to the number of branches (meaning no of metabolites). All metabolite are written in blue"
   ]
  },
  {
   "cell_type": "code",
   "execution_count": 28,
   "id": "random-aside",
   "metadata": {
    "execution": {
     "iopub.execute_input": "2021-04-02T00:17:04.293245Z",
     "iopub.status.busy": "2021-04-02T00:17:04.290951Z",
     "iopub.status.idle": "2021-04-02T00:17:05.821412Z",
     "shell.execute_reply": "2021-04-02T00:17:05.823360Z"
    }
   },
   "outputs": [
    {
     "data": {
      "image/png": "[encoded data removed]",
      "text/plain": [
       "<IPython.core.display.Image object>"
      ]
     },
     "execution_count": 28,
     "metadata": {},
     "output_type": "execute_result"
    }
   ],
   "source": [
    "image_png(robjects.r('''\n",
    "plot_pathway_networks (met_path,kegg_es, TRUE)\n",
    "'''))"
   ]
  },
  {
   "cell_type": "markdown",
   "id": "revolutionary-rogers",
   "metadata": {},
   "source": [
    "### Heatmap"
   ]
  },
  {
   "cell_type": "code",
   "execution_count": 29,
   "id": "animated-flush",
   "metadata": {
    "execution": {
     "iopub.execute_input": "2021-04-02T00:17:05.837010Z",
     "iopub.status.busy": "2021-04-02T00:17:05.834404Z",
     "iopub.status.idle": "2021-04-02T00:17:05.844657Z",
     "shell.execute_reply": "2021-04-02T00:17:05.843535Z"
    }
   },
   "outputs": [
    {
     "data": {
      "text/html": [
       "\n",
       "<emph>IntVector</emph> with 1 elements:\n",
       "<table class=\"rpy2_table\">\n",
       "<thead>\n",
       "</thead>\n",
       "<tbody>\n",
       "<tr>\n",
       "      <td>7</td>\n",
       "</tr>\n",
       "</tbody>\n",
       "</table>"
      ],
      "text/plain": [
       "<rpy2.robjects.vectors.IntVector object at 0x7fae3f8abc00> [RTYPES.INTSXP]\n",
       "R classes: ('integer',)\n",
       "[7]"
      ]
     },
     "execution_count": 29,
     "metadata": {},
     "output_type": "execute_result"
    }
   ],
   "source": [
    "robjects.r.assign('x_size_heat', 9)\n",
    "robjects.r.assign('y_size_heat', 7)"
   ]
  },
  {
   "cell_type": "code",
   "execution_count": 30,
   "id": "integral-israeli",
   "metadata": {
    "execution": {
     "iopub.execute_input": "2021-04-02T00:17:05.858998Z",
     "iopub.status.busy": "2021-04-02T00:17:05.855819Z",
     "iopub.status.idle": "2021-04-02T00:17:06.066435Z",
     "shell.execute_reply": "2021-04-02T00:17:06.067484Z"
    }
   },
   "outputs": [
    {
     "data": {
      "image/png": "[encoded data removed]",
      "text/plain": [
       "<IPython.core.display.Image object>"
      ]
     },
     "execution_count": 30,
     "metadata": {},
     "output_type": "execute_result"
    }
   ],
   "source": [
    "image_png(robjects.r('''\n",
    "plot_heatmap(met_path, shorten_name=TRUE,refmet_name=FALSE, xaxis=x_size_heat, yaxis=y_size_heat)\n",
    "'''))"
   ]
  },
  {
   "cell_type": "markdown",
   "id": "capital-cincinnati",
   "metadata": {},
   "source": [
    "### Dotplot"
   ]
  },
  {
   "cell_type": "code",
   "execution_count": 31,
   "id": "worldwide-surface",
   "metadata": {
    "execution": {
     "iopub.execute_input": "2021-04-02T00:17:06.077410Z",
     "iopub.status.busy": "2021-04-02T00:17:06.074927Z",
     "iopub.status.idle": "2021-04-02T00:17:06.083396Z",
     "shell.execute_reply": "2021-04-02T00:17:06.084653Z"
    }
   },
   "outputs": [
    {
     "data": {
      "text/html": [
       "\n",
       "<emph>IntVector</emph> with 1 elements:\n",
       "<table class=\"rpy2_table\">\n",
       "<thead>\n",
       "</thead>\n",
       "<tbody>\n",
       "<tr>\n",
       "      <td>6</td>\n",
       "</tr>\n",
       "</tbody>\n",
       "</table>"
      ],
      "text/plain": [
       "<rpy2.robjects.vectors.IntVector object at 0x7fae3f923b00> [RTYPES.INTSXP]\n",
       "R classes: ('integer',)\n",
       "[6]"
      ]
     },
     "execution_count": 31,
     "metadata": {},
     "output_type": "execute_result"
    }
   ],
   "source": [
    "robjects.r.assign('x_size_dot', 8)\n",
    "robjects.r.assign('y_size_dot', 6)"
   ]
  },
  {
   "cell_type": "code",
   "execution_count": 32,
   "id": "amateur-completion",
   "metadata": {
    "execution": {
     "iopub.execute_input": "2021-04-02T00:17:06.095333Z",
     "iopub.status.busy": "2021-04-02T00:17:06.092756Z",
     "iopub.status.idle": "2021-04-02T00:17:06.380941Z",
     "shell.execute_reply": "2021-04-02T00:17:06.381856Z"
    }
   },
   "outputs": [
    {
     "data": {
      "image/png": "[encoded data removed]",
      "text/plain": [
       "<IPython.core.display.Image object>"
      ]
     },
     "execution_count": 32,
     "metadata": {},
     "output_type": "execute_result"
    }
   ],
   "source": [
    "image_png(robjects.r('''\n",
    "dotplot_met_class_path (met_path, kegg_es, metclassvar,xaxis=x_size_dot,yaxis=y_size_dot)\n",
    "'''))"
   ]
  },
  {
   "cell_type": "markdown",
   "id": "outdoor-irrigation",
   "metadata": {},
   "source": [
    "### Get the gene and enzyme info\n",
    "\n",
    "Here we get the information of genes involved in enriched pathways for specified organism"
   ]
  },
  {
   "cell_type": "code",
   "execution_count": 33,
   "id": "cultural-empire",
   "metadata": {
    "execution": {
     "iopub.execute_input": "2021-04-02T00:17:06.392172Z",
     "iopub.status.busy": "2021-04-02T00:17:06.389844Z",
     "iopub.status.idle": "2021-04-02T00:18:00.573049Z",
     "shell.execute_reply": "2021-04-02T00:18:00.573695Z"
    }
   },
   "outputs": [
    {
     "data": {
      "text/html": [
       "\n",
       "<emph>DataFrame</emph> with 6 rows and\n",
       "  18 columns:\n",
       "<table class=\"rpy2_table\">\n",
       "  <thead>\n",
       "    <tr class=\"rpy2_names\">\n",
       "      <th></th>\n",
       "      <th></th>\n",
       "      <th>orthology_id</th>\n",
       "      <th>ORTHOLOGY</th>\n",
       "      <th>gene_id</th>\n",
       "      <th>gene_name</th>\n",
       "      <th>...</th>\n",
       "      <th>EQUATION_more</th>\n",
       "      <th>ENZYME</th>\n",
       "    </tr>\n",
       "  </thead>\n",
       "  <tbody>\n",
       "    <tr>\n",
       "      <td class=\"rpy2_rowname\">0</td>\n",
       "        <td class=\"rpy2_names\">1</td>\n",
       "      <td>K00551</td>\n",
       "      <td>phosphatidylethanolamine/phosphatidyl-N-methylethanolamine N-methyltransferase [EC:2.1.1.17 2.1.1.71]</td>\n",
       "      <td>    CDS \n",
       "\"10400\" \n",
       "</td>\n",
       "      <td>[1] \"PEMT, PEAMT, PEMPT, PEMT2, PLMT, PNMT\"\n",
       "</td>\n",
       "       <td>...</td>\n",
       "      <td>[1] \"S-Adenosyl-L-methionine + Phosphatidylethanolamine <=> S-Adenosyl-L-homocysteine + Phosphatidyl-N-methylethanolamine\"\n",
       "</td>\n",
       "      <td>[1] \"2.1.1.17\"\n",
       "</td>\n",
       "    </tr>\n",
       "    <tr>\n",
       "      <td class=\"rpy2_rowname\">1</td>\n",
       "        <td class=\"rpy2_names\">2</td>\n",
       "      <td>K00551</td>\n",
       "      <td>phosphatidylethanolamine/phosphatidyl-N-methylethanolamine N-methyltransferase [EC:2.1.1.17 2.1.1.71]</td>\n",
       "      <td>    CDS \n",
       "\"10400\" \n",
       "</td>\n",
       "      <td>[1] \"PEMT, PEAMT, PEMPT, PEMT2, PLMT, PNMT\"\n",
       "</td>\n",
       "       <td>...</td>\n",
       "      <td>[1] \"S-Adenosyl-L-methionine + Phosphatidylethanolamine <=> S-Adenosyl-L-homocysteine + Phosphatidyl-N-methylethanolamine\"\n",
       "</td>\n",
       "      <td>[1] \"2.1.1.17\"\n",
       "</td>\n",
       "    </tr>\n",
       "    <tr>\n",
       "      <td class=\"rpy2_rowname\">2</td>\n",
       "        <td class=\"rpy2_names\">3</td>\n",
       "      <td>K00551</td>\n",
       "      <td>phosphatidylethanolamine/phosphatidyl-N-methylethanolamine N-methyltransferase [EC:2.1.1.17 2.1.1.71]</td>\n",
       "      <td>    CDS \n",
       "\"10400\" \n",
       "</td>\n",
       "      <td>[1] \"PEMT, PEAMT, PEMPT, PEMT2, PLMT, PNMT\"\n",
       "</td>\n",
       "       <td>...</td>\n",
       "      <td>[1] \"S-Adenosyl-L-methionine + Phosphatidylethanolamine <=> S-Adenosyl-L-homocysteine + Phosphatidyl-N-methylethanolamine\"\n",
       "</td>\n",
       "      <td>[1] \"2.1.1.17\"\n",
       "</td>\n",
       "    </tr>\n",
       "    <tr>\n",
       "      <td class=\"rpy2_rowname\">3</td>\n",
       "        <td class=\"rpy2_names\">4</td>\n",
       "      <td>K00551</td>\n",
       "      <td>phosphatidylethanolamine/phosphatidyl-N-methylethanolamine N-methyltransferase [EC:2.1.1.17 2.1.1.71]</td>\n",
       "      <td>    CDS \n",
       "\"10400\" \n",
       "</td>\n",
       "      <td>[1] \"PEMT, PEAMT, PEMPT, PEMT2, PLMT, PNMT\"\n",
       "</td>\n",
       "       <td>...</td>\n",
       "      <td>[1] \"S-Adenosyl-L-methionine + Phosphatidylethanolamine <=> S-Adenosyl-L-homocysteine + Phosphatidyl-N-methylethanolamine\"\n",
       "</td>\n",
       "      <td>[1] \"2.1.1.17\"\n",
       "</td>\n",
       "    </tr>\n",
       "    <tr>\n",
       "      <td class=\"rpy2_rowname\">4</td>\n",
       "        <td class=\"rpy2_names\">5</td>\n",
       "      <td>K00637</td>\n",
       "      <td>sterol O-acyltransferase [EC:2.3.1.26]</td>\n",
       "      <td>   CDS \n",
       "\"6646\" \n",
       "</td>\n",
       "      <td>[1] \"SOAT1, ACACT, ACAT, ACAT-1, ACAT1, SOAT, STAT\"\n",
       "</td>\n",
       "       <td>...</td>\n",
       "      <td>[1] \"Acyl-CoA + Cholesterol <=> CoA + Cholesterol ester\"\n",
       "</td>\n",
       "      <td>[1] \"2.3.1.26\"\n",
       "</td>\n",
       "    </tr>\n",
       "    <tr>\n",
       "      <td class=\"rpy2_rowname\">5</td>\n",
       "        <td class=\"rpy2_names\">6</td>\n",
       "      <td>K00637</td>\n",
       "      <td>sterol O-acyltransferase [EC:2.3.1.26]</td>\n",
       "      <td>   CDS \n",
       "\"8435\" \n",
       "</td>\n",
       "      <td>[1] \"SOAT2, ACACT2, ACAT2, ARGP2\"\n",
       "</td>\n",
       "       <td>...</td>\n",
       "      <td>[1] \"Acyl-CoA + Cholesterol <=> CoA + Cholesterol ester\"\n",
       "</td>\n",
       "      <td>[1] \"2.3.1.26\"\n",
       "</td>\n",
       "    </tr>\n",
       "  </tbody>\n",
       "</table>"
      ],
      "text/plain": [
       "<rpy2.robjects.vectors.DataFrame object at 0x7fae3f8b3e40> [RTYPES.VECSXP]\n",
       "R classes: ('data.frame',)\n",
       "[StrSexpVe..., StrSexpVe..., ListSexpV..., ListSexpV..., ..., ListSexpV..., ListSexpV..., ListSexpV..., ListSexpV...]\n",
       "  orthology_id: <class 'rpy2.robjects.vectors.StrVector'>\n",
       "  <rpy2.robjects.vectors.StrVector object at 0x7fae3ca26280> [RTYPES.STRSXP]\n",
       "R classes: ('character',)\n",
       "['K005..., 'K005..., 'K005..., 'K005..., 'K006..., 'K006...]\n",
       "  ORTHOLOGY: <class 'rpy2.robjects.vectors.StrVector'>\n",
       "  <rpy2.robjects.vectors.StrVector object at 0x7fae3ca269c0> [RTYPES.STRSXP]\n",
       "R classes: ('character',)\n",
       "['phos..., 'phos..., 'phos..., 'phos..., 'ster..., 'ster...]\n",
       "<rpy2.robjects.vectors.DataFrame object at 0x7fae3f8b3e40> [RTYPES.VECSXP]\n",
       "R classes: ('data.frame',)\n",
       "[StrSexpVe..., StrSexpVe..., ListSexpV..., ListSexpV..., ..., ListSexpV..., ListSexpV..., ListSexpV..., ListSexpV...]\n",
       "<rpy2.robjects.vectors.DataFrame object at 0x7fae3f8b3e40> [RTYPES.VECSXP]\n",
       "R classes: ('data.frame',)\n",
       "[StrSexpVe..., StrSexpVe..., ListSexpV..., ListSexpV..., ..., ListSexpV..., ListSexpV..., ListSexpV..., ListSexpV...]\n",
       "...\n",
       "<rpy2.robjects.vectors.DataFrame object at 0x7fae3f8b3e40> [RTYPES.VECSXP]\n",
       "R classes: ('data.frame',)\n",
       "[StrSexpVe..., StrSexpVe..., ListSexpV..., ListSexpV..., ..., ListSexpV..., ListSexpV..., ListSexpV..., ListSexpV...]\n",
       "<rpy2.robjects.vectors.DataFrame object at 0x7fae3f8b3e40> [RTYPES.VECSXP]\n",
       "R classes: ('data.frame',)\n",
       "[StrSexpVe..., StrSexpVe..., ListSexpV..., ListSexpV..., ..., ListSexpV..., ListSexpV..., ListSexpV..., ListSexpV...]\n",
       "<rpy2.robjects.vectors.DataFrame object at 0x7fae3f8b3e40> [RTYPES.VECSXP]\n",
       "R classes: ('data.frame',)\n",
       "[StrSexpVe..., StrSexpVe..., ListSexpV..., ListSexpV..., ..., ListSexpV..., ListSexpV..., ListSexpV..., ListSexpV...]\n",
       "<rpy2.robjects.vectors.DataFrame object at 0x7fae3f8b3e40> [RTYPES.VECSXP]\n",
       "R classes: ('data.frame',)\n",
       "[StrSexpVe..., StrSexpVe..., ListSexpV..., ListSexpV..., ..., ListSexpV..., ListSexpV..., ListSexpV..., ListSexpV...]"
      ]
     },
     "execution_count": 33,
     "metadata": {},
     "output_type": "execute_result"
    }
   ],
   "source": [
    "robjects.r('''\n",
    "met_gene_info = enzyme_gene_info (metenrichment, studyOrg, metclassvar)\n",
    "head(met_gene_info)\n",
    "''')"
   ]
  },
  {
   "cell_type": "markdown",
   "id": "baking-madison",
   "metadata": {},
   "source": [
    "#### Get the information if metabolite is a reactant or substrate"
   ]
  },
  {
   "cell_type": "code",
   "execution_count": 34,
   "id": "uniform-substitute",
   "metadata": {
    "execution": {
     "iopub.execute_input": "2021-04-02T00:18:00.587391Z",
     "iopub.status.busy": "2021-04-02T00:18:00.584969Z",
     "iopub.status.idle": "2021-04-02T00:18:00.746099Z",
     "shell.execute_reply": "2021-04-02T00:18:00.745358Z"
    }
   },
   "outputs": [
    {
     "data": {
      "text/html": [
       "\n",
       "<emph>DataFrame</emph> with 6 rows and\n",
       "  19 columns:\n",
       "<table class=\"rpy2_table\">\n",
       "  <thead>\n",
       "    <tr class=\"rpy2_names\">\n",
       "      <th></th>\n",
       "      <th></th>\n",
       "      <th>orthology_id</th>\n",
       "      <th>ORTHOLOGY</th>\n",
       "      <th>gene_id</th>\n",
       "      <th>gene_name</th>\n",
       "      <th>...</th>\n",
       "      <th>ENZYME</th>\n",
       "      <th>reactant_product</th>\n",
       "    </tr>\n",
       "  </thead>\n",
       "  <tbody>\n",
       "    <tr>\n",
       "      <td class=\"rpy2_rowname\">0</td>\n",
       "        <td class=\"rpy2_names\">1</td>\n",
       "      <td>K00551</td>\n",
       "      <td>phosphatidylethanolamine/phosphatidyl-N-methylethanolamine N-methyltransferase [EC:2.1.1.17 2.1.1.71]</td>\n",
       "      <td>    CDS \n",
       "\"10400\" \n",
       "</td>\n",
       "      <td>[1] \"PEMT, PEAMT, PEMPT, PEMT2, PLMT, PNMT\"\n",
       "</td>\n",
       "       <td>...</td>\n",
       "      <td>[1] \"2.1.1.17\"\n",
       "</td>\n",
       "      <td>Substrate</td>\n",
       "    </tr>\n",
       "    <tr>\n",
       "      <td class=\"rpy2_rowname\">1</td>\n",
       "        <td class=\"rpy2_names\">2</td>\n",
       "      <td>K00551</td>\n",
       "      <td>phosphatidylethanolamine/phosphatidyl-N-methylethanolamine N-methyltransferase [EC:2.1.1.17 2.1.1.71]</td>\n",
       "      <td>    CDS \n",
       "\"10400\" \n",
       "</td>\n",
       "      <td>[1] \"PEMT, PEAMT, PEMPT, PEMT2, PLMT, PNMT\"\n",
       "</td>\n",
       "       <td>...</td>\n",
       "      <td>[1] \"2.1.1.17\"\n",
       "</td>\n",
       "      <td>Substrate</td>\n",
       "    </tr>\n",
       "    <tr>\n",
       "      <td class=\"rpy2_rowname\">2</td>\n",
       "        <td class=\"rpy2_names\">3</td>\n",
       "      <td>K00551</td>\n",
       "      <td>phosphatidylethanolamine/phosphatidyl-N-methylethanolamine N-methyltransferase [EC:2.1.1.17 2.1.1.71]</td>\n",
       "      <td>    CDS \n",
       "\"10400\" \n",
       "</td>\n",
       "      <td>[1] \"PEMT, PEAMT, PEMPT, PEMT2, PLMT, PNMT\"\n",
       "</td>\n",
       "       <td>...</td>\n",
       "      <td>[1] \"2.1.1.17\"\n",
       "</td>\n",
       "      <td>Substrate</td>\n",
       "    </tr>\n",
       "    <tr>\n",
       "      <td class=\"rpy2_rowname\">3</td>\n",
       "        <td class=\"rpy2_names\">4</td>\n",
       "      <td>K00551</td>\n",
       "      <td>phosphatidylethanolamine/phosphatidyl-N-methylethanolamine N-methyltransferase [EC:2.1.1.17 2.1.1.71]</td>\n",
       "      <td>    CDS \n",
       "\"10400\" \n",
       "</td>\n",
       "      <td>[1] \"PEMT, PEAMT, PEMPT, PEMT2, PLMT, PNMT\"\n",
       "</td>\n",
       "       <td>...</td>\n",
       "      <td>[1] \"2.1.1.17\"\n",
       "</td>\n",
       "      <td>Substrate</td>\n",
       "    </tr>\n",
       "    <tr>\n",
       "      <td class=\"rpy2_rowname\">4</td>\n",
       "        <td class=\"rpy2_names\">5</td>\n",
       "      <td>K00637</td>\n",
       "      <td>sterol O-acyltransferase [EC:2.3.1.26]</td>\n",
       "      <td>   CDS \n",
       "\"6646\" \n",
       "</td>\n",
       "      <td>[1] \"SOAT1, ACACT, ACAT, ACAT-1, ACAT1, SOAT, STAT\"\n",
       "</td>\n",
       "       <td>...</td>\n",
       "      <td>[1] \"2.3.1.26\"\n",
       "</td>\n",
       "      <td>Product</td>\n",
       "    </tr>\n",
       "    <tr>\n",
       "      <td class=\"rpy2_rowname\">5</td>\n",
       "        <td class=\"rpy2_names\">6</td>\n",
       "      <td>K00637</td>\n",
       "      <td>sterol O-acyltransferase [EC:2.3.1.26]</td>\n",
       "      <td>   CDS \n",
       "\"8435\" \n",
       "</td>\n",
       "      <td>[1] \"SOAT2, ACACT2, ACAT2, ARGP2\"\n",
       "</td>\n",
       "       <td>...</td>\n",
       "      <td>[1] \"2.3.1.26\"\n",
       "</td>\n",
       "      <td>Product</td>\n",
       "    </tr>\n",
       "  </tbody>\n",
       "</table>"
      ],
      "text/plain": [
       "<rpy2.robjects.vectors.DataFrame object at 0x7fae38757dc0> [RTYPES.VECSXP]\n",
       "R classes: ('data.frame',)\n",
       "[StrSexpVe..., StrSexpVe..., ListSexpV..., ListSexpV..., ..., ListSexpV..., ListSexpV..., ListSexpV..., StrSexpVe...]\n",
       "  orthology_id: <class 'rpy2.robjects.vectors.StrVector'>\n",
       "  <rpy2.robjects.vectors.StrVector object at 0x7fae3ca1b8c0> [RTYPES.STRSXP]\n",
       "R classes: ('character',)\n",
       "['K005..., 'K005..., 'K005..., 'K005..., 'K006..., 'K006...]\n",
       "  ORTHOLOGY: <class 'rpy2.robjects.vectors.StrVector'>\n",
       "  <rpy2.robjects.vectors.StrVector object at 0x7fae3f8b34c0> [RTYPES.STRSXP]\n",
       "R classes: ('character',)\n",
       "['phos..., 'phos..., 'phos..., 'phos..., 'ster..., 'ster...]\n",
       "<rpy2.robjects.vectors.DataFrame object at 0x7fae38757dc0> [RTYPES.VECSXP]\n",
       "R classes: ('data.frame',)\n",
       "[StrSexpVe..., StrSexpVe..., ListSexpV..., ListSexpV..., ..., ListSexpV..., ListSexpV..., ListSexpV..., StrSexpVe...]\n",
       "<rpy2.robjects.vectors.DataFrame object at 0x7fae38757dc0> [RTYPES.VECSXP]\n",
       "R classes: ('data.frame',)\n",
       "[StrSexpVe..., StrSexpVe..., ListSexpV..., ListSexpV..., ..., ListSexpV..., ListSexpV..., ListSexpV..., StrSexpVe...]\n",
       "...\n",
       "<rpy2.robjects.vectors.DataFrame object at 0x7fae38757dc0> [RTYPES.VECSXP]\n",
       "R classes: ('data.frame',)\n",
       "[StrSexpVe..., StrSexpVe..., ListSexpV..., ListSexpV..., ..., ListSexpV..., ListSexpV..., ListSexpV..., StrSexpVe...]\n",
       "<rpy2.robjects.vectors.DataFrame object at 0x7fae38757dc0> [RTYPES.VECSXP]\n",
       "R classes: ('data.frame',)\n",
       "[StrSexpVe..., StrSexpVe..., ListSexpV..., ListSexpV..., ..., ListSexpV..., ListSexpV..., ListSexpV..., StrSexpVe...]\n",
       "<rpy2.robjects.vectors.DataFrame object at 0x7fae38757dc0> [RTYPES.VECSXP]\n",
       "R classes: ('data.frame',)\n",
       "[StrSexpVe..., StrSexpVe..., ListSexpV..., ListSexpV..., ..., ListSexpV..., ListSexpV..., ListSexpV..., StrSexpVe...]\n",
       "  MOTIF: <class 'rpy2.robjects.vectors.StrVector'>\n",
       "  <rpy2.robjects.vectors.StrVector object at 0x7fae3f8b46c0> [RTYPES.STRSXP]\n",
       "R classes: ('character',)\n",
       "['Subs..., 'Subs..., 'Subs..., 'Subs..., 'Prod..., 'Prod...]"
      ]
     },
     "execution_count": 34,
     "metadata": {},
     "output_type": "execute_result"
    }
   ],
   "source": [
    "robjects.r('''\n",
    "rclass_info = react_substrate(met_gene_info)\n",
    "head(rclass_info)\n",
    "''')"
   ]
  },
  {
   "cell_type": "markdown",
   "id": "nominated-cruise",
   "metadata": {},
   "source": [
    "#### Get gene info in short form"
   ]
  },
  {
   "cell_type": "code",
   "execution_count": 35,
   "id": "north-calcium",
   "metadata": {
    "execution": {
     "iopub.execute_input": "2021-04-02T00:18:00.756254Z",
     "iopub.status.busy": "2021-04-02T00:18:00.753904Z",
     "iopub.status.idle": "2021-04-02T00:18:01.228906Z",
     "shell.execute_reply": "2021-04-02T00:18:01.229825Z"
    }
   },
   "outputs": [
    {
     "data": {
      "text/html": [
       "\n",
       "<emph>DataFrame</emph> with 43 rows and\n",
       "  19 columns:\n",
       "<table class=\"rpy2_table\">\n",
       "  <thead>\n",
       "    <tr class=\"rpy2_names\">\n",
       "      <th></th>\n",
       "      <th></th>\n",
       "      <th>Metabolite</th>\n",
       "      <th>orthology_id</th>\n",
       "      <th>ORTHOLOGY</th>\n",
       "      <th>gene_id</th>\n",
       "      <th>...</th>\n",
       "      <th>ENZYME</th>\n",
       "      <th>reactant_product</th>\n",
       "    </tr>\n",
       "  </thead>\n",
       "  <tbody>\n",
       "    <tr>\n",
       "      <td class=\"rpy2_rowname\">0</td>\n",
       "        <td class=\"rpy2_names\">1</td>\n",
       "      <td>PE(38:6)</td>\n",
       "      <td>K00551, K00993, K01047, K01115, K01613, K05285, K05287, K05288, K05310, K08730, K13512, K13515, K13517, K13644, K14621, K16342, K16343, K16817, K16860</td>\n",
       "      <td>phosphatidylethanolamine/phosphatidyl-N-methylethanolamine N-methyltransferase [EC:2.1.1.17 2.1.1.71], ethanolaminephosphotransferase [EC:2.7.8.1], secretory phospholipase A2 [EC:3.1.1.4], phospholipase D1/2 [EC:3.1.4.4], phosphatidylserine decarboxylase [EC:4.1.1.65], GPI ethanolamine phosphate transferase 1 [EC:2.7.-.-], GPI ethanolamine phosphate transferase 2/3 subunit F, GPI ethanolamine phosphate transferase 3 subunit O [EC:2.7.-.-], ethanolamine phosphate transferase 2 subunit G [EC:2.7.-.-], phosphatidylserine synthase 2 [EC:2.7.8.29], lysophospholipid acyltransferase [EC:2.3.1.23 2.3.1.-], lysophospholipid acyltransferase 5 [EC:2.3.1.23 2.3.1.-], lysophospholipid acyltransferase 1/2 [EC:2.3.1.51 2.3.1.-], choline/ethanolamine phosphotransferase [EC:2.7.8.1 2.7.8.2], phospholipase B1, membrane-associated [EC:3.1.1.4 3.1.1.5], cytosolic phospholipase A2 [EC:3.1.1.4], calcium-independent phospholipase A2 [EC:3.1.1.4], HRAS-like suppressor 3 [EC:3.1.1.32 3.1.1.4], phospholipase D3/4 [EC:3.1.4.4]</td>\n",
       "      <td>10400, 85465, 26279, 30814, 391013, 50487, 5319, 5320, 5322, 64600, 81579, 8399, 84647, 5337, 5338, 23761, 23556, 5281, 84720, 54872, 81490, 254531, 10162, 129642, 154141, 10390, 151056, 100137049, 123745, 255189, 283748, 5321, 8605, 8681, 8398, 11145, 122618, 23646</td>\n",
       "       <td>...</td>\n",
       "      <td>2.1.1.17, 2.7.8.1, 3.1.1.4, 3.1.4.4, 4.1.1.65, 2.7.-.-, NULL, 2.7.8.29, 2.3.1.23, 3.1.1.32</td>\n",
       "      <td>Substrate, Product</td>\n",
       "    </tr>\n",
       "    <tr>\n",
       "      <td class=\"rpy2_rowname\">1</td>\n",
       "        <td class=\"rpy2_names\">2</td>\n",
       "      <td>PE(32:1)</td>\n",
       "      <td>K00551, K00993, K01047, K01115, K01613, K05285, K05287, K05288, K05310, K08730, K13512, K13515, K13517, K13644, K14621, K16342, K16343, K16817, K16860</td>\n",
       "      <td>phosphatidylethanolamine/phosphatidyl-N-methylethanolamine N-methyltransferase [EC:2.1.1.17 2.1.1.71], ethanolaminephosphotransferase [EC:2.7.8.1], secretory phospholipase A2 [EC:3.1.1.4], phospholipase D1/2 [EC:3.1.4.4], phosphatidylserine decarboxylase [EC:4.1.1.65], GPI ethanolamine phosphate transferase 1 [EC:2.7.-.-], GPI ethanolamine phosphate transferase 2/3 subunit F, GPI ethanolamine phosphate transferase 3 subunit O [EC:2.7.-.-], ethanolamine phosphate transferase 2 subunit G [EC:2.7.-.-], phosphatidylserine synthase 2 [EC:2.7.8.29], lysophospholipid acyltransferase [EC:2.3.1.23 2.3.1.-], lysophospholipid acyltransferase 5 [EC:2.3.1.23 2.3.1.-], lysophospholipid acyltransferase 1/2 [EC:2.3.1.51 2.3.1.-], choline/ethanolamine phosphotransferase [EC:2.7.8.1 2.7.8.2], phospholipase B1, membrane-associated [EC:3.1.1.4 3.1.1.5], cytosolic phospholipase A2 [EC:3.1.1.4], calcium-independent phospholipase A2 [EC:3.1.1.4], HRAS-like suppressor 3 [EC:3.1.1.32 3.1.1.4], phospholipase D3/4 [EC:3.1.4.4]</td>\n",
       "      <td>10400, 85465, 26279, 30814, 391013, 50487, 5319, 5320, 5322, 64600, 81579, 8399, 84647, 5337, 5338, 23761, 23556, 5281, 84720, 54872, 81490, 254531, 10162, 129642, 154141, 10390, 151056, 100137049, 123745, 255189, 283748, 5321, 8605, 8681, 8398, 11145, 122618, 23646</td>\n",
       "       <td>...</td>\n",
       "      <td>2.1.1.17, 2.7.8.1, 3.1.1.4, 3.1.4.4, 4.1.1.65, 2.7.-.-, NULL, 2.7.8.29, 2.3.1.23, 3.1.1.32</td>\n",
       "      <td>Substrate, Product</td>\n",
       "    </tr>\n",
       "    <tr>\n",
       "      <td class=\"rpy2_rowname\">2</td>\n",
       "        <td class=\"rpy2_names\">3</td>\n",
       "      <td>PE(40:6)</td>\n",
       "      <td>K00551, K00993, K01047, K01115, K01613, K05285, K05287, K05288, K05310, K08730, K13512, K13515, K13517, K13644, K14621, K16342, K16343, K16817, K16860</td>\n",
       "      <td>phosphatidylethanolamine/phosphatidyl-N-methylethanolamine N-methyltransferase [EC:2.1.1.17 2.1.1.71], ethanolaminephosphotransferase [EC:2.7.8.1], secretory phospholipase A2 [EC:3.1.1.4], phospholipase D1/2 [EC:3.1.4.4], phosphatidylserine decarboxylase [EC:4.1.1.65], GPI ethanolamine phosphate transferase 1 [EC:2.7.-.-], GPI ethanolamine phosphate transferase 2/3 subunit F, GPI ethanolamine phosphate transferase 3 subunit O [EC:2.7.-.-], ethanolamine phosphate transferase 2 subunit G [EC:2.7.-.-], phosphatidylserine synthase 2 [EC:2.7.8.29], lysophospholipid acyltransferase [EC:2.3.1.23 2.3.1.-], lysophospholipid acyltransferase 5 [EC:2.3.1.23 2.3.1.-], lysophospholipid acyltransferase 1/2 [EC:2.3.1.51 2.3.1.-], choline/ethanolamine phosphotransferase [EC:2.7.8.1 2.7.8.2], phospholipase B1, membrane-associated [EC:3.1.1.4 3.1.1.5], cytosolic phospholipase A2 [EC:3.1.1.4], calcium-independent phospholipase A2 [EC:3.1.1.4], HRAS-like suppressor 3 [EC:3.1.1.32 3.1.1.4], phospholipase D3/4 [EC:3.1.4.4]</td>\n",
       "      <td>10400, 85465, 26279, 30814, 391013, 50487, 5319, 5320, 5322, 64600, 81579, 8399, 84647, 5337, 5338, 23761, 23556, 5281, 84720, 54872, 81490, 254531, 10162, 129642, 154141, 10390, 151056, 100137049, 123745, 255189, 283748, 5321, 8605, 8681, 8398, 11145, 122618, 23646</td>\n",
       "       <td>...</td>\n",
       "      <td>2.1.1.17, 2.7.8.1, 3.1.1.4, 3.1.4.4, 4.1.1.65, 2.7.-.-, NULL, 2.7.8.29, 2.3.1.23, 3.1.1.32</td>\n",
       "      <td>Substrate, Product</td>\n",
       "    </tr>\n",
       "    <tr>\n",
       "      <td class=\"rpy2_rowname\">3</td>\n",
       "        <td class=\"rpy2_names\">4</td>\n",
       "      <td>PE(36:3)</td>\n",
       "      <td>K00551, K00993, K01047, K01115, K01613, K05285, K05287, K05288, K05310, K08730, K13512, K13515, K13517, K13644, K14621, K16342, K16343, K16817, K16860</td>\n",
       "      <td>phosphatidylethanolamine/phosphatidyl-N-methylethanolamine N-methyltransferase [EC:2.1.1.17 2.1.1.71], ethanolaminephosphotransferase [EC:2.7.8.1], secretory phospholipase A2 [EC:3.1.1.4], phospholipase D1/2 [EC:3.1.4.4], phosphatidylserine decarboxylase [EC:4.1.1.65], GPI ethanolamine phosphate transferase 1 [EC:2.7.-.-], GPI ethanolamine phosphate transferase 2/3 subunit F, GPI ethanolamine phosphate transferase 3 subunit O [EC:2.7.-.-], ethanolamine phosphate transferase 2 subunit G [EC:2.7.-.-], phosphatidylserine synthase 2 [EC:2.7.8.29], lysophospholipid acyltransferase [EC:2.3.1.23 2.3.1.-], lysophospholipid acyltransferase 5 [EC:2.3.1.23 2.3.1.-], lysophospholipid acyltransferase 1/2 [EC:2.3.1.51 2.3.1.-], choline/ethanolamine phosphotransferase [EC:2.7.8.1 2.7.8.2], phospholipase B1, membrane-associated [EC:3.1.1.4 3.1.1.5], cytosolic phospholipase A2 [EC:3.1.1.4], calcium-independent phospholipase A2 [EC:3.1.1.4], HRAS-like suppressor 3 [EC:3.1.1.32 3.1.1.4], phospholipase D3/4 [EC:3.1.4.4]</td>\n",
       "      <td>10400, 85465, 26279, 30814, 391013, 50487, 5319, 5320, 5322, 64600, 81579, 8399, 84647, 5337, 5338, 23761, 23556, 5281, 84720, 54872, 81490, 254531, 10162, 129642, 154141, 10390, 151056, 100137049, 123745, 255189, 283748, 5321, 8605, 8681, 8398, 11145, 122618, 23646</td>\n",
       "       <td>...</td>\n",
       "      <td>2.1.1.17, 2.7.8.1, 3.1.1.4, 3.1.4.4, 4.1.1.65, 2.7.-.-, NULL, 2.7.8.29, 2.3.1.23, 3.1.1.32</td>\n",
       "      <td>Substrate, Product</td>\n",
       "    </tr>\n",
       "    <tr>\n",
       "      <td class=\"rpy2_rowname\">4</td>\n",
       "        <td class=\"rpy2_names\">5</td>\n",
       "      <td>CE(22:6)</td>\n",
       "      <td>K00637, K01052, K12298</td>\n",
       "      <td>sterol O-acyltransferase [EC:2.3.1.26], lysosomal acid lipase/cholesteryl ester hydrolase [EC:3.1.1.13], bile salt-stimulated lipase [EC:3.1.1.3 3.1.1.13]</td>\n",
       "      <td>6646, 8435, 3988, 1056</td>\n",
       "       <td>...</td>\n",
       "      <td>2.3.1.26, 3.1.1.13</td>\n",
       "      <td>Product, Substrate</td>\n",
       "    </tr>\n",
       "    <tr>\n",
       "      <td class=\"rpy2_rowname\">5</td>\n",
       "        <td class=\"rpy2_names\">6</td>\n",
       "      <td>C18:1 Cer</td>\n",
       "      <td>K00720, K01080, K01201, K01202, K01441, K04628, K04710, K04712, K04714, K04715, K04716, K04717, K12348, K12349, K12350, K12351, K12352, K12353, K12354, K17108, K23727, K24621, K24622</td>\n",
       "      <td>ceramide glucosyltransferase [EC:2.4.1.80], phosphatidate phosphatase [EC:3.1.3.4], glucosylceramidase [EC:3.2.1.45], galactosylceramidase [EC:3.2.1.46], alkaline ceramidase [EC:3.5.1.23], ceramide galactosyltransferase [EC:2.4.1.47], sphingoid base N-stearoyltransferase [EC:2.3.1.299], sphingolipid 4-desaturase/C4-monooxygenase [EC:1.14.19.17 1.14.18.5], shingomyelin synthase [EC:2.7.8.27], ceramide kinase [EC:2.7.1.138], sphingosine-1-phosphate phosphatase 1 [EC:3.1.3.-], sphingosine-1-phosphate phosphotase 2 [EC:3.1.3.-], acid ceramidase [EC:3.5.1.23], neutral ceramidase [EC:3.5.1.23], sphingomyelin phosphodiesterase [EC:3.1.4.12], sphingomyelin phosphodiesterase 2 [EC:3.1.4.12], sphingomyelin phosphodiesterase 3 [EC:3.1.4.12], sphingomyelin phosphodiesterase 4 [EC:3.1.4.12], ectonucleotide pyrophosphatase/phosphodiesterase family member 7 [EC:3.1.4.12], non-lysosomal glucosylceramidase [EC:3.2.1.45], sphingoid base N-palmitoyltransferase [EC:2.3.1.291], very-long-chain ceramide synthase [EC:2.3.1.297], very-long-chain ceramide synthase / ultra-long-chain ceramide synthase [EC:2.3.1.297 2.3.1.298]</td>\n",
       "      <td>7357, 8611, 8612, 8613, 2629, 2581, 125981, 340485, 7368, 10715, 123099, 8560, 166929, 259230, 64781, 81537, 130367, 427, 56624, 6609, 6610, 55512, 55627, 339221, 57704, 253782, 91012, 29956, 79603, 204219</td>\n",
       "       <td>...</td>\n",
       "      <td>2.4.1.80, c(\"3.1.3.4\", \"3.1.3.-\"), c(\"3.2.1.45\", \"3.2.1.62\"), c(\"3.2.1.46\", \"3.2.1.62\"), 3.5.1.23, 2.4.1.47, c(\"2.3.1.24\", \"2.3.1.291\", \"2.3.1.297\", \"2.3.1.298\", \"2.3.1.299\"), 1.14.19.17, 2.7.8.27, 2.7.1.138, 3.1.4.12</td>\n",
       "      <td>Substrate, Product</td>\n",
       "    </tr>\n",
       "    <tr>\n",
       "      <td class=\"rpy2_rowname\">6</td>\n",
       "        <td class=\"rpy2_names\">7</td>\n",
       "      <td>C24 Cer</td>\n",
       "      <td>K00720, K01080, K01201, K01202, K01441, K04628, K04710, K04712, K04714, K04715, K04716, K04717, K12348, K12349, K12350, K12351, K12352, K12353, K12354, K17108, K23727, K24621, K24622</td>\n",
       "      <td>ceramide glucosyltransferase [EC:2.4.1.80], phosphatidate phosphatase [EC:3.1.3.4], glucosylceramidase [EC:3.2.1.45], galactosylceramidase [EC:3.2.1.46], alkaline ceramidase [EC:3.5.1.23], ceramide galactosyltransferase [EC:2.4.1.47], sphingoid base N-stearoyltransferase [EC:2.3.1.299], sphingolipid 4-desaturase/C4-monooxygenase [EC:1.14.19.17 1.14.18.5], shingomyelin synthase [EC:2.7.8.27], ceramide kinase [EC:2.7.1.138], sphingosine-1-phosphate phosphatase 1 [EC:3.1.3.-], sphingosine-1-phosphate phosphotase 2 [EC:3.1.3.-], acid ceramidase [EC:3.5.1.23], neutral ceramidase [EC:3.5.1.23], sphingomyelin phosphodiesterase [EC:3.1.4.12], sphingomyelin phosphodiesterase 2 [EC:3.1.4.12], sphingomyelin phosphodiesterase 3 [EC:3.1.4.12], sphingomyelin phosphodiesterase 4 [EC:3.1.4.12], ectonucleotide pyrophosphatase/phosphodiesterase family member 7 [EC:3.1.4.12], non-lysosomal glucosylceramidase [EC:3.2.1.45], sphingoid base N-palmitoyltransferase [EC:2.3.1.291], very-long-chain ceramide synthase [EC:2.3.1.297], very-long-chain ceramide synthase / ultra-long-chain ceramide synthase [EC:2.3.1.297 2.3.1.298]</td>\n",
       "      <td>7357, 8611, 8612, 8613, 2629, 2581, 125981, 340485, 7368, 10715, 123099, 8560, 166929, 259230, 64781, 81537, 130367, 427, 56624, 6609, 6610, 55512, 55627, 339221, 57704, 253782, 91012, 29956, 79603, 204219</td>\n",
       "       <td>...</td>\n",
       "      <td>2.4.1.80, c(\"3.1.3.4\", \"3.1.3.-\"), c(\"3.2.1.45\", \"3.2.1.62\"), c(\"3.2.1.46\", \"3.2.1.62\"), 3.5.1.23, 2.4.1.47, c(\"2.3.1.24\", \"2.3.1.291\", \"2.3.1.297\", \"2.3.1.298\", \"2.3.1.299\"), 1.14.19.17, 2.7.8.27, 2.7.1.138, 3.1.4.12</td>\n",
       "      <td>Substrate, Product</td>\n",
       "    </tr>\n",
       "    <tr>\n",
       "      <td class=\"rpy2_rowname\">7</td>\n",
       "        <td class=\"rpy2_names\">8</td>\n",
       "      <td>C22 HexCer</td>\n",
       "      <td>K00720, K01201, K07553, K12309, K17108</td>\n",
       "      <td>ceramide glucosyltransferase [EC:2.4.1.80], glucosylceramidase [EC:3.2.1.45], beta-1,4-galactosyltransferase 6 [EC:2.4.1.274], beta-galactosidase [EC:3.2.1.23], non-lysosomal glucosylceramidase [EC:3.2.1.45]</td>\n",
       "      <td>7357, 2629, 9331, 2720, 57704</td>\n",
       "       <td>...</td>\n",
       "      <td>2.4.1.80, c(\"3.2.1.45\", \"3.2.1.62\"), 2.4.1.274, 3.2.1.23</td>\n",
       "      <td>Product, Substrate</td>\n",
       "    </tr>\n",
       "    <tr>\n",
       "      <td class=\"rpy2_rowname\">...</td>\n",
       "        <td class=\"rpy2_names\">...</td>\n",
       "      <td>...</td>\n",
       "      <td>...</td>\n",
       "      <td>...</td>\n",
       "      <td>...</td>\n",
       "       <td>...</td>\n",
       "      <td>...</td>\n",
       "      <td>...</td>\n",
       "    </tr>\n",
       "    <tr>\n",
       "      <td class=\"rpy2_rowname\">41</td>\n",
       "        <td class=\"rpy2_names\">42</td>\n",
       "      <td>5,6-EET</td>\n",
       "      <td>K07418, K08726, K17709</td>\n",
       "      <td>cytochrome P450 family 2 subfamily J [EC:1.14.14.1 1.14.14.73 1.14.14.74 1.14.14.75], soluble epoxide hydrolase / lipid-phosphate phosphatase [EC:3.3.2.10 3.1.3.76], cytochrome P450 family 2 subfamily B6 [EC:1.14.14.-]</td>\n",
       "      <td>1573, 2053, 1555</td>\n",
       "       <td>...</td>\n",
       "      <td>c(\"1.14.14.1\", \"1.14.14.-\"), 3.3.2.10</td>\n",
       "      <td>Product, Substrate</td>\n",
       "    </tr>\n",
       "    <tr>\n",
       "      <td class=\"rpy2_rowname\">42</td>\n",
       "        <td class=\"rpy2_names\">43</td>\n",
       "      <td>Desmosterol</td>\n",
       "      <td>K09828</td>\n",
       "      <td>Delta24-sterol reductase [EC:1.3.1.72 1.3.1.-]</td>\n",
       "      <td>1718</td>\n",
       "       <td>...</td>\n",
       "      <td>1.3.1.72</td>\n",
       "      <td>Product</td>\n",
       "    </tr>\n",
       "  </tbody>\n",
       "</table>"
      ],
      "text/plain": [
       "<rpy2.robjects.vectors.DataFrame object at 0x7fae3ca43780> [RTYPES.VECSXP]\n",
       "R classes: ('data.table', 'data.frame')\n",
       "[StrSexpVe..., StrSexpVe..., StrSexpVe..., StrSexpVe..., ..., StrSexpVe..., StrSexpVe..., StrSexpVe..., StrSexpVe...]\n",
       "  Metabolite: <class 'rpy2.robjects.vectors.StrVector'>\n",
       "  <rpy2.robjects.vectors.StrVector object at 0x7fae3d0b2080> [RTYPES.STRSXP]\n",
       "R classes: ('character',)\n",
       "['PE(38:6)', 'PE(32:1)', 'PE(40:6)', 'PE(36:3)', ..., '11,12-EET', '14,15-EET', '5,6-EET', 'Desmoste...]\n",
       "  orthology_id: <class 'rpy2.robjects.vectors.StrVector'>\n",
       "  <rpy2.robjects.vectors.StrVector object at 0x7fae3ca1d9c0> [RTYPES.STRSXP]\n",
       "R classes: ('character',)\n",
       "['K00551, ..., 'K00551, ..., 'K00551, ..., 'K00551, ..., ..., 'K07418, ..., 'K07418, ..., 'K07418, ..., 'K09828']\n",
       "  ORTHOLOGY: <class 'rpy2.robjects.vectors.StrVector'>\n",
       "  <rpy2.robjects.vectors.StrVector object at 0x7fae3ca63a80> [RTYPES.STRSXP]\n",
       "R classes: ('character',)\n",
       "['phosphat..., 'phosphat..., 'phosphat..., 'phosphat..., ..., 'cytochro..., 'cytochro..., 'cytochro..., 'Delta24-...]\n",
       "  gene_id: <class 'rpy2.robjects.vectors.StrVector'>\n",
       "  <rpy2.robjects.vectors.StrVector object at 0x7fae3ca20940> [RTYPES.STRSXP]\n",
       "R classes: ('character',)\n",
       "['10400, 8..., '10400, 8..., '10400, 8..., '10400, 8..., ..., '1573, 20..., '1573, 20..., '1573, 20..., '1718']\n",
       "...\n",
       "  DEFINITION: <class 'rpy2.robjects.vectors.StrVector'>\n",
       "  <rpy2.robjects.vectors.StrVector object at 0x7fae3f90f300> [RTYPES.STRSXP]\n",
       "R classes: ('character',)\n",
       "['C00019 +..., 'C00019 +..., 'C00019 +..., 'C00019 +..., ..., 'C00219 +..., 'C00219 +..., 'C00219 +..., 'C00187 +...]\n",
       "  ORGANISM: <class 'rpy2.robjects.vectors.StrVector'>\n",
       "  <rpy2.robjects.vectors.StrVector object at 0x7fae3f8b3fc0> [RTYPES.STRSXP]\n",
       "R classes: ('character',)\n",
       "['S-Adenos..., 'S-Adenos..., 'S-Adenos..., 'S-Adenos..., ..., 'Arachido..., 'Arachido..., 'Arachido..., 'Choleste...]\n",
       "  PATHWAY: <class 'rpy2.robjects.vectors.StrVector'>\n",
       "  <rpy2.robjects.vectors.StrVector object at 0x7fae3f907c80> [RTYPES.STRSXP]\n",
       "R classes: ('character',)\n",
       "['2.1.1.17..., '2.1.1.17..., '2.1.1.17..., '2.1.1.17..., ..., 'c(\"1.14...., 'c(\"1.14...., 'c(\"1.14...., '1.3.1.72']\n",
       "  DBLINKS: <class 'rpy2.robjects.vectors.StrVector'>\n",
       "  <rpy2.robjects.vectors.StrVector object at 0x7fae3f907140> [RTYPES.STRSXP]\n",
       "R classes: ('character',)\n",
       "['Substrat..., 'Substrat..., 'Substrat..., 'Substrat..., ..., 'Product,..., 'Product,..., 'Product,..., 'Product']"
      ]
     },
     "execution_count": 35,
     "metadata": {},
     "output_type": "execute_result"
    }
   ],
   "source": [
    "robjects.r('''\n",
    "met_gene_info2=data.table::data.table(rclass_info)[,lapply(.SD, function(x) toString(unique(x))), by = 'Metabolite']\n",
    "''')"
   ]
  },
  {
   "cell_type": "code",
   "execution_count": null,
   "id": "adverse-beatles",
   "metadata": {},
   "outputs": [],
   "source": []
  }
 ],
 "metadata": {
  "appyter": {
   "nbconstruct": {
    "filename": "MetENP_Appyter_2.ipynb",
    "files": {},
    "version": "0.12.3"
   },
   "nbexecute": {
    "completed": "2021-04-01T17:18:03.067436+00:00",
    "files": {},
    "started": "2021-04-01T17:14:27.064786+00:00",
    "version": "0.12.3"
   }
  },
  "kernelspec": {
   "display_name": "my-first-appyter",
   "language": "python",
   "name": "my-first-appyter"
  },
  "language_info": {
   "codemirror_mode": {
    "name": "ipython",
    "version": 3
   },
   "file_extension": ".py",
   "mimetype": "text/x-python",
   "name": "python",
   "nbconvert_exporter": "python",
   "pygments_lexer": "ipython3",
   "version": "3.8.5"
  }
 },
 "nbformat": 4,
 "nbformat_minor": 5
}
