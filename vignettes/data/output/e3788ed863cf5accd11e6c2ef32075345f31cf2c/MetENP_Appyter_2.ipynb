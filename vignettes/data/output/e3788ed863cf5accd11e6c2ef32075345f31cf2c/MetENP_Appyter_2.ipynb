{
 "cells": [
  {
   "cell_type": "markdown",
   "id": "institutional-dispute",
   "metadata": {},
   "source": [
    "### Load all necessary packages"
   ]
  },
  {
   "cell_type": "code",
   "execution_count": 1,
   "id": "liquid-timber",
   "metadata": {
    "execution": {
     "iopub.execute_input": "2021-03-30T22:33:50.261117Z",
     "iopub.status.busy": "2021-03-30T22:33:50.258783Z",
     "iopub.status.idle": "2021-03-30T22:34:00.981985Z",
     "shell.execute_reply": "2021-03-30T22:34:00.982820Z"
    }
   },
   "outputs": [
    {
     "data": {
      "text/plain": [
       "''"
      ]
     },
     "execution_count": 1,
     "metadata": {},
     "output_type": "execute_result"
    }
   ],
   "source": [
    "import rpy2\n",
    "import rpy2.robjects as robjects\n",
    "import rpy2.robjects.packages as rpackages\n",
    "\n",
    "from rpy2.robjects import numpy2ri, pandas2ri\n",
    "\n",
    "import rpy2.ipython.html\n",
    "rpy2.ipython.html.init_printing()\n",
    "\n",
    "import rpy2.robjects.lib.ggplot2 as gp\n",
    "from rpy2.ipython.ggplot import image_png\n",
    "\n",
    "from rpy2.rinterface_lib import openrlib\n",
    "\n",
    "robjects.r('''\n",
    "\n",
    "library(MetENP)\n",
    "\n",
    "''')\n",
    ";"
   ]
  },
  {
   "cell_type": "markdown",
   "id": "related-undergraduate",
   "metadata": {},
   "source": [
    "### Start data processing"
   ]
  },
  {
   "cell_type": "code",
   "execution_count": 2,
   "id": "according-luxembourg",
   "metadata": {
    "execution": {
     "iopub.execute_input": "2021-03-30T22:34:00.992273Z",
     "iopub.status.busy": "2021-03-30T22:34:00.989598Z",
     "iopub.status.idle": "2021-03-30T22:34:17.030409Z",
     "shell.execute_reply": "2021-03-30T22:34:17.031481Z"
    }
   },
   "outputs": [],
   "source": [
    "data_1 = robjects.r['getmwstudies']('ST000915', \n",
    "    'data'\n",
    ")"
   ]
  },
  {
   "cell_type": "code",
   "execution_count": 3,
   "id": "overall-symphony",
   "metadata": {
    "execution": {
     "iopub.execute_input": "2021-03-30T22:34:17.041875Z",
     "iopub.status.busy": "2021-03-30T22:34:17.039630Z",
     "iopub.status.idle": "2021-03-30T22:34:17.258420Z",
     "shell.execute_reply": "2021-03-30T22:34:17.259304Z"
    }
   },
   "outputs": [],
   "source": [
    "with openrlib.rlock:\n",
    "    \n",
    "    robjects.r.assign('data_1', data_1)\n",
    "    \n",
    "    robjects.r('''\n",
    "\n",
    "    data_1_print = data.frame(apply(data_1, c(1,2), function(x){unlist(x, TRUE, TRUE)}))\n",
    "    head(data_1_print)\n",
    "\n",
    "    ''')\n",
    "    \n",
    "    pass"
   ]
  },
  {
   "cell_type": "code",
   "execution_count": 4,
   "id": "norman-federation",
   "metadata": {
    "execution": {
     "iopub.execute_input": "2021-03-30T22:34:17.267232Z",
     "iopub.status.busy": "2021-03-30T22:34:17.264929Z",
     "iopub.status.idle": "2021-03-30T22:34:17.330377Z",
     "shell.execute_reply": "2021-03-30T22:34:17.331167Z"
    }
   },
   "outputs": [],
   "source": [
    "metadata = robjects.r['getmwstudies']('ST000915', \n",
    "    'factors'\n",
    ")"
   ]
  },
  {
   "cell_type": "code",
   "execution_count": 5,
   "id": "satisfied-preliminary",
   "metadata": {
    "execution": {
     "iopub.execute_input": "2021-03-30T22:34:17.340822Z",
     "iopub.status.busy": "2021-03-30T22:34:17.338455Z",
     "iopub.status.idle": "2021-03-30T22:34:17.357913Z",
     "shell.execute_reply": "2021-03-30T22:34:17.358567Z"
    }
   },
   "outputs": [
    {
     "data": {
      "text/html": [
       "\n",
       "<emph>DataFrame</emph> with 6 rows and\n",
       "  5 columns:\n",
       "<table class=\"rpy2_table\">\n",
       "  <thead>\n",
       "    <tr class=\"rpy2_names\">\n",
       "      <th></th>\n",
       "      <th></th>\n",
       "      <th>study_id</th>\n",
       "      <th>local_sample_id</th>\n",
       "      <th>subject_type</th>\n",
       "      <th>factors</th>\n",
       "      <th>Diagnosis</th>\n",
       "    </tr>\n",
       "  </thead>\n",
       "  <tbody>\n",
       "    <tr>\n",
       "      <td class=\"rpy2_rowname\">0</td>\n",
       "        <td class=\"rpy2_names\">1</td>\n",
       "      <td>ST000915</td>\n",
       "      <td>NASH005</td>\n",
       "      <td>Human clinical study</td>\n",
       "      <td>Diagnosis:Cirrhosis</td>\n",
       "      <td>Cirrhosis</td>\n",
       "    </tr>\n",
       "    <tr>\n",
       "      <td class=\"rpy2_rowname\">1</td>\n",
       "        <td class=\"rpy2_names\">2</td>\n",
       "      <td>ST000915</td>\n",
       "      <td>NASH007</td>\n",
       "      <td>Human clinical study</td>\n",
       "      <td>Diagnosis:Cirrhosis</td>\n",
       "      <td>Cirrhosis</td>\n",
       "    </tr>\n",
       "    <tr>\n",
       "      <td class=\"rpy2_rowname\">2</td>\n",
       "        <td class=\"rpy2_names\">3</td>\n",
       "      <td>ST000915</td>\n",
       "      <td>NASH009</td>\n",
       "      <td>Human clinical study</td>\n",
       "      <td>Diagnosis:Cirrhosis</td>\n",
       "      <td>Cirrhosis</td>\n",
       "    </tr>\n",
       "    <tr>\n",
       "      <td class=\"rpy2_rowname\">3</td>\n",
       "        <td class=\"rpy2_names\">4</td>\n",
       "      <td>ST000915</td>\n",
       "      <td>NASH013</td>\n",
       "      <td>Human clinical study</td>\n",
       "      <td>Diagnosis:Cirrhosis</td>\n",
       "      <td>Cirrhosis</td>\n",
       "    </tr>\n",
       "    <tr>\n",
       "      <td class=\"rpy2_rowname\">4</td>\n",
       "        <td class=\"rpy2_names\">5</td>\n",
       "      <td>ST000915</td>\n",
       "      <td>NASH016</td>\n",
       "      <td>Human clinical study</td>\n",
       "      <td>Diagnosis:Cirrhosis</td>\n",
       "      <td>Cirrhosis</td>\n",
       "    </tr>\n",
       "    <tr>\n",
       "      <td class=\"rpy2_rowname\">5</td>\n",
       "        <td class=\"rpy2_names\">6</td>\n",
       "      <td>ST000915</td>\n",
       "      <td>NASH022</td>\n",
       "      <td>Human clinical study</td>\n",
       "      <td>Diagnosis:Cirrhosis</td>\n",
       "      <td>Cirrhosis</td>\n",
       "    </tr>\n",
       "  </tbody>\n",
       "</table>"
      ],
      "text/plain": [
       "<rpy2.robjects.vectors.DataFrame object at 0x7fb629c79a40> [RTYPES.VECSXP]\n",
       "R classes: ('data.frame',)\n",
       "[StrSexp..., StrSexp..., StrSexp..., StrSexp..., StrSexp...]\n",
       "  study_id: <class 'rpy2.rinterface_lib.sexp.StrSexpVector'>\n",
       "  <rpy2.rinterface_lib.sexp.StrSexpVector object at 0x7fb625ef1980> [RTYPES.STRSXP]\n",
       "  local_sample_id: <class 'rpy2.rinterface_lib.sexp.StrSexpVector'>\n",
       "  <rpy2.rinterface_lib.sexp.StrSexpVector object at 0x7fb629c1a640> [RTYPES.STRSXP]\n",
       "  subject_type: <class 'rpy2.rinterface_lib.sexp.StrSexpVector'>\n",
       "  <rpy2.rinterface_lib.sexp.StrSexpVector object at 0x7fb629d642c0> [RTYPES.STRSXP]\n",
       "  factors: <class 'rpy2.rinterface_lib.sexp.StrSexpVector'>\n",
       "  <rpy2.rinterface_lib.sexp.StrSexpVector object at 0x7fb629c22400> [RTYPES.STRSXP]\n",
       "  Diagnosis: <class 'rpy2.rinterface_lib.sexp.StrSexpVector'>\n",
       "  <rpy2.rinterface_lib.sexp.StrSexpVector object at 0x7fb629c36040> [RTYPES.STRSXP]"
      ]
     },
     "execution_count": 5,
     "metadata": {},
     "output_type": "execute_result"
    }
   ],
   "source": [
    "robjects.r.assign('metadata', metadata)\n",
    "\n",
    "robjects.r('''\n",
    "metadata_print = data.frame(apply(metadata, c(1,2), function(x){unlist(x, TRUE, TRUE)}))\n",
    "head(metadata_print)\n",
    "''')"
   ]
  },
  {
   "cell_type": "markdown",
   "id": "alone-consultancy",
   "metadata": {},
   "source": [
    "Find the factors you would want to compare\n",
    "Multiple factors (independent variables) are formatted in multiple columns but you can get information on all the factors by \"factors\" column, such as 'TreatmentGroup:Prednisolone', this indicates column name 'TreatmentGroup' with factor Prednisolone. For t-test use the factors in the same column. For comparing multipe independent variables use anova by anova_ana function."
   ]
  },
  {
   "cell_type": "markdown",
   "id": "tired-sydney",
   "metadata": {},
   "source": [
    "### Associate metabolomics data to the refmet class"
   ]
  },
  {
   "cell_type": "code",
   "execution_count": 6,
   "id": "global-vocabulary",
   "metadata": {
    "execution": {
     "iopub.execute_input": "2021-03-30T22:34:17.369976Z",
     "iopub.status.busy": "2021-03-30T22:34:17.367623Z",
     "iopub.status.idle": "2021-03-30T22:34:27.424310Z",
     "shell.execute_reply": "2021-03-30T22:34:27.425022Z"
    }
   },
   "outputs": [
    {
     "data": {
      "text/html": [
       "\n",
       "<emph>DataFrame</emph> with 6 rows and\n",
       "  97 columns:\n",
       "<table class=\"rpy2_table\">\n",
       "  <thead>\n",
       "    <tr class=\"rpy2_names\">\n",
       "      <th></th>\n",
       "      <th></th>\n",
       "      <th>metabolite_name</th>\n",
       "      <th>analysis_id</th>\n",
       "      <th>analysis_summary</th>\n",
       "      <th>metabolite_id</th>\n",
       "      <th>...</th>\n",
       "      <th>main_class</th>\n",
       "      <th>sub_class</th>\n",
       "    </tr>\n",
       "  </thead>\n",
       "  <tbody>\n",
       "    <tr>\n",
       "      <td class=\"rpy2_rowname\">0</td>\n",
       "        <td class=\"rpy2_names\">1</td>\n",
       "      <td>1,2-DG(30:0)</td>\n",
       "      <td>AN001488</td>\n",
       "      <td>Core E Neutral Lipids</td>\n",
       "      <td>ME231190</td>\n",
       "       <td>...</td>\n",
       "      <td>Diradylglycerols</td>\n",
       "      <td>DAG</td>\n",
       "    </tr>\n",
       "    <tr>\n",
       "      <td class=\"rpy2_rowname\">1</td>\n",
       "        <td class=\"rpy2_names\">2</td>\n",
       "      <td>1,2-DG(30:1)</td>\n",
       "      <td>AN001488</td>\n",
       "      <td>Core E Neutral Lipids</td>\n",
       "      <td>ME231189</td>\n",
       "       <td>...</td>\n",
       "      <td>Diradylglycerols</td>\n",
       "      <td>DAG</td>\n",
       "    </tr>\n",
       "    <tr>\n",
       "      <td class=\"rpy2_rowname\">2</td>\n",
       "        <td class=\"rpy2_names\">3</td>\n",
       "      <td>1,2-DG(32:0)</td>\n",
       "      <td>AN001488</td>\n",
       "      <td>Core E Neutral Lipids</td>\n",
       "      <td>ME231196</td>\n",
       "       <td>...</td>\n",
       "      <td>Diradylglycerols</td>\n",
       "      <td>DAG</td>\n",
       "    </tr>\n",
       "    <tr>\n",
       "      <td class=\"rpy2_rowname\">3</td>\n",
       "        <td class=\"rpy2_names\">4</td>\n",
       "      <td>1,2-DG(32:1)</td>\n",
       "      <td>AN001488</td>\n",
       "      <td>Core E Neutral Lipids</td>\n",
       "      <td>ME231195</td>\n",
       "       <td>...</td>\n",
       "      <td>Diradylglycerols</td>\n",
       "      <td>DAG</td>\n",
       "    </tr>\n",
       "    <tr>\n",
       "      <td class=\"rpy2_rowname\">4</td>\n",
       "        <td class=\"rpy2_names\">5</td>\n",
       "      <td>1,2-DG(32:2)</td>\n",
       "      <td>AN001488</td>\n",
       "      <td>Core E Neutral Lipids</td>\n",
       "      <td>ME231194</td>\n",
       "       <td>...</td>\n",
       "      <td>Diradylglycerols</td>\n",
       "      <td>DAG</td>\n",
       "    </tr>\n",
       "    <tr>\n",
       "      <td class=\"rpy2_rowname\">5</td>\n",
       "        <td class=\"rpy2_names\">6</td>\n",
       "      <td>1,2-DG(32:3)</td>\n",
       "      <td>AN001488</td>\n",
       "      <td>Core E Neutral Lipids</td>\n",
       "      <td>ME231193</td>\n",
       "       <td>...</td>\n",
       "      <td>Diradylglycerols</td>\n",
       "      <td>DAG</td>\n",
       "    </tr>\n",
       "  </tbody>\n",
       "</table>"
      ],
      "text/plain": [
       "<rpy2.robjects.vectors.DataFrame object at 0x7fb62e254c00> [RTYPES.VECSXP]\n",
       "R classes: ('data.frame',)\n",
       "[StrSexpVe..., StrSexpVe..., StrSexpVe..., StrSexpVe..., ..., StrSexpVe..., StrSexpVe..., StrSexpVe..., StrSexpVe...]\n",
       "  metabolite_name: <class 'rpy2.robjects.vectors.StrVector'>\n",
       "  <rpy2.robjects.vectors.StrVector object at 0x7fb629c3e300> [RTYPES.STRSXP]\n",
       "R classes: ('character',)\n",
       "['1,2-..., '1,2-..., '1,2-..., '1,2-..., '1,2-..., '1,2-...]\n",
       "  analysis_id: <class 'rpy2.robjects.vectors.StrVector'>\n",
       "  <rpy2.robjects.vectors.StrVector object at 0x7fb629c2b5c0> [RTYPES.STRSXP]\n",
       "R classes: ('character',)\n",
       "['AN00..., 'AN00..., 'AN00..., 'AN00..., 'AN00..., 'AN00...]\n",
       "  analysis_summary: <class 'rpy2.robjects.vectors.StrVector'>\n",
       "  <rpy2.robjects.vectors.StrVector object at 0x7fb629c2b740> [RTYPES.STRSXP]\n",
       "R classes: ('character',)\n",
       "['Core..., 'Core..., 'Core..., 'Core..., 'Core..., 'Core...]\n",
       "  metabolite_id: <class 'rpy2.robjects.vectors.StrVector'>\n",
       "  <rpy2.robjects.vectors.StrVector object at 0x7fb629c2ba00> [RTYPES.STRSXP]\n",
       "R classes: ('character',)\n",
       "['ME23..., 'ME23..., 'ME23..., 'ME23..., 'ME23..., 'ME23...]\n",
       "...\n",
       "  NASH001: <class 'rpy2.robjects.vectors.StrVector'>\n",
       "  <rpy2.robjects.vectors.StrVector object at 0x7fb629c2bec0> [RTYPES.STRSXP]\n",
       "R classes: ('character',)\n",
       "['C33H..., 'C33H..., 'C35H..., 'C35H..., 'C35H..., 'C35H...]\n",
       "  NASH002: <class 'rpy2.robjects.vectors.StrVector'>\n",
       "  <rpy2.robjects.vectors.StrVector object at 0x7fb629c42d40> [RTYPES.STRSXP]\n",
       "R classes: ('character',)\n",
       "['Glyc..., 'Glyc..., 'Glyc..., 'Glyc..., 'Glyc..., 'Glyc...]\n",
       "  NASH003: <class 'rpy2.robjects.vectors.StrVector'>\n",
       "  <rpy2.robjects.vectors.StrVector object at 0x7fb629c424c0> [RTYPES.STRSXP]\n",
       "R classes: ('character',)\n",
       "['Dira..., 'Dira..., 'Dira..., 'Dira..., 'Dira..., 'Dira...]\n",
       "  NASH004: <class 'rpy2.robjects.vectors.StrVector'>\n",
       "  <rpy2.robjects.vectors.StrVector object at 0x7fb629c42940> [RTYPES.STRSXP]\n",
       "R classes: ('character',)\n",
       "['DAG', 'DAG', 'DAG', 'DAG', 'DAG', 'DAG']"
      ]
     },
     "execution_count": 6,
     "metadata": {},
     "output_type": "execute_result"
    }
   ],
   "source": [
    "refmet_class = robjects.r['convert_refmet'](data_1)\n",
    "\n",
    "robjects.r.assign('refmet_class', refmet_class)\n",
    "\n",
    "robjects.r('''\n",
    "\n",
    "refmet_class_print = data.frame(apply(refmet_class, c(1,2), function(x){unlist(x, TRUE, TRUE)}))\n",
    "head(refmet_class_print)\n",
    "\n",
    "''')"
   ]
  },
  {
   "cell_type": "markdown",
   "id": "aquatic-liberia",
   "metadata": {},
   "source": [
    "### Different metadata factors "
   ]
  },
  {
   "cell_type": "code",
   "execution_count": 7,
   "id": "owned-parcel",
   "metadata": {
    "execution": {
     "iopub.execute_input": "2021-03-30T22:34:27.434596Z",
     "iopub.status.busy": "2021-03-30T22:34:27.431967Z",
     "iopub.status.idle": "2021-03-30T22:34:27.443824Z",
     "shell.execute_reply": "2021-03-30T22:34:27.445164Z"
    }
   },
   "outputs": [
    {
     "data": {
      "text/html": [
       "\n",
       "<emph>DataFrame</emph> with 4 rows and\n",
       "  1 columns:\n",
       "<table class=\"rpy2_table\">\n",
       "  <thead>\n",
       "    <tr class=\"rpy2_names\">\n",
       "      <th></th>\n",
       "      <th></th>\n",
       "      <th>unique.metadata_print.factors.</th>\n",
       "    </tr>\n",
       "  </thead>\n",
       "  <tbody>\n",
       "    <tr>\n",
       "      <td class=\"rpy2_rowname\">0</td>\n",
       "        <td class=\"rpy2_names\">1</td>\n",
       "      <td>Diagnosis:Cirrhosis</td>\n",
       "    </tr>\n",
       "    <tr>\n",
       "      <td class=\"rpy2_rowname\">1</td>\n",
       "        <td class=\"rpy2_names\">2</td>\n",
       "      <td>Diagnosis:NASH</td>\n",
       "    </tr>\n",
       "    <tr>\n",
       "      <td class=\"rpy2_rowname\">2</td>\n",
       "        <td class=\"rpy2_names\">3</td>\n",
       "      <td>Diagnosis:Normal</td>\n",
       "    </tr>\n",
       "    <tr>\n",
       "      <td class=\"rpy2_rowname\">3</td>\n",
       "        <td class=\"rpy2_names\">4</td>\n",
       "      <td>Diagnosis:Steatosis</td>\n",
       "    </tr>\n",
       "  </tbody>\n",
       "</table>"
      ],
      "text/plain": [
       "<rpy2.robjects.vectors.DataFrame object at 0x7fb62e252e80> [RTYPES.VECSXP]\n",
       "R classes: ('data.frame',)\n",
       "[StrSexpVector]\n",
       "  unique.metadata_print.factors.: <class 'rpy2.rinterface_lib.sexp.StrSexpVector'>\n",
       "  <rpy2.rinterface_lib.sexp.StrSexpVector object at 0x7fb62e252940> [RTYPES.STRSXP]"
      ]
     },
     "execution_count": 7,
     "metadata": {},
     "output_type": "execute_result"
    }
   ],
   "source": [
    "robjects.r('''\n",
    "data.frame(unique(metadata_print$factors))\n",
    "''')"
   ]
  },
  {
   "cell_type": "markdown",
   "id": "democratic-somalia",
   "metadata": {},
   "source": [
    "### Different analysis terms"
   ]
  },
  {
   "cell_type": "code",
   "execution_count": 8,
   "id": "exterior-minimum",
   "metadata": {
    "execution": {
     "iopub.execute_input": "2021-03-30T22:34:27.454820Z",
     "iopub.status.busy": "2021-03-30T22:34:27.452517Z",
     "iopub.status.idle": "2021-03-30T22:34:27.464420Z",
     "shell.execute_reply": "2021-03-30T22:34:27.465589Z"
    }
   },
   "outputs": [
    {
     "data": {
      "text/html": [
       "\n",
       "<emph>DataFrame</emph> with 6 rows and\n",
       "  1 columns:\n",
       "<table class=\"rpy2_table\">\n",
       "  <thead>\n",
       "    <tr class=\"rpy2_names\">\n",
       "      <th></th>\n",
       "      <th></th>\n",
       "      <th>unique.data_1_print.analysis_summary.</th>\n",
       "    </tr>\n",
       "  </thead>\n",
       "  <tbody>\n",
       "    <tr>\n",
       "      <td class=\"rpy2_rowname\">0</td>\n",
       "        <td class=\"rpy2_names\">1</td>\n",
       "      <td>Core G Fatty acids/Eicosanoids</td>\n",
       "    </tr>\n",
       "    <tr>\n",
       "      <td class=\"rpy2_rowname\">1</td>\n",
       "        <td class=\"rpy2_names\">2</td>\n",
       "      <td>Core J Sterols</td>\n",
       "    </tr>\n",
       "    <tr>\n",
       "      <td class=\"rpy2_rowname\">2</td>\n",
       "        <td class=\"rpy2_names\">3</td>\n",
       "      <td>Core K Prenols/Cardiolipins</td>\n",
       "    </tr>\n",
       "    <tr>\n",
       "      <td class=\"rpy2_rowname\">3</td>\n",
       "        <td class=\"rpy2_names\">4</td>\n",
       "      <td>Core E Neutral Lipids</td>\n",
       "    </tr>\n",
       "    <tr>\n",
       "      <td class=\"rpy2_rowname\">4</td>\n",
       "        <td class=\"rpy2_names\">5</td>\n",
       "      <td>Core I Sphingolipids</td>\n",
       "    </tr>\n",
       "    <tr>\n",
       "      <td class=\"rpy2_rowname\">5</td>\n",
       "        <td class=\"rpy2_names\">6</td>\n",
       "      <td>Core H Phospholipids</td>\n",
       "    </tr>\n",
       "  </tbody>\n",
       "</table>"
      ],
      "text/plain": [
       "<rpy2.robjects.vectors.DataFrame object at 0x7fb62e02f240> [RTYPES.VECSXP]\n",
       "R classes: ('data.frame',)\n",
       "[StrSexpVector]\n",
       "  unique.data_1_print.analysis_summary.: <class 'rpy2.rinterface_lib.sexp.StrSexpVector'>\n",
       "  <rpy2.rinterface_lib.sexp.StrSexpVector object at 0x7fb625f49f00> [RTYPES.STRSXP]"
      ]
     },
     "execution_count": 8,
     "metadata": {},
     "output_type": "execute_result"
    }
   ],
   "source": [
    "robjects.r('''\n",
    "data.frame(unique(data_1_print$analysis_summary))\n",
    "''')"
   ]
  },
  {
   "cell_type": "markdown",
   "id": "worthy-consequence",
   "metadata": {},
   "source": [
    "### Find significant metabolites, run significance of all the analysis summary together. The analysis summary/modes you got in the previous section"
   ]
  },
  {
   "cell_type": "markdown",
   "id": "better-journalism",
   "metadata": {},
   "source": [
    "There is a normalization step which takes into account missing values, and this can be achieved via three methods:\n",
    "\n",
    "1) half_of_min: where the NAs are replaced by half of min values in the data\n",
    "\n",
    "2) remove_NAs: where Cols with NAs values are removed\n",
    "\n",
    "3) 50percent: where cols with more than 50% NAs values are removed\n",
    "\n",
    "half_of_min is ideal when you wish to see which metabolites were present in either group. Very high fold change would mean it was present in either group."
   ]
  },
  {
   "cell_type": "code",
   "execution_count": 9,
   "id": "informal-marker",
   "metadata": {
    "execution": {
     "iopub.execute_input": "2021-03-30T22:34:27.483043Z",
     "iopub.status.busy": "2021-03-30T22:34:27.479474Z",
     "iopub.status.idle": "2021-03-30T22:34:27.502862Z",
     "shell.execute_reply": "2021-03-30T22:34:27.502135Z"
    }
   },
   "outputs": [
    {
     "data": {
      "text/html": [
       "\n",
       "<emph>ListVector</emph> with 1 elements:\n",
       "<table class=\"rpy2_table\">\n",
       "<thead>\n",
       "</thead>\n",
       "<tbody>\n",
       "  <tr>\n",
       "    <td class=\"rpy2_rowname\">0</td>\n",
       "    <td>[1] \"fdr\"\n",
       "</td>\n",
       "  </tr>\n",
       "</tr>\n",
       "</tbody>\n",
       "</table>"
      ],
      "text/plain": [
       "<rpy2.robjects.vectors.ListVector object at 0x7fb62e237e80> [RTYPES.VECSXP]\n",
       "R classes: ('list',)\n",
       "[StrSexpVector]\n",
       "  <no name>: <class 'rpy2.rinterface_lib.sexp.StrSexpVector'>\n",
       "  <rpy2.rinterface_lib.sexp.StrSexpVector object at 0x7fb62e237200> [RTYPES.STRSXP]"
      ]
     },
     "execution_count": 9,
     "metadata": {},
     "output_type": "execute_result"
    }
   ],
   "source": [
    "robjects.r.assign('refmet_class', refmet_class)\n",
    "robjects.r.assign('metcol', 'metabolite_name')\n",
    "robjects.r.assign('fac1', 'Cirrhosis')\n",
    "robjects.r.assign('fac2', 'Normal')\n",
    "robjects.r.assign('faccol', 'Diagnosis')\n",
    "robjects.r.assign('samcol', 'local_sample_id')\n",
    "robjects.r.assign('normtype', ['50percent'])\n",
    "robjects.r.assign('pthres', ['0.05'])\n",
    "robjects.r.assign('thres_log2foldchangevar', '0.5')\n",
    "robjects.r.assign('padj', ['fdr'])"
   ]
  },
  {
   "cell_type": "code",
   "execution_count": 10,
   "id": "broadband-cabin",
   "metadata": {
    "execution": {
     "iopub.execute_input": "2021-03-30T22:34:27.519130Z",
     "iopub.status.busy": "2021-03-30T22:34:27.515505Z",
     "iopub.status.idle": "2021-03-30T22:34:27.525321Z",
     "shell.execute_reply": "2021-03-30T22:34:27.521217Z"
    }
   },
   "outputs": [
    {
     "data": {
      "text/plain": [
       "''"
      ]
     },
     "execution_count": 10,
     "metadata": {},
     "output_type": "execute_result"
    }
   ],
   "source": [
    "robjects.r('''\n",
    "ptreshnum<-as.numeric(pthres)\n",
    "thres_log2foldchangenum<-as.numeric(thres_log2foldchangevar)\n",
    "padjchar<-as.character(padj[1])\n",
    "''')\n",
    ";"
   ]
  },
  {
   "cell_type": "code",
   "execution_count": 11,
   "id": "muslim-limit",
   "metadata": {
    "execution": {
     "iopub.execute_input": "2021-03-30T22:34:27.539266Z",
     "iopub.status.busy": "2021-03-30T22:34:27.535952Z",
     "iopub.status.idle": "2021-03-30T22:34:27.549572Z",
     "shell.execute_reply": "2021-03-30T22:34:27.550540Z"
    }
   },
   "outputs": [
    {
     "data": {
      "text/plain": [
       "<rpy2.rinterface_lib.sexp.NULLType object at 0x7fb626021580> [RTYPES.NILSXP]"
      ]
     },
     "execution_count": 11,
     "metadata": {},
     "output_type": "execute_result"
    }
   ],
   "source": [
    "robjects.r.assign('mettit', 'Core G Fatty acids/Eicosanoids, Core J Sterols, Core K Prenols/Cardiolipins, Core E Neutral Lipids, Core I Sphingolipids, Core H Phospholipids')\n",
    "robjects.r('''\n",
    "list_mettit <- strsplit(mettit, ',')\n",
    "list_mettit = unlist(list_mettit, TRUE, TRUE)\n",
    "titles <- list()\n",
    "for(elm in list_mettit) {\n",
    "    elm = trimws(elm)\n",
    "    titles <- c(titles, elm)\n",
    "}\n",
    "''')"
   ]
  },
  {
   "cell_type": "code",
   "execution_count": 12,
   "id": "legendary-check",
   "metadata": {
    "execution": {
     "iopub.execute_input": "2021-03-30T22:34:27.562874Z",
     "iopub.status.busy": "2021-03-30T22:34:27.559758Z",
     "iopub.status.idle": "2021-03-30T22:34:29.237696Z",
     "shell.execute_reply": "2021-03-30T22:34:29.238468Z"
    }
   },
   "outputs": [
    {
     "data": {
      "text/plain": [
       "''"
      ]
     },
     "execution_count": 12,
     "metadata": {},
     "output_type": "execute_result"
    }
   ],
   "source": [
    "robjects.r('''\n",
    "stats_metabolites = significant_met(metabolomics_data=refmet_class_print, met_col=metcol,analysis_type=c(titles), metadata=metadata, factor1=fac1, factor2=fac2, factor_col=faccol,sample_col=samcol, p_adjust=padjchar,normalization=normtype)\n",
    "''')\n",
    ";"
   ]
  },
  {
   "cell_type": "code",
   "execution_count": 13,
   "id": "physical-passing",
   "metadata": {
    "execution": {
     "iopub.execute_input": "2021-03-30T22:34:29.246937Z",
     "iopub.status.busy": "2021-03-30T22:34:29.244640Z",
     "iopub.status.idle": "2021-03-30T22:34:29.251454Z",
     "shell.execute_reply": "2021-03-30T22:34:29.252390Z"
    }
   },
   "outputs": [
    {
     "data": {
      "text/plain": [
       "''"
      ]
     },
     "execution_count": 13,
     "metadata": {},
     "output_type": "execute_result"
    }
   ],
   "source": [
    "robjects.r('''\n",
    "sig_metabolites = stats_metabolites[which(stats_metabolites[,\"pval\"] <= ptreshnum&abs(stats_metabolites[,\"log2Fold_change\"])>thres_log2foldchangenum),]\n",
    "''')\n",
    ";"
   ]
  },
  {
   "cell_type": "code",
   "execution_count": 14,
   "id": "shared-stocks",
   "metadata": {
    "execution": {
     "iopub.execute_input": "2021-03-30T22:34:29.261270Z",
     "iopub.status.busy": "2021-03-30T22:34:29.258915Z",
     "iopub.status.idle": "2021-03-30T22:34:31.009192Z",
     "shell.execute_reply": "2021-03-30T22:34:31.010991Z"
    }
   },
   "outputs": [
    {
     "data": {
      "image/png": "[encoded data removed]",
      "text/plain": [
       "<IPython.core.display.Image object>"
      ]
     },
     "execution_count": 14,
     "metadata": {},
     "output_type": "execute_result"
    }
   ],
   "source": [
    "image_png(robjects.r('''\n",
    "plot_volcano(stats_metabolites, thres_pval= ptreshnum, thres_log2foldchange = thres_log2foldchangenum, TRUE)\n",
    "'''))"
   ]
  },
  {
   "cell_type": "markdown",
   "id": "whole-arcade",
   "metadata": {},
   "source": [
    "### Map metabolite class of the significant metabolites utilzing refmet classification in Metabolomics Workbench\n",
    "This function not only maps metabolite to metabolite class but also to external databases such as pubchem, inchi key, smiles and kegg\n",
    "\n",
    "In this example, we will go forward with significant metabolite obtained by t-test/"
   ]
  },
  {
   "cell_type": "code",
   "execution_count": 15,
   "id": "ready-simple",
   "metadata": {
    "execution": {
     "iopub.execute_input": "2021-03-30T22:34:31.029975Z",
     "iopub.status.busy": "2021-03-30T22:34:31.024589Z",
     "iopub.status.idle": "2021-03-30T22:34:33.028207Z",
     "shell.execute_reply": "2021-03-30T22:34:33.029001Z"
    }
   },
   "outputs": [],
   "source": [
    "with openrlib.rlock:\n",
    "    robjects.r('''\n",
    "    sig_metabolites_kegg_id= map_keggid(sig_metabolites)\n",
    "    ''')\n",
    "    pass"
   ]
  },
  {
   "cell_type": "markdown",
   "id": "fabulous-filling",
   "metadata": {},
   "source": [
    "#### Check all your significant metabolites have not been assigned metabolite class\n",
    "Outcome should be 0 elements."
   ]
  },
  {
   "cell_type": "code",
   "execution_count": 16,
   "id": "painful-heater",
   "metadata": {
    "execution": {
     "iopub.execute_input": "2021-03-30T22:34:33.038456Z",
     "iopub.status.busy": "2021-03-30T22:34:33.035645Z",
     "iopub.status.idle": "2021-03-30T22:34:33.045674Z",
     "shell.execute_reply": "2021-03-30T22:34:33.046619Z"
    }
   },
   "outputs": [
    {
     "data": {
      "text/html": [
       "\n",
       "<emph>StrVector</emph> with 0 elements:\n",
       "<table class=\"rpy2_table\">\n",
       "<thead>\n",
       "</thead>\n",
       "<tbody>\n",
       "<tr>\n",
       "</tr>\n",
       "</tbody>\n",
       "</table>"
      ],
      "text/plain": [
       "<rpy2.robjects.vectors.StrVector object at 0x7fb62e02f780> [RTYPES.STRSXP]\n",
       "R classes: ('character',)\n",
       "[]"
      ]
     },
     "execution_count": 16,
     "metadata": {},
     "output_type": "execute_result"
    }
   ],
   "source": [
    "robjects.r('''\n",
    "setdiff(sig_metabolites$refmet_name, sig_metabolites_kegg_id$refmet_name)\n",
    "''')"
   ]
  },
  {
   "cell_type": "markdown",
   "id": "least-shape",
   "metadata": {},
   "source": [
    "### Count metabolites in each of the metabolite class and plotting\n",
    "You may choose from sub_class, main_class and super_class"
   ]
  },
  {
   "cell_type": "code",
   "execution_count": 17,
   "id": "collected-florist",
   "metadata": {
    "execution": {
     "iopub.execute_input": "2021-03-30T22:34:33.069716Z",
     "iopub.status.busy": "2021-03-30T22:34:33.064931Z",
     "iopub.status.idle": "2021-03-30T22:34:34.382766Z",
     "shell.execute_reply": "2021-03-30T22:34:34.383426Z"
    }
   },
   "outputs": [
    {
     "data": {
      "text/html": [
       "\n",
       "<emph>ListVector</emph> with 2 elements:\n",
       "<table class=\"rpy2_table\">\n",
       "<thead>\n",
       "</thead>\n",
       "<tbody>\n",
       "  <tr>\n",
       "    <td class=\"rpy2_rowname\">0</td>\n",
       "    <td class=\"rpy2_names\">sig_met_count</td>\n",
       "    <td>        ...</td>\n",
       "  </tr>\n",
       "  <tr>\n",
       "    <td class=\"rpy2_rowname\">1</td>\n",
       "    <td class=\"rpy2_names\">plotimg</td>\n",
       "    <td></td>\n",
       "  </tr>\n",
       "</tr>\n",
       "</tbody>\n",
       "</table>"
      ],
      "text/plain": [
       "<rpy2.robjects.vectors.ListVector object at 0x7fb629c6ca00> [RTYPES.VECSXP]\n",
       "R classes: ('list',)\n",
       "[ListSexpVector, ListSexpVector]\n",
       "  sig_met_count: <class 'rpy2.rinterface.ListSexpVector'>\n",
       "  <rpy2.rinterface.ListSexpVector object at 0x7fb629d64280> [RTYPES.VECSXP]\n",
       "  plotimg: <class 'rpy2.rinterface.ListSexpVector'>\n",
       "  <rpy2.rinterface.ListSexpVector object at 0x7fb629c42100> [RTYPES.VECSXP]"
      ]
     },
     "execution_count": 17,
     "metadata": {},
     "output_type": "execute_result"
    }
   ],
   "source": [
    "robjects.r.assign('classtype', ['sub_class'])\n",
    "robjects.r('''\n",
    "metclassvar <- as.character(classtype[1])\n",
    "count_changes = metcountplot(df_metclass=sig_metabolites_kegg_id, metclass=metclassvar, plotting=TRUE, thres_logfC = 0.5)\n",
    "''')"
   ]
  },
  {
   "cell_type": "code",
   "execution_count": 18,
   "id": "desperate-message",
   "metadata": {
    "execution": {
     "iopub.execute_input": "2021-03-30T22:34:34.392068Z",
     "iopub.status.busy": "2021-03-30T22:34:34.389483Z",
     "iopub.status.idle": "2021-03-30T22:34:34.649313Z",
     "shell.execute_reply": "2021-03-30T22:34:34.650309Z"
    }
   },
   "outputs": [
    {
     "data": {
      "image/png": "[encoded data removed]",
      "text/plain": [
       "<IPython.core.display.Image object>"
      ]
     },
     "execution_count": 18,
     "metadata": {},
     "output_type": "execute_result"
    }
   ],
   "source": [
    "image_png(robjects.r('''\n",
    "count_changes$plotimg\n",
    "'''))"
   ]
  },
  {
   "cell_type": "markdown",
   "id": "double-string",
   "metadata": {},
   "source": [
    "### Enrichment class score\n",
    "\n",
    "Calculate the enrichment score of each metabolite class. Enrichment score is calculated through hypergeometric method. One can specify the no. of significant metabolites in a class while calculating the enrichment score. We advice to use the number of mtabolites in each class as 3 or more. But if someone just wants to know the enrichment score and rest of the information of all the metabolites, then they can choose the number as 1."
   ]
  },
  {
   "cell_type": "markdown",
   "id": "fossil-crime",
   "metadata": {},
   "source": [
    "### If no figure shows here/an error returns, change the significant metabolites per class."
   ]
  },
  {
   "cell_type": "code",
   "execution_count": 19,
   "id": "incorporated-syria",
   "metadata": {
    "execution": {
     "iopub.execute_input": "2021-03-30T22:34:34.664815Z",
     "iopub.status.busy": "2021-03-30T22:34:34.660014Z",
     "iopub.status.idle": "2021-03-30T22:34:34.673160Z",
     "shell.execute_reply": "2021-03-30T22:34:34.670546Z"
    }
   },
   "outputs": [
    {
     "data": {
      "text/html": [
       "\n",
       "<emph>IntVector</emph> with 1 elements:\n",
       "<table class=\"rpy2_table\">\n",
       "<thead>\n",
       "</thead>\n",
       "<tbody>\n",
       "<tr>\n",
       "      <td>3</td>\n",
       "</tr>\n",
       "</tbody>\n",
       "</table>"
      ],
      "text/plain": [
       "<rpy2.robjects.vectors.IntVector object at 0x7fb62b0bb480> [RTYPES.INTSXP]\n",
       "R classes: ('integer',)\n",
       "[3]"
      ]
     },
     "execution_count": 19,
     "metadata": {},
     "output_type": "execute_result"
    }
   ],
   "source": [
    "robjects.r.assign('sigmets', 3)"
   ]
  },
  {
   "cell_type": "code",
   "execution_count": 20,
   "id": "involved-milton",
   "metadata": {
    "execution": {
     "iopub.execute_input": "2021-03-30T22:34:34.688357Z",
     "iopub.status.busy": "2021-03-30T22:34:34.684403Z",
     "iopub.status.idle": "2021-03-30T22:34:34.826019Z",
     "shell.execute_reply": "2021-03-30T22:34:34.826694Z"
    }
   },
   "outputs": [
    {
     "data": {
      "text/plain": [
       "''"
      ]
     },
     "execution_count": 20,
     "metadata": {},
     "output_type": "execute_result"
    }
   ],
   "source": [
    "robjects.r('''\n",
    "metenrichment = metclassenrichment(df_metclass=sig_metabolites_kegg_id,refmet_class, metclass=metclassvar,enrich_stats=\"HG\",no=sigmets)\n",
    "''')\n",
    ";"
   ]
  },
  {
   "cell_type": "markdown",
   "id": "twenty-football",
   "metadata": {},
   "source": [
    "#### Plot the enrichment score via function plot_met_enrichment"
   ]
  },
  {
   "cell_type": "code",
   "execution_count": 21,
   "id": "stuck-hindu",
   "metadata": {
    "execution": {
     "iopub.execute_input": "2021-03-30T22:34:34.838593Z",
     "iopub.status.busy": "2021-03-30T22:34:34.835034Z",
     "iopub.status.idle": "2021-03-30T22:34:35.027969Z",
     "shell.execute_reply": "2021-03-30T22:34:35.028980Z"
    }
   },
   "outputs": [
    {
     "data": {
      "image/png": "[encoded data removed]",
      "text/plain": [
       "<IPython.core.display.Image object>"
      ]
     },
     "execution_count": 21,
     "metadata": {},
     "output_type": "execute_result"
    }
   ],
   "source": [
    "image_png(robjects.r('''\n",
    "plot_met_enrichment(metenrichment, metclassvar,\"HG\", no=sigmets)\n",
    "'''))"
   ]
  },
  {
   "cell_type": "markdown",
   "id": "informational-flood",
   "metadata": {},
   "source": [
    "### Check the pathways with reactions of all the significant metabolites"
   ]
  },
  {
   "cell_type": "code",
   "execution_count": 22,
   "id": "considerable-hartford",
   "metadata": {
    "execution": {
     "iopub.execute_input": "2021-03-30T22:34:35.043871Z",
     "iopub.status.busy": "2021-03-30T22:34:35.039098Z",
     "iopub.status.idle": "2021-03-30T22:34:42.969753Z",
     "shell.execute_reply": "2021-03-30T22:34:42.970433Z"
    }
   },
   "outputs": [
    {
     "data": {
      "text/html": [
       "\n",
       "<emph>DataFrame</emph> with 6 rows and\n",
       "  22 columns:\n",
       "<table class=\"rpy2_table\">\n",
       "  <thead>\n",
       "    <tr class=\"rpy2_names\">\n",
       "      <th></th>\n",
       "      <th></th>\n",
       "      <th>rxn</th>\n",
       "      <th>refmet_name</th>\n",
       "      <th>Exact mass</th>\n",
       "      <th>KEGG ID</th>\n",
       "      <th>...</th>\n",
       "      <th>pathway_id</th>\n",
       "      <th>sps_path_id</th>\n",
       "    </tr>\n",
       "  </thead>\n",
       "  <tbody>\n",
       "    <tr>\n",
       "      <td class=\"rpy2_rowname\">0</td>\n",
       "        <td class=\"rpy2_names\">1</td>\n",
       "      <td>R01003</td>\n",
       "      <td>Dolichol-20</td>\n",
       "      <td>1381.2782</td>\n",
       "      <td>C00381</td>\n",
       "       <td>...</td>\n",
       "      <td>rn00510</td>\n",
       "      <td>hsa00510</td>\n",
       "    </tr>\n",
       "    <tr>\n",
       "      <td class=\"rpy2_rowname\">1</td>\n",
       "        <td class=\"rpy2_names\">2</td>\n",
       "      <td>R01003</td>\n",
       "      <td>Dolichol-20</td>\n",
       "      <td>1381.2782</td>\n",
       "      <td>C00381</td>\n",
       "       <td>...</td>\n",
       "      <td>rn01100</td>\n",
       "      <td>hsa01100</td>\n",
       "    </tr>\n",
       "    <tr>\n",
       "      <td class=\"rpy2_rowname\">2</td>\n",
       "        <td class=\"rpy2_names\">3</td>\n",
       "      <td>R01018</td>\n",
       "      <td>Dolichol-20</td>\n",
       "      <td>1381.2782</td>\n",
       "      <td>C00381</td>\n",
       "       <td>...</td>\n",
       "      <td>rn00510</td>\n",
       "      <td>hsa00510</td>\n",
       "    </tr>\n",
       "    <tr>\n",
       "      <td class=\"rpy2_rowname\">3</td>\n",
       "        <td class=\"rpy2_names\">4</td>\n",
       "      <td>R01018</td>\n",
       "      <td>Dolichol-20</td>\n",
       "      <td>1381.2782</td>\n",
       "      <td>C00381</td>\n",
       "       <td>...</td>\n",
       "      <td>rn01100</td>\n",
       "      <td>hsa01100</td>\n",
       "    </tr>\n",
       "    <tr>\n",
       "      <td class=\"rpy2_rowname\">4</td>\n",
       "        <td class=\"rpy2_names\">5</td>\n",
       "      <td>R01312</td>\n",
       "      <td>1,2-DG 34:0</td>\n",
       "      <td>596.5380</td>\n",
       "      <td>C00641</td>\n",
       "       <td>...</td>\n",
       "      <td>rn00564</td>\n",
       "      <td>hsa00564</td>\n",
       "    </tr>\n",
       "    <tr>\n",
       "      <td class=\"rpy2_rowname\">5</td>\n",
       "        <td class=\"rpy2_names\">6</td>\n",
       "      <td>R01312</td>\n",
       "      <td>1,2-DG 36:4</td>\n",
       "      <td>616.5067</td>\n",
       "      <td>C00641</td>\n",
       "       <td>...</td>\n",
       "      <td>rn00564</td>\n",
       "      <td>hsa00564</td>\n",
       "    </tr>\n",
       "  </tbody>\n",
       "</table>"
      ],
      "text/plain": [
       "<rpy2.robjects.vectors.DataFrame object at 0x7fb62e232600> [RTYPES.VECSXP]\n",
       "R classes: ('data.frame',)\n",
       "[StrSexpVe..., StrSexpVe..., StrSexpVe..., StrSexpVe..., ..., ListSexpV..., StrSexpVe..., StrSexpVe..., StrSexpVe...]\n",
       "  rxn: <class 'rpy2.robjects.vectors.StrVector'>\n",
       "  <rpy2.robjects.vectors.StrVector object at 0x7fb62e222d00> [RTYPES.STRSXP]\n",
       "R classes: ('character',)\n",
       "['R010..., 'R010..., 'R010..., 'R010..., 'R013..., 'R013...]\n",
       "  refmet_name: <class 'rpy2.robjects.vectors.StrVector'>\n",
       "  <rpy2.robjects.vectors.StrVector object at 0x7fb62e222340> [RTYPES.STRSXP]\n",
       "R classes: ('character',)\n",
       "['Doli..., 'Doli..., 'Doli..., 'Doli..., '1,2-..., '1,2-...]\n",
       "  Exact mass: <class 'rpy2.robjects.vectors.StrVector'>\n",
       "  <rpy2.robjects.vectors.StrVector object at 0x7fb62e1bfa40> [RTYPES.STRSXP]\n",
       "R classes: ('character',)\n",
       "['1381..., '1381..., '1381..., '1381..., '596...., '616....]\n",
       "  KEGG ID: <class 'rpy2.robjects.vectors.StrVector'>\n",
       "  <rpy2.robjects.vectors.StrVector object at 0x7fb62e1bf4c0> [RTYPES.STRSXP]\n",
       "R classes: ('character',)\n",
       "['C003..., 'C003..., 'C003..., 'C003..., 'C006..., 'C006...]\n",
       "...\n",
       "<rpy2.robjects.vectors.DataFrame object at 0x7fb62e232600> [RTYPES.VECSXP]\n",
       "R classes: ('data.frame',)\n",
       "[StrSexpVe..., StrSexpVe..., StrSexpVe..., StrSexpVe..., ..., ListSexpV..., StrSexpVe..., StrSexpVe..., StrSexpVe...]\n",
       "  Normal_mean: <class 'rpy2.robjects.vectors.StrVector'>\n",
       "  <rpy2.robjects.vectors.StrVector object at 0x7fb62e1bf980> [RTYPES.STRSXP]\n",
       "R classes: ('character',)\n",
       "['N-Gl..., 'Meta..., 'N-Gl..., 'Meta..., 'Glyc..., 'Glyc...]\n",
       "  Fold_change: <class 'rpy2.robjects.vectors.StrVector'>\n",
       "  <rpy2.robjects.vectors.StrVector object at 0x7fb62e1bf780> [RTYPES.STRSXP]\n",
       "R classes: ('character',)\n",
       "['rn00..., 'rn01..., 'rn00..., 'rn01..., 'rn00..., 'rn00...]\n",
       "  log2Fold_change: <class 'rpy2.robjects.vectors.StrVector'>\n",
       "  <rpy2.robjects.vectors.StrVector object at 0x7fb62e1bf740> [RTYPES.STRSXP]\n",
       "R classes: ('character',)\n",
       "['hsa0..., 'hsa0..., 'hsa0..., 'hsa0..., 'hsa0..., 'hsa0...]"
      ]
     },
     "execution_count": 22,
     "metadata": {},
     "output_type": "execute_result"
    }
   ],
   "source": [
    "robjects.r.assign('studyOrg', 'hsa')\n",
    "robjects.r('''\n",
    "met_path = met_pathways(df_metenrichment = metenrichment, studyOrg)\n",
    "head(met_path)\n",
    "''')"
   ]
  },
  {
   "cell_type": "markdown",
   "id": "about-complex",
   "metadata": {},
   "source": [
    "### Get pathway enrichment sore.\n",
    "\n",
    "Once we have the pathway information, we can calculate enrichment score of pathways. Again, here i have used hypergeometric score. For hypergeometric score, we need to know the total number of kegg compounds that are linked to kegg pathways. \n",
    "N = total no. of cmpds linked to kegg pathway (this is the step which might take long), so I advice to run the script comp_linkedto_pathways() just the first time or after 6 months or so if desired to run the pipeline again. save the result from comp_linkedto_pathways() and load it. Loading from saved file would save time for another analysis with another study. However the package takes care of loading. Save the data in the data folder.\n",
    "\n",
    "L = No. of cmpds in a pathway\n",
    "M= no. of altered cmpds in a pathway\n",
    "K =  total no. of altered cmpds\n",
    "phyper(M,L, N-L, K)\n",
    "\n",
    "\n",
    "This function also utilizes korg dataset from pathview package."
   ]
  },
  {
   "cell_type": "code",
   "execution_count": 23,
   "id": "entertaining-effort",
   "metadata": {
    "execution": {
     "iopub.execute_input": "2021-03-30T22:34:42.980118Z",
     "iopub.status.busy": "2021-03-30T22:34:42.977288Z",
     "iopub.status.idle": "2021-03-30T22:34:42.983319Z",
     "shell.execute_reply": "2021-03-30T22:34:42.981404Z"
    }
   },
   "outputs": [],
   "source": [
    "#can do enrichment analysis WITH KEGG (TRUE) or without (FALSE)\n",
    "#default is FALSE, but give that option"
   ]
  },
  {
   "cell_type": "code",
   "execution_count": 24,
   "id": "private-greek",
   "metadata": {
    "execution": {
     "iopub.execute_input": "2021-03-30T22:34:42.999212Z",
     "iopub.status.busy": "2021-03-30T22:34:42.995317Z",
     "iopub.status.idle": "2021-03-30T22:34:43.007488Z",
     "shell.execute_reply": "2021-03-30T22:34:43.008572Z"
    }
   },
   "outputs": [
    {
     "data": {
      "text/html": [
       "\n",
       "<emph>StrVector</emph> with 1 elements:\n",
       "<table class=\"rpy2_table\">\n",
       "<thead>\n",
       "</thead>\n",
       "<tbody>\n",
       "<tr>\n",
       "      <td>FALSE</td>\n",
       "</tr>\n",
       "</tbody>\n",
       "</table>"
      ],
      "text/plain": [
       "<rpy2.robjects.vectors.StrVector object at 0x7fb62e030d80> [RTYPES.STRSXP]\n",
       "R classes: ('character',)\n",
       "['FALSE']"
      ]
     },
     "execution_count": 24,
     "metadata": {},
     "output_type": "execute_result"
    }
   ],
   "source": [
    "robjects.r.assign('keggTF', ['FALSE'])\n",
    "robjects.r('''\n",
    "keggTFchar<-as.character(keggTF[1])\n",
    "''')"
   ]
  },
  {
   "cell_type": "code",
   "execution_count": 25,
   "id": "smart-poverty",
   "metadata": {
    "execution": {
     "iopub.execute_input": "2021-03-30T22:34:43.022429Z",
     "iopub.status.busy": "2021-03-30T22:34:43.019163Z",
     "iopub.status.idle": "2021-03-30T22:34:43.275752Z",
     "shell.execute_reply": "2021-03-30T22:34:43.276774Z"
    }
   },
   "outputs": [
    {
     "name": "stderr",
     "output_type": "stream",
     "text": [
      "R[write to console]: Error in readChar(con, 5L, useBytes = TRUE) : cannot open the connection\n",
      "\n"
     ]
    },
    {
     "name": "stderr",
     "output_type": "stream",
     "text": [
      "R[write to console]: In addition: \n"
     ]
    },
    {
     "name": "stderr",
     "output_type": "stream",
     "text": [
      "R[write to console]: Warning messages:\n",
      "\n"
     ]
    },
    {
     "name": "stderr",
     "output_type": "stream",
     "text": [
      "R[write to console]: 1: ggrepel: 45 unlabeled data points (too many overlaps). Consider increasing max.overlaps \n",
      "\n"
     ]
    },
    {
     "name": "stderr",
     "output_type": "stream",
     "text": [
      "R[write to console]: 2: Use of `count_changes[[metclass]]` is discouraged. Use `.data[[metclass]]` instead. \n",
      "\n"
     ]
    },
    {
     "name": "stderr",
     "output_type": "stream",
     "text": [
      "R[write to console]: 3: Use of `count_changes[[metclass]]` is discouraged. Use `.data[[metclass]]` instead. \n",
      "\n"
     ]
    },
    {
     "name": "stderr",
     "output_type": "stream",
     "text": [
      "R[write to console]: 4: Use of `metclass_stats[[metclass]]` is discouraged. Use `.data[[metclass]]` instead. \n",
      "\n"
     ]
    },
    {
     "name": "stderr",
     "output_type": "stream",
     "text": [
      "R[write to console]: 5: Use of `metclass_stats[[enrich_stats]]` is discouraged. Use `.data[[enrich_stats]]` instead. \n",
      "\n"
     ]
    },
    {
     "name": "stderr",
     "output_type": "stream",
     "text": [
      "R[write to console]: 6: Use of `metclass_stats[[enrich_stats]]` is discouraged. Use `.data[[enrich_stats]]` instead. \n",
      "\n"
     ]
    },
    {
     "name": "stderr",
     "output_type": "stream",
     "text": [
      "R[write to console]: 7: \n"
     ]
    },
    {
     "name": "stderr",
     "output_type": "stream",
     "text": [
      "R[write to console]: In readChar(con, 5L, useBytes = TRUE) :\n"
     ]
    },
    {
     "name": "stderr",
     "output_type": "stream",
     "text": [
      "R[write to console]: \n",
      " \n"
     ]
    },
    {
     "name": "stderr",
     "output_type": "stream",
     "text": [
      "R[write to console]:  cannot open compressed file 'KEGGdata/ls_path.RData', probable reason 'No such file or directory'\n",
      "\n"
     ]
    },
    {
     "ename": "RRuntimeError",
     "evalue": "Error in readChar(con, 5L, useBytes = TRUE) : cannot open the connection\n",
     "output_type": "error",
     "traceback": [
      "\u001b[0;31m---------------------------------------------------------------------------\u001b[0m",
      "\u001b[0;31mRRuntimeError\u001b[0m                             Traceback (most recent call last)",
      "\u001b[0;32m<ipython-input-25-359367bc327d>\u001b[0m in \u001b[0;36m<module>\u001b[0;34m\u001b[0m\n\u001b[0;32m----> 1\u001b[0;31m robjects.r('''\n\u001b[0m\u001b[1;32m      2\u001b[0m \u001b[0mload\u001b[0m\u001b[0;34m(\u001b[0m\u001b[0;34m'KEGGdata/ls_path.RData'\u001b[0m\u001b[0;34m)\u001b[0m\u001b[0;34m\u001b[0m\u001b[0;34m\u001b[0m\u001b[0m\n\u001b[1;32m      3\u001b[0m \u001b[0mload\u001b[0m\u001b[0;34m(\u001b[0m\u001b[0;34m'KEGGdata/korg.RData'\u001b[0m\u001b[0;34m)\u001b[0m\u001b[0;34m\u001b[0m\u001b[0;34m\u001b[0m\u001b[0m\n\u001b[1;32m      4\u001b[0m ''')\n",
      "\u001b[0;32m~/anaconda3/lib/python3.8/site-packages/rpy2/robjects/__init__.py\u001b[0m in \u001b[0;36m__call__\u001b[0;34m(self, string)\u001b[0m\n\u001b[1;32m    436\u001b[0m     \u001b[0;32mdef\u001b[0m \u001b[0m__call__\u001b[0m\u001b[0;34m(\u001b[0m\u001b[0mself\u001b[0m\u001b[0;34m,\u001b[0m \u001b[0mstring\u001b[0m\u001b[0;34m)\u001b[0m\u001b[0;34m:\u001b[0m\u001b[0;34m\u001b[0m\u001b[0;34m\u001b[0m\u001b[0m\n\u001b[1;32m    437\u001b[0m         \u001b[0mp\u001b[0m \u001b[0;34m=\u001b[0m \u001b[0mrinterface\u001b[0m\u001b[0;34m.\u001b[0m\u001b[0mparse\u001b[0m\u001b[0;34m(\u001b[0m\u001b[0mstring\u001b[0m\u001b[0;34m)\u001b[0m\u001b[0;34m\u001b[0m\u001b[0;34m\u001b[0m\u001b[0m\n\u001b[0;32m--> 438\u001b[0;31m         \u001b[0mres\u001b[0m \u001b[0;34m=\u001b[0m \u001b[0mself\u001b[0m\u001b[0;34m.\u001b[0m\u001b[0meval\u001b[0m\u001b[0;34m(\u001b[0m\u001b[0mp\u001b[0m\u001b[0;34m)\u001b[0m\u001b[0;34m\u001b[0m\u001b[0;34m\u001b[0m\u001b[0m\n\u001b[0m\u001b[1;32m    439\u001b[0m         \u001b[0;32mreturn\u001b[0m \u001b[0mconversion\u001b[0m\u001b[0;34m.\u001b[0m\u001b[0mrpy2py\u001b[0m\u001b[0;34m(\u001b[0m\u001b[0mres\u001b[0m\u001b[0;34m)\u001b[0m\u001b[0;34m\u001b[0m\u001b[0;34m\u001b[0m\u001b[0m\n\u001b[1;32m    440\u001b[0m \u001b[0;34m\u001b[0m\u001b[0m\n",
      "\u001b[0;32m~/anaconda3/lib/python3.8/site-packages/rpy2/robjects/functions.py\u001b[0m in \u001b[0;36m__call__\u001b[0;34m(self, *args, **kwargs)\u001b[0m\n\u001b[1;32m    196\u001b[0m                 \u001b[0mv\u001b[0m \u001b[0;34m=\u001b[0m \u001b[0mkwargs\u001b[0m\u001b[0;34m.\u001b[0m\u001b[0mpop\u001b[0m\u001b[0;34m(\u001b[0m\u001b[0mk\u001b[0m\u001b[0;34m)\u001b[0m\u001b[0;34m\u001b[0m\u001b[0;34m\u001b[0m\u001b[0m\n\u001b[1;32m    197\u001b[0m                 \u001b[0mkwargs\u001b[0m\u001b[0;34m[\u001b[0m\u001b[0mr_k\u001b[0m\u001b[0;34m]\u001b[0m \u001b[0;34m=\u001b[0m \u001b[0mv\u001b[0m\u001b[0;34m\u001b[0m\u001b[0;34m\u001b[0m\u001b[0m\n\u001b[0;32m--> 198\u001b[0;31m         return (super(SignatureTranslatedFunction, self)\n\u001b[0m\u001b[1;32m    199\u001b[0m                 .__call__(*args, **kwargs))\n\u001b[1;32m    200\u001b[0m \u001b[0;34m\u001b[0m\u001b[0m\n",
      "\u001b[0;32m~/anaconda3/lib/python3.8/site-packages/rpy2/robjects/functions.py\u001b[0m in \u001b[0;36m__call__\u001b[0;34m(self, *args, **kwargs)\u001b[0m\n\u001b[1;32m    123\u001b[0m             \u001b[0;32melse\u001b[0m\u001b[0;34m:\u001b[0m\u001b[0;34m\u001b[0m\u001b[0;34m\u001b[0m\u001b[0m\n\u001b[1;32m    124\u001b[0m                 \u001b[0mnew_kwargs\u001b[0m\u001b[0;34m[\u001b[0m\u001b[0mk\u001b[0m\u001b[0;34m]\u001b[0m \u001b[0;34m=\u001b[0m \u001b[0mconversion\u001b[0m\u001b[0;34m.\u001b[0m\u001b[0mpy2rpy\u001b[0m\u001b[0;34m(\u001b[0m\u001b[0mv\u001b[0m\u001b[0;34m)\u001b[0m\u001b[0;34m\u001b[0m\u001b[0;34m\u001b[0m\u001b[0m\n\u001b[0;32m--> 125\u001b[0;31m         \u001b[0mres\u001b[0m \u001b[0;34m=\u001b[0m \u001b[0msuper\u001b[0m\u001b[0;34m(\u001b[0m\u001b[0mFunction\u001b[0m\u001b[0;34m,\u001b[0m \u001b[0mself\u001b[0m\u001b[0;34m)\u001b[0m\u001b[0;34m.\u001b[0m\u001b[0m__call__\u001b[0m\u001b[0;34m(\u001b[0m\u001b[0;34m*\u001b[0m\u001b[0mnew_args\u001b[0m\u001b[0;34m,\u001b[0m \u001b[0;34m**\u001b[0m\u001b[0mnew_kwargs\u001b[0m\u001b[0;34m)\u001b[0m\u001b[0;34m\u001b[0m\u001b[0;34m\u001b[0m\u001b[0m\n\u001b[0m\u001b[1;32m    126\u001b[0m         \u001b[0mres\u001b[0m \u001b[0;34m=\u001b[0m \u001b[0mconversion\u001b[0m\u001b[0;34m.\u001b[0m\u001b[0mrpy2py\u001b[0m\u001b[0;34m(\u001b[0m\u001b[0mres\u001b[0m\u001b[0;34m)\u001b[0m\u001b[0;34m\u001b[0m\u001b[0;34m\u001b[0m\u001b[0m\n\u001b[1;32m    127\u001b[0m         \u001b[0;32mreturn\u001b[0m \u001b[0mres\u001b[0m\u001b[0;34m\u001b[0m\u001b[0;34m\u001b[0m\u001b[0m\n",
      "\u001b[0;32m~/anaconda3/lib/python3.8/site-packages/rpy2/rinterface_lib/conversion.py\u001b[0m in \u001b[0;36m_\u001b[0;34m(*args, **kwargs)\u001b[0m\n\u001b[1;32m     43\u001b[0m \u001b[0;32mdef\u001b[0m \u001b[0m_cdata_res_to_rinterface\u001b[0m\u001b[0;34m(\u001b[0m\u001b[0mfunction\u001b[0m\u001b[0;34m)\u001b[0m\u001b[0;34m:\u001b[0m\u001b[0;34m\u001b[0m\u001b[0;34m\u001b[0m\u001b[0m\n\u001b[1;32m     44\u001b[0m     \u001b[0;32mdef\u001b[0m \u001b[0m_\u001b[0m\u001b[0;34m(\u001b[0m\u001b[0;34m*\u001b[0m\u001b[0margs\u001b[0m\u001b[0;34m,\u001b[0m \u001b[0;34m**\u001b[0m\u001b[0mkwargs\u001b[0m\u001b[0;34m)\u001b[0m\u001b[0;34m:\u001b[0m\u001b[0;34m\u001b[0m\u001b[0;34m\u001b[0m\u001b[0m\n\u001b[0;32m---> 45\u001b[0;31m         \u001b[0mcdata\u001b[0m \u001b[0;34m=\u001b[0m \u001b[0mfunction\u001b[0m\u001b[0;34m(\u001b[0m\u001b[0;34m*\u001b[0m\u001b[0margs\u001b[0m\u001b[0;34m,\u001b[0m \u001b[0;34m**\u001b[0m\u001b[0mkwargs\u001b[0m\u001b[0;34m)\u001b[0m\u001b[0;34m\u001b[0m\u001b[0;34m\u001b[0m\u001b[0m\n\u001b[0m\u001b[1;32m     46\u001b[0m         \u001b[0;31m# TODO: test cdata is of the expected CType\u001b[0m\u001b[0;34m\u001b[0m\u001b[0;34m\u001b[0m\u001b[0;34m\u001b[0m\u001b[0m\n\u001b[1;32m     47\u001b[0m         \u001b[0;32mreturn\u001b[0m \u001b[0m_cdata_to_rinterface\u001b[0m\u001b[0;34m(\u001b[0m\u001b[0mcdata\u001b[0m\u001b[0;34m)\u001b[0m\u001b[0;34m\u001b[0m\u001b[0;34m\u001b[0m\u001b[0m\n",
      "\u001b[0;32m~/anaconda3/lib/python3.8/site-packages/rpy2/rinterface.py\u001b[0m in \u001b[0;36m__call__\u001b[0;34m(self, *args, **kwargs)\u001b[0m\n\u001b[1;32m    675\u001b[0m             )\n\u001b[1;32m    676\u001b[0m             \u001b[0;32mif\u001b[0m \u001b[0merror_occured\u001b[0m\u001b[0;34m[\u001b[0m\u001b[0;36m0\u001b[0m\u001b[0;34m]\u001b[0m\u001b[0;34m:\u001b[0m\u001b[0;34m\u001b[0m\u001b[0;34m\u001b[0m\u001b[0m\n\u001b[0;32m--> 677\u001b[0;31m                 \u001b[0;32mraise\u001b[0m \u001b[0membedded\u001b[0m\u001b[0;34m.\u001b[0m\u001b[0mRRuntimeError\u001b[0m\u001b[0;34m(\u001b[0m\u001b[0m_rinterface\u001b[0m\u001b[0;34m.\u001b[0m\u001b[0m_geterrmessage\u001b[0m\u001b[0;34m(\u001b[0m\u001b[0;34m)\u001b[0m\u001b[0;34m)\u001b[0m\u001b[0;34m\u001b[0m\u001b[0;34m\u001b[0m\u001b[0m\n\u001b[0m\u001b[1;32m    678\u001b[0m         \u001b[0;32mreturn\u001b[0m \u001b[0mres\u001b[0m\u001b[0;34m\u001b[0m\u001b[0;34m\u001b[0m\u001b[0m\n\u001b[1;32m    679\u001b[0m \u001b[0;34m\u001b[0m\u001b[0m\n",
      "\u001b[0;31mRRuntimeError\u001b[0m: Error in readChar(con, 5L, useBytes = TRUE) : cannot open the connection\n"
     ]
    }
   ],
   "source": [
    "robjects.r('''\n",
    "load('KEGGdata/ls_path.RData')\n",
    "load('KEGGdata/korg.RData')\n",
    "''')"
   ]
  },
  {
   "cell_type": "code",
   "execution_count": null,
   "id": "tropical-alaska",
   "metadata": {},
   "outputs": [],
   "source": [
    "robjects.r('''\n",
    "kegg_es = path_enrichmentscore(met_path,sig_metabolite_kegg_id=sig_metabolite_kegg_id,ls_path=ls_path,refmet_class=refmet_class,sps=studyOrg,padj=padjchar, kegg_comp_path=keggTFchar)\n",
    "head(kegg_es)\n",
    "''')"
   ]
  },
  {
   "cell_type": "markdown",
   "id": "analyzed-vertical",
   "metadata": {},
   "source": [
    "### Plot pathway network\n",
    "Only plotting significant pathways (pathway with p-value significance).\n",
    "\n",
    "The pathway network is such that it shows metabolites that are connected to different pathways and same metabolite in different pathway. Color of nodes of metabolites are according to the fold change of metabolites (low expression in green and high in red) and size of pathway nodes (square nodes) are according to the number of branches (meaning no of metabolites). All metabolite are written in blue"
   ]
  },
  {
   "cell_type": "code",
   "execution_count": null,
   "id": "random-aside",
   "metadata": {},
   "outputs": [],
   "source": [
    "image_png(robjects.r('''\n",
    "plot_pathway_networks (met_path,kegg_es, TRUE)\n",
    "'''))"
   ]
  },
  {
   "cell_type": "markdown",
   "id": "revolutionary-rogers",
   "metadata": {},
   "source": [
    "### Heatmap"
   ]
  },
  {
   "cell_type": "code",
   "execution_count": null,
   "id": "opposite-african",
   "metadata": {},
   "outputs": [],
   "source": [
    "robjects.r.assign('x_size_heat', 8)\n",
    "robjects.r.assign('y_size_heat', 6)"
   ]
  },
  {
   "cell_type": "code",
   "execution_count": null,
   "id": "integral-israeli",
   "metadata": {},
   "outputs": [],
   "source": [
    "image_png(robjects.r('''\n",
    "plot_heatmap(met_path, shorten_name=TRUE,refmet_name=FALSE, xaxis=x_size_heat, yaxis=y_size_heat)\n",
    "'''))"
   ]
  },
  {
   "cell_type": "markdown",
   "id": "capital-cincinnati",
   "metadata": {},
   "source": [
    "### Dotplot"
   ]
  },
  {
   "cell_type": "code",
   "execution_count": null,
   "id": "senior-geometry",
   "metadata": {},
   "outputs": [],
   "source": [
    "robjects.r.assign('x_size_dot', 8)\n",
    "robjects.r.assign('y_size_dot', 6)"
   ]
  },
  {
   "cell_type": "code",
   "execution_count": null,
   "id": "amateur-completion",
   "metadata": {},
   "outputs": [],
   "source": [
    "image_png(robjects.r('''\n",
    "dotplot_met_class_path (met_path, kegg_es, metclassvar,xaxis=x_size_dot,yaxis=y_size_dot)\n",
    "'''))"
   ]
  },
  {
   "cell_type": "markdown",
   "id": "outdoor-irrigation",
   "metadata": {},
   "source": [
    "### Get the gene and enzyme info\n",
    "\n",
    "Here we get the information of genes involved in enriched pathways for specified organism"
   ]
  },
  {
   "cell_type": "code",
   "execution_count": null,
   "id": "cultural-empire",
   "metadata": {},
   "outputs": [],
   "source": [
    "robjects.r('''\n",
    "met_gene_info = enzyme_gene_info (metenrichment, studyOrg, metclassvar)\n",
    "head(met_gene_info)\n",
    "''')"
   ]
  },
  {
   "cell_type": "markdown",
   "id": "baking-madison",
   "metadata": {},
   "source": [
    "#### Get the information if metabolite is a reactant or substrate"
   ]
  },
  {
   "cell_type": "code",
   "execution_count": null,
   "id": "uniform-substitute",
   "metadata": {},
   "outputs": [],
   "source": [
    "robjects.r('''\n",
    "rclass_info = react_substrate(met_gene_info)\n",
    "head(rclass_info)\n",
    "''')"
   ]
  },
  {
   "cell_type": "markdown",
   "id": "nominated-cruise",
   "metadata": {},
   "source": [
    "#### Get gene info in short form"
   ]
  },
  {
   "cell_type": "code",
   "execution_count": null,
   "id": "north-calcium",
   "metadata": {},
   "outputs": [],
   "source": [
    "robjects.r('''\n",
    "met_gene_info2=data.table::data.table(rclass_info)[,lapply(.SD, function(x) toString(unique(x))), by = 'Metabolite']\n",
    "''')"
   ]
  },
  {
   "cell_type": "code",
   "execution_count": null,
   "id": "adverse-beatles",
   "metadata": {},
   "outputs": [],
   "source": []
  }
 ],
 "metadata": {
  "appyter": {
   "nbconstruct": {
    "filename": "MetENP_Appyter_2.ipynb",
    "files": {},
    "version": "0.12.3"
   },
   "nbexecute": {
    "completed": "2021-03-30T15:34:45.179648+00:00",
    "files": {},
    "started": "2021-03-30T15:33:48.911023+00:00",
    "version": "0.12.3"
   }
  },
  "kernelspec": {
   "display_name": "my-first-appyter",
   "language": "python",
   "name": "my-first-appyter"
  },
  "language_info": {
   "codemirror_mode": {
    "name": "ipython",
    "version": 3
   },
   "file_extension": ".py",
   "mimetype": "text/x-python",
   "name": "python",
   "nbconvert_exporter": "python",
   "pygments_lexer": "ipython3",
   "version": "3.8.5"
  }
 },
 "nbformat": 4,
 "nbformat_minor": 5
}
