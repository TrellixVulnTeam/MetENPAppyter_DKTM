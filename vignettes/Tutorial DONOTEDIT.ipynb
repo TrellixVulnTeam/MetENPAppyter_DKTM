{
 "cells": [
  {
   "cell_type": "code",
   "execution_count": 2,
   "id": "random-heavy",
   "metadata": {},
   "outputs": [],
   "source": [
    "#%%appyter init\n",
    "from appyter import magic\n",
    "magic.init(lambda _=globals: _())"
   ]
  },
  {
   "cell_type": "code",
   "execution_count": 1,
   "id": "civilian-dragon",
   "metadata": {},
   "outputs": [
    {
     "name": "stdout",
     "output_type": "stream",
     "text": [
      "3.4.2\n"
     ]
    },
    {
     "data": {
      "text/plain": [
       "3.141592653589793"
      ]
     },
     "execution_count": 1,
     "metadata": {},
     "output_type": "execute_result"
    }
   ],
   "source": [
    "import rpy2\n",
    "print(rpy2.__version__)\n",
    "\n",
    "import rpy2.robjects as robjects\n",
    "\n",
    "import rpy2.robjects.packages as rpackages\n",
    "\n",
    "pi = robjects.r['pi']\n",
    "pi[0]\n",
    "\n"
   ]
  },
  {
   "cell_type": "code",
   "execution_count": 5,
   "id": "medium-edmonton",
   "metadata": {},
   "outputs": [
    {
     "data": {
      "text/markdown": [
       "```python\n",
       "num1 = 1\n",
       "num2 = 1\n",
       "print(num1+num2)\n",
       "```"
      ],
      "text/plain": [
       "<IPython.core.display.Markdown object>"
      ]
     },
     "metadata": {},
     "output_type": "display_data"
    },
    {
     "name": "stdout",
     "output_type": "stream",
     "text": [
      "2\n"
     ]
    }
   ],
   "source": [
    "%%appyter hide_code\n",
    "{% do SectionField(\n",
    "    name='INPUT',\n",
    "    title='Input Datasets',\n",
    "    subtitle='Add your datasets here',\n",
    ")%}\n",
    "{% do SectionField(\n",
    "    name='SIGM',\n",
    "    title='Find Significant Metabolites',\n",
    "    subtitle='Run significance of all the analysis summary together',\n",
    ")%}\n",
    "{% do SectionField(\n",
    "    name='COUNTCLASS',\n",
    "    title='Count Metabolites by Class',\n",
    "    subtitle='Count the metabolites of each class',\n",
    ")%}\n",
    "{% do SectionField(\n",
    "    name='ENRICH',\n",
    "    title='Enrichment Score by Class',\n",
    "    subtitle='Calculate the enrichment score of each metabolite class',\n",
    ")%}\n",
    "{% do SectionField(\n",
    "    name='HEAT',\n",
    "    title='Heatmap',\n",
    "    subtitle='Heatmap of metabolites x enriched pathways',\n",
    ")%}\n",
    "{% do SectionField(\n",
    "    name='DOT',\n",
    "    title='Dotplot',\n",
    "    subtitle='Plot a dotplot of enrichment by class',\n",
    ")%}"
   ]
  },
  {
   "cell_type": "code",
   "execution_count": 6,
   "id": "technical-bracelet",
   "metadata": {},
   "outputs": [],
   "source": [
    "%%appyter code_eval\n",
    "\n",
    "typedata = {{ MultiChoiceField(\n",
    "    name='typedata',\n",
    "    label='Select Type of Data',\n",
    "    description='Select factors for metadata, data for metabomics data, and metalolites for metabolite info',\n",
    "    default=[\n",
    "        'factors',\n",
    "    ],\n",
    "    choices=[\n",
    "        'factors',\n",
    "        'data',\n",
    "    ],\n",
    "    section='INPUT'\n",
    ")}}\n",
    "typedata"
   ]
  },
  {
   "cell_type": "code",
   "execution_count": 7,
   "id": "greek-fantasy",
   "metadata": {},
   "outputs": [
    {
     "data": {
      "text/markdown": [
       "```python\n",
       "attribute_datasets = ['CCLE Cell Line Gene Expression Profiles', 'ENCODE transcription Factor Targets']\n",
       "attribute_datasets\n",
       "```"
      ],
      "text/plain": [
       "<IPython.core.display.Markdown object>"
      ]
     },
     "metadata": {},
     "output_type": "display_data"
    },
    {
     "data": {
      "text/plain": [
       "['CCLE Cell Line Gene Expression Profiles',\n",
       " 'ENCODE transcription Factor Targets']"
      ]
     },
     "metadata": {},
     "output_type": "display_data"
    }
   ],
   "source": [
    "%%appyter code_eval \n",
    "\n",
    "studyID = {{ StringField(name='studyID', label='DatasetID', description = \"Type your datasetID here\", default='ST000915', section='INPUT') }}\n",
    "studyID"
   ]
  },
  {
   "cell_type": "code",
   "execution_count": null,
   "id": "crude-recognition",
   "metadata": {},
   "outputs": [],
   "source": [
    "%%appyter code_eval \n",
    "\n",
    "studyOrg = {{ StringField(name='studyOrg', label='KEGG Organism Code', description = \"hsa for human, mmu for mouse, eco for E. coli. See https://www.genome.jp/kegg/catalog/org_list.html for all organisms\", default='hsa', section='INPUT') }}\n",
    "studyOrg"
   ]
  },
  {
   "cell_type": "code",
   "execution_count": 8,
   "id": "creative-information",
   "metadata": {},
   "outputs": [
    {
     "data": {
      "text/markdown": [
       "```python\n",
       "\n",
       "'ST001304'\n",
       "```"
      ],
      "text/plain": [
       "<IPython.core.display.Markdown object>"
      ]
     },
     "metadata": {},
     "output_type": "display_data"
    },
    {
     "data": {
      "text/plain": [
       "'ST001304'"
      ]
     },
     "metadata": {},
     "output_type": "display_data"
    }
   ],
   "source": [
    "%%appyter code_eval\n",
    "\n",
    "countclass = {{ MultiChoiceField(\n",
    "    name='countclass',\n",
    "    label='Select Class Type',\n",
    "    description='Choose between sub_class, main_class and super_class',\n",
    "    default=[\n",
    "        'sub_class',\n",
    "    ],\n",
    "    choices=[\n",
    "        'sub_class',\n",
    "        'main_class',\n",
    "        'super_class',\n",
    "    ],\n",
    "    section='INPUT'\n",
    ")}}\n",
    "countclass"
   ]
  },
  {
   "cell_type": "code",
   "execution_count": 9,
   "id": "common-conversion",
   "metadata": {},
   "outputs": [
    {
     "data": {
      "text/markdown": [
       "```python\n",
       "typedata = []\n",
       "typedata\n",
       "```"
      ],
      "text/plain": [
       "<IPython.core.display.Markdown object>"
      ]
     },
     "metadata": {},
     "output_type": "display_data"
    },
    {
     "data": {
      "text/plain": [
       "[]"
      ]
     },
     "metadata": {},
     "output_type": "display_data"
    }
   ],
   "source": [
    "typedata = ['data']\n",
    "studyOrg = \"hsa\"\n",
    "studyID = \"ST000915\"\n",
    "\n",
    "robjects.r('''\n",
    "\n",
    "library(MetENP)\n",
    "\n",
    "data = getmwstudies(studyID, typedata[0])\n",
    "\n",
    "\n",
    "''')"
   ]
  },
  {
   "cell_type": "code",
   "execution_count": null,
   "id": "selected-shareware",
   "metadata": {},
   "outputs": [],
   "source": [
    "%%appyter code_eval\n",
    "\n",
    "normtype = {{ MultiChoiceField(\n",
    "    name='normtype',\n",
    "    label='Select Type of Normalization',\n",
    "    description='Select 1. half_of_min: where the NAs are replaced by half of min values in the data, 2. remove_NAs: where Cols with NAs values are removed, or 3. 50percent: where cols with more than 50% NAs values are removed',\n",
    "    default=[\n",
    "        '50percent',\n",
    "    ],\n",
    "    choices=[\n",
    "        'half_of_min',\n",
    "        'remove_NAs',\n",
    "        '50percent',\n",
    "    ],\n",
    "    section='SIGM'\n",
    ")}}\n",
    "normtype"
   ]
  },
  {
   "cell_type": "code",
   "execution_count": null,
   "id": "clear-garden",
   "metadata": {},
   "outputs": [],
   "source": [
    "%%appyter code_eval\n",
    "\n",
    "pthres = {{ StringField(\n",
    "    name = 'pth',\n",
    "    label = 'P-Value Threshhold',\n",
    "    description= \"For Volcano Plot. Float between 0 and 1.\",\n",
    "    default='0.05',\n",
    "    section='SIGM'\n",
    ") }}\n",
    "pthres = float(pthres)\n",
    "pthres"
   ]
  },
  {
   "cell_type": "code",
   "execution_count": null,
   "id": "sharp-amplifier",
   "metadata": {},
   "outputs": [],
   "source": [
    "%%appyter code_eval\n",
    "\n",
    "thres_log2foldchange = {{ StringField(\n",
    "    name = 'tres_log2foldchange',\n",
    "    label = 'Log2FoldChange Threshhold',\n",
    "    description= \"For Volcano Plot. Float between 0 and 1.\",\n",
    "    default='0.5',\n",
    "    section='SIGM'\n",
    ") }}\n",
    "thres_log2foldchange = float(thres_log2foldchange)\n",
    "thres_log2foldchange"
   ]
  },
  {
   "cell_type": "code",
   "execution_count": null,
   "id": "equal-norway",
   "metadata": {},
   "outputs": [],
   "source": [
    "%%appyter code_eval\n",
    "\n",
    "thres_log2foldchange_countclass = {{ StringField(\n",
    "    name = 'tres_log2foldchange_countclass',\n",
    "    label = 'Log2FoldChange Threshhold',\n",
    "    description= \"Float between 0 and 1.\",\n",
    "    default='0.5',\n",
    "    section='COUNTCLASS'\n",
    ") }}\n",
    "thres_log2foldchange_countclass = float(thres_log2foldchange_countclass)\n",
    "thres_log2foldchange_countclass"
   ]
  },
  {
   "cell_type": "code",
   "execution_count": null,
   "id": "metric-stretch",
   "metadata": {},
   "outputs": [],
   "source": [
    "%%appyter code_eval\n",
    "\n",
    "sigmets = {{ IntField(\n",
    "    name = 'sigmets',\n",
    "    label = 'Number of Significant Metabolites per Class',\n",
    "    description= \"Number of significant metabolies in a class; suggested to be 3 or more.\",\n",
    "    default=3,\n",
    "    section = 'ENRICH'\n",
    ") }}\n",
    "sigmets"
   ]
  },
  {
   "cell_type": "code",
   "execution_count": null,
   "id": "married-armor",
   "metadata": {},
   "outputs": [],
   "source": [
    "%%appyter code_eval\n",
    "\n",
    "x_size_heat = {{ IntField(\n",
    "    name = 'x_size',\n",
    "    label = 'Font Size for X',\n",
    "    description= \"To change the size of the heatmap\",\n",
    "    default=8,\n",
    "    section = 'HEAT'\n",
    ") }}\n",
    "x_size_heat"
   ]
  },
  {
   "cell_type": "code",
   "execution_count": null,
   "id": "fresh-rally",
   "metadata": {},
   "outputs": [],
   "source": [
    "%%appyter code_eval\n",
    "\n",
    "y_size_heat = {{ IntField(\n",
    "    name = 'y_size_heat',\n",
    "    label = 'Font Size for Y',\n",
    "    description= \"To change the size of the heatmap\",\n",
    "    default=6,\n",
    "    section = 'HEAT'\n",
    ") }}\n",
    "y_size_heat"
   ]
  },
  {
   "cell_type": "code",
   "execution_count": null,
   "id": "powered-shape",
   "metadata": {},
   "outputs": [],
   "source": []
  },
  {
   "cell_type": "code",
   "execution_count": null,
   "id": "material-tutorial",
   "metadata": {},
   "outputs": [],
   "source": []
  }
 ],
 "metadata": {
  "kernelspec": {
   "display_name": "my-first-appyter",
   "language": "python",
   "name": "my-first-appyter"
  },
  "language_info": {
   "codemirror_mode": {
    "name": "ipython",
    "version": 3
   },
   "file_extension": ".py",
   "mimetype": "text/x-python",
   "name": "python",
   "nbconvert_exporter": "python",
   "pygments_lexer": "ipython3",
   "version": "3.8.5"
  }
 },
 "nbformat": 4,
 "nbformat_minor": 5
}
